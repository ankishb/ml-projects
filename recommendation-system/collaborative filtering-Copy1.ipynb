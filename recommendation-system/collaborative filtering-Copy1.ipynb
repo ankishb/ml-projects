{
 "cells": [
  {
   "cell_type": "code",
   "execution_count": 1,
   "metadata": {},
   "outputs": [
    {
     "name": "stderr",
     "output_type": "stream",
     "text": [
      "Using TensorFlow backend.\n"
     ]
    }
   ],
   "source": [
    "from tensorflow import keras\n",
    "from keras.models import Model\n",
    "from keras.layers import Input, Activation, Dense, Dropout\n",
    "from keras.layers import concatenate\n"
   ]
  },
  {
   "cell_type": "code",
   "execution_count": 2,
   "metadata": {},
   "outputs": [],
   "source": [
    "import pandas as pd\n",
    "import numpy as np\n",
    "import matplotlib.pyplot as plt\n",
    "%matplotlib inline"
   ]
  },
  {
   "cell_type": "code",
   "execution_count": 3,
   "metadata": {},
   "outputs": [
    {
     "data": {
      "text/plain": [
       "((155295, 3), (66555, 3))"
      ]
     },
     "execution_count": 3,
     "metadata": {},
     "output_type": "execute_result"
    }
   ],
   "source": [
    "results = pd.read_csv('data/train/train_submissions.csv')\n",
    "test = pd.read_csv('data/test_submissions_NeDLEvX.csv')\n",
    "results.shape, test.shape"
   ]
  },
  {
   "cell_type": "code",
   "execution_count": 4,
   "metadata": {},
   "outputs": [
    {
     "data": {
      "text/plain": [
       "(3529, 5776)"
      ]
     },
     "execution_count": 4,
     "metadata": {},
     "output_type": "execute_result"
    }
   ],
   "source": [
    "len(results['user_id'].unique()),len(results['problem_id'].unique())"
   ]
  },
  {
   "cell_type": "code",
   "execution_count": 5,
   "metadata": {},
   "outputs": [],
   "source": [
    "rating = results.pivot_table(\n",
    "            values='attempts_range', index='user_id', columns='problem_id',\n",
    "            fill_value=0, aggfunc=[np.abs])"
   ]
  },
  {
   "cell_type": "code",
   "execution_count": 6,
   "metadata": {},
   "outputs": [
    {
     "data": {
      "text/html": [
       "<div>\n",
       "<style scoped>\n",
       "    .dataframe tbody tr th:only-of-type {\n",
       "        vertical-align: middle;\n",
       "    }\n",
       "\n",
       "    .dataframe tbody tr th {\n",
       "        vertical-align: top;\n",
       "    }\n",
       "\n",
       "    .dataframe thead tr th {\n",
       "        text-align: left;\n",
       "    }\n",
       "\n",
       "    .dataframe thead tr:last-of-type th {\n",
       "        text-align: right;\n",
       "    }\n",
       "</style>\n",
       "<table border=\"1\" class=\"dataframe\">\n",
       "  <thead>\n",
       "    <tr>\n",
       "      <th></th>\n",
       "      <th colspan=\"21\" halign=\"left\">absolute</th>\n",
       "    </tr>\n",
       "    <tr>\n",
       "      <th>problem_id</th>\n",
       "      <th>prob_1</th>\n",
       "      <th>prob_10</th>\n",
       "      <th>prob_100</th>\n",
       "      <th>prob_1000</th>\n",
       "      <th>prob_1001</th>\n",
       "      <th>prob_1002</th>\n",
       "      <th>prob_1003</th>\n",
       "      <th>prob_1004</th>\n",
       "      <th>prob_1005</th>\n",
       "      <th>prob_1006</th>\n",
       "      <th>...</th>\n",
       "      <th>prob_990</th>\n",
       "      <th>prob_991</th>\n",
       "      <th>prob_992</th>\n",
       "      <th>prob_993</th>\n",
       "      <th>prob_994</th>\n",
       "      <th>prob_995</th>\n",
       "      <th>prob_996</th>\n",
       "      <th>prob_997</th>\n",
       "      <th>prob_998</th>\n",
       "      <th>prob_999</th>\n",
       "    </tr>\n",
       "    <tr>\n",
       "      <th>user_id</th>\n",
       "      <th></th>\n",
       "      <th></th>\n",
       "      <th></th>\n",
       "      <th></th>\n",
       "      <th></th>\n",
       "      <th></th>\n",
       "      <th></th>\n",
       "      <th></th>\n",
       "      <th></th>\n",
       "      <th></th>\n",
       "      <th></th>\n",
       "      <th></th>\n",
       "      <th></th>\n",
       "      <th></th>\n",
       "      <th></th>\n",
       "      <th></th>\n",
       "      <th></th>\n",
       "      <th></th>\n",
       "      <th></th>\n",
       "      <th></th>\n",
       "      <th></th>\n",
       "    </tr>\n",
       "  </thead>\n",
       "  <tbody>\n",
       "    <tr>\n",
       "      <th>user_1</th>\n",
       "      <td>0</td>\n",
       "      <td>0</td>\n",
       "      <td>0</td>\n",
       "      <td>0</td>\n",
       "      <td>0</td>\n",
       "      <td>0</td>\n",
       "      <td>0</td>\n",
       "      <td>0</td>\n",
       "      <td>0</td>\n",
       "      <td>0</td>\n",
       "      <td>...</td>\n",
       "      <td>0</td>\n",
       "      <td>0</td>\n",
       "      <td>0</td>\n",
       "      <td>0</td>\n",
       "      <td>0</td>\n",
       "      <td>0</td>\n",
       "      <td>0</td>\n",
       "      <td>0</td>\n",
       "      <td>0</td>\n",
       "      <td>0</td>\n",
       "    </tr>\n",
       "    <tr>\n",
       "      <th>user_10</th>\n",
       "      <td>0</td>\n",
       "      <td>0</td>\n",
       "      <td>0</td>\n",
       "      <td>0</td>\n",
       "      <td>0</td>\n",
       "      <td>0</td>\n",
       "      <td>0</td>\n",
       "      <td>0</td>\n",
       "      <td>0</td>\n",
       "      <td>0</td>\n",
       "      <td>...</td>\n",
       "      <td>0</td>\n",
       "      <td>0</td>\n",
       "      <td>0</td>\n",
       "      <td>0</td>\n",
       "      <td>0</td>\n",
       "      <td>0</td>\n",
       "      <td>0</td>\n",
       "      <td>0</td>\n",
       "      <td>0</td>\n",
       "      <td>0</td>\n",
       "    </tr>\n",
       "    <tr>\n",
       "      <th>user_100</th>\n",
       "      <td>0</td>\n",
       "      <td>0</td>\n",
       "      <td>0</td>\n",
       "      <td>0</td>\n",
       "      <td>0</td>\n",
       "      <td>0</td>\n",
       "      <td>0</td>\n",
       "      <td>0</td>\n",
       "      <td>0</td>\n",
       "      <td>0</td>\n",
       "      <td>...</td>\n",
       "      <td>0</td>\n",
       "      <td>0</td>\n",
       "      <td>0</td>\n",
       "      <td>0</td>\n",
       "      <td>0</td>\n",
       "      <td>0</td>\n",
       "      <td>0</td>\n",
       "      <td>0</td>\n",
       "      <td>0</td>\n",
       "      <td>0</td>\n",
       "    </tr>\n",
       "    <tr>\n",
       "      <th>user_1000</th>\n",
       "      <td>0</td>\n",
       "      <td>0</td>\n",
       "      <td>0</td>\n",
       "      <td>1</td>\n",
       "      <td>0</td>\n",
       "      <td>0</td>\n",
       "      <td>0</td>\n",
       "      <td>0</td>\n",
       "      <td>0</td>\n",
       "      <td>0</td>\n",
       "      <td>...</td>\n",
       "      <td>0</td>\n",
       "      <td>0</td>\n",
       "      <td>0</td>\n",
       "      <td>0</td>\n",
       "      <td>0</td>\n",
       "      <td>0</td>\n",
       "      <td>0</td>\n",
       "      <td>0</td>\n",
       "      <td>0</td>\n",
       "      <td>0</td>\n",
       "    </tr>\n",
       "    <tr>\n",
       "      <th>user_1001</th>\n",
       "      <td>0</td>\n",
       "      <td>0</td>\n",
       "      <td>0</td>\n",
       "      <td>0</td>\n",
       "      <td>0</td>\n",
       "      <td>0</td>\n",
       "      <td>0</td>\n",
       "      <td>0</td>\n",
       "      <td>0</td>\n",
       "      <td>0</td>\n",
       "      <td>...</td>\n",
       "      <td>0</td>\n",
       "      <td>0</td>\n",
       "      <td>0</td>\n",
       "      <td>0</td>\n",
       "      <td>0</td>\n",
       "      <td>0</td>\n",
       "      <td>0</td>\n",
       "      <td>0</td>\n",
       "      <td>0</td>\n",
       "      <td>0</td>\n",
       "    </tr>\n",
       "  </tbody>\n",
       "</table>\n",
       "<p>5 rows × 5776 columns</p>\n",
       "</div>"
      ],
      "text/plain": [
       "           absolute                                                           \\\n",
       "problem_id   prob_1 prob_10 prob_100 prob_1000 prob_1001 prob_1002 prob_1003   \n",
       "user_id                                                                        \n",
       "user_1            0       0        0         0         0         0         0   \n",
       "user_10           0       0        0         0         0         0         0   \n",
       "user_100          0       0        0         0         0         0         0   \n",
       "user_1000         0       0        0         1         0         0         0   \n",
       "user_1001         0       0        0         0         0         0         0   \n",
       "\n",
       "                                           ...                                \\\n",
       "problem_id prob_1004 prob_1005 prob_1006   ...    prob_990 prob_991 prob_992   \n",
       "user_id                                    ...                                 \n",
       "user_1             0         0         0   ...           0        0        0   \n",
       "user_10            0         0         0   ...           0        0        0   \n",
       "user_100           0         0         0   ...           0        0        0   \n",
       "user_1000          0         0         0   ...           0        0        0   \n",
       "user_1001          0         0         0   ...           0        0        0   \n",
       "\n",
       "                                                                           \n",
       "problem_id prob_993 prob_994 prob_995 prob_996 prob_997 prob_998 prob_999  \n",
       "user_id                                                                    \n",
       "user_1            0        0        0        0        0        0        0  \n",
       "user_10           0        0        0        0        0        0        0  \n",
       "user_100          0        0        0        0        0        0        0  \n",
       "user_1000         0        0        0        0        0        0        0  \n",
       "user_1001         0        0        0        0        0        0        0  \n",
       "\n",
       "[5 rows x 5776 columns]"
      ]
     },
     "execution_count": 6,
     "metadata": {},
     "output_type": "execute_result"
    }
   ],
   "source": [
    "rating.head()"
   ]
  },
  {
   "cell_type": "code",
   "execution_count": 7,
   "metadata": {},
   "outputs": [
    {
     "data": {
      "text/plain": [
       "(3529, 5776)"
      ]
     },
     "execution_count": 7,
     "metadata": {},
     "output_type": "execute_result"
    }
   ],
   "source": [
    "rating.shape"
   ]
  },
  {
   "cell_type": "code",
   "execution_count": 8,
   "metadata": {},
   "outputs": [],
   "source": [
    "from sklearn.model_selection import train_test_split\n",
    "train_X,valid_X = train_test_split(rating, test_size=0.1,random_state=13)"
   ]
  },
  {
   "cell_type": "code",
   "execution_count": 9,
   "metadata": {},
   "outputs": [
    {
     "data": {
      "text/plain": [
       "((3176, 5776), (353, 5776))"
      ]
     },
     "execution_count": 9,
     "metadata": {},
     "output_type": "execute_result"
    }
   ],
   "source": [
    "train_X.shape, valid_X.shape"
   ]
  },
  {
   "cell_type": "code",
   "execution_count": 10,
   "metadata": {},
   "outputs": [],
   "source": [
    "# autoencoder.fit(x_train, x_train,\n",
    "#                 epochs=50,\n",
    "#                 batch_size=256,\n",
    "#                 shuffle=True,\n",
    "#                 validation_data=(x_test, x_test))"
   ]
  },
  {
   "cell_type": "code",
   "execution_count": 11,
   "metadata": {},
   "outputs": [],
   "source": [
    "\n",
    "featureInput = Input(shape = (rating.shape[1],), name = 'problemInput')\n",
    "Net = Dense(1024, activation = 'relu')(featureInput)\n",
    "# problemNet = BatchNormalization()(problemNet)\n",
    "Net = Activation('relu')(Net)\n",
    "Net = Dense(256, activation = 'relu')(Net)\n",
    "# problemNet = BatchNormalization()(problemNet)\n",
    "Net = Activation('relu')(Net)\n",
    "Net = Dense(128, activation = 'relu')(Net)\n",
    "encoded = Net\n",
    "# featureNet = Model(inputs = [featureInput], outputs = [Net], name = 'featureNet')\n",
    "# featureNet.summary()\n",
    "\n",
    "\n",
    "# Net = Dense(128, activation = 'relu')(encoded)\n",
    "# # problemNet = BatchNormalization()(problemNet)\n",
    "# Net = Activation('relu')(Net)\n",
    "Net = Dense(256, activation = 'relu')(Net)\n",
    "# problemNet = BatchNormalization()(problemNet)\n",
    "Net = Activation('relu')(Net)\n",
    "Net = Dense(1024, activation = 'relu')(Net)\n",
    "Net = Activation('relu')(Net)\n",
    "Net = Dense(rating.shape[1], activation = 'relu')(Net)\n",
    "# problemNet = BatchNormalization()(problemNet)\n",
    "decoded = Net\n",
    "\n",
    "\n",
    "autoencoder = Model(featureInput, decoded)\n",
    "autoencoder.compile(optimizer='adam', loss='binary_crossentropy')"
   ]
  },
  {
   "cell_type": "code",
   "execution_count": 12,
   "metadata": {},
   "outputs": [
    {
     "name": "stdout",
     "output_type": "stream",
     "text": [
      "_________________________________________________________________\n",
      "Layer (type)                 Output Shape              Param #   \n",
      "=================================================================\n",
      "problemInput (InputLayer)    (None, 5776)              0         \n",
      "_________________________________________________________________\n",
      "dense_1 (Dense)              (None, 1024)              5915648   \n",
      "_________________________________________________________________\n",
      "activation_1 (Activation)    (None, 1024)              0         \n",
      "_________________________________________________________________\n",
      "dense_2 (Dense)              (None, 256)               262400    \n",
      "_________________________________________________________________\n",
      "activation_2 (Activation)    (None, 256)               0         \n",
      "_________________________________________________________________\n",
      "dense_3 (Dense)              (None, 128)               32896     \n",
      "_________________________________________________________________\n",
      "dense_4 (Dense)              (None, 256)               33024     \n",
      "_________________________________________________________________\n",
      "activation_3 (Activation)    (None, 256)               0         \n",
      "_________________________________________________________________\n",
      "dense_5 (Dense)              (None, 1024)              263168    \n",
      "_________________________________________________________________\n",
      "activation_4 (Activation)    (None, 1024)              0         \n",
      "_________________________________________________________________\n",
      "dense_6 (Dense)              (None, 5776)              5920400   \n",
      "=================================================================\n",
      "Total params: 12,427,536\n",
      "Trainable params: 12,427,536\n",
      "Non-trainable params: 0\n",
      "_________________________________________________________________\n"
     ]
    }
   ],
   "source": [
    "autoencoder.summary()"
   ]
  },
  {
   "cell_type": "code",
   "execution_count": 13,
   "metadata": {},
   "outputs": [],
   "source": [
    "# tensorboard --logdir=./autoencoder"
   ]
  },
  {
   "cell_type": "code",
   "execution_count": 14,
   "metadata": {},
   "outputs": [
    {
     "ename": "KeyboardInterrupt",
     "evalue": "",
     "output_type": "error",
     "traceback": [
      "\u001b[0;31m------------------------------------------------------------------\u001b[0m",
      "\u001b[0;31mKeyboardInterrupt\u001b[0m                Traceback (most recent call last)",
      "\u001b[0;32m<ipython-input-14-d4cf9e4c3a3c>\u001b[0m in \u001b[0;36m<module>\u001b[0;34m()\u001b[0m\n\u001b[1;32m      6\u001b[0m                             \u001b[0mshuffle\u001b[0m\u001b[0;34m=\u001b[0m\u001b[0;32mTrue\u001b[0m\u001b[0;34m,\u001b[0m\u001b[0;34m\u001b[0m\u001b[0m\n\u001b[1;32m      7\u001b[0m                             \u001b[0mvalidation_data\u001b[0m\u001b[0;34m=\u001b[0m\u001b[0;34m(\u001b[0m\u001b[0mvalid_X\u001b[0m\u001b[0;34m,\u001b[0m \u001b[0mvalid_X\u001b[0m\u001b[0;34m)\u001b[0m\u001b[0;34m,\u001b[0m\u001b[0;34m\u001b[0m\u001b[0m\n\u001b[0;32m----> 8\u001b[0;31m                             callbacks=[TensorBoard(log_dir='./autoencoder')])\n\u001b[0m",
      "\u001b[0;32m~/anaconda3/lib/python3.6/site-packages/keras/callbacks.py\u001b[0m in \u001b[0;36m__init__\u001b[0;34m(self, log_dir, histogram_freq, batch_size, write_graph, write_grads, write_images, embeddings_freq, embeddings_layer_names, embeddings_metadata, embeddings_data)\u001b[0m\n\u001b[1;32m    707\u001b[0m         \u001b[0;32mtry\u001b[0m\u001b[0;34m:\u001b[0m\u001b[0;34m\u001b[0m\u001b[0m\n\u001b[1;32m    708\u001b[0m             \u001b[0;32mimport\u001b[0m \u001b[0mtensorflow\u001b[0m \u001b[0;32mas\u001b[0m \u001b[0mtf\u001b[0m\u001b[0;34m\u001b[0m\u001b[0m\n\u001b[0;32m--> 709\u001b[0;31m             \u001b[0;32mfrom\u001b[0m \u001b[0mtensorflow\u001b[0m\u001b[0;34m.\u001b[0m\u001b[0mcontrib\u001b[0m\u001b[0;34m.\u001b[0m\u001b[0mtensorboard\u001b[0m\u001b[0;34m.\u001b[0m\u001b[0mplugins\u001b[0m \u001b[0;32mimport\u001b[0m \u001b[0mprojector\u001b[0m\u001b[0;34m\u001b[0m\u001b[0m\n\u001b[0m\u001b[1;32m    710\u001b[0m         \u001b[0;32mexcept\u001b[0m \u001b[0mImportError\u001b[0m\u001b[0;34m:\u001b[0m\u001b[0;34m\u001b[0m\u001b[0m\n\u001b[1;32m    711\u001b[0m             \u001b[0;32mraise\u001b[0m \u001b[0mImportError\u001b[0m\u001b[0;34m(\u001b[0m\u001b[0;34m'You need the TensorFlow module installed to use TensorBoard.'\u001b[0m\u001b[0;34m)\u001b[0m\u001b[0;34m\u001b[0m\u001b[0m\n",
      "\u001b[0;32m~/anaconda3/lib/python3.6/site-packages/tensorflow/contrib/__init__.py\u001b[0m in \u001b[0;36m<module>\u001b[0;34m()\u001b[0m\n\u001b[1;32m     44\u001b[0m \u001b[0;32mfrom\u001b[0m \u001b[0mtensorflow\u001b[0m\u001b[0;34m.\u001b[0m\u001b[0mcontrib\u001b[0m \u001b[0;32mimport\u001b[0m \u001b[0mframework\u001b[0m\u001b[0;34m\u001b[0m\u001b[0m\n\u001b[1;32m     45\u001b[0m \u001b[0;32mfrom\u001b[0m \u001b[0mtensorflow\u001b[0m\u001b[0;34m.\u001b[0m\u001b[0mcontrib\u001b[0m \u001b[0;32mimport\u001b[0m \u001b[0mgan\u001b[0m\u001b[0;34m\u001b[0m\u001b[0m\n\u001b[0;32m---> 46\u001b[0;31m \u001b[0;32mfrom\u001b[0m \u001b[0mtensorflow\u001b[0m\u001b[0;34m.\u001b[0m\u001b[0mcontrib\u001b[0m \u001b[0;32mimport\u001b[0m \u001b[0mgraph_editor\u001b[0m\u001b[0;34m\u001b[0m\u001b[0m\n\u001b[0m\u001b[1;32m     47\u001b[0m \u001b[0;32mfrom\u001b[0m \u001b[0mtensorflow\u001b[0m\u001b[0;34m.\u001b[0m\u001b[0mcontrib\u001b[0m \u001b[0;32mimport\u001b[0m \u001b[0mgrid_rnn\u001b[0m\u001b[0;34m\u001b[0m\u001b[0m\n\u001b[1;32m     48\u001b[0m \u001b[0;32mfrom\u001b[0m \u001b[0mtensorflow\u001b[0m\u001b[0;34m.\u001b[0m\u001b[0mcontrib\u001b[0m \u001b[0;32mimport\u001b[0m \u001b[0mimage\u001b[0m\u001b[0;34m\u001b[0m\u001b[0m\n",
      "\u001b[0;32m~/anaconda3/lib/python3.6/site-packages/tensorflow/contrib/graph_editor/__init__.py\u001b[0m in \u001b[0;36m<module>\u001b[0;34m()\u001b[0m\n\u001b[1;32m     23\u001b[0m \u001b[0;34m\u001b[0m\u001b[0m\n\u001b[1;32m     24\u001b[0m \u001b[0;31m# pylint: disable=wildcard-import\u001b[0m\u001b[0;34m\u001b[0m\u001b[0;34m\u001b[0m\u001b[0m\n\u001b[0;32m---> 25\u001b[0;31m \u001b[0;32mfrom\u001b[0m \u001b[0mtensorflow\u001b[0m\u001b[0;34m.\u001b[0m\u001b[0mcontrib\u001b[0m\u001b[0;34m.\u001b[0m\u001b[0mgraph_editor\u001b[0m\u001b[0;34m.\u001b[0m\u001b[0medit\u001b[0m \u001b[0;32mimport\u001b[0m \u001b[0;34m*\u001b[0m\u001b[0;34m\u001b[0m\u001b[0m\n\u001b[0m\u001b[1;32m     26\u001b[0m \u001b[0;32mfrom\u001b[0m \u001b[0mtensorflow\u001b[0m\u001b[0;34m.\u001b[0m\u001b[0mcontrib\u001b[0m\u001b[0;34m.\u001b[0m\u001b[0mgraph_editor\u001b[0m\u001b[0;34m.\u001b[0m\u001b[0mreroute\u001b[0m \u001b[0;32mimport\u001b[0m \u001b[0;34m*\u001b[0m\u001b[0;34m\u001b[0m\u001b[0m\n\u001b[1;32m     27\u001b[0m \u001b[0;32mfrom\u001b[0m \u001b[0mtensorflow\u001b[0m\u001b[0;34m.\u001b[0m\u001b[0mcontrib\u001b[0m\u001b[0;34m.\u001b[0m\u001b[0mgraph_editor\u001b[0m\u001b[0;34m.\u001b[0m\u001b[0mselect\u001b[0m \u001b[0;32mimport\u001b[0m \u001b[0;34m*\u001b[0m\u001b[0;34m\u001b[0m\u001b[0m\n",
      "\u001b[0;32m~/anaconda3/lib/python3.6/site-packages/tensorflow/contrib/graph_editor/edit.py\u001b[0m in \u001b[0;36m<module>\u001b[0;34m()\u001b[0m\n\u001b[1;32m     19\u001b[0m \u001b[0;32mfrom\u001b[0m \u001b[0m__future__\u001b[0m \u001b[0;32mimport\u001b[0m \u001b[0mprint_function\u001b[0m\u001b[0;34m\u001b[0m\u001b[0m\n\u001b[1;32m     20\u001b[0m \u001b[0;34m\u001b[0m\u001b[0m\n\u001b[0;32m---> 21\u001b[0;31m \u001b[0;32mfrom\u001b[0m \u001b[0mtensorflow\u001b[0m\u001b[0;34m.\u001b[0m\u001b[0mcontrib\u001b[0m\u001b[0;34m.\u001b[0m\u001b[0mgraph_editor\u001b[0m \u001b[0;32mimport\u001b[0m \u001b[0mreroute\u001b[0m\u001b[0;34m\u001b[0m\u001b[0m\n\u001b[0m\u001b[1;32m     22\u001b[0m \u001b[0;32mfrom\u001b[0m \u001b[0mtensorflow\u001b[0m\u001b[0;34m.\u001b[0m\u001b[0mcontrib\u001b[0m\u001b[0;34m.\u001b[0m\u001b[0mgraph_editor\u001b[0m \u001b[0;32mimport\u001b[0m \u001b[0mselect\u001b[0m\u001b[0;34m\u001b[0m\u001b[0m\n\u001b[1;32m     23\u001b[0m \u001b[0;32mfrom\u001b[0m \u001b[0mtensorflow\u001b[0m\u001b[0;34m.\u001b[0m\u001b[0mcontrib\u001b[0m\u001b[0;34m.\u001b[0m\u001b[0mgraph_editor\u001b[0m \u001b[0;32mimport\u001b[0m \u001b[0msubgraph\u001b[0m\u001b[0;34m\u001b[0m\u001b[0m\n",
      "\u001b[0;32m~/anaconda3/lib/python3.6/importlib/_bootstrap.py\u001b[0m in \u001b[0;36m_find_and_load\u001b[0;34m(name, import_)\u001b[0m\n",
      "\u001b[0;32m~/anaconda3/lib/python3.6/importlib/_bootstrap.py\u001b[0m in \u001b[0;36m_find_and_load_unlocked\u001b[0;34m(name, import_)\u001b[0m\n",
      "\u001b[0;32m~/anaconda3/lib/python3.6/importlib/_bootstrap.py\u001b[0m in \u001b[0;36m_load_unlocked\u001b[0;34m(spec)\u001b[0m\n",
      "\u001b[0;32m~/anaconda3/lib/python3.6/importlib/_bootstrap_external.py\u001b[0m in \u001b[0;36mexec_module\u001b[0;34m(self, module)\u001b[0m\n",
      "\u001b[0;32m~/anaconda3/lib/python3.6/importlib/_bootstrap_external.py\u001b[0m in \u001b[0;36mget_code\u001b[0;34m(self, fullname)\u001b[0m\n",
      "\u001b[0;32m~/anaconda3/lib/python3.6/importlib/_bootstrap_external.py\u001b[0m in \u001b[0;36mget_data\u001b[0;34m(self, path)\u001b[0m\n",
      "\u001b[0;31mKeyboardInterrupt\u001b[0m: "
     ]
    }
   ],
   "source": [
    "from keras.callbacks import TensorBoard\n",
    "\n",
    "autoencoder_train = autoencoder.fit(train_X, train_X,\n",
    "                            epochs=20,\n",
    "                            batch_size=64,\n",
    "                            shuffle=True,\n",
    "                            validation_data=(valid_X, valid_X),\n",
    "                            callbacks=[TensorBoard(log_dir='./autoencoder')])\n"
   ]
  },
  {
   "cell_type": "code",
   "execution_count": 16,
   "metadata": {},
   "outputs": [],
   "source": [
    "autoencoder.save('autoencoder.h5')\n",
    "# from keras.models import load_model model.save('my_model.h5') \n",
    "# creates a HDF5 file 'my_model.h5' del model # deletes the existing model # returns a compiled model # identical to the previous one model = load_model('my_model.h5') "
   ]
  },
  {
   "cell_type": "code",
   "execution_count": null,
   "metadata": {},
   "outputs": [],
   "source": [
    "# autoencoder_train = autoencoder.fit(train_X, train_ground, batch_size=batch_size,epochs=epochs,verbose=1,validation_data=(valid_X, valid_ground))"
   ]
  },
  {
   "cell_type": "code",
   "execution_count": 18,
   "metadata": {},
   "outputs": [
    {
     "data": {
      "image/png": "[encoded data removed]",
      "text/plain": [
       "<Figure size 432x288 with 1 Axes>"
      ]
     },
     "metadata": {},
     "output_type": "display_data"
    }
   ],
   "source": [
    "loss = autoencoder_train.history['loss']\n",
    "val_loss = autoencoder_train.history['val_loss']\n",
    "epochs = range(20)\n",
    "plt.figure()\n",
    "plt.plot(epochs, loss, 'bo', label='Training loss')\n",
    "plt.plot(epochs, val_loss, 'b', label='Validation loss')\n",
    "plt.title('Training and validation loss')\n",
    "plt.legend()\n",
    "plt.show()"
   ]
  },
  {
   "cell_type": "markdown",
   "metadata": {},
   "source": [
    "# predict unknown rating in rating matrix"
   ]
  },
  {
   "cell_type": "code",
   "execution_count": 15,
   "metadata": {},
   "outputs": [],
   "source": [
    "from keras.models import load_model\n",
    "\n",
    "# returns a compiled model\n",
    "# identical to the previous one\n",
    "autoencoder = load_model('autoencoder.h5')"
   ]
  },
  {
   "cell_type": "code",
   "execution_count": 16,
   "metadata": {},
   "outputs": [],
   "source": [
    "pred = autoencoder.predict(rating)"
   ]
  },
  {
   "cell_type": "code",
   "execution_count": 18,
   "metadata": {},
   "outputs": [
    {
     "data": {
      "text/plain": [
       "((3529, 5776), (3529, 5776))"
      ]
     },
     "execution_count": 18,
     "metadata": {},
     "output_type": "execute_result"
    }
   ],
   "source": [
    "pred.shape, rating.shape"
   ]
  },
  {
   "cell_type": "code",
   "execution_count": 25,
   "metadata": {},
   "outputs": [
    {
     "data": {
      "text/plain": [
       "array([0.        , 0.        , 0.        , ..., 0.07644928, 0.        ,\n",
       "       0.        ], dtype=float32)"
      ]
     },
     "execution_count": 25,
     "metadata": {},
     "output_type": "execute_result"
    }
   ],
   "source": [
    "pred[1]"
   ]
  },
  {
   "cell_type": "code",
   "execution_count": 27,
   "metadata": {},
   "outputs": [
    {
     "data": {
      "text/plain": [
       "array([[0, 0, 0, ..., 0, 0, 0]])"
      ]
     },
     "execution_count": 27,
     "metadata": {},
     "output_type": "execute_result"
    }
   ],
   "source": [
    "rating[1:2].values"
   ]
  },
  {
   "cell_type": "code",
   "execution_count": 29,
   "metadata": {},
   "outputs": [
    {
     "name": "stdout",
     "output_type": "stream",
     "text": [
      "0.0 [0 0 0 ... 0 0 0]\n"
     ]
    }
   ],
   "source": [
    "for i,j in zip(pred[1],rating[1:2].values):\n",
    "    print(i,j)"
   ]
  },
  {
   "cell_type": "code",
   "execution_count": 34,
   "metadata": {},
   "outputs": [
    {
     "name": "stdout",
     "output_type": "stream",
     "text": [
      "0.016392436\n",
      "0.12895902\n",
      "0.22924215\n",
      "0.12134683\n",
      "0.09311868\n",
      "0.044852894\n",
      "0.05855354\n",
      "0.22930706\n",
      "0.045179047\n",
      "0.12166578\n",
      "0.15937343\n",
      "0.19371232\n",
      "0.06518674\n",
      "0.10028359\n",
      "0.4060972\n",
      "0.09024273\n",
      "0.05507561\n",
      "0.123544365\n",
      "0.3470336\n",
      "0.28308114\n",
      "0.42383716\n",
      "0.280922\n",
      "0.1323264\n",
      "0.18680476\n",
      "0.15012363\n",
      "0.10003798\n",
      "0.055094644\n",
      "0.056134097\n",
      "0.05194617\n",
      "0.079321876\n",
      "0.27961603\n",
      "0.11101548\n",
      "0.1391005\n",
      "0.11513589\n",
      "0.020445708\n",
      "0.28843117\n",
      "0.112823784\n",
      "0.019763084\n",
      "0.5311583\n",
      "0.34737918\n",
      "0.13923907\n",
      "0.13231851\n",
      "0.023316165\n",
      "0.08349434\n",
      "0.082220495\n",
      "0.10416651\n",
      "0.12025007\n",
      "0.027716385\n",
      "0.27754062\n",
      "0.110575244\n",
      "0.16410927\n",
      "0.12002201\n",
      "0.08261366\n",
      "0.17805839\n",
      "0.35882813\n",
      "0.09624782\n",
      "0.07167322\n",
      "0.29206046\n",
      "0.24229017\n",
      "0.026880646\n",
      "0.32615396\n",
      "0.16681662\n",
      "0.09286609\n",
      "0.15861912\n",
      "0.15322644\n",
      "0.15842947\n",
      "0.07598033\n",
      "0.07775724\n",
      "0.024137687\n",
      "0.11887035\n",
      "0.1573836\n",
      "0.10771011\n",
      "0.12794307\n",
      "0.045417845\n",
      "0.040749475\n",
      "0.6674273\n",
      "0.13712531\n",
      "0.14724664\n",
      "0.19624515\n",
      "0.057044774\n",
      "0.13830033\n",
      "0.1305786\n",
      "0.035194144\n",
      "0.18232663\n",
      "0.037618995\n",
      "0.04700977\n",
      "0.0958742\n",
      "0.08007007\n",
      "0.04893263\n",
      "0.09804829\n",
      "0.42210963\n",
      "0.118224666\n",
      "0.16827402\n",
      "0.10305034\n",
      "0.051239148\n",
      "0.0011981037\n",
      "0.1257748\n",
      "0.18547206\n",
      "0.05887493\n",
      "0.20627886\n",
      "0.6224079\n",
      "0.08756099\n",
      "0.22183062\n",
      "0.27009994\n",
      "0.45878452\n",
      "0.25156868\n",
      "0.13785955\n",
      "0.18468264\n",
      "0.15709299\n",
      "0.28873602\n",
      "0.04820614\n",
      "0.29768544\n",
      "0.07215074\n",
      "0.05760952\n",
      "0.17139539\n",
      "0.056474406\n",
      "0.051163394\n",
      "0.29862955\n",
      "0.19771673\n",
      "0.13468397\n",
      "0.15946673\n",
      "0.109482795\n",
      "0.011717303\n",
      "0.02472949\n",
      "0.1788798\n",
      "0.09423903\n",
      "0.15694018\n",
      "0.16408618\n",
      "0.08376248\n",
      "0.1112131\n",
      "0.34898427\n",
      "0.11989527\n",
      "0.066591755\n",
      "0.11009286\n",
      "0.08082192\n",
      "0.12713577\n",
      "0.13556315\n",
      "0.29843697\n",
      "0.084275246\n",
      "0.117417246\n",
      "0.24182206\n",
      "0.13566379\n",
      "0.01654712\n",
      "0.20301232\n",
      "0.4264272\n",
      "0.100385025\n",
      "0.030700263\n",
      "0.22159398\n",
      "0.0017736396\n",
      "0.17780049\n",
      "0.032248825\n",
      "0.07919734\n",
      "0.04523087\n",
      "0.14934395\n",
      "0.14210527\n",
      "0.16858876\n",
      "0.07056788\n",
      "0.0625717\n",
      "0.17228095\n",
      "0.38817084\n",
      "0.27036026\n",
      "0.09680084\n",
      "0.2371932\n",
      "0.07751699\n",
      "0.071209066\n",
      "0.007741643\n",
      "0.27996695\n",
      "0.17603503\n",
      "0.19879587\n",
      "0.04478202\n",
      "0.100707464\n",
      "0.14995332\n",
      "0.04593468\n",
      "0.12838481\n",
      "0.15372463\n",
      "0.11898613\n",
      "0.2818856\n",
      "0.043370873\n",
      "0.1462472\n",
      "0.40101627\n",
      "0.1742703\n",
      "0.04475115\n",
      "0.38360247\n",
      "0.2270349\n",
      "0.25470704\n",
      "0.0045691617\n",
      "0.31021878\n",
      "0.46809474\n",
      "0.19339907\n",
      "0.26188916\n",
      "0.07851857\n",
      "0.10365124\n",
      "0.28007823\n",
      "0.111533105\n",
      "0.28503874\n",
      "0.16687466\n",
      "0.00506334\n",
      "0.11450308\n",
      "0.031480357\n",
      "0.2335676\n",
      "0.066047214\n",
      "0.3272517\n",
      "0.1883031\n",
      "0.051893547\n",
      "0.022297136\n",
      "0.07802044\n",
      "0.14509876\n",
      "0.023979396\n",
      "0.06744289\n",
      "0.15841085\n",
      "0.085987106\n",
      "0.12679508\n",
      "0.29665005\n",
      "0.21095832\n",
      "0.08354356\n",
      "0.076051705\n",
      "0.18906268\n",
      "0.07249265\n",
      "0.13372615\n",
      "0.10638808\n",
      "0.1261248\n",
      "0.06882936\n",
      "0.08021803\n",
      "0.058739644\n",
      "0.31704038\n",
      "0.09351453\n",
      "0.084904835\n",
      "0.19460991\n",
      "0.005309577\n",
      "0.13120213\n",
      "0.11032097\n",
      "0.09025002\n",
      "0.036132783\n",
      "0.116677165\n",
      "0.16969547\n",
      "0.10310863\n",
      "0.39757535\n",
      "0.020686686\n",
      "0.21643062\n",
      "0.2116524\n",
      "0.06623955\n",
      "0.11426386\n",
      "0.23872781\n",
      "0.7383427\n",
      "0.037833285\n",
      "0.008582053\n",
      "0.08359203\n",
      "0.13361797\n",
      "0.2578784\n",
      "0.05682356\n",
      "0.045988575\n",
      "0.2536421\n",
      "0.24542494\n",
      "0.36530504\n",
      "0.046366088\n",
      "0.03775856\n",
      "0.09345324\n",
      "0.0027931286\n",
      "0.015079439\n",
      "0.00066548865\n",
      "0.09651996\n",
      "0.18058866\n",
      "0.09969586\n",
      "0.06435093\n",
      "0.06866963\n",
      "0.08406828\n",
      "0.1448701\n",
      "0.11626869\n",
      "0.03831771\n",
      "0.056662574\n",
      "0.22570139\n",
      "0.17257573\n",
      "0.09528926\n",
      "0.03376329\n",
      "0.18152484\n",
      "0.104506515\n",
      "0.13810223\n",
      "0.04325794\n",
      "0.14824918\n",
      "0.14318773\n",
      "0.27687475\n",
      "0.08220345\n",
      "0.107984714\n",
      "0.063067965\n",
      "0.059756882\n",
      "0.18498309\n",
      "0.055095524\n",
      "0.22908816\n",
      "0.26575792\n",
      "0.11040378\n",
      "0.12866199\n",
      "0.21034272\n",
      "0.09168878\n",
      "0.22201495\n",
      "0.0024636053\n",
      "0.15030423\n",
      "0.08183168\n",
      "0.016794408\n",
      "0.20279537\n",
      "0.22677171\n",
      "0.07653824\n",
      "0.12112134\n",
      "0.08521983\n",
      "0.12080936\n",
      "0.15644102\n",
      "0.15707989\n",
      "0.20354903\n",
      "0.24665637\n",
      "0.5350979\n",
      "0.07202348\n",
      "0.061976463\n",
      "0.25457335\n",
      "0.00971473\n",
      "0.09814258\n",
      "0.15207408\n",
      "0.1495781\n",
      "0.2609056\n",
      "0.28567424\n",
      "0.19570754\n",
      "0.59193856\n",
      "0.14829426\n",
      "0.241041\n",
      "0.27965686\n",
      "0.26247278\n",
      "0.008773126\n",
      "0.020864151\n",
      "0.2421501\n",
      "0.09738025\n",
      "0.09438066\n",
      "0.09311108\n",
      "0.358223\n",
      "0.083152175\n",
      "0.30127487\n",
      "0.11799372\n",
      "0.12389754\n",
      "0.019209888\n",
      "0.26401258\n",
      "0.30911556\n",
      "0.11329773\n",
      "0.06664605\n",
      "0.16943558\n",
      "0.40992188\n",
      "0.20144948\n",
      "0.0941546\n",
      "0.17178974\n",
      "0.079594865\n",
      "0.18912809\n",
      "0.18849453\n",
      "0.11316508\n",
      "0.14811213\n",
      "0.061272837\n",
      "0.25693908\n",
      "0.09552589\n",
      "0.13809988\n",
      "0.38289115\n",
      "0.20426269\n",
      "0.04971686\n",
      "0.22590159\n",
      "0.1673855\n",
      "0.06429494\n",
      "0.124237664\n",
      "0.13113809\n",
      "0.090543054\n",
      "0.46548536\n",
      "0.29563272\n",
      "0.12233073\n",
      "0.38870752\n",
      "0.009908553\n",
      "0.077446155\n",
      "0.10449283\n",
      "0.14694048\n",
      "0.06814338\n",
      "0.22629765\n",
      "0.20328787\n",
      "0.055976156\n",
      "0.05065332\n",
      "0.09166748\n",
      "0.18723948\n",
      "0.29692844\n",
      "0.09935625\n",
      "0.09712554\n",
      "0.13222073\n",
      "0.061966904\n",
      "0.28507063\n",
      "0.012553019\n",
      "0.14598471\n",
      "0.3183879\n",
      "0.024624728\n",
      "0.19818668\n",
      "0.13722414\n",
      "0.00991197\n",
      "0.27596927\n",
      "0.20534101\n",
      "0.11699662\n",
      "0.085027374\n",
      "0.004944911\n",
      "0.07507055\n",
      "0.108937085\n",
      "0.15053122\n",
      "0.042131238\n",
      "0.29272032\n",
      "0.21395624\n",
      "0.119259916\n",
      "0.1098068\n",
      "0.34584236\n",
      "0.052018445\n",
      "0.08541469\n",
      "0.17450838\n",
      "0.1582248\n",
      "0.05178802\n",
      "0.11055522\n",
      "0.20834139\n",
      "0.09124541\n",
      "0.07632591\n",
      "0.023147674\n",
      "0.28398448\n",
      "0.25953484\n",
      "0.34964982\n",
      "0.022715561\n",
      "0.2075758\n",
      "0.68687487\n",
      "0.14910026\n",
      "0.041664984\n",
      "0.04541429\n",
      "0.12759443\n",
      "0.084254034\n",
      "0.16155183\n",
      "0.07552417\n",
      "0.15346041\n",
      "0.1018568\n",
      "0.276096\n",
      "0.16570017\n",
      "0.049257707\n",
      "0.049186844\n",
      "0.035839297\n",
      "0.17633373\n",
      "0.088865824\n",
      "0.122387335\n",
      "0.057791263\n",
      "0.05248341\n",
      "0.12453283\n",
      "0.07739441\n",
      "0.031075591\n",
      "5.503744e-05\n",
      "0.022299336\n",
      "0.076449275\n"
     ]
    }
   ],
   "source": [
    "for i in pred[1]:\n",
    "    if i != 0:\n",
    "        print(i)"
   ]
  },
  {
   "cell_type": "code",
   "execution_count": 36,
   "metadata": {},
   "outputs": [
    {
     "ename": "TypeError",
     "evalue": "svd() got an unexpected keyword argument 'k'",
     "output_type": "error",
     "traceback": [
      "\u001b[0;31m------------------------------------------------------------------\u001b[0m",
      "\u001b[0;31mTypeError\u001b[0m                        Traceback (most recent call last)",
      "\u001b[0;32m<ipython-input-36-2d3bab8be5bf>\u001b[0m in \u001b[0;36m<module>\u001b[0;34m()\u001b[0m\n\u001b[1;32m      2\u001b[0m \u001b[0;34m\u001b[0m\u001b[0m\n\u001b[1;32m      3\u001b[0m \u001b[0;34m\u001b[0m\u001b[0m\n\u001b[0;32m----> 4\u001b[0;31m \u001b[0mU\u001b[0m\u001b[0;34m,\u001b[0m \u001b[0ms\u001b[0m\u001b[0;34m,\u001b[0m \u001b[0mVh\u001b[0m \u001b[0;34m=\u001b[0m \u001b[0mlinalg\u001b[0m\u001b[0;34m.\u001b[0m\u001b[0msvd\u001b[0m\u001b[0;34m(\u001b[0m\u001b[0mrating\u001b[0m\u001b[0;34m,\u001b[0m \u001b[0mk\u001b[0m\u001b[0;34m=\u001b[0m\u001b[0;36m10\u001b[0m\u001b[0;34m)\u001b[0m\u001b[0;34m\u001b[0m\u001b[0m\n\u001b[0m\u001b[1;32m      5\u001b[0m \u001b[0mU\u001b[0m\u001b[0;34m.\u001b[0m\u001b[0mshape\u001b[0m\u001b[0;34m,\u001b[0m \u001b[0mVh\u001b[0m\u001b[0;34m.\u001b[0m\u001b[0mshape\u001b[0m\u001b[0;34m,\u001b[0m \u001b[0ms\u001b[0m\u001b[0;34m.\u001b[0m\u001b[0mshape\u001b[0m\u001b[0;34m\u001b[0m\u001b[0m\n\u001b[1;32m      6\u001b[0m \u001b[0;34m\u001b[0m\u001b[0m\n",
      "\u001b[0;31mTypeError\u001b[0m: svd() got an unexpected keyword argument 'k'"
     ]
    }
   ],
   "source": [
    "from scipy import linalg\n",
    "\n",
    "\n",
    "U, s, Vh = linalg.svd(rating, k=10)\n",
    "U.shape, Vh.shape, s.shape\n",
    "\n",
    "# S = linalg.diagsvd(s, 6, 6)\n",
    "# np.allclose(a, np.dot(U, np.dot(S, Vh)))"
   ]
  },
  {
   "cell_type": "code",
   "execution_count": 35,
   "metadata": {},
   "outputs": [
    {
     "data": {
      "text/plain": [
       "(3529, 5776)"
      ]
     },
     "execution_count": 35,
     "metadata": {},
     "output_type": "execute_result"
    }
   ],
   "source": [
    "rating.shape"
   ]
  },
  {
   "cell_type": "code",
   "execution_count": null,
   "metadata": {},
   "outputs": [],
   "source": []
  },
  {
   "cell_type": "code",
   "execution_count": null,
   "metadata": {},
   "outputs": [],
   "source": []
  },
  {
   "cell_type": "code",
   "execution_count": null,
   "metadata": {},
   "outputs": [],
   "source": []
  },
  {
   "cell_type": "code",
   "execution_count": null,
   "metadata": {},
   "outputs": [],
   "source": []
  },
  {
   "cell_type": "code",
   "execution_count": null,
   "metadata": {},
   "outputs": [],
   "source": []
  },
  {
   "cell_type": "code",
   "execution_count": null,
   "metadata": {},
   "outputs": [],
   "source": []
  },
  {
   "cell_type": "code",
   "execution_count": null,
   "metadata": {},
   "outputs": [],
   "source": []
  },
  {
   "cell_type": "code",
   "execution_count": null,
   "metadata": {},
   "outputs": [],
   "source": []
  },
  {
   "cell_type": "code",
   "execution_count": null,
   "metadata": {},
   "outputs": [],
   "source": []
  },
  {
   "cell_type": "code",
   "execution_count": null,
   "metadata": {},
   "outputs": [],
   "source": []
  },
  {
   "cell_type": "code",
   "execution_count": null,
   "metadata": {},
   "outputs": [],
   "source": []
  },
  {
   "cell_type": "code",
   "execution_count": null,
   "metadata": {},
   "outputs": [],
   "source": []
  },
  {
   "cell_type": "code",
   "execution_count": null,
   "metadata": {},
   "outputs": [],
   "source": []
  },
  {
   "cell_type": "code",
   "execution_count": null,
   "metadata": {},
   "outputs": [],
   "source": []
  },
  {
   "cell_type": "code",
   "execution_count": 19,
   "metadata": {},
   "outputs": [
    {
     "data": {
      "text/html": [
       "<div>\n",
       "<style scoped>\n",
       "    .dataframe tbody tr th:only-of-type {\n",
       "        vertical-align: middle;\n",
       "    }\n",
       "\n",
       "    .dataframe tbody tr th {\n",
       "        vertical-align: top;\n",
       "    }\n",
       "\n",
       "    .dataframe thead th {\n",
       "        text-align: right;\n",
       "    }\n",
       "</style>\n",
       "<table border=\"1\" class=\"dataframe\">\n",
       "  <thead>\n",
       "    <tr style=\"text-align: right;\">\n",
       "      <th></th>\n",
       "      <th>ID</th>\n",
       "      <th>user_id</th>\n",
       "      <th>problem_id</th>\n",
       "    </tr>\n",
       "  </thead>\n",
       "  <tbody>\n",
       "    <tr>\n",
       "      <th>0</th>\n",
       "      <td>user_856_prob_5822</td>\n",
       "      <td>user_856</td>\n",
       "      <td>prob_5822</td>\n",
       "    </tr>\n",
       "    <tr>\n",
       "      <th>1</th>\n",
       "      <td>user_2642_prob_2334</td>\n",
       "      <td>user_2642</td>\n",
       "      <td>prob_2334</td>\n",
       "    </tr>\n",
       "    <tr>\n",
       "      <th>2</th>\n",
       "      <td>user_2557_prob_2920</td>\n",
       "      <td>user_2557</td>\n",
       "      <td>prob_2920</td>\n",
       "    </tr>\n",
       "    <tr>\n",
       "      <th>3</th>\n",
       "      <td>user_1572_prob_4598</td>\n",
       "      <td>user_1572</td>\n",
       "      <td>prob_4598</td>\n",
       "    </tr>\n",
       "    <tr>\n",
       "      <th>4</th>\n",
       "      <td>user_295_prob_6139</td>\n",
       "      <td>user_295</td>\n",
       "      <td>prob_6139</td>\n",
       "    </tr>\n",
       "  </tbody>\n",
       "</table>\n",
       "</div>"
      ],
      "text/plain": [
       "                    ID    user_id problem_id\n",
       "0   user_856_prob_5822   user_856  prob_5822\n",
       "1  user_2642_prob_2334  user_2642  prob_2334\n",
       "2  user_2557_prob_2920  user_2557  prob_2920\n",
       "3  user_1572_prob_4598  user_1572  prob_4598\n",
       "4   user_295_prob_6139   user_295  prob_6139"
      ]
     },
     "execution_count": 19,
     "metadata": {},
     "output_type": "execute_result"
    }
   ],
   "source": [
    "test.head()"
   ]
  },
  {
   "cell_type": "code",
   "execution_count": 33,
   "metadata": {},
   "outputs": [],
   "source": [
    "# pred = test.pivot_table(index='user_id', columns='problem_id')"
   ]
  },
  {
   "cell_type": "code",
   "execution_count": 27,
   "metadata": {},
   "outputs": [],
   "source": [
    "match1 = test['user_id'].unique()\n",
    "match2 = results['user_id'].unique()"
   ]
  },
  {
   "cell_type": "code",
   "execution_count": 28,
   "metadata": {},
   "outputs": [
    {
     "data": {
      "text/plain": [
       "((3501,), (3529,))"
      ]
     },
     "execution_count": 28,
     "metadata": {},
     "output_type": "execute_result"
    }
   ],
   "source": [
    "match1.shape, match2.shape"
   ]
  },
  {
   "cell_type": "code",
   "execution_count": 29,
   "metadata": {},
   "outputs": [],
   "source": [
    "count = 0\n",
    "for i in match1:\n",
    "    for j in match2:\n",
    "        if(i == j):\n",
    "            count += 1"
   ]
  },
  {
   "cell_type": "code",
   "execution_count": 30,
   "metadata": {},
   "outputs": [
    {
     "data": {
      "text/plain": [
       "3489"
      ]
     },
     "execution_count": 30,
     "metadata": {},
     "output_type": "execute_result"
    }
   ],
   "source": [
    "count"
   ]
  },
  {
   "cell_type": "code",
   "execution_count": 31,
   "metadata": {},
   "outputs": [
    {
     "data": {
      "text/plain": [
       "Index(['ID', 'user_id', 'problem_id'], dtype='object')"
      ]
     },
     "execution_count": 31,
     "metadata": {},
     "output_type": "execute_result"
    }
   ],
   "source": [
    "test.columns"
   ]
  },
  {
   "cell_type": "code",
   "execution_count": 32,
   "metadata": {},
   "outputs": [],
   "source": [
    "test.drop('ID',axis=1,inplace=True)"
   ]
  },
  {
   "cell_type": "code",
   "execution_count": null,
   "metadata": {},
   "outputs": [],
   "source": [
    "test_rating = pd.get_dummies(test['user_id'].unique()).T.dot(pd.get_dummies(test['problem_id'].unique()))"
   ]
  },
  {
   "cell_type": "code",
   "execution_count": null,
   "metadata": {},
   "outputs": [],
   "source": []
  }
 ],
 "metadata": {
  "kernelspec": {
   "display_name": "Python 3",
   "language": "python",
   "name": "python3"
  },
  "language_info": {
   "codemirror_mode": {
    "name": "ipython",
    "version": 3
   },
   "file_extension": ".py",
   "mimetype": "text/x-python",
   "name": "python",
   "nbconvert_exporter": "python",
   "pygments_lexer": "ipython3",
   "version": "3.6.6"
  }
 },
 "nbformat": 4,
 "nbformat_minor": 2
}
