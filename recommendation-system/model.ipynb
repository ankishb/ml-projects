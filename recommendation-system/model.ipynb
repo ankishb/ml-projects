{
 "cells": [
  {
   "cell_type": "code",
   "execution_count": 1,
   "metadata": {},
   "outputs": [
    {
     "name": "stderr",
     "output_type": "stream",
     "text": [
      "Using TensorFlow backend.\n"
     ]
    }
   ],
   "source": [
    "from tensorflow import keras\n",
    "from keras.models import Model\n",
    "from keras.layers import Input, Activation, Dense, Dropout\n",
    "from keras.layers import concatenate\n"
   ]
  },
  {
   "cell_type": "code",
   "execution_count": 2,
   "metadata": {},
   "outputs": [
    {
     "name": "stdout",
     "output_type": "stream",
     "text": [
      "_________________________________________________________________\n",
      "Layer (type)                 Output Shape              Param #   \n",
      "=================================================================\n",
      "problemInput (InputLayer)    (None, 10)                0         \n",
      "_________________________________________________________________\n",
      "dense_1 (Dense)              (None, 16)                176       \n",
      "_________________________________________________________________\n",
      "activation_1 (Activation)    (None, 16)                0         \n",
      "_________________________________________________________________\n",
      "dense_2 (Dense)              (None, 4)                 68        \n",
      "_________________________________________________________________\n",
      "activation_2 (Activation)    (None, 4)                 0         \n",
      "_________________________________________________________________\n",
      "dense_3 (Dense)              (None, 2)                 10        \n",
      "=================================================================\n",
      "Total params: 254\n",
      "Trainable params: 254\n",
      "Non-trainable params: 0\n",
      "_________________________________________________________________\n"
     ]
    }
   ],
   "source": [
    "featureInput = Input(shape = (10,), name = 'problemInput')\n",
    "Net = Dense(16, activation = 'relu')(featureInput)\n",
    "# problemNet = BatchNormalization()(problemNet)\n",
    "Net = Activation('relu')(Net)\n",
    "Net = Dense(4, activation = 'relu')(Net)\n",
    "# problemNet = BatchNormalization()(problemNet)\n",
    "Net = Activation('relu')(Net)\n",
    "Net = Dense(2, activation = 'relu')(Net)\n",
    "featureNet = Model(inputs = [featureInput], outputs = [Net], name = 'featureNet')\n",
    "featureNet.summary()"
   ]
  },
  {
   "cell_type": "code",
   "execution_count": 4,
   "metadata": {},
   "outputs": [
    {
     "name": "stdout",
     "output_type": "stream",
     "text": [
      "__________________________________________________________________________________________________\n",
      "Layer (type)                    Output Shape         Param #     Connected to                     \n",
      "==================================================================================================\n",
      "userNet (InputLayer)            (None, 10)           0                                            \n",
      "__________________________________________________________________________________________________\n",
      "problemNet (InputLayer)         (None, 10)           0                                            \n",
      "__________________________________________________________________________________________________\n",
      "featureNet (Model)              (None, 2)            254         userNet[0][0]                    \n",
      "                                                                 problemNet[0][0]                 \n",
      "__________________________________________________________________________________________________\n",
      "merge_features (Concatenate)    (None, 4)            0           featureNet[3][0]                 \n",
      "                                                                 featureNet[4][0]                 \n",
      "__________________________________________________________________________________________________\n",
      "dense_7 (Dense)                 (None, 10)           50          merge_features[0][0]             \n",
      "__________________________________________________________________________________________________\n",
      "activation_5 (Activation)       (None, 10)           0           dense_7[0][0]                    \n",
      "__________________________________________________________________________________________________\n",
      "dense_8 (Dense)                 (None, 7)            77          activation_5[0][0]               \n",
      "__________________________________________________________________________________________________\n",
      "activation_6 (Activation)       (None, 7)            0           dense_8[0][0]                    \n",
      "__________________________________________________________________________________________________\n",
      "dense_9 (Dense)                 (None, 5)            40          activation_6[0][0]               \n",
      "==================================================================================================\n",
      "Total params: 421\n",
      "Trainable params: 421\n",
      "Non-trainable params: 0\n",
      "__________________________________________________________________________________________________\n"
     ]
    }
   ],
   "source": [
    "users = Input(shape = (10,), name = 'userNet')\n",
    "problems = Input(shape = (10,), name = 'problemNet')\n",
    "userNet = featureNet(users)\n",
    "problemNet = featureNet(problems)\n",
    "\n",
    "combined_features = concatenate([userNet, problemNet], name = 'merge_features')\n",
    "combined_features = Dense(10, activation = 'linear')(combined_features)\n",
    "# combined_features = BatchNormalization()(combined_features)\n",
    "combined_features = Activation('relu')(combined_features)\n",
    "combined_features = Dense(7, activation = 'linear')(combined_features)\n",
    "# combined_features = BatchNormalization()(combined_features)\n",
    "combined_features = Activation('relu')(combined_features)\n",
    "classification = Dense(5, activation = 'sigmoid')(combined_features)\n",
    "recomSys = Model(inputs = [users, problems], outputs = [classification], name = 'recomSys')\n",
    "recomSys.summary()"
   ]
  },
  {
   "cell_type": "code",
   "execution_count": 5,
   "metadata": {},
   "outputs": [],
   "source": [
    "# For a multi-class classification problem\n",
    "recomSys.compile(optimizer='adam',\n",
    "              loss='categorical_crossentropy',\n",
    "              metrics=['accuracy'])"
   ]
  },
  {
   "cell_type": "code",
   "execution_count": null,
   "metadata": {},
   "outputs": [],
   "source": [
    "# prediction = model.predict_classes(x_train,batch_size)"
   ]
  }
 ],
 "metadata": {
  "kernelspec": {
   "display_name": "Python 3",
   "language": "python",
   "name": "python3"
  },
  "language_info": {
   "codemirror_mode": {
    "name": "ipython",
    "version": 3
   },
   "file_extension": ".py",
   "mimetype": "text/x-python",
   "name": "python",
   "nbconvert_exporter": "python",
   "pygments_lexer": "ipython3",
   "version": "3.6.7"
  }
 },
 "nbformat": 4,
 "nbformat_minor": 2
}
