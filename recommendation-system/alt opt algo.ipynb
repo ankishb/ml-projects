{
 "cells": [
  {
   "cell_type": "code",
   "execution_count": 1,
   "metadata": {},
   "outputs": [],
   "source": [
    "import numpy as np\n",
    "# import matplotlib.pyplot as plt\n",
    "# %matplotlib inline"
   ]
  },
  {
   "cell_type": "code",
   "execution_count": 2,
   "metadata": {},
   "outputs": [],
   "source": [
    "N = 5\n",
    "M = 3\n",
    "K = 2\n",
    "N_u = 5\n",
    "M_v = 6\n",
    "X = np.random.randn(N,M)\n",
    "U = np.random.randn(N,K)\n",
    "V = np.random.randn(M,K)\n",
    "a_u = np.random.randn(N,N_u)# for each user, we have N_u dims vector\n",
    "W_u = np.random.randn(K,N_u)\n",
    "a_v = np.random.randn(M,M_v)\n",
    "W_v = np.random.randn(K,M_v)# for each problem, we have N_v dims vector\n",
    "\n",
    "# availbale users\n",
    "ns = np.random.randint(1,N,[1,3])[0]\n",
    "ms = np.random.randint(1,M,[1,2])[0]\n"
   ]
  },
  {
   "cell_type": "code",
   "execution_count": 3,
   "metadata": {},
   "outputs": [],
   "source": [
    "# X[ns][:,ms].shape,X.shape"
   ]
  },
  {
   "cell_type": "code",
   "execution_count": 4,
   "metadata": {},
   "outputs": [],
   "source": [
    "theta_n = np.random.randn(N,1)\n",
    "theta_m = np.random.randn(M,1)\n",
    "lambda_x,lambda_u,lambda_v = 1,1,1"
   ]
  },
  {
   "cell_type": "code",
   "execution_count": 5,
   "metadata": {},
   "outputs": [],
   "source": [
    "# for each users\n",
    "# X_new = X[ns,:][ms]\n",
    "mid2, mid3 = 0, 0\n",
    "for i in range(ns.shape[0]):\n",
    "    mid1 = np.dot(V.T, V) + lambda_u*np.eye(K)\n",
    "    # pick those m, which have values\n",
    "    for j in ms: #range(ms.shape[0]):\n",
    "        mid2 += (X[i][j] - theta_n[i] - theta_m[j])*lambda_x*V[j] - lambda_u*np.dot(a_u[i],W_u.T)\n",
    "        mid3 += (X[i][j] - np.dot(U[i],V[j].T)) - theta_m[j]\n",
    "    U[i,:] = np.dot(np.linalg.inv(mid1), mid2)\n",
    "    theta_n[i] = mid3"
   ]
  },
  {
   "cell_type": "code",
   "execution_count": 6,
   "metadata": {},
   "outputs": [],
   "source": [
    "# for each items\n",
    "mid2, mid3 = 0, 0\n",
    "for i in range(ms.shape[0]):\n",
    "    mid1 = np.dot(U.T, U) + lambda_v*np.eye(K)\n",
    "    # pick those m, which have values\n",
    "    for j in ns: #range(ms.shape[0]):\n",
    "        mid2 += (X[j][i] - theta_m[i] - theta_n[j])*lambda_x*U[j] - lambda_v*np.dot(a_v[i],W_v.T)\n",
    "        mid3 += (X[j][i] - np.dot(U[j],V[i].T)) - theta_n[j]\n",
    "\n",
    "    V[i,:] = np.dot(np.linalg.inv(mid1), mid2)\n",
    "    theta_m[i] = mid3"
   ]
  },
  {
   "cell_type": "code",
   "execution_count": 7,
   "metadata": {},
   "outputs": [],
   "source": [
    "W_u = np.dot(np.dot(U.T,a_u), np.linalg.inv(np.dot(a_u.T,a_u)))\n",
    "W_v = np.dot(np.dot(V.T,a_v), np.linalg.inv(np.dot(a_v.T,a_v)))\n"
   ]
  },
  {
   "cell_type": "code",
   "execution_count": null,
   "metadata": {},
   "outputs": [],
   "source": []
  }
 ],
 "metadata": {
  "kernelspec": {
   "display_name": "Python 3",
   "language": "python",
   "name": "python3"
  },
  "language_info": {
   "codemirror_mode": {
    "name": "ipython",
    "version": 3
   },
   "file_extension": ".py",
   "mimetype": "text/x-python",
   "name": "python",
   "nbconvert_exporter": "python",
   "pygments_lexer": "ipython3",
   "version": "3.6.6"
  }
 },
 "nbformat": 4,
 "nbformat_minor": 2
}
