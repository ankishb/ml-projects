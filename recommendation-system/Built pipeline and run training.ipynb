{
 "cells": [
  {
   "cell_type": "code",
   "execution_count": 1,
   "metadata": {},
   "outputs": [],
   "source": [
    "import pandas as pd\n",
    "import numpy as np\n",
    "\n",
    "import matplotlib.pyplot as plt\n",
    "%matplotlib inline"
   ]
  },
  {
   "cell_type": "code",
   "execution_count": null,
   "metadata": {},
   "outputs": [],
   "source": [
    "# problems = pd.read_csv('problems_features.csv')\n",
    "# tags = problems['tags'].unique()\n",
    "\n",
    "# [one_hot(d, 50) for d in tags[1:]]\n",
    "\n",
    "# max_length = 4\n",
    "# padded_docs = pad_sequences(encoded_docs, maxlen=max_length, padding='post')\n",
    "# print(padded_docs)"
   ]
  },
  {
   "cell_type": "code",
   "execution_count": null,
   "metadata": {},
   "outputs": [],
   "source": [
    "# max_length = 4\n",
    "# padded_docs = pad_sequences(encoded_docs, maxlen=max_length, padding='post')\n",
    "# print(padded_docs)"
   ]
  },
  {
   "cell_type": "code",
   "execution_count": null,
   "metadata": {},
   "outputs": [],
   "source": [
    "# model = Sequential()\n",
    "# e = Embedding(vocab_size, 100, weights=[embedding_matrix], input_length=4, trainable=False)\n",
    "# model.add(e)\n",
    "# model.add(Flatten())\n"
   ]
  },
  {
   "cell_type": "code",
   "execution_count": 34,
   "metadata": {},
   "outputs": [],
   "source": [
    "# results = pd.read_csv('data/train/train_submissions.csv')\n",
    "# test = pd.read_csv('data/test_submissions_NeDLEvX.csv')\n",
    "# users = pd.read_csv('cleaned_users.csv')\n",
    "problems = pd.read_csv('problems_features.csv')\n",
    "# results.shape, test.shape, problems.shape, users.shape"
   ]
  },
  {
   "cell_type": "code",
   "execution_count": 173,
   "metadata": {},
   "outputs": [],
   "source": [
    "test = pd.read_csv('data/test_submissions_NeDLEvX.csv')\n"
   ]
  },
  {
   "cell_type": "code",
   "execution_count": 4,
   "metadata": {},
   "outputs": [
    {
     "data": {
      "text/html": [
       "<div>\n",
       "<style scoped>\n",
       "    .dataframe tbody tr th:only-of-type {\n",
       "        vertical-align: middle;\n",
       "    }\n",
       "\n",
       "    .dataframe tbody tr th {\n",
       "        vertical-align: top;\n",
       "    }\n",
       "\n",
       "    .dataframe thead th {\n",
       "        text-align: right;\n",
       "    }\n",
       "</style>\n",
       "<table border=\"1\" class=\"dataframe\">\n",
       "  <thead>\n",
       "    <tr style=\"text-align: right;\">\n",
       "      <th></th>\n",
       "      <th>Unnamed: 0</th>\n",
       "      <th>user_id</th>\n",
       "      <th>submission_count</th>\n",
       "      <th>problem_solved</th>\n",
       "      <th>contribution</th>\n",
       "      <th>follower_count</th>\n",
       "      <th>max_rating</th>\n",
       "      <th>rating</th>\n",
       "      <th>rank</th>\n",
       "      <th>rank_enc</th>\n",
       "      <th>contribution_abs</th>\n",
       "    </tr>\n",
       "  </thead>\n",
       "  <tbody>\n",
       "    <tr>\n",
       "      <th>0</th>\n",
       "      <td>0</td>\n",
       "      <td>user_3311</td>\n",
       "      <td>47</td>\n",
       "      <td>40</td>\n",
       "      <td>0</td>\n",
       "      <td>4</td>\n",
       "      <td>348.337</td>\n",
       "      <td>330.849</td>\n",
       "      <td>intermediate</td>\n",
       "      <td>3</td>\n",
       "      <td>0</td>\n",
       "    </tr>\n",
       "    <tr>\n",
       "      <th>1</th>\n",
       "      <td>1</td>\n",
       "      <td>user_3028</td>\n",
       "      <td>63</td>\n",
       "      <td>52</td>\n",
       "      <td>0</td>\n",
       "      <td>17</td>\n",
       "      <td>405.677</td>\n",
       "      <td>339.450</td>\n",
       "      <td>intermediate</td>\n",
       "      <td>3</td>\n",
       "      <td>0</td>\n",
       "    </tr>\n",
       "    <tr>\n",
       "      <th>2</th>\n",
       "      <td>2</td>\n",
       "      <td>user_2268</td>\n",
       "      <td>226</td>\n",
       "      <td>203</td>\n",
       "      <td>-8</td>\n",
       "      <td>24</td>\n",
       "      <td>307.339</td>\n",
       "      <td>284.404</td>\n",
       "      <td>beginner</td>\n",
       "      <td>1</td>\n",
       "      <td>8</td>\n",
       "    </tr>\n",
       "    <tr>\n",
       "      <th>3</th>\n",
       "      <td>3</td>\n",
       "      <td>user_480</td>\n",
       "      <td>611</td>\n",
       "      <td>490</td>\n",
       "      <td>1</td>\n",
       "      <td>94</td>\n",
       "      <td>525.803</td>\n",
       "      <td>471.330</td>\n",
       "      <td>advanced</td>\n",
       "      <td>0</td>\n",
       "      <td>1</td>\n",
       "    </tr>\n",
       "    <tr>\n",
       "      <th>4</th>\n",
       "      <td>4</td>\n",
       "      <td>user_650</td>\n",
       "      <td>504</td>\n",
       "      <td>479</td>\n",
       "      <td>12</td>\n",
       "      <td>4</td>\n",
       "      <td>548.739</td>\n",
       "      <td>486.525</td>\n",
       "      <td>advanced</td>\n",
       "      <td>0</td>\n",
       "      <td>12</td>\n",
       "    </tr>\n",
       "  </tbody>\n",
       "</table>\n",
       "</div>"
      ],
      "text/plain": [
       "   Unnamed: 0    user_id  submission_count  problem_solved  contribution  \\\n",
       "0           0  user_3311                47              40             0   \n",
       "1           1  user_3028                63              52             0   \n",
       "2           2  user_2268               226             203            -8   \n",
       "3           3   user_480               611             490             1   \n",
       "4           4   user_650               504             479            12   \n",
       "\n",
       "   follower_count  max_rating   rating          rank  rank_enc  \\\n",
       "0               4     348.337  330.849  intermediate         3   \n",
       "1              17     405.677  339.450  intermediate         3   \n",
       "2              24     307.339  284.404      beginner         1   \n",
       "3              94     525.803  471.330      advanced         0   \n",
       "4               4     548.739  486.525      advanced         0   \n",
       "\n",
       "   contribution_abs  \n",
       "0                 0  \n",
       "1                 0  \n",
       "2                 8  \n",
       "3                 1  \n",
       "4                12  "
      ]
     },
     "execution_count": 4,
     "metadata": {},
     "output_type": "execute_result"
    }
   ],
   "source": [
    "users.head()"
   ]
  },
  {
   "cell_type": "code",
   "execution_count": 5,
   "metadata": {},
   "outputs": [
    {
     "data": {
      "text/plain": [
       "Index(['Unnamed: 0', 'problem_id', 'level_type', 'points', 'tags', 'tag_dict',\n",
       "       'tag_vect'],\n",
       "      dtype='object')"
      ]
     },
     "execution_count": 5,
     "metadata": {},
     "output_type": "execute_result"
    }
   ],
   "source": [
    "problems.columns"
   ]
  },
  {
   "cell_type": "code",
   "execution_count": 6,
   "metadata": {},
   "outputs": [
    {
     "data": {
      "text/plain": [
       "Index(['Unnamed: 0', 'user_id', 'submission_count', 'problem_solved',\n",
       "       'contribution', 'follower_count', 'max_rating', 'rating', 'rank',\n",
       "       'rank_enc', 'contribution_abs'],\n",
       "      dtype='object')"
      ]
     },
     "execution_count": 6,
     "metadata": {},
     "output_type": "execute_result"
    }
   ],
   "source": [
    "users.columns"
   ]
  },
  {
   "cell_type": "code",
   "execution_count": null,
   "metadata": {},
   "outputs": [],
   "source": [
    "temp = pd.concat([test, results], axis=0, ignore_index=True)\n",
    "df.pivot_table('col3',index='col1',columns='col2')\n",
    "np.argwhere(df.notnull().values)"
   ]
  },
  {
   "cell_type": "code",
   "execution_count": 7,
   "metadata": {},
   "outputs": [
    {
     "data": {
      "text/html": [
       "<div>\n",
       "<style scoped>\n",
       "    .dataframe tbody tr th:only-of-type {\n",
       "        vertical-align: middle;\n",
       "    }\n",
       "\n",
       "    .dataframe tbody tr th {\n",
       "        vertical-align: top;\n",
       "    }\n",
       "\n",
       "    .dataframe thead th {\n",
       "        text-align: right;\n",
       "    }\n",
       "</style>\n",
       "<table border=\"1\" class=\"dataframe\">\n",
       "  <thead>\n",
       "    <tr style=\"text-align: right;\">\n",
       "      <th></th>\n",
       "      <th>Unnamed: 0</th>\n",
       "      <th>user_id</th>\n",
       "      <th>submission_count</th>\n",
       "      <th>problem_solved</th>\n",
       "      <th>contribution</th>\n",
       "      <th>follower_count</th>\n",
       "      <th>max_rating</th>\n",
       "      <th>rating</th>\n",
       "      <th>rank</th>\n",
       "      <th>rank_enc</th>\n",
       "      <th>contribution_abs</th>\n",
       "    </tr>\n",
       "  </thead>\n",
       "  <tbody>\n",
       "    <tr>\n",
       "      <th>0</th>\n",
       "      <td>0</td>\n",
       "      <td>user_3311</td>\n",
       "      <td>47</td>\n",
       "      <td>40</td>\n",
       "      <td>0</td>\n",
       "      <td>4</td>\n",
       "      <td>348.337</td>\n",
       "      <td>330.849</td>\n",
       "      <td>intermediate</td>\n",
       "      <td>3</td>\n",
       "      <td>0</td>\n",
       "    </tr>\n",
       "    <tr>\n",
       "      <th>1</th>\n",
       "      <td>1</td>\n",
       "      <td>user_3028</td>\n",
       "      <td>63</td>\n",
       "      <td>52</td>\n",
       "      <td>0</td>\n",
       "      <td>17</td>\n",
       "      <td>405.677</td>\n",
       "      <td>339.450</td>\n",
       "      <td>intermediate</td>\n",
       "      <td>3</td>\n",
       "      <td>0</td>\n",
       "    </tr>\n",
       "    <tr>\n",
       "      <th>2</th>\n",
       "      <td>2</td>\n",
       "      <td>user_2268</td>\n",
       "      <td>226</td>\n",
       "      <td>203</td>\n",
       "      <td>-8</td>\n",
       "      <td>24</td>\n",
       "      <td>307.339</td>\n",
       "      <td>284.404</td>\n",
       "      <td>beginner</td>\n",
       "      <td>1</td>\n",
       "      <td>8</td>\n",
       "    </tr>\n",
       "    <tr>\n",
       "      <th>3</th>\n",
       "      <td>3</td>\n",
       "      <td>user_480</td>\n",
       "      <td>611</td>\n",
       "      <td>490</td>\n",
       "      <td>1</td>\n",
       "      <td>94</td>\n",
       "      <td>525.803</td>\n",
       "      <td>471.330</td>\n",
       "      <td>advanced</td>\n",
       "      <td>0</td>\n",
       "      <td>1</td>\n",
       "    </tr>\n",
       "    <tr>\n",
       "      <th>4</th>\n",
       "      <td>4</td>\n",
       "      <td>user_650</td>\n",
       "      <td>504</td>\n",
       "      <td>479</td>\n",
       "      <td>12</td>\n",
       "      <td>4</td>\n",
       "      <td>548.739</td>\n",
       "      <td>486.525</td>\n",
       "      <td>advanced</td>\n",
       "      <td>0</td>\n",
       "      <td>12</td>\n",
       "    </tr>\n",
       "  </tbody>\n",
       "</table>\n",
       "</div>"
      ],
      "text/plain": [
       "   Unnamed: 0    user_id  submission_count  problem_solved  contribution  \\\n",
       "0           0  user_3311                47              40             0   \n",
       "1           1  user_3028                63              52             0   \n",
       "2           2  user_2268               226             203            -8   \n",
       "3           3   user_480               611             490             1   \n",
       "4           4   user_650               504             479            12   \n",
       "\n",
       "   follower_count  max_rating   rating          rank  rank_enc  \\\n",
       "0               4     348.337  330.849  intermediate         3   \n",
       "1              17     405.677  339.450  intermediate         3   \n",
       "2              24     307.339  284.404      beginner         1   \n",
       "3              94     525.803  471.330      advanced         0   \n",
       "4               4     548.739  486.525      advanced         0   \n",
       "\n",
       "   contribution_abs  \n",
       "0                 0  \n",
       "1                 0  \n",
       "2                 8  \n",
       "3                 1  \n",
       "4                12  "
      ]
     },
     "execution_count": 7,
     "metadata": {},
     "output_type": "execute_result"
    }
   ],
   "source": [
    "users.head()"
   ]
  },
  {
   "cell_type": "markdown",
   "metadata": {},
   "source": [
    "### Encoding all user and prob ids"
   ]
  },
  {
   "cell_type": "code",
   "execution_count": 175,
   "metadata": {},
   "outputs": [],
   "source": [
    "from sklearn.preprocessing import LabelEncoder\n",
    "\n",
    "enc = LabelEncoder()\n",
    "\n",
    "u_ids = list(users.user_id.values) + list(results.user_id.values) + list(test.user_id.values)\n",
    "p_ids = list(problems.problem_id.values) + list(results.problem_id.values) + list(test.problem_id.values)\n",
    "\n",
    "enc.fit(u_ids)\n",
    "users['user_id_enc'] = enc.transform(users.user_id)\n",
    "results['user_id_enc'] = enc.transform(results.user_id)\n",
    "test['user_id_enc'] = enc.transform(test.user_id)\n",
    "\n",
    "enc.fit(p_ids)\n",
    "problems['problem_id_enc'] = enc.transform(problems.problem_id)\n",
    "results['problem_id_enc'] = enc.transform(results.problem_id)\n",
    "test['problem_id_enc'] = enc.transform(test.problem_id)"
   ]
  },
  {
   "cell_type": "code",
   "execution_count": 14,
   "metadata": {},
   "outputs": [
    {
     "data": {
      "text/plain": [
       "Index(['Unnamed: 0', 'user_id', 'submission_count', 'problem_solved',\n",
       "       'contribution', 'follower_count', 'max_rating', 'rating', 'rank',\n",
       "       'rank_enc', 'contribution_abs', 'user_id_enc'],\n",
       "      dtype='object')"
      ]
     },
     "execution_count": 14,
     "metadata": {},
     "output_type": "execute_result"
    }
   ],
   "source": [
    "cols = users.columns\n",
    "cols"
   ]
  },
  {
   "cell_type": "code",
   "execution_count": 87,
   "metadata": {},
   "outputs": [],
   "source": [
    "# plt.plot(users[cols[idx]])\n",
    "# plt.title(cols[idx])\n",
    "# idx += 1"
   ]
  },
  {
   "cell_type": "markdown",
   "metadata": {},
   "source": [
    "## Replacing the outliers with the median of that feature"
   ]
  },
  {
   "cell_type": "code",
   "execution_count": 85,
   "metadata": {},
   "outputs": [],
   "source": [
    "cols = ['submission_count', 'problem_solved',\n",
    "       'contribution_abs', 'follower_count', 'max_rating', 'rating']\n",
    "for idx in cols:\n",
    "    mean, std = users[idx].mean(), users[idx].std()\n",
    "    median = users[idx].loc[(users[idx] - mean).abs() < 3*std].median()\n",
    "    users[idx +'new'] = np.where((users[idx] - mean).abs() > 3*std, median,users[idx])\n",
    "    "
   ]
  },
  {
   "cell_type": "code",
   "execution_count": 80,
   "metadata": {},
   "outputs": [
    {
     "data": {
      "text/plain": [
       "(299.4810977317278, 366.10288671657946, 164.0)"
      ]
     },
     "execution_count": 80,
     "metadata": {},
     "output_type": "execute_result"
    }
   ],
   "source": []
  },
  {
   "cell_type": "code",
   "execution_count": 92,
   "metadata": {},
   "outputs": [
    {
     "data": {
      "text/plain": [
       "Index(['Unnamed: 0', 'problem_id', 'level_type', 'points', 'tags', 'tag_dict',\n",
       "       'tag_vect', 'problem_id_enc'],\n",
       "      dtype='object')"
      ]
     },
     "execution_count": 92,
     "metadata": {},
     "output_type": "execute_result"
    }
   ],
   "source": [
    "problems.columns"
   ]
  },
  {
   "cell_type": "code",
   "execution_count": 86,
   "metadata": {},
   "outputs": [
    {
     "data": {
      "text/html": [
       "<div>\n",
       "<style scoped>\n",
       "    .dataframe tbody tr th:only-of-type {\n",
       "        vertical-align: middle;\n",
       "    }\n",
       "\n",
       "    .dataframe tbody tr th {\n",
       "        vertical-align: top;\n",
       "    }\n",
       "\n",
       "    .dataframe thead th {\n",
       "        text-align: right;\n",
       "    }\n",
       "</style>\n",
       "<table border=\"1\" class=\"dataframe\">\n",
       "  <thead>\n",
       "    <tr style=\"text-align: right;\">\n",
       "      <th></th>\n",
       "      <th>Unnamed: 0</th>\n",
       "      <th>user_id</th>\n",
       "      <th>submission_count</th>\n",
       "      <th>problem_solved</th>\n",
       "      <th>contribution</th>\n",
       "      <th>follower_count</th>\n",
       "      <th>max_rating</th>\n",
       "      <th>rating</th>\n",
       "      <th>rank</th>\n",
       "      <th>rank_enc</th>\n",
       "      <th>contribution_abs</th>\n",
       "      <th>user_id_enc</th>\n",
       "      <th>testing</th>\n",
       "      <th>submission_countnew</th>\n",
       "      <th>problem_solvednew</th>\n",
       "      <th>contribution_absnew</th>\n",
       "      <th>follower_countnew</th>\n",
       "      <th>max_ratingnew</th>\n",
       "      <th>ratingnew</th>\n",
       "    </tr>\n",
       "  </thead>\n",
       "  <tbody>\n",
       "    <tr>\n",
       "      <th>0</th>\n",
       "      <td>0</td>\n",
       "      <td>user_3311</td>\n",
       "      <td>47</td>\n",
       "      <td>40</td>\n",
       "      <td>0</td>\n",
       "      <td>4</td>\n",
       "      <td>348.337</td>\n",
       "      <td>330.849</td>\n",
       "      <td>intermediate</td>\n",
       "      <td>3</td>\n",
       "      <td>0</td>\n",
       "      <td>2570</td>\n",
       "      <td>47.0</td>\n",
       "      <td>47.0</td>\n",
       "      <td>40.0</td>\n",
       "      <td>0.0</td>\n",
       "      <td>4.0</td>\n",
       "      <td>348.337</td>\n",
       "      <td>330.849</td>\n",
       "    </tr>\n",
       "    <tr>\n",
       "      <th>1</th>\n",
       "      <td>1</td>\n",
       "      <td>user_3028</td>\n",
       "      <td>63</td>\n",
       "      <td>52</td>\n",
       "      <td>0</td>\n",
       "      <td>17</td>\n",
       "      <td>405.677</td>\n",
       "      <td>339.450</td>\n",
       "      <td>intermediate</td>\n",
       "      <td>3</td>\n",
       "      <td>0</td>\n",
       "      <td>2255</td>\n",
       "      <td>63.0</td>\n",
       "      <td>63.0</td>\n",
       "      <td>52.0</td>\n",
       "      <td>0.0</td>\n",
       "      <td>17.0</td>\n",
       "      <td>405.677</td>\n",
       "      <td>339.450</td>\n",
       "    </tr>\n",
       "    <tr>\n",
       "      <th>2</th>\n",
       "      <td>2</td>\n",
       "      <td>user_2268</td>\n",
       "      <td>226</td>\n",
       "      <td>203</td>\n",
       "      <td>-8</td>\n",
       "      <td>24</td>\n",
       "      <td>307.339</td>\n",
       "      <td>284.404</td>\n",
       "      <td>beginner</td>\n",
       "      <td>1</td>\n",
       "      <td>8</td>\n",
       "      <td>1410</td>\n",
       "      <td>226.0</td>\n",
       "      <td>226.0</td>\n",
       "      <td>203.0</td>\n",
       "      <td>8.0</td>\n",
       "      <td>24.0</td>\n",
       "      <td>307.339</td>\n",
       "      <td>284.404</td>\n",
       "    </tr>\n",
       "    <tr>\n",
       "      <th>3</th>\n",
       "      <td>3</td>\n",
       "      <td>user_480</td>\n",
       "      <td>611</td>\n",
       "      <td>490</td>\n",
       "      <td>1</td>\n",
       "      <td>94</td>\n",
       "      <td>525.803</td>\n",
       "      <td>471.330</td>\n",
       "      <td>advanced</td>\n",
       "      <td>0</td>\n",
       "      <td>1</td>\n",
       "      <td>2995</td>\n",
       "      <td>611.0</td>\n",
       "      <td>611.0</td>\n",
       "      <td>490.0</td>\n",
       "      <td>1.0</td>\n",
       "      <td>94.0</td>\n",
       "      <td>525.803</td>\n",
       "      <td>471.330</td>\n",
       "    </tr>\n",
       "    <tr>\n",
       "      <th>4</th>\n",
       "      <td>4</td>\n",
       "      <td>user_650</td>\n",
       "      <td>504</td>\n",
       "      <td>479</td>\n",
       "      <td>12</td>\n",
       "      <td>4</td>\n",
       "      <td>548.739</td>\n",
       "      <td>486.525</td>\n",
       "      <td>advanced</td>\n",
       "      <td>0</td>\n",
       "      <td>12</td>\n",
       "      <td>3184</td>\n",
       "      <td>504.0</td>\n",
       "      <td>504.0</td>\n",
       "      <td>479.0</td>\n",
       "      <td>12.0</td>\n",
       "      <td>4.0</td>\n",
       "      <td>548.739</td>\n",
       "      <td>486.525</td>\n",
       "    </tr>\n",
       "  </tbody>\n",
       "</table>\n",
       "</div>"
      ],
      "text/plain": [
       "   Unnamed: 0    user_id  submission_count  problem_solved  contribution  \\\n",
       "0           0  user_3311                47              40             0   \n",
       "1           1  user_3028                63              52             0   \n",
       "2           2  user_2268               226             203            -8   \n",
       "3           3   user_480               611             490             1   \n",
       "4           4   user_650               504             479            12   \n",
       "\n",
       "   follower_count  max_rating   rating          rank  rank_enc  \\\n",
       "0               4     348.337  330.849  intermediate         3   \n",
       "1              17     405.677  339.450  intermediate         3   \n",
       "2              24     307.339  284.404      beginner         1   \n",
       "3              94     525.803  471.330      advanced         0   \n",
       "4               4     548.739  486.525      advanced         0   \n",
       "\n",
       "   contribution_abs  user_id_enc  testing  submission_countnew  \\\n",
       "0                 0         2570     47.0                 47.0   \n",
       "1                 0         2255     63.0                 63.0   \n",
       "2                 8         1410    226.0                226.0   \n",
       "3                 1         2995    611.0                611.0   \n",
       "4                12         3184    504.0                504.0   \n",
       "\n",
       "   problem_solvednew  contribution_absnew  follower_countnew  max_ratingnew  \\\n",
       "0               40.0                  0.0                4.0        348.337   \n",
       "1               52.0                  0.0               17.0        405.677   \n",
       "2              203.0                  8.0               24.0        307.339   \n",
       "3              490.0                  1.0               94.0        525.803   \n",
       "4              479.0                 12.0                4.0        548.739   \n",
       "\n",
       "   ratingnew  \n",
       "0    330.849  \n",
       "1    339.450  \n",
       "2    284.404  \n",
       "3    471.330  \n",
       "4    486.525  "
      ]
     },
     "execution_count": 86,
     "metadata": {},
     "output_type": "execute_result"
    }
   ],
   "source": [
    "users.head()"
   ]
  },
  {
   "cell_type": "code",
   "execution_count": 98,
   "metadata": {},
   "outputs": [],
   "source": [
    "problems['level_type'] = problems['level_type'].fillna('O')"
   ]
  },
  {
   "cell_type": "code",
   "execution_count": 99,
   "metadata": {},
   "outputs": [],
   "source": [
    "enc.fit(problems['level_type'])\n",
    "problems['level_type_enc'] = enc.transform(problems['level_type'])"
   ]
  },
  {
   "cell_type": "code",
   "execution_count": 100,
   "metadata": {},
   "outputs": [
    {
     "data": {
      "text/html": [
       "<div>\n",
       "<style scoped>\n",
       "    .dataframe tbody tr th:only-of-type {\n",
       "        vertical-align: middle;\n",
       "    }\n",
       "\n",
       "    .dataframe tbody tr th {\n",
       "        vertical-align: top;\n",
       "    }\n",
       "\n",
       "    .dataframe thead th {\n",
       "        text-align: right;\n",
       "    }\n",
       "</style>\n",
       "<table border=\"1\" class=\"dataframe\">\n",
       "  <thead>\n",
       "    <tr style=\"text-align: right;\">\n",
       "      <th></th>\n",
       "      <th>Unnamed: 0</th>\n",
       "      <th>problem_id</th>\n",
       "      <th>level_type</th>\n",
       "      <th>points</th>\n",
       "      <th>tags</th>\n",
       "      <th>tag_dict</th>\n",
       "      <th>tag_vect</th>\n",
       "      <th>problem_id_enc</th>\n",
       "      <th>level_type_enc</th>\n",
       "    </tr>\n",
       "  </thead>\n",
       "  <tbody>\n",
       "    <tr>\n",
       "      <th>0</th>\n",
       "      <td>0</td>\n",
       "      <td>prob_3649</td>\n",
       "      <td>H</td>\n",
       "      <td>NaN</td>\n",
       "      <td>NaN</td>\n",
       "      <td>NaN</td>\n",
       "      <td>NaN</td>\n",
       "      <td>2944</td>\n",
       "      <td>7</td>\n",
       "    </tr>\n",
       "    <tr>\n",
       "      <th>1</th>\n",
       "      <td>1</td>\n",
       "      <td>prob_6191</td>\n",
       "      <td>A</td>\n",
       "      <td>NaN</td>\n",
       "      <td>NaN</td>\n",
       "      <td>NaN</td>\n",
       "      <td>NaN</td>\n",
       "      <td>5769</td>\n",
       "      <td>0</td>\n",
       "    </tr>\n",
       "    <tr>\n",
       "      <th>2</th>\n",
       "      <td>2</td>\n",
       "      <td>prob_2020</td>\n",
       "      <td>F</td>\n",
       "      <td>NaN</td>\n",
       "      <td>NaN</td>\n",
       "      <td>NaN</td>\n",
       "      <td>NaN</td>\n",
       "      <td>1136</td>\n",
       "      <td>5</td>\n",
       "    </tr>\n",
       "    <tr>\n",
       "      <th>3</th>\n",
       "      <td>3</td>\n",
       "      <td>prob_313</td>\n",
       "      <td>A</td>\n",
       "      <td>500.0</td>\n",
       "      <td>greedy,implementation</td>\n",
       "      <td>['greedy', 'implementation']</td>\n",
       "      <td>(0, 35)\\t0.643835105031232\\n  (0, 33)\\t0.765...</td>\n",
       "      <td>2368</td>\n",
       "      <td>0</td>\n",
       "    </tr>\n",
       "    <tr>\n",
       "      <th>4</th>\n",
       "      <td>4</td>\n",
       "      <td>prob_101</td>\n",
       "      <td>A</td>\n",
       "      <td>500.0</td>\n",
       "      <td>constructive algorithms,greedy,math</td>\n",
       "      <td>['constructive algorithms', 'greedy', 'math']</td>\n",
       "      <td>(0, 37)\\t0.4053203601812274\\n  (0, 33)\\t0.40...</td>\n",
       "      <td>13</td>\n",
       "      <td>0</td>\n",
       "    </tr>\n",
       "  </tbody>\n",
       "</table>\n",
       "</div>"
      ],
      "text/plain": [
       "   Unnamed: 0 problem_id level_type  points  \\\n",
       "0           0  prob_3649          H     NaN   \n",
       "1           1  prob_6191          A     NaN   \n",
       "2           2  prob_2020          F     NaN   \n",
       "3           3   prob_313          A   500.0   \n",
       "4           4   prob_101          A   500.0   \n",
       "\n",
       "                                  tags  \\\n",
       "0                                  NaN   \n",
       "1                                  NaN   \n",
       "2                                  NaN   \n",
       "3                greedy,implementation   \n",
       "4  constructive algorithms,greedy,math   \n",
       "\n",
       "                                        tag_dict  \\\n",
       "0                                            NaN   \n",
       "1                                            NaN   \n",
       "2                                            NaN   \n",
       "3                   ['greedy', 'implementation']   \n",
       "4  ['constructive algorithms', 'greedy', 'math']   \n",
       "\n",
       "                                            tag_vect  problem_id_enc  \\\n",
       "0                                                NaN            2944   \n",
       "1                                                NaN            5769   \n",
       "2                                                NaN            1136   \n",
       "3    (0, 35)\\t0.643835105031232\\n  (0, 33)\\t0.765...            2368   \n",
       "4    (0, 37)\\t0.4053203601812274\\n  (0, 33)\\t0.40...              13   \n",
       "\n",
       "   level_type_enc  \n",
       "0               7  \n",
       "1               0  \n",
       "2               5  \n",
       "3               0  \n",
       "4               0  "
      ]
     },
     "execution_count": 100,
     "metadata": {},
     "output_type": "execute_result"
    }
   ],
   "source": [
    "problems.head()"
   ]
  },
  {
   "cell_type": "code",
   "execution_count": 105,
   "metadata": {},
   "outputs": [
    {
     "data": {
      "text/plain": [
       "0                                    The\n",
       "1                                    The\n",
       "2                                    The\n",
       "3                  greedy,implementation\n",
       "4    constructive algorithms,greedy,math\n",
       "Name: tags, dtype: object"
      ]
     },
     "execution_count": 105,
     "metadata": {},
     "output_type": "execute_result"
    }
   ],
   "source": [
    "problems['tags'].fillna('The')[:5]"
   ]
  },
  {
   "cell_type": "code",
   "execution_count": 103,
   "metadata": {},
   "outputs": [],
   "source": [
    "problems['tags_list'] = problems['tags'].fillna('The')"
   ]
  },
  {
   "cell_type": "markdown",
   "metadata": {},
   "source": [
    "## convert tags into sequnce"
   ]
  },
  {
   "cell_type": "code",
   "execution_count": 106,
   "metadata": {},
   "outputs": [
    {
     "name": "stderr",
     "output_type": "stream",
     "text": [
      "Using TensorFlow backend.\n"
     ]
    }
   ],
   "source": [
    "from keras.preprocessing.text import one_hot\n",
    "from keras.preprocessing.sequence import pad_sequences"
   ]
  },
  {
   "cell_type": "code",
   "execution_count": 114,
   "metadata": {},
   "outputs": [
    {
     "data": {
      "text/plain": [
       "[[33], [33], [33], [28, 13], [47, 14, 28, 39], [33]]"
      ]
     },
     "execution_count": 114,
     "metadata": {},
     "output_type": "execute_result"
    }
   ],
   "source": [
    "tags = problems['tags_list']#.unique()\n",
    "\n",
    "[one_hot(d, 50) for d in tags][:6]\n"
   ]
  },
  {
   "cell_type": "code",
   "execution_count": 121,
   "metadata": {},
   "outputs": [],
   "source": [
    "problems['tags_list_seq'] = problems['tags_list'].map(lambda x: one_hot(x,10))"
   ]
  },
  {
   "cell_type": "code",
   "execution_count": null,
   "metadata": {},
   "outputs": [],
   "source": [
    "pad_sequences([one_hot(d, 50) for d in tags], maxlen=5, padding='post')"
   ]
  },
  {
   "cell_type": "code",
   "execution_count": 115,
   "metadata": {},
   "outputs": [
    {
     "data": {
      "text/plain": [
       "array([[33,  0,  0,  0,  0],\n",
       "       [33,  0,  0,  0,  0],\n",
       "       [33,  0,  0,  0,  0],\n",
       "       [28, 13,  0,  0,  0],\n",
       "       [47, 14, 28, 39,  0],\n",
       "       [33,  0,  0,  0,  0]], dtype=int32)"
      ]
     },
     "execution_count": 115,
     "metadata": {},
     "output_type": "execute_result"
    }
   ],
   "source": [
    "pads = pad_sequences([one_hot(d, 50) for d in tags], maxlen=5, padding='post')[:6]"
   ]
  },
  {
   "cell_type": "code",
   "execution_count": 141,
   "metadata": {},
   "outputs": [],
   "source": [
    "pads = pad_sequences([one_hot(d, 50) for d in tags], maxlen=5, padding='post')"
   ]
  },
  {
   "cell_type": "code",
   "execution_count": 144,
   "metadata": {},
   "outputs": [],
   "source": [
    "pads_list = []\n",
    "for i in range(pads.shape[0]):\n",
    "#     print(pads[i])\n",
    "    pads_list.append(list(pads[i]))"
   ]
  },
  {
   "cell_type": "code",
   "execution_count": 150,
   "metadata": {},
   "outputs": [],
   "source": [
    "test = pd.Series(pads_list)\n",
    "problems['tags_list_seq_pad'] = test.values"
   ]
  },
  {
   "cell_type": "code",
   "execution_count": 154,
   "metadata": {},
   "outputs": [
    {
     "data": {
      "text/html": [
       "<div>\n",
       "<style scoped>\n",
       "    .dataframe tbody tr th:only-of-type {\n",
       "        vertical-align: middle;\n",
       "    }\n",
       "\n",
       "    .dataframe tbody tr th {\n",
       "        vertical-align: top;\n",
       "    }\n",
       "\n",
       "    .dataframe thead th {\n",
       "        text-align: right;\n",
       "    }\n",
       "</style>\n",
       "<table border=\"1\" class=\"dataframe\">\n",
       "  <thead>\n",
       "    <tr style=\"text-align: right;\">\n",
       "      <th></th>\n",
       "      <th>Unnamed: 0</th>\n",
       "      <th>problem_id</th>\n",
       "      <th>level_type</th>\n",
       "      <th>points</th>\n",
       "      <th>tags</th>\n",
       "      <th>tag_dict</th>\n",
       "      <th>tag_vect</th>\n",
       "      <th>problem_id_enc</th>\n",
       "      <th>level_type_enc</th>\n",
       "      <th>tags_list</th>\n",
       "      <th>tags_list_seq</th>\n",
       "      <th>tags_list_seq_pad</th>\n",
       "    </tr>\n",
       "  </thead>\n",
       "  <tbody>\n",
       "    <tr>\n",
       "      <th>0</th>\n",
       "      <td>0</td>\n",
       "      <td>prob_3649</td>\n",
       "      <td>H</td>\n",
       "      <td>NaN</td>\n",
       "      <td>NaN</td>\n",
       "      <td>NaN</td>\n",
       "      <td>NaN</td>\n",
       "      <td>2944</td>\n",
       "      <td>7</td>\n",
       "      <td>The</td>\n",
       "      <td>[4]</td>\n",
       "      <td>[33, 0, 0, 0, 0]</td>\n",
       "    </tr>\n",
       "    <tr>\n",
       "      <th>1</th>\n",
       "      <td>1</td>\n",
       "      <td>prob_6191</td>\n",
       "      <td>A</td>\n",
       "      <td>NaN</td>\n",
       "      <td>NaN</td>\n",
       "      <td>NaN</td>\n",
       "      <td>NaN</td>\n",
       "      <td>5769</td>\n",
       "      <td>0</td>\n",
       "      <td>The</td>\n",
       "      <td>[4]</td>\n",
       "      <td>[33, 0, 0, 0, 0]</td>\n",
       "    </tr>\n",
       "    <tr>\n",
       "      <th>2</th>\n",
       "      <td>2</td>\n",
       "      <td>prob_2020</td>\n",
       "      <td>F</td>\n",
       "      <td>NaN</td>\n",
       "      <td>NaN</td>\n",
       "      <td>NaN</td>\n",
       "      <td>NaN</td>\n",
       "      <td>1136</td>\n",
       "      <td>5</td>\n",
       "      <td>The</td>\n",
       "      <td>[4]</td>\n",
       "      <td>[33, 0, 0, 0, 0]</td>\n",
       "    </tr>\n",
       "    <tr>\n",
       "      <th>3</th>\n",
       "      <td>3</td>\n",
       "      <td>prob_313</td>\n",
       "      <td>A</td>\n",
       "      <td>500.0</td>\n",
       "      <td>greedy,implementation</td>\n",
       "      <td>['greedy', 'implementation']</td>\n",
       "      <td>(0, 35)\\t0.643835105031232\\n  (0, 33)\\t0.765...</td>\n",
       "      <td>2368</td>\n",
       "      <td>0</td>\n",
       "      <td>greedy,implementation</td>\n",
       "      <td>[3, 3]</td>\n",
       "      <td>[28, 13, 0, 0, 0]</td>\n",
       "    </tr>\n",
       "    <tr>\n",
       "      <th>4</th>\n",
       "      <td>4</td>\n",
       "      <td>prob_101</td>\n",
       "      <td>A</td>\n",
       "      <td>500.0</td>\n",
       "      <td>constructive algorithms,greedy,math</td>\n",
       "      <td>['constructive algorithms', 'greedy', 'math']</td>\n",
       "      <td>(0, 37)\\t0.4053203601812274\\n  (0, 33)\\t0.40...</td>\n",
       "      <td>13</td>\n",
       "      <td>0</td>\n",
       "      <td>constructive algorithms,greedy,math</td>\n",
       "      <td>[9, 1, 3, 7]</td>\n",
       "      <td>[47, 14, 28, 39, 0]</td>\n",
       "    </tr>\n",
       "  </tbody>\n",
       "</table>\n",
       "</div>"
      ],
      "text/plain": [
       "   Unnamed: 0 problem_id level_type  points  \\\n",
       "0           0  prob_3649          H     NaN   \n",
       "1           1  prob_6191          A     NaN   \n",
       "2           2  prob_2020          F     NaN   \n",
       "3           3   prob_313          A   500.0   \n",
       "4           4   prob_101          A   500.0   \n",
       "\n",
       "                                  tags  \\\n",
       "0                                  NaN   \n",
       "1                                  NaN   \n",
       "2                                  NaN   \n",
       "3                greedy,implementation   \n",
       "4  constructive algorithms,greedy,math   \n",
       "\n",
       "                                        tag_dict  \\\n",
       "0                                            NaN   \n",
       "1                                            NaN   \n",
       "2                                            NaN   \n",
       "3                   ['greedy', 'implementation']   \n",
       "4  ['constructive algorithms', 'greedy', 'math']   \n",
       "\n",
       "                                            tag_vect  problem_id_enc  \\\n",
       "0                                                NaN            2944   \n",
       "1                                                NaN            5769   \n",
       "2                                                NaN            1136   \n",
       "3    (0, 35)\\t0.643835105031232\\n  (0, 33)\\t0.765...            2368   \n",
       "4    (0, 37)\\t0.4053203601812274\\n  (0, 33)\\t0.40...              13   \n",
       "\n",
       "   level_type_enc                            tags_list tags_list_seq  \\\n",
       "0               7                                  The           [4]   \n",
       "1               0                                  The           [4]   \n",
       "2               5                                  The           [4]   \n",
       "3               0                greedy,implementation        [3, 3]   \n",
       "4               0  constructive algorithms,greedy,math  [9, 1, 3, 7]   \n",
       "\n",
       "     tags_list_seq_pad  \n",
       "0     [33, 0, 0, 0, 0]  \n",
       "1     [33, 0, 0, 0, 0]  \n",
       "2     [33, 0, 0, 0, 0]  \n",
       "3    [28, 13, 0, 0, 0]  \n",
       "4  [47, 14, 28, 39, 0]  "
      ]
     },
     "execution_count": 154,
     "metadata": {},
     "output_type": "execute_result"
    }
   ],
   "source": [
    "problems.head()"
   ]
  },
  {
   "cell_type": "markdown",
   "metadata": {},
   "source": [
    "### Drop unnecaasry columns"
   ]
  },
  {
   "cell_type": "code",
   "execution_count": 185,
   "metadata": {},
   "outputs": [
    {
     "data": {
      "text/plain": [
       "543"
      ]
     },
     "execution_count": 185,
     "metadata": {},
     "output_type": "execute_result"
    }
   ],
   "source": [
    "import gc\n",
    "del users,problems,test,results,testing\n",
    "gc.collect()"
   ]
  },
  {
   "cell_type": "code",
   "execution_count": 193,
   "metadata": {},
   "outputs": [],
   "source": [
    "users = pd.read_csv( 'users_feature_encoded_before_drop.csv')\n",
    "problems = pd.read_csv( 'problems_feature_encoded_before_drop.csv')\n",
    "results = pd.read_csv( 'results_feature_encoded_before_drop.csv')\n",
    "tests = pd.read_csv( 'test_feature_encoded_before_drop.csv')"
   ]
  },
  {
   "cell_type": "code",
   "execution_count": 200,
   "metadata": {},
   "outputs": [
    {
     "data": {
      "text/plain": [
       "Index(['Unnamed: 0', 'ID', 'user_id', 'problem_id', 'user_id_enc',\n",
       "       'problem_id_enc'],\n",
       "      dtype='object')"
      ]
     },
     "execution_count": 200,
     "metadata": {},
     "output_type": "execute_result"
    }
   ],
   "source": [
    "tests.columns"
   ]
  },
  {
   "cell_type": "code",
   "execution_count": 202,
   "metadata": {},
   "outputs": [],
   "source": [
    "u_ids = ['Unnamed: 0', 'Unnamed: 0.1', 'user_id', 'submission_count',\n",
    "       'problem_solved', 'contribution', 'follower_count', 'max_rating',\n",
    "       'rating', 'rank', 'contribution_abs','testing']\n",
    "p_ids = ['Unnamed: 0', 'Unnamed: 0.1', 'problem_id', 'level_type', 'points',\n",
    "         'tag_dict', 'tag_vect','tags_list', 'tags_list_seq']\n",
    "r_ids = ['Unnamed: 0', 'user_id', 'problem_id']\n",
    "t_ids = ['Unnamed: 0', 'ID', 'user_id', 'problem_id']"
   ]
  },
  {
   "cell_type": "code",
   "execution_count": 203,
   "metadata": {},
   "outputs": [],
   "source": [
    "users.drop(u_ids, axis=1, inplace=True)\n",
    "problems.drop(p_ids, axis=1, inplace=True)\n",
    "results.drop(r_ids, axis=1, inplace=True)\n",
    "tests.drop(t_ids, axis=1, inplace=True)"
   ]
  },
  {
   "cell_type": "code",
   "execution_count": 205,
   "metadata": {},
   "outputs": [
    {
     "data": {
      "text/plain": [
       "((8,), (4,), (3,), (2,))"
      ]
     },
     "execution_count": 205,
     "metadata": {},
     "output_type": "execute_result"
    }
   ],
   "source": [
    "users.columns.shape, problems.columns.shape, results.columns.shape, tests.columns.shape"
   ]
  },
  {
   "cell_type": "code",
   "execution_count": 206,
   "metadata": {},
   "outputs": [
    {
     "data": {
      "text/html": [
       "<div>\n",
       "<style scoped>\n",
       "    .dataframe tbody tr th:only-of-type {\n",
       "        vertical-align: middle;\n",
       "    }\n",
       "\n",
       "    .dataframe tbody tr th {\n",
       "        vertical-align: top;\n",
       "    }\n",
       "\n",
       "    .dataframe thead th {\n",
       "        text-align: right;\n",
       "    }\n",
       "</style>\n",
       "<table border=\"1\" class=\"dataframe\">\n",
       "  <thead>\n",
       "    <tr style=\"text-align: right;\">\n",
       "      <th></th>\n",
       "      <th>rank_enc</th>\n",
       "      <th>user_id_enc</th>\n",
       "      <th>submission_countnew</th>\n",
       "      <th>problem_solvednew</th>\n",
       "      <th>contribution_absnew</th>\n",
       "      <th>follower_countnew</th>\n",
       "      <th>max_ratingnew</th>\n",
       "      <th>ratingnew</th>\n",
       "    </tr>\n",
       "  </thead>\n",
       "  <tbody>\n",
       "    <tr>\n",
       "      <th>0</th>\n",
       "      <td>3</td>\n",
       "      <td>2570</td>\n",
       "      <td>47.0</td>\n",
       "      <td>40.0</td>\n",
       "      <td>0.0</td>\n",
       "      <td>4.0</td>\n",
       "      <td>348.337</td>\n",
       "      <td>330.849</td>\n",
       "    </tr>\n",
       "    <tr>\n",
       "      <th>1</th>\n",
       "      <td>3</td>\n",
       "      <td>2255</td>\n",
       "      <td>63.0</td>\n",
       "      <td>52.0</td>\n",
       "      <td>0.0</td>\n",
       "      <td>17.0</td>\n",
       "      <td>405.677</td>\n",
       "      <td>339.450</td>\n",
       "    </tr>\n",
       "    <tr>\n",
       "      <th>2</th>\n",
       "      <td>1</td>\n",
       "      <td>1410</td>\n",
       "      <td>226.0</td>\n",
       "      <td>203.0</td>\n",
       "      <td>8.0</td>\n",
       "      <td>24.0</td>\n",
       "      <td>307.339</td>\n",
       "      <td>284.404</td>\n",
       "    </tr>\n",
       "    <tr>\n",
       "      <th>3</th>\n",
       "      <td>0</td>\n",
       "      <td>2995</td>\n",
       "      <td>611.0</td>\n",
       "      <td>490.0</td>\n",
       "      <td>1.0</td>\n",
       "      <td>94.0</td>\n",
       "      <td>525.803</td>\n",
       "      <td>471.330</td>\n",
       "    </tr>\n",
       "    <tr>\n",
       "      <th>4</th>\n",
       "      <td>0</td>\n",
       "      <td>3184</td>\n",
       "      <td>504.0</td>\n",
       "      <td>479.0</td>\n",
       "      <td>12.0</td>\n",
       "      <td>4.0</td>\n",
       "      <td>548.739</td>\n",
       "      <td>486.525</td>\n",
       "    </tr>\n",
       "  </tbody>\n",
       "</table>\n",
       "</div>"
      ],
      "text/plain": [
       "   rank_enc  user_id_enc  submission_countnew  problem_solvednew  \\\n",
       "0         3         2570                 47.0               40.0   \n",
       "1         3         2255                 63.0               52.0   \n",
       "2         1         1410                226.0              203.0   \n",
       "3         0         2995                611.0              490.0   \n",
       "4         0         3184                504.0              479.0   \n",
       "\n",
       "   contribution_absnew  follower_countnew  max_ratingnew  ratingnew  \n",
       "0                  0.0                4.0        348.337    330.849  \n",
       "1                  0.0               17.0        405.677    339.450  \n",
       "2                  8.0               24.0        307.339    284.404  \n",
       "3                  1.0               94.0        525.803    471.330  \n",
       "4                 12.0                4.0        548.739    486.525  "
      ]
     },
     "execution_count": 206,
     "metadata": {},
     "output_type": "execute_result"
    }
   ],
   "source": [
    "users.head()"
   ]
  },
  {
   "cell_type": "code",
   "execution_count": 207,
   "metadata": {},
   "outputs": [
    {
     "data": {
      "text/html": [
       "<div>\n",
       "<style scoped>\n",
       "    .dataframe tbody tr th:only-of-type {\n",
       "        vertical-align: middle;\n",
       "    }\n",
       "\n",
       "    .dataframe tbody tr th {\n",
       "        vertical-align: top;\n",
       "    }\n",
       "\n",
       "    .dataframe thead th {\n",
       "        text-align: right;\n",
       "    }\n",
       "</style>\n",
       "<table border=\"1\" class=\"dataframe\">\n",
       "  <thead>\n",
       "    <tr style=\"text-align: right;\">\n",
       "      <th></th>\n",
       "      <th>attempts_range</th>\n",
       "      <th>user_id_enc</th>\n",
       "      <th>problem_id_enc</th>\n",
       "    </tr>\n",
       "  </thead>\n",
       "  <tbody>\n",
       "    <tr>\n",
       "      <th>0</th>\n",
       "      <td>1</td>\n",
       "      <td>1468</td>\n",
       "      <td>6120</td>\n",
       "    </tr>\n",
       "    <tr>\n",
       "      <th>1</th>\n",
       "      <td>3</td>\n",
       "      <td>2854</td>\n",
       "      <td>2216</td>\n",
       "    </tr>\n",
       "    <tr>\n",
       "      <th>2</th>\n",
       "      <td>1</td>\n",
       "      <td>669</td>\n",
       "      <td>4525</td>\n",
       "    </tr>\n",
       "    <tr>\n",
       "      <th>3</th>\n",
       "      <td>1</td>\n",
       "      <td>1397</td>\n",
       "      <td>6216</td>\n",
       "    </tr>\n",
       "    <tr>\n",
       "      <th>4</th>\n",
       "      <td>1</td>\n",
       "      <td>1470</td>\n",
       "      <td>2845</td>\n",
       "    </tr>\n",
       "  </tbody>\n",
       "</table>\n",
       "</div>"
      ],
      "text/plain": [
       "   attempts_range  user_id_enc  problem_id_enc\n",
       "0               1         1468            6120\n",
       "1               3         2854            2216\n",
       "2               1          669            4525\n",
       "3               1         1397            6216\n",
       "4               1         1470            2845"
      ]
     },
     "execution_count": 207,
     "metadata": {},
     "output_type": "execute_result"
    }
   ],
   "source": [
    "results.head()"
   ]
  },
  {
   "cell_type": "code",
   "execution_count": 209,
   "metadata": {},
   "outputs": [],
   "source": [
    "rating_temp = pd.merge(results,users,on='user_id_enc',how='inner')"
   ]
  },
  {
   "cell_type": "code",
   "execution_count": 211,
   "metadata": {},
   "outputs": [
    {
     "data": {
      "text/plain": [
       "(155295, 10)"
      ]
     },
     "execution_count": 211,
     "metadata": {},
     "output_type": "execute_result"
    }
   ],
   "source": [
    "rating_temp.shape"
   ]
  },
  {
   "cell_type": "code",
   "execution_count": 212,
   "metadata": {},
   "outputs": [],
   "source": [
    "rating_temp2 = pd.merge(rating_temp, problems,on='problem_id_enc',how='inner')"
   ]
  },
  {
   "cell_type": "code",
   "execution_count": 213,
   "metadata": {},
   "outputs": [
    {
     "data": {
      "text/html": [
       "<div>\n",
       "<style scoped>\n",
       "    .dataframe tbody tr th:only-of-type {\n",
       "        vertical-align: middle;\n",
       "    }\n",
       "\n",
       "    .dataframe tbody tr th {\n",
       "        vertical-align: top;\n",
       "    }\n",
       "\n",
       "    .dataframe thead th {\n",
       "        text-align: right;\n",
       "    }\n",
       "</style>\n",
       "<table border=\"1\" class=\"dataframe\">\n",
       "  <thead>\n",
       "    <tr style=\"text-align: right;\">\n",
       "      <th></th>\n",
       "      <th>attempts_range</th>\n",
       "      <th>user_id_enc</th>\n",
       "      <th>problem_id_enc</th>\n",
       "      <th>rank_enc</th>\n",
       "      <th>submission_countnew</th>\n",
       "      <th>problem_solvednew</th>\n",
       "      <th>contribution_absnew</th>\n",
       "      <th>follower_countnew</th>\n",
       "      <th>max_ratingnew</th>\n",
       "      <th>ratingnew</th>\n",
       "      <th>tags</th>\n",
       "      <th>level_type_enc</th>\n",
       "      <th>tags_list_seq_pad</th>\n",
       "    </tr>\n",
       "  </thead>\n",
       "  <tbody>\n",
       "    <tr>\n",
       "      <th>0</th>\n",
       "      <td>1</td>\n",
       "      <td>1468</td>\n",
       "      <td>6120</td>\n",
       "      <td>1</td>\n",
       "      <td>53.0</td>\n",
       "      <td>47.0</td>\n",
       "      <td>0.0</td>\n",
       "      <td>1.0</td>\n",
       "      <td>307.913</td>\n",
       "      <td>206.709</td>\n",
       "      <td>strings</td>\n",
       "      <td>1</td>\n",
       "      <td>[6, 0, 0, 0, 0]</td>\n",
       "    </tr>\n",
       "    <tr>\n",
       "      <th>1</th>\n",
       "      <td>2</td>\n",
       "      <td>1013</td>\n",
       "      <td>6120</td>\n",
       "      <td>1</td>\n",
       "      <td>240.0</td>\n",
       "      <td>218.0</td>\n",
       "      <td>0.0</td>\n",
       "      <td>50.0</td>\n",
       "      <td>319.954</td>\n",
       "      <td>291.284</td>\n",
       "      <td>strings</td>\n",
       "      <td>1</td>\n",
       "      <td>[6, 0, 0, 0, 0]</td>\n",
       "    </tr>\n",
       "    <tr>\n",
       "      <th>2</th>\n",
       "      <td>2</td>\n",
       "      <td>917</td>\n",
       "      <td>6120</td>\n",
       "      <td>1</td>\n",
       "      <td>370.0</td>\n",
       "      <td>336.0</td>\n",
       "      <td>10.0</td>\n",
       "      <td>30.0</td>\n",
       "      <td>307.339</td>\n",
       "      <td>295.585</td>\n",
       "      <td>strings</td>\n",
       "      <td>1</td>\n",
       "      <td>[6, 0, 0, 0, 0]</td>\n",
       "    </tr>\n",
       "    <tr>\n",
       "      <th>3</th>\n",
       "      <td>1</td>\n",
       "      <td>3455</td>\n",
       "      <td>6120</td>\n",
       "      <td>1</td>\n",
       "      <td>318.0</td>\n",
       "      <td>286.0</td>\n",
       "      <td>0.0</td>\n",
       "      <td>20.0</td>\n",
       "      <td>304.186</td>\n",
       "      <td>191.514</td>\n",
       "      <td>strings</td>\n",
       "      <td>1</td>\n",
       "      <td>[6, 0, 0, 0, 0]</td>\n",
       "    </tr>\n",
       "    <tr>\n",
       "      <th>4</th>\n",
       "      <td>1</td>\n",
       "      <td>3326</td>\n",
       "      <td>6120</td>\n",
       "      <td>3</td>\n",
       "      <td>463.0</td>\n",
       "      <td>410.0</td>\n",
       "      <td>0.0</td>\n",
       "      <td>39.0</td>\n",
       "      <td>374.713</td>\n",
       "      <td>374.713</td>\n",
       "      <td>strings</td>\n",
       "      <td>1</td>\n",
       "      <td>[6, 0, 0, 0, 0]</td>\n",
       "    </tr>\n",
       "  </tbody>\n",
       "</table>\n",
       "</div>"
      ],
      "text/plain": [
       "   attempts_range  user_id_enc  problem_id_enc  rank_enc  submission_countnew  \\\n",
       "0               1         1468            6120         1                 53.0   \n",
       "1               2         1013            6120         1                240.0   \n",
       "2               2          917            6120         1                370.0   \n",
       "3               1         3455            6120         1                318.0   \n",
       "4               1         3326            6120         3                463.0   \n",
       "\n",
       "   problem_solvednew  contribution_absnew  follower_countnew  max_ratingnew  \\\n",
       "0               47.0                  0.0                1.0        307.913   \n",
       "1              218.0                  0.0               50.0        319.954   \n",
       "2              336.0                 10.0               30.0        307.339   \n",
       "3              286.0                  0.0               20.0        304.186   \n",
       "4              410.0                  0.0               39.0        374.713   \n",
       "\n",
       "   ratingnew     tags  level_type_enc tags_list_seq_pad  \n",
       "0    206.709  strings               1   [6, 0, 0, 0, 0]  \n",
       "1    291.284  strings               1   [6, 0, 0, 0, 0]  \n",
       "2    295.585  strings               1   [6, 0, 0, 0, 0]  \n",
       "3    191.514  strings               1   [6, 0, 0, 0, 0]  \n",
       "4    374.713  strings               1   [6, 0, 0, 0, 0]  "
      ]
     },
     "execution_count": 213,
     "metadata": {},
     "output_type": "execute_result"
    }
   ],
   "source": [
    "rating_temp2.head()"
   ]
  },
  {
   "cell_type": "code",
   "execution_count": 215,
   "metadata": {},
   "outputs": [],
   "source": [
    "rating_temp2.to_csv('merged_all_feature_encoded_after_drop.csv',index=None)"
   ]
  },
  {
   "cell_type": "code",
   "execution_count": 216,
   "metadata": {},
   "outputs": [
    {
     "data": {
      "text/plain": [
       "attempts_range             0\n",
       "user_id_enc                0\n",
       "problem_id_enc             0\n",
       "rank_enc                   0\n",
       "submission_countnew        0\n",
       "problem_solvednew          0\n",
       "contribution_absnew        0\n",
       "follower_countnew          0\n",
       "max_ratingnew              0\n",
       "ratingnew                  0\n",
       "tags                   15427\n",
       "level_type_enc             0\n",
       "tags_list_seq_pad          0\n",
       "dtype: int64"
      ]
     },
     "execution_count": 216,
     "metadata": {},
     "output_type": "execute_result"
    }
   ],
   "source": [
    "rating_temp2.isnull().sum()"
   ]
  },
  {
   "cell_type": "code",
   "execution_count": 218,
   "metadata": {},
   "outputs": [
    {
     "data": {
      "text/plain": [
       "((3529,), (5776,))"
      ]
     },
     "execution_count": 218,
     "metadata": {},
     "output_type": "execute_result"
    }
   ],
   "source": [
    "rating_temp2.user_id_enc.unique().shape, rating_temp2.problem_id_enc.unique().shape"
   ]
  },
  {
   "cell_type": "code",
   "execution_count": 222,
   "metadata": {},
   "outputs": [],
   "source": [
    "rating_temp3 = rating_temp2.dropna()"
   ]
  },
  {
   "cell_type": "code",
   "execution_count": 221,
   "metadata": {},
   "outputs": [
    {
     "data": {
      "text/plain": [
       "((155295, 13), (139868, 13))"
      ]
     },
     "execution_count": 221,
     "metadata": {},
     "output_type": "execute_result"
    }
   ],
   "source": [
    "rating_temp2.shape,rating_temp2.dropna().shape"
   ]
  },
  {
   "cell_type": "code",
   "execution_count": 223,
   "metadata": {},
   "outputs": [],
   "source": [
    "rating_temp3.to_csv('merged_all_feature_encoded_after_drop_non_null.csv',index=None)"
   ]
  },
  {
   "cell_type": "code",
   "execution_count": 230,
   "metadata": {},
   "outputs": [
    {
     "data": {
      "text/plain": [
       "array([[1, 1468, 6120],\n",
       "       [2, 1013, 6120],\n",
       "       [2, 917, 6120],\n",
       "       ...,\n",
       "       [1, 1294, 915],\n",
       "       [1, 1294, 6472],\n",
       "       [1, 3037, 1372]], dtype=object)"
      ]
     },
     "execution_count": 230,
     "metadata": {},
     "output_type": "execute_result"
    }
   ],
   "source": [
    "rating_temp3.values[:,:3]"
   ]
  },
  {
   "cell_type": "code",
   "execution_count": 233,
   "metadata": {},
   "outputs": [],
   "source": [
    "# del users, problems, results, tests, rating_temp, rating_temp2, rating_temp3\n",
    "# gc.collect()"
   ]
  },
  {
   "cell_type": "code",
   "execution_count": 6,
   "metadata": {},
   "outputs": [],
   "source": [
    "# data = rating_temp3\n"
   ]
  },
  {
   "cell_type": "code",
   "execution_count": null,
   "metadata": {},
   "outputs": [],
   "source": []
  },
  {
   "cell_type": "markdown",
   "metadata": {},
   "source": [
    "# STARTED FROM HERE"
   ]
  },
  {
   "cell_type": "code",
   "execution_count": 2,
   "metadata": {},
   "outputs": [],
   "source": [
    "data = pd.read_csv('merged_all_feature_encoded_after_drop_non_null.csv')"
   ]
  },
  {
   "cell_type": "code",
   "execution_count": 4,
   "metadata": {},
   "outputs": [
    {
     "data": {
      "text/plain": [
       "Index(['attempts_range', 'user_id_enc', 'problem_id_enc', 'rank_enc',\n",
       "       'submission_countnew', 'problem_solvednew', 'contribution_absnew',\n",
       "       'follower_countnew', 'max_ratingnew', 'ratingnew', 'tags',\n",
       "       'level_type_enc', 'tags_list_seq_pad'],\n",
       "      dtype='object')"
      ]
     },
     "execution_count": 4,
     "metadata": {},
     "output_type": "execute_result"
    }
   ],
   "source": [
    "data.columns"
   ]
  },
  {
   "cell_type": "markdown",
   "metadata": {},
   "source": [
    "## dataset generate function"
   ]
  },
  {
   "cell_type": "code",
   "execution_count": 11,
   "metadata": {},
   "outputs": [],
   "source": [
    "def generate_dataset(dataset, batch_size):\n",
    "    ''' return dataset for users, problems, users-info, \n",
    "        dataset has columns: ['attempts_range', 'user_id_enc', 'problem_id_enc', 'rank_enc',\n",
    "                               'submission_countnew', 'problem_solvednew', 'contribution_absnew',\n",
    "                               'follower_countnew', 'max_ratingnew', 'ratingnew', 'tags',\n",
    "                               'level_type_enc', 'tags_list_seq_pad'], dtype='object')\n",
    "    users    ==>> [batch,N]\n",
    "    problems ==>> [batch,M]\n",
    "    user-info==>> [batch,omega_u]\n",
    "    prob-info==>> [batch,omega_v]\n",
    "    label    ==>> [batch,label]\n",
    "    '''\n",
    "    N = dataset['user_id_enc'].unique().shape[0]\n",
    "    M = 5776#dataset['problem_id_enc'].unique().shape[0]\n",
    "    label_shape = dataset['attempts_range'].unique().shape[0]\n",
    "    \n",
    "    idx = np.random.randint(dataset.shape[0],size=(batch_size))\n",
    "    temp = dataset.values[idx]\n",
    "#     users = temp[:,:3]# first three columns\n",
    "#     users_info = temp[:,3:10]\n",
    "#     problems_info = temp[:,11:]\n",
    "#     problems_info[:,1] = problems_info[:,1].astype(int)\n",
    "    \n",
    "#     # user one-hot matrix\n",
    "#     users = np.zeros((batch_size,N))\n",
    "#     users[np.arange(batch_size), temp[:,1].astype(int)[0]] = 1  #one-hot vectors\n",
    "    \n",
    "#     # problems one-hot matrix\n",
    "#     problems = np.zeros((batch_size,M))\n",
    "#     problems[np.arange(batch_size), temp[:,2].astype(int)[0]] = 1\n",
    "    \n",
    "#     # label one-hot matrix\n",
    "#     labels = np.zeros((batch_size,label_shape))\n",
    "#     labels[np.arange(batch_size),temp[:,0].astype(int)[0]] = 1\n",
    "                          \n",
    "    return temp#users, problems, labels, users_info, problems_info"
   ]
  },
  {
   "cell_type": "code",
   "execution_count": 294,
   "metadata": {},
   "outputs": [
    {
     "data": {
      "text/plain": [
       "((2, 3526), (2, 5776), (2, 6), (2, 7), (2, 2))"
      ]
     },
     "execution_count": 294,
     "metadata": {},
     "output_type": "execute_result"
    }
   ],
   "source": [
    "users, problems, labels, users_info, problems_info = generate_dataset(dataset=data, batch_size=2)\n",
    "users.shape, problems.shape, labels.shape, users_info.shape, problems_info.shape"
   ]
  },
  {
   "cell_type": "code",
   "execution_count": 310,
   "metadata": {},
   "outputs": [
    {
     "data": {
      "text/plain": [
       "array([[1, '[13, 39, 0, 0, 0]'],\n",
       "       [2, '[9, 31, 5, 0, 0]']], dtype=object)"
      ]
     },
     "execution_count": 310,
     "metadata": {},
     "output_type": "execute_result"
    }
   ],
   "source": [
    "# Convert a sequence of object data-type into array  of int data-type\n",
    "\n",
    "# I have array of this following shape and dtype:\n",
    "\n",
    "#     array([[1, '[13, 39, 0, 0, 0]'],\n",
    "#            [2, '[9, 31, 5, 0, 0]']], dtype=object)\n",
    "\n",
    "# I want it to merge both into one simple array with float dtype \n",
    "\n",
    "#     array([[1, 13, 39, 0, 0, 0],\n",
    "#            [2, 9, 31, 5, 0, 0]], dtype=float)\n",
    "\n",
    "# Please, if someone can help me?"
   ]
  },
  {
   "cell_type": "code",
   "execution_count": 12,
   "metadata": {},
   "outputs": [
    {
     "data": {
      "text/plain": [
       "array([[1, 3291, 2135, 1, 49.0, 40.0, 0.0, 11.0, 324.255, 265.482,\n",
       "        'brute force,implementation', 0, '[15, 17, 13, 0, 0]'],\n",
       "       [1, 1916, 5852, 3, 999.0, 968.0, 14.0, 30.0, 404.53, 383.028,\n",
       "        'math', 0, '[39, 0, 0, 0, 0]']], dtype=object)"
      ]
     },
     "execution_count": 12,
     "metadata": {},
     "output_type": "execute_result"
    }
   ],
   "source": [
    "temp = generate_dataset(dataset=data, batch_size=2)\n",
    "temp"
   ]
  },
  {
   "cell_type": "code",
   "execution_count": 13,
   "metadata": {},
   "outputs": [
    {
     "data": {
      "text/plain": [
       "(2, 13)"
      ]
     },
     "execution_count": 13,
     "metadata": {},
     "output_type": "execute_result"
    }
   ],
   "source": [
    "temp.shape"
   ]
  },
  {
   "cell_type": "code",
   "execution_count": null,
   "metadata": {},
   "outputs": [],
   "source": []
  },
  {
   "cell_type": "code",
   "execution_count": 26,
   "metadata": {},
   "outputs": [],
   "source": [
    "a = np.array([[33,  0,  0,  0,  0],\n",
    "       [33,  0,  0,  0,  0],\n",
    "       [33,  0,  0,  0,  0],\n",
    "       [28, 13,  0,  0,  0],\n",
    "       [47, 14, 28, 39,  0],\n",
    "       [33,  0,  0,  0,  0]])"
   ]
  },
  {
   "cell_type": "code",
   "execution_count": 27,
   "metadata": {},
   "outputs": [
    {
     "data": {
      "text/plain": [
       "array([[33,  0,  0,  0,  0],\n",
       "       [33,  0,  0,  0,  0],\n",
       "       [33,  0,  0,  0,  0],\n",
       "       [28, 13,  0,  0,  0],\n",
       "       [47, 14, 28, 39,  0],\n",
       "       [33,  0,  0,  0,  0]])"
      ]
     },
     "execution_count": 27,
     "metadata": {},
     "output_type": "execute_result"
    }
   ],
   "source": [
    "a"
   ]
  },
  {
   "cell_type": "code",
   "execution_count": 29,
   "metadata": {},
   "outputs": [],
   "source": [
    "test1 = pd.DataFrame({'a':[1,2,3,4,5,6]})"
   ]
  },
  {
   "cell_type": "code",
   "execution_count": null,
   "metadata": {},
   "outputs": [],
   "source": [
    "# # convert array in the list first.\n",
    "# First make the list into a Series:\n",
    "# se = pd.Series(mylist)\n",
    "\n",
    "# Then add the values to the DataFrame:\n",
    "# df['new_col'] = se.values"
   ]
  },
  {
   "cell_type": "code",
   "execution_count": 30,
   "metadata": {},
   "outputs": [
    {
     "data": {
      "text/html": [
       "<div>\n",
       "<style scoped>\n",
       "    .dataframe tbody tr th:only-of-type {\n",
       "        vertical-align: middle;\n",
       "    }\n",
       "\n",
       "    .dataframe tbody tr th {\n",
       "        vertical-align: top;\n",
       "    }\n",
       "\n",
       "    .dataframe thead th {\n",
       "        text-align: right;\n",
       "    }\n",
       "</style>\n",
       "<table border=\"1\" class=\"dataframe\">\n",
       "  <thead>\n",
       "    <tr style=\"text-align: right;\">\n",
       "      <th></th>\n",
       "      <th>a</th>\n",
       "    </tr>\n",
       "  </thead>\n",
       "  <tbody>\n",
       "    <tr>\n",
       "      <th>0</th>\n",
       "      <td>1</td>\n",
       "    </tr>\n",
       "    <tr>\n",
       "      <th>1</th>\n",
       "      <td>2</td>\n",
       "    </tr>\n",
       "    <tr>\n",
       "      <th>2</th>\n",
       "      <td>3</td>\n",
       "    </tr>\n",
       "    <tr>\n",
       "      <th>3</th>\n",
       "      <td>4</td>\n",
       "    </tr>\n",
       "    <tr>\n",
       "      <th>4</th>\n",
       "      <td>5</td>\n",
       "    </tr>\n",
       "    <tr>\n",
       "      <th>5</th>\n",
       "      <td>6</td>\n",
       "    </tr>\n",
       "  </tbody>\n",
       "</table>\n",
       "</div>"
      ],
      "text/plain": [
       "   a\n",
       "0  1\n",
       "1  2\n",
       "2  3\n",
       "3  4\n",
       "4  5\n",
       "5  6"
      ]
     },
     "execution_count": 30,
     "metadata": {},
     "output_type": "execute_result"
    }
   ],
   "source": [
    "test1"
   ]
  },
  {
   "cell_type": "code",
   "execution_count": 31,
   "metadata": {},
   "outputs": [
    {
     "ename": "IndexError",
     "evalue": "index 5 is out of bounds for axis 1 with size 5",
     "output_type": "error",
     "traceback": [
      "\u001b[0;31m----------------------------------------------------------------------\u001b[0m",
      "\u001b[0;31mIndexError\u001b[0m                           Traceback (most recent call last)",
      "\u001b[0;32m<ipython-input-31-289636a0791a>\u001b[0m in \u001b[0;36m<module>\u001b[0;34m()\u001b[0m\n\u001b[1;32m      1\u001b[0m \u001b[0;32mfor\u001b[0m \u001b[0mi\u001b[0m \u001b[0;32min\u001b[0m \u001b[0mrange\u001b[0m\u001b[0;34m(\u001b[0m\u001b[0;36m6\u001b[0m\u001b[0;34m)\u001b[0m\u001b[0;34m:\u001b[0m\u001b[0;34m\u001b[0m\u001b[0m\n\u001b[0;32m----> 2\u001b[0;31m     \u001b[0mwaste\u001b[0m \u001b[0;34m=\u001b[0m \u001b[0mpd\u001b[0m\u001b[0;34m.\u001b[0m\u001b[0mSeries\u001b[0m\u001b[0;34m(\u001b[0m\u001b[0ma\u001b[0m\u001b[0;34m[\u001b[0m\u001b[0;34m:\u001b[0m\u001b[0;34m,\u001b[0m\u001b[0mi\u001b[0m\u001b[0;34m]\u001b[0m\u001b[0;34m)\u001b[0m\u001b[0;34m\u001b[0m\u001b[0m\n\u001b[0m\u001b[1;32m      3\u001b[0m     \u001b[0mtest1\u001b[0m\u001b[0;34m[\u001b[0m\u001b[0;34m'a'\u001b[0m\u001b[0;34m+\u001b[0m\u001b[0mstr\u001b[0m\u001b[0;34m(\u001b[0m\u001b[0mi\u001b[0m\u001b[0;34m)\u001b[0m\u001b[0;34m]\u001b[0m \u001b[0;34m=\u001b[0m \u001b[0mwaste\u001b[0m\u001b[0;34m.\u001b[0m\u001b[0mvalues\u001b[0m\u001b[0;34m\u001b[0m\u001b[0m\n",
      "\u001b[0;31mIndexError\u001b[0m: index 5 is out of bounds for axis 1 with size 5"
     ]
    }
   ],
   "source": [
    "for i in range(5):\n",
    "    waste = pd.Series(a[:,i])\n",
    "    test1['a'+str(i)] = waste.values"
   ]
  },
  {
   "cell_type": "code",
   "execution_count": 32,
   "metadata": {},
   "outputs": [
    {
     "data": {
      "text/html": [
       "<div>\n",
       "<style scoped>\n",
       "    .dataframe tbody tr th:only-of-type {\n",
       "        vertical-align: middle;\n",
       "    }\n",
       "\n",
       "    .dataframe tbody tr th {\n",
       "        vertical-align: top;\n",
       "    }\n",
       "\n",
       "    .dataframe thead th {\n",
       "        text-align: right;\n",
       "    }\n",
       "</style>\n",
       "<table border=\"1\" class=\"dataframe\">\n",
       "  <thead>\n",
       "    <tr style=\"text-align: right;\">\n",
       "      <th></th>\n",
       "      <th>a</th>\n",
       "      <th>a0</th>\n",
       "      <th>a1</th>\n",
       "      <th>a2</th>\n",
       "      <th>a3</th>\n",
       "      <th>a4</th>\n",
       "    </tr>\n",
       "  </thead>\n",
       "  <tbody>\n",
       "    <tr>\n",
       "      <th>0</th>\n",
       "      <td>1</td>\n",
       "      <td>33</td>\n",
       "      <td>0</td>\n",
       "      <td>0</td>\n",
       "      <td>0</td>\n",
       "      <td>0</td>\n",
       "    </tr>\n",
       "    <tr>\n",
       "      <th>1</th>\n",
       "      <td>2</td>\n",
       "      <td>33</td>\n",
       "      <td>0</td>\n",
       "      <td>0</td>\n",
       "      <td>0</td>\n",
       "      <td>0</td>\n",
       "    </tr>\n",
       "    <tr>\n",
       "      <th>2</th>\n",
       "      <td>3</td>\n",
       "      <td>33</td>\n",
       "      <td>0</td>\n",
       "      <td>0</td>\n",
       "      <td>0</td>\n",
       "      <td>0</td>\n",
       "    </tr>\n",
       "    <tr>\n",
       "      <th>3</th>\n",
       "      <td>4</td>\n",
       "      <td>28</td>\n",
       "      <td>13</td>\n",
       "      <td>0</td>\n",
       "      <td>0</td>\n",
       "      <td>0</td>\n",
       "    </tr>\n",
       "    <tr>\n",
       "      <th>4</th>\n",
       "      <td>5</td>\n",
       "      <td>47</td>\n",
       "      <td>14</td>\n",
       "      <td>28</td>\n",
       "      <td>39</td>\n",
       "      <td>0</td>\n",
       "    </tr>\n",
       "    <tr>\n",
       "      <th>5</th>\n",
       "      <td>6</td>\n",
       "      <td>33</td>\n",
       "      <td>0</td>\n",
       "      <td>0</td>\n",
       "      <td>0</td>\n",
       "      <td>0</td>\n",
       "    </tr>\n",
       "  </tbody>\n",
       "</table>\n",
       "</div>"
      ],
      "text/plain": [
       "   a  a0  a1  a2  a3  a4\n",
       "0  1  33   0   0   0   0\n",
       "1  2  33   0   0   0   0\n",
       "2  3  33   0   0   0   0\n",
       "3  4  28  13   0   0   0\n",
       "4  5  47  14  28  39   0\n",
       "5  6  33   0   0   0   0"
      ]
     },
     "execution_count": 32,
     "metadata": {},
     "output_type": "execute_result"
    }
   ],
   "source": [
    "test1"
   ]
  },
  {
   "cell_type": "code",
   "execution_count": 33,
   "metadata": {},
   "outputs": [
    {
     "data": {
      "text/plain": [
       "a     int64\n",
       "a0    int64\n",
       "a1    int64\n",
       "a2    int64\n",
       "a3    int64\n",
       "a4    int64\n",
       "dtype: object"
      ]
     },
     "execution_count": 33,
     "metadata": {},
     "output_type": "execute_result"
    }
   ],
   "source": [
    "test1.dtypes"
   ]
  },
  {
   "cell_type": "code",
   "execution_count": null,
   "metadata": {},
   "outputs": [],
   "source": []
  },
  {
   "cell_type": "code",
   "execution_count": null,
   "metadata": {},
   "outputs": [],
   "source": []
  },
  {
   "cell_type": "code",
   "execution_count": null,
   "metadata": {},
   "outputs": [],
   "source": []
  },
  {
   "cell_type": "code",
   "execution_count": null,
   "metadata": {},
   "outputs": [],
   "source": []
  },
  {
   "cell_type": "code",
   "execution_count": null,
   "metadata": {},
   "outputs": [],
   "source": []
  },
  {
   "cell_type": "code",
   "execution_count": null,
   "metadata": {},
   "outputs": [],
   "source": []
  },
  {
   "cell_type": "code",
   "execution_count": null,
   "metadata": {},
   "outputs": [],
   "source": []
  },
  {
   "cell_type": "code",
   "execution_count": null,
   "metadata": {},
   "outputs": [],
   "source": []
  },
  {
   "cell_type": "code",
   "execution_count": null,
   "metadata": {},
   "outputs": [],
   "source": []
  },
  {
   "cell_type": "code",
   "execution_count": null,
   "metadata": {},
   "outputs": [],
   "source": [
    "from tensorflow import keras\n",
    "from keras.models import Model\n",
    "from keras.layers import Input, Activation, Dense, Dropout\n",
    "from keras.layers import concatenate\n",
    "\n",
    "import numpy as np\n",
    "import tensorflow as tf"
   ]
  },
  {
   "cell_type": "markdown",
   "metadata": {},
   "source": [
    "## define parameters"
   ]
  },
  {
   "cell_type": "code",
   "execution_count": 2,
   "metadata": {},
   "outputs": [],
   "source": [
    "N = 5\n",
    "M = 3\n",
    "K = 2\n",
    "N_u = 5\n",
    "M_v = 6"
   ]
  },
  {
   "cell_type": "markdown",
   "metadata": {},
   "source": [
    "## define a_u and a_v as the tensor, because we are not sampling anything"
   ]
  },
  {
   "cell_type": "code",
   "execution_count": 3,
   "metadata": {},
   "outputs": [],
   "source": [
    "X = np.random.randn(N,M)\n",
    "a_u = np.random.randn(N,N_u)\n",
    "a_v = np.random.randn(M,M_v)\n",
    "\n",
    "# X = tf.convert_to_tensor(X, dtype=tf.float32)\n",
    "a_u = tf.convert_to_tensor(a_u, dtype=tf.float32)\n",
    "a_v = tf.convert_to_tensor(a_v, dtype=tf.float32)\n",
    "\n",
    "\n",
    "def next_batch(batch_size):\n",
    "    '''\n",
    "    returnn data of shape [ [batch,N], [batch,M], [batch,1] ]\n",
    "    fetch index from the matrix of shape [batch,batch]\n",
    "    '''\n",
    "    x_idx = np.random.randint(N,size=(batch_size))\n",
    "    y_idx = np.random.randint(M,size=(batch_size))\n",
    "    \n",
    "    rating_label = []\n",
    "    for i,j in zip(x_idx,y_idx):\n",
    "        rating_label.append(X[i][j])\n",
    "#     rating_label = tf.convert_to_tensor(rating_label,dtype=tf.float32)\n",
    "#     rating_label = tf.reshape(rating_label,shape=[-1,1])\n",
    "    \n",
    "#     return Xn, Xm, rating_label\n",
    "    return x_idx, y_idx, rating_label"
   ]
  },
  {
   "cell_type": "markdown",
   "metadata": {},
   "source": [
    "## build model"
   ]
  },
  {
   "cell_type": "code",
   "execution_count": 4,
   "metadata": {},
   "outputs": [],
   "source": [
    "input_user = tf.placeholder(tf.int32,shape=(None,),name='batch-user')\n",
    "input_user_hot = tf.one_hot(input_user,N, name='one-hot-user')\n",
    "user_latent = Dense(K,activation='linear', name='user-latent')(input_user_hot)\n",
    "\n",
    "input_item = tf.placeholder(tf.int32,shape=(None,),name='batch-item')\n",
    "input_item_hot = tf.one_hot(input_item,M, name='one-hot-item')\n",
    "item_latent = Dense(K,activation='linear', name='item-latent')(input_item_hot)\n",
    "\n",
    "info_user = tf.matmul(input_user_hot, a_u)\n",
    "info_user_latent = Dense(K,activation='linear',name='info-user-latent')(info_user)\n",
    "\n",
    "info_item = tf.matmul(input_item_hot, a_v)\n",
    "info_item_latent = Dense(K,activation='linear', name='item-user-latent')(info_item)"
   ]
  },
  {
   "cell_type": "code",
   "execution_count": 5,
   "metadata": {},
   "outputs": [
    {
     "data": {
      "text/plain": [
       "(<tf.Tensor 'batch-user:0' shape=(?,) dtype=int32>,\n",
       " <tf.Tensor 'user-latent/BiasAdd:0' shape=(?, 2) dtype=float32>,\n",
       " <tf.Tensor 'batch-item:0' shape=(?,) dtype=int32>,\n",
       " <tf.Tensor 'item-latent/BiasAdd:0' shape=(?, 2) dtype=float32>,\n",
       " <tf.Tensor 'info-user-latent/BiasAdd:0' shape=(?, 2) dtype=float32>,\n",
       " <tf.Tensor 'item-user-latent/BiasAdd:0' shape=(?, 2) dtype=float32>)"
      ]
     },
     "execution_count": 5,
     "metadata": {},
     "output_type": "execute_result"
    }
   ],
   "source": [
    "input_user, user_latent, input_item, item_latent, info_user_latent, info_item_latent"
   ]
  },
  {
   "cell_type": "code",
   "execution_count": null,
   "metadata": {},
   "outputs": [],
   "source": []
  },
  {
   "cell_type": "code",
   "execution_count": 6,
   "metadata": {},
   "outputs": [],
   "source": [
    "pred_rating = tf.matmul(user_latent,tf.transpose(item_latent))#,transpose_item_latent)\n",
    "pred_rating = tf.diag_part(pred_rating)\n",
    "pred_rating = tf.reshape(pred_rating,shape=[-1,1])\n",
    "\n",
    "pred_rating_content = tf.matmul(info_user_latent,tf.transpose(info_item_latent))#,transpose_info_item_latent)\n",
    "pred_rating_content = tf.diag_part(pred_rating_content)\n",
    "pred_rating_content = tf.reshape(pred_rating_content, shape=[-1,1])\n",
    "\n",
    "final_rating = pred_rating + pred_rating_content"
   ]
  },
  {
   "cell_type": "code",
   "execution_count": 7,
   "metadata": {},
   "outputs": [
    {
     "data": {
      "text/plain": [
       "<tf.Tensor 'add:0' shape=(?, 1) dtype=float32>"
      ]
     },
     "execution_count": 7,
     "metadata": {},
     "output_type": "execute_result"
    }
   ],
   "source": [
    "final_rating"
   ]
  },
  {
   "cell_type": "markdown",
   "metadata": {},
   "source": [
    "## loss function (mse. no classification)"
   ]
  },
  {
   "cell_type": "code",
   "execution_count": 8,
   "metadata": {},
   "outputs": [],
   "source": [
    "actual = tf.placeholder(tf.float32, shape=(None,),name='rating')\n",
    "\n",
    "loss = tf.reduce_mean(tf.square(pred_rating - actual))\n",
    "loss_user = tf.reduce_mean(tf.square(user_latent - info_user_latent))\n",
    "loss_item = tf.reduce_mean(tf.square(item_latent - info_item_latent))\n",
    "final_loss = loss + loss_user + loss_item"
   ]
  },
  {
   "cell_type": "code",
   "execution_count": 9,
   "metadata": {},
   "outputs": [
    {
     "data": {
      "text/plain": [
       "<tf.Tensor 'add_2:0' shape=() dtype=float32>"
      ]
     },
     "execution_count": 9,
     "metadata": {},
     "output_type": "execute_result"
    }
   ],
   "source": [
    "final_loss"
   ]
  },
  {
   "cell_type": "code",
   "execution_count": null,
   "metadata": {},
   "outputs": [],
   "source": []
  },
  {
   "cell_type": "code",
   "execution_count": 10,
   "metadata": {},
   "outputs": [
    {
     "data": {
      "text/plain": [
       "<tf.Tensor 'Mean_3:0' shape=() dtype=float32>"
      ]
     },
     "execution_count": 10,
     "metadata": {},
     "output_type": "execute_result"
    }
   ],
   "source": [
    "optimizer = tf.train.AdamOptimizer(0.001).minimize(final_loss)\n",
    "\n",
    "correct_pred = tf.equal(final_rating, actual)\n",
    "correct_pred = tf.cast(correct_pred, tf.float32)\n",
    "accuracy = tf.reduce_mean(correct_pred)\n",
    "\n",
    "accuracy"
   ]
  },
  {
   "cell_type": "code",
   "execution_count": null,
   "metadata": {},
   "outputs": [],
   "source": []
  },
  {
   "cell_type": "code",
   "execution_count": 11,
   "metadata": {},
   "outputs": [
    {
     "name": "stdout",
     "output_type": "stream",
     "text": [
      "step 0, training accuracy 2.66976\n",
      "step 1, training accuracy 2.59278\n",
      "step 2, training accuracy 2.64909\n",
      "step 3, training accuracy 3.25894\n",
      "step 4, training accuracy 2.7083\n",
      "step 5, training accuracy 3.10092\n",
      "step 6, training accuracy 2.04663\n",
      "step 7, training accuracy 2.40559\n",
      "step 8, training accuracy 1.98688\n",
      "step 9, training accuracy 4.36548\n"
     ]
    }
   ],
   "source": [
    "sess = tf.Session()\n",
    "sess.run(tf.global_variables_initializer())\n",
    "\n",
    "batch_size = 2\n",
    "for i in range(10):\n",
    "    batch = next_batch(batch_size)\n",
    "    feed_data = {input_user : batch[0], input_item : batch[1], actual : batch[2]}\n",
    "#     if i % 2 == 0:\n",
    "#         train_accuracy = accuracy.eval(feed_dict={x: batch[0], y_: batch[1]})\n",
    "#         print('step %d, training accuracy %g' % (i, train_accuracy))\n",
    "        \n",
    "    loss_iter = sess.run(final_loss,feed_dict=feed_data)\n",
    "    print('step %d, training accuracy %g' % (i, loss_iter))\n",
    "\n",
    "    sess.run(optimizer, feed_dict=feed_data)"
   ]
  },
  {
   "cell_type": "code",
   "execution_count": null,
   "metadata": {},
   "outputs": [],
   "source": []
  }
 ],
 "metadata": {
  "kernelspec": {
   "display_name": "Python 3",
   "language": "python",
   "name": "python3"
  },
  "language_info": {
   "codemirror_mode": {
    "name": "ipython",
    "version": 3
   },
   "file_extension": ".py",
   "mimetype": "text/x-python",
   "name": "python",
   "nbconvert_exporter": "python",
   "pygments_lexer": "ipython3",
   "version": "3.6.6"
  }
 },
 "nbformat": 4,
 "nbformat_minor": 2
}
