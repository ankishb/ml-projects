{
 "cells": [
  {
   "cell_type": "code",
   "execution_count": null,
   "metadata": {},
   "outputs": [],
   "source": [
    "from keras.applications.resnet50 import ResNet50\n",
    "from keras.preprocessing import image\n",
    "from keras.applications.resnet50 import preprocess_input, decode_predictions\n"
   ]
  },
  {
   "cell_type": "code",
   "execution_count": 1,
   "metadata": {},
   "outputs": [
    {
     "data": {
      "text/plain": [
       "['__MACOSX',\n",
       " 'CrowdFlowerAnnotations.txt',\n",
       " 'ExpertAnnotations.txt',\n",
       " '.ipynb_checkpoints',\n",
       " 'readme.txt',\n",
       " 'Flickr8k.token.txt',\n",
       " 'Flickr8k.token_small.txt',\n",
       " 'Flickr8k.lemma.token.txt',\n",
       " 'Flickr_8k.trainImages.txt',\n",
       " 'Flickr_8k.testImages.txt',\n",
       " 'Flickr_8k.devImages.txt']"
      ]
     },
     "execution_count": 1,
     "metadata": {},
     "output_type": "execute_result"
    }
   ],
   "source": [
    "import numpy as np\n",
    "\n",
    "import os\n",
    "\n",
    "os.listdir('data_use/Flickr8k_text')"
   ]
  },
  {
   "cell_type": "code",
   "execution_count": 2,
   "metadata": {},
   "outputs": [],
   "source": [
    "text_file = 'data_use/Flickr8k_text/Flickr8k.token.txt'"
   ]
  },
  {
   "cell_type": "code",
   "execution_count": 3,
   "metadata": {},
   "outputs": [],
   "source": [
    "def load_text_file(file_path):\n",
    "    file_handle = open(file_path, 'r')\n",
    "    text_data = file_handle.read()\n",
    "    file_handle.close()\n",
    "    return text_data\n"
   ]
  },
  {
   "cell_type": "code",
   "execution_count": 4,
   "metadata": {},
   "outputs": [],
   "source": [
    "testing = load_text_file('data_use/Flickr8k_text/Flickr8k.token_small.txt')"
   ]
  },
  {
   "cell_type": "code",
   "execution_count": 5,
   "metadata": {},
   "outputs": [
    {
     "name": "stdout",
     "output_type": "stream",
     "text": [
      "1000268201_693b08cb0e.jpg#1\tA girl going into a wooden building .\n",
      "1000268201_693b08cb0e.jpg#2\tA little girl climbing into a wooden playhouse .\n",
      "1000268201_693b08cb0e.jpg#3\tA little girl climbing the stairs to her playhouse .\n",
      "1000268201_693b08cb0e.jpg#4\tA little girl in a pink dress going into a wooden cabin .\n",
      "1001773457_577c3a7d70.jpg#4\tTwo dogs on pavement moving toward each other .\n",
      "1002674143_1b742ab4b8.jpg#0\tA little girl covered in paint sits in front of a painted rainbow with her hands in a bowl .\n"
     ]
    }
   ],
   "source": [
    "mapping = dict()\n",
    "for line in testing.split('\\n'):\n",
    "    print line\n"
   ]
  },
  {
   "cell_type": "code",
   "execution_count": 21,
   "metadata": {},
   "outputs": [
    {
     "name": "stdout",
     "output_type": "stream",
     "text": [
      "['1000268201_693b08cb0e.jpg#1', 'A', 'girl', 'going', 'into', 'a', 'wooden', 'building', '.']\n",
      "['1000268201_693b08cb0e.jpg#2', 'A', 'little', 'girl', 'climbing', 'into', 'a', 'wooden', 'playhouse', '.']\n",
      "['1000268201_693b08cb0e.jpg#3', 'A', 'little', 'girl', 'climbing', 'the', 'stairs', 'to', 'her', 'playhouse', '.']\n",
      "['1000268201_693b08cb0e.jpg#4', 'A', 'little', 'girl', 'in', 'a', 'pink', 'dress', 'going', 'into', 'a', 'wooden', 'cabin', '.']\n",
      "['1001773457_577c3a7d70.jpg#4', 'Two', 'dogs', 'on', 'pavement', 'moving', 'toward', 'each', 'other', '.']\n",
      "['1002674143_1b742ab4b8.jpg#0', 'A', 'little', 'girl', 'covered', 'in', 'paint', 'sits', 'in', 'front', 'of', 'a', 'painted', 'rainbow', 'with', 'her', 'hands', 'in', 'a', 'bowl', '.']\n"
     ]
    }
   ],
   "source": [
    "mapping = dict()\n",
    "for line in testing.split('\\n'):\n",
    "    tokens = line.split()\n",
    "#     image_id, image_text = tokens[0]\n",
    "    print tokens"
   ]
  },
  {
   "cell_type": "code",
   "execution_count": 27,
   "metadata": {},
   "outputs": [
    {
     "data": {
      "text/plain": [
       "{'1000268201_693b08cb0e': [['A',\n",
       "   'girl',\n",
       "   'going',\n",
       "   'into',\n",
       "   'a',\n",
       "   'wooden',\n",
       "   'building',\n",
       "   '.'],\n",
       "  ['A', 'little', 'girl', 'climbing', 'into', 'a', 'wooden', 'playhouse', '.'],\n",
       "  ['A',\n",
       "   'little',\n",
       "   'girl',\n",
       "   'climbing',\n",
       "   'the',\n",
       "   'stairs',\n",
       "   'to',\n",
       "   'her',\n",
       "   'playhouse',\n",
       "   '.'],\n",
       "  ['A',\n",
       "   'little',\n",
       "   'girl',\n",
       "   'in',\n",
       "   'a',\n",
       "   'pink',\n",
       "   'dress',\n",
       "   'going',\n",
       "   'into',\n",
       "   'a',\n",
       "   'wooden',\n",
       "   'cabin',\n",
       "   '.']],\n",
       " '1001773457_577c3a7d70': [['Two',\n",
       "   'dogs',\n",
       "   'on',\n",
       "   'pavement',\n",
       "   'moving',\n",
       "   'toward',\n",
       "   'each',\n",
       "   'other',\n",
       "   '.']],\n",
       " '1002674143_1b742ab4b8': [['A',\n",
       "   'little',\n",
       "   'girl',\n",
       "   'covered',\n",
       "   'in',\n",
       "   'paint',\n",
       "   'sits',\n",
       "   'in',\n",
       "   'front',\n",
       "   'of',\n",
       "   'a',\n",
       "   'painted',\n",
       "   'rainbow',\n",
       "   'with',\n",
       "   'her',\n",
       "   'hands',\n",
       "   'in',\n",
       "   'a',\n",
       "   'bowl',\n",
       "   '.']]}"
      ]
     },
     "execution_count": 27,
     "metadata": {},
     "output_type": "execute_result"
    }
   ],
   "source": [
    "mapping = dict()\n",
    "for line in testing.split('\\n'):\n",
    "    tokens = line.split()\n",
    "    image_id, image_desc = tokens[0], tokens[1:]\n",
    "#     print image_desc\n",
    "#     print image_id.split('.')\n",
    "    image_id = image_id.split('.')[0]\n",
    "#     image_desc = ''.join(image_desc)\n",
    "#     print image_desc\n",
    "    \n",
    "    if image_id not in mapping:\n",
    "        mapping[image_id] = list()\n",
    "    mapping[image_id].append(image_desc)\n",
    "\n",
    "mapping"
   ]
  },
  {
   "cell_type": "code",
   "execution_count": 30,
   "metadata": {},
   "outputs": [],
   "source": [
    "del mapping_list"
   ]
  },
  {
   "cell_type": "code",
   "execution_count": 33,
   "metadata": {},
   "outputs": [
    {
     "name": "stdout",
     "output_type": "stream",
     "text": [
      "{'1000268201_693b08cb0e': [['A', 'girl', 'going', 'into', 'a', 'wooden', 'building', '.'], ['A', 'little', 'girl', 'climbing', 'into', 'a', 'wooden', 'playhouse', '.'], ['A', 'little', 'girl', 'climbing', 'the', 'stairs', 'to', 'her', 'playhouse', '.'], ['A', 'little', 'girl', 'in', 'a', 'pink', 'dress', 'going', 'into', 'a', 'wooden', 'cabin', '.']], '1001773457_577c3a7d70': [['Two', 'dogs', 'on', 'pavement', 'moving', 'toward', 'each', 'other', '.']], '1002674143_1b742ab4b8': [['A', 'little', 'girl', 'covered', 'in', 'paint', 'sits', 'in', 'front', 'of', 'a', 'painted', 'rainbow', 'with', 'her', 'hands', 'in', 'a', 'bowl', '.']]}\n"
     ]
    }
   ],
   "source": [
    "captions_list = []\n",
    "mapping_list = dict()\n",
    "for line in testing.split('\\n'):\n",
    "    tokens = line.split()\n",
    "#     print tokens\n",
    "    image_id1, image_desc1 = tokens[0], tokens[1:]\n",
    "    image_id1 = image_id1.split('.')[0]\n",
    "#     print image_id1\n",
    "    \n",
    "    if image_id1 not in mapping_list:\n",
    "        mapping_list[image_id1] = list()\n",
    "    mapping_list[image_id1].append(image_desc1)\n",
    "\n",
    "print mapping_list\n",
    "    "
   ]
  },
  {
   "cell_type": "code",
   "execution_count": 35,
   "metadata": {},
   "outputs": [
    {
     "name": "stdout",
     "output_type": "stream",
     "text": [
      "1000268201_693b08cb0e\n",
      "====\n",
      "[['A', 'girl', 'going', 'into', 'a', 'wooden', 'building', '.'], ['A', 'little', 'girl', 'climbing', 'into', 'a', 'wooden', 'playhouse', '.'], ['A', 'little', 'girl', 'climbing', 'the', 'stairs', 'to', 'her', 'playhouse', '.'], ['A', 'little', 'girl', 'in', 'a', 'pink', 'dress', 'going', 'into', 'a', 'wooden', 'cabin', '.']]\n",
      "====\n",
      "1001773457_577c3a7d70\n",
      "====\n",
      "[['Two', 'dogs', 'on', 'pavement', 'moving', 'toward', 'each', 'other', '.']]\n",
      "====\n",
      "1002674143_1b742ab4b8\n",
      "====\n",
      "[['A', 'little', 'girl', 'covered', 'in', 'paint', 'sits', 'in', 'front', 'of', 'a', 'painted', 'rainbow', 'with', 'her', 'hands', 'in', 'a', 'bowl', '.']]\n",
      "====\n"
     ]
    }
   ],
   "source": [
    "for line in mapping_list:\n",
    "    print line\n",
    "    print \"====\"\n",
    "    print mapping_list[line]\n",
    "    print \"====\""
   ]
  },
  {
   "cell_type": "code",
   "execution_count": 45,
   "metadata": {},
   "outputs": [
    {
     "name": "stdout",
     "output_type": "stream",
     "text": [
      "1000268201_693b08cb0e\n",
      "====\n",
      "[['A', 'girl', 'going', 'into', 'a', 'wooden', 'building', '.'], ['A', 'little', 'girl', 'climbing', 'into', 'a', 'wooden', 'playhouse', '.'], ['A', 'little', 'girl', 'climbing', 'the', 'stairs', 'to', 'her', 'playhouse', '.'], ['A', 'little', 'girl', 'in', 'a', 'pink', 'dress', 'going', 'into', 'a', 'wooden', 'cabin', '.']]\n",
      "====\n",
      "1001773457_577c3a7d70\n",
      "====\n",
      "[['Two', 'dogs', 'on', 'pavement', 'moving', 'toward', 'each', 'other', '.']]\n",
      "====\n",
      "1002674143_1b742ab4b8\n",
      "====\n",
      "[['A', 'little', 'girl', 'covered', 'in', 'paint', 'sits', 'in', 'front', 'of', 'a', 'painted', 'rainbow', 'with', 'her', 'hands', 'in', 'a', 'bowl', '.']]\n",
      "====\n"
     ]
    }
   ],
   "source": [
    "captions_list = []\n",
    "for line in mapping_list:\n",
    "    print line\n",
    "    print \"====\"\n",
    "    print mapping_list[line]\n",
    "    print \"====\"\n",
    "    captions_list.append(mapping_list[line])"
   ]
  },
  {
   "cell_type": "code",
   "execution_count": 46,
   "metadata": {},
   "outputs": [
    {
     "data": {
      "text/plain": [
       "[[['A', 'girl', 'going', 'into', 'a', 'wooden', 'building', '.'],\n",
       "  ['A', 'little', 'girl', 'climbing', 'into', 'a', 'wooden', 'playhouse', '.'],\n",
       "  ['A',\n",
       "   'little',\n",
       "   'girl',\n",
       "   'climbing',\n",
       "   'the',\n",
       "   'stairs',\n",
       "   'to',\n",
       "   'her',\n",
       "   'playhouse',\n",
       "   '.'],\n",
       "  ['A',\n",
       "   'little',\n",
       "   'girl',\n",
       "   'in',\n",
       "   'a',\n",
       "   'pink',\n",
       "   'dress',\n",
       "   'going',\n",
       "   'into',\n",
       "   'a',\n",
       "   'wooden',\n",
       "   'cabin',\n",
       "   '.']],\n",
       " [['Two', 'dogs', 'on', 'pavement', 'moving', 'toward', 'each', 'other', '.']],\n",
       " [['A',\n",
       "   'little',\n",
       "   'girl',\n",
       "   'covered',\n",
       "   'in',\n",
       "   'paint',\n",
       "   'sits',\n",
       "   'in',\n",
       "   'front',\n",
       "   'of',\n",
       "   'a',\n",
       "   'painted',\n",
       "   'rainbow',\n",
       "   'with',\n",
       "   'her',\n",
       "   'hands',\n",
       "   'in',\n",
       "   'a',\n",
       "   'bowl',\n",
       "   '.']]]"
      ]
     },
     "execution_count": 46,
     "metadata": {},
     "output_type": "execute_result"
    }
   ],
   "source": [
    "captions_list"
   ]
  },
  {
   "cell_type": "code",
   "execution_count": 51,
   "metadata": {},
   "outputs": [],
   "source": [
    "vocab_list = []\n",
    "for captions in captions_list:\n",
    "    for caption in captions:\n",
    "        for token in caption:\n",
    "            vocab_list.append(token)\n",
    "#     print captions\n",
    "#     print \"====\"\n",
    "#     print len(caption)"
   ]
  },
  {
   "cell_type": "code",
   "execution_count": 53,
   "metadata": {},
   "outputs": [
    {
     "data": {
      "text/plain": [
       "69"
      ]
     },
     "execution_count": 53,
     "metadata": {},
     "output_type": "execute_result"
    }
   ],
   "source": [
    "len(vocab_list)"
   ]
  },
  {
   "cell_type": "code",
   "execution_count": null,
   "metadata": {},
   "outputs": [],
   "source": []
  },
  {
   "cell_type": "code",
   "execution_count": null,
   "metadata": {},
   "outputs": [],
   "source": []
  },
  {
   "cell_type": "code",
   "execution_count": null,
   "metadata": {},
   "outputs": [],
   "source": []
  }
 ],
 "metadata": {
  "kernelspec": {
   "display_name": "Python 3",
   "language": "python",
   "name": "python3"
  },
  "language_info": {
   "codemirror_mode": {
    "name": "ipython",
    "version": 3
   },
   "file_extension": ".py",
   "mimetype": "text/x-python",
   "name": "python",
   "nbconvert_exporter": "python",
   "pygments_lexer": "ipython3",
   "version": "3.6.6"
  }
 },
 "nbformat": 4,
 "nbformat_minor": 2
}
