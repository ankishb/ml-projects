{
  "nbformat": 4,
  "nbformat_minor": 0,
  "metadata": {
    "colab": {
      "name": "gs-quantify.ipynb",
      "provenance": [],
      "collapsed_sections": []
    },
    "kernelspec": {
      "name": "python3",
      "display_name": "Python 3"
    }
  },
  "cells": [
    {
      "cell_type": "markdown",
      "metadata": {
        "id": "h1YpP5Dd6LGz",
        "colab_type": "text"
      },
      "source": [
        "[link text](\n",
        "## My approach:\n",
        "1. Data Cleaning\n",
        "\t+ removed punctuation\n",
        "\t+ also removed keyword like `len`, `time`\n",
        "\t+ append all the `info` in a sentence\n",
        "2. feature generation\n",
        "\t+ use regex for further cleaning \n",
        "\t+ generate `TFIDF` based feature\n",
        "\t+ removed highly occurred words such as status and other\n",
        "\t+ used `htttps-links` as a string\n",
        "3. Clustering\n",
        "\t+ kmean-clustering is used\n",
        "\t+ topic modelling)(but didn't worked out properly, need more tuning and cleaning)\n",
        ")"
      ]
    },
    {
      "cell_type": "code",
      "metadata": {
        "id": "WQvwmY6X6IKF",
        "colab_type": "code",
        "colab": {}
      },
      "source": [
        ""
      ],
      "execution_count": 0,
      "outputs": []
    },
    {
      "cell_type": "code",
      "metadata": {
        "id": "Xq-B1W4kkenj",
        "colab_type": "code",
        "colab": {}
      },
      "source": [
        "import pandas as pd\n",
        "import numpy as np\n",
        "import matplotlib.pyplot as plt\n",
        "%matplotlib inline\n",
        "\n",
        "import seaborn as sns\n",
        "import gc, os\n",
        "import warnings\n",
        "warnings.filterwarnings(\"ignore\")"
      ],
      "execution_count": 0,
      "outputs": []
    },
    {
      "cell_type": "code",
      "metadata": {
        "id": "7HUd4sRElI5a",
        "colab_type": "code",
        "colab": {
          "base_uri": "https://localhost:8080/",
          "height": 35
        },
        "outputId": "2dc4e3ce-5618-47ef-f080-97cdd95f530f"
      },
      "source": [
        ""
      ],
      "execution_count": 2,
      "outputs": [
        {
          "output_type": "stream",
          "text": [
            "fatal: destination path 'resume' already exists and is not an empty directory.\n"
          ],
          "name": "stdout"
        }
      ]
    },
    {
      "cell_type": "code",
      "metadata": {
        "id": "slD-dRe0mB-G",
        "colab_type": "code",
        "colab": {
          "base_uri": "https://localhost:8080/",
          "height": 363
        },
        "outputId": "a47a73c9-96fd-4b3e-b74f-24b04cb9fb36"
      },
      "source": [
        "with open(\"DataSet/train_set.txt\",'r') as f:\n",
        "    train = [line.strip() for line in f.readlines()]\n",
        "    \n",
        "train = [{\"LineNumber\": line.split()[0], \"Text\": line.split()[1:]} for line in train]\n",
        "train = pd.DataFrame(train)\n",
        "\n",
        "with open(\"DataSet/public_test_set.txt\",'r') as f:\n",
        "    test1 = [line.strip() for line in f.readlines()]\n",
        "    \n",
        "test1 = [{\"LineNumber\": line.split()[0], \"Text\": line.split()[1:]} for line in test1]\n",
        "test1 = pd.DataFrame(test1)\n",
        "\n",
        "with open(\"DataSet/private_test_set.txt\",'r') as f:\n",
        "    test2 = [line.strip() for line in f.readlines()]\n",
        "    \n",
        "test2 = [{\"LineNumber\": line.split()[0], \"Text\": line.split()[1:]} for line in test2]\n",
        "test2 = pd.DataFrame(test2)\n",
        "\n",
        "train['LineNumber'] = train['LineNumber'].apply(lambda x: x[:x.find(\"~\")])\n",
        "test1['LineNumber'] = test1['LineNumber'].apply(lambda x: x[:x.find(\"~\")])\n",
        "test2['LineNumber'] = test2['LineNumber'].apply(lambda x: x[:x.find(\"~\")])\n",
        "\n",
        "train.head().append(test1.head())"
      ],
      "execution_count": 8,
      "outputs": [
        {
          "output_type": "execute_result",
          "data": {
            "text/html": [
              "<div>\n",
              "<style scoped>\n",
              "    .dataframe tbody tr th:only-of-type {\n",
              "        vertical-align: middle;\n",
              "    }\n",
              "\n",
              "    .dataframe tbody tr th {\n",
              "        vertical-align: top;\n",
              "    }\n",
              "\n",
              "    .dataframe thead th {\n",
              "        text-align: right;\n",
              "    }\n",
              "</style>\n",
              "<table border=\"1\" class=\"dataframe\">\n",
              "  <thead>\n",
              "    <tr style=\"text-align: right;\">\n",
              "      <th></th>\n",
              "      <th>LineNumber</th>\n",
              "      <th>Text</th>\n",
              "    </tr>\n",
              "  </thead>\n",
              "  <tbody>\n",
              "    <tr>\n",
              "      <th>0</th>\n",
              "      <td>L0</td>\n",
              "      <td>[34703, INFO, gs.openstack.wsgi.server, [, req...</td>\n",
              "    </tr>\n",
              "    <tr>\n",
              "      <th>1</th>\n",
              "      <td>L1</td>\n",
              "      <td>[39946, INFO, gs.openapi.server, [, req-0fpkx-...</td>\n",
              "    </tr>\n",
              "    <tr>\n",
              "      <th>2</th>\n",
              "      <td>L2</td>\n",
              "      <td>[94359, INFO, gs.api.openstack.compute.wsgi, [...</td>\n",
              "    </tr>\n",
              "    <tr>\n",
              "      <th>3</th>\n",
              "      <td>L3</td>\n",
              "      <td>[80828, INFO, gs.resource.claims, [, req-j1yt-...</td>\n",
              "    </tr>\n",
              "    <tr>\n",
              "      <th>4</th>\n",
              "      <td>L4</td>\n",
              "      <td>[01,, 2019_13:20:00, 44944, INFO, gs.resource....</td>\n",
              "    </tr>\n",
              "    <tr>\n",
              "      <th>0</th>\n",
              "      <td>L0</td>\n",
              "      <td>[14,, 2019_13:20:00, 58233, INFO, gs.openapi.s...</td>\n",
              "    </tr>\n",
              "    <tr>\n",
              "      <th>1</th>\n",
              "      <td>L1</td>\n",
              "      <td>[PM, 60109, INFO, gs.openstack.server, [, req-...</td>\n",
              "    </tr>\n",
              "    <tr>\n",
              "      <th>2</th>\n",
              "      <td>L2</td>\n",
              "      <td>[80226, INFO, gs.compute.manager, [, req-6od5m...</td>\n",
              "    </tr>\n",
              "    <tr>\n",
              "      <th>3</th>\n",
              "      <td>L3</td>\n",
              "      <td>[07,, 2019_13:04, 57889, INFO, gs.openstack.se...</td>\n",
              "    </tr>\n",
              "    <tr>\n",
              "      <th>4</th>\n",
              "      <td>L4</td>\n",
              "      <td>[11,, 2019_23:18:00, 61822, INFO, gs.api.opena...</td>\n",
              "    </tr>\n",
              "  </tbody>\n",
              "</table>\n",
              "</div>"
            ],
            "text/plain": [
              "  LineNumber                                               Text\n",
              "0         L0  [34703, INFO, gs.openstack.wsgi.server, [, req...\n",
              "1         L1  [39946, INFO, gs.openapi.server, [, req-0fpkx-...\n",
              "2         L2  [94359, INFO, gs.api.openstack.compute.wsgi, [...\n",
              "3         L3  [80828, INFO, gs.resource.claims, [, req-j1yt-...\n",
              "4         L4  [01,, 2019_13:20:00, 44944, INFO, gs.resource....\n",
              "0         L0  [14,, 2019_13:20:00, 58233, INFO, gs.openapi.s...\n",
              "1         L1  [PM, 60109, INFO, gs.openstack.server, [, req-...\n",
              "2         L2  [80226, INFO, gs.compute.manager, [, req-6od5m...\n",
              "3         L3  [07,, 2019_13:04, 57889, INFO, gs.openstack.se...\n",
              "4         L4  [11,, 2019_23:18:00, 61822, INFO, gs.api.opena..."
            ]
          },
          "metadata": {
            "tags": []
          },
          "execution_count": 8
        }
      ]
    },
    {
      "cell_type": "code",
      "metadata": {
        "id": "yuCgGIpFo-xs",
        "colab_type": "code",
        "colab": {
          "base_uri": "https://localhost:8080/",
          "height": 520
        },
        "outputId": "735c0a3c-456a-45db-9039-a9c568096ee3"
      },
      "source": [
        "import string\n",
        "puncts = list(string.punctuation)\n",
        "\n",
        "import re\n",
        "def clean_text(text):\n",
        "    text = text.lower()\n",
        "    text = re.sub(r'@[a-zA-Z0-9_]+', '', text)\n",
        "    text = re.sub(r'-', \" \", text)\n",
        "    text = text[text.find(\"info\") : text.find(\"len\")]\n",
        "#     text = re.sub(r'https?://[A-Za-z0-9./]+', '', text)   \n",
        "#     text = re.sub(r'www.[^ ]+', '', text)  \n",
        "#     text = re.sub(r'[a-zA-Z0-9]*www[a-zA-Z0-9]*com[a-zA-Z0-9]*', '', text)  \n",
        "#     text = re.sub(r'[^a-zA-Z]', ' ', text)   \n",
        "    text = [token for token in text.split() if len(token) > 2]\n",
        "    text = ' '.join(text)\n",
        "    return text\n",
        "\n",
        "train['Text'] = train['Text'].apply(lambda x: \" \".join(x))\n",
        "train['Text'] = train['Text'].apply(clean_text)\n",
        "\n",
        "test1['Text'] = test1['Text'].apply(lambda x: \" \".join(x))\n",
        "test1['Text'] = test1['Text'].apply(clean_text)\n",
        "\n",
        "test2['Text'] = test2['Text'].apply(lambda x: \" \".join(x))\n",
        "test2['Text'] = test2['Text'].apply(clean_text)\n",
        "\n",
        "\n",
        "train.head().append(test1.head()).append(test2.head())\n"
      ],
      "execution_count": 9,
      "outputs": [
        {
          "output_type": "execute_result",
          "data": {
            "text/html": [
              "<div>\n",
              "<style scoped>\n",
              "    .dataframe tbody tr th:only-of-type {\n",
              "        vertical-align: middle;\n",
              "    }\n",
              "\n",
              "    .dataframe tbody tr th {\n",
              "        vertical-align: top;\n",
              "    }\n",
              "\n",
              "    .dataframe thead th {\n",
              "        text-align: right;\n",
              "    }\n",
              "</style>\n",
              "<table border=\"1\" class=\"dataframe\">\n",
              "  <thead>\n",
              "    <tr style=\"text-align: right;\">\n",
              "      <th></th>\n",
              "      <th>LineNumber</th>\n",
              "      <th>Text</th>\n",
              "    </tr>\n",
              "  </thead>\n",
              "  <tbody>\n",
              "    <tr>\n",
              "      <th>0</th>\n",
              "      <td>L0</td>\n",
              "      <td>info gs.openstack.wsgi.server req y9mjwk n1yj ...</td>\n",
              "    </tr>\n",
              "    <tr>\n",
              "      <th>1</th>\n",
              "      <td>L1</td>\n",
              "      <td>info gs.openapi.server req 0fpkx 6purm vpog en...</td>\n",
              "    </tr>\n",
              "    <tr>\n",
              "      <th>2</th>\n",
              "      <td>L2</td>\n",
              "      <td>info gs.api.openstack.compute.wsgi req ufxz lc...</td>\n",
              "    </tr>\n",
              "    <tr>\n",
              "      <th>3</th>\n",
              "      <td>L3</td>\n",
              "      <td>info gs.resource.claims req j1yt 0n37 nji3 xkf...</td>\n",
              "    </tr>\n",
              "    <tr>\n",
              "      <th>4</th>\n",
              "      <td>L4</td>\n",
              "      <td>info gs.resource.claims req fcvp 2m85w bdsu2p ...</td>\n",
              "    </tr>\n",
              "    <tr>\n",
              "      <th>0</th>\n",
              "      <td>L0</td>\n",
              "      <td>info gs.openapi.server req qvrlz kqijyd easb2 ...</td>\n",
              "    </tr>\n",
              "    <tr>\n",
              "      <th>1</th>\n",
              "      <td>L1</td>\n",
              "      <td>info gs.openstack.server req n7w9u tn296 gmw3 ...</td>\n",
              "    </tr>\n",
              "    <tr>\n",
              "      <th>2</th>\n",
              "      <td>L2</td>\n",
              "      <td>info gs.compute.manager req 6od5mc e6ba xd16 h...</td>\n",
              "    </tr>\n",
              "    <tr>\n",
              "      <th>3</th>\n",
              "      <td>L3</td>\n",
              "      <td>info gs.openstack.server req kyum oi5g w4q2 e8...</td>\n",
              "    </tr>\n",
              "    <tr>\n",
              "      <th>4</th>\n",
              "      <td>L4</td>\n",
              "      <td>info gs.api.openapi.compute.wsgi req y9mjwk 6d...</td>\n",
              "    </tr>\n",
              "    <tr>\n",
              "      <th>0</th>\n",
              "      <td>L0</td>\n",
              "      <td>info gs.resource.resource_tracker req vleiy st...</td>\n",
              "    </tr>\n",
              "    <tr>\n",
              "      <th>1</th>\n",
              "      <td>L1</td>\n",
              "      <td>info gs.resource.manager req vz2nx rj0zcy lem3...</td>\n",
              "    </tr>\n",
              "    <tr>\n",
              "      <th>2</th>\n",
              "      <td>L2</td>\n",
              "      <td>info gs.api.openstack.compute.wsgi req seht hx...</td>\n",
              "    </tr>\n",
              "    <tr>\n",
              "      <th>3</th>\n",
              "      <td>L3</td>\n",
              "      <td>info gs.openapi.server req xms9j g0zcrh kd5eu ...</td>\n",
              "    </tr>\n",
              "    <tr>\n",
              "      <th>4</th>\n",
              "      <td>L4</td>\n",
              "      <td>info gs.openstack.server req ioxmw 6nub 4yrq2 ...</td>\n",
              "    </tr>\n",
              "  </tbody>\n",
              "</table>\n",
              "</div>"
            ],
            "text/plain": [
              "  LineNumber                                               Text\n",
              "0         L0  info gs.openstack.wsgi.server req y9mjwk n1yj ...\n",
              "1         L1  info gs.openapi.server req 0fpkx 6purm vpog en...\n",
              "2         L2  info gs.api.openstack.compute.wsgi req ufxz lc...\n",
              "3         L3  info gs.resource.claims req j1yt 0n37 nji3 xkf...\n",
              "4         L4  info gs.resource.claims req fcvp 2m85w bdsu2p ...\n",
              "0         L0  info gs.openapi.server req qvrlz kqijyd easb2 ...\n",
              "1         L1  info gs.openstack.server req n7w9u tn296 gmw3 ...\n",
              "2         L2  info gs.compute.manager req 6od5mc e6ba xd16 h...\n",
              "3         L3  info gs.openstack.server req kyum oi5g w4q2 e8...\n",
              "4         L4  info gs.api.openapi.compute.wsgi req y9mjwk 6d...\n",
              "0         L0  info gs.resource.resource_tracker req vleiy st...\n",
              "1         L1  info gs.resource.manager req vz2nx rj0zcy lem3...\n",
              "2         L2  info gs.api.openstack.compute.wsgi req seht hx...\n",
              "3         L3  info gs.openapi.server req xms9j g0zcrh kd5eu ...\n",
              "4         L4  info gs.openstack.server req ioxmw 6nub 4yrq2 ..."
            ]
          },
          "metadata": {
            "tags": []
          },
          "execution_count": 9
        }
      ]
    },
    {
      "cell_type": "code",
      "metadata": {
        "id": "B8trNNji1NOq",
        "colab_type": "code",
        "colab": {}
      },
      "source": [
        ""
      ],
      "execution_count": 0,
      "outputs": []
    },
    {
      "cell_type": "code",
      "metadata": {
        "id": "K84Xvq1Io-3J",
        "colab_type": "code",
        "colab": {}
      },
      "source": [
        "words = dict()\n",
        "for row in data['Text1']:\n",
        "    for d in row.split(\" \"):\n",
        "        if words.get(d) is None:\n",
        "            words[d] = 1\n",
        "        else:\n",
        "            words[d] = words.get(d) + 1"
      ],
      "execution_count": 0,
      "outputs": []
    },
    {
      "cell_type": "code",
      "metadata": {
        "id": "s-1jKyZJm-fY",
        "colab_type": "code",
        "colab": {
          "base_uri": "https://localhost:8080/",
          "height": 221
        },
        "outputId": "385fe935-b2ee-4fe0-9c1e-cc5b27a8b53f"
      },
      "source": [
        "for d in data['Text1'][:10]:\n",
        "    print(d)"
      ],
      "execution_count": 45,
      "outputs": [
        {
          "output_type": "stream",
          "text": [
            "info gs.openstack.wsgi.server req y9mjwk n1yj 6wl35r nhwlbg http exception thrown: entry found for any even\n",
            "info gs.openapi.server req 0fpkx 6purm vpog enwlc a32lk creating event network vif plugged: for instanc\n",
            "info gs.api.openstack.compute.wsgi req ufxz lctxos ogc53 l89bg creating event network vif plugged: for instanc\n",
            "info gs.resource.claims req j1yt 0n37 nji3 xkf8 creating event network vif plugged: for instanc\n",
            "info gs.resource.claims req fcvp 2m85w bdsu2p voi178 \"delete /v2/lw7jq0tyfi3n1pxu/servers/details http/1.1\" status: 204\n",
            "info gs.openstack.server req hfujap 564sz a7s4 59rz o74f \"get /latest/meta data/block device mapping/ami http/1.1\" status: 404\n",
            "info gs.resource.manager req 6g9t ydjr7v 0eyq f1zgu creating event network vif plugged: for instanc\n",
            "info gs.api.openstack.compute.wsgi req q2b5x 59rz 9abg \"get /latest/meta data/block device mapping/ami http/1.1\" status: 200\n",
            "info gs.compute.manager req pt2zo dr2nm 2bi3 ndrl instance: a0um ugkq 6x7z5 total disk upper limit not defined, defaulting unlimite\n",
            "info gs.resource.manager req 1eq4 x9cjd yp0io 6g9t creating event network vif plugged: for instanc\n"
          ],
          "name": "stdout"
        }
      ]
    },
    {
      "cell_type": "code",
      "metadata": {
        "id": "7RPWPNNRrxXK",
        "colab_type": "code",
        "colab": {}
      },
      "source": [
        "word_dict = pd.DataFrame()\n",
        "word_dict['word'] = words.keys()\n",
        "word_dict['count'] = words.values()"
      ],
      "execution_count": 0,
      "outputs": []
    },
    {
      "cell_type": "code",
      "metadata": {
        "id": "EekrIKhYsusq",
        "colab_type": "code",
        "colab": {}
      },
      "source": [
        "# word_dict.sort_values(by=\"count\", ascending=False).head(50)"
      ],
      "execution_count": 0,
      "outputs": []
    },
    {
      "cell_type": "code",
      "metadata": {
        "id": "IM_FiHrauIIK",
        "colab_type": "code",
        "colab": {}
      },
      "source": [
        "import gc\n",
        "from sklearn.feature_extraction.text import CountVectorizer\n",
        "from sklearn.feature_extraction.text import TfidfVectorizer\n",
        "from sklearn.decomposition import TruncatedSVD, NMF\n",
        "\n",
        "def tfidf_feature(train, test, col_name, min_df=3, analyzer='word', \n",
        "                  token_pattern=r'\\w{1,}', ngram=3, stopwords='english', \n",
        "                  n_component=120, decom_flag=False, which_method='svd', \n",
        "                  max_features=None, feat_col_name='svd'):\n",
        "\n",
        "    tfv = TfidfVectorizer(min_df=min_df,  max_features=max_features, \n",
        "                strip_accents='unicode', analyzer=analyzer, max_df=0.95, \n",
        "                token_pattern=token_pattern, ngram_range=(1, ngram), \n",
        "                use_idf=1, smooth_idf=1, sublinear_tf=1,\n",
        "                stop_words = stopwords)\n",
        "\n",
        "    complete_df = pd.concat([train[col_name], test[col_name]], axis=0)\n",
        "#         return complete_df\n",
        "#         print(complete_df.shape, complete_df.columns)\n",
        "\n",
        "    tfv.fit(list(complete_df[:].values))\n",
        "\n",
        "    if decom_flag is False:\n",
        "        train_tfv =  tfv.transform(train[col_name].values.ravel()) \n",
        "        test_tfv  = tfv.transform(test[col_name].values.ravel())\n",
        "\n",
        "        del complete_df\n",
        "        gc.collect()\n",
        "        return train_tfv, test_tfv, tfv\n",
        "    else:\n",
        "        complete_tfv = tfv.transform(complete_df[:].values.ravel())\n",
        "        \n",
        "        if which_method is 'svd':\n",
        "            svd = TruncatedSVD(n_components=n_component)\n",
        "            svd.fit(complete_tfv)\n",
        "            complete_dec = svd.transform(complete_tfv)\n",
        "        else:\n",
        "            nmf = NMF(n_components=n_component, random_state=1234, alpha=0, l1_ratio=0)\n",
        "            nmf.fit(complete_tfv)            \n",
        "            complete_dec = nmf.fit_transform(complete_tfv)            \n",
        "        \n",
        "        \n",
        "        complete_dec = pd.DataFrame(data=complete_dec)\n",
        "        complete_dec.columns = [feat_col_name+'_'+str(i) for i in range(n_component)]\n",
        "\n",
        "        train_dec = complete_dec.iloc[:train.shape[0]]\n",
        "        test_dec = complete_dec.iloc[train.shape[0]:].reset_index(drop=True)\n",
        "\n",
        "        del complete_dec, complete_df\n",
        "        gc.collect()\n",
        "        print(\"=\"*15, \" done \", \"=\"*15)\n",
        "        return train_dec, test_dec, complete_tfv, tfv\n",
        "\n",
        "def countvect_feature(train, test, col_name, min_df=3, \n",
        "                      analyzer='word', token_pattern=r'\\w{1,}', \n",
        "                      ngram=3, stopwords='english', max_features=None):\n",
        "\n",
        "    ctv = CountVectorizer(min_df=min_df,  max_features=max_features, \n",
        "                strip_accents='unicode', analyzer=analyzer, \n",
        "                token_pattern=token_pattern, ngram_range=(1, ngram), \n",
        "                stop_words = stopwords)\n",
        "\n",
        "    complete_df = pd.concat([train[col_name], test[col_name]], axis=0)\n",
        "    ctv.fit(list(complete_df[:].values))\n",
        "\n",
        "    train_tf =  ctv.transform(train[col_name].values.ravel()) \n",
        "    test_tf  = ctv.transform(test[col_name].values.ravel())\n",
        "\n",
        "    del complete_df\n",
        "    gc.collect()\n",
        "    return train_tf, test_tf, ctv\n",
        "\n",
        "\n",
        "def get_count_vectorizer(df, col_name, min_df=3, analyzer='word', stopwords='english', \n",
        "                     token_pattern=r'\\w{1,}', ngram=3, max_features=None):\n",
        "    ctv = CountVectorizer(min_df=min_df,  max_features=max_features, \n",
        "                strip_accents='unicode', analyzer=analyzer, \n",
        "                token_pattern=token_pattern, ngram_range=(1, ngram), \n",
        "                stop_words = stopwords)\n",
        "\n",
        "    ctv.fit(list(df[col_name].values))\n",
        "\n",
        "    df_new =  ctv.transform(df[col_name].values.ravel()) \n",
        "    return df_new\n",
        "\n",
        "\n",
        "def get_tfidf_feature(df, col_name, min_df=3, analyzer='word', stopwords='english',\n",
        "                  token_pattern=r'\\w{1,}', ngram=3, max_features=None):\n",
        "\n",
        "    tfv = TfidfVectorizer(min_df=min_df,  max_features=max_features, \n",
        "                strip_accents='unicode', analyzer=analyzer, max_df=0.95, \n",
        "                token_pattern=token_pattern, ngram_range=(1, ngram), \n",
        "                use_idf=1, smooth_idf=1, sublinear_tf=1,\n",
        "                stop_words = stopwords)\n",
        "\n",
        "    tfv.fit(list(df[col_name].values))\n",
        "    df_new =  tfv.transform(df[col_name].values.ravel()) \n",
        "    \n",
        "    return df_new\n",
        "\n",
        "\n",
        "# def compute_idf(strings_list):\n",
        "#     n = len(strings_list)\n",
        "#     idf = dict.fromkeys(strings_list[0].keys(), 0)\n",
        "#     for l in strings_list:\n",
        "#         for word, count in l.items():\n",
        "#             if count > 0:\n",
        "#                 idf[word] += 1\n",
        "    \n",
        "#     for word, v in idf.items():\n",
        "#         idf[word] = log(n / float(v))\n",
        "#     return idf\n",
        "    \n",
        "\n",
        "# def compute_tf_idf(tf, idf):\n",
        "#     tf_idf = dict.fromkeys(tf.keys(), 0)\n",
        "#     for word, v in tf.items():\n",
        "#         tf_idf[word] = v * idf[word]\n",
        "#     return tf_idf\n",
        "    \n",
        "\n"
      ],
      "execution_count": 0,
      "outputs": []
    },
    {
      "cell_type": "code",
      "metadata": {
        "id": "R1fqbzkkxeLt",
        "colab_type": "code",
        "colab": {}
      },
      "source": [
        "def get_tfidf_feature(df, col_name, min_df=3, analyzer='word', stopwords='english',\n",
        "                  token_pattern=r'\\w{1,}', ngram=3, max_features=None):\n",
        "\n",
        "    tfv = TfidfVectorizer(min_df=min_df,  max_features=max_features, \n",
        "                strip_accents='unicode', analyzer=analyzer, max_df=0.95, \n",
        "                token_pattern=token_pattern, ngram_range=(1, ngram), \n",
        "                use_idf=1, smooth_idf=1, sublinear_tf=1,\n",
        "                stop_words = stopwords)\n",
        "\n",
        "    tfv.fit(list(df[col_name].values))\n",
        "    \n",
        "    return tfv"
      ],
      "execution_count": 0,
      "outputs": []
    },
    {
      "cell_type": "code",
      "metadata": {
        "id": "ac8y2VLd2B9U",
        "colab_type": "code",
        "colab": {}
      },
      "source": [
        "tfidf = get_tfidf_feature(train, col_name=\"Text\", min_df=3, analyzer='word', \n",
        "                          stopwords='english',\n",
        "                          token_pattern=r'\\w{1,}', ngram=3, \n",
        "                          max_features=None)\n",
        "tr_idf  =  tfidf.transform(train['Text'].values.ravel()) \n",
        "ts1_idf =  tfidf.transform(test1['Text'].values.ravel()) \n",
        "ts2_idf =  tfidf.transform(test2['Text'].values.ravel()) \n"
      ],
      "execution_count": 0,
      "outputs": []
    },
    {
      "cell_type": "code",
      "metadata": {
        "id": "b6nmyTfMxV9h",
        "colab_type": "code",
        "colab": {}
      },
      "source": [
        ""
      ],
      "execution_count": 0,
      "outputs": []
    },
    {
      "cell_type": "code",
      "metadata": {
        "id": "4PGP53FNx2Ja",
        "colab_type": "code",
        "colab": {}
      },
      "source": [
        "from sklearn.cluster import KMeans\n",
        "\n",
        "kmeans = KMeans(n_clusters=10).fit(tr_idf)"
      ],
      "execution_count": 0,
      "outputs": []
    },
    {
      "cell_type": "code",
      "metadata": {
        "id": "zGLvGgcCySPF",
        "colab_type": "code",
        "colab": {
          "base_uri": "https://localhost:8080/",
          "height": 374
        },
        "outputId": "6690fdf4-4877-4f7b-fce4-784a14642231"
      },
      "source": [
        "preds = kmeans.predict(tr_idf)\n",
        "\n",
        "fig, ax = plt.subplots(1,1, figsize=(18,5))    \n",
        "sns.countplot(preds, ax=ax)\n",
        "ax.set_title(\"frequecy plot of kmean clustering\")"
      ],
      "execution_count": 67,
      "outputs": [
        {
          "output_type": "execute_result",
          "data": {
            "text/plain": [
              "Text(0.5, 1.0, 'frequecy plot of kmean clustering')"
            ]
          },
          "metadata": {
            "tags": []
          },
          "execution_count": 67
        },
        {
          "output_type": "display_data",
          "data": {
            "image/png": "[encoded data removed]",
            "text/plain": [
              "<Figure size 1296x360 with 1 Axes>"
            ]
          },
          "metadata": {
            "tags": []
          }
        }
      ]
    },
    {
      "cell_type": "code",
      "metadata": {
        "id": "goCPJMQLzN7P",
        "colab_type": "code",
        "colab": {}
      },
      "source": [
        "data['pred'] = preds"
      ],
      "execution_count": 0,
      "outputs": []
    },
    {
      "cell_type": "code",
      "metadata": {
        "id": "izCqyF-DzVST",
        "colab_type": "code",
        "colab": {
          "base_uri": "https://localhost:8080/",
          "height": 184
        },
        "outputId": "7b7e1766-ea5e-4166-aa1e-7c942291af3b"
      },
      "source": [
        "data[data['pred'] == 4]['Text1'].values"
      ],
      "execution_count": 72,
      "outputs": [
        {
          "output_type": "execute_result",
          "data": {
            "text/plain": [
              "array(['info gs.openstack.server req hfujap 564sz a7s4 59rz o74f \"get /latest/meta data/block device mapping/ami http/1.1\" status: 404',\n",
              "       'info gs.api.openstack.compute.wsgi req q2b5x 59rz 9abg \"get /latest/meta data/block device mapping/ami http/1.1\" status: 200',\n",
              "       'info gs.resource.claims req r36js 1khtw bid2 op4ryu \"get /latest/meta data/block device mapping/ami http/1.1\" status: 200',\n",
              "       ...,\n",
              "       'info gs.compute.manager req ndrl 53ijn h9pg \"get /latest/meta data/block device mapping/ami http/1.1\" status: 404',\n",
              "       'info gs.openstack.wsgi.server req 2aque d7zuw6 1yaqrz \"get /latest/meta data/block device mapping/root http/1.1\" status: 404',\n",
              "       'info gs.openstack.server req vpog kw0tiv ws0mh \"get /latest/meta data/block device mapping/ami http/1.1\" status: 200'],\n",
              "      dtype=object)"
            ]
          },
          "metadata": {
            "tags": []
          },
          "execution_count": 72
        }
      ]
    },
    {
      "cell_type": "code",
      "metadata": {
        "id": "bXAIhtIczkFf",
        "colab_type": "code",
        "colab": {
          "base_uri": "https://localhost:8080/",
          "height": 184
        },
        "outputId": "34e29758-d604-40ba-e7f3-a48dd9d14c20"
      },
      "source": [
        "data[data['pred'] == 3]['Text1'].values"
      ],
      "execution_count": 73,
      "outputs": [
        {
          "output_type": "execute_result",
          "data": {
            "text/plain": [
              "array(['info gs.openapi.server req 0fpkx 6purm vpog enwlc a32lk creating event network vif plugged: for instanc',\n",
              "       'info gs.api.openstack.compute.wsgi req ufxz lctxos ogc53 l89bg creating event network vif plugged: for instanc',\n",
              "       'info gs.resource.claims req j1yt 0n37 nji3 xkf8 creating event network vif plugged: for instanc',\n",
              "       ...,\n",
              "       'info gs.compute.resource_tracker req gmw3 8aqge joh69 zmogv creating event network vif plugged: for instanc',\n",
              "       'info gs.openstack.server req v3fcs ahegn 0eyq creating event network vif plugged: for instanc',\n",
              "       'info gs.compute.manager req lem3a rhezju igbe5 ioxmw creating event network vif plugged: for instanc'],\n",
              "      dtype=object)"
            ]
          },
          "metadata": {
            "tags": []
          },
          "execution_count": 73
        }
      ]
    },
    {
      "cell_type": "code",
      "metadata": {
        "id": "rwBTHqkuzj5a",
        "colab_type": "code",
        "colab": {
          "base_uri": "https://localhost:8080/",
          "height": 184
        },
        "outputId": "f876911a-1b58-4c29-df9e-7326902f8380"
      },
      "source": [
        "data[data['pred'] == 2]['Text1'].values"
      ],
      "execution_count": 74,
      "outputs": [
        {
          "output_type": "execute_result",
          "data": {
            "text/plain": [
              "array(['info gs.openstack.wsgi.server req y9mjwk n1yj 6wl35r nhwlbg http exception thrown: entry found for any even',\n",
              "       'info gs.resource.claims req 1pje6m 8cqjwp op4ryu 1eq4 http exception thrown: entry found for any even',\n",
              "       'info gs.openstack.wsgi.server req s5mc2 lco1 j1yt http exception thrown: instances found for any even',\n",
              "       ...,\n",
              "       'info gs.resource.claims req ved5la st19 nac86 http exception thrown: instances found for any even',\n",
              "       'info gs.resource.manager req h0m2 ptcl 63u9fq http exception thrown: instances found for any even',\n",
              "       'info gs.resource.claims req b7con1 z4rqj7 n80j6 http exception thrown: entry found for any even'],\n",
              "      dtype=object)"
            ]
          },
          "metadata": {
            "tags": []
          },
          "execution_count": 74
        }
      ]
    },
    {
      "cell_type": "code",
      "metadata": {
        "id": "1okJJtKHzVOB",
        "colab_type": "code",
        "colab": {
          "base_uri": "https://localhost:8080/",
          "height": 184
        },
        "outputId": "0dfa1580-eb5a-45db-d422-c305dd54637e"
      },
      "source": [
        "data[data['pred'] == 1]['Text1'].values"
      ],
      "execution_count": 75,
      "outputs": [
        {
          "output_type": "execute_result",
          "data": {
            "text/plain": [
              "array(['info gs.resource.claims req fcvp 2m85w bdsu2p voi178 \"delete /v2/lw7jq0tyfi3n1pxu/servers/details http/1.1\" status: 204',\n",
              "       'info gs.openstack.wsgi.server req rvkx sxer sgnvfi l8i6v \"delete /v2/nc9rbshkjp3mivt28gw5uy46qlz1edao/servers/details http/1.1\" status: 202',\n",
              "       'info gs.api.openapi.compute.wsgi req h0kd o74f vla0s 3g0j6 7vse1y \"get /v2/2019 user_data.json http/1.1\" status: 404',\n",
              "       ...,\n",
              "       'info gs.openstack.wsgi.server req xtqs zwa26p pkgfom ntaj \"get /v2/2019 user_data.json http/1.1\" status: 404',\n",
              "       'info gs.compute.manager req fns8p kzunes 8t26 6hb83 9ifn \"post /v2/c7pmb1dvgq5fiunlw4o0rxyj/servers/details http/1.1\" status: 404',\n",
              "       'info gs.api.openstack.compute.wsgi req cm93ef 4yrq2 er9xy 4nbsil gm59z \"post /v2/qkfumht602aerpijvgx83cdn/servers/details http/1.1\" status: 202'],\n",
              "      dtype=object)"
            ]
          },
          "metadata": {
            "tags": []
          },
          "execution_count": 75
        }
      ]
    },
    {
      "cell_type": "code",
      "metadata": {
        "id": "hLBnikw8ySAn",
        "colab_type": "code",
        "colab": {
          "base_uri": "https://localhost:8080/",
          "height": 184
        },
        "outputId": "514ad37e-a69c-4df9-9cf5-beea37b73783"
      },
      "source": [
        "data[data['pred'] == 0]['Text1'].values"
      ],
      "execution_count": 76,
      "outputs": [
        {
          "output_type": "execute_result",
          "data": {
            "text/plain": [
              "array(['info gs.compute.manager req pt2zo dr2nm 2bi3 ndrl instance: a0um ugkq 6x7z5 total disk upper limit not defined, defaulting unlimite',\n",
              "       'info gs.resource.resource_tracker req wud8m ydjr7v 10wn base swap file too young remove: /var/lib/gs/instances/_base/57sy1o 8913pu tfz',\n",
              "       'info gs.compute.resource_tracker req 53ijn fipw ufwp 4ih9m active base files: /var/lib/gs/instances/_base/53ijn fipw ufwp 4ih9',\n",
              "       ...,\n",
              "       'info gs.compute.resource_tracker req 8sa2 moywpf glde instance: kz6vg ax5skc 5zws 5u3f a7s4 instance destroyed successfull',\n",
              "       'info gs.openapi.server req 4uz8 rbdla 92zvgh uab0iz sgjlu instance: 2x0buc x2sl 2u03 paused (lifecycle event',\n",
              "       'info gs.compute.resource_tracker req 4t85u rsjok9 q2b5x wxf6 2bi3 instance: xtqs dwqbe1 8t9m stopped (lifecycle event'],\n",
              "      dtype=object)"
            ]
          },
          "metadata": {
            "tags": []
          },
          "execution_count": 76
        }
      ]
    },
    {
      "cell_type": "code",
      "metadata": {
        "id": "lxUYc8l849t7",
        "colab_type": "code",
        "colab": {
          "base_uri": "https://localhost:8080/",
          "height": 35
        },
        "outputId": "a35c0911-ad56-46af-8ca1-4ab4641aacee"
      },
      "source": [
        "sub2.shape, ts2_idf.shape"
      ],
      "execution_count": 20,
      "outputs": [
        {
          "output_type": "execute_result",
          "data": {
            "text/plain": [
              "((1050,), (1050, 37599))"
            ]
          },
          "metadata": {
            "tags": []
          },
          "execution_count": 20
        }
      ]
    },
    {
      "cell_type": "code",
      "metadata": {
        "id": "G_urBMJU3Cw6",
        "colab_type": "code",
        "colab": {}
      },
      "source": [
        "sub1 = kmeans.predict(ts1_idf)\n",
        "sub2 = kmeans.predict(ts2_idf)\n",
        "\n",
        "public = pd.DataFrame()\n",
        "private = pd.DataFrame()\n",
        "\n",
        "public['LineNumber'] = test1['LineNumber']\n",
        "private['LineNumber'] = test2['LineNumber']\n",
        "\n",
        "public['Class'] = sub1\n",
        "private['Class'] = sub2\n",
        "\n",
        "\n",
        "public.to_csv(\"sub1.csv\", index=None)\n",
        "private.to_csv(\"sub2.csv\", index=None)"
      ],
      "execution_count": 0,
      "outputs": []
    },
    {
      "cell_type": "code",
      "metadata": {
        "id": "eSQHfOMd5YG6",
        "colab_type": "code",
        "colab": {
          "base_uri": "https://localhost:8080/",
          "height": 35
        },
        "outputId": "473ebbe0-71d1-4422-eab4-682ed32198ec"
      },
      "source": [
        "!ls"
      ],
      "execution_count": 23,
      "outputs": [
        {
          "output_type": "stream",
          "text": [
            "resume\tsample_data  sub1.csv  sub2.csv\n"
          ],
          "name": "stdout"
        }
      ]
    },
    {
      "cell_type": "code",
      "metadata": {
        "id": "yK_NjT-f3Cpz",
        "colab_type": "code",
        "colab": {}
      },
      "source": [
        "from google.colab import files\n",
        "# files.download(\"sub1.csv\") \n",
        "files.download(\"sub2.csv\") "
      ],
      "execution_count": 0,
      "outputs": []
    },
    {
      "cell_type": "code",
      "metadata": {
        "id": "14rqzsAK5Uvg",
        "colab_type": "code",
        "colab": {}
      },
      "source": [
        "files.download(\"sub2.csv\") "
      ],
      "execution_count": 0,
      "outputs": []
    },
    {
      "cell_type": "code",
      "metadata": {
        "id": "seEBwnUjuipY",
        "colab_type": "code",
        "colab": {
          "base_uri": "https://localhost:8080/",
          "height": 588
        },
        "outputId": "d8ae01b8-1caf-449c-a0bd-e619c1ea1529"
      },
      "source": [
        "# from sklearn.feature_extraction.text import CountVectorizer\n",
        "# from sklearn.decomposition import LatentDirichletAllocation\n",
        "\n",
        "# cv = CountVectorizer(max_df=0.97,min_df=2,stop_words='english')\n",
        "# term_matrix = cv.fit_transform(data['Text1'])\n",
        "# # print(term_matrix)\n",
        "\n",
        "\n",
        "# ## topic moddeling using 10 component\n",
        "\n",
        "# lda = LatentDirichletAllocation(n_components=10, n_jobs=4)\n",
        "# lda.fit(term_matrix)\n",
        "\n",
        "# topic_word_dict = {}\n",
        "# for index,topic in enumerate(lda.components_):\n",
        "#     words = [cv.get_feature_names()[i] for i in topic.argsort()[-5:]]\n",
        "#     topic_word_dict[index] = words\n",
        "#     print('Top words for topic {}'.format(index))\n",
        "#     print(words)\n",
        "#     print('-'*120)"
      ],
      "execution_count": 60,
      "outputs": [
        {
          "output_type": "stream",
          "text": [
            "Top words for topic 0\n",
            "['wsgi', 'compute', 'server', 'successfull', 'instance']\n",
            "------------------------------------------------------------------------------------------------------------------------\n",
            "Top words for topic 1\n",
            "['compute', 'server', 'lifecycle', 'event', 'instance']\n",
            "------------------------------------------------------------------------------------------------------------------------\n",
            "Top words for topic 2\n",
            "['_base', 'base', 'instances', 'lib', 'var']\n",
            "------------------------------------------------------------------------------------------------------------------------\n",
            "Top words for topic 3\n",
            "['2019', 'json', 'http', 'v2', 'status']\n",
            "------------------------------------------------------------------------------------------------------------------------\n",
            "Top words for topic 4\n",
            "['openapi', 'openstack', 'compute', 'wsgi', 'server']\n",
            "------------------------------------------------------------------------------------------------------------------------\n",
            "Top words for topic 5\n",
            "['http', 'status', 'v2', 'details', 'servers']\n",
            "------------------------------------------------------------------------------------------------------------------------\n",
            "Top words for topic 6\n",
            "['mapping', 'block', 'meta', 'device', 'data']\n",
            "------------------------------------------------------------------------------------------------------------------------\n",
            "Top words for topic 7\n",
            "['instances', 'entry', 'exception', 'thrown', 'http']\n",
            "------------------------------------------------------------------------------------------------------------------------\n",
            "Top words for topic 8\n",
            "['memory', 'disk', 'allocated', 'usable', 'total']\n",
            "------------------------------------------------------------------------------------------------------------------------\n",
            "Top words for topic 9\n",
            "['vif', 'creating', 'plugged', 'network', 'instanc']\n",
            "------------------------------------------------------------------------------------------------------------------------\n"
          ],
          "name": "stdout"
        }
      ]
    },
    {
      "cell_type": "code",
      "metadata": {
        "id": "CCs-qiGhwmPJ",
        "colab_type": "code",
        "colab": {}
      },
      "source": [
        ""
      ],
      "execution_count": 0,
      "outputs": []
    },
    {
      "cell_type": "code",
      "metadata": {
        "id": "CRmr_TS6ut5B",
        "colab_type": "code",
        "colab": {}
      },
      "source": [
        ""
      ],
      "execution_count": 0,
      "outputs": []
    }
  ]
}