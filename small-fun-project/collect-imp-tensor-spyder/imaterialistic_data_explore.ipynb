{
 "cells": [
  {
   "cell_type": "code",
   "execution_count": 1,
   "metadata": {},
   "outputs": [],
   "source": [
    "# start exploring data in json files\n",
    "import pandas as pd\n",
    "import numpy as np\n",
    "import time\n",
    "import json \n",
    "\n",
    "start_time = time.time()"
   ]
  },
  {
   "cell_type": "code",
   "execution_count": 2,
   "metadata": {},
   "outputs": [
    {
     "data": {
      "text/plain": [
       "1529872436.4319766"
      ]
     },
     "execution_count": 2,
     "metadata": {},
     "output_type": "execute_result"
    }
   ],
   "source": [
    "# just to widen the display\n",
    "pd.set_option('display.max_columns', 50)\n",
    "pd.set_option('display.max_rows', 60)\n",
    "\n",
    "time.time()"
   ]
  },
  {
   "cell_type": "code",
   "execution_count": 3,
   "metadata": {},
   "outputs": [
    {
     "name": "stdout",
     "output_type": "stream",
     "text": [
      "train no of images: 1014544\n",
      "test no of images: 39706\n",
      "validation no of images: 9897\n"
     ]
    }
   ],
   "source": [
    "data_path = 'data/'\n",
    "# make dict to save data\n",
    "train = {}\n",
    "validation={}\n",
    "test = {}\n",
    "\n",
    "with open('%s/train.json'%(data_path)) as json_data:\n",
    "    train = json.load(json_data)\n",
    "with open('%s/test.json'%(data_path)) as json_data:\n",
    "    test = json.load(json_data)\n",
    "with open('%s/validation.json'%(data_path)) as json_data:\n",
    "    validation = json.load(json_data)\n",
    "\n",
    "print('train no of images: %d'%(len(train['images'])))\n",
    "print('test no of images: %d'%(len(test['images'])))\n",
    "print('validation no of images: %d'%(len(validation['images'])))\n"
   ]
  },
  {
   "cell_type": "code",
   "execution_count": 4,
   "metadata": {},
   "outputs": [],
   "source": [
    "# json to pandas dataframe\n",
    "#TRAINING DATA\n",
    "train_img_url = train['images']\n",
    "train_img_url = pd.DataFrame(train_img_url)\n",
    "train_ann = train['annotations']\n",
    "train_ann = pd.DataFrame(train_ann)\n",
    "train = pd.merge(train_img_url, train_ann, on='imageId', how='inner')\n"
   ]
  },
  {
   "cell_type": "code",
   "execution_count": 5,
   "metadata": {},
   "outputs": [],
   "source": [
    "#TESTING DATA\n",
    "test = pd.DataFrame(test['images'])\n",
    "\n",
    "# VALIDATION DATA\n",
    "val_img_url = validation['images']\n",
    "val_img_url = pd.DataFrame(val_img_url)\n",
    "val_ann = validation['annotations']\n",
    "val_ann = pd.DataFrame(val_ann)\n",
    "validation = pd.merge(val_img_url, val_ann, on='imageId', how='inner')\n"
   ]
  },
  {
   "cell_type": "code",
   "execution_count": 21,
   "metadata": {},
   "outputs": [],
   "source": [
    "# #trick to print ten entries of dict  ##### didn't work #####\n",
    "# flag = 10\n",
    "# for key,value in train_img_url:\n",
    "#     if(flag != 0):\n",
    "#         print(key, value)#train[key])"
   ]
  },
  {
   "cell_type": "code",
   "execution_count": 23,
   "metadata": {},
   "outputs": [
    {
     "name": "stdout",
     "output_type": "stream",
     "text": [
      "====================\n"
     ]
    }
   ],
   "source": [
    "print(\"=\"*20) # most imp"
   ]
  },
  {
   "cell_type": "code",
   "execution_count": 7,
   "metadata": {},
   "outputs": [
    {
     "name": "stdout",
     "output_type": "stream",
     "text": [
      "  imageId                                                url  \\\n",
      "0       1  https://contestimg.wish.com/api/webimage/570f3...   \n",
      "1       2  https://contestimg.wish.com/api/webimage/5468f...   \n",
      "2       3  https://contestimg.wish.com/api/webimage/54641...   \n",
      "3       4  https://contestimg.wish.com/api/webimage/550b9...   \n",
      "4       5  https://contestimg.wish.com/api/webimage/54451...   \n",
      "\n",
      "                                       labelId  \n",
      "0                        [95, 66, 137, 70, 20]  \n",
      "1                  [36, 66, 44, 214, 105, 133]  \n",
      "2                 [170, 66, 97, 153, 105, 138]  \n",
      "3                       [18, 66, 44, 153, 164]  \n",
      "4  [189, 66, 176, 137, 153, 74, 181, 171, 138]  \n",
      "**************************************************\n",
      "**************************************************\n",
      "**************************************************\n",
      "**************************************************\n",
      "**************************************************\n",
      "  imageId                                                url  \\\n",
      "0       1  https://contestimg.wish.com/api/webimage/568e1...   \n",
      "1       2  https://contestimg.wish.com/api/webimage/5452f...   \n",
      "2       3  https://contestimg.wish.com/api/webimage/54058...   \n",
      "3       4  https://contestimg.wish.com/api/webimage/540c6...   \n",
      "4       5  https://contestimg.wish.com/api/webimage/54477...   \n",
      "\n",
      "                                      labelId  \n",
      "0             [62, 17, 66, 214, 105, 137, 85]  \n",
      "1   [95, 17, 66, 214, 164, 137, 20, 204, 184]  \n",
      "2        [122, 19, 66, 186, 180, 44, 154, 20]  \n",
      "3      [190, 222, 66, 153, 164, 226, 53, 184]  \n",
      "4  [62, 66, 153, 171, 111, 137, 70, 204, 184]  \n",
      "**************************************************\n",
      "**************************************************\n",
      "**************************************************\n",
      "**************************************************\n",
      "**************************************************\n",
      "   imageId                                                url\n",
      "0        1  https://contestimg.wish.com/api/webimage/568e1...\n",
      "1        2  https://contestimg.wish.com/api/webimage/5452f...\n",
      "2        3  https://contestimg.wish.com/api/webimage/54058...\n",
      "3        4  https://contestimg.wish.com/api/webimage/540c6...\n",
      "4        5  https://contestimg.wish.com/api/webimage/54477...\n"
     ]
    }
   ],
   "source": [
    "print(train.head())\n",
    "print('*'*50)\n",
    "print('*'*50)\n",
    "print('*'*50)\n",
    "print('*'*50)\n",
    "print('*'*50)\n",
    "print(validation.head())\n",
    "print('*'*50)\n",
    "print('*'*50)\n",
    "print('*'*50)\n",
    "print('*'*50)\n",
    "print('*'*50)\n",
    "print(test.head())"
   ]
  },
  {
   "cell_type": "code",
   "execution_count": 34,
   "metadata": {},
   "outputs": [
    {
     "data": {
      "text/plain": [
       "0                          [95, 66, 137, 70, 20]\n",
       "1                    [36, 66, 44, 214, 105, 133]\n",
       "2                   [170, 66, 97, 153, 105, 138]\n",
       "3                         [18, 66, 44, 153, 164]\n",
       "4    [189, 66, 176, 137, 153, 74, 181, 171, 138]\n",
       "5                  [190, 106, 53, 153, 164, 184]\n",
       "6                  [114, 222, 113, 176, 214, 87]\n",
       "7             [18, 17, 66, 44, 98, 49, 110, 105]\n",
       "8                   [66, 97, 153, 181, 105, 218]\n",
       "9                [91, 66, 59, 49, 151, 105, 225]\n",
       "Name: labelId, dtype: object"
      ]
     },
     "execution_count": 34,
     "metadata": {},
     "output_type": "execute_result"
    }
   ],
   "source": [
    "temp = train['labelId'][:10]\n",
    "temp"
   ]
  },
  {
   "cell_type": "code",
   "execution_count": 40,
   "metadata": {},
   "outputs": [
    {
     "ename": "TypeError",
     "evalue": "'tuple' object is not callable",
     "output_type": "error",
     "traceback": [
      "\u001b[1;31m---------------------------------------------------------------------------\u001b[0m",
      "\u001b[1;31mTypeError\u001b[0m                                 Traceback (most recent call last)",
      "\u001b[1;32m<ipython-input-40-1962db5616d1>\u001b[0m in \u001b[0;36m<module>\u001b[1;34m()\u001b[0m\n\u001b[0;32m      6\u001b[0m \u001b[1;33m\u001b[0m\u001b[0m\n\u001b[0;32m      7\u001b[0m \u001b[0mmake_list\u001b[0m \u001b[1;33m=\u001b[0m \u001b[0mnp\u001b[0m\u001b[1;33m.\u001b[0m\u001b[0masarray\u001b[0m\u001b[1;33m(\u001b[0m\u001b[0mmake_list\u001b[0m\u001b[1;33m)\u001b[0m\u001b[1;33m\u001b[0m\u001b[0m\n\u001b[1;32m----> 8\u001b[1;33m \u001b[0mmake_list\u001b[0m\u001b[1;33m.\u001b[0m\u001b[0mshape\u001b[0m\u001b[1;33m(\u001b[0m\u001b[1;33m)\u001b[0m\u001b[1;33m\u001b[0m\u001b[0m\n\u001b[0m",
      "\u001b[1;31mTypeError\u001b[0m: 'tuple' object is not callable"
     ]
    }
   ],
   "source": [
    "# trick to make a big list to contain all the labels\n",
    "make_list = []\n",
    "for i in range(len(temp)):\n",
    "    for j in temp[i]:\n",
    "        make_list.append(j)\n",
    "        \n",
    "make_list = np.asarray(make_list)\n",
    "make_list.shape()"
   ]
  },
  {
   "cell_type": "code",
   "execution_count": 41,
   "metadata": {},
   "outputs": [
    {
     "data": {
      "text/plain": [
       "array(['95', '66', '137', '70', '20', '36', '66', '44', '214', '105',\n",
       "       '133', '170', '66', '97', '153', '105', '138', '18', '66', '44',\n",
       "       '153', '164', '189', '66', '176', '137', '153', '74', '181', '171',\n",
       "       '138', '190', '106', '53', '153', '164', '184', '114', '222',\n",
       "       '113', '176', '214', '87', '18', '17', '66', '44', '98', '49',\n",
       "       '110', '105', '66', '97', '153', '181', '105', '218', '91', '66',\n",
       "       '59', '49', '151', '105', '225'], dtype='<U3')"
      ]
     },
     "execution_count": 41,
     "metadata": {},
     "output_type": "execute_result"
    }
   ],
   "source": [
    "make_list"
   ]
  },
  {
   "cell_type": "code",
   "execution_count": 43,
   "metadata": {},
   "outputs": [
    {
     "data": {
      "text/plain": [
       "numpy.str_"
      ]
     },
     "execution_count": 43,
     "metadata": {},
     "output_type": "execute_result"
    }
   ],
   "source": [
    "type(make_list[1])"
   ]
  },
  {
   "cell_type": "code",
   "execution_count": 45,
   "metadata": {},
   "outputs": [],
   "source": [
    "make_list = list(map(int, make_list))"
   ]
  },
  {
   "cell_type": "code",
   "execution_count": 48,
   "metadata": {},
   "outputs": [
    {
     "name": "stdout",
     "output_type": "stream",
     "text": [
      "[ 95  66 137  70  20  36  66  44 214 105 133 170  66  97 153 105 138  18\n",
      "  66  44 153 164 189  66 176 137 153  74 181 171 138 190 106  53 153 164\n",
      " 184 114 222 113 176 214  87  18  17  66  44  98  49 110 105  66  97 153\n",
      " 181 105 218  91  66  59  49 151 105 225]\n"
     ]
    }
   ],
   "source": [
    "type(make_list)\n",
    "make_list = np.asarray(make_list)\n",
    "print(make_list)"
   ]
  },
  {
   "cell_type": "code",
   "execution_count": null,
   "metadata": {},
   "outputs": [],
   "source": []
  },
  {
   "cell_type": "code",
   "execution_count": 30,
   "metadata": {},
   "outputs": [
    {
     "name": "stdout",
     "output_type": "stream",
     "text": [
      "1014544\n"
     ]
    }
   ],
   "source": [
    "train['labelId'][1]\n",
    "print(len(train))"
   ]
  },
  {
   "cell_type": "code",
   "execution_count": 31,
   "metadata": {},
   "outputs": [
    {
     "ename": "AttributeError",
     "evalue": "'tuple' object has no attribute 'append'",
     "output_type": "error",
     "traceback": [
      "\u001b[1;31m---------------------------------------------------------------------------\u001b[0m",
      "\u001b[1;31mAttributeError\u001b[0m                            Traceback (most recent call last)",
      "\u001b[1;32m<ipython-input-31-31b8e371831c>\u001b[0m in \u001b[0;36m<module>\u001b[1;34m()\u001b[0m\n\u001b[0;32m      1\u001b[0m \u001b[0mmake_list\u001b[0m \u001b[1;33m=\u001b[0m \u001b[1;33m(\u001b[0m\u001b[1;33m)\u001b[0m\u001b[1;33m\u001b[0m\u001b[0m\n\u001b[1;32m----> 2\u001b[1;33m \u001b[1;33m[\u001b[0m\u001b[0mmake_list\u001b[0m\u001b[1;33m.\u001b[0m\u001b[0mappend\u001b[0m\u001b[1;33m(\u001b[0m\u001b[0mtrain\u001b[0m\u001b[1;33m[\u001b[0m\u001b[1;34m'labelId'\u001b[0m\u001b[1;33m]\u001b[0m\u001b[1;33m[\u001b[0m\u001b[0mi\u001b[0m\u001b[1;33m]\u001b[0m\u001b[1;33m)\u001b[0m \u001b[1;32mfor\u001b[0m \u001b[0mi\u001b[0m \u001b[1;32min\u001b[0m \u001b[0mrange\u001b[0m\u001b[1;33m(\u001b[0m\u001b[0mlen\u001b[0m\u001b[1;33m(\u001b[0m\u001b[0mtrain\u001b[0m\u001b[1;33m)\u001b[0m\u001b[1;33m)\u001b[0m\u001b[1;33m]\u001b[0m\u001b[1;33m\u001b[0m\u001b[0m\n\u001b[0m",
      "\u001b[1;32m<ipython-input-31-31b8e371831c>\u001b[0m in \u001b[0;36m<listcomp>\u001b[1;34m(.0)\u001b[0m\n\u001b[0;32m      1\u001b[0m \u001b[0mmake_list\u001b[0m \u001b[1;33m=\u001b[0m \u001b[1;33m(\u001b[0m\u001b[1;33m)\u001b[0m\u001b[1;33m\u001b[0m\u001b[0m\n\u001b[1;32m----> 2\u001b[1;33m \u001b[1;33m[\u001b[0m\u001b[0mmake_list\u001b[0m\u001b[1;33m.\u001b[0m\u001b[0mappend\u001b[0m\u001b[1;33m(\u001b[0m\u001b[0mtrain\u001b[0m\u001b[1;33m[\u001b[0m\u001b[1;34m'labelId'\u001b[0m\u001b[1;33m]\u001b[0m\u001b[1;33m[\u001b[0m\u001b[0mi\u001b[0m\u001b[1;33m]\u001b[0m\u001b[1;33m)\u001b[0m \u001b[1;32mfor\u001b[0m \u001b[0mi\u001b[0m \u001b[1;32min\u001b[0m \u001b[0mrange\u001b[0m\u001b[1;33m(\u001b[0m\u001b[0mlen\u001b[0m\u001b[1;33m(\u001b[0m\u001b[0mtrain\u001b[0m\u001b[1;33m)\u001b[0m\u001b[1;33m)\u001b[0m\u001b[1;33m]\u001b[0m\u001b[1;33m\u001b[0m\u001b[0m\n\u001b[0m",
      "\u001b[1;31mAttributeError\u001b[0m: 'tuple' object has no attribute 'append'"
     ]
    }
   ],
   "source": [
    "make_list = ()\n",
    "[make_list.append(train['labelId'][i]) for i in range(len(train))]"
   ]
  },
  {
   "cell_type": "code",
   "execution_count": 8,
   "metadata": {},
   "outputs": [
    {
     "ename": "TypeError",
     "evalue": "'NoneType' object is not iterable",
     "output_type": "error",
     "traceback": [
      "\u001b[1;31m---------------------------------------------------------------------------\u001b[0m",
      "\u001b[1;31mTypeError\u001b[0m                                 Traceback (most recent call last)",
      "\u001b[1;32m<ipython-input-8-443232b07127>\u001b[0m in \u001b[0;36m<module>\u001b[1;34m()\u001b[0m\n\u001b[0;32m      5\u001b[0m \u001b[0mvalidation_label\u001b[0m \u001b[1;33m=\u001b[0m \u001b[0mmlb\u001b[0m\u001b[1;33m.\u001b[0m\u001b[0mfit_transform\u001b[0m\u001b[1;33m(\u001b[0m\u001b[0mvalidation\u001b[0m\u001b[1;33m[\u001b[0m\u001b[1;34m'labelId'\u001b[0m\u001b[1;33m]\u001b[0m\u001b[1;33m)\u001b[0m\u001b[1;33m\u001b[0m\u001b[0m\n\u001b[0;32m      6\u001b[0m \u001b[1;33m\u001b[0m\u001b[0m\n\u001b[1;32m----> 7\u001b[1;33m \u001b[0mdummy_label_col\u001b[0m \u001b[1;33m=\u001b[0m \u001b[0mlist\u001b[0m\u001b[1;33m(\u001b[0m\u001b[0mmlb\u001b[0m\u001b[1;33m.\u001b[0m\u001b[0mclasses\u001b[0m\u001b[1;33m)\u001b[0m\u001b[1;33m\u001b[0m\u001b[0m\n\u001b[0m\u001b[0;32m      8\u001b[0m \u001b[0mprint\u001b[0m\u001b[1;33m(\u001b[0m\u001b[0mdummy_label_col\u001b[0m\u001b[1;33m)\u001b[0m\u001b[1;33m\u001b[0m\u001b[0m\n",
      "\u001b[1;31mTypeError\u001b[0m: 'NoneType' object is not iterable"
     ]
    }
   ],
   "source": [
    "# Multilabel Binarizer\n",
    "from sklearn.preprocessing import MultiLabelBinarizer\n",
    "mlb = MultiLabelBinarizer()\n",
    "train_label = mlb.fit_transform(train['labelId'])\n",
    "validation_label = mlb.fit_transform(validation['labelId'])\n",
    "\n"
   ]
  },
  {
   "cell_type": "code",
   "execution_count": 17,
   "metadata": {},
   "outputs": [
    {
     "data": {
      "text/plain": [
       "array(['1', '10', '100', '101', '102', '103', '104', '105', '106', '107',\n",
       "       '108', '109', '11', '110', '111', '112', '113', '114', '115',\n",
       "       '116', '117', '118', '119', '12', '120', '121', '122', '123',\n",
       "       '124', '125', '126', '127', '128', '129', '13', '130', '131',\n",
       "       '132', '133', '134', '135', '136', '137', '138', '139', '14',\n",
       "       '140', '141', '142', '143', '144', '145', '146', '147', '148',\n",
       "       '149', '15', '150', '151', '152', '153', '154', '155', '156',\n",
       "       '157', '158', '159', '16', '160', '163', '164', '165', '166',\n",
       "       '167', '168', '169', '17', '170', '171', '172', '173', '174',\n",
       "       '175', '176', '177', '178', '179', '18', '180', '181', '182',\n",
       "       '183', '184', '185', '186', '187', '188', '189', '19', '190',\n",
       "       '191', '192', '193', '194', '195', '196', '197', '198', '199', '2',\n",
       "       '20', '200', '201', '202', '203', '204', '205', '206', '207',\n",
       "       '208', '209', '21', '210', '211', '212', '213', '214', '215',\n",
       "       '216', '217', '218', '219', '22', '220', '221', '222', '223',\n",
       "       '224', '225', '226', '227', '228', '23', '24', '25', '26', '27',\n",
       "       '28', '29', '3', '30', '31', '32', '33', '34', '35', '36', '37',\n",
       "       '38', '39', '4', '40', '41', '42', '43', '44', '45', '47', '48',\n",
       "       '49', '5', '50', '51', '52', '53', '54', '55', '56', '57', '58',\n",
       "       '59', '6', '60', '61', '62', '63', '64', '65', '66', '67', '68',\n",
       "       '69', '7', '70', '71', '72', '73', '74', '75', '76', '77', '78',\n",
       "       '79', '8', '80', '81', '82', '83', '84', '85', '86', '87', '88',\n",
       "       '89', '9', '90', '91', '92', '93', '94', '95', '96', '97', '98',\n",
       "       '99'], dtype=object)"
      ]
     },
     "execution_count": 17,
     "metadata": {},
     "output_type": "execute_result"
    }
   ],
   "source": [
    "dummy_label_col = list(mlb.classes_)\n",
    "print(dummy_label_col)\n"
   ]
  },
  {
   "cell_type": "code",
   "execution_count": 9,
   "metadata": {},
   "outputs": [
    {
     "data": {
      "text/plain": [
       "array([[0, 0, 0, ..., 0, 0, 0],\n",
       "       [0, 0, 0, ..., 0, 0, 0],\n",
       "       [0, 0, 0, ..., 1, 0, 0],\n",
       "       ...,\n",
       "       [0, 0, 0, ..., 0, 1, 0],\n",
       "       [0, 0, 0, ..., 1, 0, 0],\n",
       "       [0, 0, 0, ..., 0, 0, 0]])"
      ]
     },
     "execution_count": 9,
     "metadata": {},
     "output_type": "execute_result"
    }
   ],
   "source": [
    "train_label[:10]"
   ]
  },
  {
   "cell_type": "code",
   "execution_count": 10,
   "metadata": {},
   "outputs": [
    {
     "data": {
      "text/plain": [
       "array([[0, 0, 0, ..., 0, 0, 0],\n",
       "       [0, 0, 0, ..., 0, 0, 0],\n",
       "       [0, 0, 0, ..., 0, 0, 0],\n",
       "       ...,\n",
       "       [0, 0, 0, ..., 0, 0, 0],\n",
       "       [0, 0, 0, ..., 0, 0, 0],\n",
       "       [0, 0, 0, ..., 0, 0, 0]])"
      ]
     },
     "execution_count": 10,
     "metadata": {},
     "output_type": "execute_result"
    }
   ],
   "source": [
    "validation_label[:10]"
   ]
  },
  {
   "cell_type": "code",
   "execution_count": 20,
   "metadata": {},
   "outputs": [
    {
     "ename": "NameError",
     "evalue": "name 'dummy_label_col' is not defined",
     "output_type": "error",
     "traceback": [
      "\u001b[1;31m---------------------------------------------------------------------------\u001b[0m",
      "\u001b[1;31mNameError\u001b[0m                                 Traceback (most recent call last)",
      "\u001b[1;32m<ipython-input-20-a84c527fbef1>\u001b[0m in \u001b[0;36m<module>\u001b[1;34m()\u001b[0m\n\u001b[0;32m      1\u001b[0m \u001b[1;31m# save as numpy\u001b[0m\u001b[1;33m\u001b[0m\u001b[1;33m\u001b[0m\u001b[0m\n\u001b[1;32m----> 2\u001b[1;33m \u001b[0mdummy_label_col\u001b[0m \u001b[1;33m=\u001b[0m \u001b[0mpd\u001b[0m\u001b[1;33m.\u001b[0m\u001b[0mDataFrame\u001b[0m\u001b[1;33m(\u001b[0m\u001b[0mcolumns\u001b[0m\u001b[1;33m=\u001b[0m\u001b[0mdummy_label_col\u001b[0m\u001b[1;33m)\u001b[0m\u001b[1;33m\u001b[0m\u001b[0m\n\u001b[0m\u001b[0;32m      3\u001b[0m \u001b[0mdummy_label_col\u001b[0m\u001b[1;33m.\u001b[0m\u001b[0mto_csv\u001b[0m\u001b[1;33m(\u001b[0m\u001b[1;34m'data/dummy_label_col.csv'\u001b[0m\u001b[1;33m,\u001b[0m \u001b[0mindex\u001b[0m\u001b[1;33m=\u001b[0m\u001b[1;32mFalse\u001b[0m\u001b[1;33m)\u001b[0m\u001b[1;33m\u001b[0m\u001b[0m\n",
      "\u001b[1;31mNameError\u001b[0m: name 'dummy_label_col' is not defined"
     ]
    }
   ],
   "source": [
    "# save as numpy\n",
    "dummy_label_col = pd.DataFrame(columns=dummy_label_col)\n",
    "dummy_label_col.to_csv('data/dummy_label_col.csv', index=False)\n"
   ]
  },
  {
   "cell_type": "code",
   "execution_count": 12,
   "metadata": {},
   "outputs": [],
   "source": [
    "# np.save('%s/dummy_label_train.npy' % '', train_label)\n",
    "# np.save('%s/dummy_label_val.npy' % '', validation_label)\n",
    "np.save('dummy_label_train.npy', train_label)\n",
    "np.save('dummy_label_val.npy', validation_label)"
   ]
  },
  {
   "cell_type": "code",
   "execution_count": null,
   "metadata": {},
   "outputs": [],
   "source": []
  },
  {
   "cell_type": "code",
   "execution_count": null,
   "metadata": {},
   "outputs": [],
   "source": []
  },
  {
   "cell_type": "code",
   "execution_count": null,
   "metadata": {},
   "outputs": [],
   "source": []
  },
  {
   "cell_type": "code",
   "execution_count": null,
   "metadata": {},
   "outputs": [],
   "source": []
  },
  {
   "cell_type": "code",
   "execution_count": null,
   "metadata": {},
   "outputs": [],
   "source": []
  },
  {
   "cell_type": "code",
   "execution_count": null,
   "metadata": {},
   "outputs": [],
   "source": []
  },
  {
   "cell_type": "code",
   "execution_count": null,
   "metadata": {},
   "outputs": [],
   "source": []
  }
 ],
 "metadata": {
  "kernelspec": {
   "display_name": "Python 3",
   "language": "python",
   "name": "python3"
  },
  "language_info": {
   "codemirror_mode": {
    "name": "ipython",
    "version": 3
   },
   "file_extension": ".py",
   "mimetype": "text/x-python",
   "name": "python",
   "nbconvert_exporter": "python",
   "pygments_lexer": "ipython3",
   "version": "3.6.5"
  }
 },
 "nbformat": 4,
 "nbformat_minor": 2
}
