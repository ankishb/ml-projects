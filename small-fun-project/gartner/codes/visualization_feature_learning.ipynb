{
 "cells": [
  {
   "cell_type": "code",
   "execution_count": 2,
   "metadata": {},
   "outputs": [],
   "source": [
    "import pandas as pd\n",
    "import numpy as np\n",
    "import matplotlib.pyplot as plt\n",
    "import seaborn as sns\n",
    "\n",
    "plt.rcParams['figure.figsize'] = [16,10]\n",
    "%matplotlib inline"
   ]
  },
  {
   "cell_type": "code",
   "execution_count": 3,
   "metadata": {},
   "outputs": [
    {
     "name": "stdout",
     "output_type": "stream",
     "text": [
      "<class 'pandas.core.frame.DataFrame'>\n",
      "RangeIndex: 38398 entries, 0 to 38397\n",
      "Columns: 120 entries, Unnamed: 0 to test\n",
      "dtypes: float64(99), int64(9), object(12)\n",
      "memory usage: 35.2+ MB\n"
     ]
    },
    {
     "name": "stderr",
     "output_type": "stream",
     "text": [
      "/home/ankish/anaconda3/lib/python3.6/site-packages/IPython/core/interactiveshell.py:2785: DtypeWarning: Columns (16,31,46,64,76,86,108,118) have mixed types. Specify dtype option on import or set low_memory=False.\n",
      "  interactivity=interactivity, compiler=compiler, result=result)\n"
     ]
    }
   ],
   "source": [
    "data = pd.read_csv('cleaned_new.csv')\n",
    "data.info()"
   ]
  },
  {
   "cell_type": "code",
   "execution_count": 4,
   "metadata": {},
   "outputs": [
    {
     "data": {
      "text/html": [
       "<div>\n",
       "<style scoped>\n",
       "    .dataframe tbody tr th:only-of-type {\n",
       "        vertical-align: middle;\n",
       "    }\n",
       "\n",
       "    .dataframe tbody tr th {\n",
       "        vertical-align: top;\n",
       "    }\n",
       "\n",
       "    .dataframe thead th {\n",
       "        text-align: right;\n",
       "    }\n",
       "</style>\n",
       "<table border=\"1\" class=\"dataframe\">\n",
       "  <thead>\n",
       "    <tr style=\"text-align: right;\">\n",
       "      <th></th>\n",
       "      <th>Unnamed: 0</th>\n",
       "      <th>1:1_Meeting_0</th>\n",
       "      <th>1:1_Meeting_1</th>\n",
       "      <th>1:1_Meeting_10</th>\n",
       "      <th>1:1_Meeting_11</th>\n",
       "      <th>1:1_Meeting_2</th>\n",
       "      <th>1:1_Meeting_3</th>\n",
       "      <th>1:1_Meeting_4</th>\n",
       "      <th>1:1_Meeting_5</th>\n",
       "      <th>1:1_Meeting_6</th>\n",
       "      <th>...</th>\n",
       "      <th>View_Peer_3</th>\n",
       "      <th>View_Peer_4</th>\n",
       "      <th>View_Peer_5</th>\n",
       "      <th>View_Peer_6</th>\n",
       "      <th>View_Peer_7</th>\n",
       "      <th>View_Peer_8</th>\n",
       "      <th>View_Peer_9</th>\n",
       "      <th>View_Peer_Last120_Flag(Y/N)</th>\n",
       "      <th>target</th>\n",
       "      <th>test</th>\n",
       "    </tr>\n",
       "  </thead>\n",
       "  <tbody>\n",
       "    <tr>\n",
       "      <th>0</th>\n",
       "      <td>0</td>\n",
       "      <td>0.0</td>\n",
       "      <td>0.0</td>\n",
       "      <td>0.0</td>\n",
       "      <td>0.0</td>\n",
       "      <td>0.0</td>\n",
       "      <td>0.0</td>\n",
       "      <td>0.0</td>\n",
       "      <td>0.0</td>\n",
       "      <td>0.0</td>\n",
       "      <td>...</td>\n",
       "      <td>0.0</td>\n",
       "      <td>0.0</td>\n",
       "      <td>1.0</td>\n",
       "      <td>0.0</td>\n",
       "      <td>0.0</td>\n",
       "      <td>0.0</td>\n",
       "      <td>1.0</td>\n",
       "      <td>Y</td>\n",
       "      <td>Retained</td>\n",
       "      <td>4</td>\n",
       "    </tr>\n",
       "    <tr>\n",
       "      <th>1</th>\n",
       "      <td>1</td>\n",
       "      <td>0.0</td>\n",
       "      <td>0.0</td>\n",
       "      <td>0.0</td>\n",
       "      <td>0.0</td>\n",
       "      <td>0.0</td>\n",
       "      <td>0.0</td>\n",
       "      <td>0.0</td>\n",
       "      <td>0.0</td>\n",
       "      <td>0.0</td>\n",
       "      <td>...</td>\n",
       "      <td>0.0</td>\n",
       "      <td>0.0</td>\n",
       "      <td>0.0</td>\n",
       "      <td>0.0</td>\n",
       "      <td>0.0</td>\n",
       "      <td>0.0</td>\n",
       "      <td>0.0</td>\n",
       "      <td>Y</td>\n",
       "      <td>Dropped</td>\n",
       "      <td>4</td>\n",
       "    </tr>\n",
       "    <tr>\n",
       "      <th>2</th>\n",
       "      <td>2</td>\n",
       "      <td>0.0</td>\n",
       "      <td>0.0</td>\n",
       "      <td>0.0</td>\n",
       "      <td>0.0</td>\n",
       "      <td>0.0</td>\n",
       "      <td>0.0</td>\n",
       "      <td>0.0</td>\n",
       "      <td>0.0</td>\n",
       "      <td>0.0</td>\n",
       "      <td>...</td>\n",
       "      <td>0.0</td>\n",
       "      <td>0.0</td>\n",
       "      <td>0.0</td>\n",
       "      <td>0.0</td>\n",
       "      <td>0.0</td>\n",
       "      <td>0.0</td>\n",
       "      <td>0.0</td>\n",
       "      <td>N</td>\n",
       "      <td>Retained</td>\n",
       "      <td>4</td>\n",
       "    </tr>\n",
       "    <tr>\n",
       "      <th>3</th>\n",
       "      <td>3</td>\n",
       "      <td>0.0</td>\n",
       "      <td>0.0</td>\n",
       "      <td>0.0</td>\n",
       "      <td>0.0</td>\n",
       "      <td>0.0</td>\n",
       "      <td>0.0</td>\n",
       "      <td>0.0</td>\n",
       "      <td>0.0</td>\n",
       "      <td>0.0</td>\n",
       "      <td>...</td>\n",
       "      <td>0.0</td>\n",
       "      <td>0.0</td>\n",
       "      <td>1.0</td>\n",
       "      <td>0.0</td>\n",
       "      <td>0.0</td>\n",
       "      <td>0.0</td>\n",
       "      <td>0.0</td>\n",
       "      <td>Y</td>\n",
       "      <td>Retained</td>\n",
       "      <td>4</td>\n",
       "    </tr>\n",
       "    <tr>\n",
       "      <th>4</th>\n",
       "      <td>4</td>\n",
       "      <td>0.0</td>\n",
       "      <td>0.0</td>\n",
       "      <td>0.0</td>\n",
       "      <td>0.0</td>\n",
       "      <td>0.0</td>\n",
       "      <td>0.0</td>\n",
       "      <td>0.0</td>\n",
       "      <td>0.0</td>\n",
       "      <td>0.0</td>\n",
       "      <td>...</td>\n",
       "      <td>0.0</td>\n",
       "      <td>0.0</td>\n",
       "      <td>1.0</td>\n",
       "      <td>0.0</td>\n",
       "      <td>0.0</td>\n",
       "      <td>0.0</td>\n",
       "      <td>0.0</td>\n",
       "      <td>N</td>\n",
       "      <td>Dropped</td>\n",
       "      <td>4</td>\n",
       "    </tr>\n",
       "  </tbody>\n",
       "</table>\n",
       "<p>5 rows × 120 columns</p>\n",
       "</div>"
      ],
      "text/plain": [
       "   Unnamed: 0  1:1_Meeting_0  1:1_Meeting_1  1:1_Meeting_10  1:1_Meeting_11  \\\n",
       "0           0            0.0            0.0             0.0             0.0   \n",
       "1           1            0.0            0.0             0.0             0.0   \n",
       "2           2            0.0            0.0             0.0             0.0   \n",
       "3           3            0.0            0.0             0.0             0.0   \n",
       "4           4            0.0            0.0             0.0             0.0   \n",
       "\n",
       "   1:1_Meeting_2  1:1_Meeting_3  1:1_Meeting_4  1:1_Meeting_5  1:1_Meeting_6  \\\n",
       "0            0.0            0.0            0.0            0.0            0.0   \n",
       "1            0.0            0.0            0.0            0.0            0.0   \n",
       "2            0.0            0.0            0.0            0.0            0.0   \n",
       "3            0.0            0.0            0.0            0.0            0.0   \n",
       "4            0.0            0.0            0.0            0.0            0.0   \n",
       "\n",
       "   ...   View_Peer_3  View_Peer_4  View_Peer_5  View_Peer_6  View_Peer_7  \\\n",
       "0  ...           0.0          0.0          1.0          0.0          0.0   \n",
       "1  ...           0.0          0.0          0.0          0.0          0.0   \n",
       "2  ...           0.0          0.0          0.0          0.0          0.0   \n",
       "3  ...           0.0          0.0          1.0          0.0          0.0   \n",
       "4  ...           0.0          0.0          1.0          0.0          0.0   \n",
       "\n",
       "   View_Peer_8 View_Peer_9  View_Peer_Last120_Flag(Y/N)    target  test  \n",
       "0          0.0         1.0                            Y  Retained     4  \n",
       "1          0.0         0.0                            Y   Dropped     4  \n",
       "2          0.0         0.0                            N  Retained     4  \n",
       "3          0.0         0.0                            Y  Retained     4  \n",
       "4          0.0         0.0                            N   Dropped     4  \n",
       "\n",
       "[5 rows x 120 columns]"
      ]
     },
     "execution_count": 4,
     "metadata": {},
     "output_type": "execute_result"
    }
   ],
   "source": [
    "data.head()"
   ]
  },
  {
   "cell_type": "code",
   "execution_count": 5,
   "metadata": {},
   "outputs": [],
   "source": [
    "data = data.drop(['target','Multi-Year In','Unnamed: 0'],axis=1)"
   ]
  },
  {
   "cell_type": "code",
   "execution_count": 6,
   "metadata": {},
   "outputs": [],
   "source": [
    "a = data.isnull().sum()"
   ]
  },
  {
   "cell_type": "code",
   "execution_count": 7,
   "metadata": {},
   "outputs": [
    {
     "name": "stdout",
     "output_type": "stream",
     "text": [
      "58 6910\n"
     ]
    }
   ],
   "source": [
    "col_index_list = []\n",
    "for index,ai in enumerate(a):\n",
    "    if ai is not 0:\n",
    "        print(index,ai)\n",
    "        col_index_list.append(index)"
   ]
  },
  {
   "cell_type": "code",
   "execution_count": 8,
   "metadata": {},
   "outputs": [],
   "source": [
    "col_index_name = []\n",
    "for i in col_index_list:\n",
    "    col_index_name.append(data.columns[i])"
   ]
  },
  {
   "cell_type": "code",
   "execution_count": 9,
   "metadata": {},
   "outputs": [
    {
     "data": {
      "text/plain": [
       "['Retention Status']"
      ]
     },
     "execution_count": 9,
     "metadata": {},
     "output_type": "execute_result"
    }
   ],
   "source": [
    "col_index_name"
   ]
  },
  {
   "cell_type": "code",
   "execution_count": 59,
   "metadata": {},
   "outputs": [],
   "source": [
    "col_list = ['Testimonial_11',\n",
    "       'Testimonial_10', 'Testimonial_9', 'Testimonial_8', 'Testimonial_7',\n",
    "       'Testimonial_6', 'Testimonial_5', 'Testimonial_4', 'Testimonial_3',\n",
    "       'Testimonial_2', 'Testimonial_1', 'Testimonial_0', \n",
    "        '1:1_Meeting_11',\n",
    "       '1:1_Meeting_10', '1:1_Meeting_9', '1:1_Meeting_8', '1:1_Meeting_7',\n",
    "       '1:1_Meeting_6', '1:1_Meeting_5', '1:1_Meeting_4', '1:1_Meeting_3',\n",
    "       '1:1_Meeting_2', '1:1_Meeting_1', '1:1_Meeting_0',\n",
    "        'Symposium_Attended_11', 'Symposium_Attended_10',\n",
    "       'Symposium_Attended_9', 'Symposium_Attended_8', 'Symposium_Attended_7',\n",
    "       'Symposium_Attended_6', 'Symposium_Attended_5', 'Symposium_Attended_4',\n",
    "       'Symposium_Attended_3', 'Symposium_Attended_2', 'Symposium_Attended_1',\n",
    "       'Symposium_Attended_0',\n",
    "       'Conference_Attended_11', 'Conference_Attended_10',\n",
    "       'Conference_Attended_9', 'Conference_Attended_8',\n",
    "       'Conference_Attended_7', 'Conference_Attended_6',\n",
    "       'Conference_Attended_5', 'Conference_Attended_4',\n",
    "       'Conference_Attended_3', 'Conference_Attended_2',\n",
    "       'Conference_Attended_1', 'Conference_Attended_0',\n",
    "        'Service_desk_call_11', 'Service_desk_call_10', 'Service_desk_call_9',\n",
    "       'Service_desk_call_8', 'Service_desk_call_7', 'Service_desk_call_6',\n",
    "       'Service_desk_call_5', 'Service_desk_call_4', 'Service_desk_call_3',\n",
    "       'Service_desk_call_2', 'Service_desk_call_1', 'Service_desk_call_0',\n",
    "        'Inquiry_Done_12', 'Inquiry_Done_11', 'Inquiry_Done_10',\n",
    "       'Inquiry_Done_9', 'Inquiry_Done_8', 'Inquiry_Done_7', 'Inquiry_Done_6',\n",
    "       'Inquiry_Done_5', 'Inquiry_Done_4', 'Inquiry_Done_3', 'Inquiry_Done_2',\n",
    "       'Inquiry_Done_1', 'Inquiry_Done_0',\n",
    "        'View_Peer_12', 'View_Peer_11',\n",
    "       'View_Peer_10', 'View_Peer_9', 'View_Peer_8', 'View_Peer_7',\n",
    "       'View_Peer_6', 'View_Peer_5', 'View_Peer_4', 'View_Peer_3',\n",
    "       'View_Peer_2', 'View_Peer_1', 'View_Peer_0',\n",
    "        'Document_Read_12',\n",
    "       'Document_Read_11', 'Document_Read_10', 'Document_Read_9',\n",
    "       'Document_Read_8', 'Document_Read_7', 'Document_Read_6',\n",
    "       'Document_Read_5', 'Document_Read_4', 'Document_Read_3',\n",
    "       'Document_Read_2', 'Document_Read_1', 'Document_Read_0',]"
   ]
  },
  {
   "cell_type": "code",
   "execution_count": 10,
   "metadata": {},
   "outputs": [],
   "source": [
    "col_check = ['1:1_Meeting_11',\n",
    "       '1:1_Meeting_10', '1:1_Meeting_9', '1:1_Meeting_8', '1:1_Meeting_7',\n",
    "       '1:1_Meeting_6', '1:1_Meeting_5', '1:1_Meeting_4', '1:1_Meeting_3',\n",
    "       '1:1_Meeting_2', '1:1_Meeting_1', '1:1_Meeting_0']"
   ]
  },
  {
   "cell_type": "code",
   "execution_count": 11,
   "metadata": {},
   "outputs": [
    {
     "data": {
      "text/plain": [
       "(38398, 117)"
      ]
     },
     "execution_count": 11,
     "metadata": {},
     "output_type": "execute_result"
    }
   ],
   "source": [
    "data.shape"
   ]
  },
  {
   "cell_type": "code",
   "execution_count": 12,
   "metadata": {},
   "outputs": [],
   "source": [
    "data = data[:31487]"
   ]
  },
  {
   "cell_type": "code",
   "execution_count": 13,
   "metadata": {},
   "outputs": [],
   "source": [
    "a = data.isnull().sum()\n",
    "col_index_list = []\n",
    "for index,ai in enumerate(a):\n",
    "    if ai is not 0:\n",
    "        print(index,ai)\n",
    "        col_index_list.append(index)"
   ]
  },
  {
   "cell_type": "markdown",
   "metadata": {},
   "source": [
    "# No null value anymore. Now do feature extraction technique"
   ]
  },
  {
   "cell_type": "code",
   "execution_count": 60,
   "metadata": {},
   "outputs": [],
   "source": [
    "start = 0"
   ]
  },
  {
   "cell_type": "code",
   "execution_count": 61,
   "metadata": {},
   "outputs": [
    {
     "data": {
      "image/png": "[encoded data removed]",
      "text/plain": [
       "<Figure size 864x576 with 12 Axes>"
      ]
     },
     "metadata": {},
     "output_type": "display_data"
    }
   ],
   "source": [
    "fig,ax = plt.subplots(nrows=4,ncols=3,figsize=(12,8))\n",
    "t = 0\n",
    "for i in range(4):\n",
    "    for j in range(3):\n",
    "        temp = data.groupby(col_list[start:start+12][t])['Retention Status'].mean()\n",
    "    #     print(\"*\"*25)\n",
    "    #     print(temp)\n",
    "        sns.barplot(temp.index,temp.values,ax=ax[i%4][j%3])\n",
    "        t += 1\n",
    "plt.tight_layout()\n",
    "plt.show()\n",
    "start += 12"
   ]
  },
  {
   "cell_type": "code",
   "execution_count": 62,
   "metadata": {},
   "outputs": [
    {
     "data": {
      "image/png": "[encoded data removed]",
      "text/plain": [
       "<Figure size 864x576 with 12 Axes>"
      ]
     },
     "metadata": {},
     "output_type": "display_data"
    }
   ],
   "source": [
    "fig,ax = plt.subplots(nrows=4,ncols=3,figsize=(12,8))\n",
    "t = 0\n",
    "for i in range(4):\n",
    "    for j in range(3):\n",
    "        temp = data.groupby(col_list[start:start+12][t])['Retention Status'].mean()\n",
    "    #     print(\"*\"*25)\n",
    "    #     print(temp)\n",
    "        sns.barplot(temp.index,temp.values,ax=ax[i%4][j%3])\n",
    "        t += 1\n",
    "plt.tight_layout()\n",
    "plt.show()\n",
    "start += 12"
   ]
  },
  {
   "cell_type": "code",
   "execution_count": 64,
   "metadata": {},
   "outputs": [
    {
     "data": {
      "image/png": "[encoded data removed]",
      "text/plain": [
       "<Figure size 864x576 with 12 Axes>"
      ]
     },
     "metadata": {},
     "output_type": "display_data"
    }
   ],
   "source": [
    "fig,ax = plt.subplots(nrows=4,ncols=3,figsize=(12,8))\n",
    "t = 0\n",
    "for i in range(4):\n",
    "    for j in range(3):\n",
    "        temp = data.groupby(col_list[start:start+12][t])['Retention Status'].mean()\n",
    "    #     print(\"*\"*25)\n",
    "    #     print(temp)\n",
    "        sns.barplot(temp.index,temp.values,ax=ax[i%4][j%3])\n",
    "        t += 1\n",
    "plt.tight_layout()\n",
    "plt.show()\n",
    "start += 12"
   ]
  },
  {
   "cell_type": "code",
   "execution_count": 65,
   "metadata": {},
   "outputs": [
    {
     "data": {
      "image/png": "[encoded data removed]",
      "text/plain": [
       "<Figure size 864x576 with 12 Axes>"
      ]
     },
     "metadata": {},
     "output_type": "display_data"
    }
   ],
   "source": [
    "fig,ax = plt.subplots(nrows=4,ncols=3,figsize=(12,8))\n",
    "t = 0\n",
    "for i in range(4):\n",
    "    for j in range(3):\n",
    "        temp = data.groupby(col_list[start:start+12][t])['Retention Status'].mean()\n",
    "    #     print(\"*\"*25)\n",
    "    #     print(temp)\n",
    "        sns.barplot(temp.index,temp.values,ax=ax[i%4][j%3])\n",
    "        t += 1\n",
    "plt.tight_layout()\n",
    "plt.show()\n",
    "start += 12"
   ]
  },
  {
   "cell_type": "code",
   "execution_count": 66,
   "metadata": {},
   "outputs": [
    {
     "data": {
      "image/png": "[encoded data removed]",
      "text/plain": [
       "<Figure size 864x576 with 12 Axes>"
      ]
     },
     "metadata": {},
     "output_type": "display_data"
    }
   ],
   "source": [
    "fig,ax = plt.subplots(nrows=4,ncols=3,figsize=(12,8))\n",
    "t = 0\n",
    "for i in range(4):\n",
    "    for j in range(3):\n",
    "        temp = data.groupby(col_list[start:start+12][t])['Retention Status'].mean()\n",
    "    #     print(\"*\"*25)\n",
    "    #     print(temp)\n",
    "        sns.barplot(temp.index,temp.values,ax=ax[i%4][j%3])\n",
    "        t += 1\n",
    "plt.tight_layout()\n",
    "plt.show()\n",
    "start += 12"
   ]
  },
  {
   "cell_type": "code",
   "execution_count": 73,
   "metadata": {},
   "outputs": [],
   "source": [
    "start -= 36"
   ]
  },
  {
   "cell_type": "code",
   "execution_count": null,
   "metadata": {
    "scrolled": true
   },
   "outputs": [],
   "source": [
    "# fig,ax = plt.subplots(nrows=4,ncols=3,figsize=(12,8))\n",
    "# t = 0\n",
    "# for i in range(4):\n",
    "#     for j in range(3):\n",
    "#         temp = data.groupby(col_list[start:start+12])['Retention Status'].mean()\n",
    "#     #     print(\"*\"*25)\n",
    "#     #     print(temp)\n",
    "#         sns.barplot(temp.index,temp.values,ax=ax[i%4][j%3])\n",
    "#         t += 1\n",
    "# plt.tight_layout()\n",
    "# plt.show()\n",
    "# start += 12"
   ]
  },
  {
   "cell_type": "code",
   "execution_count": 80,
   "metadata": {},
   "outputs": [
    {
     "data": {
      "text/plain": [
       "array([0.0, 1.0, 2.0, 4.0, 3.0, 5.0, 6.0, 19.0, 13.0, 7.0, 8.0, 9.0, 18.0,\n",
       "       '0', '2', '1', '3', '4', '6', '5', '8', '7', '13', '14', '22', 'Y',\n",
       "       '11', '9'], dtype=object)"
      ]
     },
     "execution_count": 80,
     "metadata": {},
     "output_type": "execute_result"
    }
   ],
   "source": [
    "data[col_list[start]].unique()"
   ]
  },
  {
   "cell_type": "code",
   "execution_count": 74,
   "metadata": {},
   "outputs": [
    {
     "data": {
      "text/plain": [
       "'Inquiry_Done_12'"
      ]
     },
     "execution_count": 74,
     "metadata": {},
     "output_type": "execute_result"
    }
   ],
   "source": [
    "col_list[start]"
   ]
  },
  {
   "cell_type": "code",
   "execution_count": 70,
   "metadata": {},
   "outputs": [],
   "source": [
    "start +=12"
   ]
  },
  {
   "cell_type": "code",
   "execution_count": 71,
   "metadata": {},
   "outputs": [
    {
     "data": {
      "image/png": "[encoded data removed]",
      "text/plain": [
       "<Figure size 864x576 with 12 Axes>"
      ]
     },
     "metadata": {},
     "output_type": "display_data"
    }
   ],
   "source": [
    "fig,ax = plt.subplots(nrows=4,ncols=3,figsize=(12,8))\n",
    "t = 0\n",
    "for i in range(4):\n",
    "    for j in range(3):\n",
    "        temp = data.groupby(col_list[start:start+12][t])['Retention Status'].mean()\n",
    "    #     print(\"*\"*25)\n",
    "    #     print(temp)\n",
    "        sns.barplot(temp.index,temp.values,ax=ax[i%4][j%3])\n",
    "        t += 1\n",
    "plt.tight_layout()\n",
    "plt.show()\n",
    "start += 12"
   ]
  },
  {
   "cell_type": "code",
   "execution_count": 72,
   "metadata": {},
   "outputs": [
    {
     "data": {
      "image/png": "[encoded data removed]",
      "text/plain": [
       "<Figure size 864x576 with 12 Axes>"
      ]
     },
     "metadata": {},
     "output_type": "display_data"
    }
   ],
   "source": [
    "fig,ax = plt.subplots(nrows=4,ncols=3,figsize=(12,8))\n",
    "t = 0\n",
    "for i in range(4):\n",
    "    for j in range(3):\n",
    "        temp = data.groupby(col_list[start:start+12][t])['Retention Status'].mean()\n",
    "    #     print(\"*\"*25)\n",
    "    #     print(temp)\n",
    "        sns.barplot(temp.index,temp.values,ax=ax[i%4][j%3])\n",
    "        t += 1\n",
    "plt.tight_layout()\n",
    "plt.show()\n",
    "start += 12"
   ]
  },
  {
   "cell_type": "code",
   "execution_count": null,
   "metadata": {},
   "outputs": [],
   "source": []
  },
  {
   "cell_type": "code",
   "execution_count": null,
   "metadata": {},
   "outputs": [],
   "source": []
  },
  {
   "cell_type": "code",
   "execution_count": 37,
   "metadata": {},
   "outputs": [
    {
     "name": "stdout",
     "output_type": "stream",
     "text": [
      "*************************\n",
      "1:1_Meeting_10\n",
      "0.0    0.739856\n",
      "1.0    0.830357\n",
      "2.0    0.838384\n",
      "4.0    1.000000\n",
      "Name: Retention Status, dtype: float64\n"
     ]
    },
    {
     "data": {
      "image/png": "[encoded data removed]",
      "text/plain": [
       "<Figure size 432x288 with 1 Axes>"
      ]
     },
     "metadata": {},
     "output_type": "display_data"
    }
   ],
   "source": [
    "temp = data.groupby('1:1_Meeting_10')['Retention Status'].mean()\n",
    "print(\"*\"*25)\n",
    "print(temp)\n",
    "# sns.catplot(temp)#,bins = len(temp))\n",
    "# plt.plot(np.arange(len(temp)),temp)\n",
    "# plt.tight_layout()\n",
    "sns.countplot(temp)\n",
    "plt.show()"
   ]
  },
  {
   "cell_type": "code",
   "execution_count": null,
   "metadata": {},
   "outputs": [],
   "source": []
  },
  {
   "cell_type": "code",
   "execution_count": null,
   "metadata": {},
   "outputs": [],
   "source": []
  },
  {
   "cell_type": "code",
   "execution_count": null,
   "metadata": {},
   "outputs": [],
   "source": []
  },
  {
   "cell_type": "code",
   "execution_count": 42,
   "metadata": {},
   "outputs": [
    {
     "data": {
      "image/png": "[encoded data removed]",
      "text/plain": [
       "<Figure size 1728x1080 with 9 Axes>"
      ]
     },
     "metadata": {},
     "output_type": "display_data"
    }
   ],
   "source": [
    "n_columns = 3\n",
    "n_rows = 3\n",
    "_, axes = plt.subplots(n_rows, n_columns, figsize=(8 * n_columns, 5 * n_rows))\n",
    "for i, c in enumerate(col_check):\n",
    "    \n",
    "#     sns.boxplot(y = c, data = data, ax = axes[i // n_columns, i % n_columns])\n",
    "#     sns.distplot(data[c],bins=100)\n",
    "    sns.countplot(data.groupby(c)['Retention Status'].mean())\n",
    "plt.tight_layout()\n",
    "plt.show()"
   ]
  },
  {
   "cell_type": "code",
   "execution_count": 43,
   "metadata": {},
   "outputs": [
    {
     "name": "stderr",
     "output_type": "stream",
     "text": [
      "/home/ankish/anaconda3/lib/python3.6/site-packages/scipy/stats/stats.py:1713: FutureWarning: Using a non-tuple sequence for multidimensional indexing is deprecated; use `arr[tuple(seq)]` instead of `arr[seq]`. In the future this will be interpreted as an array index, `arr[np.array(seq)]`, which will result either in an error or a different result.\n",
      "  return np.add.reduce(sorted[indexer] * weights, axis=axis) / sumval\n"
     ]
    },
    {
     "data": {
      "text/plain": [
       "<matplotlib.axes._subplots.AxesSubplot at 0x7f159f778a20>"
      ]
     },
     "execution_count": 43,
     "metadata": {},
     "output_type": "execute_result"
    },
    {
     "data": {
      "image/png": "[encoded data removed]",
      "text/plain": [
       "<Figure size 432x288 with 1 Axes>"
      ]
     },
     "metadata": {},
     "output_type": "display_data"
    }
   ],
   "source": [
    "sns.distplot(np.log(1+data['1:1_Meeting_0']))"
   ]
  },
  {
   "cell_type": "code",
   "execution_count": 42,
   "metadata": {},
   "outputs": [
    {
     "name": "stdout",
     "output_type": "stream",
     "text": [
      "**********\n",
      "1:1_Meeting_11\n",
      "0.0    31245\n",
      "1.0      137\n",
      "2.0      100\n",
      "3.0        3\n",
      "5.0        2\n",
      "Name: Retention Status, dtype: int64\n",
      "**********\n",
      "1:1_Meeting_10\n",
      "0.0    31275\n",
      "1.0      112\n",
      "2.0       99\n",
      "4.0        1\n",
      "Name: Retention Status, dtype: int64\n",
      "**********\n",
      "1:1_Meeting_9\n",
      "0.0    31281\n",
      "1.0      110\n",
      "2.0       93\n",
      "3.0        3\n",
      "Name: Retention Status, dtype: int64\n",
      "**********\n",
      "1:1_Meeting_8\n",
      "0.0    31280\n",
      "1.0      119\n",
      "2.0       83\n",
      "3.0        4\n",
      "4.0        1\n",
      "Name: Retention Status, dtype: int64\n",
      "**********\n",
      "1:1_Meeting_7\n",
      "0.0    31254\n",
      "1.0      140\n",
      "2.0       90\n",
      "3.0        2\n",
      "4.0        1\n",
      "Name: Retention Status, dtype: int64\n",
      "**********\n",
      "1:1_Meeting_6\n",
      "0.0    31258\n",
      "1.0      138\n",
      "2.0       91\n",
      "Name: Retention Status, dtype: int64\n",
      "**********\n",
      "1:1_Meeting_5\n",
      "0.0    31253\n",
      "1.0      125\n",
      "2.0      106\n",
      "3.0        3\n",
      "Name: Retention Status, dtype: int64\n",
      "**********\n",
      "1:1_Meeting_4\n",
      "0.0    31257\n",
      "1.0      137\n",
      "2.0       92\n",
      "3.0        1\n",
      "Name: Retention Status, dtype: int64\n",
      "**********\n",
      "1:1_Meeting_3\n",
      "0.0    31240\n",
      "1.0      150\n",
      "2.0       96\n",
      "3.0        1\n",
      "Name: Retention Status, dtype: int64\n",
      "**********\n",
      "1:1_Meeting_2\n",
      "0.0    31170\n",
      "1.0      163\n",
      "2.0      153\n",
      "3.0        1\n",
      "Name: Retention Status, dtype: int64\n",
      "**********\n",
      "1:1_Meeting_1\n",
      "0.0    31213\n",
      "1.0      151\n",
      "2.0      123\n",
      "Name: Retention Status, dtype: int64\n",
      "**********\n",
      "1:1_Meeting_0\n",
      "0.0    31230\n",
      "1.0      146\n",
      "2.0      111\n",
      "Name: Retention Status, dtype: int64\n"
     ]
    }
   ],
   "source": [
    "for col in col_check:\n",
    "    print(\"*\"*10)\n",
    "    print(data.groupby(col)['Retention Status'].size())"
   ]
  },
  {
   "cell_type": "code",
   "execution_count": 31,
   "metadata": {},
   "outputs": [],
   "source": [
    "# data = data[:31487]"
   ]
  },
  {
   "cell_type": "code",
   "execution_count": 38,
   "metadata": {},
   "outputs": [],
   "source": [
    "# data = data.drop('Unnamed: 0',axis=1)"
   ]
  },
  {
   "cell_type": "code",
   "execution_count": 41,
   "metadata": {},
   "outputs": [
    {
     "data": {
      "text/plain": [
       "0"
      ]
     },
     "execution_count": 41,
     "metadata": {},
     "output_type": "execute_result"
    }
   ],
   "source": [
    "# data.isnull().any().sum()"
   ]
  },
  {
   "cell_type": "code",
   "execution_count": 45,
   "metadata": {},
   "outputs": [
    {
     "name": "stdout",
     "output_type": "stream",
     "text": [
      "****************************************\n",
      "[0.73976636 0.83941606 0.82       1.        ]\n",
      "****************************************\n",
      "[0.73985612 0.83035714 0.83838384 1.        ]\n",
      "****************************************\n",
      "[0.74000192 0.81818182 0.80645161 1.        ]\n",
      "****************************************\n",
      "[0.74002558 0.81512605 0.80722892 0.75       1.        ]\n",
      "****************************************\n",
      "[0.73996928 0.82142857 0.78888889 1.        ]\n",
      "****************************************\n",
      "[0.73977862 0.84057971 0.83516484]\n",
      "****************************************\n",
      "[0.73951301 0.872      1.         0.86792453]\n",
      "****************************************\n",
      "[0.73951435 0.86861314 0.89130435 0.        ]\n",
      "****************************************\n",
      "[0.73962868 0.88541667 0.82666667 1.        ]\n",
      "****************************************\n",
      "[0.73894771 0.90184049 0.88235294 1.        ]\n",
      "****************************************\n",
      "[0.73921123 0.87417219 0.90243902]\n",
      "****************************************\n",
      "[0.73909702 0.91780822 0.9009009 ]\n"
     ]
    }
   ],
   "source": [
    "for col in col_check:\n",
    "    print(\"*\"*40)\n",
    "    print(data[col].map(data.groupby(col)['Retention Status'].mean()).unique())"
   ]
  },
  {
   "cell_type": "code",
   "execution_count": 49,
   "metadata": {},
   "outputs": [
    {
     "data": {
      "text/plain": [
       "1:1_Meeting_0\n",
       "0.0    0.739097\n",
       "1.0    0.917808\n",
       "2.0    0.900901\n",
       "Name: Retention Status, dtype: float64"
      ]
     },
     "execution_count": 49,
     "metadata": {},
     "output_type": "execute_result"
    }
   ],
   "source": [
    "# data.groupby(col)['Retention Status'].cumsum()\n",
    "data.groupby(col)['Retention Status'].mean()"
   ]
  },
  {
   "cell_type": "code",
   "execution_count": 50,
   "metadata": {
    "scrolled": true
   },
   "outputs": [
    {
     "data": {
      "text/plain": [
       "0            0\n",
       "1            1\n",
       "2            2\n",
       "3            3\n",
       "4            4\n",
       "5            5\n",
       "6            6\n",
       "7            7\n",
       "8            8\n",
       "9            9\n",
       "10          10\n",
       "11          11\n",
       "12          12\n",
       "13          13\n",
       "14          14\n",
       "15          15\n",
       "16          16\n",
       "17          17\n",
       "18          18\n",
       "19          19\n",
       "20          20\n",
       "21          21\n",
       "22          22\n",
       "23          23\n",
       "24          24\n",
       "25          25\n",
       "26          26\n",
       "27          27\n",
       "28          28\n",
       "29          29\n",
       "         ...  \n",
       "31457    31200\n",
       "31458    31201\n",
       "31459    31202\n",
       "31460    31203\n",
       "31461    31204\n",
       "31462    31205\n",
       "31463    31206\n",
       "31464    31207\n",
       "31465    31208\n",
       "31466    31209\n",
       "31467    31210\n",
       "31468    31211\n",
       "31469    31212\n",
       "31470    31213\n",
       "31471    31214\n",
       "31472    31215\n",
       "31473    31216\n",
       "31474    31217\n",
       "31475    31218\n",
       "31476    31219\n",
       "31477    31220\n",
       "31478    31221\n",
       "31479    31222\n",
       "31480    31223\n",
       "31481    31224\n",
       "31482    31225\n",
       "31483    31226\n",
       "31484    31227\n",
       "31485    31228\n",
       "31486    31229\n",
       "Length: 31487, dtype: int64"
      ]
     },
     "execution_count": 50,
     "metadata": {},
     "output_type": "execute_result"
    }
   ],
   "source": [
    "cumsum = data.groupby(col)['Retention Status'].cumsum() - data['target']\n",
    "cumcnt = data.groupby(col).cumcount()\n",
    "data[col+'_mean_target'] = cumsum/cumcnt"
   ]
  },
  {
   "cell_type": "markdown",
   "metadata": {},
   "source": [
    "# Check why it is doing validation data's mean encoding, not to training data"
   ]
  },
  {
   "cell_type": "code",
   "execution_count": null,
   "metadata": {},
   "outputs": [],
   "source": [
    "y_tr = data['Retention Status'].values\n",
    "skl = StratifiedKFold(y_tr,5, shuffle=True,random_state=123)\n",
    "\n",
    "for tr_index,val_index in skf:\n",
    "    x_train, x_valid = data.iloc[tr_index], data.iloc[val_index]\n",
    "    for col in col_check:\n",
    "        means = x_valid[col].map(x_train.groupby(col)['Retention Status'].mean())\n",
    "        X_valid[col+'_mean_target'] = means\n",
    "    train_new.iloc[val_index] = X_valid\n",
    "\n",
    "prior = data['Retention Status'].mean() # global mean\n",
    "train_new.fillna(prior,inplace=True)# fill NaN with global mean\n",
    "    "
   ]
  },
  {
   "cell_type": "code",
   "execution_count": null,
   "metadata": {},
   "outputs": [],
   "source": []
  },
  {
   "cell_type": "code",
   "execution_count": 106,
   "metadata": {},
   "outputs": [],
   "source": [
    "data = data.drop(data.index[[28832,29432]])"
   ]
  },
  {
   "cell_type": "code",
   "execution_count": 107,
   "metadata": {},
   "outputs": [
    {
     "data": {
      "text/html": [
       "<div>\n",
       "<style scoped>\n",
       "    .dataframe tbody tr th:only-of-type {\n",
       "        vertical-align: middle;\n",
       "    }\n",
       "\n",
       "    .dataframe tbody tr th {\n",
       "        vertical-align: top;\n",
       "    }\n",
       "\n",
       "    .dataframe thead th {\n",
       "        text-align: right;\n",
       "    }\n",
       "</style>\n",
       "<table border=\"1\" class=\"dataframe\">\n",
       "  <thead>\n",
       "    <tr style=\"text-align: right;\">\n",
       "      <th></th>\n",
       "      <th>1:1_Meeting_0</th>\n",
       "      <th>1:1_Meeting_1</th>\n",
       "      <th>1:1_Meeting_10</th>\n",
       "      <th>1:1_Meeting_11</th>\n",
       "      <th>1:1_Meeting_2</th>\n",
       "      <th>1:1_Meeting_3</th>\n",
       "      <th>1:1_Meeting_4</th>\n",
       "      <th>1:1_Meeting_5</th>\n",
       "      <th>1:1_Meeting_6</th>\n",
       "      <th>1:1_Meeting_7</th>\n",
       "      <th>...</th>\n",
       "      <th>View_Peer_2</th>\n",
       "      <th>View_Peer_3</th>\n",
       "      <th>View_Peer_4</th>\n",
       "      <th>View_Peer_5</th>\n",
       "      <th>View_Peer_6</th>\n",
       "      <th>View_Peer_7</th>\n",
       "      <th>View_Peer_8</th>\n",
       "      <th>View_Peer_9</th>\n",
       "      <th>View_Peer_Last120_Flag(Y/N)</th>\n",
       "      <th>test</th>\n",
       "    </tr>\n",
       "  </thead>\n",
       "  <tbody>\n",
       "  </tbody>\n",
       "</table>\n",
       "<p>0 rows × 117 columns</p>\n",
       "</div>"
      ],
      "text/plain": [
       "Empty DataFrame\n",
       "Columns: [1:1_Meeting_0, 1:1_Meeting_1, 1:1_Meeting_10, 1:1_Meeting_11, 1:1_Meeting_2, 1:1_Meeting_3, 1:1_Meeting_4, 1:1_Meeting_5, 1:1_Meeting_6, 1:1_Meeting_7, 1:1_Meeting_8, 1:1_Meeting_9, Conference_Attended_0, Conference_Attended_1, Conference_Attended_10, Conference_Attended_11, Conference_Attended_2, Conference_Attended_3, Conference_Attended_4, Conference_Attended_5, Conference_Attended_6, Conference_Attended_7, Conference_Attended_8, Conference_Attended_9, Conference_Attended_Flag(Y/N), Contract Multi-Year (Y/N), Document_Read_0, Document_Read_1, Document_Read_10, Document_Read_11, Document_Read_12, Document_Read_2, Document_Read_3, Document_Read_4, Document_Read_5, Document_Read_6, Document_Read_7, Document_Read_8, Document_Read_9, Document_Read_Last120_Flag (Y/N), Inquiry Eligible Flag (Y/N), Inquiry_Done_0, Inquiry_Done_1, Inquiry_Done_10, Inquiry_Done_11, Inquiry_Done_12, Inquiry_Done_2, Inquiry_Done_3, Inquiry_Done_4, Inquiry_Done_5, Inquiry_Done_6, Inquiry_Done_7, Inquiry_Done_8, Inquiry_Done_9, Inquiry_Done_Last120_Flag (Y/N), Multi Year Length, Onboarding Satus(Y/N), Region, Retention Status, Service_desk_call_0, Service_desk_call_1, Service_desk_call_10, Service_desk_call_11, Service_desk_call_2, Service_desk_call_3, Service_desk_call_4, Service_desk_call_5, Service_desk_call_6, Service_desk_call_7, Service_desk_call_8, Service_desk_call_9, Symposium_Attended_0, Symposium_Attended_1, Symposium_Attended_10, Symposium_Attended_11, Symposium_Attended_2, Symposium_Attended_3, Symposium_Attended_4, Symposium_Attended_5, Symposium_Attended_6, Symposium_Attended_7, Symposium_Attended_8, Symposium_Attended_9, Symposium_Attended_Flag(Y/N), Testimonial_0, Testimonial_1, Testimonial_10, Testimonial_11, Testimonial_2, Testimonial_3, Testimonial_4, Testimonial_5, Testimonial_6, Testimonial_7, Testimonial_8, Testimonial_9, Testimonial_Flag(Y/N), Total_Document_Read_13, Total_Inquiry_Done_12, Total_Service_desk_call_12, ...]\n",
       "Index: []\n",
       "\n",
       "[0 rows x 117 columns]"
      ]
     },
     "execution_count": 107,
     "metadata": {},
     "output_type": "execute_result"
    }
   ],
   "source": [
    "data.loc[data['Inquiry_Done_12'] == 'Y']"
   ]
  },
  {
   "cell_type": "code",
   "execution_count": 97,
   "metadata": {},
   "outputs": [
    {
     "data": {
      "text/html": [
       "<div>\n",
       "<style scoped>\n",
       "    .dataframe tbody tr th:only-of-type {\n",
       "        vertical-align: middle;\n",
       "    }\n",
       "\n",
       "    .dataframe tbody tr th {\n",
       "        vertical-align: top;\n",
       "    }\n",
       "\n",
       "    .dataframe thead th {\n",
       "        text-align: right;\n",
       "    }\n",
       "</style>\n",
       "<table border=\"1\" class=\"dataframe\">\n",
       "  <thead>\n",
       "    <tr style=\"text-align: right;\">\n",
       "      <th></th>\n",
       "      <th>1:1_Meeting_0</th>\n",
       "      <th>1:1_Meeting_1</th>\n",
       "      <th>1:1_Meeting_10</th>\n",
       "      <th>1:1_Meeting_11</th>\n",
       "      <th>1:1_Meeting_2</th>\n",
       "      <th>1:1_Meeting_3</th>\n",
       "      <th>1:1_Meeting_4</th>\n",
       "      <th>1:1_Meeting_5</th>\n",
       "      <th>1:1_Meeting_6</th>\n",
       "      <th>1:1_Meeting_7</th>\n",
       "      <th>...</th>\n",
       "      <th>View_Peer_2</th>\n",
       "      <th>View_Peer_3</th>\n",
       "      <th>View_Peer_4</th>\n",
       "      <th>View_Peer_5</th>\n",
       "      <th>View_Peer_6</th>\n",
       "      <th>View_Peer_7</th>\n",
       "      <th>View_Peer_8</th>\n",
       "      <th>View_Peer_9</th>\n",
       "      <th>View_Peer_Last120_Flag(Y/N)</th>\n",
       "      <th>test</th>\n",
       "    </tr>\n",
       "  </thead>\n",
       "  <tbody>\n",
       "    <tr>\n",
       "      <th>28832</th>\n",
       "      <td>0.0</td>\n",
       "      <td>0.0</td>\n",
       "      <td>0.0</td>\n",
       "      <td>0.0</td>\n",
       "      <td>0.0</td>\n",
       "      <td>0.0</td>\n",
       "      <td>0.0</td>\n",
       "      <td>0.0</td>\n",
       "      <td>0.0</td>\n",
       "      <td>0.0</td>\n",
       "      <td>...</td>\n",
       "      <td>0.0</td>\n",
       "      <td>0.0</td>\n",
       "      <td>0.0</td>\n",
       "      <td>1.0</td>\n",
       "      <td>0.0</td>\n",
       "      <td>0.0</td>\n",
       "      <td>0.0</td>\n",
       "      <td>1.0</td>\n",
       "      <td>9</td>\n",
       "      <td>1</td>\n",
       "    </tr>\n",
       "    <tr>\n",
       "      <th>29432</th>\n",
       "      <td>0.0</td>\n",
       "      <td>0.0</td>\n",
       "      <td>0.0</td>\n",
       "      <td>0.0</td>\n",
       "      <td>0.0</td>\n",
       "      <td>0.0</td>\n",
       "      <td>0.0</td>\n",
       "      <td>0.0</td>\n",
       "      <td>0.0</td>\n",
       "      <td>0.0</td>\n",
       "      <td>...</td>\n",
       "      <td>4.0</td>\n",
       "      <td>0.0</td>\n",
       "      <td>1.0</td>\n",
       "      <td>0.0</td>\n",
       "      <td>0.0</td>\n",
       "      <td>0.0</td>\n",
       "      <td>0.0</td>\n",
       "      <td>0.0</td>\n",
       "      <td>10</td>\n",
       "      <td>1</td>\n",
       "    </tr>\n",
       "  </tbody>\n",
       "</table>\n",
       "<p>2 rows × 117 columns</p>\n",
       "</div>"
      ],
      "text/plain": [
       "       1:1_Meeting_0  1:1_Meeting_1  1:1_Meeting_10  1:1_Meeting_11  \\\n",
       "28832            0.0            0.0             0.0             0.0   \n",
       "29432            0.0            0.0             0.0             0.0   \n",
       "\n",
       "       1:1_Meeting_2  1:1_Meeting_3  1:1_Meeting_4  1:1_Meeting_5  \\\n",
       "28832            0.0            0.0            0.0            0.0   \n",
       "29432            0.0            0.0            0.0            0.0   \n",
       "\n",
       "       1:1_Meeting_6  1:1_Meeting_7  ...   View_Peer_2  View_Peer_3  \\\n",
       "28832            0.0            0.0  ...           0.0          0.0   \n",
       "29432            0.0            0.0  ...           4.0          0.0   \n",
       "\n",
       "       View_Peer_4  View_Peer_5  View_Peer_6 View_Peer_7  View_Peer_8  \\\n",
       "28832          0.0          1.0          0.0         0.0          0.0   \n",
       "29432          1.0          0.0          0.0         0.0          0.0   \n",
       "\n",
       "       View_Peer_9  View_Peer_Last120_Flag(Y/N)  test  \n",
       "28832          1.0                            9     1  \n",
       "29432          0.0                           10     1  \n",
       "\n",
       "[2 rows x 117 columns]"
      ]
     },
     "execution_count": 97,
     "metadata": {},
     "output_type": "execute_result"
    }
   ],
   "source": [
    "data.loc[data['Inquiry_Done_12'] == 'Y']"
   ]
  },
  {
   "cell_type": "markdown",
   "metadata": {},
   "source": [
    "# mean encoding"
   ]
  },
  {
   "cell_type": "code",
   "execution_count": 110,
   "metadata": {},
   "outputs": [],
   "source": [
    "data = data.reset_index()"
   ]
  },
  {
   "cell_type": "code",
   "execution_count": 114,
   "metadata": {},
   "outputs": [
    {
     "data": {
      "text/plain": [
       "RangeIndex(start=0, stop=31485, step=1)"
      ]
     },
     "execution_count": 114,
     "metadata": {},
     "output_type": "execute_result"
    }
   ],
   "source": [
    "data.index"
   ]
  },
  {
   "cell_type": "code",
   "execution_count": 115,
   "metadata": {},
   "outputs": [],
   "source": [
    "for col in col_list:\n",
    "    data[col+'mean_encode'] = data[col].map(data.groupby(col)['Retention Status'].mean())"
   ]
  },
  {
   "cell_type": "code",
   "execution_count": 116,
   "metadata": {},
   "outputs": [],
   "source": [
    "# data.groupby(col_list[start:start+12])['Retention Status'].mean()"
   ]
  },
  {
   "cell_type": "code",
   "execution_count": 117,
   "metadata": {},
   "outputs": [
    {
     "data": {
      "text/plain": [
       "(31485, 217)"
      ]
     },
     "execution_count": 117,
     "metadata": {},
     "output_type": "execute_result"
    }
   ],
   "source": [
    "data.shape"
   ]
  },
  {
   "cell_type": "code",
   "execution_count": 120,
   "metadata": {},
   "outputs": [
    {
     "name": "stdout",
     "output_type": "stream",
     "text": [
      "int64\n",
      "float64\n",
      "object\n"
     ]
    }
   ],
   "source": [
    "for i in data.dtypes.unique():\n",
    "    print(i)"
   ]
  },
  {
   "cell_type": "code",
   "execution_count": 128,
   "metadata": {},
   "outputs": [
    {
     "name": "stdout",
     "output_type": "stream",
     "text": [
      "16\n",
      "31\n",
      "40\n",
      "46\n",
      "55\n",
      "63\n",
      "75\n",
      "85\n",
      "97\n",
      "107\n",
      "116\n"
     ]
    }
   ],
   "source": [
    "for i,dtype in enumerate(data.dtypes):\n",
    "#     print(i,dtype)\n",
    "    if dtype == 'object':\n",
    "        print(i)"
   ]
  },
  {
   "cell_type": "code",
   "execution_count": 133,
   "metadata": {},
   "outputs": [
    {
     "name": "stdout",
     "output_type": "stream",
     "text": [
      "Conference_Attended_11\n",
      "Document_Read_12\n",
      "Document_Read_Last120_Flag (Y/N)\n",
      "Inquiry_Done_12\n",
      "Inquiry_Done_Last120_Flag (Y/N)\n",
      "Service_desk_call_11\n",
      "Symposium_Attended_11\n",
      "Testimonial_0\n",
      "Testimonial_Flag(Y/N)\n",
      "View_Peer_12\n",
      "View_Peer_Last120_Flag(Y/N)\n"
     ]
    }
   ],
   "source": [
    "list = [16,31,40,46,55,63,75,85,97,107,116]\n",
    "col_name_list = []\n",
    "for i in list:\n",
    "    print(data.columns[i])\n",
    "    col_name_list.append(data.columns[i])"
   ]
  },
  {
   "cell_type": "code",
   "execution_count": 132,
   "metadata": {},
   "outputs": [],
   "source": [
    "data['Document_Read_12'] = data['Document_Read_12'].astype(float)"
   ]
  },
  {
   "cell_type": "code",
   "execution_count": 134,
   "metadata": {},
   "outputs": [
    {
     "name": "stdout",
     "output_type": "stream",
     "text": [
      "****************************************\n",
      "[0.0 1.0 2.0 '0' '1']\n",
      "****************************************\n",
      "[0.000e+00 1.100e+01 1.000e+01 1.200e+01 4.400e+01 3.000e+00 4.000e+00\n",
      " 3.100e+01 3.900e+01 2.900e+01 3.500e+01 7.000e+00 5.700e+01 8.000e+00\n",
      " 2.800e+01 1.000e+00 4.800e+01 3.600e+01 2.200e+01 2.000e+00 1.800e+01\n",
      " 1.700e+01 5.000e+00 6.000e+00 1.400e+01 1.070e+02 1.500e+01 3.700e+01\n",
      " 2.300e+01 2.700e+01 6.000e+01 9.000e+00 5.600e+01 1.300e+01 8.600e+01\n",
      " 2.000e+01 6.300e+01 3.300e+01 6.100e+01 1.770e+02 1.900e+01 4.300e+01\n",
      " 2.600e+01 7.800e+01 2.500e+01 9.300e+01 1.600e+01 5.000e+01 9.000e+01\n",
      " 4.100e+01 2.100e+01 6.500e+01 4.200e+01 4.700e+01 9.600e+01 3.400e+01\n",
      " 3.000e+01 2.400e+01 6.700e+01 4.000e+02 5.800e+01 3.200e+01 7.500e+01\n",
      " 7.400e+01 4.500e+01 5.260e+02 8.800e+01 3.140e+02 2.220e+02 3.800e+01\n",
      " 6.800e+01 9.400e+01 5.400e+01 1.240e+02 4.000e+01 4.600e+01 6.600e+01\n",
      " 1.040e+02 1.400e+02 6.400e+01 1.360e+02 5.200e+01 7.000e+01 6.200e+01\n",
      " 2.300e+02 1.280e+02 1.260e+02 8.000e+01 9.800e+01 1.700e+02 1.460e+02\n",
      " 7.600e+01 1.320e+02 1.300e+02 1.020e+02 1.540e+02 9.200e+01 1.350e+02\n",
      " 1.520e+02 4.900e+01 1.230e+02 1.220e+02 1.480e+02 2.500e+02 2.860e+02\n",
      " 1.570e+02 3.160e+02 2.980e+02 1.000e+02 7.200e+01 8.400e+01 2.320e+02\n",
      " 1.200e+02 1.080e+02 7.100e+01 2.040e+02 4.880e+02 2.200e+02 1.340e+02\n",
      " 8.200e+01 6.800e+02 2.360e+02 1.740e+02 6.960e+02 1.620e+02 2.880e+02\n",
      " 1.640e+02 2.080e+02 3.320e+02 7.300e+01 1.140e+02 1.780e+02 2.740e+02\n",
      " 1.880e+02 1.690e+02 5.100e+01 8.700e+01 6.900e+01 5.500e+01 5.300e+01\n",
      " 1.310e+02 1.060e+02 9.100e+01 9.700e+01 2.050e+02 8.900e+01 1.840e+02\n",
      " 1.160e+02 2.760e+02 8.500e+01 1.420e+02 1.560e+02 1.100e+02 1.180e+02\n",
      " 2.000e+02 1.860e+02 1.050e+02 1.760e+02 1.980e+02 3.040e+02 1.110e+02\n",
      " 1.120e+02 2.490e+02 1.380e+02 1.650e+02 3.300e+02 8.100e+01 1.030e+02\n",
      " 1.960e+02 1.800e+02 2.140e+02 1.820e+02 1.600e+02 2.420e+02 1.680e+02\n",
      " 1.660e+02 1.940e+02 3.900e+02 1.440e+02 4.840e+02 3.190e+02 8.320e+02\n",
      " 1.500e+02 2.510e+02 2.900e+02 2.840e+02 1.580e+02 1.290e+02 3.060e+02\n",
      " 2.100e+02 8.300e+01 7.440e+02 6.120e+02 5.900e+01 1.104e+03 1.720e+02\n",
      " 3.220e+02 1.822e+03 2.180e+02 1.060e+03 3.080e+02 1.838e+03 4.160e+02\n",
      " 2.560e+02 3.360e+02 8.360e+02 3.580e+02 1.096e+03 2.720e+02 3.200e+02\n",
      " 1.900e+02 1.130e+02 9.500e+01 7.700e+01 7.900e+01 1.010e+02 1.150e+02\n",
      " 9.900e+01 3.860e+02 1.490e+02 5.200e+02 2.800e+02 2.020e+02 1.170e+02\n",
      " 4.240e+02 3.600e+02 5.720e+02 3.240e+02 3.780e+02 6.704e+03 2.240e+02\n",
      " 4.640e+02 3.740e+02 3.680e+02 1.920e+02 1.450e+02 2.060e+02 2.160e+02\n",
      " 2.120e+02]\n",
      "****************************************\n",
      "['Y' 'N']\n",
      "****************************************\n",
      "[0.0 1.0 2.0 4.0 3.0 5.0 6.0 19.0 13.0 7.0 8.0 9.0 18.0 '0' '2' '1' '3'\n",
      " '4' '6' '5' '8' '7' '13' '14' '22' '11' '9']\n",
      "****************************************\n",
      "['N' 'Y']\n",
      "****************************************\n",
      "[0.0 1.0 2.0 4.0 3.0 6.0 5.0 8.0 7.0 '1' '0' '2' '3' '4' '5']\n",
      "****************************************\n",
      "[0.0 1.0 '0']\n",
      "****************************************\n",
      "[0.0 1.0 2.0 '0' '2' '1' '3']\n",
      "****************************************\n",
      "['No' 'Yes']\n",
      "****************************************\n",
      "[0.0 1.0 7.0 11.0 28.0 4.0 2.0 3.0 15.0 8.0 5.0 13.0 12.0 6.0 9.0 20.0\n",
      " 17.0 14.0 35.0 26.0 22.0 18.0 10.0 16.0 21.0 37.0 29.0 38.0 24.0 19.0\n",
      " 41.0 25.0 105.0 32.0 100.0 50.0 48.0 27.0 23.0 30.0 33.0 31.0 43.0 42.0\n",
      " 69.0 '0' '10' '7' '12' '1' '2' '4' '5' '3' '9' '8' '13' '107' '15' '32'\n",
      " '6' '94' '16' '27' '21' '17' '201' '19' '11' '41' '26' '14' '31' '28'\n",
      " '18' '23' '22' '35' '38' '20' '40' '24' '75']\n",
      "****************************************\n",
      "['Y' 'N']\n"
     ]
    }
   ],
   "source": [
    "for col_name in col_name_list:\n",
    "    print(\"*\"*40)\n",
    "    print(data[col_name].unique())"
   ]
  },
  {
   "cell_type": "code",
   "execution_count": 139,
   "metadata": {},
   "outputs": [
    {
     "data": {
      "text/plain": [
       "(36,)"
      ]
     },
     "execution_count": 139,
     "metadata": {},
     "output_type": "execute_result"
    }
   ],
   "source": [
    "data['View_Peer_12mean_encode'].unique().shape"
   ]
  },
  {
   "cell_type": "code",
   "execution_count": 141,
   "metadata": {},
   "outputs": [
    {
     "data": {
      "text/plain": [
       "(83,)"
      ]
     },
     "execution_count": 141,
     "metadata": {},
     "output_type": "execute_result"
    }
   ],
   "source": [
    "data['View_Peer_12'].unique().shape"
   ]
  },
  {
   "cell_type": "code",
   "execution_count": 143,
   "metadata": {},
   "outputs": [
    {
     "data": {
      "text/plain": [
       "(5,)"
      ]
     },
     "execution_count": 143,
     "metadata": {},
     "output_type": "execute_result"
    }
   ],
   "source": [
    "data['Conference_Attended_11mean_encode'].unique().shape"
   ]
  },
  {
   "cell_type": "code",
   "execution_count": 144,
   "metadata": {},
   "outputs": [
    {
     "data": {
      "text/html": [
       "<div>\n",
       "<style scoped>\n",
       "    .dataframe tbody tr th:only-of-type {\n",
       "        vertical-align: middle;\n",
       "    }\n",
       "\n",
       "    .dataframe tbody tr th {\n",
       "        vertical-align: top;\n",
       "    }\n",
       "\n",
       "    .dataframe thead th {\n",
       "        text-align: right;\n",
       "    }\n",
       "</style>\n",
       "<table border=\"1\" class=\"dataframe\">\n",
       "  <thead>\n",
       "    <tr style=\"text-align: right;\">\n",
       "      <th></th>\n",
       "      <th>index</th>\n",
       "      <th>1:1_Meeting_0</th>\n",
       "      <th>1:1_Meeting_1</th>\n",
       "      <th>1:1_Meeting_10</th>\n",
       "      <th>1:1_Meeting_11</th>\n",
       "      <th>1:1_Meeting_2</th>\n",
       "      <th>1:1_Meeting_3</th>\n",
       "      <th>1:1_Meeting_4</th>\n",
       "      <th>1:1_Meeting_5</th>\n",
       "      <th>1:1_Meeting_6</th>\n",
       "      <th>...</th>\n",
       "      <th>Document_Read_9mean_encode</th>\n",
       "      <th>Document_Read_8mean_encode</th>\n",
       "      <th>Document_Read_7mean_encode</th>\n",
       "      <th>Document_Read_6mean_encode</th>\n",
       "      <th>Document_Read_5mean_encode</th>\n",
       "      <th>Document_Read_4mean_encode</th>\n",
       "      <th>Document_Read_3mean_encode</th>\n",
       "      <th>Document_Read_2mean_encode</th>\n",
       "      <th>Document_Read_1mean_encode</th>\n",
       "      <th>Document_Read_0mean_encode</th>\n",
       "    </tr>\n",
       "  </thead>\n",
       "  <tbody>\n",
       "    <tr>\n",
       "      <th>0</th>\n",
       "      <td>0</td>\n",
       "      <td>0.0</td>\n",
       "      <td>0.0</td>\n",
       "      <td>0.0</td>\n",
       "      <td>0.0</td>\n",
       "      <td>0.0</td>\n",
       "      <td>0.0</td>\n",
       "      <td>0.0</td>\n",
       "      <td>0.0</td>\n",
       "      <td>0.0</td>\n",
       "      <td>...</td>\n",
       "      <td>0.472583</td>\n",
       "      <td>0.696380</td>\n",
       "      <td>0.696155</td>\n",
       "      <td>0.512292</td>\n",
       "      <td>0.684843</td>\n",
       "      <td>0.793691</td>\n",
       "      <td>0.509412</td>\n",
       "      <td>0.590588</td>\n",
       "      <td>0.630786</td>\n",
       "      <td>0.687500</td>\n",
       "    </tr>\n",
       "    <tr>\n",
       "      <th>1</th>\n",
       "      <td>1</td>\n",
       "      <td>0.0</td>\n",
       "      <td>0.0</td>\n",
       "      <td>0.0</td>\n",
       "      <td>0.0</td>\n",
       "      <td>0.0</td>\n",
       "      <td>0.0</td>\n",
       "      <td>0.0</td>\n",
       "      <td>0.0</td>\n",
       "      <td>0.0</td>\n",
       "      <td>...</td>\n",
       "      <td>0.800000</td>\n",
       "      <td>0.588235</td>\n",
       "      <td>0.666667</td>\n",
       "      <td>0.691437</td>\n",
       "      <td>0.000000</td>\n",
       "      <td>0.500000</td>\n",
       "      <td>0.761905</td>\n",
       "      <td>0.900000</td>\n",
       "      <td>0.934641</td>\n",
       "      <td>0.916667</td>\n",
       "    </tr>\n",
       "    <tr>\n",
       "      <th>2</th>\n",
       "      <td>2</td>\n",
       "      <td>0.0</td>\n",
       "      <td>0.0</td>\n",
       "      <td>0.0</td>\n",
       "      <td>0.0</td>\n",
       "      <td>0.0</td>\n",
       "      <td>0.0</td>\n",
       "      <td>0.0</td>\n",
       "      <td>0.0</td>\n",
       "      <td>0.0</td>\n",
       "      <td>...</td>\n",
       "      <td>0.781609</td>\n",
       "      <td>0.833834</td>\n",
       "      <td>0.854545</td>\n",
       "      <td>0.861352</td>\n",
       "      <td>0.820670</td>\n",
       "      <td>0.875203</td>\n",
       "      <td>0.875362</td>\n",
       "      <td>0.561818</td>\n",
       "      <td>0.630786</td>\n",
       "      <td>0.878049</td>\n",
       "    </tr>\n",
       "    <tr>\n",
       "      <th>3</th>\n",
       "      <td>3</td>\n",
       "      <td>0.0</td>\n",
       "      <td>0.0</td>\n",
       "      <td>0.0</td>\n",
       "      <td>0.0</td>\n",
       "      <td>0.0</td>\n",
       "      <td>0.0</td>\n",
       "      <td>0.0</td>\n",
       "      <td>0.0</td>\n",
       "      <td>0.0</td>\n",
       "      <td>...</td>\n",
       "      <td>0.806954</td>\n",
       "      <td>0.504104</td>\n",
       "      <td>0.485255</td>\n",
       "      <td>0.512292</td>\n",
       "      <td>0.684843</td>\n",
       "      <td>0.668491</td>\n",
       "      <td>0.666380</td>\n",
       "      <td>0.519924</td>\n",
       "      <td>0.630786</td>\n",
       "      <td>0.627907</td>\n",
       "    </tr>\n",
       "    <tr>\n",
       "      <th>4</th>\n",
       "      <td>4</td>\n",
       "      <td>0.0</td>\n",
       "      <td>0.0</td>\n",
       "      <td>0.0</td>\n",
       "      <td>0.0</td>\n",
       "      <td>0.0</td>\n",
       "      <td>0.0</td>\n",
       "      <td>0.0</td>\n",
       "      <td>0.0</td>\n",
       "      <td>0.0</td>\n",
       "      <td>...</td>\n",
       "      <td>0.472583</td>\n",
       "      <td>0.696380</td>\n",
       "      <td>0.696155</td>\n",
       "      <td>0.691437</td>\n",
       "      <td>0.846442</td>\n",
       "      <td>0.668491</td>\n",
       "      <td>0.875962</td>\n",
       "      <td>0.590588</td>\n",
       "      <td>0.630786</td>\n",
       "      <td>0.610101</td>\n",
       "    </tr>\n",
       "  </tbody>\n",
       "</table>\n",
       "<p>5 rows × 217 columns</p>\n",
       "</div>"
      ],
      "text/plain": [
       "   index  1:1_Meeting_0  1:1_Meeting_1  1:1_Meeting_10  1:1_Meeting_11  \\\n",
       "0      0            0.0            0.0             0.0             0.0   \n",
       "1      1            0.0            0.0             0.0             0.0   \n",
       "2      2            0.0            0.0             0.0             0.0   \n",
       "3      3            0.0            0.0             0.0             0.0   \n",
       "4      4            0.0            0.0             0.0             0.0   \n",
       "\n",
       "   1:1_Meeting_2  1:1_Meeting_3  1:1_Meeting_4  1:1_Meeting_5  1:1_Meeting_6  \\\n",
       "0            0.0            0.0            0.0            0.0            0.0   \n",
       "1            0.0            0.0            0.0            0.0            0.0   \n",
       "2            0.0            0.0            0.0            0.0            0.0   \n",
       "3            0.0            0.0            0.0            0.0            0.0   \n",
       "4            0.0            0.0            0.0            0.0            0.0   \n",
       "\n",
       "              ...              Document_Read_9mean_encode  \\\n",
       "0             ...                                0.472583   \n",
       "1             ...                                0.800000   \n",
       "2             ...                                0.781609   \n",
       "3             ...                                0.806954   \n",
       "4             ...                                0.472583   \n",
       "\n",
       "   Document_Read_8mean_encode  Document_Read_7mean_encode  \\\n",
       "0                    0.696380                    0.696155   \n",
       "1                    0.588235                    0.666667   \n",
       "2                    0.833834                    0.854545   \n",
       "3                    0.504104                    0.485255   \n",
       "4                    0.696380                    0.696155   \n",
       "\n",
       "   Document_Read_6mean_encode  Document_Read_5mean_encode  \\\n",
       "0                    0.512292                    0.684843   \n",
       "1                    0.691437                    0.000000   \n",
       "2                    0.861352                    0.820670   \n",
       "3                    0.512292                    0.684843   \n",
       "4                    0.691437                    0.846442   \n",
       "\n",
       "   Document_Read_4mean_encode Document_Read_3mean_encode  \\\n",
       "0                    0.793691                   0.509412   \n",
       "1                    0.500000                   0.761905   \n",
       "2                    0.875203                   0.875362   \n",
       "3                    0.668491                   0.666380   \n",
       "4                    0.668491                   0.875962   \n",
       "\n",
       "   Document_Read_2mean_encode  Document_Read_1mean_encode  \\\n",
       "0                    0.590588                    0.630786   \n",
       "1                    0.900000                    0.934641   \n",
       "2                    0.561818                    0.630786   \n",
       "3                    0.519924                    0.630786   \n",
       "4                    0.590588                    0.630786   \n",
       "\n",
       "   Document_Read_0mean_encode  \n",
       "0                    0.687500  \n",
       "1                    0.916667  \n",
       "2                    0.878049  \n",
       "3                    0.627907  \n",
       "4                    0.610101  \n",
       "\n",
       "[5 rows x 217 columns]"
      ]
     },
     "execution_count": 144,
     "metadata": {},
     "output_type": "execute_result"
    }
   ],
   "source": []
  },
  {
   "cell_type": "code",
   "execution_count": 145,
   "metadata": {},
   "outputs": [
    {
     "data": {
      "text/plain": [
       "[<matplotlib.lines.Line2D at 0x7f159f65ee48>]"
      ]
     },
     "execution_count": 145,
     "metadata": {},
     "output_type": "execute_result"
    },
    {
     "data": {
      "image/png": "[encoded data removed]",
      "text/plain": [
       "<Figure size 432x288 with 1 Axes>"
      ]
     },
     "metadata": {},
     "output_type": "display_data"
    }
   ],
   "source": [
    "plt.plot(data['Document_Read_12'])"
   ]
  },
  {
   "cell_type": "code",
   "execution_count": 165,
   "metadata": {},
   "outputs": [],
   "source": [
    "iqr1, iqr3 = np.percentile(data['Document_Read_12'],(5,95))"
   ]
  },
  {
   "cell_type": "code",
   "execution_count": 166,
   "metadata": {},
   "outputs": [],
   "source": [
    "iqr = iqr3-iqr1\n",
    "low,high = iqr1 -1.5*iqr, iqr3+1.5*iqr"
   ]
  },
  {
   "cell_type": "code",
   "execution_count": 167,
   "metadata": {},
   "outputs": [
    {
     "data": {
      "text/plain": [
       "(0.0, 42.0, 42.0, -63.0, 105.0)"
      ]
     },
     "execution_count": 167,
     "metadata": {},
     "output_type": "execute_result"
    }
   ],
   "source": [
    "iqr1,iqr3,iqr,low,high"
   ]
  },
  {
   "cell_type": "code",
   "execution_count": 168,
   "metadata": {},
   "outputs": [
    {
     "data": {
      "text/plain": [
       "(343,)"
      ]
     },
     "execution_count": 168,
     "metadata": {},
     "output_type": "execute_result"
    }
   ],
   "source": [
    "np.where(data['Document_Read_12']>high)[0].shape"
   ]
  },
  {
   "cell_type": "code",
   "execution_count": 169,
   "metadata": {},
   "outputs": [],
   "source": [
    "data['Document_Read_12'] = np.where(data['Document_Read_12']>high,0,data['Document_Read_12'])"
   ]
  },
  {
   "cell_type": "code",
   "execution_count": null,
   "metadata": {},
   "outputs": [],
   "source": []
  }
 ],
 "metadata": {
  "kernelspec": {
   "display_name": "Python 3",
   "language": "python",
   "name": "python3"
  },
  "language_info": {
   "codemirror_mode": {
    "name": "ipython",
    "version": 3
   },
   "file_extension": ".py",
   "mimetype": "text/x-python",
   "name": "python",
   "nbconvert_exporter": "python",
   "pygments_lexer": "ipython3",
   "version": "3.6.7"
  }
 },
 "nbformat": 4,
 "nbformat_minor": 2
}
