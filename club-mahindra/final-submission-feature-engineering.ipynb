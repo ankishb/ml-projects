{
 "cells": [
  {
   "cell_type": "code",
   "execution_count": 1,
   "metadata": {},
   "outputs": [
    {
     "data": {
      "text/html": [
       "<style>.container { width:100% !important; }</style>"
      ],
      "text/plain": [
       "<IPython.core.display.HTML object>"
      ]
     },
     "metadata": {},
     "output_type": "display_data"
    }
   ],
   "source": [
    "import pandas as pd\n",
    "import numpy as np\n",
    "import matplotlib.pyplot as plt\n",
    "%matplotlib inline\n",
    "\n",
    "import os, gc\n",
    "import seaborn as sns\n",
    "\n",
    "pd.set_option('display.max_rows', 200)\n",
    "pd.set_option('display.max_columns', 200)\n",
    "\n",
    "from IPython.core.display import display, HTML\n",
    "display(HTML(\"<style>.container { width:100% !important; }</style>\"))\n",
    "\n",
    "sns.set(context='notebook', style='whitegrid', palette='deep', font='sans-serif', \n",
    "        font_scale=2, color_codes=True, rc=None)"
   ]
  },
  {
   "cell_type": "code",
   "execution_count": 2,
   "metadata": {},
   "outputs": [
    {
     "data": {
      "text/plain": [
       "((341424, 24), (146765, 23), (146765, 2), (24, 2))"
      ]
     },
     "execution_count": 2,
     "metadata": {},
     "output_type": "execute_result"
    }
   ],
   "source": [
    "train_df = pd.read_csv('data/train.csv')\n",
    "test_df  = pd.read_csv('data/test.csv')\n",
    "sub_df   = pd.read_csv('data/sample_submission.csv')\n",
    "info_df  = pd.read_csv('data/data_dict.csv')\n",
    "\n",
    "train_df.shape, test_df.shape, sub_df.shape, info_df.shape"
   ]
  },
  {
   "cell_type": "code",
   "execution_count": 3,
   "metadata": {},
   "outputs": [
    {
     "data": {
      "text/plain": [
       "reservation_id                        341424\n",
       "booking_date                            1621\n",
       "checkin_date                            1532\n",
       "checkout_date                           1531\n",
       "channel_code                               3\n",
       "main_product_code                          5\n",
       "numberofadults                            28\n",
       "numberofchildren                          12\n",
       "persontravellingid                         6\n",
       "resort_region_code                         3\n",
       "resort_type_code                           7\n",
       "room_type_booked_code                      6\n",
       "roomnights                                44\n",
       "season_holidayed_code                      4\n",
       "state_code_residence                      37\n",
       "state_code_resort                         11\n",
       "total_pax                                 18\n",
       "member_age_buckets                        10\n",
       "booking_type_code                          2\n",
       "memberid                              101327\n",
       "cluster_code                               6\n",
       "reservationstatusid_code                   4\n",
       "resort_id                                 32\n",
       "amount_spent_per_room_night_scaled    278083\n",
       "dtype: int64"
      ]
     },
     "execution_count": 3,
     "metadata": {},
     "output_type": "execute_result"
    }
   ],
   "source": [
    "train_df.apply(lambda x: pd.Series.value_counts(x).shape[0])"
   ]
  },
  {
   "cell_type": "markdown",
   "metadata": {},
   "source": [
    "# Important points:\n",
    "\n",
    "- There are only `season_holidayed_code` & `state_code_residence` columns that contains `nan` values.\n",
    "- All variables are categorical except `ids` (which are `hash code`) and `amount_spent_per_room_night_scaled` (which is `float` and `target`) \n",
    "- `101327/341424` are those `member_ids`, which are train dataset and `43496/146765` are those `member_ids`, which are test dataset.\n"
   ]
  },
  {
   "cell_type": "code",
   "execution_count": 4,
   "metadata": {},
   "outputs": [
    {
     "name": "stderr",
     "output_type": "stream",
     "text": [
      "/home/ankish/anaconda3/lib/python3.6/site-packages/ipykernel_launcher.py:4: FutureWarning: Sorting because non-concatenation axis is not aligned. A future version\n",
      "of pandas will change to not sort by default.\n",
      "\n",
      "To accept the future behavior, pass 'sort=False'.\n",
      "\n",
      "To retain the current behavior and silence the warning, pass 'sort=True'.\n",
      "\n",
      "  after removing the cwd from sys.path.\n"
     ]
    },
    {
     "name": "stdout",
     "output_type": "stream",
     "text": [
      "Size:  (488189, 25)\n"
     ]
    },
    {
     "data": {
      "text/plain": [
       "32"
      ]
     },
     "execution_count": 4,
     "metadata": {},
     "output_type": "execute_result"
    }
   ],
   "source": [
    "train_df['tr_flag'] = 1\n",
    "test_df['tr_flag']  = 0\n",
    "train_len = train_df.shape[0]\n",
    "train_test = pd.concat([train_df, test_df], axis=0).reset_index(drop=True)\n",
    "print(\"Size: \", train_test.shape)\n",
    "\n",
    "del train_df, test_df\n",
    "gc.collect()"
   ]
  },
  {
   "cell_type": "code",
   "execution_count": 5,
   "metadata": {},
   "outputs": [
    {
     "data": {
      "text/plain": [
       "18"
      ]
     },
     "execution_count": 5,
     "metadata": {},
     "output_type": "execute_result"
    }
   ],
   "source": [
    "cat_cols = ['channel_code', 'main_product_code', 'numberofadults','numberofchildren', 'persontravellingid','resort_region_code',\n",
    "'resort_type_code','room_type_booked_code', 'roomnights', 'season_holidayed_code', 'member_age_buckets', 'total_pax',\n",
    "'state_code_residence', 'state_code_resort', 'booking_type_code','cluster_code','reservationstatusid_code', 'resort_id']\n",
    "len(cat_cols)"
   ]
  },
  {
   "cell_type": "markdown",
   "metadata": {},
   "source": [
    "# Data Cleaning\n",
    "- `numberofadults`> 8 & <1 = 9\n",
    "- `roomnights`    >12 & <1 = 13 (**suspicious**)\n",
    "- `total_pax`     > 7 & <1 = 8"
   ]
  },
  {
   "cell_type": "code",
   "execution_count": 6,
   "metadata": {},
   "outputs": [],
   "source": [
    "# train_test.roomnights.value_counts().sort_index()\n",
    "\n",
    "# roomnights\n",
    "# idx = train_test[train_test.roomnights>12].index\n",
    "# train_test.loc[idx, 'roomnights'] = 13\n",
    "# idx = train_test[train_test.roomnights<1].index\n",
    "# train_test.loc[idx, 'roomnights'] = 13\n",
    "\n",
    "# numberofadults\n",
    "idx = train_test[train_test.numberofadults>8].index\n",
    "train_test.loc[idx, 'numberofadults'] = 9\n",
    "idx = train_test[train_test.numberofadults<1].index\n",
    "train_test.loc[idx, 'numberofadults'] = 9\n",
    "\n",
    "# total_pax\n",
    "idx = train_test[train_test.total_pax>7].index\n",
    "train_test.loc[idx, 'total_pax'] = 8\n",
    "idx = train_test[train_test.total_pax<1].index\n",
    "train_test.loc[idx, 'total_pax'] = 8\n",
    "\n"
   ]
  },
  {
   "cell_type": "code",
   "execution_count": null,
   "metadata": {},
   "outputs": [],
   "source": []
  },
  {
   "cell_type": "markdown",
   "metadata": {},
   "source": [
    "# My understanding about data:\n",
    "### For aggregator based features\n",
    "- member_id\n",
    "- resort_id\n",
    "- cluster_code\n",
    "- state_code_residence\n",
    "- state_code_resort\n",
    "- resort_region_code\n",
    "- resort_type_code"
   ]
  },
  {
   "cell_type": "code",
   "execution_count": 7,
   "metadata": {},
   "outputs": [],
   "source": [
    "train_test['booking_date'] = pd.to_datetime(train_test['booking_date'], dayfirst=True)\n",
    "train_test['checkin_date'] = pd.to_datetime(train_test['checkin_date'], dayfirst=True)\n",
    "train_test['checkout_date'] = pd.to_datetime(train_test['checkout_date'], dayfirst=True)\n",
    "\n",
    "# ((train_test['checkout_date'] - train_test['checkin_date']))/365) / np.timedelta64(1, 'D')"
   ]
  },
  {
   "cell_type": "code",
   "execution_count": 8,
   "metadata": {},
   "outputs": [],
   "source": [
    "train_test['days_diff'] = train_test['checkout_date'] - train_test['checkin_date']\n",
    "\n",
    "train_test['booking_week']  = train_test['booking_date'].dt.week\n",
    "train_test['booking_month'] = train_test['booking_date'].dt.month\n",
    "train_test['booking_year']  = train_test['booking_date'].dt.year\n",
    "train_test['booking_dow']   = train_test['booking_date'].dt.dayofweek\n",
    "\n",
    "train_test['checkin_week']  = train_test['checkin_date'].dt.week\n",
    "train_test['checkin_month'] = train_test['checkin_date'].dt.month\n",
    "train_test['checkin_year']  = train_test['checkin_date'].dt.year\n",
    "train_test['checkin_dow']   = train_test['checkin_date'].dt.dayofweek\n",
    "\n",
    "# train_test['checkout_week']  = train_test['checkout_date'].dt.week\n",
    "# train_test['checkout_month'] = train_test['checkout_date'].dt.month\n",
    "# train_test['checkout_year']  = train_test['checkout_date'].dt.year\n",
    "# train_test['checkout_dow']   = train_test['checkout_date'].dt.dayofweek"
   ]
  },
  {
   "cell_type": "code",
   "execution_count": 9,
   "metadata": {},
   "outputs": [],
   "source": [
    "train_test['days_diff'] = train_test['days_diff'].dt.days\n",
    "\n",
    "# days_diff\n",
    "idx = train_test[train_test.days_diff>7].index\n",
    "train_test.loc[idx, 'days_diff'] = 8\n"
   ]
  },
  {
   "cell_type": "code",
   "execution_count": 10,
   "metadata": {},
   "outputs": [],
   "source": [
    "train_test.drop(['reservation_id'], axis=1, inplace=True)\n",
    "\n",
    "label_enc_cols = ['resort_id','memberid']\n",
    "import category_encoders as ce\n",
    "\n",
    "enc = ce.OrdinalEncoder(cols=label_enc_cols, drop_invariant=True)\n",
    "train_test = enc.fit_transform(train_test)\n",
    "\n"
   ]
  },
  {
   "cell_type": "code",
   "execution_count": 11,
   "metadata": {},
   "outputs": [
    {
     "data": {
      "text/html": [
       "<div>\n",
       "<style scoped>\n",
       "    .dataframe tbody tr th:only-of-type {\n",
       "        vertical-align: middle;\n",
       "    }\n",
       "\n",
       "    .dataframe tbody tr th {\n",
       "        vertical-align: top;\n",
       "    }\n",
       "\n",
       "    .dataframe thead th {\n",
       "        text-align: right;\n",
       "    }\n",
       "</style>\n",
       "<table border=\"1\" class=\"dataframe\">\n",
       "  <thead>\n",
       "    <tr style=\"text-align: right;\">\n",
       "      <th></th>\n",
       "      <th>amount_spent_per_room_night_scaled</th>\n",
       "      <th>booking_date</th>\n",
       "      <th>booking_type_code</th>\n",
       "      <th>channel_code</th>\n",
       "      <th>checkin_date</th>\n",
       "      <th>checkout_date</th>\n",
       "      <th>cluster_code</th>\n",
       "      <th>main_product_code</th>\n",
       "      <th>member_age_buckets</th>\n",
       "      <th>memberid</th>\n",
       "      <th>numberofadults</th>\n",
       "      <th>numberofchildren</th>\n",
       "      <th>persontravellingid</th>\n",
       "      <th>reservationstatusid_code</th>\n",
       "      <th>resort_id</th>\n",
       "      <th>resort_region_code</th>\n",
       "      <th>resort_type_code</th>\n",
       "      <th>room_type_booked_code</th>\n",
       "      <th>roomnights</th>\n",
       "      <th>season_holidayed_code</th>\n",
       "      <th>state_code_residence</th>\n",
       "      <th>state_code_resort</th>\n",
       "      <th>total_pax</th>\n",
       "      <th>tr_flag</th>\n",
       "      <th>days_diff</th>\n",
       "      <th>booking_week</th>\n",
       "      <th>booking_month</th>\n",
       "      <th>booking_year</th>\n",
       "      <th>booking_dow</th>\n",
       "      <th>checkin_week</th>\n",
       "      <th>checkin_month</th>\n",
       "      <th>checkin_year</th>\n",
       "      <th>checkin_dow</th>\n",
       "    </tr>\n",
       "  </thead>\n",
       "  <tbody>\n",
       "    <tr>\n",
       "      <th>0</th>\n",
       "      <td>7.706428</td>\n",
       "      <td>2018-04-05</td>\n",
       "      <td>1</td>\n",
       "      <td>3</td>\n",
       "      <td>2018-04-05</td>\n",
       "      <td>2018-04-06</td>\n",
       "      <td>F</td>\n",
       "      <td>1</td>\n",
       "      <td>F</td>\n",
       "      <td>1</td>\n",
       "      <td>2</td>\n",
       "      <td>0</td>\n",
       "      <td>46</td>\n",
       "      <td>C</td>\n",
       "      <td>1</td>\n",
       "      <td>3</td>\n",
       "      <td>3</td>\n",
       "      <td>3</td>\n",
       "      <td>1</td>\n",
       "      <td>2.0</td>\n",
       "      <td>7.0</td>\n",
       "      <td>3</td>\n",
       "      <td>3</td>\n",
       "      <td>1</td>\n",
       "      <td>1</td>\n",
       "      <td>14</td>\n",
       "      <td>4</td>\n",
       "      <td>2018</td>\n",
       "      <td>3</td>\n",
       "      <td>14</td>\n",
       "      <td>4</td>\n",
       "      <td>2018</td>\n",
       "      <td>3</td>\n",
       "    </tr>\n",
       "    <tr>\n",
       "      <th>1</th>\n",
       "      <td>6.662563</td>\n",
       "      <td>2015-01-23</td>\n",
       "      <td>1</td>\n",
       "      <td>1</td>\n",
       "      <td>2015-04-11</td>\n",
       "      <td>2015-04-16</td>\n",
       "      <td>F</td>\n",
       "      <td>1</td>\n",
       "      <td>F</td>\n",
       "      <td>1</td>\n",
       "      <td>2</td>\n",
       "      <td>0</td>\n",
       "      <td>46</td>\n",
       "      <td>A</td>\n",
       "      <td>2</td>\n",
       "      <td>3</td>\n",
       "      <td>3</td>\n",
       "      <td>4</td>\n",
       "      <td>5</td>\n",
       "      <td>2.0</td>\n",
       "      <td>7.0</td>\n",
       "      <td>5</td>\n",
       "      <td>2</td>\n",
       "      <td>1</td>\n",
       "      <td>5</td>\n",
       "      <td>4</td>\n",
       "      <td>1</td>\n",
       "      <td>2015</td>\n",
       "      <td>4</td>\n",
       "      <td>15</td>\n",
       "      <td>4</td>\n",
       "      <td>2015</td>\n",
       "      <td>5</td>\n",
       "    </tr>\n",
       "    <tr>\n",
       "      <th>2</th>\n",
       "      <td>7.871602</td>\n",
       "      <td>2015-01-28</td>\n",
       "      <td>1</td>\n",
       "      <td>1</td>\n",
       "      <td>2015-02-01</td>\n",
       "      <td>2015-02-05</td>\n",
       "      <td>E</td>\n",
       "      <td>1</td>\n",
       "      <td>F</td>\n",
       "      <td>1</td>\n",
       "      <td>2</td>\n",
       "      <td>0</td>\n",
       "      <td>47</td>\n",
       "      <td>A</td>\n",
       "      <td>3</td>\n",
       "      <td>1</td>\n",
       "      <td>5</td>\n",
       "      <td>4</td>\n",
       "      <td>4</td>\n",
       "      <td>2.0</td>\n",
       "      <td>7.0</td>\n",
       "      <td>1</td>\n",
       "      <td>2</td>\n",
       "      <td>1</td>\n",
       "      <td>4</td>\n",
       "      <td>5</td>\n",
       "      <td>1</td>\n",
       "      <td>2015</td>\n",
       "      <td>2</td>\n",
       "      <td>5</td>\n",
       "      <td>2</td>\n",
       "      <td>2015</td>\n",
       "      <td>6</td>\n",
       "    </tr>\n",
       "    <tr>\n",
       "      <th>3</th>\n",
       "      <td>5.344943</td>\n",
       "      <td>2015-05-02</td>\n",
       "      <td>1</td>\n",
       "      <td>1</td>\n",
       "      <td>2015-06-11</td>\n",
       "      <td>2015-06-16</td>\n",
       "      <td>D</td>\n",
       "      <td>1</td>\n",
       "      <td>F</td>\n",
       "      <td>1</td>\n",
       "      <td>2</td>\n",
       "      <td>2</td>\n",
       "      <td>46</td>\n",
       "      <td>A</td>\n",
       "      <td>4</td>\n",
       "      <td>2</td>\n",
       "      <td>2</td>\n",
       "      <td>3</td>\n",
       "      <td>5</td>\n",
       "      <td>2.0</td>\n",
       "      <td>7.0</td>\n",
       "      <td>2</td>\n",
       "      <td>2</td>\n",
       "      <td>1</td>\n",
       "      <td>5</td>\n",
       "      <td>18</td>\n",
       "      <td>5</td>\n",
       "      <td>2015</td>\n",
       "      <td>5</td>\n",
       "      <td>24</td>\n",
       "      <td>6</td>\n",
       "      <td>2015</td>\n",
       "      <td>3</td>\n",
       "    </tr>\n",
       "    <tr>\n",
       "      <th>4</th>\n",
       "      <td>7.059346</td>\n",
       "      <td>2015-09-02</td>\n",
       "      <td>1</td>\n",
       "      <td>1</td>\n",
       "      <td>2015-12-14</td>\n",
       "      <td>2015-12-19</td>\n",
       "      <td>D</td>\n",
       "      <td>1</td>\n",
       "      <td>F</td>\n",
       "      <td>1</td>\n",
       "      <td>2</td>\n",
       "      <td>0</td>\n",
       "      <td>46</td>\n",
       "      <td>A</td>\n",
       "      <td>4</td>\n",
       "      <td>2</td>\n",
       "      <td>2</td>\n",
       "      <td>4</td>\n",
       "      <td>5</td>\n",
       "      <td>2.0</td>\n",
       "      <td>7.0</td>\n",
       "      <td>2</td>\n",
       "      <td>2</td>\n",
       "      <td>1</td>\n",
       "      <td>5</td>\n",
       "      <td>36</td>\n",
       "      <td>9</td>\n",
       "      <td>2015</td>\n",
       "      <td>2</td>\n",
       "      <td>51</td>\n",
       "      <td>12</td>\n",
       "      <td>2015</td>\n",
       "      <td>0</td>\n",
       "    </tr>\n",
       "  </tbody>\n",
       "</table>\n",
       "</div>"
      ],
      "text/plain": [
       "   amount_spent_per_room_night_scaled booking_date  booking_type_code  \\\n",
       "0                            7.706428   2018-04-05                  1   \n",
       "1                            6.662563   2015-01-23                  1   \n",
       "2                            7.871602   2015-01-28                  1   \n",
       "3                            5.344943   2015-05-02                  1   \n",
       "4                            7.059346   2015-09-02                  1   \n",
       "\n",
       "   channel_code checkin_date checkout_date cluster_code  main_product_code  \\\n",
       "0             3   2018-04-05    2018-04-06            F                  1   \n",
       "1             1   2015-04-11    2015-04-16            F                  1   \n",
       "2             1   2015-02-01    2015-02-05            E                  1   \n",
       "3             1   2015-06-11    2015-06-16            D                  1   \n",
       "4             1   2015-12-14    2015-12-19            D                  1   \n",
       "\n",
       "  member_age_buckets  memberid  numberofadults  numberofchildren  \\\n",
       "0                  F         1               2                 0   \n",
       "1                  F         1               2                 0   \n",
       "2                  F         1               2                 0   \n",
       "3                  F         1               2                 2   \n",
       "4                  F         1               2                 0   \n",
       "\n",
       "   persontravellingid reservationstatusid_code  resort_id  resort_region_code  \\\n",
       "0                  46                        C          1                   3   \n",
       "1                  46                        A          2                   3   \n",
       "2                  47                        A          3                   1   \n",
       "3                  46                        A          4                   2   \n",
       "4                  46                        A          4                   2   \n",
       "\n",
       "   resort_type_code  room_type_booked_code  roomnights  season_holidayed_code  \\\n",
       "0                 3                      3           1                    2.0   \n",
       "1                 3                      4           5                    2.0   \n",
       "2                 5                      4           4                    2.0   \n",
       "3                 2                      3           5                    2.0   \n",
       "4                 2                      4           5                    2.0   \n",
       "\n",
       "   state_code_residence  state_code_resort  total_pax  tr_flag  days_diff  \\\n",
       "0                   7.0                  3          3        1          1   \n",
       "1                   7.0                  5          2        1          5   \n",
       "2                   7.0                  1          2        1          4   \n",
       "3                   7.0                  2          2        1          5   \n",
       "4                   7.0                  2          2        1          5   \n",
       "\n",
       "   booking_week  booking_month  booking_year  booking_dow  checkin_week  \\\n",
       "0            14              4          2018            3            14   \n",
       "1             4              1          2015            4            15   \n",
       "2             5              1          2015            2             5   \n",
       "3            18              5          2015            5            24   \n",
       "4            36              9          2015            2            51   \n",
       "\n",
       "   checkin_month  checkin_year  checkin_dow  \n",
       "0              4          2018            3  \n",
       "1              4          2015            5  \n",
       "2              2          2015            6  \n",
       "3              6          2015            3  \n",
       "4             12          2015            0  "
      ]
     },
     "execution_count": 11,
     "metadata": {},
     "output_type": "execute_result"
    }
   ],
   "source": [
    "train_test.head()"
   ]
  },
  {
   "cell_type": "code",
   "execution_count": null,
   "metadata": {},
   "outputs": [],
   "source": []
  },
  {
   "cell_type": "code",
   "execution_count": 12,
   "metadata": {},
   "outputs": [
    {
     "name": "stdout",
     "output_type": "stream",
     "text": [
      "Shape:  (488189, 33)  ==>  (488189, 57)\n"
     ]
    }
   ],
   "source": [
    "print(\"Shape: \", train_test.shape, \" ==> \", end=\" \")\n",
    "\n",
    "gps = train_test.groupby(['memberid','resort_region_code'])['roomnights'].aggregate(['median','count','max'])\n",
    "gps.columns = ['mem_resortRegion_'+col for col in gps.columns]\n",
    "train_test = pd.merge(train_test, gps, on=['memberid','resort_region_code'], how='left')\n",
    "\n",
    "gps = train_test.groupby(['memberid','resort_type_code'])['roomnights'].aggregate(['median','count','max'])\n",
    "gps.columns = ['mem_resortType_'+col for col in gps.columns]\n",
    "train_test = pd.merge(train_test, gps, on=['memberid','resort_type_code'], how='left')\n",
    "\n",
    "gps = train_test.groupby(['memberid','state_code_residence'])['roomnights'].aggregate(['median','count','max'])\n",
    "gps.columns = ['mem_staResidence_'+col for col in gps.columns]\n",
    "train_test = pd.merge(train_test, gps, on=['memberid','state_code_residence'], how='left')\n",
    "\n",
    "gps = train_test.groupby(['memberid','state_code_resort'])['roomnights'].aggregate(['median','count','max'])\n",
    "gps.columns = ['mem_stResort_'+col for col in gps.columns]\n",
    "train_test = pd.merge(train_test, gps, on=['memberid','state_code_resort'], how='left')\n",
    "\n",
    "gps = train_test.groupby(['resort_id','state_code_residence'])['roomnights'].aggregate(['median','count','max'])\n",
    "gps.columns = ['res_staResidence_'+col for col in gps.columns]\n",
    "train_test = pd.merge(train_test, gps, on=['resort_id','state_code_residence'], how='left')\n",
    "\n",
    "gps = train_test.groupby(['resort_id','state_code_resort'])['roomnights'].aggregate(['median','count','max'])\n",
    "gps.columns = ['res_stResort_'+col for col in gps.columns]\n",
    "train_test = pd.merge(train_test, gps, on=['resort_id','state_code_resort'], how='left')\n",
    "\n",
    "\n",
    "gps = train_test.groupby(['resort_id','cluster_code'])['roomnights'].aggregate(['median','count','max'])\n",
    "gps.columns = ['res_cluster_'+col for col in gps.columns]\n",
    "train_test = pd.merge(train_test, gps, on=['resort_id','cluster_code'], how='left')\n",
    "\n",
    "gps = train_test.groupby(['resort_id','resort_type_code'])['roomnights'].aggregate(['median','count','max'])\n",
    "gps.columns = ['res_resortType_'+col for col in gps.columns]\n",
    "train_test = pd.merge(train_test, gps, on=['resort_id','resort_type_code'], how='left')\n",
    "\n",
    "\n",
    "print(train_test.shape)\n"
   ]
  },
  {
   "cell_type": "code",
   "execution_count": 13,
   "metadata": {
    "collapsed": true
   },
   "outputs": [
    {
     "name": "stdout",
     "output_type": "stream",
     "text": [
      "Shape:  (488189, 57)  ==>  (488189, 62)\n"
     ]
    }
   ],
   "source": [
    "print(\"Shape: \", train_test.shape, \" ==> \", end=\" \")\n",
    "\n",
    "gps = train_test.groupby(['days_diff','resort_region_code'])['roomnights'].aggregate(['count'])\n",
    "gps.columns = ['dayDiff_resortRegion_'+col for col in gps.columns]\n",
    "train_test = pd.merge(train_test, gps, on=['days_diff','resort_region_code'], how='left')\n",
    "\n",
    "gps = train_test.groupby(['days_diff','resort_type_code'])['roomnights'].aggregate(['count'])\n",
    "gps.columns = ['dayDiff_resortType_'+col for col in gps.columns]\n",
    "train_test = pd.merge(train_test, gps, on=['days_diff','resort_type_code'], how='left')\n",
    "\n",
    "gps = train_test.groupby(['days_diff','state_code_residence'])['roomnights'].aggregate(['count'])\n",
    "gps.columns = ['dayDiff_staResidence_'+col for col in gps.columns]\n",
    "train_test = pd.merge(train_test, gps, on=['days_diff','state_code_residence'], how='left')\n",
    "\n",
    "gps = train_test.groupby(['days_diff','state_code_resort'])['roomnights'].aggregate(['count'])\n",
    "gps.columns = ['dayDiff_stResort_'+col for col in gps.columns]\n",
    "train_test = pd.merge(train_test, gps, on=['days_diff','state_code_resort'], how='left')\n",
    "\n",
    "\n",
    "gps = train_test.groupby(['days_diff','cluster_code'])['roomnights'].aggregate(['count'])\n",
    "gps.columns = ['dayDiff_cluster_'+col for col in gps.columns]\n",
    "train_test = pd.merge(train_test, gps, on=['days_diff','cluster_code'], how='left')\n",
    "\n",
    "\n",
    "print(train_test.shape)\n"
   ]
  },
  {
   "cell_type": "code",
   "execution_count": 14,
   "metadata": {},
   "outputs": [
    {
     "name": "stdout",
     "output_type": "stream",
     "text": [
      "saved features\n"
     ]
    }
   ],
   "source": [
    "train_test.to_csv('data/train_test.csv', index=False)\n",
    "print(\"saved features\")"
   ]
  },
  {
   "cell_type": "code",
   "execution_count": null,
   "metadata": {},
   "outputs": [],
   "source": []
  }
 ],
 "metadata": {
  "kernelspec": {
   "display_name": "Python 3",
   "language": "python",
   "name": "python3"
  },
  "language_info": {
   "codemirror_mode": {
    "name": "ipython",
    "version": 3
   },
   "file_extension": ".py",
   "mimetype": "text/x-python",
   "name": "python",
   "nbconvert_exporter": "python",
   "pygments_lexer": "ipython3",
   "version": "3.6.8"
  }
 },
 "nbformat": 4,
 "nbformat_minor": 2
}
