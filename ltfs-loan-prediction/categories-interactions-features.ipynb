{
 "cells": [
  {
   "cell_type": "code",
   "execution_count": 1,
   "metadata": {},
   "outputs": [],
   "source": [
    "%matplotlib inline\n",
    "import numpy as np\n",
    "import pandas as pd\n",
    "import matplotlib.pyplot as plt\n",
    "import seaborn as sns\n",
    "from scipy import stats\n",
    "import os, gc\n",
    "# os.listdir()\n"
   ]
  },
  {
   "cell_type": "code",
   "execution_count": 2,
   "metadata": {},
   "outputs": [
    {
     "data": {
      "text/plain": [
       "((224607, 216), (112392, 215))"
      ]
     },
     "execution_count": 2,
     "metadata": {},
     "output_type": "execute_result"
    }
   ],
   "source": [
    "train_df = pd.read_csv('store_data/train_df_save4.csv')\n",
    "test_df  = pd.read_csv('store_data/test_df_save4.csv')\n",
    "sub      = pd.read_csv('sample_submission_24jSKY6.csv')\n",
    "info_df  = pd.read_excel('train_aox2Jxw/Data Dictionary.xlsx')\n",
    "\n",
    "train_df.shape, test_df.shape"
   ]
  },
  {
   "cell_type": "code",
   "execution_count": 3,
   "metadata": {},
   "outputs": [],
   "source": [
    "intersting_cols = ['manufacturer_id','Employment.Type','State_ID','Aadhar_flag','PAN_flag','VoterID_flag',\n",
    "'Driving_flag','Passport_flag','SEC.NO.OF.ACCTS','SEC.ACTIVE.ACCTS','SEC.OVERDUE.ACCTS',\n",
    "'SEC.INSTAL.AMT','NEW.ACCTS.IN.LAST.SIX.MONTHS','DELINQUENT.ACCTS.IN.LAST.SIX.MONTHS',\n",
    "'month_of_birth','credit_hist_year','credit_hist_month','loan_tenure_year','loan_tenure_month',\n",
    "'day_of_disbursal','month_of_disbursal','Bureau_desc','no_of_loans','no_of_acc','no_of_acc_overdue',\n",
    "'diff_of_acc','negative_income','income_status','credit_history','loan_tenure','ltv_round_cat',\n",
    "'no_of_inquiry','state1_max','state1_count','manufac1_max','manufac2_count']"
   ]
  },
  {
   "cell_type": "code",
   "execution_count": 4,
   "metadata": {},
   "outputs": [
    {
     "data": {
      "text/plain": [
       "((224607, 36), (112392, 36))"
      ]
     },
     "execution_count": 4,
     "metadata": {},
     "output_type": "execute_result"
    }
   ],
   "source": [
    "train_df[intersting_cols].shape, test_df[intersting_cols].shape"
   ]
  },
  {
   "cell_type": "code",
   "execution_count": 42,
   "metadata": {},
   "outputs": [
    {
     "data": {
      "text/html": [
       "<div>\n",
       "<style scoped>\n",
       "    .dataframe tbody tr th:only-of-type {\n",
       "        vertical-align: middle;\n",
       "    }\n",
       "\n",
       "    .dataframe tbody tr th {\n",
       "        vertical-align: top;\n",
       "    }\n",
       "\n",
       "    .dataframe thead th {\n",
       "        text-align: right;\n",
       "    }\n",
       "</style>\n",
       "<table border=\"1\" class=\"dataframe\">\n",
       "  <thead>\n",
       "    <tr style=\"text-align: right;\">\n",
       "      <th></th>\n",
       "      <th>UniqueID</th>\n",
       "      <th>loan_default</th>\n",
       "    </tr>\n",
       "  </thead>\n",
       "  <tbody>\n",
       "    <tr>\n",
       "      <th>0</th>\n",
       "      <td>655269</td>\n",
       "      <td>0</td>\n",
       "    </tr>\n",
       "    <tr>\n",
       "      <th>1</th>\n",
       "      <td>723482</td>\n",
       "      <td>0</td>\n",
       "    </tr>\n",
       "    <tr>\n",
       "      <th>2</th>\n",
       "      <td>758529</td>\n",
       "      <td>0</td>\n",
       "    </tr>\n",
       "    <tr>\n",
       "      <th>3</th>\n",
       "      <td>763449</td>\n",
       "      <td>0</td>\n",
       "    </tr>\n",
       "    <tr>\n",
       "      <th>4</th>\n",
       "      <td>708663</td>\n",
       "      <td>0</td>\n",
       "    </tr>\n",
       "    <tr>\n",
       "      <th>5</th>\n",
       "      <td>725530</td>\n",
       "      <td>0</td>\n",
       "    </tr>\n",
       "    <tr>\n",
       "      <th>6</th>\n",
       "      <td>708592</td>\n",
       "      <td>0</td>\n",
       "    </tr>\n",
       "    <tr>\n",
       "      <th>7</th>\n",
       "      <td>714975</td>\n",
       "      <td>0</td>\n",
       "    </tr>\n",
       "    <tr>\n",
       "      <th>8</th>\n",
       "      <td>712795</td>\n",
       "      <td>0</td>\n",
       "    </tr>\n",
       "    <tr>\n",
       "      <th>9</th>\n",
       "      <td>708656</td>\n",
       "      <td>0</td>\n",
       "    </tr>\n",
       "    <tr>\n",
       "      <th>10</th>\n",
       "      <td>712520</td>\n",
       "      <td>0</td>\n",
       "    </tr>\n",
       "    <tr>\n",
       "      <th>11</th>\n",
       "      <td>753695</td>\n",
       "      <td>0</td>\n",
       "    </tr>\n",
       "    <tr>\n",
       "      <th>12</th>\n",
       "      <td>708646</td>\n",
       "      <td>0</td>\n",
       "    </tr>\n",
       "    <tr>\n",
       "      <th>13</th>\n",
       "      <td>730225</td>\n",
       "      <td>0</td>\n",
       "    </tr>\n",
       "    <tr>\n",
       "      <th>14</th>\n",
       "      <td>714877</td>\n",
       "      <td>0</td>\n",
       "    </tr>\n",
       "    <tr>\n",
       "      <th>15</th>\n",
       "      <td>769166</td>\n",
       "      <td>0</td>\n",
       "    </tr>\n",
       "    <tr>\n",
       "      <th>16</th>\n",
       "      <td>710254</td>\n",
       "      <td>0</td>\n",
       "    </tr>\n",
       "    <tr>\n",
       "      <th>17</th>\n",
       "      <td>708812</td>\n",
       "      <td>0</td>\n",
       "    </tr>\n",
       "    <tr>\n",
       "      <th>18</th>\n",
       "      <td>726172</td>\n",
       "      <td>0</td>\n",
       "    </tr>\n",
       "    <tr>\n",
       "      <th>19</th>\n",
       "      <td>716959</td>\n",
       "      <td>0</td>\n",
       "    </tr>\n",
       "    <tr>\n",
       "      <th>20</th>\n",
       "      <td>725935</td>\n",
       "      <td>0</td>\n",
       "    </tr>\n",
       "    <tr>\n",
       "      <th>21</th>\n",
       "      <td>736039</td>\n",
       "      <td>0</td>\n",
       "    </tr>\n",
       "    <tr>\n",
       "      <th>22</th>\n",
       "      <td>748400</td>\n",
       "      <td>0</td>\n",
       "    </tr>\n",
       "    <tr>\n",
       "      <th>23</th>\n",
       "      <td>753652</td>\n",
       "      <td>0</td>\n",
       "    </tr>\n",
       "    <tr>\n",
       "      <th>24</th>\n",
       "      <td>695108</td>\n",
       "      <td>0</td>\n",
       "    </tr>\n",
       "    <tr>\n",
       "      <th>25</th>\n",
       "      <td>695320</td>\n",
       "      <td>0</td>\n",
       "    </tr>\n",
       "    <tr>\n",
       "      <th>26</th>\n",
       "      <td>662145</td>\n",
       "      <td>0</td>\n",
       "    </tr>\n",
       "    <tr>\n",
       "      <th>27</th>\n",
       "      <td>688068</td>\n",
       "      <td>0</td>\n",
       "    </tr>\n",
       "    <tr>\n",
       "      <th>28</th>\n",
       "      <td>662099</td>\n",
       "      <td>0</td>\n",
       "    </tr>\n",
       "    <tr>\n",
       "      <th>29</th>\n",
       "      <td>723985</td>\n",
       "      <td>0</td>\n",
       "    </tr>\n",
       "    <tr>\n",
       "      <th>...</th>\n",
       "      <td>...</td>\n",
       "      <td>...</td>\n",
       "    </tr>\n",
       "    <tr>\n",
       "      <th>112362</th>\n",
       "      <td>752805</td>\n",
       "      <td>0</td>\n",
       "    </tr>\n",
       "    <tr>\n",
       "      <th>112363</th>\n",
       "      <td>717500</td>\n",
       "      <td>0</td>\n",
       "    </tr>\n",
       "    <tr>\n",
       "      <th>112364</th>\n",
       "      <td>724306</td>\n",
       "      <td>0</td>\n",
       "    </tr>\n",
       "    <tr>\n",
       "      <th>112365</th>\n",
       "      <td>711416</td>\n",
       "      <td>0</td>\n",
       "    </tr>\n",
       "    <tr>\n",
       "      <th>112366</th>\n",
       "      <td>748123</td>\n",
       "      <td>0</td>\n",
       "    </tr>\n",
       "    <tr>\n",
       "      <th>112367</th>\n",
       "      <td>693692</td>\n",
       "      <td>0</td>\n",
       "    </tr>\n",
       "    <tr>\n",
       "      <th>112368</th>\n",
       "      <td>755025</td>\n",
       "      <td>0</td>\n",
       "    </tr>\n",
       "    <tr>\n",
       "      <th>112369</th>\n",
       "      <td>736372</td>\n",
       "      <td>0</td>\n",
       "    </tr>\n",
       "    <tr>\n",
       "      <th>112370</th>\n",
       "      <td>742701</td>\n",
       "      <td>0</td>\n",
       "    </tr>\n",
       "    <tr>\n",
       "      <th>112371</th>\n",
       "      <td>693666</td>\n",
       "      <td>0</td>\n",
       "    </tr>\n",
       "    <tr>\n",
       "      <th>112372</th>\n",
       "      <td>756379</td>\n",
       "      <td>0</td>\n",
       "    </tr>\n",
       "    <tr>\n",
       "      <th>112373</th>\n",
       "      <td>684778</td>\n",
       "      <td>0</td>\n",
       "    </tr>\n",
       "    <tr>\n",
       "      <th>112374</th>\n",
       "      <td>764397</td>\n",
       "      <td>0</td>\n",
       "    </tr>\n",
       "    <tr>\n",
       "      <th>112375</th>\n",
       "      <td>755459</td>\n",
       "      <td>0</td>\n",
       "    </tr>\n",
       "    <tr>\n",
       "      <th>112376</th>\n",
       "      <td>703659</td>\n",
       "      <td>0</td>\n",
       "    </tr>\n",
       "    <tr>\n",
       "      <th>112377</th>\n",
       "      <td>760921</td>\n",
       "      <td>0</td>\n",
       "    </tr>\n",
       "    <tr>\n",
       "      <th>112378</th>\n",
       "      <td>670693</td>\n",
       "      <td>0</td>\n",
       "    </tr>\n",
       "    <tr>\n",
       "      <th>112379</th>\n",
       "      <td>741933</td>\n",
       "      <td>0</td>\n",
       "    </tr>\n",
       "    <tr>\n",
       "      <th>112380</th>\n",
       "      <td>742851</td>\n",
       "      <td>0</td>\n",
       "    </tr>\n",
       "    <tr>\n",
       "      <th>112381</th>\n",
       "      <td>699787</td>\n",
       "      <td>0</td>\n",
       "    </tr>\n",
       "    <tr>\n",
       "      <th>112382</th>\n",
       "      <td>669006</td>\n",
       "      <td>0</td>\n",
       "    </tr>\n",
       "    <tr>\n",
       "      <th>112383</th>\n",
       "      <td>708464</td>\n",
       "      <td>0</td>\n",
       "    </tr>\n",
       "    <tr>\n",
       "      <th>112384</th>\n",
       "      <td>762274</td>\n",
       "      <td>0</td>\n",
       "    </tr>\n",
       "    <tr>\n",
       "      <th>112385</th>\n",
       "      <td>767673</td>\n",
       "      <td>0</td>\n",
       "    </tr>\n",
       "    <tr>\n",
       "      <th>112386</th>\n",
       "      <td>743207</td>\n",
       "      <td>0</td>\n",
       "    </tr>\n",
       "    <tr>\n",
       "      <th>112387</th>\n",
       "      <td>755547</td>\n",
       "      <td>0</td>\n",
       "    </tr>\n",
       "    <tr>\n",
       "      <th>112388</th>\n",
       "      <td>716994</td>\n",
       "      <td>0</td>\n",
       "    </tr>\n",
       "    <tr>\n",
       "      <th>112389</th>\n",
       "      <td>709352</td>\n",
       "      <td>0</td>\n",
       "    </tr>\n",
       "    <tr>\n",
       "      <th>112390</th>\n",
       "      <td>699795</td>\n",
       "      <td>0</td>\n",
       "    </tr>\n",
       "    <tr>\n",
       "      <th>112391</th>\n",
       "      <td>755244</td>\n",
       "      <td>0</td>\n",
       "    </tr>\n",
       "  </tbody>\n",
       "</table>\n",
       "<p>112392 rows × 2 columns</p>\n",
       "</div>"
      ],
      "text/plain": [
       "        UniqueID  loan_default\n",
       "0         655269             0\n",
       "1         723482             0\n",
       "2         758529             0\n",
       "3         763449             0\n",
       "4         708663             0\n",
       "5         725530             0\n",
       "6         708592             0\n",
       "7         714975             0\n",
       "8         712795             0\n",
       "9         708656             0\n",
       "10        712520             0\n",
       "11        753695             0\n",
       "12        708646             0\n",
       "13        730225             0\n",
       "14        714877             0\n",
       "15        769166             0\n",
       "16        710254             0\n",
       "17        708812             0\n",
       "18        726172             0\n",
       "19        716959             0\n",
       "20        725935             0\n",
       "21        736039             0\n",
       "22        748400             0\n",
       "23        753652             0\n",
       "24        695108             0\n",
       "25        695320             0\n",
       "26        662145             0\n",
       "27        688068             0\n",
       "28        662099             0\n",
       "29        723985             0\n",
       "...          ...           ...\n",
       "112362    752805             0\n",
       "112363    717500             0\n",
       "112364    724306             0\n",
       "112365    711416             0\n",
       "112366    748123             0\n",
       "112367    693692             0\n",
       "112368    755025             0\n",
       "112369    736372             0\n",
       "112370    742701             0\n",
       "112371    693666             0\n",
       "112372    756379             0\n",
       "112373    684778             0\n",
       "112374    764397             0\n",
       "112375    755459             0\n",
       "112376    703659             0\n",
       "112377    760921             0\n",
       "112378    670693             0\n",
       "112379    741933             0\n",
       "112380    742851             0\n",
       "112381    699787             0\n",
       "112382    669006             0\n",
       "112383    708464             0\n",
       "112384    762274             0\n",
       "112385    767673             0\n",
       "112386    743207             0\n",
       "112387    755547             0\n",
       "112388    716994             0\n",
       "112389    709352             0\n",
       "112390    699795             0\n",
       "112391    755244             0\n",
       "\n",
       "[112392 rows x 2 columns]"
      ]
     },
     "execution_count": 42,
     "metadata": {},
     "output_type": "execute_result"
    }
   ],
   "source": [
    "sub"
   ]
  },
  {
   "cell_type": "code",
   "execution_count": 44,
   "metadata": {},
   "outputs": [],
   "source": [
    "def run_cat_small(file_path, train_df, target, test_df, sub, depth):\n",
    "    \n",
    "    splits = 4\n",
    "    from sklearn.model_selection import KFold, StratifiedKFold\n",
    "    from sklearn.metrics import roc_auc_score\n",
    "    from catboost import Pool, CatBoostClassifier\n",
    "\n",
    "    features = train_df.columns\n",
    "    random_seed = 2019\n",
    "    \n",
    "    model = CatBoostClassifier(loss_function         = \"Logloss\", \n",
    "                               eval_metric           = \"AUC\",\n",
    "                               random_strength       = 1.5,\n",
    "                               border_count          = 128,\n",
    "                               scale_pos_weight      = 3.507,\n",
    "                               depth                 = depth, \n",
    "                               early_stopping_rounds = 50,\n",
    "                               random_seed           = 1337,\n",
    "                               task_type             = 'CPU', \n",
    "    #                            subsample           = 0.7, \n",
    "                               iterations            = 10000, \n",
    "                               learning_rate         = 0.09,\n",
    "                               thread_count          = 4\n",
    "                              )\n",
    "\n",
    "\n",
    "    n_split = splits\n",
    "    kf = StratifiedKFold(n_splits=n_split, shuffle=True, random_state=random_seed)\n",
    "\n",
    "    y_valid_pred = 0 * target\n",
    "    oof_cat = np.zeros(len(train_df))\n",
    "    y_test_pred = 0\n",
    "\n",
    "\n",
    "    for idx, (train_index, valid_index) in enumerate(kf.split(train_df, target)):\n",
    "        y_train, y_valid = target.iloc[train_index], target.iloc[valid_index]\n",
    "        X_train, X_valid = train_df.iloc[train_index,:], train_df.iloc[valid_index,:]\n",
    "        _train = Pool(X_train, label=y_train)#, cat_features=cate_features_index)\n",
    "        _valid = Pool(X_valid, label=y_valid)#, cat_features=cate_features_index)\n",
    "#         print( \"\\nFold \", idx)\n",
    "\n",
    "        fit_model = model.fit(_train, \n",
    "                              eval_set=_valid,\n",
    "                              use_best_model=True,\n",
    "                              verbose=100\n",
    "                             )\n",
    "        pred = fit_model.predict_proba(X_valid)[:,1]\n",
    "        score = roc_auc_score(y_valid, pred)\n",
    "        print( \"  auc = \", score )\n",
    "        print(\"=\"*60)\n",
    "        break\n",
    "        y_test_pred = fit_model.predict_proba(test_df)[:,1]\n",
    "\n",
    "\n",
    "    sub_df = pd.DataFrame({\"ID_code\":sub.UniqueID})\n",
    "    sub_df[\"target\"] = y_test_pred\n",
    "    sub_df.columns = sub.columns\n",
    "\n",
    "\n",
    "    sub_df.to_csv('submission/catboost_{}.csv'.format(file_path), index=None)\n",
    "\n",
    "    cat_imp = pd.DataFrame(data=[fit_model.feature_names_, \n",
    "                                 list(fit_model.feature_importances_)]).T\n",
    "    cat_imp.columns = ['feature','imp']\n",
    "    cat_imp = cat_imp.sort_values(by='imp', ascending=False).head(50)\n",
    "    plt.figure(figsize=(12,15))\n",
    "    plt.barh(cat_imp.feature, cat_imp.imp)\n",
    "    plt.show()\n",
    "    \n",
    "    return score"
   ]
  },
  {
   "cell_type": "code",
   "execution_count": 6,
   "metadata": {},
   "outputs": [
    {
     "data": {
      "text/plain": [
       "((224607, 46), (112392, 46), (224607,))"
      ]
     },
     "execution_count": 6,
     "metadata": {},
     "output_type": "execute_result"
    }
   ],
   "source": [
    "most_imp = ['ltv', 'disbursed_amount', 'year_of_birth','no_of_acc_overdue','month_of_disbursal',\n",
    " 'Employee_code_ID','Current_pincode_ID','State_ID', 'day_of_disbursal','day_of_birth',\n",
    " 'NEW.ACCTS.IN.LAST.SIX.MONTHS','no_of_inquiry','PRI.SANCTIONED.AMOUNT','credit_hist_year',\n",
    " 'DELINQUENT.ACCTS.IN.LAST.SIX.MONTHS','emp_code1_sum','branch1_max','PRIMARY.INSTAL.AMT',\n",
    " 'manufacturer_id','manufac1_max']\n",
    "target = train_df.loan_default\n",
    "train_df = train_df[list(set(intersting_cols + most_imp))]\n",
    "test_df  = test_df[list(set(intersting_cols + most_imp))]\n",
    "train_df.shape, test_df.shape, target.shape"
   ]
  },
  {
   "cell_type": "code",
   "execution_count": 7,
   "metadata": {},
   "outputs": [
    {
     "data": {
      "text/plain": [
       "<matplotlib.axes._subplots.AxesSubplot at 0x7f480f3ee668>"
      ]
     },
     "execution_count": 7,
     "metadata": {},
     "output_type": "execute_result"
    },
    {
     "data": {
      "image/png": "[encoded data removed]",
      "text/plain": [
       "<Figure size 432x288 with 1 Axes>"
      ]
     },
     "metadata": {
      "needs_background": "light"
     },
     "output_type": "display_data"
    }
   ],
   "source": [
    "sns.countplot(target)"
   ]
  },
  {
   "cell_type": "code",
   "execution_count": 26,
   "metadata": {
    "scrolled": false
   },
   "outputs": [
    {
     "name": "stdout",
     "output_type": "stream",
     "text": [
      "0:\ttest: 0.6004245\tbest: 0.6004245 (0)\ttotal: 138ms\tremaining: 23m 2s\n",
      "100:\ttest: 0.6570856\tbest: 0.6570856 (100)\ttotal: 5.77s\tremaining: 9m 25s\n",
      "200:\ttest: 0.6642501\tbest: 0.6642501 (200)\ttotal: 11.5s\tremaining: 9m 20s\n",
      "300:\ttest: 0.6668094\tbest: 0.6668094 (300)\ttotal: 17.1s\tremaining: 9m 10s\n",
      "400:\ttest: 0.6683111\tbest: 0.6683146 (399)\ttotal: 22.7s\tremaining: 9m 4s\n",
      "500:\ttest: 0.6699182\tbest: 0.6699283 (498)\ttotal: 30s\tremaining: 9m 29s\n",
      "600:\ttest: 0.6705393\tbest: 0.6705398 (564)\ttotal: 37s\tremaining: 9m 38s\n",
      "700:\ttest: 0.6709465\tbest: 0.6709465 (700)\ttotal: 43.6s\tremaining: 9m 37s\n",
      "800:\ttest: 0.6712730\tbest: 0.6712730 (800)\ttotal: 49.9s\tremaining: 9m 33s\n",
      "900:\ttest: 0.6714016\tbest: 0.6714421 (889)\ttotal: 56.1s\tremaining: 9m 26s\n",
      "1000:\ttest: 0.6715565\tbest: 0.6716025 (978)\ttotal: 1m 2s\tremaining: 9m 22s\n",
      "Stopped by overfitting detector  (50 iterations wait)\n",
      "\n",
      "bestTest = 0.6716831331\n",
      "bestIteration = 1027\n",
      "\n",
      "Shrink model to first 1028 iterations.\n",
      "  auc =  0.6716831331441636\n",
      "============================================================\n"
     ]
    },
    {
     "data": {
      "image/png": "[encoded data removed]",
      "text/plain": [
       "<Figure size 864x1080 with 1 Axes>"
      ]
     },
     "metadata": {
      "needs_background": "light"
     },
     "output_type": "display_data"
    },
    {
     "data": {
      "text/plain": [
       "0.6716831331441636"
      ]
     },
     "execution_count": 26,
     "metadata": {},
     "output_type": "execute_result"
    }
   ],
   "source": [
    "run_cat_small(train_df, target, 5)"
   ]
  },
  {
   "cell_type": "code",
   "execution_count": null,
   "metadata": {},
   "outputs": [],
   "source": []
  },
  {
   "cell_type": "code",
   "execution_count": 7,
   "metadata": {},
   "outputs": [],
   "source": [
    "# run_cat_small(pd.get_dummies(train_df, columns=intersting_cols, drop_first=True), \n",
    "#               target, 5)"
   ]
  },
  {
   "cell_type": "code",
   "execution_count": 7,
   "metadata": {},
   "outputs": [],
   "source": [
    "train_df_save = train_df.copy()\n",
    "test_df_save  = test_df.copy()"
   ]
  },
  {
   "cell_type": "code",
   "execution_count": 8,
   "metadata": {},
   "outputs": [
    {
     "name": "stdout",
     "output_type": "stream",
     "text": [
      "len of interst cols:  36\n",
      "total combinations:  630\n"
     ]
    }
   ],
   "source": [
    "count = 0\n",
    "print(\"len of interst cols: \", len(intersting_cols))\n",
    "for i in range(len(intersting_cols)-1):\n",
    "#     print(i,\"==>\", end=\" \")\n",
    "    for j in range(i+1,len(intersting_cols)):\n",
    "#         print(j, end=\" \")\n",
    "#     print(\" \")\n",
    "        count += 1\n",
    "    \n",
    "print(\"total combinations: \", count)"
   ]
  },
  {
   "cell_type": "code",
   "execution_count": 9,
   "metadata": {},
   "outputs": [
    {
     "data": {
      "text/plain": [
       "Employment.Type                          0\n",
       "SEC.ACTIVE.ACCTS                         0\n",
       "loan_tenure                              0\n",
       "Driving_flag                             0\n",
       "negative_income                          0\n",
       "Passport_flag                            0\n",
       "Current_pincode_ID                       0\n",
       "SEC.NO.OF.ACCTS                          0\n",
       "credit_hist_year                         0\n",
       "Employee_code_ID                         0\n",
       "credit_history                           0\n",
       "ltv                                      0\n",
       "no_of_acc                                0\n",
       "State_ID                                 0\n",
       "no_of_loans                              0\n",
       "ltv_round_cat                            0\n",
       "month_of_birth                           0\n",
       "no_of_acc_overdue                        0\n",
       "NEW.ACCTS.IN.LAST.SIX.MONTHS             0\n",
       "disbursed_amount                         0\n",
       "state1_max                               0\n",
       "no_of_inquiry                            0\n",
       "income_status                            0\n",
       "DELINQUENT.ACCTS.IN.LAST.SIX.MONTHS      0\n",
       "SEC.INSTAL.AMT                           0\n",
       "loan_tenure_month                        0\n",
       "year_of_birth                            0\n",
       "manufac1_max                            18\n",
       "month_of_disbursal                       0\n",
       "PAN_flag                                 0\n",
       "manufacturer_id                          0\n",
       "Bureau_desc                              0\n",
       "day_of_birth                             0\n",
       "emp_code1_sum                          187\n",
       "diff_of_acc                              0\n",
       "VoterID_flag                             0\n",
       "day_of_disbursal                         0\n",
       "loan_tenure_year                         0\n",
       "branch1_max                              0\n",
       "manufac2_count                          18\n",
       "SEC.OVERDUE.ACCTS                        0\n",
       "credit_hist_month                        0\n",
       "PRIMARY.INSTAL.AMT                       0\n",
       "Aadhar_flag                              0\n",
       "state1_count                             0\n",
       "PRI.SANCTIONED.AMOUNT                    0\n",
       "dtype: int64"
      ]
     },
     "execution_count": 9,
     "metadata": {},
     "output_type": "execute_result"
    }
   ],
   "source": [
    "train_df.isnull().sum()"
   ]
  },
  {
   "cell_type": "code",
   "execution_count": 10,
   "metadata": {
    "scrolled": true
   },
   "outputs": [],
   "source": [
    "train_df.fillna(0, inplace=True)\n",
    "test_df.fillna(0, inplace=True)\n"
   ]
  },
  {
   "cell_type": "code",
   "execution_count": 11,
   "metadata": {},
   "outputs": [
    {
     "data": {
      "text/plain": [
       "Employment.Type                        0\n",
       "SEC.ACTIVE.ACCTS                       0\n",
       "loan_tenure                            0\n",
       "Driving_flag                           0\n",
       "negative_income                        0\n",
       "Passport_flag                          0\n",
       "Current_pincode_ID                     0\n",
       "SEC.NO.OF.ACCTS                        0\n",
       "credit_hist_year                       0\n",
       "Employee_code_ID                       0\n",
       "credit_history                         0\n",
       "ltv                                    0\n",
       "no_of_acc                              0\n",
       "State_ID                               0\n",
       "no_of_loans                            0\n",
       "ltv_round_cat                          0\n",
       "month_of_birth                         0\n",
       "no_of_acc_overdue                      0\n",
       "NEW.ACCTS.IN.LAST.SIX.MONTHS           0\n",
       "disbursed_amount                       0\n",
       "state1_max                             0\n",
       "no_of_inquiry                          0\n",
       "income_status                          0\n",
       "DELINQUENT.ACCTS.IN.LAST.SIX.MONTHS    0\n",
       "SEC.INSTAL.AMT                         0\n",
       "loan_tenure_month                      0\n",
       "year_of_birth                          0\n",
       "manufac1_max                           0\n",
       "month_of_disbursal                     0\n",
       "PAN_flag                               0\n",
       "manufacturer_id                        0\n",
       "Bureau_desc                            0\n",
       "day_of_birth                           0\n",
       "emp_code1_sum                          0\n",
       "diff_of_acc                            0\n",
       "VoterID_flag                           0\n",
       "day_of_disbursal                       0\n",
       "loan_tenure_year                       0\n",
       "branch1_max                            0\n",
       "manufac2_count                         0\n",
       "SEC.OVERDUE.ACCTS                      0\n",
       "credit_hist_month                      0\n",
       "PRIMARY.INSTAL.AMT                     0\n",
       "Aadhar_flag                            0\n",
       "state1_count                           0\n",
       "PRI.SANCTIONED.AMOUNT                  0\n",
       "dtype: int64"
      ]
     },
     "execution_count": 11,
     "metadata": {},
     "output_type": "execute_result"
    }
   ],
   "source": [
    "train_df.isnull().sum()"
   ]
  },
  {
   "cell_type": "code",
   "execution_count": null,
   "metadata": {},
   "outputs": [],
   "source": []
  },
  {
   "cell_type": "code",
   "execution_count": 12,
   "metadata": {},
   "outputs": [
    {
     "name": "stdout",
     "output_type": "stream",
     "text": [
      "[ 45  48  49  51  67  86 120 145 152 153 155 156]\n",
      "[0 1]\n",
      "[ 1  2  3  4  5  6  7  8  9 10 11 12 13 14 15 16 17 18 19 20 21 22]\n",
      "[0 1]\n",
      "[0 1]\n",
      "[0 1]\n",
      "[0 1]\n",
      "[0 1]\n",
      "[ 0  1  2  3  4  5  6  7  8  9 10 11 12 13 14 15 16 19 23 27 29 33 57]\n",
      "[ 0  1  2  3  4  5  6  7  8  9 10 11 12 13 20]\n",
      "[0 1 2 3 4 7 8]\n",
      "[0 1]\n",
      "[0 1 2]\n",
      "[0 1 2]\n",
      "[ 1  2  3  4  5  6  7  8  9 10 11 12]\n",
      "[0 1 2 3 4 5]\n",
      "[ 0  1  2  3  4  5  6  7  8  9 10 11]\n",
      "[0 1 2 3 4 5]\n",
      "[ 0  1  2  3  4  5  6  7  8  9 10 11]\n",
      "[ 8  9 10 11 13 14 15 16 17 18 19 20 21 22 23 24 25 26 27 28 29 30 31]\n",
      "[ 1  2  3  4  5  6  7  8  9 10 11 12]\n",
      "[ 0  1  2  3  4  5  6  7  8  9 10 11 12 13]\n",
      "[0 1 2]\n",
      "[0 1 2 3]\n",
      "[0 1 2]\n",
      "[0 1 2 3 4]\n",
      "[0 1]\n",
      "[0 1 2 3 4 5]\n",
      "[0 1 2 3 4 5 6]\n",
      "[0 1 2 3 4]\n",
      "[ 0  1  2  3  4  5  6  7  8  9 10 11]\n",
      "[0 1 2 3]\n",
      "[102165 105571 109217 112052 115591 125044 125376 126382 127064 127165\n",
      " 127330 128344 128875 128882 128950 129526 129549 129945 129995 130354\n",
      " 130373 130377 130586 131017 131132 131534 131609 131610 131622 131738\n",
      " 131769 131861 132000 132389 132417 132497 132527 132554 132594 132641\n",
      " 132648 132677 132680]\n",
      "[   60    74   121   150   179   234   370   819  1059  1503  1912  2334\n",
      "  2488  3061  3138  3462  3585  3621  3651  3984  4014  4093  4651  4715\n",
      "  4878  5147  5349  5365  5469  5658  6186  6383  8651  9143  9435 11383\n",
      " 13177 14701 15217 16913 24987 31968 32387 42697]\n",
      "[     0. 120809. 121161. 124150. 126257. 126500. 128882. 130586. 130726.\n",
      " 131738. 132000. 132527. 132594. 132641. 132676. 132680.]\n",
      "[0.00000e+00 1.00000e+00 1.07000e+02 3.42000e+02 7.35000e+02 3.76700e+03\n",
      " 4.31400e+03 5.77000e+03 8.28000e+03 9.04200e+03 1.35960e+04 1.50320e+04\n",
      " 2.58650e+04 3.03260e+04 5.14540e+04 5.49730e+04 1.04768e+05]\n"
     ]
    }
   ],
   "source": [
    "# from sklearn.preprocessing import LabelEncoder\n",
    "# le = LabelEncoder()\n",
    "\n",
    "# for col in intersting_cols:\n",
    "#     try:\n",
    "#         le.fit(list(train_df[col]) + list(test_df[col]))\n",
    "#         print(le.classes_)\n",
    "#         train_df[col] = le.transform(train_df[col])\n",
    "#         test_df[col] = le.transform(test_df[col])\n",
    "#     except:\n",
    "#         print(col)\n",
    "\n",
    "    "
   ]
  },
  {
   "cell_type": "code",
   "execution_count": 25,
   "metadata": {},
   "outputs": [],
   "source": [
    "# train_df[intersting_cols] = train_df[intersting_cols].astype('str')\n",
    "# test_df[intersting_cols]  = test_df[intersting_cols].astype('str')\n"
   ]
  },
  {
   "cell_type": "code",
   "execution_count": 26,
   "metadata": {},
   "outputs": [
    {
     "name": "stdout",
     "output_type": "stream",
     "text": [
      "0:\ttest: 0.6079140\tbest: 0.6079140 (0)\ttotal: 102ms\tremaining: 17m\n",
      "100:\ttest: 0.6583891\tbest: 0.6583891 (100)\ttotal: 6.26s\tremaining: 10m 13s\n",
      "200:\ttest: 0.6647523\tbest: 0.6647523 (200)\ttotal: 12.7s\tremaining: 10m 20s\n",
      "300:\ttest: 0.6674027\tbest: 0.6674027 (300)\ttotal: 21.2s\tremaining: 11m 22s\n",
      "400:\ttest: 0.6685113\tbest: 0.6685113 (400)\ttotal: 30.1s\tremaining: 11m 59s\n",
      "500:\ttest: 0.6698318\tbest: 0.6698318 (500)\ttotal: 38.3s\tremaining: 12m 6s\n",
      "600:\ttest: 0.6702170\tbest: 0.6703097 (583)\ttotal: 45.1s\tremaining: 11m 45s\n",
      "700:\ttest: 0.6705758\tbest: 0.6706330 (697)\ttotal: 51s\tremaining: 11m 17s\n",
      "Stopped by overfitting detector  (50 iterations wait)\n",
      "\n",
      "bestTest = 0.6706485423\n",
      "bestIteration = 739\n",
      "\n",
      "Shrink model to first 740 iterations.\n",
      "  auc =  0.6706485422869946\n",
      "============================================================\n"
     ]
    },
    {
     "data": {
      "text/plain": [
       "0.6706485422869946"
      ]
     },
     "execution_count": 26,
     "metadata": {},
     "output_type": "execute_result"
    }
   ],
   "source": [
    "run_cat_small(train_df, target, 5)"
   ]
  },
  {
   "cell_type": "code",
   "execution_count": 14,
   "metadata": {},
   "outputs": [
    {
     "data": {
      "text/plain": [
       "(336999, 36)"
      ]
     },
     "execution_count": 14,
     "metadata": {},
     "output_type": "execute_result"
    }
   ],
   "source": [
    "# test_df[intersting_cols]  = test_df[intersting_cols].astype('str')\n",
    "complete_df = pd.concat([train_df[intersting_cols], test_df[intersting_cols]], \n",
    "                        axis=0).reset_index(drop=True)\n",
    "complete_df.shape"
   ]
  },
  {
   "cell_type": "code",
   "execution_count": null,
   "metadata": {},
   "outputs": [
    {
     "name": "stdout",
     "output_type": "stream",
     "text": [
      "len of interst cols:  36\n",
      "(224607, 46) ==> "
     ]
    }
   ],
   "source": [
    "print(\"len of interst cols: \", len(intersting_cols))\n",
    "\n",
    "print(train_df.shape, \"==>\", end=\" \")\n",
    "for i in range(len(intersting_cols)-1):\n",
    "    col1 = intersting_cols[i]\n",
    "    for j in range(i+1,len(intersting_cols)):\n",
    "        col2 = intersting_cols[j]\n",
    "        train_df[col1+':'+col2] = train_df[col1]+':'+train_df[col2]\n",
    "        test_df[col1+':'+col2]  = test_df[col1]+':'+test_df[col2]\n",
    "        \n",
    "print(train_df.shape)"
   ]
  },
  {
   "cell_type": "code",
   "execution_count": 17,
   "metadata": {
    "scrolled": false
   },
   "outputs": [
    {
     "data": {
      "text/plain": [
       "112333.0"
      ]
     },
     "execution_count": 17,
     "metadata": {},
     "output_type": "execute_result"
    }
   ],
   "source": [
    "336999/3"
   ]
  },
  {
   "cell_type": "code",
   "execution_count": 18,
   "metadata": {},
   "outputs": [
    {
     "name": "stdout",
     "output_type": "stream",
     "text": [
      "<class 'pandas.core.frame.DataFrame'>\n",
      "RangeIndex: 336999 entries, 0 to 336998\n",
      "Data columns (total 36 columns):\n",
      "manufacturer_id                        336999 non-null int64\n",
      "Employment.Type                        336999 non-null int64\n",
      "State_ID                               336999 non-null int64\n",
      "Aadhar_flag                            336999 non-null int64\n",
      "PAN_flag                               336999 non-null int64\n",
      "VoterID_flag                           336999 non-null int64\n",
      "Driving_flag                           336999 non-null int64\n",
      "Passport_flag                          336999 non-null int64\n",
      "SEC.NO.OF.ACCTS                        336999 non-null int64\n",
      "SEC.ACTIVE.ACCTS                       336999 non-null int64\n",
      "SEC.OVERDUE.ACCTS                      336999 non-null int64\n",
      "SEC.INSTAL.AMT                         336999 non-null int64\n",
      "NEW.ACCTS.IN.LAST.SIX.MONTHS           336999 non-null int64\n",
      "DELINQUENT.ACCTS.IN.LAST.SIX.MONTHS    336999 non-null int64\n",
      "month_of_birth                         336999 non-null int64\n",
      "credit_hist_year                       336999 non-null int64\n",
      "credit_hist_month                      336999 non-null int64\n",
      "loan_tenure_year                       336999 non-null int64\n",
      "loan_tenure_month                      336999 non-null int64\n",
      "day_of_disbursal                       336999 non-null int64\n",
      "month_of_disbursal                     336999 non-null int64\n",
      "Bureau_desc                            336999 non-null int64\n",
      "no_of_loans                            336999 non-null int64\n",
      "no_of_acc                              336999 non-null int64\n",
      "no_of_acc_overdue                      336999 non-null int64\n",
      "diff_of_acc                            336999 non-null int64\n",
      "negative_income                        336999 non-null int64\n",
      "income_status                          336999 non-null int64\n",
      "credit_history                         336999 non-null int64\n",
      "loan_tenure                            336999 non-null int64\n",
      "ltv_round_cat                          336999 non-null int64\n",
      "no_of_inquiry                          336999 non-null int64\n",
      "state1_max                             336999 non-null int64\n",
      "state1_count                           336999 non-null int64\n",
      "manufac1_max                           336999 non-null float64\n",
      "manufac2_count                         336999 non-null float64\n",
      "dtypes: float64(2), int64(34)\n",
      "memory usage: 92.6 MB\n"
     ]
    }
   ],
   "source": [
    "complete_df.info()"
   ]
  },
  {
   "cell_type": "code",
   "execution_count": 19,
   "metadata": {},
   "outputs": [
    {
     "name": "stdout",
     "output_type": "stream",
     "text": [
      "<class 'pandas.core.frame.DataFrame'>\n",
      "RangeIndex: 336999 entries, 0 to 336998\n",
      "Data columns (total 36 columns):\n",
      "manufacturer_id                        336999 non-null object\n",
      "Employment.Type                        336999 non-null object\n",
      "State_ID                               336999 non-null object\n",
      "Aadhar_flag                            336999 non-null object\n",
      "PAN_flag                               336999 non-null object\n",
      "VoterID_flag                           336999 non-null object\n",
      "Driving_flag                           336999 non-null object\n",
      "Passport_flag                          336999 non-null object\n",
      "SEC.NO.OF.ACCTS                        336999 non-null object\n",
      "SEC.ACTIVE.ACCTS                       336999 non-null object\n",
      "SEC.OVERDUE.ACCTS                      336999 non-null object\n",
      "SEC.INSTAL.AMT                         336999 non-null object\n",
      "NEW.ACCTS.IN.LAST.SIX.MONTHS           336999 non-null object\n",
      "DELINQUENT.ACCTS.IN.LAST.SIX.MONTHS    336999 non-null object\n",
      "month_of_birth                         336999 non-null object\n",
      "credit_hist_year                       336999 non-null object\n",
      "credit_hist_month                      336999 non-null object\n",
      "loan_tenure_year                       336999 non-null object\n",
      "loan_tenure_month                      336999 non-null object\n",
      "day_of_disbursal                       336999 non-null object\n",
      "month_of_disbursal                     336999 non-null object\n",
      "Bureau_desc                            336999 non-null object\n",
      "no_of_loans                            336999 non-null object\n",
      "no_of_acc                              336999 non-null object\n",
      "no_of_acc_overdue                      336999 non-null object\n",
      "diff_of_acc                            336999 non-null object\n",
      "negative_income                        336999 non-null object\n",
      "income_status                          336999 non-null object\n",
      "credit_history                         336999 non-null object\n",
      "loan_tenure                            336999 non-null object\n",
      "ltv_round_cat                          336999 non-null object\n",
      "no_of_inquiry                          336999 non-null object\n",
      "state1_max                             336999 non-null object\n",
      "state1_count                           336999 non-null object\n",
      "manufac1_max                           336999 non-null object\n",
      "manufac2_count                         336999 non-null object\n",
      "dtypes: object(36)\n",
      "memory usage: 92.6+ MB\n"
     ]
    }
   ],
   "source": [
    "complete_df = complete_df.astype('str')\n",
    "complete_df.info()"
   ]
  },
  {
   "cell_type": "code",
   "execution_count": 26,
   "metadata": {},
   "outputs": [
    {
     "name": "stdout",
     "output_type": "stream",
     "text": [
      "len of interst cols:  36\n",
      "(336999, 35)\n",
      "(336999, 34)\n",
      "(336999, 33)\n",
      "(336999, 32)\n",
      "(336999, 31)\n",
      "(336999, 30)\n",
      "(336999, 29)\n",
      "(336999, 28)\n",
      "(336999, 27)\n",
      "(336999, 26)\n",
      "(336999, 25)\n",
      "(336999, 24)\n",
      "(336999, 23)\n",
      "(336999, 22)\n",
      "(336999, 21)\n",
      "(336999, 20)\n",
      "(336999, 19)\n",
      "(336999, 18)\n",
      "(336999, 17)\n",
      "(336999, 16)\n",
      "(336999, 15)\n",
      "(336999, 14)\n",
      "(336999, 13)\n",
      "(336999, 12)\n",
      "(336999, 11)\n",
      "(336999, 10)\n",
      "(336999, 9)\n",
      "(336999, 8)\n",
      "(336999, 7)\n",
      "(336999, 6)\n",
      "(336999, 5)\n",
      "(336999, 4)\n",
      "(336999, 3)\n",
      "(336999, 2)\n",
      "(336999, 1)\n",
      "(224607, 46)\n"
     ]
    }
   ],
   "source": [
    "print(\"len of interst cols: \", len(intersting_cols))\n",
    "\n",
    "for i in range(len(intersting_cols)-1):\n",
    "    feature_df = pd.DataFrame()\n",
    "    col1 = intersting_cols[i]\n",
    "    for j in range(i+1,len(intersting_cols)):\n",
    "        col2 = intersting_cols[j]\n",
    "        feature_df[col1+':'+col2] = complete_df[col1]+':'+complete_df[col2]\n",
    "    \n",
    "    feature_df.to_csv('store_data/new_feat/cat_inter_2way_'+str(i)+'.csv', index=None)\n",
    "    print(feature_df.shape)\n",
    "    \n",
    "#         train_df[col1+':'+col2] = train_df[col1]+':'+train_df[col2]\n",
    "#         test_df[col1+':'+col2]  = test_df[col1]+':'+test_df[col2]\n",
    "        \n",
    "print(train_df.shape)"
   ]
  },
  {
   "cell_type": "code",
   "execution_count": null,
   "metadata": {},
   "outputs": [],
   "source": [
    "count = 0\n",
    "print(\"len of interst cols: \", len(intersting_cols))\n",
    "for i in range(len(intersting_cols)-2):\n",
    "    print(i,\"==>\", end=\" \")\n",
    "    for j in range(i+1,len(intersting_cols)-1):\n",
    "        print(j, \"==>\", end=\" \")\n",
    "        for k in range(j+1,len(intersting_cols)):\n",
    "            print(k, end=\" \")\n",
    "        \n",
    "        print(\" \")\n",
    "        count += 1\n",
    "    print(\" \")"
   ]
  },
  {
   "cell_type": "code",
   "execution_count": 39,
   "metadata": {},
   "outputs": [
    {
     "name": "stdout",
     "output_type": "stream",
     "text": [
      "len of interst cols:  36\n",
      "done interaction till:  0\n",
      "done interaction till:  1\n",
      "done interaction till:  2\n",
      "done interaction till:  3\n",
      "done interaction till:  4\n",
      "done interaction till:  5\n",
      "done interaction till:  6\n",
      "done interaction till:  7\n",
      "done interaction till:  8\n",
      "done interaction till:  9\n",
      "done interaction till:  10\n",
      "done interaction till:  11\n",
      "done interaction till:  12\n",
      "done interaction till:  13\n",
      "done interaction till:  14\n",
      "done interaction till:  15\n",
      "done interaction till:  16\n",
      "done interaction till:  17\n",
      "done interaction till:  18\n",
      "done interaction till:  19\n",
      "done interaction till:  20\n",
      "done interaction till:  21\n",
      "done interaction till:  22\n",
      "done interaction till:  23\n",
      "done interaction till:  24\n",
      "done interaction till:  25\n",
      "done interaction till:  26\n",
      "done interaction till:  27\n",
      "done interaction till:  28\n",
      "done interaction till:  29\n",
      "done interaction till:  30\n",
      "done interaction till:  31\n",
      "done interaction till:  32\n",
      "done interaction till:  33\n"
     ]
    }
   ],
   "source": [
    "count = 0\n",
    "file_name_3way = []\n",
    "print(\"len of interst cols: \", len(intersting_cols))\n",
    "for i in range(len(intersting_cols)-2):\n",
    "    col1 = intersting_cols[i]\n",
    "\n",
    "    for j in range(i+1,len(intersting_cols)-1):\n",
    "        col2 = intersting_cols[j]\n",
    "\n",
    "        feature_df = pd.DataFrame()\n",
    "        for k in range(j+1,len(intersting_cols)):\n",
    "            col3 = intersting_cols[k]\n",
    "            feature_df[col1+':'+col2+':'+col3] = complete_df[col1]+':'+complete_df[col2]+':'+complete_df[col3]\n",
    "        file_name = 'store_data/new_feat/cat_inter_3way_'+str(i)+'_'+str(j)+'.csv'\n",
    "        feature_df.to_csv(file_name, index=None)\n",
    "        file_name_3way.append(file_name)\n",
    "#         print(feature_df.shape)\n",
    "    \n",
    "    print(\"done interaction till: \",i)"
   ]
  },
  {
   "cell_type": "code",
   "execution_count": 40,
   "metadata": {},
   "outputs": [
    {
     "name": "stdout",
     "output_type": "stream",
     "text": [
      "(224607, 46)\n"
     ]
    }
   ],
   "source": [
    "# print(\"len of interst cols: \", len(intersting_cols))\n",
    "\n",
    "# for i in range(len(intersting_cols)-1):\n",
    "#     feature_df = pd.DataFrame()\n",
    "#     col1 = intersting_cols[i]\n",
    "#     for j in range(i+1,len(intersting_cols)):\n",
    "#         col2 = intersting_cols[j]\n",
    "#         feature_df[col1+':'+col2] = complete_df[col1]+':'+complete_df[col2]\n",
    "    \n",
    "#     feature_df.to_csv('store_data/new_feat/cat_inter_2way_'+str(i)+'.csv', index=None)\n",
    "#     print(feature_df.shape)\n",
    "    \n",
    "#         train_df[col1+':'+col2] = train_df[col1]+':'+train_df[col2]\n",
    "#         test_df[col1+':'+col2]  = test_df[col1]+':'+test_df[col2]\n",
    "        \n",
    "print(train_df.shape)"
   ]
  },
  {
   "cell_type": "code",
   "execution_count": 41,
   "metadata": {},
   "outputs": [
    {
     "name": "stdout",
     "output_type": "stream",
     "text": [
      "0:\ttest: 0.6035075\tbest: 0.6035075 (0)\ttotal: 121ms\tremaining: 20m 8s\n",
      "100:\ttest: 0.6573183\tbest: 0.6573304 (99)\ttotal: 5.78s\tremaining: 9m 26s\n",
      "200:\ttest: 0.6647720\tbest: 0.6647720 (200)\ttotal: 11.4s\tremaining: 9m 16s\n",
      "300:\ttest: 0.6676632\tbest: 0.6676632 (300)\ttotal: 17.8s\tremaining: 9m 32s\n",
      "400:\ttest: 0.6690101\tbest: 0.6690101 (400)\ttotal: 24.7s\tremaining: 9m 50s\n",
      "500:\ttest: 0.6696505\tbest: 0.6696721 (494)\ttotal: 30.3s\tremaining: 9m 35s\n",
      "600:\ttest: 0.6701280\tbest: 0.6701703 (599)\ttotal: 36s\tremaining: 9m 23s\n",
      "700:\ttest: 0.6705661\tbest: 0.6705705 (692)\ttotal: 41.8s\tremaining: 9m 14s\n",
      "800:\ttest: 0.6708708\tbest: 0.6709018 (795)\ttotal: 47.3s\tremaining: 9m 3s\n",
      "900:\ttest: 0.6713203\tbest: 0.6713815 (891)\ttotal: 52.8s\tremaining: 8m 53s\n",
      "1000:\ttest: 0.6716375\tbest: 0.6716513 (998)\ttotal: 58.8s\tremaining: 8m 48s\n",
      "1100:\ttest: 0.6717965\tbest: 0.6718837 (1075)\ttotal: 1m 4s\tremaining: 8m 43s\n",
      "Stopped by overfitting detector  (50 iterations wait)\n",
      "\n",
      "bestTest = 0.6718837426\n",
      "bestIteration = 1075\n",
      "\n",
      "Shrink model to first 1076 iterations.\n",
      "  auc =  0.6718837426039952\n",
      "============================================================\n"
     ]
    },
    {
     "data": {
      "text/plain": [
       "0.6718837426039952"
      ]
     },
     "execution_count": 41,
     "metadata": {},
     "output_type": "execute_result"
    }
   ],
   "source": [
    "run_cat_small(train_df.drop('ltv', axis=1), target, 5)"
   ]
  },
  {
   "cell_type": "code",
   "execution_count": 46,
   "metadata": {},
   "outputs": [
    {
     "name": "stdout",
     "output_type": "stream",
     "text": [
      "0:\ttest: 0.6016205\tbest: 0.6016205 (0)\ttotal: 53.3ms\tremaining: 8m 52s\n",
      "100:\ttest: 0.6583415\tbest: 0.6583415 (100)\ttotal: 6.59s\tremaining: 10m 46s\n",
      "200:\ttest: 0.6652405\tbest: 0.6652405 (200)\ttotal: 12.4s\tremaining: 10m 6s\n",
      "300:\ttest: 0.6678530\tbest: 0.6678623 (298)\ttotal: 18.2s\tremaining: 9m 46s\n",
      "400:\ttest: 0.6693583\tbest: 0.6693705 (399)\ttotal: 23.8s\tremaining: 9m 30s\n",
      "500:\ttest: 0.6699953\tbest: 0.6699953 (500)\ttotal: 29.5s\tremaining: 9m 18s\n",
      "600:\ttest: 0.6704591\tbest: 0.6705027 (586)\ttotal: 35.7s\tremaining: 9m 18s\n",
      "700:\ttest: 0.6708138\tbest: 0.6708138 (700)\ttotal: 41.6s\tremaining: 9m 12s\n",
      "800:\ttest: 0.6711854\tbest: 0.6712912 (776)\ttotal: 47.4s\tremaining: 9m 4s\n",
      "Stopped by overfitting detector  (50 iterations wait)\n",
      "\n",
      "bestTest = 0.6713054267\n",
      "bestIteration = 807\n",
      "\n",
      "Shrink model to first 808 iterations.\n",
      "  auc =  0.6713054267254843\n",
      "============================================================\n"
     ]
    },
    {
     "data": {
      "image/png": "[encoded data removed]",
      "text/plain": [
       "<Figure size 864x1080 with 1 Axes>"
      ]
     },
     "metadata": {
      "needs_background": "light"
     },
     "output_type": "display_data"
    },
    {
     "data": {
      "text/plain": [
       "0.6713054267254843"
      ]
     },
     "execution_count": 46,
     "metadata": {},
     "output_type": "execute_result"
    }
   ],
   "source": [
    "run_cat_small('cat_feat_w_ltv', train_df, target, test_df, sub, 5)\n"
   ]
  },
  {
   "cell_type": "code",
   "execution_count": 47,
   "metadata": {},
   "outputs": [
    {
     "name": "stdout",
     "output_type": "stream",
     "text": [
      "0:\ttest: 0.6035075\tbest: 0.6035075 (0)\ttotal: 57.2ms\tremaining: 9m 32s\n",
      "100:\ttest: 0.6573183\tbest: 0.6573304 (99)\ttotal: 6.26s\tremaining: 10m 13s\n",
      "200:\ttest: 0.6647720\tbest: 0.6647720 (200)\ttotal: 12.2s\tremaining: 9m 55s\n",
      "300:\ttest: 0.6676632\tbest: 0.6676632 (300)\ttotal: 18.7s\tremaining: 10m 1s\n",
      "400:\ttest: 0.6690101\tbest: 0.6690101 (400)\ttotal: 26.6s\tremaining: 10m 37s\n",
      "500:\ttest: 0.6696505\tbest: 0.6696721 (494)\ttotal: 33.5s\tremaining: 10m 35s\n",
      "600:\ttest: 0.6701280\tbest: 0.6701703 (599)\ttotal: 39.7s\tremaining: 10m 20s\n",
      "700:\ttest: 0.6705661\tbest: 0.6705705 (692)\ttotal: 46.3s\tremaining: 10m 14s\n",
      "800:\ttest: 0.6708708\tbest: 0.6709018 (795)\ttotal: 52.5s\tremaining: 10m 2s\n",
      "900:\ttest: 0.6713203\tbest: 0.6713815 (891)\ttotal: 58.6s\tremaining: 9m 51s\n",
      "1000:\ttest: 0.6716375\tbest: 0.6716513 (998)\ttotal: 1m 4s\tremaining: 9m 44s\n",
      "1100:\ttest: 0.6717965\tbest: 0.6718837 (1075)\ttotal: 1m 10s\tremaining: 9m 33s\n",
      "Stopped by overfitting detector  (50 iterations wait)\n",
      "\n",
      "bestTest = 0.6718837426\n",
      "bestIteration = 1075\n",
      "\n",
      "Shrink model to first 1076 iterations.\n",
      "  auc =  0.6718837426039952\n",
      "============================================================\n"
     ]
    },
    {
     "data": {
      "image/png": "[encoded data removed]",
      "text/plain": [
       "<Figure size 864x1080 with 1 Axes>"
      ]
     },
     "metadata": {
      "needs_background": "light"
     },
     "output_type": "display_data"
    },
    {
     "data": {
      "text/plain": [
       "0.6718837426039952"
      ]
     },
     "execution_count": 47,
     "metadata": {},
     "output_type": "execute_result"
    }
   ],
   "source": [
    "run_cat_small('cat_feat_wo_ltv', train_df.drop('ltv', axis=1), target, \n",
    "              test_df.drop('ltv', axis=1), sub, 5)\n"
   ]
  },
  {
   "cell_type": "code",
   "execution_count": null,
   "metadata": {},
   "outputs": [],
   "source": []
  },
  {
   "cell_type": "code",
   "execution_count": null,
   "metadata": {},
   "outputs": [],
   "source": []
  },
  {
   "cell_type": "code",
   "execution_count": null,
   "metadata": {},
   "outputs": [],
   "source": []
  }
 ],
 "metadata": {
  "kernelspec": {
   "display_name": "Python 3",
   "language": "python",
   "name": "python3"
  },
  "language_info": {
   "codemirror_mode": {
    "name": "ipython",
    "version": 3
   },
   "file_extension": ".py",
   "mimetype": "text/x-python",
   "name": "python",
   "nbconvert_exporter": "python",
   "pygments_lexer": "ipython3",
   "version": "3.6.8"
  }
 },
 "nbformat": 4,
 "nbformat_minor": 2
}
