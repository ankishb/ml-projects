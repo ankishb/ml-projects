{
 "cells": [
  {
   "cell_type": "code",
   "execution_count": 1,
   "metadata": {},
   "outputs": [],
   "source": [
    "%matplotlib inline\n",
    "import numpy as np\n",
    "import pandas as pd\n",
    "import matplotlib.pyplot as plt\n",
    "import seaborn as sns\n",
    "from scipy import stats\n",
    "import os, gc\n",
    "# os.listdir()\n"
   ]
  },
  {
   "cell_type": "code",
   "execution_count": 2,
   "metadata": {},
   "outputs": [
    {
     "data": {
      "text/plain": [
       "((233154, 55), (112392, 54))"
      ]
     },
     "execution_count": 2,
     "metadata": {},
     "output_type": "execute_result"
    }
   ],
   "source": [
    "train_df = pd.read_csv('store_data/new_feat/train_df_feat.csv')\n",
    "test_df  = pd.read_csv('store_data/new_feat/test_df_feat.csv')\n",
    "# sub      = pd.read_csv('sample_submission_24jSKY6.csv')\n",
    "# info_df  = pd.read_excel('train_aox2Jxw/Data Dictionary.xlsx')\n",
    "target = train_df['loan_default']\n",
    "train_df.shape, test_df.shape"
   ]
  },
  {
   "cell_type": "code",
   "execution_count": 3,
   "metadata": {},
   "outputs": [
    {
     "data": {
      "text/plain": [
       "(233154, 36)"
      ]
     },
     "execution_count": 3,
     "metadata": {},
     "output_type": "execute_result"
    }
   ],
   "source": [
    "inter_cols = ['disbursed_amount','asset_cost','supplier_id',\n",
    "     'credit_hist_total_month', 'loan_tenure_total_month','PRI.CURRENT.BALANCE',\n",
    "     'PRI.DISBURSED.AMOUNT','manufacturer_id',\n",
    "     'Bureau_desc', 'bureau_score', 'State_ID', 'stat_skew','stat_median','ltv',\n",
    "     'stat_std', 'stat_mean', 'branch_date_disbursed_mean','PRI.SANCTIONED.AMOUNT',\n",
    "     'manufac_date_disbursed_mean','Current_pincode_ID', 'pay_by_yourself',\n",
    "     'no_of_acc_overdue','NO.OF_INQUIRIES', 'DELINQUENT.ACCTS.IN.LAST.SIX.MONTHS']\n",
    "\n",
    "cat = ['credit_hist_total_month', 'branch_date_disbursed_mean',\n",
    "       'asset_cost', 'loan_tenure_total_month',\n",
    "       'state_week_disbursed_mean', 'branch_week_disbursed_mean',\n",
    "       'manufac_week_disbursed_mean', 'Employment.Type', 'stat_std',\n",
    "       'manufac_disbursedDate_mean', 'NO.OF_INQUIRIES', 'age(in years)',\n",
    "       'no_of_acc_overdue', 'PRIMARY.INSTAL.AMT', 'branch_id',\n",
    "       'Bureau_desc', 'pay_by_yourself', 'supplier_id', 'stat_skew',\n",
    "       'branch_disbursed_mean', 'State_ID', 'bureau_score',\n",
    "       'disbursed_amount', 'Current_pincode_ID', 'ltv']\n",
    "\n",
    "xgb = ['PRI.CURRENT.BALANCE', 'pay_by_yourself',\n",
    "       'manufac_week_disbursed_mean', 'loan_tenure_total_month',\n",
    "       'credit_hist_total_month', 'state_week_disbursed_mean', 'State_ID',\n",
    "       'branch_id', 'branch_disbursed_mean',\n",
    "       'manufac_date_disbursed_mean', 'PRIMARY.INSTAL.AMT',\n",
    "       'state_date_disbursed_mean', 'stat_mean', 'bureau_score',\n",
    "       'branch_week_disbursed_mean', 'age(in years)','Employment.Type',\n",
    "       'manufac_disbursedDate_mean', 'stat_std',\n",
    "       'branch_date_disbursed_mean', 'asset_cost', 'stat_skew',\n",
    "       'disbursed_amount', 'supplier_id', 'ltv', 'Current_pincode_ID']\n",
    "\n",
    "lgb = ['loan_tenure_total_month', 'State_ID','age(in month)',\n",
    "       'state_disbursedDate_mean', 'state_week_disbursed_mean',\n",
    "       'PRIMARY.INSTAL.AMT', 'credit_hist_total_month',\n",
    "       'manufac_week_disbursed_mean', 'age(in years)', 'branch_id',\n",
    "       'manufac_date_disbursed_mean', 'state_date_disbursed_mean',\n",
    "       'branch_disbursed_mean', 'stat_std', 'bureau_score', 'stat_mean',\n",
    "       'manufac_disbursedDate_mean', 'branch_week_disbursed_mean',\n",
    "       'branch_date_disbursed_mean', 'asset_cost', 'disbursed_amount',\n",
    "       'stat_skew', 'ltv', 'supplier_id', 'Current_pincode_ID']\n",
    "       \n",
    "drop_cols = ['no_of_acc','new_acc_past_month','Aadhar_flag',\n",
    "    'PAN_flag','SEC.NO.OF.ACCTS','SEC.ACTIVE.ACCTS','SEC.SANCTIONED.AMOUNT',\n",
    "    'SEC.DISBURSED.AMOUNT','SEC.OVERDUE.ACCTS','SEC.CURRENT.BALANCE','SEC.INSTAL.AMT',\n",
    "    'Passport_flag','VoterID_flag']\n",
    "\n",
    "# len(inter_cols), len(lgb), len(cat), len(xgb), len(drop_cols), \\\n",
    "# len(set(lgb + xgb + cat)), len(set(lgb + xgb + cat + inter_cols))\n",
    "# len(set(lgb + xgb + cat))\n",
    "use_cols = list(set(lgb + xgb + cat + inter_cols))\n",
    "train_df[use_cols].shape"
   ]
  },
  {
   "cell_type": "code",
   "execution_count": 4,
   "metadata": {},
   "outputs": [
    {
     "name": "stdout",
     "output_type": "stream",
     "text": [
      "(233154, 36) (112392, 36)\n"
     ]
    },
    {
     "data": {
      "text/plain": [
       "25"
      ]
     },
     "execution_count": 4,
     "metadata": {},
     "output_type": "execute_result"
    }
   ],
   "source": [
    "train_df = train_df[use_cols]\n",
    "test_df  = test_df[use_cols]\n",
    "print(train_df.shape, test_df.shape)\n",
    "gc.collect()"
   ]
  },
  {
   "cell_type": "code",
   "execution_count": 51,
   "metadata": {},
   "outputs": [
    {
     "data": {
      "text/plain": [
       "state_date_disbursed_mean                2292\n",
       "State_ID                                   22\n",
       "PRIMARY.INSTAL.AMT                      34330\n",
       "pay_by_yourself                         15558\n",
       "PRI.CURRENT.BALANCE                     97465\n",
       "manufac_date_disbursed_mean               910\n",
       "branch_id                                  82\n",
       "branch_week_disbursed_mean               1461\n",
       "supplier_id                              3089\n",
       "PRI.DISBURSED.AMOUNT                    65673\n",
       "age(in month)                              49\n",
       "state_disbursedDate_mean                   79\n",
       "NO.OF_INQUIRIES                            26\n",
       "bureau_score                              568\n",
       "no_of_acc_overdue                           5\n",
       "credit_hist_total_month                   307\n",
       "Bureau_desc                                14\n",
       "manufac_disbursedDate_mean                 79\n",
       "Current_pincode_ID                       7096\n",
       "stat_skew                               21010\n",
       "disbursed_amount                        29271\n",
       "Employment.Type                             2\n",
       "branch_disbursed_mean                      72\n",
       "stat_median                            101910\n",
       "age(in years)                              49\n",
       "branch_date_disbursed_mean               8372\n",
       "ltv                                      2058\n",
       "manufacturer_id                            12\n",
       "state_week_disbursed_mean                 263\n",
       "asset_cost                              53158\n",
       "DELINQUENT.ACCTS.IN.LAST.SIX.MONTHS        16\n",
       "stat_mean                              195491\n",
       "PRI.SANCTIONED.AMOUNT                   60681\n",
       "stat_std                               323273\n",
       "loan_tenure_total_month                   200\n",
       "manufac_week_disbursed_mean               161\n",
       "dtype: int64"
      ]
     },
     "execution_count": 51,
     "metadata": {},
     "output_type": "execute_result"
    }
   ],
   "source": [
    "complete_df = pd.concat([train_df, test_df], axis=0)\n",
    "col_to_use = complete_df.columns\n",
    "\n",
    "complete_df.apply(lambda x: pd.Series.value_counts(x).shape[0])"
   ]
  },
  {
   "cell_type": "code",
   "execution_count": 52,
   "metadata": {},
   "outputs": [
    {
     "data": {
      "text/plain": [
       "(31, 31)"
      ]
     },
     "execution_count": 52,
     "metadata": {},
     "output_type": "execute_result"
    }
   ],
   "source": [
    "drop_cols = ['manufac_week_disbursed_mean','branch_date_disbursed_mean',\n",
    "            'manufac_disbursedDate_mean','state_disbursedDate_mean',\n",
    "            'branch_disbursed_mean','Current_pincode_ID',\n",
    "            'manufac_date_disbursed_mean','state_date_disbursed_mean']\n",
    "complete_df.drop('Current_pincode_ID', axis=1, inplace=True)\n",
    "\n",
    "len(set(xgb+lgb+cat)), len(set(xgb+lgb+cat).union(set(drop_cols)))"
   ]
  },
  {
   "cell_type": "code",
   "execution_count": 10,
   "metadata": {
    "scrolled": true
   },
   "outputs": [
    {
     "name": "stdout",
     "output_type": "stream",
     "text": [
      "2  count: ==>  630\n",
      "3  count: ==>  7140\n",
      "total_combinations:  7140\n"
     ]
    }
   ],
   "source": [
    "# Function which returns subset or r length from n \n",
    "from itertools import combinations \n",
    "\n",
    "def rSubset(arr, r): return list(combinations(arr, r)) \n",
    "\n",
    "count_all = 0\n",
    "for r in range(2,4):\n",
    "    print(r, \" count: ==> \", end=\" \")\n",
    "    count = 0\n",
    "    for inter in list(combinations(col_to_use, r)):\n",
    "        new_col_name = \"+\".join(inter)\n",
    "        count_all += 1\n",
    "        count += 1\n",
    "    print(count)\n",
    "print(\"total_combinations: \", count)"
   ]
  },
  {
   "cell_type": "code",
   "execution_count": null,
   "metadata": {},
   "outputs": [],
   "source": []
  },
  {
   "cell_type": "code",
   "execution_count": 12,
   "metadata": {},
   "outputs": [
    {
     "data": {
      "text/plain": [
       "((174865, 36), (58289, 36), (174865,), (58289,))"
      ]
     },
     "execution_count": 12,
     "metadata": {},
     "output_type": "execute_result"
    }
   ],
   "source": [
    "from sklearn.model_selection import train_test_split\n",
    "\n",
    "X_train, X_valid, y_train, y_valid = train_test_split(train_df, target, \n",
    "                                                     random_state=1234, \n",
    "                                                     stratify=target, \n",
    "                                                     test_size=0.25)\n",
    "X_train.shape, X_valid.shape, y_train.shape, y_valid.shape"
   ]
  },
  {
   "cell_type": "code",
   "execution_count": null,
   "metadata": {},
   "outputs": [],
   "source": []
  },
  {
   "cell_type": "code",
   "execution_count": 121,
   "metadata": {},
   "outputs": [],
   "source": [
    "from sklearn.metrics import roc_auc_score\n",
    "from sklearn.ensemble import RandomForestClassifier, RandomForestRegressor\n",
    "\n",
    "def run_rf(X_train, X_valid, y_train, y_valid):\n",
    "\n",
    "    clf = RandomForestClassifier(\n",
    "                            n_estimators = 20, \n",
    "                            criterion = 'gini', \n",
    "#                             max_depth = depth, \n",
    "                            # min_samples_split = 2, \n",
    "                            min_samples_leaf = 3, \n",
    "                            # min_weight_fraction_leaf = 0.0, \n",
    "                            max_features = 0.5, \n",
    "                            # max_leaf_nodes = None, \n",
    "                            # min_impurity_decrease = 0.0, \n",
    "#                                 bootstrap = True, \n",
    "                            oob_score = True, \n",
    "                            n_jobs = 4, \n",
    "                            random_state = 1337, \n",
    "                            verbose = 1, \n",
    "                            class_weight = 'balanced')#3.607)\n",
    "    clf.fit(X_train, y_train)\n",
    "        \n",
    "    valid_pred = clf.predict_proba(X_valid)[:,1]\n",
    "    score = roc_auc_score(y_valid, valid_pred)\n",
    "    print(\"CV score: {:<8.5f}\".format(score))\n",
    "\n",
    "    feat_name = X_train.columns\n",
    "    feat_imp  = clf.feature_importances_\n",
    "\n",
    "    rf_imp = pd.DataFrame(data=[list(feat_name), list(feat_imp)]).T\n",
    "    rf_imp.columns=['feature', 'importance']\n",
    "    rf_imp = rf_imp.sort_values(by='importance', ascending=False).head(20)\n",
    "\n",
    "    return score, clf, rf_imp"
   ]
  },
  {
   "cell_type": "code",
   "execution_count": 44,
   "metadata": {
    "scrolled": true
   },
   "outputs": [
    {
     "name": "stdout",
     "output_type": "stream",
     "text": [
      "0\n",
      "16 == store_data/new_feat/num_inter_2way_16.csv\n",
      "16\n",
      "32 == store_data/new_feat/num_inter_2way_32.csv\n",
      "32\n",
      "48 == store_data/new_feat/num_inter_2way_48.csv\n",
      "48\n",
      "64 == store_data/new_feat/num_inter_2way_64.csv\n",
      "64\n",
      "80 == store_data/new_feat/num_inter_2way_80.csv\n",
      "80\n",
      "96 == store_data/new_feat/num_inter_2way_96.csv\n",
      "96\n",
      "112 == store_data/new_feat/num_inter_2way_112.csv\n",
      "112\n",
      "128 == store_data/new_feat/num_inter_2way_128.csv\n",
      "128\n",
      "144 == store_data/new_feat/num_inter_2way_144.csv\n",
      "144\n",
      "160 == store_data/new_feat/num_inter_2way_160.csv\n",
      "160\n",
      "176 == store_data/new_feat/num_inter_2way_176.csv\n",
      "176\n",
      "192 == store_data/new_feat/num_inter_2way_192.csv\n",
      "192\n",
      "208 == store_data/new_feat/num_inter_2way_208.csv\n",
      "208\n",
      "224 == store_data/new_feat/num_inter_2way_224.csv\n",
      "224\n",
      "240 == store_data/new_feat/num_inter_2way_240.csv\n",
      "240\n",
      "256 == store_data/new_feat/num_inter_2way_256.csv\n",
      "256\n",
      "272 == store_data/new_feat/num_inter_2way_272.csv\n",
      "272\n",
      "288 == store_data/new_feat/num_inter_2way_288.csv\n",
      "288\n",
      "304 == store_data/new_feat/num_inter_2way_304.csv\n",
      "304\n",
      "320 == store_data/new_feat/num_inter_2way_320.csv\n",
      "320\n",
      "336 == store_data/new_feat/num_inter_2way_336.csv\n",
      "336\n",
      "352 == store_data/new_feat/num_inter_2way_352.csv\n",
      "352\n",
      "368 == store_data/new_feat/num_inter_2way_368.csv\n",
      "368\n",
      "384 == store_data/new_feat/num_inter_2way_384.csv\n",
      "384\n",
      "400 == store_data/new_feat/num_inter_2way_400.csv\n",
      "400\n",
      "416 == store_data/new_feat/num_inter_2way_416.csv\n",
      "416\n",
      "432 == store_data/new_feat/num_inter_2way_432.csv\n",
      "432\n",
      "448 == store_data/new_feat/num_inter_2way_448.csv\n",
      "448\n",
      "464 == store_data/new_feat/num_inter_2way_464.csv\n",
      "464\n",
      "480 == store_data/new_feat/num_inter_2way_480.csv\n",
      "480\n",
      "496 == store_data/new_feat/num_inter_2way_496.csv\n",
      "496\n",
      "512 == store_data/new_feat/num_inter_2way_512.csv\n",
      "512\n",
      "528 == store_data/new_feat/num_inter_2way_528.csv\n",
      "528\n",
      "544 == store_data/new_feat/num_inter_2way_544.csv\n",
      "544\n",
      "560 == store_data/new_feat/num_inter_2way_560.csv\n",
      "560\n",
      "576 == store_data/new_feat/num_inter_2way_576.csv\n",
      "576\n",
      "592 == store_data/new_feat/num_inter_2way_592.csv\n",
      "592\n",
      "608 == store_data/new_feat/num_inter_2way_608.csv\n",
      "608\n",
      "624 == store_data/new_feat/num_inter_2way_624.csv\n",
      "624\n",
      "629 == store_data/new_feat/num_inter_2way_629.csv\n",
      "630\n"
     ]
    }
   ],
   "source": [
    "count = 0\n",
    "for idx,inter in enumerate(list(combinations(col_to_use, 2))):\n",
    "    if idx%16 == 0:\n",
    "        if idx != 0:\n",
    "            print(idx, \"==\", end=\" \")\n",
    "            file_name = 'store_data/new_feat/num_inter_2way_'+str(idx)+'.csv'\n",
    "            print(file_name)\n",
    "        feature_df = pd.DataFrame()\n",
    "        print(idx)\n",
    "    new_col_name1 = \"+\".join(inter)\n",
    "    new_col_name2 = \"-\".join(inter)\n",
    "    new_col_name3 = \"*\".join(inter)\n",
    "    new_col_name4 = \"/\".join(inter)+'_pre'\n",
    "    new_col_name5 = \"/\".join(inter)+'_post'\n",
    "    \n",
    "#     file_name = 'store_data/new_feat/num_inter_2way_'+str(idx)+'.csv'\n",
    "#     print(file_name)\n",
    "    count += 1\n",
    "file_name = 'store_data/new_feat/num_inter_2way_'+str(idx)+'.csv'\n",
    "print(idx, \"==\", end=\" \")\n",
    "print(file_name)\n",
    "\n",
    "print(count)"
   ]
  },
  {
   "cell_type": "code",
   "execution_count": 127,
   "metadata": {
    "collapsed": true
   },
   "outputs": [
    {
     "name": "stdout",
     "output_type": "stream",
     "text": [
      "0\n",
      "16 == store_data/new_feat/num_inter_3way_16.csv\n",
      "16\n",
      "32 == store_data/new_feat/num_inter_3way_32.csv\n",
      "32\n",
      "48 == store_data/new_feat/num_inter_3way_48.csv\n",
      "48\n",
      "64 == store_data/new_feat/num_inter_3way_64.csv\n",
      "64\n",
      "80 == store_data/new_feat/num_inter_3way_80.csv\n",
      "80\n",
      "96 == store_data/new_feat/num_inter_3way_96.csv\n",
      "96\n",
      "112 == store_data/new_feat/num_inter_3way_112.csv\n",
      "112\n",
      "128 == store_data/new_feat/num_inter_3way_128.csv\n",
      "128\n",
      "144 == store_data/new_feat/num_inter_3way_144.csv\n",
      "144\n",
      "160 == store_data/new_feat/num_inter_3way_160.csv\n",
      "160\n",
      "176 == store_data/new_feat/num_inter_3way_176.csv\n",
      "176\n",
      "192 == store_data/new_feat/num_inter_3way_192.csv\n",
      "192\n",
      "208 == store_data/new_feat/num_inter_3way_208.csv\n",
      "208\n",
      "224 == store_data/new_feat/num_inter_3way_224.csv\n",
      "224\n",
      "240 == store_data/new_feat/num_inter_3way_240.csv\n",
      "240\n",
      "256 == store_data/new_feat/num_inter_3way_256.csv\n",
      "256\n",
      "272 == store_data/new_feat/num_inter_3way_272.csv\n",
      "272\n",
      "285 == store_data/new_feat/num_inter_3way_285.csv\n",
      "286\n"
     ]
    }
   ],
   "source": [
    "count = 0\n",
    "for idx,inter in enumerate(list(combinations(int_cols, 3))):\n",
    "    if idx%16 == 0:\n",
    "        if idx != 0:\n",
    "            print(idx, \"==\", end=\" \")\n",
    "            file_name = 'store_data/new_feat/num_inter_3way_'+str(idx)+'.csv'\n",
    "            print(file_name)\n",
    "        feature_df = pd.DataFrame()\n",
    "        print(idx)\n",
    "    new_col_name1 = \"+\".join(inter)\n",
    "    new_col_name2 = \"-\".join(inter)\n",
    "    new_col_name3 = \"*\".join(inter)\n",
    "    new_col_name4 = \"/\".join(inter)+'_pre'\n",
    "    new_col_name5 = \"/\".join(inter)+'_post'\n",
    "    \n",
    "#     file_name = 'store_data/new_feat/num_inter_2way_'+str(idx)+'.csv'\n",
    "#     print(file_name)\n",
    "    count += 1\n",
    "file_name = 'store_data/new_feat/num_inter_3way_'+str(idx)+'.csv'\n",
    "print(idx, \"==\", end=\" \")\n",
    "print(file_name)\n",
    "\n",
    "print(count)"
   ]
  },
  {
   "cell_type": "code",
   "execution_count": 133,
   "metadata": {},
   "outputs": [
    {
     "data": {
      "text/plain": [
       "0"
      ]
     },
     "execution_count": 133,
     "metadata": {},
     "output_type": "execute_result"
    }
   ],
   "source": [
    "del train_df1, test_df1\n",
    "gc.collect()"
   ]
  },
  {
   "cell_type": "code",
   "execution_count": null,
   "metadata": {},
   "outputs": [],
   "source": []
  },
  {
   "cell_type": "code",
   "execution_count": 24,
   "metadata": {},
   "outputs": [
    {
     "data": {
      "text/plain": [
       "((174865, 116), (174865, 36))"
      ]
     },
     "execution_count": 24,
     "metadata": {},
     "output_type": "execute_result"
    }
   ],
   "source": [
    "pd.concat([X_train.reset_index(drop=True), \n",
    "           feature_df.iloc[:X_train.shape[0],:].reset_index(drop=True)], axis=1).shape, X_train.shape"
   ]
  },
  {
   "cell_type": "code",
   "execution_count": 53,
   "metadata": {
    "collapsed": true
   },
   "outputs": [
    {
     "data": {
      "text/plain": [
       "state_date_disbursed_mean              1.133757e+05\n",
       "State_ID                               2.200000e+01\n",
       "PRIMARY.INSTAL.AMT                     8.526233e+07\n",
       "pay_by_yourself                        5.000000e+07\n",
       "PRI.CURRENT.BALANCE                    9.652492e+07\n",
       "manufac_date_disbursed_mean            9.905720e+05\n",
       "branch_id                              2.610000e+02\n",
       "branch_week_disbursed_mean             7.871534e+04\n",
       "supplier_id                            2.490100e+04\n",
       "PRI.DISBURSED.AMOUNT                   1.000000e+09\n",
       "age(in month)                          6.900000e+01\n",
       "state_disbursedDate_mean               6.067000e+04\n",
       "NO.OF_INQUIRIES                        3.600000e+01\n",
       "bureau_score                           8.900000e+02\n",
       "no_of_acc_overdue                      4.000000e+00\n",
       "credit_hist_total_month                4.680000e+02\n",
       "Bureau_desc                            1.300000e+01\n",
       "manufac_disbursedDate_mean             6.067000e+04\n",
       "stat_skew                              2.450000e+00\n",
       "disbursed_amount                       9.905720e+05\n",
       "Employment.Type                        1.000000e+00\n",
       "branch_disbursed_mean                  6.400000e+04\n",
       "stat_median                            4.839143e+07\n",
       "age(in years)                          6.900000e+01\n",
       "branch_date_disbursed_mean             1.589970e+05\n",
       "ltv                                    9.500000e+01\n",
       "manufacturer_id                        1.560000e+02\n",
       "state_week_disbursed_mean              6.266000e+04\n",
       "asset_cost                             1.628992e+06\n",
       "DELINQUENT.ACCTS.IN.LAST.SIX.MONTHS    2.000000e+01\n",
       "stat_mean                              3.333616e+08\n",
       "PRI.SANCTIONED.AMOUNT                  1.000000e+09\n",
       "stat_std                               5.163759e+08\n",
       "loan_tenure_total_month                3.690000e+02\n",
       "manufac_week_disbursed_mean            9.905720e+05\n",
       "dtype: float64"
      ]
     },
     "execution_count": 53,
     "metadata": {},
     "output_type": "execute_result"
    }
   ],
   "source": [
    "# big_values = list(complete_df.max()[complete_df.max().values > 1000].index)\n",
    "# complete_df[big_values] = complete_df[big_values]/100000\n",
    "complete_df.max()"
   ]
  },
  {
   "cell_type": "code",
   "execution_count": 56,
   "metadata": {
    "scrolled": true
   },
   "outputs": [
    {
     "data": {
      "text/plain": [
       "state_date_disbursed_mean                2292\n",
       "State_ID                                   22\n",
       "PRIMARY.INSTAL.AMT                      34330\n",
       "pay_by_yourself                         15558\n",
       "PRI.CURRENT.BALANCE                     97465\n",
       "manufac_date_disbursed_mean               910\n",
       "branch_id                                  82\n",
       "branch_week_disbursed_mean               1461\n",
       "supplier_id                              3089\n",
       "PRI.DISBURSED.AMOUNT                    65673\n",
       "age(in month)                              49\n",
       "state_disbursedDate_mean                   79\n",
       "NO.OF_INQUIRIES                            26\n",
       "bureau_score                              568\n",
       "no_of_acc_overdue                           5\n",
       "credit_hist_total_month                   307\n",
       "Bureau_desc                                14\n",
       "manufac_disbursedDate_mean                 79\n",
       "stat_skew                               21010\n",
       "disbursed_amount                        29271\n",
       "Employment.Type                             2\n",
       "branch_disbursed_mean                      72\n",
       "stat_median                            101910\n",
       "age(in years)                              49\n",
       "branch_date_disbursed_mean               8372\n",
       "ltv                                      2058\n",
       "manufacturer_id                            12\n",
       "state_week_disbursed_mean                 263\n",
       "asset_cost                              53158\n",
       "DELINQUENT.ACCTS.IN.LAST.SIX.MONTHS        16\n",
       "stat_mean                              195491\n",
       "PRI.SANCTIONED.AMOUNT                   60681\n",
       "stat_std                               323273\n",
       "loan_tenure_total_month                   200\n",
       "manufac_week_disbursed_mean               161\n",
       "dtype: int64"
      ]
     },
     "execution_count": 56,
     "metadata": {},
     "output_type": "execute_result"
    }
   ],
   "source": [
    "complete_df.apply(lambda x: pd.Series.value_counts(x).shape[0])"
   ]
  },
  {
   "cell_type": "code",
   "execution_count": 60,
   "metadata": {},
   "outputs": [],
   "source": [
    "col_to_use = complete_df.columns"
   ]
  },
  {
   "cell_type": "code",
   "execution_count": 63,
   "metadata": {},
   "outputs": [
    {
     "name": "stdout",
     "output_type": "stream",
     "text": [
      "=== state_date_disbursed_mean\n",
      "State_ID  == [ 6  4  3  9  5 10 18 15  1 16 13 14 17  2 11  7 12  8 20 19 22 21]\n",
      "=== PRIMARY.INSTAL.AMT\n",
      "=== pay_by_yourself\n",
      "=== PRI.CURRENT.BALANCE\n",
      "=== manufac_date_disbursed_mean\n",
      "branch_id  == [ 67  78  34 130  74  11   5  20  63  48  79   3  42 142  36  16 146 147\n",
      "  65   9   1 152  29  10  70  19   7  85  61  17   8 153  18 162  68  72\n",
      "  64   2 160 251 103 104 120 136  77  13 138 135  73 248  15 165  62  76\n",
      " 105 249 250 255 254  82 158 159 117 202 259 207  35  69  97  43 257 258\n",
      " 260 111  66 261 101  14 121 217  84 100]\n",
      "=== branch_week_disbursed_mean\n",
      "=== supplier_id\n",
      "=== PRI.DISBURSED.AMOUNT\n",
      "age(in month)  == [34 33 32 24 41 28 30 29 26 50 39 44 45 42 35 38 40 49 52 22 25 27 21 36\n",
      " 47 23 54 46 51 48 20 19 43 37 31 56 53 61 55 58 63 59 60 62 57 18 64 17\n",
      " 69]\n",
      "state_disbursedDate_mean  == [51740. 55260. 51420. 56420. 54620. 54700. 54370. 52740. 52640. 51520.\n",
      " 55420. 54600. 54560. 52400. 57540. 55600. 52000. 57000. 54100. 53470.\n",
      " 56100. 51840. 57200. 56260. 56480. 54530. 53800. 51100. 51550. 56700.\n",
      " 56160. 51400. 55650. 56000. 54200. 55900. 51200. 54500. 56580. 53120.\n",
      " 51230. 56060. 51460. 54980. 56320. 52220. 51620. 52960. 51170. 56740.\n",
      " 51330. 51600. 56350. 56670. 54270. 53570. 51360. 54940. 51970. 55700.\n",
      " 53820. 57570. 53500. 56830. 55400. 55550. 57440. 56220. 55800. 55870.\n",
      " 55740. 55330. 56800. 56860. 55940. 55360. 58100. 57760. 60670.]\n",
      "NO.OF_INQUIRIES  == [ 0  1  4  2  3  5  6 12  9  8 18  7 19 11 10 15 14 17 20 13 23 28 16 22\n",
      " 36 21]\n",
      "=== bureau_score\n",
      "no_of_acc_overdue  == [0 1 3 2 4]\n",
      "=== credit_hist_total_month\n",
      "Bureau_desc  == [13  8 11  0  3 12  1  2  4  7  5 10  6  9]\n",
      "manufac_disbursedDate_mean  == [51740. 55260. 51420. 56420. 54620. 54700. 54370. 52740. 52640. 51520.\n",
      " 55420. 54600. 54560. 52400. 57540. 55600. 52000. 57000. 54100. 53470.\n",
      " 56100. 51840. 57200. 56260. 56480. 54530. 53800. 51100. 51550. 56700.\n",
      " 56160. 51400. 55650. 56000. 54200. 55900. 51200. 54500. 56580. 53120.\n",
      " 51230. 56060. 51460. 54980. 56320. 52220. 51620. 52960. 51170. 56740.\n",
      " 51330. 51600. 56350. 56670. 54270. 53570. 51360. 54940. 51970. 55700.\n",
      " 53820. 57570. 53500. 56830. 55400. 55550. 57440. 56220. 55800. 55870.\n",
      " 55740. 55330. 56800. 56860. 55940. 55360. 58100. 57760. 60670.]\n",
      "=== stat_skew\n",
      "=== disbursed_amount\n",
      "Employment.Type  == [0 1]\n",
      "branch_disbursed_mean  == [52480. 53950. 52350. 51230. 55740. 55550. 52030. 50530. 52960. 51680.\n",
      " 49540. 52740. 56480. 56220. 56740. 52800. 53280. 54080. 57860. 56450.\n",
      " 60740. 53800. 52600. 55800. 55940. 54980. 53470. 54100. 52580. 51000.\n",
      " 53630. 57800. 48450. 51260. 62200. 51550. 55230. 58430. 50850. 57950.\n",
      " 56830. 57820. 61920. 53120. 64000. 51700. 55330. 58200. 50020. 59000.\n",
      " 56770. 58600. 58800. 59550. 61470. 55700. 61340. 50900. 45540. 59140.\n",
      " 50370. 57020. 49100. 55600. 60260. 54720. 57760. 48160. 60130. 55040.\n",
      " 52860. 51140.]\n",
      "=== stat_median\n",
      "age(in years)  == [34 33 32 24 41 28 30 29 26 50 39 44 45 42 35 38 40 49 52 22 25 27 21 36\n",
      " 47 23 54 46 51 48 20 19 43 37 31 56 53 61 55 58 63 59 60 62 57 18 64 17\n",
      " 69]\n",
      "=== branch_date_disbursed_mean\n",
      "=== ltv\n",
      "manufacturer_id  == [ 45  86  48  51 120  49 145  67 153 156 152 155]\n",
      "state_week_disbursed_mean  == [49440. 52130. 52930. 51900. 51300. 49730. 48800. 53060. 52900. 49200.\n",
      " 49400. 53600. 49380. 51870. 57380. 59460. 56000. 53950. 54140. 57950.\n",
      " 58620. 57340. 58140. 58980. 58660. 53980. 54530. 54600. 54560. 51200.\n",
      " 57900. 57020. 57180. 55070. 52030. 52740. 53860. 56700. 51360. 53150.\n",
      " 51040. 53100. 53220. 52350. 49500. 49920. 53470. 55400. 49000. 49280.\n",
      " 54900. 54000. 54200. 52320. 53020. 52580. 50430. 48540. 47650. 52300.\n",
      " 48960. 51620. 48770. 53250. 48500. 53200. 53760. 48100. 49660. 50600.\n",
      " 47550. 48450. 53340. 54800. 51070. 47260. 46750. 44580. 51100. 48860.\n",
      " 45280. 45730. 51230. 46800. 50530. 50100. 50850. 45020. 46850. 50980.\n",
      " 46940. 45220. 50940. 49860. 48200. 51650. 46900. 51140. 47300. 43870.\n",
      " 54340. 50560. 56450. 47840. 47940. 49760. 51460. 53000. 48030. 57700.\n",
      " 56540. 53440. 57280. 55170. 56830. 55300. 53280. 57250. 53660. 58100.\n",
      " 58850. 53400. 58780. 57440. 57120. 56260. 56100. 52670. 56220. 57060.\n",
      " 52220. 58020. 55900. 58400. 55940. 52100. 54430. 54100. 47040. 49150.\n",
      " 51740. 52540. 48220. 54270. 51780. 47800. 52640. 51170. 53500. 48480.\n",
      " 53920. 52160. 47680. 50370. 56740. 58200. 57860. 55700. 55650. 57660.\n",
      " 57800. 52830. 54750. 58600. 57200. 59040. 57300. 51940. 56130. 56580.\n",
      " 60260. 59070. 50900. 49600. 50750. 46370. 45920. 48060. 59680. 60740.\n",
      " 60350. 60100. 58080. 55360. 56300. 55840. 55140. 59970. 55420. 57150.\n",
      " 49020. 45660. 59420. 47970. 56500. 60030. 59600. 61660. 61380. 54820.\n",
      " 62340. 59900. 62660. 60900. 55200. 50620. 41950. 47200. 46460. 55580.\n",
      " 51260. 47580. 50700. 49700. 45120. 56060. 47700. 47420. 48160. 48350.\n",
      " 44540. 45760. 45380. 53120. 59650. 58940. 59500. 59940. 56670. 53730.\n",
      " 54080. 51500. 50340. 50800. 51970. 52060. 52200. 54050. 54980. 56900.\n",
      " 56860. 57600. 58050. 57760. 56800. 54940. 54240. 53700. 59840. 58270.\n",
      " 51420. 52380. 60300. 59870. 60400. 61100. 55260. 60540. 61630. 60450.\n",
      " 53630. 48420. 55330.]\n",
      "=== asset_cost\n",
      "DELINQUENT.ACCTS.IN.LAST.SIX.MONTHS  == [ 0  1  2  3  5  4  7  6  8  9 12 10 20 11 18 16]\n",
      "=== stat_mean\n",
      "=== PRI.SANCTIONED.AMOUNT\n",
      "=== stat_std\n",
      "loan_tenure_total_month  == [  0  23   8  21   2  56  19   7  25  15  12  47   1  30  22  11   6  33\n",
      "  37  24   4  13   5  34  45  14 154  10  18  29  44  27  17  32   9  36\n",
      "  87  52  16   3  20  40  41  55  31  28  46  66  26  39  48  58 118  60\n",
      "  61  59  74 123  83  54  53  80  77  63  49  42  51  43  38  84  62  95\n",
      "  65  57 119  89  35 120  72  69  50 139  81  75 129  90  96 147  97  93\n",
      "  70  64 101 136  79  71  76  78 115  67 104  68 122 105 128 144 116  98\n",
      " 166  94  92 117 110 100 131 132 140 109 121  82 134 142 124 156 164 130\n",
      " 138 127  91 108 157  88  73 133 175  99  85 103 114  86 112 171 143 113\n",
      " 102 135 106 111 153 151 173 150 169 161 191 126 163 162 176 369 141 183\n",
      " 107 227 182 185 125 292 167 159 168 155 195 214 203 146 148 180 149 137\n",
      " 145 270 158 184 160 179 170 192 197 199 174 188 177 194 181 310 201 152\n",
      " 172 165]\n",
      "manufac_week_disbursed_mean  == [ 46057.863  50363.816  51074.11   49758.145  49004.832  47554.613\n",
      "  46299.01   51405.492  50761.67   56289.387  46309.805  54741.426\n",
      "  46102.78   51123.38   46142.22   50109.844  51556.562  54889.71\n",
      "  55433.832  55766.14   55749.883  54641.02   57534.9    51823.508\n",
      "  51859.062  56236.1    53102.023  51946.254  52682.984  52323.953\n",
      "  55059.977  51674.785  50804.906  61060.523  62148.324  56229.52\n",
      "  58345.598  51450.816  55792.914  54823.01   58103.29   57459.277\n",
      "  54356.27   56142.82   56925.156  53289.754  60199.64   62797.676\n",
      "  55292.93   52746.3    62580.98   63348.324  58312.33   62929.55\n",
      "  57498.793  60238.363  94036.664  56475.055 100492.14   59934.445\n",
      "  69267.35   66561.32   54619.04   50663.957  54605.848  57603.5\n",
      "  62387.95   49673.74   62162.344  56116.8    55438.004  58862.715\n",
      "  57288.98   57514.887  59385.22   58311.9    58980.414  60214.61\n",
      "  60600.016  63633.047  97545.1    95868.91   60834.95   62674.367\n",
      "  55607.945  58387.06   62142.918  57527.793  96844.39   57125.984\n",
      "  54548.652  99192.66   63731.58   69409.21   65957.41   61109.883\n",
      "  64807.375 101025.84   59832.875  60176.277  55221.855 102135.93\n",
      "  97910.55   58620.926  93992.6    99462.58   95420.12   63614.617\n",
      "  96478.51   94169.5    93058.5    68073.21   66695.15  987354.\n",
      "  92375.     92296.5    82252.    368454.    990572.    318533.\n",
      " 237779.     87719.     50753.242  56219.03   51040.145  50770.01\n",
      "  56890.637  55719.484  56509.285  55947.414  56180.055  63402.9\n",
      "  61984.777  62439.867  51247.902  65292.52   71726.6    65195.91\n",
      "  56208.258  64255.94   58409.246  61286.043  63825.18   60854.83\n",
      "  61447.816 104007.36  103026.32   69119.484 102499.35   60885.582\n",
      "  61467.51   65762.85  102642.98   68231.664 113263.5    97682.\n",
      "  93669.664 135865.     92456.    601399.5   593738.   ]\n"
     ]
    }
   ],
   "source": [
    "cols_to_change = []\n",
    "for col in col_to_use:\n",
    "    n_unique = complete_df[col].unique()\n",
    "    if len(n_unique) < 300:\n",
    "        print(col ,\" ==\" ,n_unique)\n",
    "    else:\n",
    "        print(\"===\", col)\n",
    "        cols_to_change.append(col)"
   ]
  },
  {
   "cell_type": "code",
   "execution_count": 64,
   "metadata": {},
   "outputs": [
    {
     "data": {
      "text/plain": [
       "24"
      ]
     },
     "execution_count": 64,
     "metadata": {},
     "output_type": "execute_result"
    }
   ],
   "source": [
    "cols_to_change.append('manufac_week_disbursed_mean')\n",
    "cols_to_change.append('state_week_disbursed_mean')\n",
    "cols_to_change.append('branch_disbursed_mean')\n",
    "cols_to_change.append('manufac_disbursedDate_mean')\n",
    "cols_to_change.append('state_disbursedDate_mean')\n",
    "len(cols_to_change)"
   ]
  },
  {
   "cell_type": "code",
   "execution_count": 71,
   "metadata": {},
   "outputs": [],
   "source": [
    "cat_cols = list(set(complete_df.columns) - set(cols_to_change))\n"
   ]
  },
  {
   "cell_type": "code",
   "execution_count": 77,
   "metadata": {},
   "outputs": [
    {
     "name": "stderr",
     "output_type": "stream",
     "text": [
      "/home/ankish/anaconda3/lib/python3.6/site-packages/sklearn/preprocessing/data.py:645: DataConversionWarning: Data with input dtype int64, float64 were all converted to float64 by StandardScaler.\n",
      "  return self.partial_fit(X, y)\n",
      "/home/ankish/anaconda3/lib/python3.6/site-packages/sklearn/base.py:464: DataConversionWarning: Data with input dtype int64, float64 were all converted to float64 by StandardScaler.\n",
      "  return self.fit(X, **fit_params).transform(X)\n",
      "/home/ankish/anaconda3/lib/python3.6/site-packages/sklearn/preprocessing/data.py:334: DataConversionWarning: Data with input dtype int64 were all converted to float64 by MinMaxScaler.\n",
      "  return self.partial_fit(X, y)\n"
     ]
    }
   ],
   "source": [
    "from sklearn.preprocessing import StandardScaler, MinMaxScaler\n",
    "\n",
    "stdc = StandardScaler()\n",
    "min_max = MinMaxScaler()\n",
    "# for col in cols_to_change:\n",
    "#     complete_df[col] = stdc.fit_transform(complete_df[col])\n",
    "    \n",
    "X1 = stdc.fit_transform(complete_df[cols_to_change])\n",
    "X2 = min_max.fit_transform(complete_df[cat_cols])\n",
    "\n",
    "X1 = pd.DataFrame(data=X1, columns=cols_to_change)\n",
    "X2 = pd.DataFrame(data=X2, columns=cat_cols)\n"
   ]
  },
  {
   "cell_type": "code",
   "execution_count": 76,
   "metadata": {},
   "outputs": [],
   "source": [
    "# complete_df['PRI.SANCTIONED.AMOUNT'] = complete_df['PRI.SANCTIONED.AMOUNT']/1000\n",
    "# complete_df['PRI.DISBURSED.AMOUNT']  = complete_df['PRI.DISBURSED.AMOUNT']/1000\n",
    "# complete_df['stat_mean'] = complete_df['stat_mean']/100\n",
    "# complete_df['stat_std'] = complete_df['stat_std']/100\n"
   ]
  },
  {
   "cell_type": "code",
   "execution_count": 81,
   "metadata": {},
   "outputs": [
    {
     "data": {
      "text/plain": [
       "(345546, 35)"
      ]
     },
     "execution_count": 81,
     "metadata": {},
     "output_type": "execute_result"
    }
   ],
   "source": [
    "complete_df = pd.concat([X1, X2], axis=1)\n",
    "gc.collect()\n",
    "complete_df.shape"
   ]
  },
  {
   "cell_type": "code",
   "execution_count": 82,
   "metadata": {},
   "outputs": [],
   "source": [
    "def reduce_mem_usage_wo_print(df):\n",
    "    \"\"\" iterate through all the columns of a dataframe and modify the data type\n",
    "        to reduce memory usage.        \n",
    "    \"\"\"\n",
    "    print(\"=\"*30)\n",
    "    start_mem = df.memory_usage().sum() / 1024**2\n",
    "    print('Memory {:.2f} MB'.format(start_mem), \"==>\", end=\" \")\n",
    "    \n",
    "    for col in df.columns:\n",
    "        col_type = df[col].dtypes\n",
    "        \n",
    "        if col_type != object:\n",
    "            c_min = df[col].min()\n",
    "            c_max = df[col].max()\n",
    "            if str(col_type)[:3] == 'int':\n",
    "                if c_min > np.iinfo(np.int8).min and c_max < np.iinfo(np.int8).max:\n",
    "                    df[col] = df[col].astype(np.int8)\n",
    "                    # print(col, \"== int8\")\n",
    "                elif c_min > np.iinfo(np.int16).min and c_max < np.iinfo(np.int16).max:\n",
    "                    df[col] = df[col].astype(np.int16)\n",
    "                    # print(col, \"== int16\")\n",
    "                elif c_min > np.iinfo(np.int32).min and c_max < np.iinfo(np.int32).max:\n",
    "                    df[col] = df[col].astype(np.int32)\n",
    "                    # print(col, \"== int32\")\n",
    "                elif c_min > np.iinfo(np.int64).min and c_max < np.iinfo(np.int64).max:\n",
    "                    df[col] = df[col].astype(np.int64)\n",
    "                    # print(col, \"== int64\")\n",
    "            else:\n",
    "                if c_min > np.finfo(np.float16).min and c_max < np.finfo(np.float16).max:\n",
    "                    df[col] = df[col].astype(np.float16)\n",
    "                    # print(col, \"== float16\")\n",
    "                elif c_min > np.finfo(np.float32).min and c_max < np.finfo(np.float32).max:\n",
    "                    df[col] = df[col].astype(np.float32)\n",
    "                    # print(col, \"== float32\")\n",
    "                else:\n",
    "                    df[col] = df[col].astype(np.float64)\n",
    "                    # print(col, \"== float64\")\n",
    "        #else: df[col] = df[col].astype('category')\n",
    "\n",
    "    end_mem = df.memory_usage().sum() / 1024**2\n",
    "    print(' {:.2f} MB'.format(end_mem))\n",
    "    print('Decreased by {:.1f}%'.format(100 * (start_mem - end_mem) / start_mem))\n",
    "    print(\"=\"*30)\n",
    "    return "
   ]
  },
  {
   "cell_type": "code",
   "execution_count": 104,
   "metadata": {},
   "outputs": [
    {
     "name": "stderr",
     "output_type": "stream",
     "text": [
      "/home/ankish/anaconda3/lib/python3.6/site-packages/pandas/core/frame.py:3697: SettingWithCopyWarning: \n",
      "A value is trying to be set on a copy of a slice from a DataFrame\n",
      "\n",
      "See the caveats in the documentation: http://pandas.pydata.org/pandas-docs/stable/indexing.html#indexing-view-versus-copy\n",
      "  errors=errors)\n"
     ]
    }
   ],
   "source": [
    "X_train.drop('Current_pincode_ID', axis=1, inplace=True)\n",
    "X_valid.drop('Current_pincode_ID', axis=1, inplace=True)\n"
   ]
  },
  {
   "cell_type": "code",
   "execution_count": 131,
   "metadata": {},
   "outputs": [
    {
     "data": {
      "text/plain": [
       "4253"
      ]
     },
     "execution_count": 131,
     "metadata": {},
     "output_type": "execute_result"
    }
   ],
   "source": [
    "del train_df, test_df\n",
    "gc.collect()"
   ]
  },
  {
   "cell_type": "code",
   "execution_count": 132,
   "metadata": {},
   "outputs": [
    {
     "name": "stdout",
     "output_type": "stream",
     "text": [
      "0\n",
      "40 == (174865, 235) (58289, 235)\n",
      "==============================\n",
      "Memory 313.52 MB ==>  82.38 MB\n",
      "Decreased by 73.7%\n",
      "==============================\n",
      "==============================\n",
      "Memory 104.51 MB ==>  27.35 MB\n",
      "Decreased by 73.8%\n",
      "==============================\n"
     ]
    },
    {
     "name": "stderr",
     "output_type": "stream",
     "text": [
      "[Parallel(n_jobs=4)]: Using backend ThreadingBackend with 4 concurrent workers.\n",
      "[Parallel(n_jobs=4)]: Done  20 out of  20 | elapsed:  1.9min finished\n",
      "/home/ankish/anaconda3/lib/python3.6/site-packages/sklearn/ensemble/forest.py:458: UserWarning: Some inputs do not have OOB scores. This probably means too few trees were used to compute any reliable oob estimates.\n",
      "  warn(\"Some inputs do not have OOB scores. \"\n",
      "/home/ankish/anaconda3/lib/python3.6/site-packages/sklearn/ensemble/forest.py:463: RuntimeWarning: invalid value encountered in true_divide\n",
      "  predictions[k].sum(axis=1)[:, np.newaxis])\n",
      "[Parallel(n_jobs=4)]: Using backend ThreadingBackend with 4 concurrent workers.\n",
      "[Parallel(n_jobs=4)]: Done  20 out of  20 | elapsed:    0.2s finished\n"
     ]
    },
    {
     "name": "stdout",
     "output_type": "stream",
     "text": [
      "CV score: 0.59788 \n",
      "store_data/new_feat/int_inter_2way/num_inter_2way_40.csv\n",
      "40\n",
      "80 == (174865, 235) (58289, 235)\n",
      "==============================\n",
      "Memory 313.52 MB ==>  82.05 MB\n",
      "Decreased by 73.8%\n",
      "==============================\n",
      "==============================\n",
      "Memory 104.51 MB ==>  27.35 MB\n",
      "Decreased by 73.8%\n",
      "==============================\n"
     ]
    },
    {
     "name": "stderr",
     "output_type": "stream",
     "text": [
      "[Parallel(n_jobs=4)]: Using backend ThreadingBackend with 4 concurrent workers.\n",
      "[Parallel(n_jobs=4)]: Done  20 out of  20 | elapsed:  1.4min finished\n",
      "/home/ankish/anaconda3/lib/python3.6/site-packages/sklearn/ensemble/forest.py:458: UserWarning: Some inputs do not have OOB scores. This probably means too few trees were used to compute any reliable oob estimates.\n",
      "  warn(\"Some inputs do not have OOB scores. \"\n",
      "/home/ankish/anaconda3/lib/python3.6/site-packages/sklearn/ensemble/forest.py:463: RuntimeWarning: invalid value encountered in true_divide\n",
      "  predictions[k].sum(axis=1)[:, np.newaxis])\n",
      "[Parallel(n_jobs=4)]: Using backend ThreadingBackend with 4 concurrent workers.\n",
      "[Parallel(n_jobs=4)]: Done  20 out of  20 | elapsed:    0.2s finished\n"
     ]
    },
    {
     "name": "stdout",
     "output_type": "stream",
     "text": [
      "CV score: 0.59641 \n",
      "store_data/new_feat/int_inter_2way/num_inter_2way_80.csv\n",
      "80\n",
      "120 == (174865, 235) (58289, 235)\n",
      "==============================\n",
      "Memory 313.52 MB ==>  82.38 MB\n",
      "Decreased by 73.7%\n",
      "==============================\n",
      "==============================\n",
      "Memory 104.51 MB ==>  27.35 MB\n",
      "Decreased by 73.8%\n",
      "==============================\n"
     ]
    },
    {
     "name": "stderr",
     "output_type": "stream",
     "text": [
      "[Parallel(n_jobs=4)]: Using backend ThreadingBackend with 4 concurrent workers.\n",
      "[Parallel(n_jobs=4)]: Done  20 out of  20 | elapsed:  1.3min finished\n",
      "/home/ankish/anaconda3/lib/python3.6/site-packages/sklearn/ensemble/forest.py:458: UserWarning: Some inputs do not have OOB scores. This probably means too few trees were used to compute any reliable oob estimates.\n",
      "  warn(\"Some inputs do not have OOB scores. \"\n",
      "/home/ankish/anaconda3/lib/python3.6/site-packages/sklearn/ensemble/forest.py:463: RuntimeWarning: invalid value encountered in true_divide\n",
      "  predictions[k].sum(axis=1)[:, np.newaxis])\n",
      "[Parallel(n_jobs=4)]: Using backend ThreadingBackend with 4 concurrent workers.\n",
      "[Parallel(n_jobs=4)]: Done  20 out of  20 | elapsed:    0.2s finished\n"
     ]
    },
    {
     "name": "stdout",
     "output_type": "stream",
     "text": [
      "CV score: 0.59838 \n",
      "store_data/new_feat/int_inter_2way/num_inter_2way_120.csv\n",
      "120\n",
      "160 == (174865, 235) (58289, 235)\n",
      "==============================\n",
      "Memory 313.52 MB ==>  82.38 MB\n",
      "Decreased by 73.7%\n",
      "==============================\n",
      "==============================\n",
      "Memory 104.51 MB ==>  27.35 MB\n",
      "Decreased by 73.8%\n",
      "==============================\n"
     ]
    },
    {
     "name": "stderr",
     "output_type": "stream",
     "text": [
      "[Parallel(n_jobs=4)]: Using backend ThreadingBackend with 4 concurrent workers.\n",
      "[Parallel(n_jobs=4)]: Done  20 out of  20 | elapsed:  1.4min finished\n",
      "/home/ankish/anaconda3/lib/python3.6/site-packages/sklearn/ensemble/forest.py:458: UserWarning: Some inputs do not have OOB scores. This probably means too few trees were used to compute any reliable oob estimates.\n",
      "  warn(\"Some inputs do not have OOB scores. \"\n",
      "/home/ankish/anaconda3/lib/python3.6/site-packages/sklearn/ensemble/forest.py:463: RuntimeWarning: invalid value encountered in true_divide\n",
      "  predictions[k].sum(axis=1)[:, np.newaxis])\n",
      "[Parallel(n_jobs=4)]: Using backend ThreadingBackend with 4 concurrent workers.\n",
      "[Parallel(n_jobs=4)]: Done  20 out of  20 | elapsed:    0.2s finished\n"
     ]
    },
    {
     "name": "stdout",
     "output_type": "stream",
     "text": [
      "CV score: 0.60332 \n",
      "store_data/new_feat/int_inter_2way/num_inter_2way_160.csv\n",
      "160\n",
      "200 == (174865, 235) (58289, 235)\n",
      "==============================\n",
      "Memory 313.52 MB ==>  82.05 MB\n",
      "Decreased by 73.8%\n",
      "==============================\n",
      "==============================\n",
      "Memory 104.51 MB ==>  27.35 MB\n",
      "Decreased by 73.8%\n",
      "==============================\n"
     ]
    },
    {
     "name": "stderr",
     "output_type": "stream",
     "text": [
      "[Parallel(n_jobs=4)]: Using backend ThreadingBackend with 4 concurrent workers.\n",
      "[Parallel(n_jobs=4)]: Done  20 out of  20 | elapsed:  1.6min finished\n",
      "/home/ankish/anaconda3/lib/python3.6/site-packages/sklearn/ensemble/forest.py:458: UserWarning: Some inputs do not have OOB scores. This probably means too few trees were used to compute any reliable oob estimates.\n",
      "  warn(\"Some inputs do not have OOB scores. \"\n",
      "/home/ankish/anaconda3/lib/python3.6/site-packages/sklearn/ensemble/forest.py:463: RuntimeWarning: invalid value encountered in true_divide\n",
      "  predictions[k].sum(axis=1)[:, np.newaxis])\n",
      "[Parallel(n_jobs=4)]: Using backend ThreadingBackend with 4 concurrent workers.\n",
      "[Parallel(n_jobs=4)]: Done  20 out of  20 | elapsed:    0.1s finished\n"
     ]
    },
    {
     "name": "stdout",
     "output_type": "stream",
     "text": [
      "CV score: 0.59851 \n",
      "store_data/new_feat/int_inter_2way/num_inter_2way_200.csv\n",
      "200\n",
      "240 == (174865, 235) (58289, 235)\n",
      "==============================\n",
      "Memory 313.52 MB ==>  82.05 MB\n",
      "Decreased by 73.8%\n",
      "==============================\n",
      "==============================\n",
      "Memory 104.51 MB ==>  27.35 MB\n",
      "Decreased by 73.8%\n",
      "==============================\n"
     ]
    },
    {
     "name": "stderr",
     "output_type": "stream",
     "text": [
      "[Parallel(n_jobs=4)]: Using backend ThreadingBackend with 4 concurrent workers.\n",
      "[Parallel(n_jobs=4)]: Done  20 out of  20 | elapsed:  1.7min finished\n",
      "/home/ankish/anaconda3/lib/python3.6/site-packages/sklearn/ensemble/forest.py:458: UserWarning: Some inputs do not have OOB scores. This probably means too few trees were used to compute any reliable oob estimates.\n",
      "  warn(\"Some inputs do not have OOB scores. \"\n",
      "/home/ankish/anaconda3/lib/python3.6/site-packages/sklearn/ensemble/forest.py:463: RuntimeWarning: invalid value encountered in true_divide\n",
      "  predictions[k].sum(axis=1)[:, np.newaxis])\n",
      "[Parallel(n_jobs=4)]: Using backend ThreadingBackend with 4 concurrent workers.\n",
      "[Parallel(n_jobs=4)]: Done  20 out of  20 | elapsed:    0.2s finished\n"
     ]
    },
    {
     "name": "stdout",
     "output_type": "stream",
     "text": [
      "CV score: 0.59544 \n",
      "store_data/new_feat/int_inter_2way/num_inter_2way_240.csv\n",
      "240\n",
      "280 == (174865, 235) (58289, 235)\n",
      "==============================\n",
      "Memory 313.52 MB ==>  82.05 MB\n",
      "Decreased by 73.8%\n",
      "==============================\n",
      "==============================\n",
      "Memory 104.51 MB ==>  27.35 MB\n",
      "Decreased by 73.8%\n",
      "==============================\n"
     ]
    },
    {
     "name": "stderr",
     "output_type": "stream",
     "text": [
      "[Parallel(n_jobs=4)]: Using backend ThreadingBackend with 4 concurrent workers.\n",
      "[Parallel(n_jobs=4)]: Done  20 out of  20 | elapsed:  1.7min finished\n",
      "/home/ankish/anaconda3/lib/python3.6/site-packages/sklearn/ensemble/forest.py:458: UserWarning: Some inputs do not have OOB scores. This probably means too few trees were used to compute any reliable oob estimates.\n",
      "  warn(\"Some inputs do not have OOB scores. \"\n",
      "/home/ankish/anaconda3/lib/python3.6/site-packages/sklearn/ensemble/forest.py:463: RuntimeWarning: invalid value encountered in true_divide\n",
      "  predictions[k].sum(axis=1)[:, np.newaxis])\n",
      "[Parallel(n_jobs=4)]: Using backend ThreadingBackend with 4 concurrent workers.\n",
      "[Parallel(n_jobs=4)]: Done  20 out of  20 | elapsed:    0.2s finished\n"
     ]
    },
    {
     "name": "stdout",
     "output_type": "stream",
     "text": [
      "CV score: 0.59529 \n",
      "store_data/new_feat/int_inter_2way/num_inter_2way_280.csv\n",
      "280\n",
      "320 == (174865, 235) (58289, 235)\n",
      "==============================\n",
      "Memory 313.52 MB ==>  83.05 MB\n",
      "Decreased by 73.5%\n",
      "==============================\n",
      "==============================\n",
      "Memory 104.51 MB ==>  27.35 MB\n",
      "Decreased by 73.8%\n",
      "==============================\n"
     ]
    },
    {
     "name": "stderr",
     "output_type": "stream",
     "text": [
      "[Parallel(n_jobs=4)]: Using backend ThreadingBackend with 4 concurrent workers.\n",
      "[Parallel(n_jobs=4)]: Done  20 out of  20 | elapsed:  1.5min finished\n",
      "/home/ankish/anaconda3/lib/python3.6/site-packages/sklearn/ensemble/forest.py:458: UserWarning: Some inputs do not have OOB scores. This probably means too few trees were used to compute any reliable oob estimates.\n",
      "  warn(\"Some inputs do not have OOB scores. \"\n",
      "/home/ankish/anaconda3/lib/python3.6/site-packages/sklearn/ensemble/forest.py:463: RuntimeWarning: invalid value encountered in true_divide\n",
      "  predictions[k].sum(axis=1)[:, np.newaxis])\n",
      "[Parallel(n_jobs=4)]: Using backend ThreadingBackend with 4 concurrent workers.\n",
      "[Parallel(n_jobs=4)]: Done  20 out of  20 | elapsed:    0.2s finished\n"
     ]
    },
    {
     "name": "stdout",
     "output_type": "stream",
     "text": [
      "CV score: 0.59939 \n",
      "store_data/new_feat/int_inter_2way/num_inter_2way_320.csv\n",
      "320\n",
      "360 == (174865, 235) (58289, 235)\n",
      "==============================\n",
      "Memory 313.52 MB ==>  82.05 MB\n",
      "Decreased by 73.8%\n",
      "==============================\n",
      "==============================\n",
      "Memory 104.51 MB ==>  27.35 MB\n",
      "Decreased by 73.8%\n",
      "==============================\n"
     ]
    },
    {
     "name": "stderr",
     "output_type": "stream",
     "text": [
      "[Parallel(n_jobs=4)]: Using backend ThreadingBackend with 4 concurrent workers.\n",
      "[Parallel(n_jobs=4)]: Done  20 out of  20 | elapsed:  1.3min finished\n",
      "/home/ankish/anaconda3/lib/python3.6/site-packages/sklearn/ensemble/forest.py:458: UserWarning: Some inputs do not have OOB scores. This probably means too few trees were used to compute any reliable oob estimates.\n",
      "  warn(\"Some inputs do not have OOB scores. \"\n",
      "/home/ankish/anaconda3/lib/python3.6/site-packages/sklearn/ensemble/forest.py:463: RuntimeWarning: invalid value encountered in true_divide\n",
      "  predictions[k].sum(axis=1)[:, np.newaxis])\n",
      "[Parallel(n_jobs=4)]: Using backend ThreadingBackend with 4 concurrent workers.\n",
      "[Parallel(n_jobs=4)]: Done  20 out of  20 | elapsed:    0.1s finished\n"
     ]
    },
    {
     "name": "stdout",
     "output_type": "stream",
     "text": [
      "CV score: 0.59605 \n",
      "store_data/new_feat/int_inter_2way/num_inter_2way_360.csv\n",
      "360\n",
      "400 == (174865, 235) (58289, 235)\n",
      "==============================\n",
      "Memory 313.52 MB ==>  82.05 MB\n",
      "Decreased by 73.8%\n",
      "==============================\n",
      "==============================\n",
      "Memory 104.51 MB ==>  27.35 MB\n",
      "Decreased by 73.8%\n",
      "==============================\n"
     ]
    },
    {
     "name": "stderr",
     "output_type": "stream",
     "text": [
      "[Parallel(n_jobs=4)]: Using backend ThreadingBackend with 4 concurrent workers.\n",
      "[Parallel(n_jobs=4)]: Done  20 out of  20 | elapsed:  1.2min finished\n",
      "/home/ankish/anaconda3/lib/python3.6/site-packages/sklearn/ensemble/forest.py:458: UserWarning: Some inputs do not have OOB scores. This probably means too few trees were used to compute any reliable oob estimates.\n",
      "  warn(\"Some inputs do not have OOB scores. \"\n",
      "/home/ankish/anaconda3/lib/python3.6/site-packages/sklearn/ensemble/forest.py:463: RuntimeWarning: invalid value encountered in true_divide\n",
      "  predictions[k].sum(axis=1)[:, np.newaxis])\n",
      "[Parallel(n_jobs=4)]: Using backend ThreadingBackend with 4 concurrent workers.\n",
      "[Parallel(n_jobs=4)]: Done  20 out of  20 | elapsed:    0.1s finished\n"
     ]
    },
    {
     "name": "stdout",
     "output_type": "stream",
     "text": [
      "CV score: 0.60024 \n",
      "store_data/new_feat/int_inter_2way/num_inter_2way_400.csv\n",
      "400\n",
      "440 == (174865, 235) (58289, 235)\n",
      "==============================\n",
      "Memory 313.52 MB ==>  82.05 MB\n",
      "Decreased by 73.8%\n",
      "==============================\n",
      "==============================\n",
      "Memory 104.51 MB ==>  27.35 MB\n",
      "Decreased by 73.8%\n",
      "==============================\n"
     ]
    },
    {
     "name": "stderr",
     "output_type": "stream",
     "text": [
      "[Parallel(n_jobs=4)]: Using backend ThreadingBackend with 4 concurrent workers.\n",
      "[Parallel(n_jobs=4)]: Done  20 out of  20 | elapsed:  1.4min finished\n",
      "/home/ankish/anaconda3/lib/python3.6/site-packages/sklearn/ensemble/forest.py:458: UserWarning: Some inputs do not have OOB scores. This probably means too few trees were used to compute any reliable oob estimates.\n",
      "  warn(\"Some inputs do not have OOB scores. \"\n",
      "/home/ankish/anaconda3/lib/python3.6/site-packages/sklearn/ensemble/forest.py:463: RuntimeWarning: invalid value encountered in true_divide\n",
      "  predictions[k].sum(axis=1)[:, np.newaxis])\n",
      "[Parallel(n_jobs=4)]: Using backend ThreadingBackend with 4 concurrent workers.\n",
      "[Parallel(n_jobs=4)]: Done  20 out of  20 | elapsed:    0.2s finished\n"
     ]
    },
    {
     "name": "stdout",
     "output_type": "stream",
     "text": [
      "CV score: 0.60288 \n",
      "store_data/new_feat/int_inter_2way/num_inter_2way_440.csv\n",
      "440\n",
      "480 == (174865, 235) (58289, 235)\n",
      "==============================\n",
      "Memory 313.52 MB ==>  82.05 MB\n",
      "Decreased by 73.8%\n",
      "==============================\n",
      "==============================\n",
      "Memory 104.51 MB ==>  27.35 MB\n",
      "Decreased by 73.8%\n",
      "==============================\n"
     ]
    },
    {
     "name": "stderr",
     "output_type": "stream",
     "text": [
      "[Parallel(n_jobs=4)]: Using backend ThreadingBackend with 4 concurrent workers.\n",
      "[Parallel(n_jobs=4)]: Done  20 out of  20 | elapsed:  1.8min finished\n",
      "/home/ankish/anaconda3/lib/python3.6/site-packages/sklearn/ensemble/forest.py:458: UserWarning: Some inputs do not have OOB scores. This probably means too few trees were used to compute any reliable oob estimates.\n",
      "  warn(\"Some inputs do not have OOB scores. \"\n",
      "/home/ankish/anaconda3/lib/python3.6/site-packages/sklearn/ensemble/forest.py:463: RuntimeWarning: invalid value encountered in true_divide\n",
      "  predictions[k].sum(axis=1)[:, np.newaxis])\n",
      "[Parallel(n_jobs=4)]: Using backend ThreadingBackend with 4 concurrent workers.\n",
      "[Parallel(n_jobs=4)]: Done  20 out of  20 | elapsed:    0.2s finished\n"
     ]
    },
    {
     "name": "stdout",
     "output_type": "stream",
     "text": [
      "CV score: 0.59720 \n",
      "store_data/new_feat/int_inter_2way/num_inter_2way_480.csv\n",
      "480\n",
      "520 == (174865, 235) (58289, 235)\n",
      "==============================\n",
      "Memory 313.52 MB ==>  82.38 MB\n",
      "Decreased by 73.7%\n",
      "==============================\n",
      "==============================\n",
      "Memory 104.51 MB ==>  27.35 MB\n",
      "Decreased by 73.8%\n",
      "==============================\n"
     ]
    },
    {
     "name": "stderr",
     "output_type": "stream",
     "text": [
      "[Parallel(n_jobs=4)]: Using backend ThreadingBackend with 4 concurrent workers.\n",
      "[Parallel(n_jobs=4)]: Done  20 out of  20 | elapsed:  1.5min finished\n",
      "/home/ankish/anaconda3/lib/python3.6/site-packages/sklearn/ensemble/forest.py:458: UserWarning: Some inputs do not have OOB scores. This probably means too few trees were used to compute any reliable oob estimates.\n",
      "  warn(\"Some inputs do not have OOB scores. \"\n",
      "/home/ankish/anaconda3/lib/python3.6/site-packages/sklearn/ensemble/forest.py:463: RuntimeWarning: invalid value encountered in true_divide\n",
      "  predictions[k].sum(axis=1)[:, np.newaxis])\n",
      "[Parallel(n_jobs=4)]: Using backend ThreadingBackend with 4 concurrent workers.\n",
      "[Parallel(n_jobs=4)]: Done  20 out of  20 | elapsed:    0.2s finished\n"
     ]
    },
    {
     "name": "stdout",
     "output_type": "stream",
     "text": [
      "CV score: 0.59764 \n",
      "store_data/new_feat/int_inter_2way/num_inter_2way_520.csv\n",
      "520\n",
      "560 == (174865, 235) (58289, 235)\n",
      "==============================\n",
      "Memory 313.52 MB ==>  82.05 MB\n",
      "Decreased by 73.8%\n",
      "==============================\n",
      "==============================\n",
      "Memory 104.51 MB ==>  27.35 MB\n",
      "Decreased by 73.8%\n",
      "==============================\n"
     ]
    },
    {
     "name": "stderr",
     "output_type": "stream",
     "text": [
      "[Parallel(n_jobs=4)]: Using backend ThreadingBackend with 4 concurrent workers.\n",
      "[Parallel(n_jobs=4)]: Done  20 out of  20 | elapsed:  1.7min finished\n",
      "/home/ankish/anaconda3/lib/python3.6/site-packages/sklearn/ensemble/forest.py:458: UserWarning: Some inputs do not have OOB scores. This probably means too few trees were used to compute any reliable oob estimates.\n",
      "  warn(\"Some inputs do not have OOB scores. \"\n",
      "/home/ankish/anaconda3/lib/python3.6/site-packages/sklearn/ensemble/forest.py:463: RuntimeWarning: invalid value encountered in true_divide\n",
      "  predictions[k].sum(axis=1)[:, np.newaxis])\n",
      "[Parallel(n_jobs=4)]: Using backend ThreadingBackend with 4 concurrent workers.\n",
      "[Parallel(n_jobs=4)]: Done  20 out of  20 | elapsed:    0.2s finished\n"
     ]
    },
    {
     "name": "stdout",
     "output_type": "stream",
     "text": [
      "CV score: 0.59811 \n",
      "store_data/new_feat/int_inter_2way/num_inter_2way_560.csv\n",
      "560\n",
      "594 == store_data/new_feat/int_inter_2way/num_inter_2way_594.csv\n",
      "595\n"
     ]
    },
    {
     "data": {
      "text/plain": [
       "175"
      ]
     },
     "execution_count": 132,
     "metadata": {},
     "output_type": "execute_result"
    }
   ],
   "source": [
    "from sklearn.preprocessing import StandardScaler\n",
    "stdc = StandardScaler()\n",
    "\n",
    "rf_scores = []\n",
    "rf_imps = []\n",
    "rf_clf = []\n",
    "count = 0\n",
    "for idx,inter in enumerate(list(combinations(col_to_use, 2))):\n",
    "    if idx%40 == 0:\n",
    "        if idx != 0:\n",
    "            print(idx, \"==\", end=\" \")\n",
    "            tr = pd.concat([X_train.reset_index(drop=True), \n",
    "                feature_df.iloc[:X_train.shape[0],:].reset_index(drop=True)], axis=1)\n",
    "            ts_feat = feature_df.iloc[X_train.shape[0]:X_train.shape[0]+X_valid.shape[0],:]\n",
    "            ts = pd.concat([X_valid.reset_index(drop=True), \n",
    "                            ts_feat.reset_index(drop = True)], axis=1)\n",
    "            print(tr.shape, ts.shape)\n",
    "            reduce_mem_usage_wo_print(tr)\n",
    "            reduce_mem_usage_wo_print(ts)\n",
    "            \n",
    "            score, clf, imp = run_rf(tr.fillna(0), ts.fillna(0), y_train, y_valid)\n",
    "\n",
    "            imp['position'] = np.arange(imp.shape[0])+1\n",
    "            imp['position'] = imp.apply(lambda x: x[2] if split_it(x[0]) else 0, axis=1)\n",
    "            feature_df = feature_df[imp[imp.position != 0].feature.values]\n",
    "\n",
    "            rf_scores.append(score)\n",
    "            rf_clf.append(clf)\n",
    "            rf_imps.append(imp)\n",
    "            \n",
    "            file_name = 'store_data/new_feat/int_inter_2way/num_inter_2way_'+str(idx)+'.csv'\n",
    "            feature_df.to_csv(file_name, index=None)\n",
    "            del tr, ts_feat, ts\n",
    "            gc.collect()\n",
    "            print(file_name)\n",
    "            \n",
    "        feature_df = pd.DataFrame()\n",
    "        gc.collect()\n",
    "        print(idx)\n",
    "    new_col_name1 = \"+\".join(inter)\n",
    "    new_col_name2 = \"-\".join(inter)\n",
    "    new_col_name3 = \"*\".join(inter)\n",
    "    new_col_name4 = \"/\".join(inter)+'_pre'\n",
    "    new_col_name5 = \"/\".join(inter)+'_post'\n",
    "    \n",
    "    feature_df[new_col_name1] = complete_df[inter[0]] + complete_df[inter[1]]\n",
    "    feature_df[new_col_name2] = complete_df[inter[0]] - complete_df[inter[1]]\n",
    "    feature_df[new_col_name3] = complete_df[inter[0]] * complete_df[inter[1]]\n",
    "#     feature_df[new_col_name3] = stdc.fit_transform(complete_df[inter[0]])*stdc.fit_transform(complete_df[inter[1]])\n",
    "    try:\n",
    "        feature_df[new_col_name4] = complete_df[inter[0]] / (1+complete_df[inter[1]])\n",
    "    except:\n",
    "        try:\n",
    "            feature_df[new_col_name4] = complete_df[inter[0]] / (2+complete_df[inter[1]])\n",
    "        except:\n",
    "            print(\"could not do it\")\n",
    "            pass\n",
    "        \n",
    "    feature_df[new_col_name5] = complete_df[inter[1]] / (1+complete_df[inter[0]])\n",
    "    \n",
    "    if (feature_df.shape[1]+1)%90 == 0:\n",
    "        reduce_mem_usage_wo_print(feature_df)\n",
    "        gc.collect()\n",
    "    count += 1\n",
    "file_name = 'store_data/new_feat/int_inter_2way/num_inter_2way_'+str(idx)+'.csv'\n",
    "feature_df.to_csv(file_name, index=None)\n",
    "print(idx, \"==\", end=\" \")\n",
    "print(file_name)\n",
    "\n",
    "print(count)\n",
    "\n",
    "gc.collect()"
   ]
  },
  {
   "cell_type": "code",
   "execution_count": null,
   "metadata": {},
   "outputs": [],
   "source": []
  },
  {
   "cell_type": "code",
   "execution_count": 133,
   "metadata": {},
   "outputs": [
    {
     "data": {
      "text/plain": [
       "0"
      ]
     },
     "execution_count": 133,
     "metadata": {},
     "output_type": "execute_result"
    }
   ],
   "source": [
    "gc.collect()"
   ]
  },
  {
   "cell_type": "code",
   "execution_count": 134,
   "metadata": {},
   "outputs": [
    {
     "name": "stdout",
     "output_type": "stream",
     "text": [
      "Sat Apr 20 03:34:20 2019\n"
     ]
    }
   ],
   "source": [
    "import time\n",
    "\n",
    "try:\n",
    "    print(time.ctime())\n",
    "except:\n",
    "    pass"
   ]
  },
  {
   "cell_type": "code",
   "execution_count": 135,
   "metadata": {},
   "outputs": [],
   "source": [
    "import re\n",
    "\n",
    "def split_it(x):\n",
    "    return re.findall('[:\\+\\-\\*\\/]', x)# \n",
    "\n",
    "\n",
    "# save_feat = pd.DataFrame()\n",
    "# for ii,imp in enumerate(rf_imps):\n",
    "#     imp['position'] = np.arange(imp.shape[0])+1\n",
    "#     imp['position'] = imp.apply(lambda x: x[2] if split_it(x[0]) else 0, axis=1)\n",
    "#     imp['which_file'] = ii\n",
    "#     save_feat = pd.concat([save_feat, imp[imp.position != 0]], axis=0)\n",
    "    \n",
    "#     if ii%10 == 0:\n",
    "#         print(\"reach here at \",ii)"
   ]
  },
  {
   "cell_type": "code",
   "execution_count": 136,
   "metadata": {},
   "outputs": [],
   "source": [
    "all_cols = complete_df.columns\n",
    "new_index = np.random.permutation(len(all_cols))\n",
    "\n",
    "try:\n",
    "    complete_df = complete_df[all_cols[new_index]]\n",
    "except:\n",
    "    print(\"could not shuffle columns\")"
   ]
  },
  {
   "cell_type": "code",
   "execution_count": null,
   "metadata": {},
   "outputs": [],
   "source": []
  },
  {
   "cell_type": "code",
   "execution_count": 137,
   "metadata": {},
   "outputs": [
    {
     "data": {
      "text/plain": [
       "0"
      ]
     },
     "execution_count": 137,
     "metadata": {},
     "output_type": "execute_result"
    }
   ],
   "source": [
    "gc.collect()"
   ]
  },
  {
   "cell_type": "code",
   "execution_count": 138,
   "metadata": {},
   "outputs": [
    {
     "name": "stdout",
     "output_type": "stream",
     "text": [
      "0\n",
      "40 == (174865, 235) (58289, 235)\n",
      "==============================\n",
      "Memory 313.52 MB ==>  82.05 MB\n",
      "Decreased by 73.8%\n",
      "==============================\n",
      "==============================\n",
      "Memory 104.51 MB ==>  27.35 MB\n",
      "Decreased by 73.8%\n",
      "==============================\n"
     ]
    },
    {
     "name": "stderr",
     "output_type": "stream",
     "text": [
      "[Parallel(n_jobs=4)]: Using backend ThreadingBackend with 4 concurrent workers.\n",
      "[Parallel(n_jobs=4)]: Done  20 out of  20 | elapsed:  1.7min finished\n",
      "/home/ankish/anaconda3/lib/python3.6/site-packages/sklearn/ensemble/forest.py:458: UserWarning: Some inputs do not have OOB scores. This probably means too few trees were used to compute any reliable oob estimates.\n",
      "  warn(\"Some inputs do not have OOB scores. \"\n",
      "/home/ankish/anaconda3/lib/python3.6/site-packages/sklearn/ensemble/forest.py:463: RuntimeWarning: invalid value encountered in true_divide\n",
      "  predictions[k].sum(axis=1)[:, np.newaxis])\n",
      "[Parallel(n_jobs=4)]: Using backend ThreadingBackend with 4 concurrent workers.\n",
      "[Parallel(n_jobs=4)]: Done  20 out of  20 | elapsed:    0.2s finished\n"
     ]
    },
    {
     "name": "stdout",
     "output_type": "stream",
     "text": [
      "CV score: 0.59778 \n",
      "store_data/new_feat/int_inter_3way/num_inter_3way_40.csv\n",
      "40\n",
      "80 == (174865, 235) (58289, 235)\n",
      "==============================\n",
      "Memory 313.52 MB ==>  84.05 MB\n",
      "Decreased by 73.2%\n",
      "==============================\n",
      "==============================\n",
      "Memory 104.51 MB ==>  27.46 MB\n",
      "Decreased by 73.7%\n",
      "==============================\n"
     ]
    },
    {
     "name": "stderr",
     "output_type": "stream",
     "text": [
      "[Parallel(n_jobs=4)]: Using backend ThreadingBackend with 4 concurrent workers.\n",
      "[Parallel(n_jobs=4)]: Done  20 out of  20 | elapsed:  1.7min finished\n",
      "/home/ankish/anaconda3/lib/python3.6/site-packages/sklearn/ensemble/forest.py:458: UserWarning: Some inputs do not have OOB scores. This probably means too few trees were used to compute any reliable oob estimates.\n",
      "  warn(\"Some inputs do not have OOB scores. \"\n",
      "/home/ankish/anaconda3/lib/python3.6/site-packages/sklearn/ensemble/forest.py:463: RuntimeWarning: invalid value encountered in true_divide\n",
      "  predictions[k].sum(axis=1)[:, np.newaxis])\n",
      "[Parallel(n_jobs=4)]: Using backend ThreadingBackend with 4 concurrent workers.\n",
      "[Parallel(n_jobs=4)]: Done  20 out of  20 | elapsed:    0.2s finished\n"
     ]
    },
    {
     "name": "stdout",
     "output_type": "stream",
     "text": [
      "CV score: 0.60098 \n",
      "store_data/new_feat/int_inter_3way/num_inter_3way_80.csv\n",
      "80\n",
      "120 == (174865, 235) (58289, 235)\n",
      "==============================\n",
      "Memory 313.52 MB ==>  83.38 MB\n",
      "Decreased by 73.4%\n",
      "==============================\n",
      "==============================\n",
      "Memory 104.51 MB ==>  27.35 MB\n",
      "Decreased by 73.8%\n",
      "==============================\n"
     ]
    },
    {
     "name": "stderr",
     "output_type": "stream",
     "text": [
      "[Parallel(n_jobs=4)]: Using backend ThreadingBackend with 4 concurrent workers.\n",
      "[Parallel(n_jobs=4)]: Done  20 out of  20 | elapsed:  1.8min finished\n",
      "/home/ankish/anaconda3/lib/python3.6/site-packages/sklearn/ensemble/forest.py:458: UserWarning: Some inputs do not have OOB scores. This probably means too few trees were used to compute any reliable oob estimates.\n",
      "  warn(\"Some inputs do not have OOB scores. \"\n",
      "/home/ankish/anaconda3/lib/python3.6/site-packages/sklearn/ensemble/forest.py:463: RuntimeWarning: invalid value encountered in true_divide\n",
      "  predictions[k].sum(axis=1)[:, np.newaxis])\n",
      "[Parallel(n_jobs=4)]: Using backend ThreadingBackend with 4 concurrent workers.\n",
      "[Parallel(n_jobs=4)]: Done  20 out of  20 | elapsed:    0.2s finished\n"
     ]
    },
    {
     "name": "stdout",
     "output_type": "stream",
     "text": [
      "CV score: 0.60017 \n",
      "store_data/new_feat/int_inter_3way/num_inter_3way_120.csv\n",
      "120\n",
      "160 == (174865, 235) (58289, 235)\n",
      "==============================\n",
      "Memory 313.52 MB ==>  84.72 MB\n",
      "Decreased by 73.0%\n",
      "==============================\n",
      "==============================\n",
      "Memory 104.51 MB ==>  27.79 MB\n",
      "Decreased by 73.4%\n",
      "==============================\n"
     ]
    },
    {
     "name": "stderr",
     "output_type": "stream",
     "text": [
      "[Parallel(n_jobs=4)]: Using backend ThreadingBackend with 4 concurrent workers.\n",
      "[Parallel(n_jobs=4)]: Done  20 out of  20 | elapsed:  1.8min finished\n",
      "/home/ankish/anaconda3/lib/python3.6/site-packages/sklearn/ensemble/forest.py:458: UserWarning: Some inputs do not have OOB scores. This probably means too few trees were used to compute any reliable oob estimates.\n",
      "  warn(\"Some inputs do not have OOB scores. \"\n",
      "/home/ankish/anaconda3/lib/python3.6/site-packages/sklearn/ensemble/forest.py:463: RuntimeWarning: invalid value encountered in true_divide\n",
      "  predictions[k].sum(axis=1)[:, np.newaxis])\n",
      "[Parallel(n_jobs=4)]: Using backend ThreadingBackend with 4 concurrent workers.\n",
      "[Parallel(n_jobs=4)]: Done  20 out of  20 | elapsed:    0.1s finished\n"
     ]
    },
    {
     "name": "stdout",
     "output_type": "stream",
     "text": [
      "CV score: 0.59672 \n",
      "store_data/new_feat/int_inter_3way/num_inter_3way_160.csv\n",
      "160\n",
      "200 == (174865, 235) (58289, 235)\n",
      "==============================\n",
      "Memory 313.52 MB ==>  86.72 MB\n",
      "Decreased by 72.3%\n",
      "==============================\n",
      "==============================\n",
      "Memory 104.51 MB ==>  27.79 MB\n",
      "Decreased by 73.4%\n",
      "==============================\n"
     ]
    },
    {
     "name": "stderr",
     "output_type": "stream",
     "text": [
      "[Parallel(n_jobs=4)]: Using backend ThreadingBackend with 4 concurrent workers.\n",
      "[Parallel(n_jobs=4)]: Done  20 out of  20 | elapsed:  1.8min finished\n",
      "/home/ankish/anaconda3/lib/python3.6/site-packages/sklearn/ensemble/forest.py:458: UserWarning: Some inputs do not have OOB scores. This probably means too few trees were used to compute any reliable oob estimates.\n",
      "  warn(\"Some inputs do not have OOB scores. \"\n",
      "/home/ankish/anaconda3/lib/python3.6/site-packages/sklearn/ensemble/forest.py:463: RuntimeWarning: invalid value encountered in true_divide\n",
      "  predictions[k].sum(axis=1)[:, np.newaxis])\n",
      "[Parallel(n_jobs=4)]: Using backend ThreadingBackend with 4 concurrent workers.\n",
      "[Parallel(n_jobs=4)]: Done  20 out of  20 | elapsed:    0.1s finished\n"
     ]
    },
    {
     "name": "stdout",
     "output_type": "stream",
     "text": [
      "CV score: 0.59759 \n",
      "store_data/new_feat/int_inter_3way/num_inter_3way_200.csv\n",
      "200\n",
      "240 == (174865, 235) (58289, 235)\n",
      "==============================\n",
      "Memory 313.52 MB ==>  91.05 MB\n",
      "Decreased by 71.0%\n",
      "==============================\n",
      "==============================\n",
      "Memory 104.51 MB ==>  27.57 MB\n",
      "Decreased by 73.6%\n",
      "==============================\n"
     ]
    },
    {
     "name": "stderr",
     "output_type": "stream",
     "text": [
      "[Parallel(n_jobs=4)]: Using backend ThreadingBackend with 4 concurrent workers.\n",
      "[Parallel(n_jobs=4)]: Done  20 out of  20 | elapsed:  1.9min finished\n",
      "/home/ankish/anaconda3/lib/python3.6/site-packages/sklearn/ensemble/forest.py:458: UserWarning: Some inputs do not have OOB scores. This probably means too few trees were used to compute any reliable oob estimates.\n",
      "  warn(\"Some inputs do not have OOB scores. \"\n",
      "/home/ankish/anaconda3/lib/python3.6/site-packages/sklearn/ensemble/forest.py:463: RuntimeWarning: invalid value encountered in true_divide\n",
      "  predictions[k].sum(axis=1)[:, np.newaxis])\n",
      "[Parallel(n_jobs=4)]: Using backend ThreadingBackend with 4 concurrent workers.\n",
      "[Parallel(n_jobs=4)]: Done  20 out of  20 | elapsed:    0.1s finished\n"
     ]
    },
    {
     "name": "stdout",
     "output_type": "stream",
     "text": [
      "CV score: 0.59598 \n",
      "store_data/new_feat/int_inter_3way/num_inter_3way_240.csv\n",
      "240\n",
      "280 == (174865, 235) (58289, 235)\n",
      "==============================\n",
      "Memory 313.52 MB ==>  82.38 MB\n",
      "Decreased by 73.7%\n",
      "==============================\n",
      "==============================\n",
      "Memory 104.51 MB ==>  27.35 MB\n",
      "Decreased by 73.8%\n",
      "==============================\n"
     ]
    },
    {
     "name": "stderr",
     "output_type": "stream",
     "text": [
      "[Parallel(n_jobs=4)]: Using backend ThreadingBackend with 4 concurrent workers.\n",
      "[Parallel(n_jobs=4)]: Done  20 out of  20 | elapsed:  1.9min finished\n",
      "/home/ankish/anaconda3/lib/python3.6/site-packages/sklearn/ensemble/forest.py:458: UserWarning: Some inputs do not have OOB scores. This probably means too few trees were used to compute any reliable oob estimates.\n",
      "  warn(\"Some inputs do not have OOB scores. \"\n",
      "/home/ankish/anaconda3/lib/python3.6/site-packages/sklearn/ensemble/forest.py:463: RuntimeWarning: invalid value encountered in true_divide\n",
      "  predictions[k].sum(axis=1)[:, np.newaxis])\n",
      "[Parallel(n_jobs=4)]: Using backend ThreadingBackend with 4 concurrent workers.\n",
      "[Parallel(n_jobs=4)]: Done  20 out of  20 | elapsed:    0.2s finished\n"
     ]
    },
    {
     "name": "stdout",
     "output_type": "stream",
     "text": [
      "CV score: 0.59954 \n",
      "store_data/new_feat/int_inter_3way/num_inter_3way_280.csv\n",
      "280\n",
      "320 == (174865, 235) (58289, 235)\n",
      "==============================\n",
      "Memory 313.52 MB ==>  82.38 MB\n",
      "Decreased by 73.7%\n",
      "==============================\n",
      "==============================\n",
      "Memory 104.51 MB ==>  27.46 MB\n",
      "Decreased by 73.7%\n",
      "==============================\n"
     ]
    },
    {
     "name": "stderr",
     "output_type": "stream",
     "text": [
      "[Parallel(n_jobs=4)]: Using backend ThreadingBackend with 4 concurrent workers.\n",
      "[Parallel(n_jobs=4)]: Done  20 out of  20 | elapsed:  1.7min finished\n",
      "/home/ankish/anaconda3/lib/python3.6/site-packages/sklearn/ensemble/forest.py:458: UserWarning: Some inputs do not have OOB scores. This probably means too few trees were used to compute any reliable oob estimates.\n",
      "  warn(\"Some inputs do not have OOB scores. \"\n",
      "/home/ankish/anaconda3/lib/python3.6/site-packages/sklearn/ensemble/forest.py:463: RuntimeWarning: invalid value encountered in true_divide\n",
      "  predictions[k].sum(axis=1)[:, np.newaxis])\n",
      "[Parallel(n_jobs=4)]: Using backend ThreadingBackend with 4 concurrent workers.\n",
      "[Parallel(n_jobs=4)]: Done  20 out of  20 | elapsed:    0.2s finished\n"
     ]
    },
    {
     "name": "stdout",
     "output_type": "stream",
     "text": [
      "CV score: 0.59747 \n",
      "store_data/new_feat/int_inter_3way/num_inter_3way_320.csv\n",
      "320\n",
      "360 == (174865, 235) (58289, 235)\n",
      "==============================\n",
      "Memory 313.52 MB ==>  86.05 MB\n",
      "Decreased by 72.6%\n",
      "==============================\n",
      "==============================\n",
      "Memory 104.51 MB ==>  28.46 MB\n",
      "Decreased by 72.8%\n",
      "==============================\n"
     ]
    },
    {
     "name": "stderr",
     "output_type": "stream",
     "text": [
      "[Parallel(n_jobs=4)]: Using backend ThreadingBackend with 4 concurrent workers.\n",
      "[Parallel(n_jobs=4)]: Done  20 out of  20 | elapsed:  1.7min finished\n",
      "/home/ankish/anaconda3/lib/python3.6/site-packages/sklearn/ensemble/forest.py:458: UserWarning: Some inputs do not have OOB scores. This probably means too few trees were used to compute any reliable oob estimates.\n",
      "  warn(\"Some inputs do not have OOB scores. \"\n",
      "/home/ankish/anaconda3/lib/python3.6/site-packages/sklearn/ensemble/forest.py:463: RuntimeWarning: invalid value encountered in true_divide\n",
      "  predictions[k].sum(axis=1)[:, np.newaxis])\n",
      "[Parallel(n_jobs=4)]: Using backend ThreadingBackend with 4 concurrent workers.\n",
      "[Parallel(n_jobs=4)]: Done  20 out of  20 | elapsed:    0.2s finished\n"
     ]
    },
    {
     "name": "stdout",
     "output_type": "stream",
     "text": [
      "CV score: 0.59540 \n",
      "store_data/new_feat/int_inter_3way/num_inter_3way_360.csv\n",
      "360\n",
      "400 == (174865, 235) (58289, 235)\n",
      "==============================\n",
      "Memory 313.52 MB ==>  84.05 MB\n",
      "Decreased by 73.2%\n",
      "==============================\n",
      "==============================\n",
      "Memory 104.51 MB ==>  27.46 MB\n",
      "Decreased by 73.7%\n",
      "==============================\n"
     ]
    },
    {
     "name": "stderr",
     "output_type": "stream",
     "text": [
      "[Parallel(n_jobs=4)]: Using backend ThreadingBackend with 4 concurrent workers.\n",
      "[Parallel(n_jobs=4)]: Done  20 out of  20 | elapsed:  1.8min finished\n",
      "/home/ankish/anaconda3/lib/python3.6/site-packages/sklearn/ensemble/forest.py:458: UserWarning: Some inputs do not have OOB scores. This probably means too few trees were used to compute any reliable oob estimates.\n",
      "  warn(\"Some inputs do not have OOB scores. \"\n",
      "/home/ankish/anaconda3/lib/python3.6/site-packages/sklearn/ensemble/forest.py:463: RuntimeWarning: invalid value encountered in true_divide\n",
      "  predictions[k].sum(axis=1)[:, np.newaxis])\n",
      "[Parallel(n_jobs=4)]: Using backend ThreadingBackend with 4 concurrent workers.\n",
      "[Parallel(n_jobs=4)]: Done  20 out of  20 | elapsed:    0.2s finished\n"
     ]
    },
    {
     "name": "stdout",
     "output_type": "stream",
     "text": [
      "CV score: 0.59804 \n",
      "store_data/new_feat/int_inter_3way/num_inter_3way_400.csv\n",
      "400\n",
      "440 == (174865, 235) (58289, 235)\n",
      "==============================\n",
      "Memory 313.52 MB ==>  88.05 MB\n",
      "Decreased by 71.9%\n",
      "==============================\n",
      "==============================\n",
      "Memory 104.51 MB ==>  27.68 MB\n",
      "Decreased by 73.5%\n",
      "==============================\n"
     ]
    },
    {
     "name": "stderr",
     "output_type": "stream",
     "text": [
      "[Parallel(n_jobs=4)]: Using backend ThreadingBackend with 4 concurrent workers.\n",
      "[Parallel(n_jobs=4)]: Done  20 out of  20 | elapsed:  1.9min finished\n",
      "/home/ankish/anaconda3/lib/python3.6/site-packages/sklearn/ensemble/forest.py:458: UserWarning: Some inputs do not have OOB scores. This probably means too few trees were used to compute any reliable oob estimates.\n",
      "  warn(\"Some inputs do not have OOB scores. \"\n",
      "/home/ankish/anaconda3/lib/python3.6/site-packages/sklearn/ensemble/forest.py:463: RuntimeWarning: invalid value encountered in true_divide\n",
      "  predictions[k].sum(axis=1)[:, np.newaxis])\n",
      "[Parallel(n_jobs=4)]: Using backend ThreadingBackend with 4 concurrent workers.\n",
      "[Parallel(n_jobs=4)]: Done  20 out of  20 | elapsed:    0.2s finished\n"
     ]
    },
    {
     "name": "stdout",
     "output_type": "stream",
     "text": [
      "CV score: 0.59460 \n",
      "store_data/new_feat/int_inter_3way/num_inter_3way_440.csv\n",
      "440\n",
      "480 == (174865, 235) (58289, 235)\n",
      "==============================\n",
      "Memory 313.52 MB ==>  88.39 MB\n",
      "Decreased by 71.8%\n",
      "==============================\n",
      "==============================\n",
      "Memory 104.51 MB ==>  27.91 MB\n",
      "Decreased by 73.3%\n",
      "==============================\n"
     ]
    },
    {
     "name": "stderr",
     "output_type": "stream",
     "text": [
      "[Parallel(n_jobs=4)]: Using backend ThreadingBackend with 4 concurrent workers.\n",
      "[Parallel(n_jobs=4)]: Done  20 out of  20 | elapsed:  1.9min finished\n",
      "/home/ankish/anaconda3/lib/python3.6/site-packages/sklearn/ensemble/forest.py:458: UserWarning: Some inputs do not have OOB scores. This probably means too few trees were used to compute any reliable oob estimates.\n",
      "  warn(\"Some inputs do not have OOB scores. \"\n",
      "/home/ankish/anaconda3/lib/python3.6/site-packages/sklearn/ensemble/forest.py:463: RuntimeWarning: invalid value encountered in true_divide\n",
      "  predictions[k].sum(axis=1)[:, np.newaxis])\n",
      "[Parallel(n_jobs=4)]: Using backend ThreadingBackend with 4 concurrent workers.\n",
      "[Parallel(n_jobs=4)]: Done  20 out of  20 | elapsed:    0.2s finished\n"
     ]
    },
    {
     "name": "stdout",
     "output_type": "stream",
     "text": [
      "CV score: 0.59560 \n",
      "store_data/new_feat/int_inter_3way/num_inter_3way_480.csv\n",
      "480\n",
      "520 == (174865, 235) (58289, 235)\n",
      "==============================\n",
      "Memory 313.52 MB ==>  86.72 MB\n",
      "Decreased by 72.3%\n",
      "==============================\n",
      "==============================\n",
      "Memory 104.51 MB ==>  28.02 MB\n",
      "Decreased by 73.2%\n",
      "==============================\n"
     ]
    },
    {
     "name": "stderr",
     "output_type": "stream",
     "text": [
      "[Parallel(n_jobs=4)]: Using backend ThreadingBackend with 4 concurrent workers.\n",
      "[Parallel(n_jobs=4)]: Done  20 out of  20 | elapsed:  1.9min finished\n",
      "/home/ankish/anaconda3/lib/python3.6/site-packages/sklearn/ensemble/forest.py:458: UserWarning: Some inputs do not have OOB scores. This probably means too few trees were used to compute any reliable oob estimates.\n",
      "  warn(\"Some inputs do not have OOB scores. \"\n",
      "/home/ankish/anaconda3/lib/python3.6/site-packages/sklearn/ensemble/forest.py:463: RuntimeWarning: invalid value encountered in true_divide\n",
      "  predictions[k].sum(axis=1)[:, np.newaxis])\n",
      "[Parallel(n_jobs=4)]: Using backend ThreadingBackend with 4 concurrent workers.\n",
      "[Parallel(n_jobs=4)]: Done  20 out of  20 | elapsed:    0.2s finished\n"
     ]
    },
    {
     "name": "stdout",
     "output_type": "stream",
     "text": [
      "CV score: 0.59707 \n",
      "store_data/new_feat/int_inter_3way/num_inter_3way_520.csv\n",
      "520\n",
      "560 == (174865, 235) (58289, 235)\n",
      "==============================\n",
      "Memory 313.52 MB ==>  85.05 MB\n",
      "Decreased by 72.9%\n",
      "==============================\n",
      "==============================\n",
      "Memory 104.51 MB ==>  27.46 MB\n",
      "Decreased by 73.7%\n",
      "==============================\n"
     ]
    },
    {
     "name": "stderr",
     "output_type": "stream",
     "text": [
      "[Parallel(n_jobs=4)]: Using backend ThreadingBackend with 4 concurrent workers.\n",
      "[Parallel(n_jobs=4)]: Done  20 out of  20 | elapsed:  1.8min finished\n",
      "/home/ankish/anaconda3/lib/python3.6/site-packages/sklearn/ensemble/forest.py:458: UserWarning: Some inputs do not have OOB scores. This probably means too few trees were used to compute any reliable oob estimates.\n",
      "  warn(\"Some inputs do not have OOB scores. \"\n",
      "/home/ankish/anaconda3/lib/python3.6/site-packages/sklearn/ensemble/forest.py:463: RuntimeWarning: invalid value encountered in true_divide\n",
      "  predictions[k].sum(axis=1)[:, np.newaxis])\n",
      "[Parallel(n_jobs=4)]: Using backend ThreadingBackend with 4 concurrent workers.\n",
      "[Parallel(n_jobs=4)]: Done  20 out of  20 | elapsed:    0.1s finished\n"
     ]
    },
    {
     "name": "stdout",
     "output_type": "stream",
     "text": [
      "CV score: 0.59694 \n",
      "store_data/new_feat/int_inter_3way/num_inter_3way_560.csv\n",
      "560\n",
      "600 == (174865, 235) (58289, 235)\n",
      "==============================\n",
      "Memory 313.52 MB ==>  82.05 MB\n",
      "Decreased by 73.8%\n",
      "==============================\n",
      "==============================\n",
      "Memory 104.51 MB ==>  27.46 MB\n",
      "Decreased by 73.7%\n",
      "==============================\n"
     ]
    },
    {
     "name": "stderr",
     "output_type": "stream",
     "text": [
      "[Parallel(n_jobs=4)]: Using backend ThreadingBackend with 4 concurrent workers.\n",
      "[Parallel(n_jobs=4)]: Done  20 out of  20 | elapsed:  1.5min finished\n",
      "/home/ankish/anaconda3/lib/python3.6/site-packages/sklearn/ensemble/forest.py:458: UserWarning: Some inputs do not have OOB scores. This probably means too few trees were used to compute any reliable oob estimates.\n",
      "  warn(\"Some inputs do not have OOB scores. \"\n",
      "/home/ankish/anaconda3/lib/python3.6/site-packages/sklearn/ensemble/forest.py:463: RuntimeWarning: invalid value encountered in true_divide\n",
      "  predictions[k].sum(axis=1)[:, np.newaxis])\n",
      "[Parallel(n_jobs=4)]: Using backend ThreadingBackend with 4 concurrent workers.\n",
      "[Parallel(n_jobs=4)]: Done  20 out of  20 | elapsed:    0.1s finished\n"
     ]
    },
    {
     "name": "stdout",
     "output_type": "stream",
     "text": [
      "CV score: 0.59739 \n",
      "store_data/new_feat/int_inter_3way/num_inter_3way_600.csv\n",
      "600\n",
      "640 == (174865, 235) (58289, 235)\n",
      "==============================\n",
      "Memory 313.52 MB ==>  82.05 MB\n",
      "Decreased by 73.8%\n",
      "==============================\n",
      "==============================\n",
      "Memory 104.51 MB ==>  27.35 MB\n",
      "Decreased by 73.8%\n",
      "==============================\n"
     ]
    },
    {
     "name": "stderr",
     "output_type": "stream",
     "text": [
      "[Parallel(n_jobs=4)]: Using backend ThreadingBackend with 4 concurrent workers.\n",
      "[Parallel(n_jobs=4)]: Done  20 out of  20 | elapsed:  1.4min finished\n",
      "/home/ankish/anaconda3/lib/python3.6/site-packages/sklearn/ensemble/forest.py:458: UserWarning: Some inputs do not have OOB scores. This probably means too few trees were used to compute any reliable oob estimates.\n",
      "  warn(\"Some inputs do not have OOB scores. \"\n",
      "/home/ankish/anaconda3/lib/python3.6/site-packages/sklearn/ensemble/forest.py:463: RuntimeWarning: invalid value encountered in true_divide\n",
      "  predictions[k].sum(axis=1)[:, np.newaxis])\n",
      "[Parallel(n_jobs=4)]: Using backend ThreadingBackend with 4 concurrent workers.\n",
      "[Parallel(n_jobs=4)]: Done  20 out of  20 | elapsed:    0.1s finished\n"
     ]
    },
    {
     "name": "stdout",
     "output_type": "stream",
     "text": [
      "CV score: 0.60152 \n",
      "store_data/new_feat/int_inter_3way/num_inter_3way_640.csv\n",
      "640\n",
      "680 == (174865, 235) (58289, 235)\n",
      "==============================\n",
      "Memory 313.52 MB ==>  82.05 MB\n",
      "Decreased by 73.8%\n",
      "==============================\n",
      "==============================\n",
      "Memory 104.51 MB ==>  27.35 MB\n",
      "Decreased by 73.8%\n",
      "==============================\n"
     ]
    },
    {
     "name": "stderr",
     "output_type": "stream",
     "text": [
      "[Parallel(n_jobs=4)]: Using backend ThreadingBackend with 4 concurrent workers.\n",
      "[Parallel(n_jobs=4)]: Done  20 out of  20 | elapsed:  1.7min finished\n",
      "/home/ankish/anaconda3/lib/python3.6/site-packages/sklearn/ensemble/forest.py:458: UserWarning: Some inputs do not have OOB scores. This probably means too few trees were used to compute any reliable oob estimates.\n",
      "  warn(\"Some inputs do not have OOB scores. \"\n",
      "/home/ankish/anaconda3/lib/python3.6/site-packages/sklearn/ensemble/forest.py:463: RuntimeWarning: invalid value encountered in true_divide\n",
      "  predictions[k].sum(axis=1)[:, np.newaxis])\n",
      "[Parallel(n_jobs=4)]: Using backend ThreadingBackend with 4 concurrent workers.\n",
      "[Parallel(n_jobs=4)]: Done  20 out of  20 | elapsed:    0.2s finished\n"
     ]
    },
    {
     "name": "stdout",
     "output_type": "stream",
     "text": [
      "CV score: 0.59647 \n",
      "store_data/new_feat/int_inter_3way/num_inter_3way_680.csv\n",
      "680\n",
      "720 == (174865, 235) (58289, 235)\n",
      "==============================\n",
      "Memory 313.52 MB ==>  82.05 MB\n",
      "Decreased by 73.8%\n",
      "==============================\n",
      "==============================\n",
      "Memory 104.51 MB ==>  27.35 MB\n",
      "Decreased by 73.8%\n",
      "==============================\n"
     ]
    },
    {
     "name": "stderr",
     "output_type": "stream",
     "text": [
      "[Parallel(n_jobs=4)]: Using backend ThreadingBackend with 4 concurrent workers.\n",
      "[Parallel(n_jobs=4)]: Done  20 out of  20 | elapsed:  1.6min finished\n",
      "/home/ankish/anaconda3/lib/python3.6/site-packages/sklearn/ensemble/forest.py:458: UserWarning: Some inputs do not have OOB scores. This probably means too few trees were used to compute any reliable oob estimates.\n",
      "  warn(\"Some inputs do not have OOB scores. \"\n",
      "/home/ankish/anaconda3/lib/python3.6/site-packages/sklearn/ensemble/forest.py:463: RuntimeWarning: invalid value encountered in true_divide\n",
      "  predictions[k].sum(axis=1)[:, np.newaxis])\n",
      "[Parallel(n_jobs=4)]: Using backend ThreadingBackend with 4 concurrent workers.\n",
      "[Parallel(n_jobs=4)]: Done  20 out of  20 | elapsed:    0.2s finished\n"
     ]
    },
    {
     "name": "stdout",
     "output_type": "stream",
     "text": [
      "CV score: 0.59935 \n",
      "store_data/new_feat/int_inter_3way/num_inter_3way_720.csv\n",
      "720\n",
      "760 == (174865, 235) (58289, 235)\n",
      "==============================\n",
      "Memory 313.52 MB ==>  83.72 MB\n",
      "Decreased by 73.3%\n",
      "==============================\n",
      "==============================\n",
      "Memory 104.51 MB ==>  27.35 MB\n",
      "Decreased by 73.8%\n",
      "==============================\n"
     ]
    },
    {
     "name": "stderr",
     "output_type": "stream",
     "text": [
      "[Parallel(n_jobs=4)]: Using backend ThreadingBackend with 4 concurrent workers.\n",
      "[Parallel(n_jobs=4)]: Done  20 out of  20 | elapsed:  1.8min finished\n",
      "/home/ankish/anaconda3/lib/python3.6/site-packages/sklearn/ensemble/forest.py:458: UserWarning: Some inputs do not have OOB scores. This probably means too few trees were used to compute any reliable oob estimates.\n",
      "  warn(\"Some inputs do not have OOB scores. \"\n",
      "/home/ankish/anaconda3/lib/python3.6/site-packages/sklearn/ensemble/forest.py:463: RuntimeWarning: invalid value encountered in true_divide\n",
      "  predictions[k].sum(axis=1)[:, np.newaxis])\n",
      "[Parallel(n_jobs=4)]: Using backend ThreadingBackend with 4 concurrent workers.\n",
      "[Parallel(n_jobs=4)]: Done  20 out of  20 | elapsed:    0.1s finished\n"
     ]
    },
    {
     "name": "stdout",
     "output_type": "stream",
     "text": [
      "CV score: 0.59303 \n",
      "store_data/new_feat/int_inter_3way/num_inter_3way_760.csv\n",
      "760\n",
      "800 == (174865, 235) (58289, 235)\n",
      "==============================\n",
      "Memory 313.52 MB ==>  82.05 MB\n",
      "Decreased by 73.8%\n",
      "==============================\n",
      "==============================\n",
      "Memory 104.51 MB ==>  27.35 MB\n",
      "Decreased by 73.8%\n",
      "==============================\n"
     ]
    },
    {
     "name": "stderr",
     "output_type": "stream",
     "text": [
      "[Parallel(n_jobs=4)]: Using backend ThreadingBackend with 4 concurrent workers.\n",
      "[Parallel(n_jobs=4)]: Done  20 out of  20 | elapsed:  1.6min finished\n",
      "/home/ankish/anaconda3/lib/python3.6/site-packages/sklearn/ensemble/forest.py:458: UserWarning: Some inputs do not have OOB scores. This probably means too few trees were used to compute any reliable oob estimates.\n",
      "  warn(\"Some inputs do not have OOB scores. \"\n",
      "/home/ankish/anaconda3/lib/python3.6/site-packages/sklearn/ensemble/forest.py:463: RuntimeWarning: invalid value encountered in true_divide\n",
      "  predictions[k].sum(axis=1)[:, np.newaxis])\n",
      "[Parallel(n_jobs=4)]: Using backend ThreadingBackend with 4 concurrent workers.\n",
      "[Parallel(n_jobs=4)]: Done  20 out of  20 | elapsed:    0.1s finished\n"
     ]
    },
    {
     "name": "stdout",
     "output_type": "stream",
     "text": [
      "CV score: 0.59955 \n",
      "store_data/new_feat/int_inter_3way/num_inter_3way_800.csv\n",
      "800\n",
      "840 == (174865, 235) (58289, 235)\n",
      "==============================\n",
      "Memory 313.52 MB ==>  82.05 MB\n",
      "Decreased by 73.8%\n",
      "==============================\n",
      "==============================\n",
      "Memory 104.51 MB ==>  27.35 MB\n",
      "Decreased by 73.8%\n",
      "==============================\n"
     ]
    },
    {
     "name": "stderr",
     "output_type": "stream",
     "text": [
      "[Parallel(n_jobs=4)]: Using backend ThreadingBackend with 4 concurrent workers.\n",
      "[Parallel(n_jobs=4)]: Done  20 out of  20 | elapsed:  1.7min finished\n",
      "/home/ankish/anaconda3/lib/python3.6/site-packages/sklearn/ensemble/forest.py:458: UserWarning: Some inputs do not have OOB scores. This probably means too few trees were used to compute any reliable oob estimates.\n",
      "  warn(\"Some inputs do not have OOB scores. \"\n",
      "/home/ankish/anaconda3/lib/python3.6/site-packages/sklearn/ensemble/forest.py:463: RuntimeWarning: invalid value encountered in true_divide\n",
      "  predictions[k].sum(axis=1)[:, np.newaxis])\n",
      "[Parallel(n_jobs=4)]: Using backend ThreadingBackend with 4 concurrent workers.\n",
      "[Parallel(n_jobs=4)]: Done  20 out of  20 | elapsed:    0.2s finished\n"
     ]
    },
    {
     "name": "stdout",
     "output_type": "stream",
     "text": [
      "CV score: 0.59329 \n",
      "store_data/new_feat/int_inter_3way/num_inter_3way_840.csv\n",
      "840\n",
      "880 == (174865, 235) (58289, 235)\n",
      "==============================\n",
      "Memory 313.52 MB ==>  82.38 MB\n",
      "Decreased by 73.7%\n",
      "==============================\n",
      "==============================\n",
      "Memory 104.51 MB ==>  27.46 MB\n",
      "Decreased by 73.7%\n",
      "==============================\n"
     ]
    },
    {
     "name": "stderr",
     "output_type": "stream",
     "text": [
      "[Parallel(n_jobs=4)]: Using backend ThreadingBackend with 4 concurrent workers.\n",
      "[Parallel(n_jobs=4)]: Done  20 out of  20 | elapsed:  1.5min finished\n",
      "/home/ankish/anaconda3/lib/python3.6/site-packages/sklearn/ensemble/forest.py:458: UserWarning: Some inputs do not have OOB scores. This probably means too few trees were used to compute any reliable oob estimates.\n",
      "  warn(\"Some inputs do not have OOB scores. \"\n",
      "/home/ankish/anaconda3/lib/python3.6/site-packages/sklearn/ensemble/forest.py:463: RuntimeWarning: invalid value encountered in true_divide\n",
      "  predictions[k].sum(axis=1)[:, np.newaxis])\n",
      "[Parallel(n_jobs=4)]: Using backend ThreadingBackend with 4 concurrent workers.\n",
      "[Parallel(n_jobs=4)]: Done  20 out of  20 | elapsed:    0.2s finished\n"
     ]
    },
    {
     "name": "stdout",
     "output_type": "stream",
     "text": [
      "CV score: 0.59670 \n",
      "store_data/new_feat/int_inter_3way/num_inter_3way_880.csv\n",
      "880\n",
      "920 == (174865, 235) (58289, 235)\n",
      "==============================\n",
      "Memory 313.52 MB ==>  82.05 MB\n",
      "Decreased by 73.8%\n",
      "==============================\n",
      "==============================\n",
      "Memory 104.51 MB ==>  27.35 MB\n",
      "Decreased by 73.8%\n",
      "==============================\n"
     ]
    },
    {
     "name": "stderr",
     "output_type": "stream",
     "text": [
      "[Parallel(n_jobs=4)]: Using backend ThreadingBackend with 4 concurrent workers.\n",
      "[Parallel(n_jobs=4)]: Done  20 out of  20 | elapsed:  1.5min finished\n",
      "/home/ankish/anaconda3/lib/python3.6/site-packages/sklearn/ensemble/forest.py:458: UserWarning: Some inputs do not have OOB scores. This probably means too few trees were used to compute any reliable oob estimates.\n",
      "  warn(\"Some inputs do not have OOB scores. \"\n",
      "/home/ankish/anaconda3/lib/python3.6/site-packages/sklearn/ensemble/forest.py:463: RuntimeWarning: invalid value encountered in true_divide\n",
      "  predictions[k].sum(axis=1)[:, np.newaxis])\n",
      "[Parallel(n_jobs=4)]: Using backend ThreadingBackend with 4 concurrent workers.\n",
      "[Parallel(n_jobs=4)]: Done  20 out of  20 | elapsed:    0.1s finished\n"
     ]
    },
    {
     "name": "stdout",
     "output_type": "stream",
     "text": [
      "CV score: 0.59639 \n",
      "store_data/new_feat/int_inter_3way/num_inter_3way_920.csv\n",
      "920\n",
      "960 == (174865, 235) (58289, 235)\n",
      "==============================\n",
      "Memory 313.52 MB ==>  82.72 MB\n",
      "Decreased by 73.6%\n",
      "==============================\n",
      "==============================\n",
      "Memory 104.51 MB ==>  27.35 MB\n",
      "Decreased by 73.8%\n",
      "==============================\n"
     ]
    },
    {
     "name": "stderr",
     "output_type": "stream",
     "text": [
      "[Parallel(n_jobs=4)]: Using backend ThreadingBackend with 4 concurrent workers.\n",
      "[Parallel(n_jobs=4)]: Done  20 out of  20 | elapsed:  1.7min finished\n",
      "/home/ankish/anaconda3/lib/python3.6/site-packages/sklearn/ensemble/forest.py:458: UserWarning: Some inputs do not have OOB scores. This probably means too few trees were used to compute any reliable oob estimates.\n",
      "  warn(\"Some inputs do not have OOB scores. \"\n",
      "/home/ankish/anaconda3/lib/python3.6/site-packages/sklearn/ensemble/forest.py:463: RuntimeWarning: invalid value encountered in true_divide\n",
      "  predictions[k].sum(axis=1)[:, np.newaxis])\n",
      "[Parallel(n_jobs=4)]: Using backend ThreadingBackend with 4 concurrent workers.\n",
      "[Parallel(n_jobs=4)]: Done  20 out of  20 | elapsed:    0.2s finished\n"
     ]
    },
    {
     "name": "stdout",
     "output_type": "stream",
     "text": [
      "CV score: 0.59033 \n",
      "store_data/new_feat/int_inter_3way/num_inter_3way_960.csv\n",
      "960\n",
      "1000 == (174865, 235) (58289, 235)\n",
      "==============================\n",
      "Memory 313.52 MB ==>  83.05 MB\n",
      "Decreased by 73.5%\n",
      "==============================\n",
      "==============================\n",
      "Memory 104.51 MB ==>  27.79 MB\n",
      "Decreased by 73.4%\n",
      "==============================\n"
     ]
    },
    {
     "name": "stderr",
     "output_type": "stream",
     "text": [
      "[Parallel(n_jobs=4)]: Using backend ThreadingBackend with 4 concurrent workers.\n",
      "[Parallel(n_jobs=4)]: Done  20 out of  20 | elapsed:  1.7min finished\n",
      "/home/ankish/anaconda3/lib/python3.6/site-packages/sklearn/ensemble/forest.py:458: UserWarning: Some inputs do not have OOB scores. This probably means too few trees were used to compute any reliable oob estimates.\n",
      "  warn(\"Some inputs do not have OOB scores. \"\n",
      "/home/ankish/anaconda3/lib/python3.6/site-packages/sklearn/ensemble/forest.py:463: RuntimeWarning: invalid value encountered in true_divide\n",
      "  predictions[k].sum(axis=1)[:, np.newaxis])\n",
      "[Parallel(n_jobs=4)]: Using backend ThreadingBackend with 4 concurrent workers.\n",
      "[Parallel(n_jobs=4)]: Done  20 out of  20 | elapsed:    0.2s finished\n"
     ]
    },
    {
     "name": "stdout",
     "output_type": "stream",
     "text": [
      "CV score: 0.59743 \n",
      "store_data/new_feat/int_inter_3way/num_inter_3way_1000.csv\n",
      "1000\n",
      "1040 == (174865, 235) (58289, 235)\n",
      "==============================\n",
      "Memory 313.52 MB ==>  83.38 MB\n",
      "Decreased by 73.4%\n",
      "==============================\n",
      "==============================\n",
      "Memory 104.51 MB ==>  27.57 MB\n",
      "Decreased by 73.6%\n",
      "==============================\n"
     ]
    },
    {
     "name": "stderr",
     "output_type": "stream",
     "text": [
      "[Parallel(n_jobs=4)]: Using backend ThreadingBackend with 4 concurrent workers.\n",
      "[Parallel(n_jobs=4)]: Done  20 out of  20 | elapsed:  1.7min finished\n",
      "/home/ankish/anaconda3/lib/python3.6/site-packages/sklearn/ensemble/forest.py:458: UserWarning: Some inputs do not have OOB scores. This probably means too few trees were used to compute any reliable oob estimates.\n",
      "  warn(\"Some inputs do not have OOB scores. \"\n",
      "/home/ankish/anaconda3/lib/python3.6/site-packages/sklearn/ensemble/forest.py:463: RuntimeWarning: invalid value encountered in true_divide\n",
      "  predictions[k].sum(axis=1)[:, np.newaxis])\n",
      "[Parallel(n_jobs=4)]: Using backend ThreadingBackend with 4 concurrent workers.\n",
      "[Parallel(n_jobs=4)]: Done  20 out of  20 | elapsed:    0.2s finished\n"
     ]
    },
    {
     "name": "stdout",
     "output_type": "stream",
     "text": [
      "CV score: 0.60063 \n",
      "store_data/new_feat/int_inter_3way/num_inter_3way_1040.csv\n",
      "1040\n",
      "1080 == (174865, 235) (58289, 235)\n",
      "==============================\n",
      "Memory 313.52 MB ==>  82.72 MB\n",
      "Decreased by 73.6%\n",
      "==============================\n",
      "==============================\n",
      "Memory 104.51 MB ==>  27.35 MB\n",
      "Decreased by 73.8%\n",
      "==============================\n"
     ]
    },
    {
     "name": "stderr",
     "output_type": "stream",
     "text": [
      "[Parallel(n_jobs=4)]: Using backend ThreadingBackend with 4 concurrent workers.\n",
      "[Parallel(n_jobs=4)]: Done  20 out of  20 | elapsed:  1.7min finished\n",
      "/home/ankish/anaconda3/lib/python3.6/site-packages/sklearn/ensemble/forest.py:458: UserWarning: Some inputs do not have OOB scores. This probably means too few trees were used to compute any reliable oob estimates.\n",
      "  warn(\"Some inputs do not have OOB scores. \"\n",
      "/home/ankish/anaconda3/lib/python3.6/site-packages/sklearn/ensemble/forest.py:463: RuntimeWarning: invalid value encountered in true_divide\n",
      "  predictions[k].sum(axis=1)[:, np.newaxis])\n",
      "[Parallel(n_jobs=4)]: Using backend ThreadingBackend with 4 concurrent workers.\n",
      "[Parallel(n_jobs=4)]: Done  20 out of  20 | elapsed:    0.1s finished\n"
     ]
    },
    {
     "name": "stdout",
     "output_type": "stream",
     "text": [
      "CV score: 0.59876 \n",
      "store_data/new_feat/int_inter_3way/num_inter_3way_1080.csv\n",
      "1080\n",
      "1120 == (174865, 235) (58289, 235)\n",
      "==============================\n",
      "Memory 313.52 MB ==>  82.05 MB\n",
      "Decreased by 73.8%\n",
      "==============================\n",
      "==============================\n",
      "Memory 104.51 MB ==>  27.46 MB\n",
      "Decreased by 73.7%\n",
      "==============================\n"
     ]
    },
    {
     "name": "stderr",
     "output_type": "stream",
     "text": [
      "[Parallel(n_jobs=4)]: Using backend ThreadingBackend with 4 concurrent workers.\n",
      "[Parallel(n_jobs=4)]: Done  20 out of  20 | elapsed:  1.4min finished\n",
      "/home/ankish/anaconda3/lib/python3.6/site-packages/sklearn/ensemble/forest.py:458: UserWarning: Some inputs do not have OOB scores. This probably means too few trees were used to compute any reliable oob estimates.\n",
      "  warn(\"Some inputs do not have OOB scores. \"\n",
      "/home/ankish/anaconda3/lib/python3.6/site-packages/sklearn/ensemble/forest.py:463: RuntimeWarning: invalid value encountered in true_divide\n",
      "  predictions[k].sum(axis=1)[:, np.newaxis])\n",
      "[Parallel(n_jobs=4)]: Using backend ThreadingBackend with 4 concurrent workers.\n",
      "[Parallel(n_jobs=4)]: Done  20 out of  20 | elapsed:    0.2s finished\n"
     ]
    },
    {
     "name": "stdout",
     "output_type": "stream",
     "text": [
      "CV score: 0.59650 \n",
      "store_data/new_feat/int_inter_3way/num_inter_3way_1120.csv\n",
      "1120\n",
      "1160 == (174865, 235) (58289, 235)\n",
      "==============================\n",
      "Memory 313.52 MB ==>  82.05 MB\n",
      "Decreased by 73.8%\n",
      "==============================\n",
      "==============================\n",
      "Memory 104.51 MB ==>  27.35 MB\n",
      "Decreased by 73.8%\n",
      "==============================\n"
     ]
    },
    {
     "name": "stderr",
     "output_type": "stream",
     "text": [
      "[Parallel(n_jobs=4)]: Using backend ThreadingBackend with 4 concurrent workers.\n",
      "[Parallel(n_jobs=4)]: Done  20 out of  20 | elapsed:  1.5min finished\n",
      "/home/ankish/anaconda3/lib/python3.6/site-packages/sklearn/ensemble/forest.py:458: UserWarning: Some inputs do not have OOB scores. This probably means too few trees were used to compute any reliable oob estimates.\n",
      "  warn(\"Some inputs do not have OOB scores. \"\n",
      "/home/ankish/anaconda3/lib/python3.6/site-packages/sklearn/ensemble/forest.py:463: RuntimeWarning: invalid value encountered in true_divide\n",
      "  predictions[k].sum(axis=1)[:, np.newaxis])\n",
      "[Parallel(n_jobs=4)]: Using backend ThreadingBackend with 4 concurrent workers.\n",
      "[Parallel(n_jobs=4)]: Done  20 out of  20 | elapsed:    0.1s finished\n"
     ]
    },
    {
     "name": "stdout",
     "output_type": "stream",
     "text": [
      "CV score: 0.59828 \n",
      "store_data/new_feat/int_inter_3way/num_inter_3way_1160.csv\n",
      "1160\n",
      "1200 == (174865, 235) (58289, 235)\n",
      "==============================\n",
      "Memory 313.52 MB ==>  82.38 MB\n",
      "Decreased by 73.7%\n",
      "==============================\n",
      "==============================\n",
      "Memory 104.51 MB ==>  27.35 MB\n",
      "Decreased by 73.8%\n",
      "==============================\n"
     ]
    },
    {
     "name": "stderr",
     "output_type": "stream",
     "text": [
      "[Parallel(n_jobs=4)]: Using backend ThreadingBackend with 4 concurrent workers.\n",
      "[Parallel(n_jobs=4)]: Done  20 out of  20 | elapsed:  1.7min finished\n",
      "/home/ankish/anaconda3/lib/python3.6/site-packages/sklearn/ensemble/forest.py:458: UserWarning: Some inputs do not have OOB scores. This probably means too few trees were used to compute any reliable oob estimates.\n",
      "  warn(\"Some inputs do not have OOB scores. \"\n",
      "/home/ankish/anaconda3/lib/python3.6/site-packages/sklearn/ensemble/forest.py:463: RuntimeWarning: invalid value encountered in true_divide\n",
      "  predictions[k].sum(axis=1)[:, np.newaxis])\n",
      "[Parallel(n_jobs=4)]: Using backend ThreadingBackend with 4 concurrent workers.\n",
      "[Parallel(n_jobs=4)]: Done  20 out of  20 | elapsed:    0.1s finished\n"
     ]
    },
    {
     "name": "stdout",
     "output_type": "stream",
     "text": [
      "CV score: 0.59864 \n",
      "store_data/new_feat/int_inter_3way/num_inter_3way_1200.csv\n",
      "1200\n",
      "1240 == (174865, 235) (58289, 235)\n",
      "==============================\n",
      "Memory 313.52 MB ==>  82.38 MB\n",
      "Decreased by 73.7%\n",
      "==============================\n",
      "==============================\n",
      "Memory 104.51 MB ==>  27.35 MB\n",
      "Decreased by 73.8%\n",
      "==============================\n"
     ]
    },
    {
     "name": "stderr",
     "output_type": "stream",
     "text": [
      "[Parallel(n_jobs=4)]: Using backend ThreadingBackend with 4 concurrent workers.\n",
      "[Parallel(n_jobs=4)]: Done  20 out of  20 | elapsed:  1.7min finished\n",
      "/home/ankish/anaconda3/lib/python3.6/site-packages/sklearn/ensemble/forest.py:458: UserWarning: Some inputs do not have OOB scores. This probably means too few trees were used to compute any reliable oob estimates.\n",
      "  warn(\"Some inputs do not have OOB scores. \"\n",
      "/home/ankish/anaconda3/lib/python3.6/site-packages/sklearn/ensemble/forest.py:463: RuntimeWarning: invalid value encountered in true_divide\n",
      "  predictions[k].sum(axis=1)[:, np.newaxis])\n",
      "[Parallel(n_jobs=4)]: Using backend ThreadingBackend with 4 concurrent workers.\n",
      "[Parallel(n_jobs=4)]: Done  20 out of  20 | elapsed:    0.1s finished\n"
     ]
    },
    {
     "name": "stdout",
     "output_type": "stream",
     "text": [
      "CV score: 0.59709 \n",
      "store_data/new_feat/int_inter_3way/num_inter_3way_1240.csv\n",
      "1240\n",
      "1280 == (174865, 235) (58289, 235)\n",
      "==============================\n",
      "Memory 313.52 MB ==>  83.05 MB\n",
      "Decreased by 73.5%\n",
      "==============================\n",
      "==============================\n",
      "Memory 104.51 MB ==>  27.46 MB\n",
      "Decreased by 73.7%\n",
      "==============================\n"
     ]
    },
    {
     "name": "stderr",
     "output_type": "stream",
     "text": [
      "[Parallel(n_jobs=4)]: Using backend ThreadingBackend with 4 concurrent workers.\n",
      "[Parallel(n_jobs=4)]: Done  20 out of  20 | elapsed:  1.7min finished\n",
      "/home/ankish/anaconda3/lib/python3.6/site-packages/sklearn/ensemble/forest.py:458: UserWarning: Some inputs do not have OOB scores. This probably means too few trees were used to compute any reliable oob estimates.\n",
      "  warn(\"Some inputs do not have OOB scores. \"\n",
      "/home/ankish/anaconda3/lib/python3.6/site-packages/sklearn/ensemble/forest.py:463: RuntimeWarning: invalid value encountered in true_divide\n",
      "  predictions[k].sum(axis=1)[:, np.newaxis])\n",
      "[Parallel(n_jobs=4)]: Using backend ThreadingBackend with 4 concurrent workers.\n",
      "[Parallel(n_jobs=4)]: Done  20 out of  20 | elapsed:    0.2s finished\n"
     ]
    },
    {
     "name": "stdout",
     "output_type": "stream",
     "text": [
      "CV score: 0.60099 \n",
      "store_data/new_feat/int_inter_3way/num_inter_3way_1280.csv\n",
      "1280\n",
      "1320 == (174865, 235) (58289, 235)\n",
      "==============================\n",
      "Memory 313.52 MB ==>  82.38 MB\n",
      "Decreased by 73.7%\n",
      "==============================\n",
      "==============================\n",
      "Memory 104.51 MB ==>  27.35 MB\n",
      "Decreased by 73.8%\n",
      "==============================\n"
     ]
    },
    {
     "name": "stderr",
     "output_type": "stream",
     "text": [
      "[Parallel(n_jobs=4)]: Using backend ThreadingBackend with 4 concurrent workers.\n",
      "[Parallel(n_jobs=4)]: Done  20 out of  20 | elapsed:  1.6min finished\n",
      "/home/ankish/anaconda3/lib/python3.6/site-packages/sklearn/ensemble/forest.py:458: UserWarning: Some inputs do not have OOB scores. This probably means too few trees were used to compute any reliable oob estimates.\n",
      "  warn(\"Some inputs do not have OOB scores. \"\n",
      "/home/ankish/anaconda3/lib/python3.6/site-packages/sklearn/ensemble/forest.py:463: RuntimeWarning: invalid value encountered in true_divide\n",
      "  predictions[k].sum(axis=1)[:, np.newaxis])\n",
      "[Parallel(n_jobs=4)]: Using backend ThreadingBackend with 4 concurrent workers.\n",
      "[Parallel(n_jobs=4)]: Done  20 out of  20 | elapsed:    0.2s finished\n"
     ]
    },
    {
     "name": "stdout",
     "output_type": "stream",
     "text": [
      "CV score: 0.60007 \n",
      "store_data/new_feat/int_inter_3way/num_inter_3way_1320.csv\n",
      "1320\n",
      "1360 == (174865, 235) (58289, 235)\n",
      "==============================\n",
      "Memory 313.52 MB ==>  82.05 MB\n",
      "Decreased by 73.8%\n",
      "==============================\n",
      "==============================\n",
      "Memory 104.51 MB ==>  27.35 MB\n",
      "Decreased by 73.8%\n",
      "==============================\n"
     ]
    },
    {
     "name": "stderr",
     "output_type": "stream",
     "text": [
      "[Parallel(n_jobs=4)]: Using backend ThreadingBackend with 4 concurrent workers.\n",
      "[Parallel(n_jobs=4)]: Done  20 out of  20 | elapsed:  1.5min finished\n",
      "/home/ankish/anaconda3/lib/python3.6/site-packages/sklearn/ensemble/forest.py:458: UserWarning: Some inputs do not have OOB scores. This probably means too few trees were used to compute any reliable oob estimates.\n",
      "  warn(\"Some inputs do not have OOB scores. \"\n",
      "/home/ankish/anaconda3/lib/python3.6/site-packages/sklearn/ensemble/forest.py:463: RuntimeWarning: invalid value encountered in true_divide\n",
      "  predictions[k].sum(axis=1)[:, np.newaxis])\n",
      "[Parallel(n_jobs=4)]: Using backend ThreadingBackend with 4 concurrent workers.\n",
      "[Parallel(n_jobs=4)]: Done  20 out of  20 | elapsed:    0.1s finished\n"
     ]
    },
    {
     "name": "stdout",
     "output_type": "stream",
     "text": [
      "CV score: 0.59761 \n",
      "store_data/new_feat/int_inter_3way/num_inter_3way_1360.csv\n",
      "1360\n",
      "1400 == (174865, 235) (58289, 235)\n",
      "==============================\n",
      "Memory 313.52 MB ==>  82.05 MB\n",
      "Decreased by 73.8%\n",
      "==============================\n",
      "==============================\n",
      "Memory 104.51 MB ==>  27.35 MB\n",
      "Decreased by 73.8%\n",
      "==============================\n"
     ]
    },
    {
     "name": "stderr",
     "output_type": "stream",
     "text": [
      "[Parallel(n_jobs=4)]: Using backend ThreadingBackend with 4 concurrent workers.\n",
      "[Parallel(n_jobs=4)]: Done  20 out of  20 | elapsed:  1.4min finished\n",
      "/home/ankish/anaconda3/lib/python3.6/site-packages/sklearn/ensemble/forest.py:458: UserWarning: Some inputs do not have OOB scores. This probably means too few trees were used to compute any reliable oob estimates.\n",
      "  warn(\"Some inputs do not have OOB scores. \"\n",
      "/home/ankish/anaconda3/lib/python3.6/site-packages/sklearn/ensemble/forest.py:463: RuntimeWarning: invalid value encountered in true_divide\n",
      "  predictions[k].sum(axis=1)[:, np.newaxis])\n",
      "[Parallel(n_jobs=4)]: Using backend ThreadingBackend with 4 concurrent workers.\n",
      "[Parallel(n_jobs=4)]: Done  20 out of  20 | elapsed:    0.2s finished\n"
     ]
    },
    {
     "name": "stdout",
     "output_type": "stream",
     "text": [
      "CV score: 0.60235 \n",
      "store_data/new_feat/int_inter_3way/num_inter_3way_1400.csv\n",
      "1400\n",
      "1440 == (174865, 235) (58289, 235)\n",
      "==============================\n",
      "Memory 313.52 MB ==>  82.05 MB\n",
      "Decreased by 73.8%\n",
      "==============================\n",
      "==============================\n",
      "Memory 104.51 MB ==>  27.35 MB\n",
      "Decreased by 73.8%\n",
      "==============================\n"
     ]
    },
    {
     "name": "stderr",
     "output_type": "stream",
     "text": [
      "[Parallel(n_jobs=4)]: Using backend ThreadingBackend with 4 concurrent workers.\n",
      "[Parallel(n_jobs=4)]: Done  20 out of  20 | elapsed:  1.6min finished\n",
      "/home/ankish/anaconda3/lib/python3.6/site-packages/sklearn/ensemble/forest.py:458: UserWarning: Some inputs do not have OOB scores. This probably means too few trees were used to compute any reliable oob estimates.\n",
      "  warn(\"Some inputs do not have OOB scores. \"\n",
      "/home/ankish/anaconda3/lib/python3.6/site-packages/sklearn/ensemble/forest.py:463: RuntimeWarning: invalid value encountered in true_divide\n",
      "  predictions[k].sum(axis=1)[:, np.newaxis])\n",
      "[Parallel(n_jobs=4)]: Using backend ThreadingBackend with 4 concurrent workers.\n",
      "[Parallel(n_jobs=4)]: Done  20 out of  20 | elapsed:    0.2s finished\n"
     ]
    },
    {
     "name": "stdout",
     "output_type": "stream",
     "text": [
      "CV score: 0.59692 \n",
      "store_data/new_feat/int_inter_3way/num_inter_3way_1440.csv\n",
      "1440\n",
      "1480 == (174865, 235) (58289, 235)\n",
      "==============================\n",
      "Memory 313.52 MB ==>  83.72 MB\n",
      "Decreased by 73.3%\n",
      "==============================\n",
      "==============================\n",
      "Memory 104.51 MB ==>  27.46 MB\n",
      "Decreased by 73.7%\n",
      "==============================\n"
     ]
    },
    {
     "name": "stderr",
     "output_type": "stream",
     "text": [
      "[Parallel(n_jobs=4)]: Using backend ThreadingBackend with 4 concurrent workers.\n",
      "[Parallel(n_jobs=4)]: Done  20 out of  20 | elapsed:  1.8min finished\n",
      "/home/ankish/anaconda3/lib/python3.6/site-packages/sklearn/ensemble/forest.py:458: UserWarning: Some inputs do not have OOB scores. This probably means too few trees were used to compute any reliable oob estimates.\n",
      "  warn(\"Some inputs do not have OOB scores. \"\n",
      "/home/ankish/anaconda3/lib/python3.6/site-packages/sklearn/ensemble/forest.py:463: RuntimeWarning: invalid value encountered in true_divide\n",
      "  predictions[k].sum(axis=1)[:, np.newaxis])\n",
      "[Parallel(n_jobs=4)]: Using backend ThreadingBackend with 4 concurrent workers.\n",
      "[Parallel(n_jobs=4)]: Done  20 out of  20 | elapsed:    0.2s finished\n"
     ]
    },
    {
     "name": "stdout",
     "output_type": "stream",
     "text": [
      "CV score: 0.59530 \n",
      "store_data/new_feat/int_inter_3way/num_inter_3way_1480.csv\n",
      "1480\n",
      "1520 == (174865, 235) (58289, 235)\n",
      "==============================\n",
      "Memory 313.52 MB ==>  82.38 MB\n",
      "Decreased by 73.7%\n",
      "==============================\n",
      "==============================\n",
      "Memory 104.51 MB ==>  27.35 MB\n",
      "Decreased by 73.8%\n",
      "==============================\n"
     ]
    },
    {
     "name": "stderr",
     "output_type": "stream",
     "text": [
      "[Parallel(n_jobs=4)]: Using backend ThreadingBackend with 4 concurrent workers.\n",
      "[Parallel(n_jobs=4)]: Done  20 out of  20 | elapsed:  1.6min finished\n",
      "/home/ankish/anaconda3/lib/python3.6/site-packages/sklearn/ensemble/forest.py:458: UserWarning: Some inputs do not have OOB scores. This probably means too few trees were used to compute any reliable oob estimates.\n",
      "  warn(\"Some inputs do not have OOB scores. \"\n",
      "/home/ankish/anaconda3/lib/python3.6/site-packages/sklearn/ensemble/forest.py:463: RuntimeWarning: invalid value encountered in true_divide\n",
      "  predictions[k].sum(axis=1)[:, np.newaxis])\n",
      "[Parallel(n_jobs=4)]: Using backend ThreadingBackend with 4 concurrent workers.\n",
      "[Parallel(n_jobs=4)]: Done  20 out of  20 | elapsed:    0.2s finished\n"
     ]
    },
    {
     "name": "stdout",
     "output_type": "stream",
     "text": [
      "CV score: 0.59661 \n",
      "store_data/new_feat/int_inter_3way/num_inter_3way_1520.csv\n",
      "1520\n",
      "1560 == (174865, 235) (58289, 235)\n",
      "==============================\n",
      "Memory 313.52 MB ==>  83.38 MB\n",
      "Decreased by 73.4%\n",
      "==============================\n",
      "==============================\n",
      "Memory 104.51 MB ==>  27.35 MB\n",
      "Decreased by 73.8%\n",
      "==============================\n"
     ]
    },
    {
     "name": "stderr",
     "output_type": "stream",
     "text": [
      "[Parallel(n_jobs=4)]: Using backend ThreadingBackend with 4 concurrent workers.\n",
      "[Parallel(n_jobs=4)]: Done  20 out of  20 | elapsed:  1.7min finished\n",
      "/home/ankish/anaconda3/lib/python3.6/site-packages/sklearn/ensemble/forest.py:458: UserWarning: Some inputs do not have OOB scores. This probably means too few trees were used to compute any reliable oob estimates.\n",
      "  warn(\"Some inputs do not have OOB scores. \"\n",
      "/home/ankish/anaconda3/lib/python3.6/site-packages/sklearn/ensemble/forest.py:463: RuntimeWarning: invalid value encountered in true_divide\n",
      "  predictions[k].sum(axis=1)[:, np.newaxis])\n",
      "[Parallel(n_jobs=4)]: Using backend ThreadingBackend with 4 concurrent workers.\n",
      "[Parallel(n_jobs=4)]: Done  20 out of  20 | elapsed:    0.2s finished\n"
     ]
    },
    {
     "name": "stdout",
     "output_type": "stream",
     "text": [
      "CV score: 0.59634 \n",
      "store_data/new_feat/int_inter_3way/num_inter_3way_1560.csv\n",
      "1560\n",
      "1600 == (174865, 235) (58289, 235)\n",
      "==============================\n",
      "Memory 313.52 MB ==>  82.38 MB\n",
      "Decreased by 73.7%\n",
      "==============================\n",
      "==============================\n",
      "Memory 104.51 MB ==>  27.35 MB\n",
      "Decreased by 73.8%\n",
      "==============================\n"
     ]
    },
    {
     "name": "stderr",
     "output_type": "stream",
     "text": [
      "[Parallel(n_jobs=4)]: Using backend ThreadingBackend with 4 concurrent workers.\n",
      "[Parallel(n_jobs=4)]: Done  20 out of  20 | elapsed:  1.5min finished\n",
      "/home/ankish/anaconda3/lib/python3.6/site-packages/sklearn/ensemble/forest.py:458: UserWarning: Some inputs do not have OOB scores. This probably means too few trees were used to compute any reliable oob estimates.\n",
      "  warn(\"Some inputs do not have OOB scores. \"\n",
      "/home/ankish/anaconda3/lib/python3.6/site-packages/sklearn/ensemble/forest.py:463: RuntimeWarning: invalid value encountered in true_divide\n",
      "  predictions[k].sum(axis=1)[:, np.newaxis])\n",
      "[Parallel(n_jobs=4)]: Using backend ThreadingBackend with 4 concurrent workers.\n",
      "[Parallel(n_jobs=4)]: Done  20 out of  20 | elapsed:    0.2s finished\n"
     ]
    },
    {
     "name": "stdout",
     "output_type": "stream",
     "text": [
      "CV score: 0.60091 \n",
      "store_data/new_feat/int_inter_3way/num_inter_3way_1600.csv\n",
      "1600\n",
      "1640 == (174865, 235) (58289, 235)\n",
      "==============================\n",
      "Memory 313.52 MB ==>  85.38 MB\n",
      "Decreased by 72.8%\n",
      "==============================\n",
      "==============================\n",
      "Memory 104.51 MB ==>  27.35 MB\n",
      "Decreased by 73.8%\n",
      "==============================\n"
     ]
    },
    {
     "name": "stderr",
     "output_type": "stream",
     "text": [
      "[Parallel(n_jobs=4)]: Using backend ThreadingBackend with 4 concurrent workers.\n",
      "[Parallel(n_jobs=4)]: Done  20 out of  20 | elapsed:  1.6min finished\n",
      "/home/ankish/anaconda3/lib/python3.6/site-packages/sklearn/ensemble/forest.py:458: UserWarning: Some inputs do not have OOB scores. This probably means too few trees were used to compute any reliable oob estimates.\n",
      "  warn(\"Some inputs do not have OOB scores. \"\n",
      "/home/ankish/anaconda3/lib/python3.6/site-packages/sklearn/ensemble/forest.py:463: RuntimeWarning: invalid value encountered in true_divide\n",
      "  predictions[k].sum(axis=1)[:, np.newaxis])\n",
      "[Parallel(n_jobs=4)]: Using backend ThreadingBackend with 4 concurrent workers.\n",
      "[Parallel(n_jobs=4)]: Done  20 out of  20 | elapsed:    0.1s finished\n"
     ]
    },
    {
     "name": "stdout",
     "output_type": "stream",
     "text": [
      "CV score: 0.59849 \n",
      "store_data/new_feat/int_inter_3way/num_inter_3way_1640.csv\n",
      "1640\n",
      "1680 == (174865, 235) (58289, 235)\n",
      "==============================\n",
      "Memory 313.52 MB ==>  82.05 MB\n",
      "Decreased by 73.8%\n",
      "==============================\n",
      "==============================\n",
      "Memory 104.51 MB ==>  27.79 MB\n",
      "Decreased by 73.4%\n",
      "==============================\n"
     ]
    },
    {
     "name": "stderr",
     "output_type": "stream",
     "text": [
      "[Parallel(n_jobs=4)]: Using backend ThreadingBackend with 4 concurrent workers.\n",
      "[Parallel(n_jobs=4)]: Done  20 out of  20 | elapsed:  1.6min finished\n",
      "/home/ankish/anaconda3/lib/python3.6/site-packages/sklearn/ensemble/forest.py:458: UserWarning: Some inputs do not have OOB scores. This probably means too few trees were used to compute any reliable oob estimates.\n",
      "  warn(\"Some inputs do not have OOB scores. \"\n",
      "/home/ankish/anaconda3/lib/python3.6/site-packages/sklearn/ensemble/forest.py:463: RuntimeWarning: invalid value encountered in true_divide\n",
      "  predictions[k].sum(axis=1)[:, np.newaxis])\n",
      "[Parallel(n_jobs=4)]: Using backend ThreadingBackend with 4 concurrent workers.\n",
      "[Parallel(n_jobs=4)]: Done  20 out of  20 | elapsed:    0.2s finished\n"
     ]
    },
    {
     "name": "stdout",
     "output_type": "stream",
     "text": [
      "CV score: 0.60339 \n",
      "store_data/new_feat/int_inter_3way/num_inter_3way_1680.csv\n",
      "1680\n",
      "1720 == (174865, 235) (58289, 235)\n",
      "==============================\n",
      "Memory 313.52 MB ==>  83.72 MB\n",
      "Decreased by 73.3%\n",
      "==============================\n",
      "==============================\n",
      "Memory 104.51 MB ==>  28.35 MB\n",
      "Decreased by 72.9%\n",
      "==============================\n"
     ]
    },
    {
     "name": "stderr",
     "output_type": "stream",
     "text": [
      "[Parallel(n_jobs=4)]: Using backend ThreadingBackend with 4 concurrent workers.\n",
      "[Parallel(n_jobs=4)]: Done  20 out of  20 | elapsed:  1.8min finished\n",
      "/home/ankish/anaconda3/lib/python3.6/site-packages/sklearn/ensemble/forest.py:458: UserWarning: Some inputs do not have OOB scores. This probably means too few trees were used to compute any reliable oob estimates.\n",
      "  warn(\"Some inputs do not have OOB scores. \"\n",
      "/home/ankish/anaconda3/lib/python3.6/site-packages/sklearn/ensemble/forest.py:463: RuntimeWarning: invalid value encountered in true_divide\n",
      "  predictions[k].sum(axis=1)[:, np.newaxis])\n",
      "[Parallel(n_jobs=4)]: Using backend ThreadingBackend with 4 concurrent workers.\n",
      "[Parallel(n_jobs=4)]: Done  20 out of  20 | elapsed:    0.2s finished\n"
     ]
    },
    {
     "name": "stdout",
     "output_type": "stream",
     "text": [
      "CV score: 0.59878 \n",
      "store_data/new_feat/int_inter_3way/num_inter_3way_1720.csv\n",
      "1720\n",
      "1760 == (174865, 235) (58289, 235)\n",
      "==============================\n",
      "Memory 313.52 MB ==>  83.05 MB\n",
      "Decreased by 73.5%\n",
      "==============================\n",
      "==============================\n",
      "Memory 104.51 MB ==>  27.35 MB\n",
      "Decreased by 73.8%\n",
      "==============================\n"
     ]
    },
    {
     "name": "stderr",
     "output_type": "stream",
     "text": [
      "[Parallel(n_jobs=4)]: Using backend ThreadingBackend with 4 concurrent workers.\n",
      "[Parallel(n_jobs=4)]: Done  20 out of  20 | elapsed:  1.4min finished\n",
      "/home/ankish/anaconda3/lib/python3.6/site-packages/sklearn/ensemble/forest.py:458: UserWarning: Some inputs do not have OOB scores. This probably means too few trees were used to compute any reliable oob estimates.\n",
      "  warn(\"Some inputs do not have OOB scores. \"\n",
      "/home/ankish/anaconda3/lib/python3.6/site-packages/sklearn/ensemble/forest.py:463: RuntimeWarning: invalid value encountered in true_divide\n",
      "  predictions[k].sum(axis=1)[:, np.newaxis])\n",
      "[Parallel(n_jobs=4)]: Using backend ThreadingBackend with 4 concurrent workers.\n",
      "[Parallel(n_jobs=4)]: Done  20 out of  20 | elapsed:    0.1s finished\n"
     ]
    },
    {
     "name": "stdout",
     "output_type": "stream",
     "text": [
      "CV score: 0.59881 \n",
      "store_data/new_feat/int_inter_3way/num_inter_3way_1760.csv\n",
      "1760\n",
      "1800 == (174865, 235) (58289, 235)\n",
      "==============================\n",
      "Memory 313.52 MB ==>  82.72 MB\n",
      "Decreased by 73.6%\n",
      "==============================\n",
      "==============================\n",
      "Memory 104.51 MB ==>  27.35 MB\n",
      "Decreased by 73.8%\n",
      "==============================\n"
     ]
    },
    {
     "name": "stderr",
     "output_type": "stream",
     "text": [
      "[Parallel(n_jobs=4)]: Using backend ThreadingBackend with 4 concurrent workers.\n",
      "[Parallel(n_jobs=4)]: Done  20 out of  20 | elapsed:  1.5min finished\n",
      "/home/ankish/anaconda3/lib/python3.6/site-packages/sklearn/ensemble/forest.py:458: UserWarning: Some inputs do not have OOB scores. This probably means too few trees were used to compute any reliable oob estimates.\n",
      "  warn(\"Some inputs do not have OOB scores. \"\n",
      "/home/ankish/anaconda3/lib/python3.6/site-packages/sklearn/ensemble/forest.py:463: RuntimeWarning: invalid value encountered in true_divide\n",
      "  predictions[k].sum(axis=1)[:, np.newaxis])\n",
      "[Parallel(n_jobs=4)]: Using backend ThreadingBackend with 4 concurrent workers.\n",
      "[Parallel(n_jobs=4)]: Done  20 out of  20 | elapsed:    0.2s finished\n"
     ]
    },
    {
     "name": "stdout",
     "output_type": "stream",
     "text": [
      "CV score: 0.59427 \n",
      "store_data/new_feat/int_inter_3way/num_inter_3way_1800.csv\n",
      "1800\n",
      "1840 == (174865, 235) (58289, 235)\n",
      "==============================\n",
      "Memory 313.52 MB ==>  82.38 MB\n",
      "Decreased by 73.7%\n",
      "==============================\n",
      "==============================\n",
      "Memory 104.51 MB ==>  27.35 MB\n",
      "Decreased by 73.8%\n",
      "==============================\n"
     ]
    },
    {
     "name": "stderr",
     "output_type": "stream",
     "text": [
      "[Parallel(n_jobs=4)]: Using backend ThreadingBackend with 4 concurrent workers.\n",
      "[Parallel(n_jobs=4)]: Done  20 out of  20 | elapsed:  1.3min finished\n",
      "/home/ankish/anaconda3/lib/python3.6/site-packages/sklearn/ensemble/forest.py:458: UserWarning: Some inputs do not have OOB scores. This probably means too few trees were used to compute any reliable oob estimates.\n",
      "  warn(\"Some inputs do not have OOB scores. \"\n",
      "/home/ankish/anaconda3/lib/python3.6/site-packages/sklearn/ensemble/forest.py:463: RuntimeWarning: invalid value encountered in true_divide\n",
      "  predictions[k].sum(axis=1)[:, np.newaxis])\n",
      "[Parallel(n_jobs=4)]: Using backend ThreadingBackend with 4 concurrent workers.\n",
      "[Parallel(n_jobs=4)]: Done  20 out of  20 | elapsed:    0.2s finished\n"
     ]
    },
    {
     "name": "stdout",
     "output_type": "stream",
     "text": [
      "CV score: 0.60171 \n",
      "store_data/new_feat/int_inter_3way/num_inter_3way_1840.csv\n",
      "1840\n",
      "1880 == (174865, 235) (58289, 235)\n",
      "==============================\n",
      "Memory 313.52 MB ==>  82.72 MB\n",
      "Decreased by 73.6%\n",
      "==============================\n",
      "==============================\n",
      "Memory 104.51 MB ==>  27.35 MB\n",
      "Decreased by 73.8%\n",
      "==============================\n"
     ]
    },
    {
     "name": "stderr",
     "output_type": "stream",
     "text": [
      "[Parallel(n_jobs=4)]: Using backend ThreadingBackend with 4 concurrent workers.\n",
      "[Parallel(n_jobs=4)]: Done  20 out of  20 | elapsed:  1.3min finished\n",
      "/home/ankish/anaconda3/lib/python3.6/site-packages/sklearn/ensemble/forest.py:458: UserWarning: Some inputs do not have OOB scores. This probably means too few trees were used to compute any reliable oob estimates.\n",
      "  warn(\"Some inputs do not have OOB scores. \"\n",
      "/home/ankish/anaconda3/lib/python3.6/site-packages/sklearn/ensemble/forest.py:463: RuntimeWarning: invalid value encountered in true_divide\n",
      "  predictions[k].sum(axis=1)[:, np.newaxis])\n",
      "[Parallel(n_jobs=4)]: Using backend ThreadingBackend with 4 concurrent workers.\n",
      "[Parallel(n_jobs=4)]: Done  20 out of  20 | elapsed:    0.2s finished\n"
     ]
    },
    {
     "name": "stdout",
     "output_type": "stream",
     "text": [
      "CV score: 0.59949 \n",
      "store_data/new_feat/int_inter_3way/num_inter_3way_1880.csv\n",
      "1880\n",
      "1920 == (174865, 235) (58289, 235)\n",
      "==============================\n",
      "Memory 313.52 MB ==>  83.38 MB\n",
      "Decreased by 73.4%\n",
      "==============================\n",
      "==============================\n",
      "Memory 104.51 MB ==>  27.35 MB\n",
      "Decreased by 73.8%\n",
      "==============================\n"
     ]
    },
    {
     "name": "stderr",
     "output_type": "stream",
     "text": [
      "[Parallel(n_jobs=4)]: Using backend ThreadingBackend with 4 concurrent workers.\n",
      "[Parallel(n_jobs=4)]: Done  20 out of  20 | elapsed:  1.6min finished\n",
      "/home/ankish/anaconda3/lib/python3.6/site-packages/sklearn/ensemble/forest.py:458: UserWarning: Some inputs do not have OOB scores. This probably means too few trees were used to compute any reliable oob estimates.\n",
      "  warn(\"Some inputs do not have OOB scores. \"\n",
      "/home/ankish/anaconda3/lib/python3.6/site-packages/sklearn/ensemble/forest.py:463: RuntimeWarning: invalid value encountered in true_divide\n",
      "  predictions[k].sum(axis=1)[:, np.newaxis])\n",
      "[Parallel(n_jobs=4)]: Using backend ThreadingBackend with 4 concurrent workers.\n",
      "[Parallel(n_jobs=4)]: Done  20 out of  20 | elapsed:    0.2s finished\n"
     ]
    },
    {
     "name": "stdout",
     "output_type": "stream",
     "text": [
      "CV score: 0.59633 \n",
      "store_data/new_feat/int_inter_3way/num_inter_3way_1920.csv\n",
      "1920\n",
      "1960 == (174865, 235) (58289, 235)\n",
      "==============================\n",
      "Memory 313.52 MB ==>  84.72 MB\n",
      "Decreased by 73.0%\n",
      "==============================\n",
      "==============================\n",
      "Memory 104.51 MB ==>  27.35 MB\n",
      "Decreased by 73.8%\n",
      "==============================\n"
     ]
    },
    {
     "name": "stderr",
     "output_type": "stream",
     "text": [
      "[Parallel(n_jobs=4)]: Using backend ThreadingBackend with 4 concurrent workers.\n",
      "[Parallel(n_jobs=4)]: Done  20 out of  20 | elapsed:  1.6min finished\n",
      "/home/ankish/anaconda3/lib/python3.6/site-packages/sklearn/ensemble/forest.py:458: UserWarning: Some inputs do not have OOB scores. This probably means too few trees were used to compute any reliable oob estimates.\n",
      "  warn(\"Some inputs do not have OOB scores. \"\n",
      "/home/ankish/anaconda3/lib/python3.6/site-packages/sklearn/ensemble/forest.py:463: RuntimeWarning: invalid value encountered in true_divide\n",
      "  predictions[k].sum(axis=1)[:, np.newaxis])\n",
      "[Parallel(n_jobs=4)]: Using backend ThreadingBackend with 4 concurrent workers.\n",
      "[Parallel(n_jobs=4)]: Done  20 out of  20 | elapsed:    0.1s finished\n"
     ]
    },
    {
     "name": "stdout",
     "output_type": "stream",
     "text": [
      "CV score: 0.59465 \n",
      "store_data/new_feat/int_inter_3way/num_inter_3way_1960.csv\n",
      "1960\n",
      "2000 == (174865, 235) (58289, 235)\n",
      "==============================\n",
      "Memory 313.52 MB ==>  85.05 MB\n",
      "Decreased by 72.9%\n",
      "==============================\n",
      "==============================\n",
      "Memory 104.51 MB ==>  27.35 MB\n",
      "Decreased by 73.8%\n",
      "==============================\n"
     ]
    },
    {
     "name": "stderr",
     "output_type": "stream",
     "text": [
      "[Parallel(n_jobs=4)]: Using backend ThreadingBackend with 4 concurrent workers.\n",
      "[Parallel(n_jobs=4)]: Done  20 out of  20 | elapsed:  1.6min finished\n",
      "/home/ankish/anaconda3/lib/python3.6/site-packages/sklearn/ensemble/forest.py:458: UserWarning: Some inputs do not have OOB scores. This probably means too few trees were used to compute any reliable oob estimates.\n",
      "  warn(\"Some inputs do not have OOB scores. \"\n",
      "/home/ankish/anaconda3/lib/python3.6/site-packages/sklearn/ensemble/forest.py:463: RuntimeWarning: invalid value encountered in true_divide\n",
      "  predictions[k].sum(axis=1)[:, np.newaxis])\n",
      "[Parallel(n_jobs=4)]: Using backend ThreadingBackend with 4 concurrent workers.\n",
      "[Parallel(n_jobs=4)]: Done  20 out of  20 | elapsed:    0.1s finished\n"
     ]
    },
    {
     "name": "stdout",
     "output_type": "stream",
     "text": [
      "CV score: 0.59534 \n",
      "store_data/new_feat/int_inter_3way/num_inter_3way_2000.csv\n",
      "2000\n",
      "2040 == (174865, 235) (58289, 235)\n",
      "==============================\n",
      "Memory 313.52 MB ==>  85.05 MB\n",
      "Decreased by 72.9%\n",
      "==============================\n",
      "==============================\n",
      "Memory 104.51 MB ==>  27.35 MB\n",
      "Decreased by 73.8%\n",
      "==============================\n"
     ]
    },
    {
     "name": "stderr",
     "output_type": "stream",
     "text": [
      "[Parallel(n_jobs=4)]: Using backend ThreadingBackend with 4 concurrent workers.\n",
      "[Parallel(n_jobs=4)]: Done  20 out of  20 | elapsed:  1.6min finished\n",
      "/home/ankish/anaconda3/lib/python3.6/site-packages/sklearn/ensemble/forest.py:458: UserWarning: Some inputs do not have OOB scores. This probably means too few trees were used to compute any reliable oob estimates.\n",
      "  warn(\"Some inputs do not have OOB scores. \"\n",
      "/home/ankish/anaconda3/lib/python3.6/site-packages/sklearn/ensemble/forest.py:463: RuntimeWarning: invalid value encountered in true_divide\n",
      "  predictions[k].sum(axis=1)[:, np.newaxis])\n",
      "[Parallel(n_jobs=4)]: Using backend ThreadingBackend with 4 concurrent workers.\n",
      "[Parallel(n_jobs=4)]: Done  20 out of  20 | elapsed:    0.2s finished\n"
     ]
    },
    {
     "name": "stdout",
     "output_type": "stream",
     "text": [
      "CV score: 0.60117 \n",
      "store_data/new_feat/int_inter_3way/num_inter_3way_2040.csv\n",
      "2040\n",
      "2080 == (174865, 235) (58289, 235)\n",
      "==============================\n",
      "Memory 313.52 MB ==>  83.05 MB\n",
      "Decreased by 73.5%\n",
      "==============================\n",
      "==============================\n",
      "Memory 104.51 MB ==>  27.46 MB\n",
      "Decreased by 73.7%\n",
      "==============================\n"
     ]
    },
    {
     "name": "stderr",
     "output_type": "stream",
     "text": [
      "[Parallel(n_jobs=4)]: Using backend ThreadingBackend with 4 concurrent workers.\n",
      "[Parallel(n_jobs=4)]: Done  20 out of  20 | elapsed:  1.7min finished\n",
      "/home/ankish/anaconda3/lib/python3.6/site-packages/sklearn/ensemble/forest.py:458: UserWarning: Some inputs do not have OOB scores. This probably means too few trees were used to compute any reliable oob estimates.\n",
      "  warn(\"Some inputs do not have OOB scores. \"\n",
      "/home/ankish/anaconda3/lib/python3.6/site-packages/sklearn/ensemble/forest.py:463: RuntimeWarning: invalid value encountered in true_divide\n",
      "  predictions[k].sum(axis=1)[:, np.newaxis])\n",
      "[Parallel(n_jobs=4)]: Using backend ThreadingBackend with 4 concurrent workers.\n",
      "[Parallel(n_jobs=4)]: Done  20 out of  20 | elapsed:    0.2s finished\n"
     ]
    },
    {
     "name": "stdout",
     "output_type": "stream",
     "text": [
      "CV score: 0.60189 \n",
      "store_data/new_feat/int_inter_3way/num_inter_3way_2080.csv\n",
      "2080\n",
      "2120 == (174865, 235) (58289, 235)\n",
      "==============================\n",
      "Memory 313.52 MB ==>  83.05 MB\n",
      "Decreased by 73.5%\n",
      "==============================\n",
      "==============================\n",
      "Memory 104.51 MB ==>  27.46 MB\n",
      "Decreased by 73.7%\n",
      "==============================\n"
     ]
    },
    {
     "name": "stderr",
     "output_type": "stream",
     "text": [
      "[Parallel(n_jobs=4)]: Using backend ThreadingBackend with 4 concurrent workers.\n",
      "[Parallel(n_jobs=4)]: Done  20 out of  20 | elapsed:  1.7min finished\n",
      "/home/ankish/anaconda3/lib/python3.6/site-packages/sklearn/ensemble/forest.py:458: UserWarning: Some inputs do not have OOB scores. This probably means too few trees were used to compute any reliable oob estimates.\n",
      "  warn(\"Some inputs do not have OOB scores. \"\n",
      "/home/ankish/anaconda3/lib/python3.6/site-packages/sklearn/ensemble/forest.py:463: RuntimeWarning: invalid value encountered in true_divide\n",
      "  predictions[k].sum(axis=1)[:, np.newaxis])\n",
      "[Parallel(n_jobs=4)]: Using backend ThreadingBackend with 4 concurrent workers.\n",
      "[Parallel(n_jobs=4)]: Done  20 out of  20 | elapsed:    0.2s finished\n"
     ]
    },
    {
     "name": "stdout",
     "output_type": "stream",
     "text": [
      "CV score: 0.60343 \n",
      "store_data/new_feat/int_inter_3way/num_inter_3way_2120.csv\n",
      "2120\n",
      "2160 == (174865, 235) (58289, 235)\n",
      "==============================\n",
      "Memory 313.52 MB ==>  84.05 MB\n",
      "Decreased by 73.2%\n",
      "==============================\n",
      "==============================\n",
      "Memory 104.51 MB ==>  27.68 MB\n",
      "Decreased by 73.5%\n",
      "==============================\n"
     ]
    },
    {
     "name": "stderr",
     "output_type": "stream",
     "text": [
      "[Parallel(n_jobs=4)]: Using backend ThreadingBackend with 4 concurrent workers.\n",
      "[Parallel(n_jobs=4)]: Done  20 out of  20 | elapsed:  1.8min finished\n",
      "/home/ankish/anaconda3/lib/python3.6/site-packages/sklearn/ensemble/forest.py:458: UserWarning: Some inputs do not have OOB scores. This probably means too few trees were used to compute any reliable oob estimates.\n",
      "  warn(\"Some inputs do not have OOB scores. \"\n",
      "/home/ankish/anaconda3/lib/python3.6/site-packages/sklearn/ensemble/forest.py:463: RuntimeWarning: invalid value encountered in true_divide\n",
      "  predictions[k].sum(axis=1)[:, np.newaxis])\n",
      "[Parallel(n_jobs=4)]: Using backend ThreadingBackend with 4 concurrent workers.\n",
      "[Parallel(n_jobs=4)]: Done  20 out of  20 | elapsed:    0.1s finished\n"
     ]
    },
    {
     "name": "stdout",
     "output_type": "stream",
     "text": [
      "CV score: 0.59650 \n",
      "store_data/new_feat/int_inter_3way/num_inter_3way_2160.csv\n",
      "2160\n",
      "2200 == (174865, 235) (58289, 235)\n",
      "==============================\n",
      "Memory 313.52 MB ==>  83.38 MB\n",
      "Decreased by 73.4%\n",
      "==============================\n",
      "==============================\n",
      "Memory 104.51 MB ==>  27.79 MB\n",
      "Decreased by 73.4%\n",
      "==============================\n"
     ]
    },
    {
     "name": "stderr",
     "output_type": "stream",
     "text": [
      "[Parallel(n_jobs=4)]: Using backend ThreadingBackend with 4 concurrent workers.\n",
      "[Parallel(n_jobs=4)]: Done  20 out of  20 | elapsed:  1.5min finished\n",
      "/home/ankish/anaconda3/lib/python3.6/site-packages/sklearn/ensemble/forest.py:458: UserWarning: Some inputs do not have OOB scores. This probably means too few trees were used to compute any reliable oob estimates.\n",
      "  warn(\"Some inputs do not have OOB scores. \"\n",
      "/home/ankish/anaconda3/lib/python3.6/site-packages/sklearn/ensemble/forest.py:463: RuntimeWarning: invalid value encountered in true_divide\n",
      "  predictions[k].sum(axis=1)[:, np.newaxis])\n",
      "[Parallel(n_jobs=4)]: Using backend ThreadingBackend with 4 concurrent workers.\n",
      "[Parallel(n_jobs=4)]: Done  20 out of  20 | elapsed:    0.2s finished\n"
     ]
    },
    {
     "name": "stdout",
     "output_type": "stream",
     "text": [
      "CV score: 0.59847 \n",
      "store_data/new_feat/int_inter_3way/num_inter_3way_2200.csv\n",
      "2200\n",
      "2240 == (174865, 235) (58289, 235)\n",
      "==============================\n",
      "Memory 313.52 MB ==>  82.72 MB\n",
      "Decreased by 73.6%\n",
      "==============================\n",
      "==============================\n",
      "Memory 104.51 MB ==>  27.35 MB\n",
      "Decreased by 73.8%\n",
      "==============================\n"
     ]
    },
    {
     "name": "stderr",
     "output_type": "stream",
     "text": [
      "[Parallel(n_jobs=4)]: Using backend ThreadingBackend with 4 concurrent workers.\n",
      "[Parallel(n_jobs=4)]: Done  20 out of  20 | elapsed:  1.6min finished\n",
      "/home/ankish/anaconda3/lib/python3.6/site-packages/sklearn/ensemble/forest.py:458: UserWarning: Some inputs do not have OOB scores. This probably means too few trees were used to compute any reliable oob estimates.\n",
      "  warn(\"Some inputs do not have OOB scores. \"\n",
      "/home/ankish/anaconda3/lib/python3.6/site-packages/sklearn/ensemble/forest.py:463: RuntimeWarning: invalid value encountered in true_divide\n",
      "  predictions[k].sum(axis=1)[:, np.newaxis])\n",
      "[Parallel(n_jobs=4)]: Using backend ThreadingBackend with 4 concurrent workers.\n",
      "[Parallel(n_jobs=4)]: Done  20 out of  20 | elapsed:    0.1s finished\n"
     ]
    },
    {
     "name": "stdout",
     "output_type": "stream",
     "text": [
      "CV score: 0.60246 \n",
      "store_data/new_feat/int_inter_3way/num_inter_3way_2240.csv\n",
      "2240\n",
      "2280 == (174865, 235) (58289, 235)\n",
      "==============================\n",
      "Memory 313.52 MB ==>  82.38 MB\n",
      "Decreased by 73.7%\n",
      "==============================\n",
      "==============================\n",
      "Memory 104.51 MB ==>  27.35 MB\n",
      "Decreased by 73.8%\n",
      "==============================\n"
     ]
    },
    {
     "name": "stderr",
     "output_type": "stream",
     "text": [
      "[Parallel(n_jobs=4)]: Using backend ThreadingBackend with 4 concurrent workers.\n",
      "[Parallel(n_jobs=4)]: Done  20 out of  20 | elapsed:  1.4min finished\n",
      "/home/ankish/anaconda3/lib/python3.6/site-packages/sklearn/ensemble/forest.py:458: UserWarning: Some inputs do not have OOB scores. This probably means too few trees were used to compute any reliable oob estimates.\n",
      "  warn(\"Some inputs do not have OOB scores. \"\n",
      "/home/ankish/anaconda3/lib/python3.6/site-packages/sklearn/ensemble/forest.py:463: RuntimeWarning: invalid value encountered in true_divide\n",
      "  predictions[k].sum(axis=1)[:, np.newaxis])\n",
      "[Parallel(n_jobs=4)]: Using backend ThreadingBackend with 4 concurrent workers.\n",
      "[Parallel(n_jobs=4)]: Done  20 out of  20 | elapsed:    0.2s finished\n"
     ]
    },
    {
     "name": "stdout",
     "output_type": "stream",
     "text": [
      "CV score: 0.60029 \n",
      "store_data/new_feat/int_inter_3way/num_inter_3way_2280.csv\n",
      "2280\n",
      "2320 == (174865, 235) (58289, 235)\n",
      "==============================\n",
      "Memory 313.52 MB ==>  82.05 MB\n",
      "Decreased by 73.8%\n",
      "==============================\n",
      "==============================\n",
      "Memory 104.51 MB ==>  27.35 MB\n",
      "Decreased by 73.8%\n",
      "==============================\n"
     ]
    },
    {
     "name": "stderr",
     "output_type": "stream",
     "text": [
      "[Parallel(n_jobs=4)]: Using backend ThreadingBackend with 4 concurrent workers.\n",
      "[Parallel(n_jobs=4)]: Done  20 out of  20 | elapsed:  1.5min finished\n",
      "/home/ankish/anaconda3/lib/python3.6/site-packages/sklearn/ensemble/forest.py:458: UserWarning: Some inputs do not have OOB scores. This probably means too few trees were used to compute any reliable oob estimates.\n",
      "  warn(\"Some inputs do not have OOB scores. \"\n",
      "/home/ankish/anaconda3/lib/python3.6/site-packages/sklearn/ensemble/forest.py:463: RuntimeWarning: invalid value encountered in true_divide\n",
      "  predictions[k].sum(axis=1)[:, np.newaxis])\n",
      "[Parallel(n_jobs=4)]: Using backend ThreadingBackend with 4 concurrent workers.\n",
      "[Parallel(n_jobs=4)]: Done  20 out of  20 | elapsed:    0.1s finished\n"
     ]
    },
    {
     "name": "stdout",
     "output_type": "stream",
     "text": [
      "CV score: 0.60061 \n",
      "store_data/new_feat/int_inter_3way/num_inter_3way_2320.csv\n",
      "2320\n",
      "2360 == (174865, 235) (58289, 235)\n",
      "==============================\n",
      "Memory 313.52 MB ==>  83.38 MB\n",
      "Decreased by 73.4%\n",
      "==============================\n",
      "==============================\n",
      "Memory 104.51 MB ==>  27.57 MB\n",
      "Decreased by 73.6%\n",
      "==============================\n"
     ]
    },
    {
     "name": "stderr",
     "output_type": "stream",
     "text": [
      "[Parallel(n_jobs=4)]: Using backend ThreadingBackend with 4 concurrent workers.\n",
      "[Parallel(n_jobs=4)]: Done  20 out of  20 | elapsed:  1.7min finished\n",
      "/home/ankish/anaconda3/lib/python3.6/site-packages/sklearn/ensemble/forest.py:458: UserWarning: Some inputs do not have OOB scores. This probably means too few trees were used to compute any reliable oob estimates.\n",
      "  warn(\"Some inputs do not have OOB scores. \"\n",
      "/home/ankish/anaconda3/lib/python3.6/site-packages/sklearn/ensemble/forest.py:463: RuntimeWarning: invalid value encountered in true_divide\n",
      "  predictions[k].sum(axis=1)[:, np.newaxis])\n",
      "[Parallel(n_jobs=4)]: Using backend ThreadingBackend with 4 concurrent workers.\n",
      "[Parallel(n_jobs=4)]: Done  20 out of  20 | elapsed:    0.2s finished\n"
     ]
    },
    {
     "name": "stdout",
     "output_type": "stream",
     "text": [
      "CV score: 0.59331 \n",
      "store_data/new_feat/int_inter_3way/num_inter_3way_2360.csv\n",
      "2360\n",
      "2400 == (174865, 235) (58289, 235)\n",
      "==============================\n",
      "Memory 313.52 MB ==>  83.05 MB\n",
      "Decreased by 73.5%\n",
      "==============================\n",
      "==============================\n",
      "Memory 104.51 MB ==>  27.79 MB\n",
      "Decreased by 73.4%\n",
      "==============================\n"
     ]
    },
    {
     "name": "stderr",
     "output_type": "stream",
     "text": [
      "[Parallel(n_jobs=4)]: Using backend ThreadingBackend with 4 concurrent workers.\n",
      "[Parallel(n_jobs=4)]: Done  20 out of  20 | elapsed:  1.7min finished\n",
      "/home/ankish/anaconda3/lib/python3.6/site-packages/sklearn/ensemble/forest.py:458: UserWarning: Some inputs do not have OOB scores. This probably means too few trees were used to compute any reliable oob estimates.\n",
      "  warn(\"Some inputs do not have OOB scores. \"\n",
      "/home/ankish/anaconda3/lib/python3.6/site-packages/sklearn/ensemble/forest.py:463: RuntimeWarning: invalid value encountered in true_divide\n",
      "  predictions[k].sum(axis=1)[:, np.newaxis])\n",
      "[Parallel(n_jobs=4)]: Using backend ThreadingBackend with 4 concurrent workers.\n",
      "[Parallel(n_jobs=4)]: Done  20 out of  20 | elapsed:    0.2s finished\n"
     ]
    },
    {
     "name": "stdout",
     "output_type": "stream",
     "text": [
      "CV score: 0.59595 \n",
      "store_data/new_feat/int_inter_3way/num_inter_3way_2400.csv\n",
      "2400\n",
      "2440 == (174865, 235) (58289, 235)\n",
      "==============================\n",
      "Memory 313.52 MB ==>  83.72 MB\n",
      "Decreased by 73.3%\n",
      "==============================\n",
      "==============================\n",
      "Memory 104.51 MB ==>  27.79 MB\n",
      "Decreased by 73.4%\n",
      "==============================\n"
     ]
    },
    {
     "name": "stderr",
     "output_type": "stream",
     "text": [
      "[Parallel(n_jobs=4)]: Using backend ThreadingBackend with 4 concurrent workers.\n",
      "[Parallel(n_jobs=4)]: Done  20 out of  20 | elapsed:  1.7min finished\n",
      "/home/ankish/anaconda3/lib/python3.6/site-packages/sklearn/ensemble/forest.py:458: UserWarning: Some inputs do not have OOB scores. This probably means too few trees were used to compute any reliable oob estimates.\n",
      "  warn(\"Some inputs do not have OOB scores. \"\n",
      "/home/ankish/anaconda3/lib/python3.6/site-packages/sklearn/ensemble/forest.py:463: RuntimeWarning: invalid value encountered in true_divide\n",
      "  predictions[k].sum(axis=1)[:, np.newaxis])\n",
      "[Parallel(n_jobs=4)]: Using backend ThreadingBackend with 4 concurrent workers.\n",
      "[Parallel(n_jobs=4)]: Done  20 out of  20 | elapsed:    0.1s finished\n"
     ]
    },
    {
     "name": "stdout",
     "output_type": "stream",
     "text": [
      "CV score: 0.59985 \n",
      "store_data/new_feat/int_inter_3way/num_inter_3way_2440.csv\n",
      "2440\n",
      "2480 == (174865, 235) (58289, 235)\n",
      "==============================\n",
      "Memory 313.52 MB ==>  84.05 MB\n",
      "Decreased by 73.2%\n",
      "==============================\n",
      "==============================\n",
      "Memory 104.51 MB ==>  27.79 MB\n",
      "Decreased by 73.4%\n",
      "==============================\n"
     ]
    },
    {
     "name": "stderr",
     "output_type": "stream",
     "text": [
      "[Parallel(n_jobs=4)]: Using backend ThreadingBackend with 4 concurrent workers.\n",
      "[Parallel(n_jobs=4)]: Done  20 out of  20 | elapsed:  1.7min finished\n",
      "/home/ankish/anaconda3/lib/python3.6/site-packages/sklearn/ensemble/forest.py:458: UserWarning: Some inputs do not have OOB scores. This probably means too few trees were used to compute any reliable oob estimates.\n",
      "  warn(\"Some inputs do not have OOB scores. \"\n",
      "/home/ankish/anaconda3/lib/python3.6/site-packages/sklearn/ensemble/forest.py:463: RuntimeWarning: invalid value encountered in true_divide\n",
      "  predictions[k].sum(axis=1)[:, np.newaxis])\n",
      "[Parallel(n_jobs=4)]: Using backend ThreadingBackend with 4 concurrent workers.\n",
      "[Parallel(n_jobs=4)]: Done  20 out of  20 | elapsed:    0.1s finished\n"
     ]
    },
    {
     "name": "stdout",
     "output_type": "stream",
     "text": [
      "CV score: 0.60296 \n",
      "store_data/new_feat/int_inter_3way/num_inter_3way_2480.csv\n",
      "2480\n",
      "2520 == (174865, 235) (58289, 235)\n",
      "==============================\n",
      "Memory 313.52 MB ==>  82.72 MB\n",
      "Decreased by 73.6%\n",
      "==============================\n",
      "==============================\n",
      "Memory 104.51 MB ==>  27.35 MB\n",
      "Decreased by 73.8%\n",
      "==============================\n"
     ]
    },
    {
     "name": "stderr",
     "output_type": "stream",
     "text": [
      "[Parallel(n_jobs=4)]: Using backend ThreadingBackend with 4 concurrent workers.\n",
      "[Parallel(n_jobs=4)]: Done  20 out of  20 | elapsed:  1.8min finished\n",
      "/home/ankish/anaconda3/lib/python3.6/site-packages/sklearn/ensemble/forest.py:458: UserWarning: Some inputs do not have OOB scores. This probably means too few trees were used to compute any reliable oob estimates.\n",
      "  warn(\"Some inputs do not have OOB scores. \"\n",
      "/home/ankish/anaconda3/lib/python3.6/site-packages/sklearn/ensemble/forest.py:463: RuntimeWarning: invalid value encountered in true_divide\n",
      "  predictions[k].sum(axis=1)[:, np.newaxis])\n",
      "[Parallel(n_jobs=4)]: Using backend ThreadingBackend with 4 concurrent workers.\n",
      "[Parallel(n_jobs=4)]: Done  20 out of  20 | elapsed:    0.2s finished\n"
     ]
    },
    {
     "name": "stdout",
     "output_type": "stream",
     "text": [
      "CV score: 0.59855 \n",
      "store_data/new_feat/int_inter_3way/num_inter_3way_2520.csv\n",
      "2520\n",
      "2560 == (174865, 235) (58289, 235)\n",
      "==============================\n",
      "Memory 313.52 MB ==>  86.72 MB\n",
      "Decreased by 72.3%\n",
      "==============================\n",
      "==============================\n",
      "Memory 104.51 MB ==>  27.79 MB\n",
      "Decreased by 73.4%\n",
      "==============================\n"
     ]
    },
    {
     "name": "stderr",
     "output_type": "stream",
     "text": [
      "[Parallel(n_jobs=4)]: Using backend ThreadingBackend with 4 concurrent workers.\n",
      "[Parallel(n_jobs=4)]: Done  20 out of  20 | elapsed:  1.9min finished\n",
      "/home/ankish/anaconda3/lib/python3.6/site-packages/sklearn/ensemble/forest.py:458: UserWarning: Some inputs do not have OOB scores. This probably means too few trees were used to compute any reliable oob estimates.\n",
      "  warn(\"Some inputs do not have OOB scores. \"\n",
      "/home/ankish/anaconda3/lib/python3.6/site-packages/sklearn/ensemble/forest.py:463: RuntimeWarning: invalid value encountered in true_divide\n",
      "  predictions[k].sum(axis=1)[:, np.newaxis])\n",
      "[Parallel(n_jobs=4)]: Using backend ThreadingBackend with 4 concurrent workers.\n",
      "[Parallel(n_jobs=4)]: Done  20 out of  20 | elapsed:    0.2s finished\n"
     ]
    },
    {
     "name": "stdout",
     "output_type": "stream",
     "text": [
      "CV score: 0.59394 \n",
      "store_data/new_feat/int_inter_3way/num_inter_3way_2560.csv\n",
      "2560\n",
      "2600 == (174865, 235) (58289, 235)\n",
      "==============================\n",
      "Memory 313.52 MB ==>  82.05 MB\n",
      "Decreased by 73.8%\n",
      "==============================\n",
      "==============================\n",
      "Memory 104.51 MB ==>  27.35 MB\n",
      "Decreased by 73.8%\n",
      "==============================\n"
     ]
    },
    {
     "name": "stderr",
     "output_type": "stream",
     "text": [
      "[Parallel(n_jobs=4)]: Using backend ThreadingBackend with 4 concurrent workers.\n",
      "[Parallel(n_jobs=4)]: Done  20 out of  20 | elapsed:  1.8min finished\n",
      "/home/ankish/anaconda3/lib/python3.6/site-packages/sklearn/ensemble/forest.py:458: UserWarning: Some inputs do not have OOB scores. This probably means too few trees were used to compute any reliable oob estimates.\n",
      "  warn(\"Some inputs do not have OOB scores. \"\n",
      "/home/ankish/anaconda3/lib/python3.6/site-packages/sklearn/ensemble/forest.py:463: RuntimeWarning: invalid value encountered in true_divide\n",
      "  predictions[k].sum(axis=1)[:, np.newaxis])\n",
      "[Parallel(n_jobs=4)]: Using backend ThreadingBackend with 4 concurrent workers.\n",
      "[Parallel(n_jobs=4)]: Done  20 out of  20 | elapsed:    0.2s finished\n"
     ]
    },
    {
     "name": "stdout",
     "output_type": "stream",
     "text": [
      "CV score: 0.60011 \n",
      "store_data/new_feat/int_inter_3way/num_inter_3way_2600.csv\n",
      "2600\n",
      "2640 == (174865, 235) (58289, 235)\n",
      "==============================\n",
      "Memory 313.52 MB ==>  82.38 MB\n",
      "Decreased by 73.7%\n",
      "==============================\n",
      "==============================\n",
      "Memory 104.51 MB ==>  27.35 MB\n",
      "Decreased by 73.8%\n",
      "==============================\n"
     ]
    },
    {
     "name": "stderr",
     "output_type": "stream",
     "text": [
      "[Parallel(n_jobs=4)]: Using backend ThreadingBackend with 4 concurrent workers.\n",
      "[Parallel(n_jobs=4)]: Done  20 out of  20 | elapsed:  1.7min finished\n",
      "/home/ankish/anaconda3/lib/python3.6/site-packages/sklearn/ensemble/forest.py:458: UserWarning: Some inputs do not have OOB scores. This probably means too few trees were used to compute any reliable oob estimates.\n",
      "  warn(\"Some inputs do not have OOB scores. \"\n",
      "/home/ankish/anaconda3/lib/python3.6/site-packages/sklearn/ensemble/forest.py:463: RuntimeWarning: invalid value encountered in true_divide\n",
      "  predictions[k].sum(axis=1)[:, np.newaxis])\n",
      "[Parallel(n_jobs=4)]: Using backend ThreadingBackend with 4 concurrent workers.\n",
      "[Parallel(n_jobs=4)]: Done  20 out of  20 | elapsed:    0.1s finished\n"
     ]
    },
    {
     "name": "stdout",
     "output_type": "stream",
     "text": [
      "CV score: 0.59803 \n",
      "store_data/new_feat/int_inter_3way/num_inter_3way_2640.csv\n",
      "2640\n",
      "2680 == (174865, 235) (58289, 235)\n",
      "==============================\n",
      "Memory 313.52 MB ==>  82.38 MB\n",
      "Decreased by 73.7%\n",
      "==============================\n",
      "==============================\n",
      "Memory 104.51 MB ==>  27.46 MB\n",
      "Decreased by 73.7%\n",
      "==============================\n"
     ]
    },
    {
     "name": "stderr",
     "output_type": "stream",
     "text": [
      "[Parallel(n_jobs=4)]: Using backend ThreadingBackend with 4 concurrent workers.\n",
      "[Parallel(n_jobs=4)]: Done  20 out of  20 | elapsed:  1.7min finished\n",
      "/home/ankish/anaconda3/lib/python3.6/site-packages/sklearn/ensemble/forest.py:458: UserWarning: Some inputs do not have OOB scores. This probably means too few trees were used to compute any reliable oob estimates.\n",
      "  warn(\"Some inputs do not have OOB scores. \"\n",
      "/home/ankish/anaconda3/lib/python3.6/site-packages/sklearn/ensemble/forest.py:463: RuntimeWarning: invalid value encountered in true_divide\n",
      "  predictions[k].sum(axis=1)[:, np.newaxis])\n",
      "[Parallel(n_jobs=4)]: Using backend ThreadingBackend with 4 concurrent workers.\n",
      "[Parallel(n_jobs=4)]: Done  20 out of  20 | elapsed:    0.1s finished\n"
     ]
    },
    {
     "name": "stdout",
     "output_type": "stream",
     "text": [
      "CV score: 0.60056 \n",
      "store_data/new_feat/int_inter_3way/num_inter_3way_2680.csv\n",
      "2680\n",
      "2720 == (174865, 235) (58289, 235)\n",
      "==============================\n",
      "Memory 313.52 MB ==>  82.05 MB\n",
      "Decreased by 73.8%\n",
      "==============================\n",
      "==============================\n",
      "Memory 104.51 MB ==>  27.46 MB\n",
      "Decreased by 73.7%\n",
      "==============================\n"
     ]
    },
    {
     "name": "stderr",
     "output_type": "stream",
     "text": [
      "[Parallel(n_jobs=4)]: Using backend ThreadingBackend with 4 concurrent workers.\n",
      "[Parallel(n_jobs=4)]: Done  20 out of  20 | elapsed:  1.7min finished\n",
      "/home/ankish/anaconda3/lib/python3.6/site-packages/sklearn/ensemble/forest.py:458: UserWarning: Some inputs do not have OOB scores. This probably means too few trees were used to compute any reliable oob estimates.\n",
      "  warn(\"Some inputs do not have OOB scores. \"\n",
      "/home/ankish/anaconda3/lib/python3.6/site-packages/sklearn/ensemble/forest.py:463: RuntimeWarning: invalid value encountered in true_divide\n",
      "  predictions[k].sum(axis=1)[:, np.newaxis])\n",
      "[Parallel(n_jobs=4)]: Using backend ThreadingBackend with 4 concurrent workers.\n",
      "[Parallel(n_jobs=4)]: Done  20 out of  20 | elapsed:    0.1s finished\n"
     ]
    },
    {
     "name": "stdout",
     "output_type": "stream",
     "text": [
      "CV score: 0.59445 \n",
      "store_data/new_feat/int_inter_3way/num_inter_3way_2720.csv\n",
      "2720\n",
      "2760 == (174865, 235) (58289, 235)\n",
      "==============================\n",
      "Memory 313.52 MB ==>  83.05 MB\n",
      "Decreased by 73.5%\n",
      "==============================\n",
      "==============================\n",
      "Memory 104.51 MB ==>  27.35 MB\n",
      "Decreased by 73.8%\n",
      "==============================\n"
     ]
    },
    {
     "name": "stderr",
     "output_type": "stream",
     "text": [
      "[Parallel(n_jobs=4)]: Using backend ThreadingBackend with 4 concurrent workers.\n",
      "[Parallel(n_jobs=4)]: Done  20 out of  20 | elapsed:  1.8min finished\n",
      "/home/ankish/anaconda3/lib/python3.6/site-packages/sklearn/ensemble/forest.py:458: UserWarning: Some inputs do not have OOB scores. This probably means too few trees were used to compute any reliable oob estimates.\n",
      "  warn(\"Some inputs do not have OOB scores. \"\n",
      "/home/ankish/anaconda3/lib/python3.6/site-packages/sklearn/ensemble/forest.py:463: RuntimeWarning: invalid value encountered in true_divide\n",
      "  predictions[k].sum(axis=1)[:, np.newaxis])\n",
      "[Parallel(n_jobs=4)]: Using backend ThreadingBackend with 4 concurrent workers.\n",
      "[Parallel(n_jobs=4)]: Done  20 out of  20 | elapsed:    0.2s finished\n"
     ]
    },
    {
     "name": "stdout",
     "output_type": "stream",
     "text": [
      "CV score: 0.59629 \n",
      "store_data/new_feat/int_inter_3way/num_inter_3way_2760.csv\n",
      "2760\n",
      "2800 == (174865, 235) (58289, 235)\n",
      "==============================\n",
      "Memory 313.52 MB ==>  87.38 MB\n",
      "Decreased by 72.1%\n",
      "==============================\n",
      "==============================\n",
      "Memory 104.51 MB ==>  28.24 MB\n",
      "Decreased by 73.0%\n",
      "==============================\n"
     ]
    },
    {
     "name": "stderr",
     "output_type": "stream",
     "text": [
      "[Parallel(n_jobs=4)]: Using backend ThreadingBackend with 4 concurrent workers.\n",
      "[Parallel(n_jobs=4)]: Done  20 out of  20 | elapsed:  1.9min finished\n",
      "/home/ankish/anaconda3/lib/python3.6/site-packages/sklearn/ensemble/forest.py:458: UserWarning: Some inputs do not have OOB scores. This probably means too few trees were used to compute any reliable oob estimates.\n",
      "  warn(\"Some inputs do not have OOB scores. \"\n",
      "/home/ankish/anaconda3/lib/python3.6/site-packages/sklearn/ensemble/forest.py:463: RuntimeWarning: invalid value encountered in true_divide\n",
      "  predictions[k].sum(axis=1)[:, np.newaxis])\n",
      "[Parallel(n_jobs=4)]: Using backend ThreadingBackend with 4 concurrent workers.\n",
      "[Parallel(n_jobs=4)]: Done  20 out of  20 | elapsed:    0.1s finished\n"
     ]
    },
    {
     "name": "stdout",
     "output_type": "stream",
     "text": [
      "CV score: 0.60177 \n",
      "store_data/new_feat/int_inter_3way/num_inter_3way_2800.csv\n",
      "2800\n",
      "2840 == (174865, 235) (58289, 235)\n",
      "==============================\n",
      "Memory 313.52 MB ==>  84.38 MB\n",
      "Decreased by 73.1%\n",
      "==============================\n",
      "==============================\n",
      "Memory 104.51 MB ==>  27.91 MB\n",
      "Decreased by 73.3%\n",
      "==============================\n"
     ]
    },
    {
     "name": "stderr",
     "output_type": "stream",
     "text": [
      "[Parallel(n_jobs=4)]: Using backend ThreadingBackend with 4 concurrent workers.\n",
      "[Parallel(n_jobs=4)]: Done  20 out of  20 | elapsed:  1.9min finished\n",
      "/home/ankish/anaconda3/lib/python3.6/site-packages/sklearn/ensemble/forest.py:458: UserWarning: Some inputs do not have OOB scores. This probably means too few trees were used to compute any reliable oob estimates.\n",
      "  warn(\"Some inputs do not have OOB scores. \"\n",
      "/home/ankish/anaconda3/lib/python3.6/site-packages/sklearn/ensemble/forest.py:463: RuntimeWarning: invalid value encountered in true_divide\n",
      "  predictions[k].sum(axis=1)[:, np.newaxis])\n",
      "[Parallel(n_jobs=4)]: Using backend ThreadingBackend with 4 concurrent workers.\n",
      "[Parallel(n_jobs=4)]: Done  20 out of  20 | elapsed:    0.1s finished\n"
     ]
    },
    {
     "name": "stdout",
     "output_type": "stream",
     "text": [
      "CV score: 0.59828 \n",
      "store_data/new_feat/int_inter_3way/num_inter_3way_2840.csv\n",
      "2840\n",
      "2880 == (174865, 235) (58289, 235)\n",
      "==============================\n",
      "Memory 313.52 MB ==>  84.05 MB\n",
      "Decreased by 73.2%\n",
      "==============================\n",
      "==============================\n",
      "Memory 104.51 MB ==>  27.68 MB\n",
      "Decreased by 73.5%\n",
      "==============================\n"
     ]
    },
    {
     "name": "stderr",
     "output_type": "stream",
     "text": [
      "[Parallel(n_jobs=4)]: Using backend ThreadingBackend with 4 concurrent workers.\n",
      "[Parallel(n_jobs=4)]: Done  20 out of  20 | elapsed:  1.8min finished\n",
      "/home/ankish/anaconda3/lib/python3.6/site-packages/sklearn/ensemble/forest.py:458: UserWarning: Some inputs do not have OOB scores. This probably means too few trees were used to compute any reliable oob estimates.\n",
      "  warn(\"Some inputs do not have OOB scores. \"\n",
      "/home/ankish/anaconda3/lib/python3.6/site-packages/sklearn/ensemble/forest.py:463: RuntimeWarning: invalid value encountered in true_divide\n",
      "  predictions[k].sum(axis=1)[:, np.newaxis])\n",
      "[Parallel(n_jobs=4)]: Using backend ThreadingBackend with 4 concurrent workers.\n",
      "[Parallel(n_jobs=4)]: Done  20 out of  20 | elapsed:    0.2s finished\n"
     ]
    },
    {
     "name": "stdout",
     "output_type": "stream",
     "text": [
      "CV score: 0.59911 \n",
      "store_data/new_feat/int_inter_3way/num_inter_3way_2880.csv\n",
      "2880\n",
      "2920 == (174865, 235) (58289, 235)\n",
      "==============================\n",
      "Memory 313.52 MB ==>  83.05 MB\n",
      "Decreased by 73.5%\n",
      "==============================\n",
      "==============================\n",
      "Memory 104.51 MB ==>  27.57 MB\n",
      "Decreased by 73.6%\n",
      "==============================\n"
     ]
    },
    {
     "name": "stderr",
     "output_type": "stream",
     "text": [
      "[Parallel(n_jobs=4)]: Using backend ThreadingBackend with 4 concurrent workers.\n",
      "[Parallel(n_jobs=4)]: Done  20 out of  20 | elapsed:  1.7min finished\n",
      "/home/ankish/anaconda3/lib/python3.6/site-packages/sklearn/ensemble/forest.py:458: UserWarning: Some inputs do not have OOB scores. This probably means too few trees were used to compute any reliable oob estimates.\n",
      "  warn(\"Some inputs do not have OOB scores. \"\n",
      "/home/ankish/anaconda3/lib/python3.6/site-packages/sklearn/ensemble/forest.py:463: RuntimeWarning: invalid value encountered in true_divide\n",
      "  predictions[k].sum(axis=1)[:, np.newaxis])\n",
      "[Parallel(n_jobs=4)]: Using backend ThreadingBackend with 4 concurrent workers.\n",
      "[Parallel(n_jobs=4)]: Done  20 out of  20 | elapsed:    0.2s finished\n"
     ]
    },
    {
     "name": "stdout",
     "output_type": "stream",
     "text": [
      "CV score: 0.59954 \n",
      "store_data/new_feat/int_inter_3way/num_inter_3way_2920.csv\n",
      "2920\n",
      "2960 == (174865, 235) (58289, 235)\n",
      "==============================\n",
      "Memory 313.52 MB ==>  82.72 MB\n",
      "Decreased by 73.6%\n",
      "==============================\n",
      "==============================\n",
      "Memory 104.51 MB ==>  27.35 MB\n",
      "Decreased by 73.8%\n",
      "==============================\n"
     ]
    },
    {
     "name": "stderr",
     "output_type": "stream",
     "text": [
      "[Parallel(n_jobs=4)]: Using backend ThreadingBackend with 4 concurrent workers.\n",
      "[Parallel(n_jobs=4)]: Done  20 out of  20 | elapsed:  1.8min finished\n",
      "/home/ankish/anaconda3/lib/python3.6/site-packages/sklearn/ensemble/forest.py:458: UserWarning: Some inputs do not have OOB scores. This probably means too few trees were used to compute any reliable oob estimates.\n",
      "  warn(\"Some inputs do not have OOB scores. \"\n",
      "/home/ankish/anaconda3/lib/python3.6/site-packages/sklearn/ensemble/forest.py:463: RuntimeWarning: invalid value encountered in true_divide\n",
      "  predictions[k].sum(axis=1)[:, np.newaxis])\n",
      "[Parallel(n_jobs=4)]: Using backend ThreadingBackend with 4 concurrent workers.\n",
      "[Parallel(n_jobs=4)]: Done  20 out of  20 | elapsed:    0.2s finished\n"
     ]
    },
    {
     "name": "stdout",
     "output_type": "stream",
     "text": [
      "CV score: 0.59817 \n",
      "store_data/new_feat/int_inter_3way/num_inter_3way_2960.csv\n",
      "2960\n",
      "3000 == (174865, 235) (58289, 235)\n",
      "==============================\n",
      "Memory 313.52 MB ==>  82.05 MB\n",
      "Decreased by 73.8%\n",
      "==============================\n",
      "==============================\n",
      "Memory 104.51 MB ==>  27.35 MB\n",
      "Decreased by 73.8%\n",
      "==============================\n"
     ]
    },
    {
     "name": "stderr",
     "output_type": "stream",
     "text": [
      "[Parallel(n_jobs=4)]: Using backend ThreadingBackend with 4 concurrent workers.\n",
      "[Parallel(n_jobs=4)]: Done  20 out of  20 | elapsed:  1.8min finished\n",
      "/home/ankish/anaconda3/lib/python3.6/site-packages/sklearn/ensemble/forest.py:458: UserWarning: Some inputs do not have OOB scores. This probably means too few trees were used to compute any reliable oob estimates.\n",
      "  warn(\"Some inputs do not have OOB scores. \"\n",
      "/home/ankish/anaconda3/lib/python3.6/site-packages/sklearn/ensemble/forest.py:463: RuntimeWarning: invalid value encountered in true_divide\n",
      "  predictions[k].sum(axis=1)[:, np.newaxis])\n",
      "[Parallel(n_jobs=4)]: Using backend ThreadingBackend with 4 concurrent workers.\n",
      "[Parallel(n_jobs=4)]: Done  20 out of  20 | elapsed:    0.2s finished\n"
     ]
    },
    {
     "name": "stdout",
     "output_type": "stream",
     "text": [
      "CV score: 0.59815 \n",
      "store_data/new_feat/int_inter_3way/num_inter_3way_3000.csv\n",
      "3000\n",
      "3040 == (174865, 235) (58289, 235)\n",
      "==============================\n",
      "Memory 313.52 MB ==>  82.05 MB\n",
      "Decreased by 73.8%\n",
      "==============================\n",
      "==============================\n",
      "Memory 104.51 MB ==>  27.35 MB\n",
      "Decreased by 73.8%\n",
      "==============================\n"
     ]
    },
    {
     "name": "stderr",
     "output_type": "stream",
     "text": [
      "[Parallel(n_jobs=4)]: Using backend ThreadingBackend with 4 concurrent workers.\n",
      "[Parallel(n_jobs=4)]: Done  20 out of  20 | elapsed:  1.6min finished\n",
      "/home/ankish/anaconda3/lib/python3.6/site-packages/sklearn/ensemble/forest.py:458: UserWarning: Some inputs do not have OOB scores. This probably means too few trees were used to compute any reliable oob estimates.\n",
      "  warn(\"Some inputs do not have OOB scores. \"\n",
      "/home/ankish/anaconda3/lib/python3.6/site-packages/sklearn/ensemble/forest.py:463: RuntimeWarning: invalid value encountered in true_divide\n",
      "  predictions[k].sum(axis=1)[:, np.newaxis])\n",
      "[Parallel(n_jobs=4)]: Using backend ThreadingBackend with 4 concurrent workers.\n",
      "[Parallel(n_jobs=4)]: Done  20 out of  20 | elapsed:    0.1s finished\n"
     ]
    },
    {
     "name": "stdout",
     "output_type": "stream",
     "text": [
      "CV score: 0.59987 \n",
      "store_data/new_feat/int_inter_3way/num_inter_3way_3040.csv\n",
      "3040\n",
      "3080 == (174865, 235) (58289, 235)\n",
      "==============================\n",
      "Memory 313.52 MB ==>  82.05 MB\n",
      "Decreased by 73.8%\n",
      "==============================\n",
      "==============================\n",
      "Memory 104.51 MB ==>  27.35 MB\n",
      "Decreased by 73.8%\n",
      "==============================\n"
     ]
    },
    {
     "name": "stderr",
     "output_type": "stream",
     "text": [
      "[Parallel(n_jobs=4)]: Using backend ThreadingBackend with 4 concurrent workers.\n",
      "[Parallel(n_jobs=4)]: Done  20 out of  20 | elapsed:  1.6min finished\n",
      "/home/ankish/anaconda3/lib/python3.6/site-packages/sklearn/ensemble/forest.py:458: UserWarning: Some inputs do not have OOB scores. This probably means too few trees were used to compute any reliable oob estimates.\n",
      "  warn(\"Some inputs do not have OOB scores. \"\n",
      "/home/ankish/anaconda3/lib/python3.6/site-packages/sklearn/ensemble/forest.py:463: RuntimeWarning: invalid value encountered in true_divide\n",
      "  predictions[k].sum(axis=1)[:, np.newaxis])\n",
      "[Parallel(n_jobs=4)]: Using backend ThreadingBackend with 4 concurrent workers.\n",
      "[Parallel(n_jobs=4)]: Done  20 out of  20 | elapsed:    0.2s finished\n"
     ]
    },
    {
     "name": "stdout",
     "output_type": "stream",
     "text": [
      "CV score: 0.59540 \n",
      "store_data/new_feat/int_inter_3way/num_inter_3way_3080.csv\n",
      "3080\n",
      "3120 == (174865, 235) (58289, 235)\n",
      "==============================\n",
      "Memory 313.52 MB ==>  82.05 MB\n",
      "Decreased by 73.8%\n",
      "==============================\n",
      "==============================\n",
      "Memory 104.51 MB ==>  27.35 MB\n",
      "Decreased by 73.8%\n",
      "==============================\n"
     ]
    },
    {
     "name": "stderr",
     "output_type": "stream",
     "text": [
      "[Parallel(n_jobs=4)]: Using backend ThreadingBackend with 4 concurrent workers.\n",
      "[Parallel(n_jobs=4)]: Done  20 out of  20 | elapsed:  1.7min finished\n",
      "/home/ankish/anaconda3/lib/python3.6/site-packages/sklearn/ensemble/forest.py:458: UserWarning: Some inputs do not have OOB scores. This probably means too few trees were used to compute any reliable oob estimates.\n",
      "  warn(\"Some inputs do not have OOB scores. \"\n",
      "/home/ankish/anaconda3/lib/python3.6/site-packages/sklearn/ensemble/forest.py:463: RuntimeWarning: invalid value encountered in true_divide\n",
      "  predictions[k].sum(axis=1)[:, np.newaxis])\n",
      "[Parallel(n_jobs=4)]: Using backend ThreadingBackend with 4 concurrent workers.\n",
      "[Parallel(n_jobs=4)]: Done  20 out of  20 | elapsed:    0.1s finished\n"
     ]
    },
    {
     "name": "stdout",
     "output_type": "stream",
     "text": [
      "CV score: 0.59683 \n",
      "store_data/new_feat/int_inter_3way/num_inter_3way_3120.csv\n",
      "3120\n",
      "3160 == (174865, 235) (58289, 235)\n",
      "==============================\n",
      "Memory 313.52 MB ==>  84.05 MB\n",
      "Decreased by 73.2%\n",
      "==============================\n",
      "==============================\n",
      "Memory 104.51 MB ==>  27.79 MB\n",
      "Decreased by 73.4%\n",
      "==============================\n"
     ]
    },
    {
     "name": "stderr",
     "output_type": "stream",
     "text": [
      "[Parallel(n_jobs=4)]: Using backend ThreadingBackend with 4 concurrent workers.\n",
      "[Parallel(n_jobs=4)]: Done  20 out of  20 | elapsed:  1.9min finished\n",
      "/home/ankish/anaconda3/lib/python3.6/site-packages/sklearn/ensemble/forest.py:458: UserWarning: Some inputs do not have OOB scores. This probably means too few trees were used to compute any reliable oob estimates.\n",
      "  warn(\"Some inputs do not have OOB scores. \"\n",
      "/home/ankish/anaconda3/lib/python3.6/site-packages/sklearn/ensemble/forest.py:463: RuntimeWarning: invalid value encountered in true_divide\n",
      "  predictions[k].sum(axis=1)[:, np.newaxis])\n",
      "[Parallel(n_jobs=4)]: Using backend ThreadingBackend with 4 concurrent workers.\n",
      "[Parallel(n_jobs=4)]: Done  20 out of  20 | elapsed:    0.2s finished\n"
     ]
    },
    {
     "name": "stdout",
     "output_type": "stream",
     "text": [
      "CV score: 0.59278 \n",
      "store_data/new_feat/int_inter_3way/num_inter_3way_3160.csv\n",
      "3160\n",
      "3200 == (174865, 235) (58289, 235)\n",
      "==============================\n",
      "Memory 313.52 MB ==>  82.38 MB\n",
      "Decreased by 73.7%\n",
      "==============================\n",
      "==============================\n",
      "Memory 104.51 MB ==>  27.46 MB\n",
      "Decreased by 73.7%\n",
      "==============================\n"
     ]
    },
    {
     "name": "stderr",
     "output_type": "stream",
     "text": [
      "[Parallel(n_jobs=4)]: Using backend ThreadingBackend with 4 concurrent workers.\n",
      "[Parallel(n_jobs=4)]: Done  20 out of  20 | elapsed:  1.6min finished\n",
      "/home/ankish/anaconda3/lib/python3.6/site-packages/sklearn/ensemble/forest.py:458: UserWarning: Some inputs do not have OOB scores. This probably means too few trees were used to compute any reliable oob estimates.\n",
      "  warn(\"Some inputs do not have OOB scores. \"\n",
      "/home/ankish/anaconda3/lib/python3.6/site-packages/sklearn/ensemble/forest.py:463: RuntimeWarning: invalid value encountered in true_divide\n",
      "  predictions[k].sum(axis=1)[:, np.newaxis])\n",
      "[Parallel(n_jobs=4)]: Using backend ThreadingBackend with 4 concurrent workers.\n",
      "[Parallel(n_jobs=4)]: Done  20 out of  20 | elapsed:    0.2s finished\n"
     ]
    },
    {
     "name": "stdout",
     "output_type": "stream",
     "text": [
      "CV score: 0.60301 \n",
      "store_data/new_feat/int_inter_3way/num_inter_3way_3200.csv\n",
      "3200\n",
      "3240 == (174865, 235) (58289, 235)\n",
      "==============================\n",
      "Memory 313.52 MB ==>  82.72 MB\n",
      "Decreased by 73.6%\n",
      "==============================\n",
      "==============================\n",
      "Memory 104.51 MB ==>  27.46 MB\n",
      "Decreased by 73.7%\n",
      "==============================\n"
     ]
    },
    {
     "name": "stderr",
     "output_type": "stream",
     "text": [
      "[Parallel(n_jobs=4)]: Using backend ThreadingBackend with 4 concurrent workers.\n",
      "[Parallel(n_jobs=4)]: Done  20 out of  20 | elapsed:  1.8min finished\n",
      "/home/ankish/anaconda3/lib/python3.6/site-packages/sklearn/ensemble/forest.py:458: UserWarning: Some inputs do not have OOB scores. This probably means too few trees were used to compute any reliable oob estimates.\n",
      "  warn(\"Some inputs do not have OOB scores. \"\n",
      "/home/ankish/anaconda3/lib/python3.6/site-packages/sklearn/ensemble/forest.py:463: RuntimeWarning: invalid value encountered in true_divide\n",
      "  predictions[k].sum(axis=1)[:, np.newaxis])\n",
      "[Parallel(n_jobs=4)]: Using backend ThreadingBackend with 4 concurrent workers.\n",
      "[Parallel(n_jobs=4)]: Done  20 out of  20 | elapsed:    0.2s finished\n"
     ]
    },
    {
     "name": "stdout",
     "output_type": "stream",
     "text": [
      "CV score: 0.59885 \n",
      "store_data/new_feat/int_inter_3way/num_inter_3way_3240.csv\n",
      "3240\n",
      "3280 == (174865, 235) (58289, 235)\n",
      "==============================\n",
      "Memory 313.52 MB ==>  84.72 MB\n",
      "Decreased by 73.0%\n",
      "==============================\n",
      "==============================\n",
      "Memory 104.51 MB ==>  28.24 MB\n",
      "Decreased by 73.0%\n",
      "==============================\n"
     ]
    },
    {
     "name": "stderr",
     "output_type": "stream",
     "text": [
      "[Parallel(n_jobs=4)]: Using backend ThreadingBackend with 4 concurrent workers.\n",
      "[Parallel(n_jobs=4)]: Done  20 out of  20 | elapsed:  1.8min finished\n",
      "/home/ankish/anaconda3/lib/python3.6/site-packages/sklearn/ensemble/forest.py:458: UserWarning: Some inputs do not have OOB scores. This probably means too few trees were used to compute any reliable oob estimates.\n",
      "  warn(\"Some inputs do not have OOB scores. \"\n",
      "/home/ankish/anaconda3/lib/python3.6/site-packages/sklearn/ensemble/forest.py:463: RuntimeWarning: invalid value encountered in true_divide\n",
      "  predictions[k].sum(axis=1)[:, np.newaxis])\n",
      "[Parallel(n_jobs=4)]: Using backend ThreadingBackend with 4 concurrent workers.\n",
      "[Parallel(n_jobs=4)]: Done  20 out of  20 | elapsed:    0.2s finished\n"
     ]
    },
    {
     "name": "stdout",
     "output_type": "stream",
     "text": [
      "CV score: 0.59884 \n",
      "store_data/new_feat/int_inter_3way/num_inter_3way_3280.csv\n",
      "3280\n",
      "3320 == (174865, 235) (58289, 235)\n",
      "==============================\n",
      "Memory 313.52 MB ==>  86.72 MB\n",
      "Decreased by 72.3%\n",
      "==============================\n",
      "==============================\n",
      "Memory 104.51 MB ==>  28.02 MB\n",
      "Decreased by 73.2%\n",
      "==============================\n"
     ]
    },
    {
     "name": "stderr",
     "output_type": "stream",
     "text": [
      "[Parallel(n_jobs=4)]: Using backend ThreadingBackend with 4 concurrent workers.\n",
      "[Parallel(n_jobs=4)]: Done  20 out of  20 | elapsed:  1.8min finished\n",
      "/home/ankish/anaconda3/lib/python3.6/site-packages/sklearn/ensemble/forest.py:458: UserWarning: Some inputs do not have OOB scores. This probably means too few trees were used to compute any reliable oob estimates.\n",
      "  warn(\"Some inputs do not have OOB scores. \"\n",
      "/home/ankish/anaconda3/lib/python3.6/site-packages/sklearn/ensemble/forest.py:463: RuntimeWarning: invalid value encountered in true_divide\n",
      "  predictions[k].sum(axis=1)[:, np.newaxis])\n",
      "[Parallel(n_jobs=4)]: Using backend ThreadingBackend with 4 concurrent workers.\n",
      "[Parallel(n_jobs=4)]: Done  20 out of  20 | elapsed:    0.2s finished\n"
     ]
    },
    {
     "name": "stdout",
     "output_type": "stream",
     "text": [
      "CV score: 0.59899 \n",
      "store_data/new_feat/int_inter_3way/num_inter_3way_3320.csv\n",
      "3320\n",
      "3360 == (174865, 235) (58289, 235)\n",
      "==============================\n",
      "Memory 313.52 MB ==>  82.05 MB\n",
      "Decreased by 73.8%\n",
      "==============================\n",
      "==============================\n",
      "Memory 104.51 MB ==>  27.35 MB\n",
      "Decreased by 73.8%\n",
      "==============================\n"
     ]
    },
    {
     "name": "stderr",
     "output_type": "stream",
     "text": [
      "[Parallel(n_jobs=4)]: Using backend ThreadingBackend with 4 concurrent workers.\n",
      "[Parallel(n_jobs=4)]: Done  20 out of  20 | elapsed:  1.9min finished\n",
      "/home/ankish/anaconda3/lib/python3.6/site-packages/sklearn/ensemble/forest.py:458: UserWarning: Some inputs do not have OOB scores. This probably means too few trees were used to compute any reliable oob estimates.\n",
      "  warn(\"Some inputs do not have OOB scores. \"\n",
      "/home/ankish/anaconda3/lib/python3.6/site-packages/sklearn/ensemble/forest.py:463: RuntimeWarning: invalid value encountered in true_divide\n",
      "  predictions[k].sum(axis=1)[:, np.newaxis])\n",
      "[Parallel(n_jobs=4)]: Using backend ThreadingBackend with 4 concurrent workers.\n",
      "[Parallel(n_jobs=4)]: Done  20 out of  20 | elapsed:    0.2s finished\n"
     ]
    },
    {
     "name": "stdout",
     "output_type": "stream",
     "text": [
      "CV score: 0.59667 \n",
      "store_data/new_feat/int_inter_3way/num_inter_3way_3360.csv\n",
      "3360\n",
      "3400 == (174865, 235) (58289, 235)\n",
      "==============================\n",
      "Memory 313.52 MB ==>  83.05 MB\n",
      "Decreased by 73.5%\n",
      "==============================\n",
      "==============================\n",
      "Memory 104.51 MB ==>  27.46 MB\n",
      "Decreased by 73.7%\n",
      "==============================\n"
     ]
    },
    {
     "name": "stderr",
     "output_type": "stream",
     "text": [
      "[Parallel(n_jobs=4)]: Using backend ThreadingBackend with 4 concurrent workers.\n",
      "[Parallel(n_jobs=4)]: Done  20 out of  20 | elapsed:  1.7min finished\n",
      "/home/ankish/anaconda3/lib/python3.6/site-packages/sklearn/ensemble/forest.py:458: UserWarning: Some inputs do not have OOB scores. This probably means too few trees were used to compute any reliable oob estimates.\n",
      "  warn(\"Some inputs do not have OOB scores. \"\n",
      "/home/ankish/anaconda3/lib/python3.6/site-packages/sklearn/ensemble/forest.py:463: RuntimeWarning: invalid value encountered in true_divide\n",
      "  predictions[k].sum(axis=1)[:, np.newaxis])\n",
      "[Parallel(n_jobs=4)]: Using backend ThreadingBackend with 4 concurrent workers.\n",
      "[Parallel(n_jobs=4)]: Done  20 out of  20 | elapsed:    0.1s finished\n"
     ]
    },
    {
     "name": "stdout",
     "output_type": "stream",
     "text": [
      "CV score: 0.59915 \n",
      "store_data/new_feat/int_inter_3way/num_inter_3way_3400.csv\n",
      "3400\n",
      "3440 == (174865, 235) (58289, 235)\n",
      "==============================\n",
      "Memory 313.52 MB ==>  83.05 MB\n",
      "Decreased by 73.5%\n",
      "==============================\n",
      "==============================\n",
      "Memory 104.51 MB ==>  27.46 MB\n",
      "Decreased by 73.7%\n",
      "==============================\n"
     ]
    },
    {
     "name": "stderr",
     "output_type": "stream",
     "text": [
      "[Parallel(n_jobs=4)]: Using backend ThreadingBackend with 4 concurrent workers.\n",
      "[Parallel(n_jobs=4)]: Done  20 out of  20 | elapsed:  1.7min finished\n",
      "/home/ankish/anaconda3/lib/python3.6/site-packages/sklearn/ensemble/forest.py:458: UserWarning: Some inputs do not have OOB scores. This probably means too few trees were used to compute any reliable oob estimates.\n",
      "  warn(\"Some inputs do not have OOB scores. \"\n",
      "/home/ankish/anaconda3/lib/python3.6/site-packages/sklearn/ensemble/forest.py:463: RuntimeWarning: invalid value encountered in true_divide\n",
      "  predictions[k].sum(axis=1)[:, np.newaxis])\n",
      "[Parallel(n_jobs=4)]: Using backend ThreadingBackend with 4 concurrent workers.\n",
      "[Parallel(n_jobs=4)]: Done  20 out of  20 | elapsed:    0.1s finished\n"
     ]
    },
    {
     "name": "stdout",
     "output_type": "stream",
     "text": [
      "CV score: 0.60078 \n",
      "store_data/new_feat/int_inter_3way/num_inter_3way_3440.csv\n",
      "3440\n",
      "3480 == (174865, 235) (58289, 235)\n",
      "==============================\n",
      "Memory 313.52 MB ==>  82.05 MB\n",
      "Decreased by 73.8%\n",
      "==============================\n",
      "==============================\n",
      "Memory 104.51 MB ==>  27.35 MB\n",
      "Decreased by 73.8%\n",
      "==============================\n"
     ]
    },
    {
     "name": "stderr",
     "output_type": "stream",
     "text": [
      "[Parallel(n_jobs=4)]: Using backend ThreadingBackend with 4 concurrent workers.\n",
      "[Parallel(n_jobs=4)]: Done  20 out of  20 | elapsed:  1.9min finished\n",
      "/home/ankish/anaconda3/lib/python3.6/site-packages/sklearn/ensemble/forest.py:458: UserWarning: Some inputs do not have OOB scores. This probably means too few trees were used to compute any reliable oob estimates.\n",
      "  warn(\"Some inputs do not have OOB scores. \"\n",
      "/home/ankish/anaconda3/lib/python3.6/site-packages/sklearn/ensemble/forest.py:463: RuntimeWarning: invalid value encountered in true_divide\n",
      "  predictions[k].sum(axis=1)[:, np.newaxis])\n",
      "[Parallel(n_jobs=4)]: Using backend ThreadingBackend with 4 concurrent workers.\n",
      "[Parallel(n_jobs=4)]: Done  20 out of  20 | elapsed:    0.2s finished\n"
     ]
    },
    {
     "name": "stdout",
     "output_type": "stream",
     "text": [
      "CV score: 0.59722 \n",
      "store_data/new_feat/int_inter_3way/num_inter_3way_3480.csv\n",
      "3480\n",
      "3520 == (174865, 235) (58289, 235)\n",
      "==============================\n",
      "Memory 313.52 MB ==>  93.05 MB\n",
      "Decreased by 70.3%\n",
      "==============================\n",
      "==============================\n",
      "Memory 104.51 MB ==>  29.80 MB\n",
      "Decreased by 71.5%\n",
      "==============================\n"
     ]
    },
    {
     "name": "stderr",
     "output_type": "stream",
     "text": [
      "[Parallel(n_jobs=4)]: Using backend ThreadingBackend with 4 concurrent workers.\n",
      "[Parallel(n_jobs=4)]: Done  20 out of  20 | elapsed:  1.9min finished\n",
      "/home/ankish/anaconda3/lib/python3.6/site-packages/sklearn/ensemble/forest.py:458: UserWarning: Some inputs do not have OOB scores. This probably means too few trees were used to compute any reliable oob estimates.\n",
      "  warn(\"Some inputs do not have OOB scores. \"\n",
      "/home/ankish/anaconda3/lib/python3.6/site-packages/sklearn/ensemble/forest.py:463: RuntimeWarning: invalid value encountered in true_divide\n",
      "  predictions[k].sum(axis=1)[:, np.newaxis])\n",
      "[Parallel(n_jobs=4)]: Using backend ThreadingBackend with 4 concurrent workers.\n",
      "[Parallel(n_jobs=4)]: Done  20 out of  20 | elapsed:    0.2s finished\n"
     ]
    },
    {
     "name": "stdout",
     "output_type": "stream",
     "text": [
      "CV score: 0.59270 \n",
      "store_data/new_feat/int_inter_3way/num_inter_3way_3520.csv\n",
      "3520\n",
      "3560 == (174865, 235) (58289, 235)\n",
      "==============================\n",
      "Memory 313.52 MB ==>  82.72 MB\n",
      "Decreased by 73.6%\n",
      "==============================\n",
      "==============================\n",
      "Memory 104.51 MB ==>  27.57 MB\n",
      "Decreased by 73.6%\n",
      "==============================\n"
     ]
    },
    {
     "name": "stderr",
     "output_type": "stream",
     "text": [
      "[Parallel(n_jobs=4)]: Using backend ThreadingBackend with 4 concurrent workers.\n",
      "[Parallel(n_jobs=4)]: Done  20 out of  20 | elapsed:  1.8min finished\n",
      "/home/ankish/anaconda3/lib/python3.6/site-packages/sklearn/ensemble/forest.py:458: UserWarning: Some inputs do not have OOB scores. This probably means too few trees were used to compute any reliable oob estimates.\n",
      "  warn(\"Some inputs do not have OOB scores. \"\n",
      "/home/ankish/anaconda3/lib/python3.6/site-packages/sklearn/ensemble/forest.py:463: RuntimeWarning: invalid value encountered in true_divide\n",
      "  predictions[k].sum(axis=1)[:, np.newaxis])\n",
      "[Parallel(n_jobs=4)]: Using backend ThreadingBackend with 4 concurrent workers.\n",
      "[Parallel(n_jobs=4)]: Done  20 out of  20 | elapsed:    0.1s finished\n"
     ]
    },
    {
     "name": "stdout",
     "output_type": "stream",
     "text": [
      "CV score: 0.60076 \n",
      "store_data/new_feat/int_inter_3way/num_inter_3way_3560.csv\n",
      "3560\n",
      "3600 == (174865, 235) (58289, 235)\n",
      "==============================\n",
      "Memory 313.52 MB ==>  87.05 MB\n",
      "Decreased by 72.2%\n",
      "==============================\n",
      "==============================\n",
      "Memory 104.51 MB ==>  27.68 MB\n",
      "Decreased by 73.5%\n",
      "==============================\n"
     ]
    },
    {
     "name": "stderr",
     "output_type": "stream",
     "text": [
      "[Parallel(n_jobs=4)]: Using backend ThreadingBackend with 4 concurrent workers.\n",
      "[Parallel(n_jobs=4)]: Done  20 out of  20 | elapsed:  1.8min finished\n",
      "/home/ankish/anaconda3/lib/python3.6/site-packages/sklearn/ensemble/forest.py:458: UserWarning: Some inputs do not have OOB scores. This probably means too few trees were used to compute any reliable oob estimates.\n",
      "  warn(\"Some inputs do not have OOB scores. \"\n",
      "/home/ankish/anaconda3/lib/python3.6/site-packages/sklearn/ensemble/forest.py:463: RuntimeWarning: invalid value encountered in true_divide\n",
      "  predictions[k].sum(axis=1)[:, np.newaxis])\n",
      "[Parallel(n_jobs=4)]: Using backend ThreadingBackend with 4 concurrent workers.\n",
      "[Parallel(n_jobs=4)]: Done  20 out of  20 | elapsed:    0.1s finished\n"
     ]
    },
    {
     "name": "stdout",
     "output_type": "stream",
     "text": [
      "CV score: 0.59571 \n",
      "store_data/new_feat/int_inter_3way/num_inter_3way_3600.csv\n",
      "3600\n",
      "3640 == (174865, 235) (58289, 235)\n",
      "==============================\n",
      "Memory 313.52 MB ==>  83.38 MB\n",
      "Decreased by 73.4%\n",
      "==============================\n",
      "==============================\n",
      "Memory 104.51 MB ==>  27.46 MB\n",
      "Decreased by 73.7%\n",
      "==============================\n"
     ]
    },
    {
     "name": "stderr",
     "output_type": "stream",
     "text": [
      "[Parallel(n_jobs=4)]: Using backend ThreadingBackend with 4 concurrent workers.\n",
      "[Parallel(n_jobs=4)]: Done  20 out of  20 | elapsed:  1.8min finished\n",
      "/home/ankish/anaconda3/lib/python3.6/site-packages/sklearn/ensemble/forest.py:458: UserWarning: Some inputs do not have OOB scores. This probably means too few trees were used to compute any reliable oob estimates.\n",
      "  warn(\"Some inputs do not have OOB scores. \"\n",
      "/home/ankish/anaconda3/lib/python3.6/site-packages/sklearn/ensemble/forest.py:463: RuntimeWarning: invalid value encountered in true_divide\n",
      "  predictions[k].sum(axis=1)[:, np.newaxis])\n",
      "[Parallel(n_jobs=4)]: Using backend ThreadingBackend with 4 concurrent workers.\n",
      "[Parallel(n_jobs=4)]: Done  20 out of  20 | elapsed:    0.1s finished\n"
     ]
    },
    {
     "name": "stdout",
     "output_type": "stream",
     "text": [
      "CV score: 0.60151 \n",
      "store_data/new_feat/int_inter_3way/num_inter_3way_3640.csv\n",
      "3640\n",
      "3680 == (174865, 235) (58289, 235)\n",
      "==============================\n",
      "Memory 313.52 MB ==>  83.38 MB\n",
      "Decreased by 73.4%\n",
      "==============================\n",
      "==============================\n",
      "Memory 104.51 MB ==>  27.35 MB\n",
      "Decreased by 73.8%\n",
      "==============================\n"
     ]
    },
    {
     "name": "stderr",
     "output_type": "stream",
     "text": [
      "[Parallel(n_jobs=4)]: Using backend ThreadingBackend with 4 concurrent workers.\n",
      "[Parallel(n_jobs=4)]: Done  20 out of  20 | elapsed:  1.9min finished\n",
      "/home/ankish/anaconda3/lib/python3.6/site-packages/sklearn/ensemble/forest.py:458: UserWarning: Some inputs do not have OOB scores. This probably means too few trees were used to compute any reliable oob estimates.\n",
      "  warn(\"Some inputs do not have OOB scores. \"\n",
      "/home/ankish/anaconda3/lib/python3.6/site-packages/sklearn/ensemble/forest.py:463: RuntimeWarning: invalid value encountered in true_divide\n",
      "  predictions[k].sum(axis=1)[:, np.newaxis])\n",
      "[Parallel(n_jobs=4)]: Using backend ThreadingBackend with 4 concurrent workers.\n",
      "[Parallel(n_jobs=4)]: Done  20 out of  20 | elapsed:    0.2s finished\n"
     ]
    },
    {
     "name": "stdout",
     "output_type": "stream",
     "text": [
      "CV score: 0.59431 \n",
      "store_data/new_feat/int_inter_3way/num_inter_3way_3680.csv\n",
      "3680\n",
      "3720 == (174865, 235) (58289, 235)\n",
      "==============================\n",
      "Memory 313.52 MB ==>  82.05 MB\n",
      "Decreased by 73.8%\n",
      "==============================\n",
      "==============================\n",
      "Memory 104.51 MB ==>  27.35 MB\n",
      "Decreased by 73.8%\n",
      "==============================\n"
     ]
    },
    {
     "name": "stderr",
     "output_type": "stream",
     "text": [
      "[Parallel(n_jobs=4)]: Using backend ThreadingBackend with 4 concurrent workers.\n",
      "[Parallel(n_jobs=4)]: Done  20 out of  20 | elapsed:  1.8min finished\n",
      "/home/ankish/anaconda3/lib/python3.6/site-packages/sklearn/ensemble/forest.py:458: UserWarning: Some inputs do not have OOB scores. This probably means too few trees were used to compute any reliable oob estimates.\n",
      "  warn(\"Some inputs do not have OOB scores. \"\n",
      "/home/ankish/anaconda3/lib/python3.6/site-packages/sklearn/ensemble/forest.py:463: RuntimeWarning: invalid value encountered in true_divide\n",
      "  predictions[k].sum(axis=1)[:, np.newaxis])\n",
      "[Parallel(n_jobs=4)]: Using backend ThreadingBackend with 4 concurrent workers.\n",
      "[Parallel(n_jobs=4)]: Done  20 out of  20 | elapsed:    0.2s finished\n"
     ]
    },
    {
     "name": "stdout",
     "output_type": "stream",
     "text": [
      "CV score: 0.59500 \n",
      "store_data/new_feat/int_inter_3way/num_inter_3way_3720.csv\n",
      "3720\n",
      "3760 == (174865, 235) (58289, 235)\n",
      "==============================\n",
      "Memory 313.52 MB ==>  82.38 MB\n",
      "Decreased by 73.7%\n",
      "==============================\n",
      "==============================\n",
      "Memory 104.51 MB ==>  27.57 MB\n",
      "Decreased by 73.6%\n",
      "==============================\n"
     ]
    },
    {
     "name": "stderr",
     "output_type": "stream",
     "text": [
      "[Parallel(n_jobs=4)]: Using backend ThreadingBackend with 4 concurrent workers.\n",
      "[Parallel(n_jobs=4)]: Done  20 out of  20 | elapsed:  1.8min finished\n",
      "/home/ankish/anaconda3/lib/python3.6/site-packages/sklearn/ensemble/forest.py:458: UserWarning: Some inputs do not have OOB scores. This probably means too few trees were used to compute any reliable oob estimates.\n",
      "  warn(\"Some inputs do not have OOB scores. \"\n",
      "/home/ankish/anaconda3/lib/python3.6/site-packages/sklearn/ensemble/forest.py:463: RuntimeWarning: invalid value encountered in true_divide\n",
      "  predictions[k].sum(axis=1)[:, np.newaxis])\n",
      "[Parallel(n_jobs=4)]: Using backend ThreadingBackend with 4 concurrent workers.\n",
      "[Parallel(n_jobs=4)]: Done  20 out of  20 | elapsed:    0.2s finished\n"
     ]
    },
    {
     "name": "stdout",
     "output_type": "stream",
     "text": [
      "CV score: 0.59586 \n",
      "store_data/new_feat/int_inter_3way/num_inter_3way_3760.csv\n",
      "3760\n",
      "3800 == (174865, 235) (58289, 235)\n",
      "==============================\n",
      "Memory 313.52 MB ==>  82.38 MB\n",
      "Decreased by 73.7%\n",
      "==============================\n",
      "==============================\n",
      "Memory 104.51 MB ==>  27.46 MB\n",
      "Decreased by 73.7%\n",
      "==============================\n"
     ]
    },
    {
     "name": "stderr",
     "output_type": "stream",
     "text": [
      "[Parallel(n_jobs=4)]: Using backend ThreadingBackend with 4 concurrent workers.\n",
      "[Parallel(n_jobs=4)]: Done  20 out of  20 | elapsed:  1.9min finished\n",
      "/home/ankish/anaconda3/lib/python3.6/site-packages/sklearn/ensemble/forest.py:458: UserWarning: Some inputs do not have OOB scores. This probably means too few trees were used to compute any reliable oob estimates.\n",
      "  warn(\"Some inputs do not have OOB scores. \"\n",
      "/home/ankish/anaconda3/lib/python3.6/site-packages/sklearn/ensemble/forest.py:463: RuntimeWarning: invalid value encountered in true_divide\n",
      "  predictions[k].sum(axis=1)[:, np.newaxis])\n",
      "[Parallel(n_jobs=4)]: Using backend ThreadingBackend with 4 concurrent workers.\n",
      "[Parallel(n_jobs=4)]: Done  20 out of  20 | elapsed:    0.2s finished\n"
     ]
    },
    {
     "name": "stdout",
     "output_type": "stream",
     "text": [
      "CV score: 0.59094 \n",
      "store_data/new_feat/int_inter_3way/num_inter_3way_3800.csv\n",
      "3800\n",
      "3840 == (174865, 235) (58289, 235)\n",
      "==============================\n",
      "Memory 313.52 MB ==>  87.05 MB\n",
      "Decreased by 72.2%\n",
      "==============================\n",
      "==============================\n",
      "Memory 104.51 MB ==>  28.80 MB\n",
      "Decreased by 72.4%\n",
      "==============================\n"
     ]
    },
    {
     "name": "stderr",
     "output_type": "stream",
     "text": [
      "[Parallel(n_jobs=4)]: Using backend ThreadingBackend with 4 concurrent workers.\n",
      "[Parallel(n_jobs=4)]: Done  20 out of  20 | elapsed:  1.9min finished\n",
      "/home/ankish/anaconda3/lib/python3.6/site-packages/sklearn/ensemble/forest.py:458: UserWarning: Some inputs do not have OOB scores. This probably means too few trees were used to compute any reliable oob estimates.\n",
      "  warn(\"Some inputs do not have OOB scores. \"\n",
      "/home/ankish/anaconda3/lib/python3.6/site-packages/sklearn/ensemble/forest.py:463: RuntimeWarning: invalid value encountered in true_divide\n",
      "  predictions[k].sum(axis=1)[:, np.newaxis])\n",
      "[Parallel(n_jobs=4)]: Using backend ThreadingBackend with 4 concurrent workers.\n",
      "[Parallel(n_jobs=4)]: Done  20 out of  20 | elapsed:    0.2s finished\n"
     ]
    },
    {
     "name": "stdout",
     "output_type": "stream",
     "text": [
      "CV score: 0.59145 \n",
      "store_data/new_feat/int_inter_3way/num_inter_3way_3840.csv\n",
      "3840\n",
      "3880 == (174865, 235) (58289, 235)\n",
      "==============================\n",
      "Memory 313.52 MB ==>  82.72 MB\n",
      "Decreased by 73.6%\n",
      "==============================\n",
      "==============================\n",
      "Memory 104.51 MB ==>  27.57 MB\n",
      "Decreased by 73.6%\n",
      "==============================\n"
     ]
    },
    {
     "name": "stderr",
     "output_type": "stream",
     "text": [
      "[Parallel(n_jobs=4)]: Using backend ThreadingBackend with 4 concurrent workers.\n",
      "[Parallel(n_jobs=4)]: Done  20 out of  20 | elapsed:  1.8min finished\n",
      "/home/ankish/anaconda3/lib/python3.6/site-packages/sklearn/ensemble/forest.py:458: UserWarning: Some inputs do not have OOB scores. This probably means too few trees were used to compute any reliable oob estimates.\n",
      "  warn(\"Some inputs do not have OOB scores. \"\n",
      "/home/ankish/anaconda3/lib/python3.6/site-packages/sklearn/ensemble/forest.py:463: RuntimeWarning: invalid value encountered in true_divide\n",
      "  predictions[k].sum(axis=1)[:, np.newaxis])\n",
      "[Parallel(n_jobs=4)]: Using backend ThreadingBackend with 4 concurrent workers.\n",
      "[Parallel(n_jobs=4)]: Done  20 out of  20 | elapsed:    0.1s finished\n"
     ]
    },
    {
     "name": "stdout",
     "output_type": "stream",
     "text": [
      "CV score: 0.59679 \n",
      "store_data/new_feat/int_inter_3way/num_inter_3way_3880.csv\n",
      "3880\n",
      "3920 == (174865, 235) (58289, 235)\n",
      "==============================\n",
      "Memory 313.52 MB ==>  87.72 MB\n",
      "Decreased by 72.0%\n",
      "==============================\n",
      "==============================\n",
      "Memory 104.51 MB ==>  27.46 MB\n",
      "Decreased by 73.7%\n",
      "==============================\n"
     ]
    },
    {
     "name": "stderr",
     "output_type": "stream",
     "text": [
      "[Parallel(n_jobs=4)]: Using backend ThreadingBackend with 4 concurrent workers.\n",
      "[Parallel(n_jobs=4)]: Done  20 out of  20 | elapsed:  1.9min finished\n",
      "/home/ankish/anaconda3/lib/python3.6/site-packages/sklearn/ensemble/forest.py:458: UserWarning: Some inputs do not have OOB scores. This probably means too few trees were used to compute any reliable oob estimates.\n",
      "  warn(\"Some inputs do not have OOB scores. \"\n",
      "/home/ankish/anaconda3/lib/python3.6/site-packages/sklearn/ensemble/forest.py:463: RuntimeWarning: invalid value encountered in true_divide\n",
      "  predictions[k].sum(axis=1)[:, np.newaxis])\n",
      "[Parallel(n_jobs=4)]: Using backend ThreadingBackend with 4 concurrent workers.\n",
      "[Parallel(n_jobs=4)]: Done  20 out of  20 | elapsed:    0.1s finished\n"
     ]
    },
    {
     "name": "stdout",
     "output_type": "stream",
     "text": [
      "CV score: 0.59431 \n",
      "store_data/new_feat/int_inter_3way/num_inter_3way_3920.csv\n",
      "3920\n",
      "3960 == (174865, 235) (58289, 235)\n",
      "==============================\n",
      "Memory 313.52 MB ==>  83.38 MB\n",
      "Decreased by 73.4%\n",
      "==============================\n",
      "==============================\n",
      "Memory 104.51 MB ==>  27.91 MB\n",
      "Decreased by 73.3%\n",
      "==============================\n"
     ]
    },
    {
     "name": "stderr",
     "output_type": "stream",
     "text": [
      "[Parallel(n_jobs=4)]: Using backend ThreadingBackend with 4 concurrent workers.\n",
      "[Parallel(n_jobs=4)]: Done  20 out of  20 | elapsed:  1.8min finished\n",
      "/home/ankish/anaconda3/lib/python3.6/site-packages/sklearn/ensemble/forest.py:458: UserWarning: Some inputs do not have OOB scores. This probably means too few trees were used to compute any reliable oob estimates.\n",
      "  warn(\"Some inputs do not have OOB scores. \"\n",
      "/home/ankish/anaconda3/lib/python3.6/site-packages/sklearn/ensemble/forest.py:463: RuntimeWarning: invalid value encountered in true_divide\n",
      "  predictions[k].sum(axis=1)[:, np.newaxis])\n",
      "[Parallel(n_jobs=4)]: Using backend ThreadingBackend with 4 concurrent workers.\n",
      "[Parallel(n_jobs=4)]: Done  20 out of  20 | elapsed:    0.1s finished\n"
     ]
    },
    {
     "name": "stdout",
     "output_type": "stream",
     "text": [
      "CV score: 0.59732 \n",
      "store_data/new_feat/int_inter_3way/num_inter_3way_3960.csv\n",
      "3960\n",
      "4000 == (174865, 235) (58289, 235)\n",
      "==============================\n",
      "Memory 313.52 MB ==>  83.05 MB\n",
      "Decreased by 73.5%\n",
      "==============================\n",
      "==============================\n",
      "Memory 104.51 MB ==>  27.35 MB\n",
      "Decreased by 73.8%\n",
      "==============================\n"
     ]
    },
    {
     "name": "stderr",
     "output_type": "stream",
     "text": [
      "[Parallel(n_jobs=4)]: Using backend ThreadingBackend with 4 concurrent workers.\n",
      "[Parallel(n_jobs=4)]: Done  20 out of  20 | elapsed:  1.6min finished\n",
      "/home/ankish/anaconda3/lib/python3.6/site-packages/sklearn/ensemble/forest.py:458: UserWarning: Some inputs do not have OOB scores. This probably means too few trees were used to compute any reliable oob estimates.\n",
      "  warn(\"Some inputs do not have OOB scores. \"\n",
      "/home/ankish/anaconda3/lib/python3.6/site-packages/sklearn/ensemble/forest.py:463: RuntimeWarning: invalid value encountered in true_divide\n",
      "  predictions[k].sum(axis=1)[:, np.newaxis])\n",
      "[Parallel(n_jobs=4)]: Using backend ThreadingBackend with 4 concurrent workers.\n",
      "[Parallel(n_jobs=4)]: Done  20 out of  20 | elapsed:    0.1s finished\n"
     ]
    },
    {
     "name": "stdout",
     "output_type": "stream",
     "text": [
      "CV score: 0.59855 \n",
      "store_data/new_feat/int_inter_3way/num_inter_3way_4000.csv\n",
      "4000\n",
      "4040 == (174865, 235) (58289, 235)\n",
      "==============================\n",
      "Memory 313.52 MB ==>  83.05 MB\n",
      "Decreased by 73.5%\n",
      "==============================\n",
      "==============================\n",
      "Memory 104.51 MB ==>  27.35 MB\n",
      "Decreased by 73.8%\n",
      "==============================\n"
     ]
    },
    {
     "name": "stderr",
     "output_type": "stream",
     "text": [
      "[Parallel(n_jobs=4)]: Using backend ThreadingBackend with 4 concurrent workers.\n",
      "[Parallel(n_jobs=4)]: Done  20 out of  20 | elapsed:  1.4min finished\n",
      "/home/ankish/anaconda3/lib/python3.6/site-packages/sklearn/ensemble/forest.py:458: UserWarning: Some inputs do not have OOB scores. This probably means too few trees were used to compute any reliable oob estimates.\n",
      "  warn(\"Some inputs do not have OOB scores. \"\n",
      "/home/ankish/anaconda3/lib/python3.6/site-packages/sklearn/ensemble/forest.py:463: RuntimeWarning: invalid value encountered in true_divide\n",
      "  predictions[k].sum(axis=1)[:, np.newaxis])\n",
      "[Parallel(n_jobs=4)]: Using backend ThreadingBackend with 4 concurrent workers.\n",
      "[Parallel(n_jobs=4)]: Done  20 out of  20 | elapsed:    0.1s finished\n"
     ]
    },
    {
     "name": "stdout",
     "output_type": "stream",
     "text": [
      "CV score: 0.59794 \n",
      "store_data/new_feat/int_inter_3way/num_inter_3way_4040.csv\n",
      "4040\n",
      "4080 == (174865, 235) (58289, 235)\n",
      "==============================\n",
      "Memory 313.52 MB ==>  83.05 MB\n",
      "Decreased by 73.5%\n",
      "==============================\n",
      "==============================\n",
      "Memory 104.51 MB ==>  27.35 MB\n",
      "Decreased by 73.8%\n",
      "==============================\n"
     ]
    },
    {
     "name": "stderr",
     "output_type": "stream",
     "text": [
      "[Parallel(n_jobs=4)]: Using backend ThreadingBackend with 4 concurrent workers.\n",
      "[Parallel(n_jobs=4)]: Done  20 out of  20 | elapsed:  1.5min finished\n",
      "/home/ankish/anaconda3/lib/python3.6/site-packages/sklearn/ensemble/forest.py:458: UserWarning: Some inputs do not have OOB scores. This probably means too few trees were used to compute any reliable oob estimates.\n",
      "  warn(\"Some inputs do not have OOB scores. \"\n",
      "/home/ankish/anaconda3/lib/python3.6/site-packages/sklearn/ensemble/forest.py:463: RuntimeWarning: invalid value encountered in true_divide\n",
      "  predictions[k].sum(axis=1)[:, np.newaxis])\n",
      "[Parallel(n_jobs=4)]: Using backend ThreadingBackend with 4 concurrent workers.\n",
      "[Parallel(n_jobs=4)]: Done  20 out of  20 | elapsed:    0.1s finished\n"
     ]
    },
    {
     "name": "stdout",
     "output_type": "stream",
     "text": [
      "CV score: 0.59745 \n",
      "store_data/new_feat/int_inter_3way/num_inter_3way_4080.csv\n",
      "4080\n",
      "4120 == (174865, 235) (58289, 235)\n",
      "==============================\n",
      "Memory 313.52 MB ==>  83.05 MB\n",
      "Decreased by 73.5%\n",
      "==============================\n",
      "==============================\n",
      "Memory 104.51 MB ==>  27.46 MB\n",
      "Decreased by 73.7%\n",
      "==============================\n"
     ]
    },
    {
     "name": "stderr",
     "output_type": "stream",
     "text": [
      "[Parallel(n_jobs=4)]: Using backend ThreadingBackend with 4 concurrent workers.\n",
      "[Parallel(n_jobs=4)]: Done  20 out of  20 | elapsed:  1.7min finished\n",
      "/home/ankish/anaconda3/lib/python3.6/site-packages/sklearn/ensemble/forest.py:458: UserWarning: Some inputs do not have OOB scores. This probably means too few trees were used to compute any reliable oob estimates.\n",
      "  warn(\"Some inputs do not have OOB scores. \"\n",
      "/home/ankish/anaconda3/lib/python3.6/site-packages/sklearn/ensemble/forest.py:463: RuntimeWarning: invalid value encountered in true_divide\n",
      "  predictions[k].sum(axis=1)[:, np.newaxis])\n",
      "[Parallel(n_jobs=4)]: Using backend ThreadingBackend with 4 concurrent workers.\n",
      "[Parallel(n_jobs=4)]: Done  20 out of  20 | elapsed:    0.2s finished\n"
     ]
    },
    {
     "name": "stdout",
     "output_type": "stream",
     "text": [
      "CV score: 0.60047 \n",
      "store_data/new_feat/int_inter_3way/num_inter_3way_4120.csv\n",
      "4120\n",
      "4160 == (174865, 235) (58289, 235)\n",
      "==============================\n",
      "Memory 313.52 MB ==>  86.05 MB\n",
      "Decreased by 72.6%\n",
      "==============================\n",
      "==============================\n",
      "Memory 104.51 MB ==>  27.68 MB\n",
      "Decreased by 73.5%\n",
      "==============================\n"
     ]
    },
    {
     "name": "stderr",
     "output_type": "stream",
     "text": [
      "[Parallel(n_jobs=4)]: Using backend ThreadingBackend with 4 concurrent workers.\n",
      "[Parallel(n_jobs=4)]: Done  20 out of  20 | elapsed:  1.7min finished\n",
      "/home/ankish/anaconda3/lib/python3.6/site-packages/sklearn/ensemble/forest.py:458: UserWarning: Some inputs do not have OOB scores. This probably means too few trees were used to compute any reliable oob estimates.\n",
      "  warn(\"Some inputs do not have OOB scores. \"\n",
      "/home/ankish/anaconda3/lib/python3.6/site-packages/sklearn/ensemble/forest.py:463: RuntimeWarning: invalid value encountered in true_divide\n",
      "  predictions[k].sum(axis=1)[:, np.newaxis])\n",
      "[Parallel(n_jobs=4)]: Using backend ThreadingBackend with 4 concurrent workers.\n",
      "[Parallel(n_jobs=4)]: Done  20 out of  20 | elapsed:    0.2s finished\n"
     ]
    },
    {
     "name": "stdout",
     "output_type": "stream",
     "text": [
      "CV score: 0.60186 \n",
      "store_data/new_feat/int_inter_3way/num_inter_3way_4160.csv\n",
      "4160\n",
      "4200 == (174865, 235) (58289, 235)\n",
      "==============================\n",
      "Memory 313.52 MB ==>  85.72 MB\n",
      "Decreased by 72.7%\n",
      "==============================\n",
      "==============================\n",
      "Memory 104.51 MB ==>  27.79 MB\n",
      "Decreased by 73.4%\n",
      "==============================\n"
     ]
    },
    {
     "name": "stderr",
     "output_type": "stream",
     "text": [
      "[Parallel(n_jobs=4)]: Using backend ThreadingBackend with 4 concurrent workers.\n",
      "[Parallel(n_jobs=4)]: Done  20 out of  20 | elapsed:  1.7min finished\n",
      "/home/ankish/anaconda3/lib/python3.6/site-packages/sklearn/ensemble/forest.py:458: UserWarning: Some inputs do not have OOB scores. This probably means too few trees were used to compute any reliable oob estimates.\n",
      "  warn(\"Some inputs do not have OOB scores. \"\n",
      "/home/ankish/anaconda3/lib/python3.6/site-packages/sklearn/ensemble/forest.py:463: RuntimeWarning: invalid value encountered in true_divide\n",
      "  predictions[k].sum(axis=1)[:, np.newaxis])\n",
      "[Parallel(n_jobs=4)]: Using backend ThreadingBackend with 4 concurrent workers.\n",
      "[Parallel(n_jobs=4)]: Done  20 out of  20 | elapsed:    0.2s finished\n"
     ]
    },
    {
     "name": "stdout",
     "output_type": "stream",
     "text": [
      "CV score: 0.59764 \n",
      "store_data/new_feat/int_inter_3way/num_inter_3way_4200.csv\n",
      "4200\n",
      "4240 == (174865, 235) (58289, 235)\n",
      "==============================\n",
      "Memory 313.52 MB ==>  87.38 MB\n",
      "Decreased by 72.1%\n",
      "==============================\n",
      "==============================\n",
      "Memory 104.51 MB ==>  27.35 MB\n",
      "Decreased by 73.8%\n",
      "==============================\n"
     ]
    },
    {
     "name": "stderr",
     "output_type": "stream",
     "text": [
      "[Parallel(n_jobs=4)]: Using backend ThreadingBackend with 4 concurrent workers.\n",
      "[Parallel(n_jobs=4)]: Done  20 out of  20 | elapsed:  1.7min finished\n",
      "/home/ankish/anaconda3/lib/python3.6/site-packages/sklearn/ensemble/forest.py:458: UserWarning: Some inputs do not have OOB scores. This probably means too few trees were used to compute any reliable oob estimates.\n",
      "  warn(\"Some inputs do not have OOB scores. \"\n",
      "/home/ankish/anaconda3/lib/python3.6/site-packages/sklearn/ensemble/forest.py:463: RuntimeWarning: invalid value encountered in true_divide\n",
      "  predictions[k].sum(axis=1)[:, np.newaxis])\n",
      "[Parallel(n_jobs=4)]: Using backend ThreadingBackend with 4 concurrent workers.\n",
      "[Parallel(n_jobs=4)]: Done  20 out of  20 | elapsed:    0.2s finished\n"
     ]
    },
    {
     "name": "stdout",
     "output_type": "stream",
     "text": [
      "CV score: 0.59699 \n",
      "store_data/new_feat/int_inter_3way/num_inter_3way_4240.csv\n",
      "4240\n",
      "4280 == (174865, 235) (58289, 235)\n",
      "==============================\n",
      "Memory 313.52 MB ==>  82.05 MB\n",
      "Decreased by 73.8%\n",
      "==============================\n",
      "==============================\n",
      "Memory 104.51 MB ==>  27.35 MB\n",
      "Decreased by 73.8%\n",
      "==============================\n"
     ]
    },
    {
     "name": "stderr",
     "output_type": "stream",
     "text": [
      "[Parallel(n_jobs=4)]: Using backend ThreadingBackend with 4 concurrent workers.\n",
      "[Parallel(n_jobs=4)]: Done  20 out of  20 | elapsed:  1.7min finished\n",
      "/home/ankish/anaconda3/lib/python3.6/site-packages/sklearn/ensemble/forest.py:458: UserWarning: Some inputs do not have OOB scores. This probably means too few trees were used to compute any reliable oob estimates.\n",
      "  warn(\"Some inputs do not have OOB scores. \"\n",
      "/home/ankish/anaconda3/lib/python3.6/site-packages/sklearn/ensemble/forest.py:463: RuntimeWarning: invalid value encountered in true_divide\n",
      "  predictions[k].sum(axis=1)[:, np.newaxis])\n",
      "[Parallel(n_jobs=4)]: Using backend ThreadingBackend with 4 concurrent workers.\n",
      "[Parallel(n_jobs=4)]: Done  20 out of  20 | elapsed:    0.1s finished\n"
     ]
    },
    {
     "name": "stdout",
     "output_type": "stream",
     "text": [
      "CV score: 0.59600 \n",
      "store_data/new_feat/int_inter_3way/num_inter_3way_4280.csv\n",
      "4280\n",
      "4320 == (174865, 235) (58289, 235)\n",
      "==============================\n",
      "Memory 313.52 MB ==>  82.05 MB\n",
      "Decreased by 73.8%\n",
      "==============================\n",
      "==============================\n",
      "Memory 104.51 MB ==>  27.46 MB\n",
      "Decreased by 73.7%\n",
      "==============================\n"
     ]
    },
    {
     "name": "stderr",
     "output_type": "stream",
     "text": [
      "[Parallel(n_jobs=4)]: Using backend ThreadingBackend with 4 concurrent workers.\n",
      "[Parallel(n_jobs=4)]: Done  20 out of  20 | elapsed:  1.6min finished\n",
      "/home/ankish/anaconda3/lib/python3.6/site-packages/sklearn/ensemble/forest.py:458: UserWarning: Some inputs do not have OOB scores. This probably means too few trees were used to compute any reliable oob estimates.\n",
      "  warn(\"Some inputs do not have OOB scores. \"\n",
      "/home/ankish/anaconda3/lib/python3.6/site-packages/sklearn/ensemble/forest.py:463: RuntimeWarning: invalid value encountered in true_divide\n",
      "  predictions[k].sum(axis=1)[:, np.newaxis])\n",
      "[Parallel(n_jobs=4)]: Using backend ThreadingBackend with 4 concurrent workers.\n",
      "[Parallel(n_jobs=4)]: Done  20 out of  20 | elapsed:    0.2s finished\n"
     ]
    },
    {
     "name": "stdout",
     "output_type": "stream",
     "text": [
      "CV score: 0.59903 \n",
      "store_data/new_feat/int_inter_3way/num_inter_3way_4320.csv\n",
      "4320\n",
      "4360 == (174865, 235) (58289, 235)\n",
      "==============================\n",
      "Memory 313.52 MB ==>  82.05 MB\n",
      "Decreased by 73.8%\n",
      "==============================\n",
      "==============================\n",
      "Memory 104.51 MB ==>  27.35 MB\n",
      "Decreased by 73.8%\n",
      "==============================\n"
     ]
    },
    {
     "name": "stderr",
     "output_type": "stream",
     "text": [
      "[Parallel(n_jobs=4)]: Using backend ThreadingBackend with 4 concurrent workers.\n",
      "[Parallel(n_jobs=4)]: Done  20 out of  20 | elapsed:  1.7min finished\n",
      "/home/ankish/anaconda3/lib/python3.6/site-packages/sklearn/ensemble/forest.py:458: UserWarning: Some inputs do not have OOB scores. This probably means too few trees were used to compute any reliable oob estimates.\n",
      "  warn(\"Some inputs do not have OOB scores. \"\n",
      "/home/ankish/anaconda3/lib/python3.6/site-packages/sklearn/ensemble/forest.py:463: RuntimeWarning: invalid value encountered in true_divide\n",
      "  predictions[k].sum(axis=1)[:, np.newaxis])\n",
      "[Parallel(n_jobs=4)]: Using backend ThreadingBackend with 4 concurrent workers.\n",
      "[Parallel(n_jobs=4)]: Done  20 out of  20 | elapsed:    0.1s finished\n"
     ]
    },
    {
     "name": "stdout",
     "output_type": "stream",
     "text": [
      "CV score: 0.59811 \n",
      "store_data/new_feat/int_inter_3way/num_inter_3way_4360.csv\n",
      "4360\n",
      "4400 == (174865, 235) (58289, 235)\n",
      "==============================\n",
      "Memory 313.52 MB ==>  82.72 MB\n",
      "Decreased by 73.6%\n",
      "==============================\n",
      "==============================\n",
      "Memory 104.51 MB ==>  27.35 MB\n",
      "Decreased by 73.8%\n",
      "==============================\n"
     ]
    },
    {
     "name": "stderr",
     "output_type": "stream",
     "text": [
      "[Parallel(n_jobs=4)]: Using backend ThreadingBackend with 4 concurrent workers.\n",
      "[Parallel(n_jobs=4)]: Done  20 out of  20 | elapsed:  1.9min finished\n",
      "/home/ankish/anaconda3/lib/python3.6/site-packages/sklearn/ensemble/forest.py:458: UserWarning: Some inputs do not have OOB scores. This probably means too few trees were used to compute any reliable oob estimates.\n",
      "  warn(\"Some inputs do not have OOB scores. \"\n",
      "/home/ankish/anaconda3/lib/python3.6/site-packages/sklearn/ensemble/forest.py:463: RuntimeWarning: invalid value encountered in true_divide\n",
      "  predictions[k].sum(axis=1)[:, np.newaxis])\n",
      "[Parallel(n_jobs=4)]: Using backend ThreadingBackend with 4 concurrent workers.\n",
      "[Parallel(n_jobs=4)]: Done  20 out of  20 | elapsed:    0.2s finished\n"
     ]
    },
    {
     "name": "stdout",
     "output_type": "stream",
     "text": [
      "CV score: 0.59672 \n",
      "store_data/new_feat/int_inter_3way/num_inter_3way_4400.csv\n",
      "4400\n",
      "4440 == (174865, 235) (58289, 235)\n",
      "==============================\n",
      "Memory 313.52 MB ==>  83.38 MB\n",
      "Decreased by 73.4%\n",
      "==============================\n",
      "==============================\n",
      "Memory 104.51 MB ==>  27.79 MB\n",
      "Decreased by 73.4%\n",
      "==============================\n"
     ]
    },
    {
     "name": "stderr",
     "output_type": "stream",
     "text": [
      "[Parallel(n_jobs=4)]: Using backend ThreadingBackend with 4 concurrent workers.\n",
      "[Parallel(n_jobs=4)]: Done  20 out of  20 | elapsed:  1.8min finished\n",
      "/home/ankish/anaconda3/lib/python3.6/site-packages/sklearn/ensemble/forest.py:458: UserWarning: Some inputs do not have OOB scores. This probably means too few trees were used to compute any reliable oob estimates.\n",
      "  warn(\"Some inputs do not have OOB scores. \"\n",
      "/home/ankish/anaconda3/lib/python3.6/site-packages/sklearn/ensemble/forest.py:463: RuntimeWarning: invalid value encountered in true_divide\n",
      "  predictions[k].sum(axis=1)[:, np.newaxis])\n",
      "[Parallel(n_jobs=4)]: Using backend ThreadingBackend with 4 concurrent workers.\n",
      "[Parallel(n_jobs=4)]: Done  20 out of  20 | elapsed:    0.1s finished\n"
     ]
    },
    {
     "name": "stdout",
     "output_type": "stream",
     "text": [
      "CV score: 0.60057 \n",
      "store_data/new_feat/int_inter_3way/num_inter_3way_4440.csv\n",
      "4440\n",
      "4480 == (174865, 235) (58289, 235)\n",
      "==============================\n",
      "Memory 313.52 MB ==>  83.05 MB\n",
      "Decreased by 73.5%\n",
      "==============================\n",
      "==============================\n",
      "Memory 104.51 MB ==>  27.46 MB\n",
      "Decreased by 73.7%\n",
      "==============================\n"
     ]
    },
    {
     "name": "stderr",
     "output_type": "stream",
     "text": [
      "[Parallel(n_jobs=4)]: Using backend ThreadingBackend with 4 concurrent workers.\n",
      "[Parallel(n_jobs=4)]: Done  20 out of  20 | elapsed:  1.7min finished\n",
      "/home/ankish/anaconda3/lib/python3.6/site-packages/sklearn/ensemble/forest.py:458: UserWarning: Some inputs do not have OOB scores. This probably means too few trees were used to compute any reliable oob estimates.\n",
      "  warn(\"Some inputs do not have OOB scores. \"\n",
      "/home/ankish/anaconda3/lib/python3.6/site-packages/sklearn/ensemble/forest.py:463: RuntimeWarning: invalid value encountered in true_divide\n",
      "  predictions[k].sum(axis=1)[:, np.newaxis])\n",
      "[Parallel(n_jobs=4)]: Using backend ThreadingBackend with 4 concurrent workers.\n",
      "[Parallel(n_jobs=4)]: Done  20 out of  20 | elapsed:    0.2s finished\n"
     ]
    },
    {
     "name": "stdout",
     "output_type": "stream",
     "text": [
      "CV score: 0.59471 \n",
      "store_data/new_feat/int_inter_3way/num_inter_3way_4480.csv\n",
      "4480\n",
      "4520 == (174865, 235) (58289, 235)\n",
      "==============================\n",
      "Memory 313.52 MB ==>  83.38 MB\n",
      "Decreased by 73.4%\n",
      "==============================\n",
      "==============================\n",
      "Memory 104.51 MB ==>  27.35 MB\n",
      "Decreased by 73.8%\n",
      "==============================\n"
     ]
    },
    {
     "name": "stderr",
     "output_type": "stream",
     "text": [
      "[Parallel(n_jobs=4)]: Using backend ThreadingBackend with 4 concurrent workers.\n",
      "[Parallel(n_jobs=4)]: Done  20 out of  20 | elapsed:  1.8min finished\n",
      "/home/ankish/anaconda3/lib/python3.6/site-packages/sklearn/ensemble/forest.py:458: UserWarning: Some inputs do not have OOB scores. This probably means too few trees were used to compute any reliable oob estimates.\n",
      "  warn(\"Some inputs do not have OOB scores. \"\n",
      "/home/ankish/anaconda3/lib/python3.6/site-packages/sklearn/ensemble/forest.py:463: RuntimeWarning: invalid value encountered in true_divide\n",
      "  predictions[k].sum(axis=1)[:, np.newaxis])\n",
      "[Parallel(n_jobs=4)]: Using backend ThreadingBackend with 4 concurrent workers.\n",
      "[Parallel(n_jobs=4)]: Done  20 out of  20 | elapsed:    0.2s finished\n"
     ]
    },
    {
     "name": "stdout",
     "output_type": "stream",
     "text": [
      "CV score: 0.59581 \n",
      "store_data/new_feat/int_inter_3way/num_inter_3way_4520.csv\n",
      "4520\n",
      "4560 == (174865, 235) (58289, 235)\n",
      "==============================\n",
      "Memory 313.52 MB ==>  82.38 MB\n",
      "Decreased by 73.7%\n",
      "==============================\n",
      "==============================\n",
      "Memory 104.51 MB ==>  27.46 MB\n",
      "Decreased by 73.7%\n",
      "==============================\n"
     ]
    },
    {
     "name": "stderr",
     "output_type": "stream",
     "text": [
      "[Parallel(n_jobs=4)]: Using backend ThreadingBackend with 4 concurrent workers.\n",
      "[Parallel(n_jobs=4)]: Done  20 out of  20 | elapsed:  1.6min finished\n",
      "/home/ankish/anaconda3/lib/python3.6/site-packages/sklearn/ensemble/forest.py:458: UserWarning: Some inputs do not have OOB scores. This probably means too few trees were used to compute any reliable oob estimates.\n",
      "  warn(\"Some inputs do not have OOB scores. \"\n",
      "/home/ankish/anaconda3/lib/python3.6/site-packages/sklearn/ensemble/forest.py:463: RuntimeWarning: invalid value encountered in true_divide\n",
      "  predictions[k].sum(axis=1)[:, np.newaxis])\n",
      "[Parallel(n_jobs=4)]: Using backend ThreadingBackend with 4 concurrent workers.\n",
      "[Parallel(n_jobs=4)]: Done  20 out of  20 | elapsed:    0.2s finished\n"
     ]
    },
    {
     "name": "stdout",
     "output_type": "stream",
     "text": [
      "CV score: 0.59381 \n",
      "store_data/new_feat/int_inter_3way/num_inter_3way_4560.csv\n",
      "4560\n",
      "4600 == (174865, 235) (58289, 235)\n",
      "==============================\n",
      "Memory 313.52 MB ==>  82.05 MB\n",
      "Decreased by 73.8%\n",
      "==============================\n",
      "==============================\n",
      "Memory 104.51 MB ==>  27.46 MB\n",
      "Decreased by 73.7%\n",
      "==============================\n"
     ]
    },
    {
     "name": "stderr",
     "output_type": "stream",
     "text": [
      "[Parallel(n_jobs=4)]: Using backend ThreadingBackend with 4 concurrent workers.\n",
      "[Parallel(n_jobs=4)]: Done  20 out of  20 | elapsed:  1.6min finished\n",
      "/home/ankish/anaconda3/lib/python3.6/site-packages/sklearn/ensemble/forest.py:458: UserWarning: Some inputs do not have OOB scores. This probably means too few trees were used to compute any reliable oob estimates.\n",
      "  warn(\"Some inputs do not have OOB scores. \"\n",
      "/home/ankish/anaconda3/lib/python3.6/site-packages/sklearn/ensemble/forest.py:463: RuntimeWarning: invalid value encountered in true_divide\n",
      "  predictions[k].sum(axis=1)[:, np.newaxis])\n",
      "[Parallel(n_jobs=4)]: Using backend ThreadingBackend with 4 concurrent workers.\n",
      "[Parallel(n_jobs=4)]: Done  20 out of  20 | elapsed:    0.2s finished\n"
     ]
    },
    {
     "name": "stdout",
     "output_type": "stream",
     "text": [
      "CV score: 0.59673 \n",
      "store_data/new_feat/int_inter_3way/num_inter_3way_4600.csv\n",
      "4600\n",
      "4640 == (174865, 235) (58289, 235)\n",
      "==============================\n",
      "Memory 313.52 MB ==>  83.38 MB\n",
      "Decreased by 73.4%\n",
      "==============================\n",
      "==============================\n",
      "Memory 104.51 MB ==>  27.46 MB\n",
      "Decreased by 73.7%\n",
      "==============================\n"
     ]
    },
    {
     "name": "stderr",
     "output_type": "stream",
     "text": [
      "[Parallel(n_jobs=4)]: Using backend ThreadingBackend with 4 concurrent workers.\n",
      "[Parallel(n_jobs=4)]: Done  20 out of  20 | elapsed:  1.7min finished\n",
      "/home/ankish/anaconda3/lib/python3.6/site-packages/sklearn/ensemble/forest.py:458: UserWarning: Some inputs do not have OOB scores. This probably means too few trees were used to compute any reliable oob estimates.\n",
      "  warn(\"Some inputs do not have OOB scores. \"\n",
      "/home/ankish/anaconda3/lib/python3.6/site-packages/sklearn/ensemble/forest.py:463: RuntimeWarning: invalid value encountered in true_divide\n",
      "  predictions[k].sum(axis=1)[:, np.newaxis])\n",
      "[Parallel(n_jobs=4)]: Using backend ThreadingBackend with 4 concurrent workers.\n",
      "[Parallel(n_jobs=4)]: Done  20 out of  20 | elapsed:    0.2s finished\n"
     ]
    },
    {
     "name": "stdout",
     "output_type": "stream",
     "text": [
      "CV score: 0.59509 \n",
      "store_data/new_feat/int_inter_3way/num_inter_3way_4640.csv\n",
      "4640\n",
      "4680 == (174865, 235) (58289, 235)\n",
      "==============================\n",
      "Memory 313.52 MB ==>  86.05 MB\n",
      "Decreased by 72.6%\n",
      "==============================\n",
      "==============================\n",
      "Memory 104.51 MB ==>  28.02 MB\n",
      "Decreased by 73.2%\n",
      "==============================\n"
     ]
    },
    {
     "name": "stderr",
     "output_type": "stream",
     "text": [
      "[Parallel(n_jobs=4)]: Using backend ThreadingBackend with 4 concurrent workers.\n",
      "[Parallel(n_jobs=4)]: Done  20 out of  20 | elapsed:  1.9min finished\n",
      "/home/ankish/anaconda3/lib/python3.6/site-packages/sklearn/ensemble/forest.py:458: UserWarning: Some inputs do not have OOB scores. This probably means too few trees were used to compute any reliable oob estimates.\n",
      "  warn(\"Some inputs do not have OOB scores. \"\n",
      "/home/ankish/anaconda3/lib/python3.6/site-packages/sklearn/ensemble/forest.py:463: RuntimeWarning: invalid value encountered in true_divide\n",
      "  predictions[k].sum(axis=1)[:, np.newaxis])\n",
      "[Parallel(n_jobs=4)]: Using backend ThreadingBackend with 4 concurrent workers.\n",
      "[Parallel(n_jobs=4)]: Done  20 out of  20 | elapsed:    0.1s finished\n"
     ]
    },
    {
     "name": "stdout",
     "output_type": "stream",
     "text": [
      "CV score: 0.59695 \n",
      "store_data/new_feat/int_inter_3way/num_inter_3way_4680.csv\n",
      "4680\n",
      "4720 == (174865, 235) (58289, 235)\n",
      "==============================\n",
      "Memory 313.52 MB ==>  83.05 MB\n",
      "Decreased by 73.5%\n",
      "==============================\n",
      "==============================\n",
      "Memory 104.51 MB ==>  27.57 MB\n",
      "Decreased by 73.6%\n",
      "==============================\n"
     ]
    },
    {
     "name": "stderr",
     "output_type": "stream",
     "text": [
      "[Parallel(n_jobs=4)]: Using backend ThreadingBackend with 4 concurrent workers.\n",
      "[Parallel(n_jobs=4)]: Done  20 out of  20 | elapsed:  1.8min finished\n",
      "/home/ankish/anaconda3/lib/python3.6/site-packages/sklearn/ensemble/forest.py:458: UserWarning: Some inputs do not have OOB scores. This probably means too few trees were used to compute any reliable oob estimates.\n",
      "  warn(\"Some inputs do not have OOB scores. \"\n",
      "/home/ankish/anaconda3/lib/python3.6/site-packages/sklearn/ensemble/forest.py:463: RuntimeWarning: invalid value encountered in true_divide\n",
      "  predictions[k].sum(axis=1)[:, np.newaxis])\n",
      "[Parallel(n_jobs=4)]: Using backend ThreadingBackend with 4 concurrent workers.\n",
      "[Parallel(n_jobs=4)]: Done  20 out of  20 | elapsed:    0.2s finished\n"
     ]
    },
    {
     "name": "stdout",
     "output_type": "stream",
     "text": [
      "CV score: 0.59445 \n",
      "store_data/new_feat/int_inter_3way/num_inter_3way_4720.csv\n",
      "4720\n",
      "4760 == (174865, 235) (58289, 235)\n",
      "==============================\n",
      "Memory 313.52 MB ==>  82.72 MB\n",
      "Decreased by 73.6%\n",
      "==============================\n",
      "==============================\n",
      "Memory 104.51 MB ==>  27.57 MB\n",
      "Decreased by 73.6%\n",
      "==============================\n"
     ]
    },
    {
     "name": "stderr",
     "output_type": "stream",
     "text": [
      "[Parallel(n_jobs=4)]: Using backend ThreadingBackend with 4 concurrent workers.\n",
      "[Parallel(n_jobs=4)]: Done  20 out of  20 | elapsed:  1.8min finished\n",
      "/home/ankish/anaconda3/lib/python3.6/site-packages/sklearn/ensemble/forest.py:458: UserWarning: Some inputs do not have OOB scores. This probably means too few trees were used to compute any reliable oob estimates.\n",
      "  warn(\"Some inputs do not have OOB scores. \"\n",
      "/home/ankish/anaconda3/lib/python3.6/site-packages/sklearn/ensemble/forest.py:463: RuntimeWarning: invalid value encountered in true_divide\n",
      "  predictions[k].sum(axis=1)[:, np.newaxis])\n",
      "[Parallel(n_jobs=4)]: Using backend ThreadingBackend with 4 concurrent workers.\n",
      "[Parallel(n_jobs=4)]: Done  20 out of  20 | elapsed:    0.2s finished\n"
     ]
    },
    {
     "name": "stdout",
     "output_type": "stream",
     "text": [
      "CV score: 0.59208 \n",
      "store_data/new_feat/int_inter_3way/num_inter_3way_4760.csv\n",
      "4760\n",
      "4800 == (174865, 235) (58289, 235)\n",
      "==============================\n",
      "Memory 313.52 MB ==>  82.05 MB\n",
      "Decreased by 73.8%\n",
      "==============================\n",
      "==============================\n",
      "Memory 104.51 MB ==>  27.35 MB\n",
      "Decreased by 73.8%\n",
      "==============================\n"
     ]
    },
    {
     "name": "stderr",
     "output_type": "stream",
     "text": [
      "[Parallel(n_jobs=4)]: Using backend ThreadingBackend with 4 concurrent workers.\n",
      "[Parallel(n_jobs=4)]: Done  20 out of  20 | elapsed:  1.3min finished\n",
      "/home/ankish/anaconda3/lib/python3.6/site-packages/sklearn/ensemble/forest.py:458: UserWarning: Some inputs do not have OOB scores. This probably means too few trees were used to compute any reliable oob estimates.\n",
      "  warn(\"Some inputs do not have OOB scores. \"\n",
      "/home/ankish/anaconda3/lib/python3.6/site-packages/sklearn/ensemble/forest.py:463: RuntimeWarning: invalid value encountered in true_divide\n",
      "  predictions[k].sum(axis=1)[:, np.newaxis])\n",
      "[Parallel(n_jobs=4)]: Using backend ThreadingBackend with 4 concurrent workers.\n",
      "[Parallel(n_jobs=4)]: Done  20 out of  20 | elapsed:    0.2s finished\n"
     ]
    },
    {
     "name": "stdout",
     "output_type": "stream",
     "text": [
      "CV score: 0.59953 \n",
      "store_data/new_feat/int_inter_3way/num_inter_3way_4800.csv\n",
      "4800\n",
      "4840 == (174865, 235) (58289, 235)\n",
      "==============================\n",
      "Memory 313.52 MB ==>  82.05 MB\n",
      "Decreased by 73.8%\n",
      "==============================\n",
      "==============================\n",
      "Memory 104.51 MB ==>  27.35 MB\n",
      "Decreased by 73.8%\n",
      "==============================\n"
     ]
    },
    {
     "name": "stderr",
     "output_type": "stream",
     "text": [
      "[Parallel(n_jobs=4)]: Using backend ThreadingBackend with 4 concurrent workers.\n",
      "[Parallel(n_jobs=4)]: Done  20 out of  20 | elapsed:  1.1min finished\n",
      "/home/ankish/anaconda3/lib/python3.6/site-packages/sklearn/ensemble/forest.py:458: UserWarning: Some inputs do not have OOB scores. This probably means too few trees were used to compute any reliable oob estimates.\n",
      "  warn(\"Some inputs do not have OOB scores. \"\n",
      "/home/ankish/anaconda3/lib/python3.6/site-packages/sklearn/ensemble/forest.py:463: RuntimeWarning: invalid value encountered in true_divide\n",
      "  predictions[k].sum(axis=1)[:, np.newaxis])\n",
      "[Parallel(n_jobs=4)]: Using backend ThreadingBackend with 4 concurrent workers.\n",
      "[Parallel(n_jobs=4)]: Done  20 out of  20 | elapsed:    0.2s finished\n"
     ]
    },
    {
     "name": "stdout",
     "output_type": "stream",
     "text": [
      "CV score: 0.60440 \n",
      "store_data/new_feat/int_inter_3way/num_inter_3way_4840.csv\n",
      "4840\n",
      "4880 == (174865, 235) (58289, 235)\n",
      "==============================\n",
      "Memory 313.52 MB ==>  82.05 MB\n",
      "Decreased by 73.8%\n",
      "==============================\n",
      "==============================\n",
      "Memory 104.51 MB ==>  27.35 MB\n",
      "Decreased by 73.8%\n",
      "==============================\n"
     ]
    },
    {
     "name": "stderr",
     "output_type": "stream",
     "text": [
      "[Parallel(n_jobs=4)]: Using backend ThreadingBackend with 4 concurrent workers.\n",
      "[Parallel(n_jobs=4)]: Done  20 out of  20 | elapsed:  1.3min finished\n",
      "/home/ankish/anaconda3/lib/python3.6/site-packages/sklearn/ensemble/forest.py:458: UserWarning: Some inputs do not have OOB scores. This probably means too few trees were used to compute any reliable oob estimates.\n",
      "  warn(\"Some inputs do not have OOB scores. \"\n",
      "/home/ankish/anaconda3/lib/python3.6/site-packages/sklearn/ensemble/forest.py:463: RuntimeWarning: invalid value encountered in true_divide\n",
      "  predictions[k].sum(axis=1)[:, np.newaxis])\n",
      "[Parallel(n_jobs=4)]: Using backend ThreadingBackend with 4 concurrent workers.\n",
      "[Parallel(n_jobs=4)]: Done  20 out of  20 | elapsed:    0.2s finished\n"
     ]
    },
    {
     "name": "stdout",
     "output_type": "stream",
     "text": [
      "CV score: 0.59728 \n",
      "store_data/new_feat/int_inter_3way/num_inter_3way_4880.csv\n",
      "4880\n",
      "4920 == (174865, 235) (58289, 235)\n",
      "==============================\n",
      "Memory 313.52 MB ==>  82.05 MB\n",
      "Decreased by 73.8%\n",
      "==============================\n",
      "==============================\n",
      "Memory 104.51 MB ==>  27.35 MB\n",
      "Decreased by 73.8%\n",
      "==============================\n"
     ]
    },
    {
     "name": "stderr",
     "output_type": "stream",
     "text": [
      "[Parallel(n_jobs=4)]: Using backend ThreadingBackend with 4 concurrent workers.\n",
      "[Parallel(n_jobs=4)]: Done  20 out of  20 | elapsed:  1.3min finished\n",
      "/home/ankish/anaconda3/lib/python3.6/site-packages/sklearn/ensemble/forest.py:458: UserWarning: Some inputs do not have OOB scores. This probably means too few trees were used to compute any reliable oob estimates.\n",
      "  warn(\"Some inputs do not have OOB scores. \"\n",
      "/home/ankish/anaconda3/lib/python3.6/site-packages/sklearn/ensemble/forest.py:463: RuntimeWarning: invalid value encountered in true_divide\n",
      "  predictions[k].sum(axis=1)[:, np.newaxis])\n",
      "[Parallel(n_jobs=4)]: Using backend ThreadingBackend with 4 concurrent workers.\n",
      "[Parallel(n_jobs=4)]: Done  20 out of  20 | elapsed:    0.1s finished\n"
     ]
    },
    {
     "name": "stdout",
     "output_type": "stream",
     "text": [
      "CV score: 0.60288 \n",
      "store_data/new_feat/int_inter_3way/num_inter_3way_4920.csv\n",
      "4920\n",
      "4960 == (174865, 235) (58289, 235)\n",
      "==============================\n",
      "Memory 313.52 MB ==>  82.05 MB\n",
      "Decreased by 73.8%\n",
      "==============================\n",
      "==============================\n",
      "Memory 104.51 MB ==>  27.35 MB\n",
      "Decreased by 73.8%\n",
      "==============================\n"
     ]
    },
    {
     "name": "stderr",
     "output_type": "stream",
     "text": [
      "[Parallel(n_jobs=4)]: Using backend ThreadingBackend with 4 concurrent workers.\n",
      "[Parallel(n_jobs=4)]: Done  20 out of  20 | elapsed:  1.3min finished\n",
      "/home/ankish/anaconda3/lib/python3.6/site-packages/sklearn/ensemble/forest.py:458: UserWarning: Some inputs do not have OOB scores. This probably means too few trees were used to compute any reliable oob estimates.\n",
      "  warn(\"Some inputs do not have OOB scores. \"\n",
      "/home/ankish/anaconda3/lib/python3.6/site-packages/sklearn/ensemble/forest.py:463: RuntimeWarning: invalid value encountered in true_divide\n",
      "  predictions[k].sum(axis=1)[:, np.newaxis])\n",
      "[Parallel(n_jobs=4)]: Using backend ThreadingBackend with 4 concurrent workers.\n",
      "[Parallel(n_jobs=4)]: Done  20 out of  20 | elapsed:    0.1s finished\n"
     ]
    },
    {
     "name": "stdout",
     "output_type": "stream",
     "text": [
      "CV score: 0.59987 \n",
      "store_data/new_feat/int_inter_3way/num_inter_3way_4960.csv\n",
      "4960\n",
      "5000 == (174865, 235) (58289, 235)\n",
      "==============================\n",
      "Memory 313.52 MB ==>  82.05 MB\n",
      "Decreased by 73.8%\n",
      "==============================\n",
      "==============================\n",
      "Memory 104.51 MB ==>  27.35 MB\n",
      "Decreased by 73.8%\n",
      "==============================\n"
     ]
    },
    {
     "name": "stderr",
     "output_type": "stream",
     "text": [
      "[Parallel(n_jobs=4)]: Using backend ThreadingBackend with 4 concurrent workers.\n",
      "[Parallel(n_jobs=4)]: Done  20 out of  20 | elapsed:  1.2min finished\n",
      "/home/ankish/anaconda3/lib/python3.6/site-packages/sklearn/ensemble/forest.py:458: UserWarning: Some inputs do not have OOB scores. This probably means too few trees were used to compute any reliable oob estimates.\n",
      "  warn(\"Some inputs do not have OOB scores. \"\n",
      "/home/ankish/anaconda3/lib/python3.6/site-packages/sklearn/ensemble/forest.py:463: RuntimeWarning: invalid value encountered in true_divide\n",
      "  predictions[k].sum(axis=1)[:, np.newaxis])\n",
      "[Parallel(n_jobs=4)]: Using backend ThreadingBackend with 4 concurrent workers.\n",
      "[Parallel(n_jobs=4)]: Done  20 out of  20 | elapsed:    0.1s finished\n"
     ]
    },
    {
     "name": "stdout",
     "output_type": "stream",
     "text": [
      "CV score: 0.59752 \n",
      "store_data/new_feat/int_inter_3way/num_inter_3way_5000.csv\n",
      "5000\n",
      "5040 == (174865, 235) (58289, 235)\n",
      "==============================\n",
      "Memory 313.52 MB ==>  82.05 MB\n",
      "Decreased by 73.8%\n",
      "==============================\n",
      "==============================\n",
      "Memory 104.51 MB ==>  27.35 MB\n",
      "Decreased by 73.8%\n",
      "==============================\n"
     ]
    },
    {
     "name": "stderr",
     "output_type": "stream",
     "text": [
      "[Parallel(n_jobs=4)]: Using backend ThreadingBackend with 4 concurrent workers.\n",
      "[Parallel(n_jobs=4)]: Done  20 out of  20 | elapsed:  1.4min finished\n",
      "/home/ankish/anaconda3/lib/python3.6/site-packages/sklearn/ensemble/forest.py:458: UserWarning: Some inputs do not have OOB scores. This probably means too few trees were used to compute any reliable oob estimates.\n",
      "  warn(\"Some inputs do not have OOB scores. \"\n",
      "/home/ankish/anaconda3/lib/python3.6/site-packages/sklearn/ensemble/forest.py:463: RuntimeWarning: invalid value encountered in true_divide\n",
      "  predictions[k].sum(axis=1)[:, np.newaxis])\n",
      "[Parallel(n_jobs=4)]: Using backend ThreadingBackend with 4 concurrent workers.\n",
      "[Parallel(n_jobs=4)]: Done  20 out of  20 | elapsed:    0.2s finished\n"
     ]
    },
    {
     "name": "stdout",
     "output_type": "stream",
     "text": [
      "CV score: 0.60311 \n",
      "store_data/new_feat/int_inter_3way/num_inter_3way_5040.csv\n",
      "5040\n",
      "5080 == (174865, 235) (58289, 235)\n",
      "==============================\n",
      "Memory 313.52 MB ==>  82.72 MB\n",
      "Decreased by 73.6%\n",
      "==============================\n",
      "==============================\n",
      "Memory 104.51 MB ==>  27.46 MB\n",
      "Decreased by 73.7%\n",
      "==============================\n"
     ]
    },
    {
     "name": "stderr",
     "output_type": "stream",
     "text": [
      "[Parallel(n_jobs=4)]: Using backend ThreadingBackend with 4 concurrent workers.\n",
      "[Parallel(n_jobs=4)]: Done  20 out of  20 | elapsed:  1.6min finished\n",
      "/home/ankish/anaconda3/lib/python3.6/site-packages/sklearn/ensemble/forest.py:458: UserWarning: Some inputs do not have OOB scores. This probably means too few trees were used to compute any reliable oob estimates.\n",
      "  warn(\"Some inputs do not have OOB scores. \"\n",
      "/home/ankish/anaconda3/lib/python3.6/site-packages/sklearn/ensemble/forest.py:463: RuntimeWarning: invalid value encountered in true_divide\n",
      "  predictions[k].sum(axis=1)[:, np.newaxis])\n",
      "[Parallel(n_jobs=4)]: Using backend ThreadingBackend with 4 concurrent workers.\n",
      "[Parallel(n_jobs=4)]: Done  20 out of  20 | elapsed:    0.2s finished\n"
     ]
    },
    {
     "name": "stdout",
     "output_type": "stream",
     "text": [
      "CV score: 0.59747 \n",
      "store_data/new_feat/int_inter_3way/num_inter_3way_5080.csv\n",
      "5080\n",
      "5120 == (174865, 235) (58289, 235)\n",
      "==============================\n",
      "Memory 313.52 MB ==>  84.72 MB\n",
      "Decreased by 73.0%\n",
      "==============================\n",
      "==============================\n",
      "Memory 104.51 MB ==>  28.24 MB\n",
      "Decreased by 73.0%\n",
      "==============================\n"
     ]
    },
    {
     "name": "stderr",
     "output_type": "stream",
     "text": [
      "[Parallel(n_jobs=4)]: Using backend ThreadingBackend with 4 concurrent workers.\n",
      "[Parallel(n_jobs=4)]: Done  20 out of  20 | elapsed:  1.8min finished\n",
      "/home/ankish/anaconda3/lib/python3.6/site-packages/sklearn/ensemble/forest.py:458: UserWarning: Some inputs do not have OOB scores. This probably means too few trees were used to compute any reliable oob estimates.\n",
      "  warn(\"Some inputs do not have OOB scores. \"\n",
      "/home/ankish/anaconda3/lib/python3.6/site-packages/sklearn/ensemble/forest.py:463: RuntimeWarning: invalid value encountered in true_divide\n",
      "  predictions[k].sum(axis=1)[:, np.newaxis])\n",
      "[Parallel(n_jobs=4)]: Using backend ThreadingBackend with 4 concurrent workers.\n",
      "[Parallel(n_jobs=4)]: Done  20 out of  20 | elapsed:    0.2s finished\n"
     ]
    },
    {
     "name": "stdout",
     "output_type": "stream",
     "text": [
      "CV score: 0.59787 \n",
      "store_data/new_feat/int_inter_3way/num_inter_3way_5120.csv\n",
      "5120\n",
      "5160 == (174865, 235) (58289, 235)\n",
      "==============================\n",
      "Memory 313.52 MB ==>  82.72 MB\n",
      "Decreased by 73.6%\n",
      "==============================\n",
      "==============================\n",
      "Memory 104.51 MB ==>  27.57 MB\n",
      "Decreased by 73.6%\n",
      "==============================\n"
     ]
    },
    {
     "name": "stderr",
     "output_type": "stream",
     "text": [
      "[Parallel(n_jobs=4)]: Using backend ThreadingBackend with 4 concurrent workers.\n",
      "[Parallel(n_jobs=4)]: Done  20 out of  20 | elapsed:  1.7min finished\n",
      "/home/ankish/anaconda3/lib/python3.6/site-packages/sklearn/ensemble/forest.py:458: UserWarning: Some inputs do not have OOB scores. This probably means too few trees were used to compute any reliable oob estimates.\n",
      "  warn(\"Some inputs do not have OOB scores. \"\n",
      "/home/ankish/anaconda3/lib/python3.6/site-packages/sklearn/ensemble/forest.py:463: RuntimeWarning: invalid value encountered in true_divide\n",
      "  predictions[k].sum(axis=1)[:, np.newaxis])\n",
      "[Parallel(n_jobs=4)]: Using backend ThreadingBackend with 4 concurrent workers.\n",
      "[Parallel(n_jobs=4)]: Done  20 out of  20 | elapsed:    0.2s finished\n"
     ]
    },
    {
     "name": "stdout",
     "output_type": "stream",
     "text": [
      "CV score: 0.59598 \n",
      "store_data/new_feat/int_inter_3way/num_inter_3way_5160.csv\n",
      "5160\n",
      "5200 == (174865, 235) (58289, 235)\n",
      "==============================\n",
      "Memory 313.52 MB ==>  84.38 MB\n",
      "Decreased by 73.1%\n",
      "==============================\n",
      "==============================\n",
      "Memory 104.51 MB ==>  27.79 MB\n",
      "Decreased by 73.4%\n",
      "==============================\n"
     ]
    },
    {
     "name": "stderr",
     "output_type": "stream",
     "text": [
      "[Parallel(n_jobs=4)]: Using backend ThreadingBackend with 4 concurrent workers.\n",
      "[Parallel(n_jobs=4)]: Done  20 out of  20 | elapsed:  2.0min finished\n",
      "/home/ankish/anaconda3/lib/python3.6/site-packages/sklearn/ensemble/forest.py:458: UserWarning: Some inputs do not have OOB scores. This probably means too few trees were used to compute any reliable oob estimates.\n",
      "  warn(\"Some inputs do not have OOB scores. \"\n",
      "/home/ankish/anaconda3/lib/python3.6/site-packages/sklearn/ensemble/forest.py:463: RuntimeWarning: invalid value encountered in true_divide\n",
      "  predictions[k].sum(axis=1)[:, np.newaxis])\n",
      "[Parallel(n_jobs=4)]: Using backend ThreadingBackend with 4 concurrent workers.\n",
      "[Parallel(n_jobs=4)]: Done  20 out of  20 | elapsed:    0.1s finished\n"
     ]
    },
    {
     "name": "stdout",
     "output_type": "stream",
     "text": [
      "CV score: 0.59418 \n",
      "store_data/new_feat/int_inter_3way/num_inter_3way_5200.csv\n",
      "5200\n",
      "5240 == (174865, 235) (58289, 235)\n",
      "==============================\n",
      "Memory 313.52 MB ==>  83.05 MB\n",
      "Decreased by 73.5%\n",
      "==============================\n",
      "==============================\n",
      "Memory 104.51 MB ==>  27.35 MB\n",
      "Decreased by 73.8%\n",
      "==============================\n"
     ]
    },
    {
     "name": "stderr",
     "output_type": "stream",
     "text": [
      "[Parallel(n_jobs=4)]: Using backend ThreadingBackend with 4 concurrent workers.\n",
      "[Parallel(n_jobs=4)]: Done  20 out of  20 | elapsed:  1.3min finished\n",
      "/home/ankish/anaconda3/lib/python3.6/site-packages/sklearn/ensemble/forest.py:458: UserWarning: Some inputs do not have OOB scores. This probably means too few trees were used to compute any reliable oob estimates.\n",
      "  warn(\"Some inputs do not have OOB scores. \"\n",
      "/home/ankish/anaconda3/lib/python3.6/site-packages/sklearn/ensemble/forest.py:463: RuntimeWarning: invalid value encountered in true_divide\n",
      "  predictions[k].sum(axis=1)[:, np.newaxis])\n",
      "[Parallel(n_jobs=4)]: Using backend ThreadingBackend with 4 concurrent workers.\n",
      "[Parallel(n_jobs=4)]: Done  20 out of  20 | elapsed:    0.1s finished\n"
     ]
    },
    {
     "name": "stdout",
     "output_type": "stream",
     "text": [
      "CV score: 0.60358 \n",
      "store_data/new_feat/int_inter_3way/num_inter_3way_5240.csv\n",
      "5240\n",
      "5280 == (174865, 235) (58289, 235)\n",
      "==============================\n",
      "Memory 313.52 MB ==>  82.72 MB\n",
      "Decreased by 73.6%\n",
      "==============================\n",
      "==============================\n",
      "Memory 104.51 MB ==>  27.35 MB\n",
      "Decreased by 73.8%\n",
      "==============================\n"
     ]
    },
    {
     "name": "stderr",
     "output_type": "stream",
     "text": [
      "[Parallel(n_jobs=4)]: Using backend ThreadingBackend with 4 concurrent workers.\n",
      "[Parallel(n_jobs=4)]: Done  20 out of  20 | elapsed:  1.3min finished\n",
      "/home/ankish/anaconda3/lib/python3.6/site-packages/sklearn/ensemble/forest.py:458: UserWarning: Some inputs do not have OOB scores. This probably means too few trees were used to compute any reliable oob estimates.\n",
      "  warn(\"Some inputs do not have OOB scores. \"\n",
      "/home/ankish/anaconda3/lib/python3.6/site-packages/sklearn/ensemble/forest.py:463: RuntimeWarning: invalid value encountered in true_divide\n",
      "  predictions[k].sum(axis=1)[:, np.newaxis])\n",
      "[Parallel(n_jobs=4)]: Using backend ThreadingBackend with 4 concurrent workers.\n",
      "[Parallel(n_jobs=4)]: Done  20 out of  20 | elapsed:    0.2s finished\n"
     ]
    },
    {
     "name": "stdout",
     "output_type": "stream",
     "text": [
      "CV score: 0.59824 \n",
      "store_data/new_feat/int_inter_3way/num_inter_3way_5280.csv\n",
      "5280\n",
      "5320 == (174865, 235) (58289, 235)\n",
      "==============================\n",
      "Memory 313.52 MB ==>  82.05 MB\n",
      "Decreased by 73.8%\n",
      "==============================\n",
      "==============================\n",
      "Memory 104.51 MB ==>  27.46 MB\n",
      "Decreased by 73.7%\n",
      "==============================\n"
     ]
    },
    {
     "name": "stderr",
     "output_type": "stream",
     "text": [
      "[Parallel(n_jobs=4)]: Using backend ThreadingBackend with 4 concurrent workers.\n",
      "[Parallel(n_jobs=4)]: Done  20 out of  20 | elapsed:  1.2min finished\n",
      "/home/ankish/anaconda3/lib/python3.6/site-packages/sklearn/ensemble/forest.py:458: UserWarning: Some inputs do not have OOB scores. This probably means too few trees were used to compute any reliable oob estimates.\n",
      "  warn(\"Some inputs do not have OOB scores. \"\n",
      "/home/ankish/anaconda3/lib/python3.6/site-packages/sklearn/ensemble/forest.py:463: RuntimeWarning: invalid value encountered in true_divide\n",
      "  predictions[k].sum(axis=1)[:, np.newaxis])\n",
      "[Parallel(n_jobs=4)]: Using backend ThreadingBackend with 4 concurrent workers.\n",
      "[Parallel(n_jobs=4)]: Done  20 out of  20 | elapsed:    0.1s finished\n"
     ]
    },
    {
     "name": "stdout",
     "output_type": "stream",
     "text": [
      "CV score: 0.59819 \n",
      "store_data/new_feat/int_inter_3way/num_inter_3way_5320.csv\n",
      "5320\n",
      "5360 == (174865, 235) (58289, 235)\n",
      "==============================\n",
      "Memory 313.52 MB ==>  82.38 MB\n",
      "Decreased by 73.7%\n",
      "==============================\n",
      "==============================\n",
      "Memory 104.51 MB ==>  27.35 MB\n",
      "Decreased by 73.8%\n",
      "==============================\n"
     ]
    },
    {
     "name": "stderr",
     "output_type": "stream",
     "text": [
      "[Parallel(n_jobs=4)]: Using backend ThreadingBackend with 4 concurrent workers.\n",
      "[Parallel(n_jobs=4)]: Done  20 out of  20 | elapsed:  1.3min finished\n",
      "/home/ankish/anaconda3/lib/python3.6/site-packages/sklearn/ensemble/forest.py:458: UserWarning: Some inputs do not have OOB scores. This probably means too few trees were used to compute any reliable oob estimates.\n",
      "  warn(\"Some inputs do not have OOB scores. \"\n",
      "/home/ankish/anaconda3/lib/python3.6/site-packages/sklearn/ensemble/forest.py:463: RuntimeWarning: invalid value encountered in true_divide\n",
      "  predictions[k].sum(axis=1)[:, np.newaxis])\n",
      "[Parallel(n_jobs=4)]: Using backend ThreadingBackend with 4 concurrent workers.\n",
      "[Parallel(n_jobs=4)]: Done  20 out of  20 | elapsed:    0.2s finished\n"
     ]
    },
    {
     "name": "stdout",
     "output_type": "stream",
     "text": [
      "CV score: 0.60280 \n",
      "store_data/new_feat/int_inter_3way/num_inter_3way_5360.csv\n",
      "5360\n",
      "5400 == (174865, 235) (58289, 235)\n",
      "==============================\n",
      "Memory 313.52 MB ==>  82.05 MB\n",
      "Decreased by 73.8%\n",
      "==============================\n",
      "==============================\n",
      "Memory 104.51 MB ==>  27.35 MB\n",
      "Decreased by 73.8%\n",
      "==============================\n"
     ]
    },
    {
     "name": "stderr",
     "output_type": "stream",
     "text": [
      "[Parallel(n_jobs=4)]: Using backend ThreadingBackend with 4 concurrent workers.\n",
      "[Parallel(n_jobs=4)]: Done  20 out of  20 | elapsed:  1.2min finished\n",
      "/home/ankish/anaconda3/lib/python3.6/site-packages/sklearn/ensemble/forest.py:458: UserWarning: Some inputs do not have OOB scores. This probably means too few trees were used to compute any reliable oob estimates.\n",
      "  warn(\"Some inputs do not have OOB scores. \"\n",
      "/home/ankish/anaconda3/lib/python3.6/site-packages/sklearn/ensemble/forest.py:463: RuntimeWarning: invalid value encountered in true_divide\n",
      "  predictions[k].sum(axis=1)[:, np.newaxis])\n",
      "[Parallel(n_jobs=4)]: Using backend ThreadingBackend with 4 concurrent workers.\n",
      "[Parallel(n_jobs=4)]: Done  20 out of  20 | elapsed:    0.1s finished\n"
     ]
    },
    {
     "name": "stdout",
     "output_type": "stream",
     "text": [
      "CV score: 0.60330 \n",
      "store_data/new_feat/int_inter_3way/num_inter_3way_5400.csv\n",
      "5400\n",
      "5440 == (174865, 235) (58289, 235)\n",
      "==============================\n",
      "Memory 313.52 MB ==>  82.38 MB\n",
      "Decreased by 73.7%\n",
      "==============================\n",
      "==============================\n",
      "Memory 104.51 MB ==>  27.35 MB\n",
      "Decreased by 73.8%\n",
      "==============================\n"
     ]
    },
    {
     "name": "stderr",
     "output_type": "stream",
     "text": [
      "[Parallel(n_jobs=4)]: Using backend ThreadingBackend with 4 concurrent workers.\n",
      "[Parallel(n_jobs=4)]: Done  20 out of  20 | elapsed:  1.6min finished\n",
      "/home/ankish/anaconda3/lib/python3.6/site-packages/sklearn/ensemble/forest.py:458: UserWarning: Some inputs do not have OOB scores. This probably means too few trees were used to compute any reliable oob estimates.\n",
      "  warn(\"Some inputs do not have OOB scores. \"\n",
      "/home/ankish/anaconda3/lib/python3.6/site-packages/sklearn/ensemble/forest.py:463: RuntimeWarning: invalid value encountered in true_divide\n",
      "  predictions[k].sum(axis=1)[:, np.newaxis])\n",
      "[Parallel(n_jobs=4)]: Using backend ThreadingBackend with 4 concurrent workers.\n",
      "[Parallel(n_jobs=4)]: Done  20 out of  20 | elapsed:    0.2s finished\n"
     ]
    },
    {
     "name": "stdout",
     "output_type": "stream",
     "text": [
      "CV score: 0.59630 \n",
      "store_data/new_feat/int_inter_3way/num_inter_3way_5440.csv\n",
      "5440\n",
      "5480 == (174865, 235) (58289, 235)\n",
      "==============================\n",
      "Memory 313.52 MB ==>  84.72 MB\n",
      "Decreased by 73.0%\n",
      "==============================\n",
      "==============================\n",
      "Memory 104.51 MB ==>  28.02 MB\n",
      "Decreased by 73.2%\n",
      "==============================\n"
     ]
    },
    {
     "name": "stderr",
     "output_type": "stream",
     "text": [
      "[Parallel(n_jobs=4)]: Using backend ThreadingBackend with 4 concurrent workers.\n",
      "[Parallel(n_jobs=4)]: Done  20 out of  20 | elapsed:  1.8min finished\n",
      "/home/ankish/anaconda3/lib/python3.6/site-packages/sklearn/ensemble/forest.py:458: UserWarning: Some inputs do not have OOB scores. This probably means too few trees were used to compute any reliable oob estimates.\n",
      "  warn(\"Some inputs do not have OOB scores. \"\n",
      "/home/ankish/anaconda3/lib/python3.6/site-packages/sklearn/ensemble/forest.py:463: RuntimeWarning: invalid value encountered in true_divide\n",
      "  predictions[k].sum(axis=1)[:, np.newaxis])\n",
      "[Parallel(n_jobs=4)]: Using backend ThreadingBackend with 4 concurrent workers.\n",
      "[Parallel(n_jobs=4)]: Done  20 out of  20 | elapsed:    0.2s finished\n"
     ]
    },
    {
     "name": "stdout",
     "output_type": "stream",
     "text": [
      "CV score: 0.59468 \n",
      "store_data/new_feat/int_inter_3way/num_inter_3way_5480.csv\n",
      "5480\n",
      "5520 == (174865, 235) (58289, 235)\n",
      "==============================\n",
      "Memory 313.52 MB ==>  83.05 MB\n",
      "Decreased by 73.5%\n",
      "==============================\n",
      "==============================\n",
      "Memory 104.51 MB ==>  27.57 MB\n",
      "Decreased by 73.6%\n",
      "==============================\n"
     ]
    },
    {
     "name": "stderr",
     "output_type": "stream",
     "text": [
      "[Parallel(n_jobs=4)]: Using backend ThreadingBackend with 4 concurrent workers.\n",
      "[Parallel(n_jobs=4)]: Done  20 out of  20 | elapsed:  1.7min finished\n",
      "/home/ankish/anaconda3/lib/python3.6/site-packages/sklearn/ensemble/forest.py:458: UserWarning: Some inputs do not have OOB scores. This probably means too few trees were used to compute any reliable oob estimates.\n",
      "  warn(\"Some inputs do not have OOB scores. \"\n",
      "/home/ankish/anaconda3/lib/python3.6/site-packages/sklearn/ensemble/forest.py:463: RuntimeWarning: invalid value encountered in true_divide\n",
      "  predictions[k].sum(axis=1)[:, np.newaxis])\n",
      "[Parallel(n_jobs=4)]: Using backend ThreadingBackend with 4 concurrent workers.\n",
      "[Parallel(n_jobs=4)]: Done  20 out of  20 | elapsed:    0.1s finished\n"
     ]
    },
    {
     "name": "stdout",
     "output_type": "stream",
     "text": [
      "CV score: 0.59874 \n"
     ]
    },
    {
     "ename": "MemoryError",
     "evalue": "",
     "output_type": "error",
     "traceback": [
      "\u001b[0;31m----------------------------------------------------------------------\u001b[0m",
      "\u001b[0;31mMemoryError\u001b[0m                          Traceback (most recent call last)",
      "\u001b[0;32m<ipython-input-138-45a1082c7cc8>\u001b[0m in \u001b[0;36m<module>\u001b[0;34m\u001b[0m\n\u001b[1;32m     23\u001b[0m             \u001b[0mimp\u001b[0m\u001b[0;34m[\u001b[0m\u001b[0;34m'position'\u001b[0m\u001b[0;34m]\u001b[0m \u001b[0;34m=\u001b[0m \u001b[0mnp\u001b[0m\u001b[0;34m.\u001b[0m\u001b[0marange\u001b[0m\u001b[0;34m(\u001b[0m\u001b[0mimp\u001b[0m\u001b[0;34m.\u001b[0m\u001b[0mshape\u001b[0m\u001b[0;34m[\u001b[0m\u001b[0;36m0\u001b[0m\u001b[0;34m]\u001b[0m\u001b[0;34m)\u001b[0m\u001b[0;34m+\u001b[0m\u001b[0;36m1\u001b[0m\u001b[0;34m\u001b[0m\u001b[0;34m\u001b[0m\u001b[0m\n\u001b[1;32m     24\u001b[0m             \u001b[0mimp\u001b[0m\u001b[0;34m[\u001b[0m\u001b[0;34m'position'\u001b[0m\u001b[0;34m]\u001b[0m \u001b[0;34m=\u001b[0m \u001b[0mimp\u001b[0m\u001b[0;34m.\u001b[0m\u001b[0mapply\u001b[0m\u001b[0;34m(\u001b[0m\u001b[0;32mlambda\u001b[0m \u001b[0mx\u001b[0m\u001b[0;34m:\u001b[0m \u001b[0mx\u001b[0m\u001b[0;34m[\u001b[0m\u001b[0;36m2\u001b[0m\u001b[0;34m]\u001b[0m \u001b[0;32mif\u001b[0m \u001b[0msplit_it\u001b[0m\u001b[0;34m(\u001b[0m\u001b[0mx\u001b[0m\u001b[0;34m[\u001b[0m\u001b[0;36m0\u001b[0m\u001b[0;34m]\u001b[0m\u001b[0;34m)\u001b[0m \u001b[0;32melse\u001b[0m \u001b[0;36m0\u001b[0m\u001b[0;34m,\u001b[0m \u001b[0maxis\u001b[0m\u001b[0;34m=\u001b[0m\u001b[0;36m1\u001b[0m\u001b[0;34m)\u001b[0m\u001b[0;34m\u001b[0m\u001b[0;34m\u001b[0m\u001b[0m\n\u001b[0;32m---> 25\u001b[0;31m             \u001b[0mfeature_df\u001b[0m \u001b[0;34m=\u001b[0m \u001b[0mfeature_df\u001b[0m\u001b[0;34m[\u001b[0m\u001b[0mimp\u001b[0m\u001b[0;34m[\u001b[0m\u001b[0mimp\u001b[0m\u001b[0;34m.\u001b[0m\u001b[0mposition\u001b[0m \u001b[0;34m!=\u001b[0m \u001b[0;36m0\u001b[0m\u001b[0;34m]\u001b[0m\u001b[0;34m.\u001b[0m\u001b[0mfeature\u001b[0m\u001b[0;34m.\u001b[0m\u001b[0mvalues\u001b[0m\u001b[0;34m]\u001b[0m\u001b[0;34m\u001b[0m\u001b[0;34m\u001b[0m\u001b[0m\n\u001b[0m\u001b[1;32m     26\u001b[0m \u001b[0;34m\u001b[0m\u001b[0m\n\u001b[1;32m     27\u001b[0m             \u001b[0mrf_scores\u001b[0m\u001b[0;34m.\u001b[0m\u001b[0mappend\u001b[0m\u001b[0;34m(\u001b[0m\u001b[0mscore\u001b[0m\u001b[0;34m)\u001b[0m\u001b[0;34m\u001b[0m\u001b[0;34m\u001b[0m\u001b[0m\n",
      "\u001b[0;32m~/anaconda3/lib/python3.6/site-packages/pandas/core/frame.py\u001b[0m in \u001b[0;36m__getitem__\u001b[0;34m(self, key)\u001b[0m\n\u001b[1;32m   2680\u001b[0m         \u001b[0;32mif\u001b[0m \u001b[0misinstance\u001b[0m\u001b[0;34m(\u001b[0m\u001b[0mkey\u001b[0m\u001b[0;34m,\u001b[0m \u001b[0;34m(\u001b[0m\u001b[0mSeries\u001b[0m\u001b[0;34m,\u001b[0m \u001b[0mnp\u001b[0m\u001b[0;34m.\u001b[0m\u001b[0mndarray\u001b[0m\u001b[0;34m,\u001b[0m \u001b[0mIndex\u001b[0m\u001b[0;34m,\u001b[0m \u001b[0mlist\u001b[0m\u001b[0;34m)\u001b[0m\u001b[0;34m)\u001b[0m\u001b[0;34m:\u001b[0m\u001b[0;34m\u001b[0m\u001b[0;34m\u001b[0m\u001b[0m\n\u001b[1;32m   2681\u001b[0m             \u001b[0;31m# either boolean or fancy integer index\u001b[0m\u001b[0;34m\u001b[0m\u001b[0;34m\u001b[0m\u001b[0;34m\u001b[0m\u001b[0m\n\u001b[0;32m-> 2682\u001b[0;31m             \u001b[0;32mreturn\u001b[0m \u001b[0mself\u001b[0m\u001b[0;34m.\u001b[0m\u001b[0m_getitem_array\u001b[0m\u001b[0;34m(\u001b[0m\u001b[0mkey\u001b[0m\u001b[0;34m)\u001b[0m\u001b[0;34m\u001b[0m\u001b[0;34m\u001b[0m\u001b[0m\n\u001b[0m\u001b[1;32m   2683\u001b[0m         \u001b[0;32melif\u001b[0m \u001b[0misinstance\u001b[0m\u001b[0;34m(\u001b[0m\u001b[0mkey\u001b[0m\u001b[0;34m,\u001b[0m \u001b[0mDataFrame\u001b[0m\u001b[0;34m)\u001b[0m\u001b[0;34m:\u001b[0m\u001b[0;34m\u001b[0m\u001b[0;34m\u001b[0m\u001b[0m\n\u001b[1;32m   2684\u001b[0m             \u001b[0;32mreturn\u001b[0m \u001b[0mself\u001b[0m\u001b[0;34m.\u001b[0m\u001b[0m_getitem_frame\u001b[0m\u001b[0;34m(\u001b[0m\u001b[0mkey\u001b[0m\u001b[0;34m)\u001b[0m\u001b[0;34m\u001b[0m\u001b[0;34m\u001b[0m\u001b[0m\n",
      "\u001b[0;32m~/anaconda3/lib/python3.6/site-packages/pandas/core/frame.py\u001b[0m in \u001b[0;36m_getitem_array\u001b[0;34m(self, key)\u001b[0m\n\u001b[1;32m   2725\u001b[0m         \u001b[0;32melse\u001b[0m\u001b[0;34m:\u001b[0m\u001b[0;34m\u001b[0m\u001b[0;34m\u001b[0m\u001b[0m\n\u001b[1;32m   2726\u001b[0m             \u001b[0mindexer\u001b[0m \u001b[0;34m=\u001b[0m \u001b[0mself\u001b[0m\u001b[0;34m.\u001b[0m\u001b[0mloc\u001b[0m\u001b[0;34m.\u001b[0m\u001b[0m_convert_to_indexer\u001b[0m\u001b[0;34m(\u001b[0m\u001b[0mkey\u001b[0m\u001b[0;34m,\u001b[0m \u001b[0maxis\u001b[0m\u001b[0;34m=\u001b[0m\u001b[0;36m1\u001b[0m\u001b[0;34m)\u001b[0m\u001b[0;34m\u001b[0m\u001b[0;34m\u001b[0m\u001b[0m\n\u001b[0;32m-> 2727\u001b[0;31m             \u001b[0;32mreturn\u001b[0m \u001b[0mself\u001b[0m\u001b[0;34m.\u001b[0m\u001b[0m_take\u001b[0m\u001b[0;34m(\u001b[0m\u001b[0mindexer\u001b[0m\u001b[0;34m,\u001b[0m \u001b[0maxis\u001b[0m\u001b[0;34m=\u001b[0m\u001b[0;36m1\u001b[0m\u001b[0;34m)\u001b[0m\u001b[0;34m\u001b[0m\u001b[0;34m\u001b[0m\u001b[0m\n\u001b[0m\u001b[1;32m   2728\u001b[0m \u001b[0;34m\u001b[0m\u001b[0m\n\u001b[1;32m   2729\u001b[0m     \u001b[0;32mdef\u001b[0m \u001b[0m_getitem_multilevel\u001b[0m\u001b[0;34m(\u001b[0m\u001b[0mself\u001b[0m\u001b[0;34m,\u001b[0m \u001b[0mkey\u001b[0m\u001b[0;34m)\u001b[0m\u001b[0;34m:\u001b[0m\u001b[0;34m\u001b[0m\u001b[0;34m\u001b[0m\u001b[0m\n",
      "\u001b[0;32m~/anaconda3/lib/python3.6/site-packages/pandas/core/generic.py\u001b[0m in \u001b[0;36m_take\u001b[0;34m(self, indices, axis, is_copy)\u001b[0m\n\u001b[1;32m   2783\u001b[0m     \u001b[0;34m@\u001b[0m\u001b[0mAppender\u001b[0m\u001b[0;34m(\u001b[0m\u001b[0m_shared_docs\u001b[0m\u001b[0;34m[\u001b[0m\u001b[0;34m'_take'\u001b[0m\u001b[0;34m]\u001b[0m\u001b[0;34m)\u001b[0m\u001b[0;34m\u001b[0m\u001b[0;34m\u001b[0m\u001b[0m\n\u001b[1;32m   2784\u001b[0m     \u001b[0;32mdef\u001b[0m \u001b[0m_take\u001b[0m\u001b[0;34m(\u001b[0m\u001b[0mself\u001b[0m\u001b[0;34m,\u001b[0m \u001b[0mindices\u001b[0m\u001b[0;34m,\u001b[0m \u001b[0maxis\u001b[0m\u001b[0;34m=\u001b[0m\u001b[0;36m0\u001b[0m\u001b[0;34m,\u001b[0m \u001b[0mis_copy\u001b[0m\u001b[0;34m=\u001b[0m\u001b[0;32mTrue\u001b[0m\u001b[0;34m)\u001b[0m\u001b[0;34m:\u001b[0m\u001b[0;34m\u001b[0m\u001b[0;34m\u001b[0m\u001b[0m\n\u001b[0;32m-> 2785\u001b[0;31m         \u001b[0mself\u001b[0m\u001b[0;34m.\u001b[0m\u001b[0m_consolidate_inplace\u001b[0m\u001b[0;34m(\u001b[0m\u001b[0;34m)\u001b[0m\u001b[0;34m\u001b[0m\u001b[0;34m\u001b[0m\u001b[0m\n\u001b[0m\u001b[1;32m   2786\u001b[0m \u001b[0;34m\u001b[0m\u001b[0m\n\u001b[1;32m   2787\u001b[0m         new_data = self._data.take(indices,\n",
      "\u001b[0;32m~/anaconda3/lib/python3.6/site-packages/pandas/core/generic.py\u001b[0m in \u001b[0;36m_consolidate_inplace\u001b[0;34m(self)\u001b[0m\n\u001b[1;32m   4437\u001b[0m             \u001b[0mself\u001b[0m\u001b[0;34m.\u001b[0m\u001b[0m_data\u001b[0m \u001b[0;34m=\u001b[0m \u001b[0mself\u001b[0m\u001b[0;34m.\u001b[0m\u001b[0m_data\u001b[0m\u001b[0;34m.\u001b[0m\u001b[0mconsolidate\u001b[0m\u001b[0;34m(\u001b[0m\u001b[0;34m)\u001b[0m\u001b[0;34m\u001b[0m\u001b[0;34m\u001b[0m\u001b[0m\n\u001b[1;32m   4438\u001b[0m \u001b[0;34m\u001b[0m\u001b[0m\n\u001b[0;32m-> 4439\u001b[0;31m         \u001b[0mself\u001b[0m\u001b[0;34m.\u001b[0m\u001b[0m_protect_consolidate\u001b[0m\u001b[0;34m(\u001b[0m\u001b[0mf\u001b[0m\u001b[0;34m)\u001b[0m\u001b[0;34m\u001b[0m\u001b[0;34m\u001b[0m\u001b[0m\n\u001b[0m\u001b[1;32m   4440\u001b[0m \u001b[0;34m\u001b[0m\u001b[0m\n\u001b[1;32m   4441\u001b[0m     \u001b[0;32mdef\u001b[0m \u001b[0m_consolidate\u001b[0m\u001b[0;34m(\u001b[0m\u001b[0mself\u001b[0m\u001b[0;34m,\u001b[0m \u001b[0minplace\u001b[0m\u001b[0;34m=\u001b[0m\u001b[0;32mFalse\u001b[0m\u001b[0;34m)\u001b[0m\u001b[0;34m:\u001b[0m\u001b[0;34m\u001b[0m\u001b[0;34m\u001b[0m\u001b[0m\n",
      "\u001b[0;32m~/anaconda3/lib/python3.6/site-packages/pandas/core/generic.py\u001b[0m in \u001b[0;36m_protect_consolidate\u001b[0;34m(self, f)\u001b[0m\n\u001b[1;32m   4426\u001b[0m         \"\"\"\n\u001b[1;32m   4427\u001b[0m         \u001b[0mblocks_before\u001b[0m \u001b[0;34m=\u001b[0m \u001b[0mlen\u001b[0m\u001b[0;34m(\u001b[0m\u001b[0mself\u001b[0m\u001b[0;34m.\u001b[0m\u001b[0m_data\u001b[0m\u001b[0;34m.\u001b[0m\u001b[0mblocks\u001b[0m\u001b[0;34m)\u001b[0m\u001b[0;34m\u001b[0m\u001b[0;34m\u001b[0m\u001b[0m\n\u001b[0;32m-> 4428\u001b[0;31m         \u001b[0mresult\u001b[0m \u001b[0;34m=\u001b[0m \u001b[0mf\u001b[0m\u001b[0;34m(\u001b[0m\u001b[0;34m)\u001b[0m\u001b[0;34m\u001b[0m\u001b[0;34m\u001b[0m\u001b[0m\n\u001b[0m\u001b[1;32m   4429\u001b[0m         \u001b[0;32mif\u001b[0m \u001b[0mlen\u001b[0m\u001b[0;34m(\u001b[0m\u001b[0mself\u001b[0m\u001b[0;34m.\u001b[0m\u001b[0m_data\u001b[0m\u001b[0;34m.\u001b[0m\u001b[0mblocks\u001b[0m\u001b[0;34m)\u001b[0m \u001b[0;34m!=\u001b[0m \u001b[0mblocks_before\u001b[0m\u001b[0;34m:\u001b[0m\u001b[0;34m\u001b[0m\u001b[0;34m\u001b[0m\u001b[0m\n\u001b[1;32m   4430\u001b[0m             \u001b[0mself\u001b[0m\u001b[0;34m.\u001b[0m\u001b[0m_clear_item_cache\u001b[0m\u001b[0;34m(\u001b[0m\u001b[0;34m)\u001b[0m\u001b[0;34m\u001b[0m\u001b[0;34m\u001b[0m\u001b[0m\n",
      "\u001b[0;32m~/anaconda3/lib/python3.6/site-packages/pandas/core/generic.py\u001b[0m in \u001b[0;36mf\u001b[0;34m()\u001b[0m\n\u001b[1;32m   4435\u001b[0m \u001b[0;34m\u001b[0m\u001b[0m\n\u001b[1;32m   4436\u001b[0m         \u001b[0;32mdef\u001b[0m \u001b[0mf\u001b[0m\u001b[0;34m(\u001b[0m\u001b[0;34m)\u001b[0m\u001b[0;34m:\u001b[0m\u001b[0;34m\u001b[0m\u001b[0;34m\u001b[0m\u001b[0m\n\u001b[0;32m-> 4437\u001b[0;31m             \u001b[0mself\u001b[0m\u001b[0;34m.\u001b[0m\u001b[0m_data\u001b[0m \u001b[0;34m=\u001b[0m \u001b[0mself\u001b[0m\u001b[0;34m.\u001b[0m\u001b[0m_data\u001b[0m\u001b[0;34m.\u001b[0m\u001b[0mconsolidate\u001b[0m\u001b[0;34m(\u001b[0m\u001b[0;34m)\u001b[0m\u001b[0;34m\u001b[0m\u001b[0;34m\u001b[0m\u001b[0m\n\u001b[0m\u001b[1;32m   4438\u001b[0m \u001b[0;34m\u001b[0m\u001b[0m\n\u001b[1;32m   4439\u001b[0m         \u001b[0mself\u001b[0m\u001b[0;34m.\u001b[0m\u001b[0m_protect_consolidate\u001b[0m\u001b[0;34m(\u001b[0m\u001b[0mf\u001b[0m\u001b[0;34m)\u001b[0m\u001b[0;34m\u001b[0m\u001b[0;34m\u001b[0m\u001b[0m\n",
      "\u001b[0;32m~/anaconda3/lib/python3.6/site-packages/pandas/core/internals.py\u001b[0m in \u001b[0;36mconsolidate\u001b[0;34m(self)\u001b[0m\n\u001b[1;32m   4096\u001b[0m         \u001b[0mbm\u001b[0m \u001b[0;34m=\u001b[0m \u001b[0mself\u001b[0m\u001b[0;34m.\u001b[0m\u001b[0m__class__\u001b[0m\u001b[0;34m(\u001b[0m\u001b[0mself\u001b[0m\u001b[0;34m.\u001b[0m\u001b[0mblocks\u001b[0m\u001b[0;34m,\u001b[0m \u001b[0mself\u001b[0m\u001b[0;34m.\u001b[0m\u001b[0maxes\u001b[0m\u001b[0;34m)\u001b[0m\u001b[0;34m\u001b[0m\u001b[0;34m\u001b[0m\u001b[0m\n\u001b[1;32m   4097\u001b[0m         \u001b[0mbm\u001b[0m\u001b[0;34m.\u001b[0m\u001b[0m_is_consolidated\u001b[0m \u001b[0;34m=\u001b[0m \u001b[0;32mFalse\u001b[0m\u001b[0;34m\u001b[0m\u001b[0;34m\u001b[0m\u001b[0m\n\u001b[0;32m-> 4098\u001b[0;31m         \u001b[0mbm\u001b[0m\u001b[0;34m.\u001b[0m\u001b[0m_consolidate_inplace\u001b[0m\u001b[0;34m(\u001b[0m\u001b[0;34m)\u001b[0m\u001b[0;34m\u001b[0m\u001b[0;34m\u001b[0m\u001b[0m\n\u001b[0m\u001b[1;32m   4099\u001b[0m         \u001b[0;32mreturn\u001b[0m \u001b[0mbm\u001b[0m\u001b[0;34m\u001b[0m\u001b[0;34m\u001b[0m\u001b[0m\n\u001b[1;32m   4100\u001b[0m \u001b[0;34m\u001b[0m\u001b[0m\n",
      "\u001b[0;32m~/anaconda3/lib/python3.6/site-packages/pandas/core/internals.py\u001b[0m in \u001b[0;36m_consolidate_inplace\u001b[0;34m(self)\u001b[0m\n\u001b[1;32m   4101\u001b[0m     \u001b[0;32mdef\u001b[0m \u001b[0m_consolidate_inplace\u001b[0m\u001b[0;34m(\u001b[0m\u001b[0mself\u001b[0m\u001b[0;34m)\u001b[0m\u001b[0;34m:\u001b[0m\u001b[0;34m\u001b[0m\u001b[0;34m\u001b[0m\u001b[0m\n\u001b[1;32m   4102\u001b[0m         \u001b[0;32mif\u001b[0m \u001b[0;32mnot\u001b[0m \u001b[0mself\u001b[0m\u001b[0;34m.\u001b[0m\u001b[0mis_consolidated\u001b[0m\u001b[0;34m(\u001b[0m\u001b[0;34m)\u001b[0m\u001b[0;34m:\u001b[0m\u001b[0;34m\u001b[0m\u001b[0;34m\u001b[0m\u001b[0m\n\u001b[0;32m-> 4103\u001b[0;31m             \u001b[0mself\u001b[0m\u001b[0;34m.\u001b[0m\u001b[0mblocks\u001b[0m \u001b[0;34m=\u001b[0m \u001b[0mtuple\u001b[0m\u001b[0;34m(\u001b[0m\u001b[0m_consolidate\u001b[0m\u001b[0;34m(\u001b[0m\u001b[0mself\u001b[0m\u001b[0;34m.\u001b[0m\u001b[0mblocks\u001b[0m\u001b[0;34m)\u001b[0m\u001b[0;34m)\u001b[0m\u001b[0;34m\u001b[0m\u001b[0;34m\u001b[0m\u001b[0m\n\u001b[0m\u001b[1;32m   4104\u001b[0m             \u001b[0mself\u001b[0m\u001b[0;34m.\u001b[0m\u001b[0m_is_consolidated\u001b[0m \u001b[0;34m=\u001b[0m \u001b[0;32mTrue\u001b[0m\u001b[0;34m\u001b[0m\u001b[0;34m\u001b[0m\u001b[0m\n\u001b[1;32m   4105\u001b[0m             \u001b[0mself\u001b[0m\u001b[0;34m.\u001b[0m\u001b[0m_known_consolidated\u001b[0m \u001b[0;34m=\u001b[0m \u001b[0;32mTrue\u001b[0m\u001b[0;34m\u001b[0m\u001b[0;34m\u001b[0m\u001b[0m\n",
      "\u001b[0;32m~/anaconda3/lib/python3.6/site-packages/pandas/core/internals.py\u001b[0m in \u001b[0;36m_consolidate\u001b[0;34m(blocks)\u001b[0m\n\u001b[1;32m   5067\u001b[0m     \u001b[0;32mfor\u001b[0m \u001b[0;34m(\u001b[0m\u001b[0m_can_consolidate\u001b[0m\u001b[0;34m,\u001b[0m \u001b[0mdtype\u001b[0m\u001b[0;34m)\u001b[0m\u001b[0;34m,\u001b[0m \u001b[0mgroup_blocks\u001b[0m \u001b[0;32min\u001b[0m \u001b[0mgrouper\u001b[0m\u001b[0;34m:\u001b[0m\u001b[0;34m\u001b[0m\u001b[0;34m\u001b[0m\u001b[0m\n\u001b[1;32m   5068\u001b[0m         merged_blocks = _merge_blocks(list(group_blocks), dtype=dtype,\n\u001b[0;32m-> 5069\u001b[0;31m                                       _can_consolidate=_can_consolidate)\n\u001b[0m\u001b[1;32m   5070\u001b[0m         \u001b[0mnew_blocks\u001b[0m \u001b[0;34m=\u001b[0m \u001b[0m_extend_blocks\u001b[0m\u001b[0;34m(\u001b[0m\u001b[0mmerged_blocks\u001b[0m\u001b[0;34m,\u001b[0m \u001b[0mnew_blocks\u001b[0m\u001b[0;34m)\u001b[0m\u001b[0;34m\u001b[0m\u001b[0;34m\u001b[0m\u001b[0m\n\u001b[1;32m   5071\u001b[0m     \u001b[0;32mreturn\u001b[0m \u001b[0mnew_blocks\u001b[0m\u001b[0;34m\u001b[0m\u001b[0;34m\u001b[0m\u001b[0m\n",
      "\u001b[0;32m~/anaconda3/lib/python3.6/site-packages/pandas/core/internals.py\u001b[0m in \u001b[0;36m_merge_blocks\u001b[0;34m(blocks, dtype, _can_consolidate)\u001b[0m\n\u001b[1;32m   5090\u001b[0m \u001b[0;34m\u001b[0m\u001b[0m\n\u001b[1;32m   5091\u001b[0m         \u001b[0margsort\u001b[0m \u001b[0;34m=\u001b[0m \u001b[0mnp\u001b[0m\u001b[0;34m.\u001b[0m\u001b[0margsort\u001b[0m\u001b[0;34m(\u001b[0m\u001b[0mnew_mgr_locs\u001b[0m\u001b[0;34m)\u001b[0m\u001b[0;34m\u001b[0m\u001b[0;34m\u001b[0m\u001b[0m\n\u001b[0;32m-> 5092\u001b[0;31m         \u001b[0mnew_values\u001b[0m \u001b[0;34m=\u001b[0m \u001b[0mnew_values\u001b[0m\u001b[0;34m[\u001b[0m\u001b[0margsort\u001b[0m\u001b[0;34m]\u001b[0m\u001b[0;34m\u001b[0m\u001b[0;34m\u001b[0m\u001b[0m\n\u001b[0m\u001b[1;32m   5093\u001b[0m         \u001b[0mnew_mgr_locs\u001b[0m \u001b[0;34m=\u001b[0m \u001b[0mnew_mgr_locs\u001b[0m\u001b[0;34m[\u001b[0m\u001b[0margsort\u001b[0m\u001b[0;34m]\u001b[0m\u001b[0;34m\u001b[0m\u001b[0;34m\u001b[0m\u001b[0m\n\u001b[1;32m   5094\u001b[0m \u001b[0;34m\u001b[0m\u001b[0m\n",
      "\u001b[0;31mMemoryError\u001b[0m: "
     ]
    }
   ],
   "source": [
    "# from sklearn.preprocessing import StandardScaler\n",
    "# stdc = StandardScaler()\n",
    "\n",
    "# rf_scores = []\n",
    "# rf_imps = []\n",
    "# rf_clf = []\n",
    "count = 0\n",
    "for idx,inter in enumerate(list(combinations(col_to_use, 3))):\n",
    "    if idx%40 == 0:\n",
    "        if idx != 0:\n",
    "            print(idx, \"==\", end=\" \")\n",
    "            tr = pd.concat([X_train.reset_index(drop=True), \n",
    "                feature_df.iloc[:X_train.shape[0],:].reset_index(drop=True)], axis=1)\n",
    "            ts_feat = feature_df.iloc[X_train.shape[0]:X_train.shape[0]+X_valid.shape[0],:]\n",
    "            ts = pd.concat([X_valid.reset_index(drop=True), \n",
    "                            ts_feat.reset_index(drop = True)], axis=1)\n",
    "            print(tr.shape, ts.shape)\n",
    "            reduce_mem_usage_wo_print(tr)\n",
    "            reduce_mem_usage_wo_print(ts)\n",
    "            \n",
    "            score, clf, imp = run_rf(tr.fillna(0), ts.fillna(0), y_train, y_valid)\n",
    "\n",
    "            imp['position'] = np.arange(imp.shape[0])+1\n",
    "            imp['position'] = imp.apply(lambda x: x[2] if split_it(x[0]) else 0, axis=1)\n",
    "            feature_df = feature_df[imp[imp.position != 0].feature.values]\n",
    "\n",
    "            rf_scores.append(score)\n",
    "            rf_clf.append(clf)\n",
    "            rf_imps.append(imp)\n",
    "            \n",
    "            file_name = 'store_data/new_feat/int_inter_3way/num_inter_3way_'+str(idx)+'.csv'\n",
    "            feature_df.to_csv(file_name, index=None)\n",
    "            del tr, ts_feat, ts\n",
    "            gc.collect()\n",
    "            print(file_name)\n",
    "            \n",
    "        feature_df = pd.DataFrame()\n",
    "        gc.collect()\n",
    "        print(idx)\n",
    "\n",
    "    new_col_name1 = \"+\".join(inter)\n",
    "    new_col_name2 = \"-\".join(inter)\n",
    "    new_col_name3 = \"*\".join(inter)\n",
    "    new_col_name4 = \"/\".join(inter)+'_pre'\n",
    "    new_col_name5 = \"/\".join(inter)+'_post'\n",
    "    \n",
    "    feature_df[new_col_name1] = complete_df[inter[0]] + complete_df[inter[1]] + complete_df[inter[2]]\n",
    "    feature_df[new_col_name2] = complete_df[inter[0]] - complete_df[inter[1]] - complete_df[inter[2]]\n",
    "    feature_df[new_col_name3] = complete_df[inter[0]] * complete_df[inter[1]] * complete_df[inter[2]]\n",
    "    \n",
    "    \n",
    "    try:\n",
    "        feature_df[new_col_name4] = complete_df[inter[0]] / (1+complete_df[inter[1]]) / (1+complete_df[inter[2]])\n",
    "    except:\n",
    "        try:\n",
    "            feature_df[new_col_name4] = complete_df[inter[0]] / (1.1+complete_df[inter[1]]) / (1.1+complete_df[inter[2]])\n",
    "        except:\n",
    "            print(\"could not do it\")\n",
    "            pass\n",
    "        \n",
    "    try:\n",
    "        feature_df[new_col_name5] = complete_df[inter[2]] / (1+complete_df[inter[1]]) / (1+complete_df[inter[0]])\n",
    "    except:\n",
    "        try:\n",
    "            feature_df[new_col_name5] = complete_df[inter[2]] / (1.1+complete_df[inter[1]]) / (1.1+complete_df[inter[0]])\n",
    "        except:\n",
    "            print(\"could not do it\")\n",
    "            pass\n",
    "\n",
    "        \n",
    "        \n",
    "    \n",
    "    if (feature_df.shape[1]+1)%90 == 0:\n",
    "        reduce_mem_usage_wo_print(feature_df)\n",
    "        gc.collect()\n",
    "    count += 1\n",
    "file_name = 'store_data/new_feat/int_inter_3way/num_inter_3way_'+str(idx)+'.csv'\n",
    "feature_df.to_csv(file_name, index=None)\n",
    "print(idx, \"==\", end=\" \")\n",
    "print(file_name)\n",
    "\n",
    "print(count)\n",
    "\n",
    "gc.collect()"
   ]
  },
  {
   "cell_type": "code",
   "execution_count": 148,
   "metadata": {
    "scrolled": false
   },
   "outputs": [
    {
     "data": {
      "text/plain": [
       "[<matplotlib.lines.Line2D at 0x7f05f5aca5f8>]"
      ]
     },
     "execution_count": 148,
     "metadata": {},
     "output_type": "execute_result"
    },
    {
     "data": {
      "image/png": "[encoded data removed]",
      "text/plain": [
       "<Figure size 1296x360 with 1 Axes>"
      ]
     },
     "metadata": {
      "needs_background": "light"
     },
     "output_type": "display_data"
    }
   ],
   "source": [
    "plt.figure(figsize=(18,5))\n",
    "plt.plot(rf_scores,'-o')"
   ]
  },
  {
   "cell_type": "code",
   "execution_count": null,
   "metadata": {},
   "outputs": [],
   "source": []
  },
  {
   "cell_type": "code",
   "execution_count": 139,
   "metadata": {},
   "outputs": [
    {
     "name": "stdout",
     "output_type": "stream",
     "text": [
      "Sat Apr 20 10:22:01 2019\n"
     ]
    }
   ],
   "source": [
    "import time\n",
    "\n",
    "try:\n",
    "    print(time.ctime())\n",
    "except:\n",
    "    pass"
   ]
  },
  {
   "cell_type": "code",
   "execution_count": 151,
   "metadata": {},
   "outputs": [
    {
     "data": {
      "text/plain": [
       "10627"
      ]
     },
     "execution_count": 151,
     "metadata": {},
     "output_type": "execute_result"
    }
   ],
   "source": [
    "del ts, ts_feat\n",
    "gc.collect()"
   ]
  },
  {
   "cell_type": "code",
   "execution_count": 3,
   "metadata": {},
   "outputs": [
    {
     "data": {
      "text/plain": [
       "(15, 137)"
      ]
     },
     "execution_count": 3,
     "metadata": {},
     "output_type": "execute_result"
    }
   ],
   "source": [
    "import pandas as pd\n",
    "import numpy as snp\n",
    "import glob\n",
    "\n",
    "int_inter_2way = glob.glob('store_data/new_feat/int_inter_2way/*')\n",
    "int_inter_3way = glob.glob('store_data/new_feat/int_inter_3way/*')\n",
    "len(int_inter_2way), len(int_inter_3way)"
   ]
  },
  {
   "cell_type": "code",
   "execution_count": 4,
   "metadata": {},
   "outputs": [
    {
     "name": "stdout",
     "output_type": "stream",
     "text": [
      "0 == store_data/new_feat/int_inter_2way/num_inter_2way_200.csv\n",
      "1 == store_data/new_feat/int_inter_2way/num_inter_2way_440.csv\n",
      "2 == store_data/new_feat/int_inter_2way/num_inter_2way_400.csv\n",
      "3 == store_data/new_feat/int_inter_2way/num_inter_2way_520.csv\n",
      "4 == store_data/new_feat/int_inter_2way/num_inter_2way_280.csv\n",
      "5 == store_data/new_feat/int_inter_2way/num_inter_2way_594.csv\n",
      "(345546, 194) ==> (345546, 94)\n",
      "6 == store_data/new_feat/int_inter_2way/num_inter_2way_120.csv\n",
      "7 == store_data/new_feat/int_inter_2way/num_inter_2way_320.csv\n",
      "(345546, 104) ==> (345546, 4)\n",
      "8 == store_data/new_feat/int_inter_2way/num_inter_2way_560.csv\n",
      "9 == store_data/new_feat/int_inter_2way/num_inter_2way_240.csv\n",
      "10 == store_data/new_feat/int_inter_2way/num_inter_2way_360.csv\n",
      "11 == store_data/new_feat/int_inter_2way/num_inter_2way_80.csv\n",
      "12 == store_data/new_feat/int_inter_2way/num_inter_2way_40.csv\n",
      "13 == store_data/new_feat/int_inter_2way/num_inter_2way_480.csv\n",
      "14 == store_data/new_feat/int_inter_2way/num_inter_2way_160.csv\n",
      "(345546, 29) ==> (345546, 29)\n",
      "===========finish===========\n"
     ]
    }
   ],
   "source": [
    "total_feat = 0\n",
    "feature_df = pd.DataFrame()\n",
    "idx = 0\n",
    "for file_no,file in enumerate(int_inter_2way):\n",
    "    if feature_df.shape[1] > 100:\n",
    "        print(feature_df.shape, \"==>\", end=\" \")\n",
    "        file_name = 'store_data/new_feat/int_inter_2way_new/cat_inter_2way_'+str(idx)+'.csv'\n",
    "        feature_df.iloc[:,:100].to_csv(file_name, index=None)\n",
    "        feature_df = feature_df.iloc[:,100:]\n",
    "        print(feature_df.shape)\n",
    "        idx += 1\n",
    "        \n",
    "    feat = pd.read_csv(file)\n",
    "    \n",
    "#     ####### Label Encoding ########\n",
    "#     le = LabelEncoder()\n",
    "#     feat.fillna(0, inplace=True)\n",
    "#     for col in feat.columns:\n",
    "#         try:\n",
    "#             feat[col] = le.fit_transform(feat[col])\n",
    "#         except:\n",
    "#             print(file, \"==\", col)\n",
    "#     ####### Label Encoding ########\n",
    "    \n",
    "    feature_df = pd.concat([feature_df, feat], axis=1)\n",
    "    print(file_no, \"==\", file)\n",
    "    \n",
    "print(feature_df.shape, \"==>\", end=\" \")\n",
    "file_name = 'store_data/new_feat/int_inter_2way_new/cat_inter_2way_'+str(idx)+'.csv'\n",
    "feature_df.to_csv(file_name, index=None)\n",
    "print(feature_df.shape)\n",
    "print(\"===========finish===========\")"
   ]
  },
  {
   "cell_type": "code",
   "execution_count": 6,
   "metadata": {},
   "outputs": [
    {
     "name": "stdout",
     "output_type": "stream",
     "text": [
      "0 == store_data/new_feat/int_inter_3way/num_inter_3way_680.csv\n",
      "1 == store_data/new_feat/int_inter_3way/num_inter_3way_4960.csv\n",
      "2 == store_data/new_feat/int_inter_3way/num_inter_3way_4360.csv\n",
      "3 == store_data/new_feat/int_inter_3way/num_inter_3way_1640.csv\n",
      "4 == store_data/new_feat/int_inter_3way/num_inter_3way_1760.csv\n",
      "5 == store_data/new_feat/int_inter_3way/num_inter_3way_3720.csv\n",
      "6 == store_data/new_feat/int_inter_3way/num_inter_3way_1440.csv\n",
      "7 == store_data/new_feat/int_inter_3way/num_inter_3way_3000.csv\n",
      "8 == store_data/new_feat/int_inter_3way/num_inter_3way_2160.csv\n",
      "9 == store_data/new_feat/int_inter_3way/num_inter_3way_3680.csv\n",
      "=== store_data/new_feat/int_inter_3way/num_inter_3way_4760.csv ===empty file\n",
      "10 == store_data/new_feat/int_inter_3way/num_inter_3way_4760.csv\n",
      "11 == store_data/new_feat/int_inter_3way/num_inter_3way_2480.csv\n",
      "12 == store_data/new_feat/int_inter_3way/num_inter_3way_2560.csv\n",
      "13 == store_data/new_feat/int_inter_3way/num_inter_3way_3280.csv\n",
      "14 == store_data/new_feat/int_inter_3way/num_inter_3way_4440.csv\n",
      "15 == store_data/new_feat/int_inter_3way/num_inter_3way_960.csv\n",
      "16 == store_data/new_feat/int_inter_3way/num_inter_3way_5000.csv\n",
      "17 == store_data/new_feat/int_inter_3way/num_inter_3way_4120.csv\n",
      "18 == store_data/new_feat/int_inter_3way/num_inter_3way_1880.csv\n",
      "19 == store_data/new_feat/int_inter_3way/num_inter_3way_880.csv\n",
      "20 == store_data/new_feat/int_inter_3way/num_inter_3way_3480.csv\n",
      "21 == store_data/new_feat/int_inter_3way/num_inter_3way_5160.csv\n",
      "22 == store_data/new_feat/int_inter_3way/num_inter_3way_840.csv\n",
      "23 == store_data/new_feat/int_inter_3way/num_inter_3way_2880.csv\n",
      "24 == store_data/new_feat/int_inter_3way/num_inter_3way_2360.csv\n",
      "25 == store_data/new_feat/int_inter_3way/num_inter_3way_2280.csv\n",
      "26 == store_data/new_feat/int_inter_3way/num_inter_3way_2400.csv\n",
      "27 == store_data/new_feat/int_inter_3way/num_inter_3way_3960.csv\n",
      "28 == store_data/new_feat/int_inter_3way/num_inter_3way_3840.csv\n",
      "29 == store_data/new_feat/int_inter_3way/num_inter_3way_400.csv\n",
      "30 == store_data/new_feat/int_inter_3way/num_inter_3way_2720.csv\n",
      "31 == store_data/new_feat/int_inter_3way/num_inter_3way_2760.csv\n",
      "32 == store_data/new_feat/int_inter_3way/num_inter_3way_5200.csv\n",
      "33 == store_data/new_feat/int_inter_3way/num_inter_3way_2080.csv\n",
      "34 == store_data/new_feat/int_inter_3way/num_inter_3way_1000.csv\n",
      "35 == store_data/new_feat/int_inter_3way/num_inter_3way_520.csv\n",
      "36 == store_data/new_feat/int_inter_3way/num_inter_3way_3640.csv\n",
      "(345546, 104) ==> (345546, 4)\n",
      "37 == store_data/new_feat/int_inter_3way/num_inter_3way_4160.csv\n",
      "38 == store_data/new_feat/int_inter_3way/num_inter_3way_4280.csv\n",
      "39 == store_data/new_feat/int_inter_3way/num_inter_3way_3120.csv\n",
      "40 == store_data/new_feat/int_inter_3way/num_inter_3way_4520.csv\n",
      "41 == store_data/new_feat/int_inter_3way/num_inter_3way_3240.csv\n",
      "42 == store_data/new_feat/int_inter_3way/num_inter_3way_1680.csv\n",
      "43 == store_data/new_feat/int_inter_3way/num_inter_3way_5440.csv\n",
      "44 == store_data/new_feat/int_inter_3way/num_inter_3way_5120.csv\n",
      "45 == store_data/new_feat/int_inter_3way/num_inter_3way_1800.csv\n",
      "46 == store_data/new_feat/int_inter_3way/num_inter_3way_1520.csv\n",
      "47 == store_data/new_feat/int_inter_3way/num_inter_3way_3400.csv\n",
      "48 == store_data/new_feat/int_inter_3way/num_inter_3way_2680.csv\n",
      "49 == store_data/new_feat/int_inter_3way/num_inter_3way_200.csv\n",
      "50 == store_data/new_feat/int_inter_3way/num_inter_3way_4720.csv\n",
      "51 == store_data/new_feat/int_inter_3way/num_inter_3way_40.csv\n",
      "52 == store_data/new_feat/int_inter_3way/num_inter_3way_2520.csv\n",
      "53 == store_data/new_feat/int_inter_3way/num_inter_3way_2840.csv\n",
      "54 == store_data/new_feat/int_inter_3way/num_inter_3way_2320.csv\n",
      "55 == store_data/new_feat/int_inter_3way/num_inter_3way_280.csv\n",
      "56 == store_data/new_feat/int_inter_3way/num_inter_3way_1280.csv\n",
      "=== store_data/new_feat/int_inter_3way/num_inter_3way_1840.csv ===empty file\n",
      "57 == store_data/new_feat/int_inter_3way/num_inter_3way_1840.csv\n",
      "58 == store_data/new_feat/int_inter_3way/num_inter_3way_720.csv\n",
      "59 == store_data/new_feat/int_inter_3way/num_inter_3way_5360.csv\n",
      "60 == store_data/new_feat/int_inter_3way/num_inter_3way_4000.csv\n",
      "=== store_data/new_feat/int_inter_3way/num_inter_3way_2040.csv ===empty file\n",
      "61 == store_data/new_feat/int_inter_3way/num_inter_3way_2040.csv\n",
      "62 == store_data/new_feat/int_inter_3way/num_inter_3way_2200.csv\n",
      "63 == store_data/new_feat/int_inter_3way/num_inter_3way_4840.csv\n",
      "64 == store_data/new_feat/int_inter_3way/num_inter_3way_1400.csv\n",
      "65 == store_data/new_feat/int_inter_3way/num_inter_3way_240.csv\n",
      "66 == store_data/new_feat/int_inter_3way/num_inter_3way_3440.csv\n",
      "(345546, 103) ==> (345546, 3)\n",
      "67 == store_data/new_feat/int_inter_3way/num_inter_3way_2640.csv\n",
      "68 == store_data/new_feat/int_inter_3way/num_inter_3way_3560.csv\n",
      "=== store_data/new_feat/int_inter_3way/num_inter_3way_4040.csv ===empty file\n",
      "69 == store_data/new_feat/int_inter_3way/num_inter_3way_4040.csv\n",
      "70 == store_data/new_feat/int_inter_3way/num_inter_3way_2440.csv\n",
      "71 == store_data/new_feat/int_inter_3way/num_inter_3way_3520.csv\n",
      "72 == store_data/new_feat/int_inter_3way/num_inter_3way_2800.csv\n",
      "73 == store_data/new_feat/int_inter_3way/num_inter_3way_4240.csv\n",
      "74 == store_data/new_feat/int_inter_3way/num_inter_3way_4640.csv\n",
      "75 == store_data/new_feat/int_inter_3way/num_inter_3way_5080.csv\n",
      "=== store_data/new_feat/int_inter_3way/num_inter_3way_1920.csv ===empty file\n",
      "76 == store_data/new_feat/int_inter_3way/num_inter_3way_1920.csv\n",
      "=== store_data/new_feat/int_inter_3way/num_inter_3way_1040.csv ===empty file\n",
      "77 == store_data/new_feat/int_inter_3way/num_inter_3way_1040.csv\n",
      "78 == store_data/new_feat/int_inter_3way/num_inter_3way_3800.csv\n",
      "79 == store_data/new_feat/int_inter_3way/num_inter_3way_120.csv\n",
      "80 == store_data/new_feat/int_inter_3way/num_inter_3way_4320.csv\n",
      "81 == store_data/new_feat/int_inter_3way/num_inter_3way_1240.csv\n",
      "82 == store_data/new_feat/int_inter_3way/num_inter_3way_5280.csv\n",
      "83 == store_data/new_feat/int_inter_3way/num_inter_3way_560.csv\n",
      "=== store_data/new_feat/int_inter_3way/num_inter_3way_4080.csv ===empty file\n",
      "84 == store_data/new_feat/int_inter_3way/num_inter_3way_4080.csv\n",
      "=== store_data/new_feat/int_inter_3way/num_inter_3way_1560.csv ===empty file\n",
      "85 == store_data/new_feat/int_inter_3way/num_inter_3way_1560.csv\n",
      "86 == store_data/new_feat/int_inter_3way/num_inter_3way_3360.csv\n",
      "87 == store_data/new_feat/int_inter_3way/num_inter_3way_920.csv\n",
      "88 == store_data/new_feat/int_inter_3way/num_inter_3way_2240.csv\n",
      "89 == store_data/new_feat/int_inter_3way/num_inter_3way_4680.csv\n",
      "90 == store_data/new_feat/int_inter_3way/num_inter_3way_3160.csv\n",
      "91 == store_data/new_feat/int_inter_3way/num_inter_3way_4400.csv\n",
      "92 == store_data/new_feat/int_inter_3way/num_inter_3way_3200.csv\n",
      "93 == store_data/new_feat/int_inter_3way/num_inter_3way_360.csv\n",
      "94 == store_data/new_feat/int_inter_3way/num_inter_3way_4800.csv\n",
      "95 == store_data/new_feat/int_inter_3way/num_inter_3way_4560.csv\n",
      "=== store_data/new_feat/int_inter_3way/num_inter_3way_2960.csv ===empty file\n",
      "96 == store_data/new_feat/int_inter_3way/num_inter_3way_2960.csv\n",
      "97 == store_data/new_feat/int_inter_3way/num_inter_3way_800.csv\n",
      "98 == store_data/new_feat/int_inter_3way/num_inter_3way_4600.csv\n",
      "(345546, 101) ==> (345546, 1)\n",
      "99 == store_data/new_feat/int_inter_3way/num_inter_3way_4880.csv\n",
      "100 == store_data/new_feat/int_inter_3way/num_inter_3way_4480.csv\n",
      "101 == store_data/new_feat/int_inter_3way/num_inter_3way_5240.csv\n",
      "102 == store_data/new_feat/int_inter_3way/num_inter_3way_3600.csv\n",
      "103 == store_data/new_feat/int_inter_3way/num_inter_3way_2920.csv\n",
      "=== store_data/new_feat/int_inter_3way/num_inter_3way_1080.csv ===empty file\n",
      "104 == store_data/new_feat/int_inter_3way/num_inter_3way_1080.csv\n",
      "105 == store_data/new_feat/int_inter_3way/num_inter_3way_1600.csv\n",
      "106 == store_data/new_feat/int_inter_3way/num_inter_3way_4200.csv\n",
      "107 == store_data/new_feat/int_inter_3way/num_inter_3way_2120.csv\n",
      "108 == store_data/new_feat/int_inter_3way/num_inter_3way_1320.csv\n",
      "109 == store_data/new_feat/int_inter_3way/num_inter_3way_3320.csv\n",
      "=== store_data/new_feat/int_inter_3way/num_inter_3way_5040.csv ===empty file\n",
      "110 == store_data/new_feat/int_inter_3way/num_inter_3way_5040.csv\n",
      "111 == store_data/new_feat/int_inter_3way/num_inter_3way_760.csv\n"
     ]
    },
    {
     "name": "stdout",
     "output_type": "stream",
     "text": [
      "112 == store_data/new_feat/int_inter_3way/num_inter_3way_640.csv\n",
      "113 == store_data/new_feat/int_inter_3way/num_inter_3way_480.csv\n",
      "114 == store_data/new_feat/int_inter_3way/num_inter_3way_2600.csv\n",
      "115 == store_data/new_feat/int_inter_3way/num_inter_3way_3760.csv\n",
      "116 == store_data/new_feat/int_inter_3way/num_inter_3way_5320.csv\n",
      "117 == store_data/new_feat/int_inter_3way/num_inter_3way_160.csv\n",
      "118 == store_data/new_feat/int_inter_3way/num_inter_3way_80.csv\n",
      "119 == store_data/new_feat/int_inter_3way/num_inter_3way_3080.csv\n",
      "120 == store_data/new_feat/int_inter_3way/num_inter_3way_320.csv\n",
      "121 == store_data/new_feat/int_inter_3way/num_inter_3way_1160.csv\n",
      "122 == store_data/new_feat/int_inter_3way/num_inter_3way_3880.csv\n",
      "123 == store_data/new_feat/int_inter_3way/num_inter_3way_1960.csv\n",
      "(345546, 102) ==> (345546, 2)\n",
      "124 == store_data/new_feat/int_inter_3way/num_inter_3way_1120.csv\n",
      "125 == store_data/new_feat/int_inter_3way/num_inter_3way_5400.csv\n",
      "126 == store_data/new_feat/int_inter_3way/num_inter_3way_2000.csv\n",
      "127 == store_data/new_feat/int_inter_3way/num_inter_3way_3920.csv\n",
      "128 == store_data/new_feat/int_inter_3way/num_inter_3way_600.csv\n",
      "129 == store_data/new_feat/int_inter_3way/num_inter_3way_1480.csv\n",
      "130 == store_data/new_feat/int_inter_3way/num_inter_3way_1200.csv\n",
      "131 == store_data/new_feat/int_inter_3way/num_inter_3way_1360.csv\n",
      "132 == store_data/new_feat/int_inter_3way/num_inter_3way_440.csv\n",
      "133 == store_data/new_feat/int_inter_3way/num_inter_3way_5480.csv\n",
      "134 == store_data/new_feat/int_inter_3way/num_inter_3way_3040.csv\n",
      "135 == store_data/new_feat/int_inter_3way/num_inter_3way_4920.csv\n",
      "136 == store_data/new_feat/int_inter_3way/num_inter_3way_1720.csv\n",
      "(345546, 45) ==> (345546, 45)\n",
      "===========finish===========\n"
     ]
    }
   ],
   "source": [
    "total_feat = 0\n",
    "feature_df = pd.DataFrame()\n",
    "idx = 0\n",
    "for file_no,file in enumerate(int_inter_3way):\n",
    "    if feature_df.shape[1] > 100:\n",
    "        print(feature_df.shape, \"==>\", end=\" \")\n",
    "        file_name = 'store_data/new_feat/int_inter_3way_new/cat_inter_3way_'+str(idx)+'.csv'\n",
    "        feature_df.iloc[:,:100].to_csv(file_name, index=None)\n",
    "        feature_df = feature_df.iloc[:,100:]\n",
    "        print(feature_df.shape)\n",
    "        idx += 1\n",
    "        \n",
    "    try:\n",
    "        feat = pd.read_csv(file)\n",
    "    except:\n",
    "        print(\"===\",file,\"===empty file\")\n",
    "        pass\n",
    "#     ####### Label Encoding ########\n",
    "#     le = LabelEncoder()\n",
    "#     feat.fillna(0, inplace=True)\n",
    "#     for col in feat.columns:\n",
    "#         try:\n",
    "#             feat[col] = le.fit_transform(feat[col])\n",
    "#         except:\n",
    "#             print(file, \"==\", col)\n",
    "#     ####### Label Encoding ########\n",
    "    \n",
    "    feature_df = pd.concat([feature_df, feat], axis=1)\n",
    "    print(file_no, \"==\", file)\n",
    "    \n",
    "print(feature_df.shape, \"==>\", end=\" \")\n",
    "file_name = 'store_data/new_feat/int_inter_3way_new/cat_inter_3way_'+str(idx)+'.csv'\n",
    "feature_df.to_csv(file_name, index=None)\n",
    "print(feature_df.shape)\n",
    "print(\"===========finish===========\")"
   ]
  },
  {
   "cell_type": "code",
   "execution_count": 136,
   "metadata": {},
   "outputs": [
    {
     "name": "stdout",
     "output_type": "stream",
     "text": [
      "0\n",
      "16 == store_data/new_feat/num_inter_3way_16.csv\n",
      "16\n",
      "32 == store_data/new_feat/num_inter_3way_32.csv\n",
      "32\n",
      "48 == store_data/new_feat/num_inter_3way_48.csv\n",
      "48\n",
      "64 == store_data/new_feat/num_inter_3way_64.csv\n",
      "64\n",
      "80 == store_data/new_feat/num_inter_3way_80.csv\n",
      "80\n",
      "96 == store_data/new_feat/num_inter_3way_96.csv\n",
      "96\n",
      "112 == store_data/new_feat/num_inter_3way_112.csv\n",
      "112\n",
      "128 == store_data/new_feat/num_inter_3way_128.csv\n",
      "128\n",
      "144 == store_data/new_feat/num_inter_3way_144.csv\n",
      "144\n",
      "160 == store_data/new_feat/num_inter_3way_160.csv\n",
      "160\n",
      "176 == store_data/new_feat/num_inter_3way_176.csv\n",
      "176\n",
      "192 == store_data/new_feat/num_inter_3way_192.csv\n",
      "192\n",
      "208 == store_data/new_feat/num_inter_3way_208.csv\n",
      "208\n",
      "224 == store_data/new_feat/num_inter_3way_224.csv\n",
      "224\n",
      "240 == store_data/new_feat/num_inter_3way_240.csv\n",
      "240\n",
      "256 == store_data/new_feat/num_inter_3way_256.csv\n",
      "256\n",
      "272 == store_data/new_feat/num_inter_3way_272.csv\n",
      "272\n",
      "285 == store_data/new_feat/num_inter_3way_285.csv\n",
      "286\n"
     ]
    }
   ],
   "source": [
    "# count = 0\n",
    "# for idx,inter in enumerate(list(combinations(int_cols_new, 3))):\n",
    "#     if idx%16 == 0:\n",
    "#         if idx != 0:\n",
    "#             print(idx, \"==\", end=\" \")\n",
    "#             file_name = 'store_data/new_feat/num_inter_3way_'+str(idx)+'.csv'\n",
    "#             feature_df.to_csv(file_name, index=None)\n",
    "#             print(file_name)\n",
    "#         feature_df = pd.DataFrame()\n",
    "#         gc.collect()\n",
    "#         print(idx)\n",
    "#     new_col_name1 = \"+\".join(inter)\n",
    "#     new_col_name2 = \"-\".join(inter)\n",
    "#     new_col_name3 = \"*\".join(inter)\n",
    "#     new_col_name4 = \"/\".join(inter)+'_pre'\n",
    "#     new_col_name5 = \"/\".join(inter)+'_post'\n",
    "    \n",
    "#     feature_df[new_col_name1] = complete_df[inter[0]] + complete_df[inter[1]] + complete_df[inter[2]]\n",
    "#     feature_df[new_col_name2] = complete_df[inter[0]] - complete_df[inter[1]] - complete_df[inter[2]]\n",
    "#     feature_df[new_col_name3] = complete_df[inter[0]] * complete_df[inter[1]] * complete_df[inter[2]]\n",
    "#     feature_df[new_col_name4] = complete_df[inter[0]] / (1+complete_df[inter[1]]) / (1+complete_df[inter[2]])\n",
    "#     feature_df[new_col_name5] = complete_df[inter[2]] / (1+complete_df[inter[1]]) / (1+complete_df[inter[0]])\n",
    "    \n",
    "#     count += 1\n",
    "# file_name = 'store_data/new_feat/num_inter_3way_'+str(idx)+'.csv'\n",
    "# print(idx, \"==\", end=\" \")\n",
    "# print(file_name)\n",
    "\n",
    "# print(count)\n",
    "\n"
   ]
  },
  {
   "cell_type": "code",
   "execution_count": null,
   "metadata": {},
   "outputs": [],
   "source": []
  },
  {
   "cell_type": "code",
   "execution_count": 49,
   "metadata": {},
   "outputs": [
    {
     "data": {
      "text/plain": [
       "[('a', 'b'), ('a', 'c'), ('b', 'c')]"
      ]
     },
     "execution_count": 49,
     "metadata": {},
     "output_type": "execute_result"
    }
   ],
   "source": [
    "list(combinations(['a','b','c'], 2))"
   ]
  },
  {
   "cell_type": "code",
   "execution_count": null,
   "metadata": {},
   "outputs": [
    {
     "name": "stdout",
     "output_type": "stream",
     "text": [
      "len of interst cols:  36\n",
      "(224607, 46) ==> "
     ]
    }
   ],
   "source": [
    "print(\"len of interst cols: \", len(intersting_cols))\n",
    "\n",
    "print(train_df.shape, \"==>\", end=\" \")\n",
    "for i in range(len(intersting_cols)-1):\n",
    "    col1 = intersting_cols[i]\n",
    "    for j in range(i+1,len(intersting_cols)):\n",
    "        col2 = intersting_cols[j]\n",
    "        train_df[col1+':'+col2] = train_df[col1]+':'+train_df[col2]\n",
    "        test_df[col1+':'+col2]  = test_df[col1]+':'+test_df[col2]\n",
    "        \n",
    "print(train_df.shape)"
   ]
  },
  {
   "cell_type": "code",
   "execution_count": 26,
   "metadata": {},
   "outputs": [
    {
     "name": "stdout",
     "output_type": "stream",
     "text": [
      "len of interst cols:  36\n",
      "(336999, 35)\n",
      "(336999, 34)\n",
      "(336999, 33)\n",
      "(336999, 32)\n",
      "(336999, 31)\n",
      "(336999, 30)\n",
      "(336999, 29)\n",
      "(336999, 28)\n",
      "(336999, 27)\n",
      "(336999, 26)\n",
      "(336999, 25)\n",
      "(336999, 24)\n",
      "(336999, 23)\n",
      "(336999, 22)\n",
      "(336999, 21)\n",
      "(336999, 20)\n",
      "(336999, 19)\n",
      "(336999, 18)\n",
      "(336999, 17)\n",
      "(336999, 16)\n",
      "(336999, 15)\n",
      "(336999, 14)\n",
      "(336999, 13)\n",
      "(336999, 12)\n",
      "(336999, 11)\n",
      "(336999, 10)\n",
      "(336999, 9)\n",
      "(336999, 8)\n",
      "(336999, 7)\n",
      "(336999, 6)\n",
      "(336999, 5)\n",
      "(336999, 4)\n",
      "(336999, 3)\n",
      "(336999, 2)\n",
      "(336999, 1)\n",
      "(224607, 46)\n"
     ]
    }
   ],
   "source": [
    "print(\"len of interst cols: \", len(intersting_cols))\n",
    "\n",
    "for i in range(len(intersting_cols)-1):\n",
    "    feature_df = pd.DataFrame()\n",
    "    col1 = intersting_cols[i]\n",
    "    for j in range(i+1,len(intersting_cols)):\n",
    "        col2 = intersting_cols[j]\n",
    "        feature_df[col1+':'+col2] = complete_df[col1]+':'+complete_df[col2]\n",
    "    \n",
    "    feature_df.to_csv('store_data/new_feat/cat_inter_2way_'+str(i)+'.csv', index=None)\n",
    "    print(feature_df.shape)\n",
    "    \n",
    "#         train_df[col1+':'+col2] = train_df[col1]+':'+train_df[col2]\n",
    "#         test_df[col1+':'+col2]  = test_df[col1]+':'+test_df[col2]\n",
    "        \n",
    "print(train_df.shape)"
   ]
  },
  {
   "cell_type": "code",
   "execution_count": null,
   "metadata": {},
   "outputs": [],
   "source": [
    "count = 0\n",
    "print(\"len of interst cols: \", len(intersting_cols))\n",
    "for i in range(len(intersting_cols)-2):\n",
    "    print(i,\"==>\", end=\" \")\n",
    "    for j in range(i+1,len(intersting_cols)-1):\n",
    "        print(j, \"==>\", end=\" \")\n",
    "        for k in range(j+1,len(intersting_cols)):\n",
    "            print(k, end=\" \")\n",
    "        \n",
    "        print(\" \")\n",
    "        count += 1\n",
    "    print(\" \")"
   ]
  },
  {
   "cell_type": "code",
   "execution_count": null,
   "metadata": {},
   "outputs": [
    {
     "name": "stdout",
     "output_type": "stream",
     "text": [
      "len of interst cols:  36\n",
      "done interaction till:  0\n",
      "done interaction till:  1\n"
     ]
    }
   ],
   "source": [
    "count = 0\n",
    "file_name_3way = []\n",
    "print(\"len of interst cols: \", len(intersting_cols))\n",
    "for i in range(len(intersting_cols)-2):\n",
    "    col1 = intersting_cols[i]\n",
    "\n",
    "    for j in range(i+1,len(intersting_cols)-1):\n",
    "        col2 = intersting_cols[j]\n",
    "\n",
    "        feature_df = pd.DataFrame()\n",
    "        for k in range(j+1,len(intersting_cols)):\n",
    "            col3 = intersting_cols[k]\n",
    "            feature_df[col1+':'+col2+':'+col3] = complete_df[col1]+':'+complete_df[col2]+':'+complete_df[col3]\n",
    "        file_name = 'store_data/new_feat/cat_inter_3way_'+str(i)+'_'+str(j)+'.csv'\n",
    "        feature_df.to_csv(file_name, index=None)\n",
    "        file_name_3way.append(file_name)\n",
    "#         print(feature_df.shape)\n",
    "    \n",
    "    print(\"done interaction till: \",i)"
   ]
  },
  {
   "cell_type": "code",
   "execution_count": null,
   "metadata": {},
   "outputs": [],
   "source": [
    "print(\"len of interst cols: \", len(intersting_cols))\n",
    "\n",
    "for i in range(len(intersting_cols)-1):\n",
    "    feature_df = pd.DataFrame()\n",
    "    col1 = intersting_cols[i]\n",
    "    for j in range(i+1,len(intersting_cols)):\n",
    "        col2 = intersting_cols[j]\n",
    "        feature_df[col1+':'+col2] = complete_df[col1]+':'+complete_df[col2]\n",
    "    \n",
    "    feature_df.to_csv('store_data/new_feat/cat_inter_2way_'+str(i)+'.csv', index=None)\n",
    "    print(feature_df.shape)\n",
    "    \n",
    "#         train_df[col1+':'+col2] = train_df[col1]+':'+train_df[col2]\n",
    "#         test_df[col1+':'+col2]  = test_df[col1]+':'+test_df[col2]\n",
    "        \n",
    "print(train_df.shape)"
   ]
  },
  {
   "cell_type": "code",
   "execution_count": 25,
   "metadata": {},
   "outputs": [
    {
     "name": "stdout",
     "output_type": "stream",
     "text": [
      "feature_df_0.csv\r\n"
     ]
    }
   ],
   "source": [
    "!ls store_data/new_feat/"
   ]
  },
  {
   "cell_type": "code",
   "execution_count": null,
   "metadata": {},
   "outputs": [],
   "source": []
  },
  {
   "cell_type": "code",
   "execution_count": null,
   "metadata": {},
   "outputs": [],
   "source": [
    "tp_save = []\n",
    "sing_values = []\n",
    "from sklearn.decomposition import TruncatedSVD\n",
    "\n",
    "columns_shuffle = np.random.permutation(pca_cat.shape[1])\n",
    "for i in range(20):\n",
    "    print(i+1)\n",
    "    select_cols = columns_shuffle[150*i:150*(i+1)]\n",
    "#     print(pca_cat.iloc[:,select_cols].shape)\n",
    "    svd = TruncatedSVD(n_components=3)\n",
    "    tp = svd.fit_transform(pca_cat.iloc[:,select_cols])\n",
    "    tp_save.append(tp)\n",
    "    sing_values.append(svd.singular_values_)\n"
   ]
  },
  {
   "cell_type": "code",
   "execution_count": null,
   "metadata": {},
   "outputs": [],
   "source": []
  },
  {
   "cell_type": "code",
   "execution_count": null,
   "metadata": {},
   "outputs": [],
   "source": []
  },
  {
   "cell_type": "code",
   "execution_count": null,
   "metadata": {},
   "outputs": [],
   "source": []
  }
 ],
 "metadata": {
  "kernelspec": {
   "display_name": "Python 3",
   "language": "python",
   "name": "python3"
  },
  "language_info": {
   "codemirror_mode": {
    "name": "ipython",
    "version": 3
   },
   "file_extension": ".py",
   "mimetype": "text/x-python",
   "name": "python",
   "nbconvert_exporter": "python",
   "pygments_lexer": "ipython3",
   "version": "3.6.7"
  }
 },
 "nbformat": 4,
 "nbformat_minor": 2
}
