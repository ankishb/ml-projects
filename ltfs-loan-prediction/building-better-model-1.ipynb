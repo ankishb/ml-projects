{
 "cells": [
  {
   "cell_type": "code",
   "execution_count": 2,
   "metadata": {},
   "outputs": [
    {
     "data": {
      "text/plain": [
       "((224607, 216), (112392, 215))"
      ]
     },
     "execution_count": 2,
     "metadata": {},
     "output_type": "execute_result"
    }
   ],
   "source": [
    "train_df = pd.read_csv('store_data/train_df_save4.csv')\n",
    "test_df  = pd.read_csv('store_data/test_df_save4.csv')\n",
    "sub      = pd.read_csv('sample_submission_24jSKY6.csv')\n",
    "info_df  = pd.read_excel('train_aox2Jxw/Data Dictionary.xlsx')\n",
    "\n",
    "train_df.shape, test_df.shape"
   ]
  },
  {
   "cell_type": "code",
   "execution_count": null,
   "metadata": {},
   "outputs": [],
   "source": []
  },
  {
   "cell_type": "code",
   "execution_count": null,
   "metadata": {},
   "outputs": [],
   "source": []
  },
  {
   "cell_type": "code",
   "execution_count": 124,
   "metadata": {},
   "outputs": [
    {
     "data": {
      "text/plain": [
       "Index(['UniqueID', 'disbursed_amount', 'asset_cost', 'ltv', 'branch_id',\n",
       "       'supplier_id', 'manufacturer_id', 'Current_pincode_ID',\n",
       "       'Employment.Type', 'State_ID',\n",
       "       ...\n",
       "       'pca_4', 'pca_5', 'tsne30_1', 'tsne30_2', 'tsne60_1', 'tsne60_2',\n",
       "       'tsne90_1', 'tsne90_2', 'tsne120_1', 'tsne120_2'],\n",
       "      dtype='object', length=216)"
      ]
     },
     "execution_count": 124,
     "metadata": {},
     "output_type": "execute_result"
    }
   ],
   "source": [
    "investigate = pd.read_csv('store_data/train_df_save4.csv')\n",
    "investigate.columns"
   ]
  },
  {
   "cell_type": "code",
   "execution_count": 125,
   "metadata": {},
   "outputs": [
    {
     "data": {
      "text/plain": [
       "['UniqueID',\n",
       " 'disbursed_amount',\n",
       " 'asset_cost',\n",
       " 'ltv',\n",
       " 'branch_id',\n",
       " 'supplier_id',\n",
       " 'manufacturer_id',\n",
       " 'Current_pincode_ID',\n",
       " 'Employment.Type',\n",
       " 'State_ID',\n",
       " 'Employee_code_ID',\n",
       " 'Aadhar_flag',\n",
       " 'PAN_flag',\n",
       " 'VoterID_flag',\n",
       " 'Driving_flag',\n",
       " 'Passport_flag',\n",
       " 'PRI.CURRENT.BALANCE',\n",
       " 'PRI.SANCTIONED.AMOUNT',\n",
       " 'PRI.DISBURSED.AMOUNT',\n",
       " 'SEC.NO.OF.ACCTS',\n",
       " 'SEC.ACTIVE.ACCTS',\n",
       " 'SEC.OVERDUE.ACCTS',\n",
       " 'SEC.CURRENT.BALANCE',\n",
       " 'SEC.SANCTIONED.AMOUNT',\n",
       " 'SEC.DISBURSED.AMOUNT',\n",
       " 'PRIMARY.INSTAL.AMT',\n",
       " 'SEC.INSTAL.AMT',\n",
       " 'NEW.ACCTS.IN.LAST.SIX.MONTHS',\n",
       " 'DELINQUENT.ACCTS.IN.LAST.SIX.MONTHS',\n",
       " 'loan_default',\n",
       " 'day_of_birth',\n",
       " 'month_of_birth',\n",
       " 'year_of_birth',\n",
       " 'credit_hist_year',\n",
       " 'credit_hist_month',\n",
       " 'loan_tenure_year',\n",
       " 'loan_tenure_month',\n",
       " 'day_of_disbursal',\n",
       " 'month_of_disbursal',\n",
       " 'Bureau_desc',\n",
       " 'bureau_score',\n",
       " 'no_of_loans',\n",
       " 'no_of_acc',\n",
       " 'no_of_acc_overdue',\n",
       " 'diff_of_acc',\n",
       " 'negative_income',\n",
       " 'income_status',\n",
       " 'credit_history',\n",
       " 'loan_tenure',\n",
       " 'age_till_disbursal',\n",
       " 'ltv_round_cat',\n",
       " 'no_of_inquiry',\n",
       " 'branch1_min',\n",
       " 'branch1_max',\n",
       " 'branch1_std',\n",
       " 'branch1_mean',\n",
       " 'branch1_sum',\n",
       " 'branch1_mad',\n",
       " 'branch1_count',\n",
       " 'branch1_get_unique',\n",
       " 'branch1_get_skew',\n",
       " 'branch2_min',\n",
       " 'branch2_max',\n",
       " 'branch2_std',\n",
       " 'branch2_mean',\n",
       " 'branch2_sum',\n",
       " 'branch2_mad',\n",
       " 'branch2_count',\n",
       " 'branch2_get_unique',\n",
       " 'branch2_get_skew',\n",
       " 'state1_min',\n",
       " 'state1_max',\n",
       " 'state1_std',\n",
       " 'state1_mean',\n",
       " 'state1_sum',\n",
       " 'state1_mad',\n",
       " 'state1_count',\n",
       " 'state1_get_unique',\n",
       " 'state1_get_skew',\n",
       " 'state2_min',\n",
       " 'state2_max',\n",
       " 'state2_std',\n",
       " 'state2_mean',\n",
       " 'state2_sum',\n",
       " 'state2_mad',\n",
       " 'state2_count',\n",
       " 'state2_get_unique',\n",
       " 'state2_get_skew',\n",
       " 'emp_code1_min',\n",
       " 'emp_code1_max',\n",
       " 'emp_code1_std',\n",
       " 'emp_code1_mean',\n",
       " 'emp_code1_sum',\n",
       " 'emp_code1_mad',\n",
       " 'emp_code1_count',\n",
       " 'emp_code1_get_unique',\n",
       " 'emp_code1_get_skew',\n",
       " 'emp_code2_min',\n",
       " 'emp_code2_max',\n",
       " 'emp_code2_std',\n",
       " 'emp_code2_mean',\n",
       " 'emp_code2_sum',\n",
       " 'emp_code2_mad',\n",
       " 'emp_code2_count',\n",
       " 'emp_code2_get_unique',\n",
       " 'emp_code2_get_skew',\n",
       " 'pincode1_min',\n",
       " 'pincode1_max',\n",
       " 'pincode1_std',\n",
       " 'pincode1_mean',\n",
       " 'pincode1_sum',\n",
       " 'pincode1_mad',\n",
       " 'pincode1_count',\n",
       " 'pincode1_get_unique',\n",
       " 'pincode1_get_skew',\n",
       " 'pincode2_min',\n",
       " 'pincode2_max',\n",
       " 'pincode2_std',\n",
       " 'pincode2_mean',\n",
       " 'pincode2_sum',\n",
       " 'pincode2_mad',\n",
       " 'pincode2_count',\n",
       " 'pincode2_get_unique',\n",
       " 'pincode2_get_skew',\n",
       " 'manufac1_min',\n",
       " 'manufac1_max',\n",
       " 'manufac1_std',\n",
       " 'manufac1_mean',\n",
       " 'manufac1_sum',\n",
       " 'manufac1_mad',\n",
       " 'manufac1_count',\n",
       " 'manufac1_get_unique',\n",
       " 'manufac1_get_skew',\n",
       " 'manufac2_min',\n",
       " 'manufac2_max',\n",
       " 'manufac2_std',\n",
       " 'manufac2_mean',\n",
       " 'manufac2_sum',\n",
       " 'manufac2_mad',\n",
       " 'manufac2_count',\n",
       " 'manufac2_get_unique',\n",
       " 'manufac2_get_skew',\n",
       " 'svd_0',\n",
       " 'svd_1',\n",
       " 'svd_2',\n",
       " 'svd_3',\n",
       " 'svd_4',\n",
       " 'svd_5',\n",
       " 'svd_6',\n",
       " 'svd_7',\n",
       " 'svd_8',\n",
       " 'svd_9',\n",
       " 'svd_10',\n",
       " 'svd_11',\n",
       " 'svd_12',\n",
       " 'svd_13',\n",
       " 'svd_14',\n",
       " 'svd_15',\n",
       " 'svd_16',\n",
       " 'svd_17',\n",
       " 'svd_18',\n",
       " 'svd_19',\n",
       " 'svd_20',\n",
       " 'svd_21',\n",
       " 'svd_22',\n",
       " 'svd_23',\n",
       " 'svd_24',\n",
       " 'svd_25',\n",
       " 'svd_26',\n",
       " 'svd_27',\n",
       " 'svd_28',\n",
       " 'svd_29',\n",
       " 'svd_30',\n",
       " 'svd_31',\n",
       " 'svd_32',\n",
       " 'svd_33',\n",
       " 'svd_34',\n",
       " 'svd_35',\n",
       " 'svd_36',\n",
       " 'svd_37',\n",
       " 'svd_38',\n",
       " 'svd_39',\n",
       " 'svd_40',\n",
       " 'svd_41',\n",
       " 'svd_42',\n",
       " 'svd_43',\n",
       " 'svd_44',\n",
       " 'svd_45',\n",
       " 'svd_46',\n",
       " 'svd_47',\n",
       " 'svd_48',\n",
       " 'svd_49',\n",
       " 'svd_50',\n",
       " 'svd_51',\n",
       " 'svd_52',\n",
       " 'svd_53',\n",
       " 'svd_54',\n",
       " 'svd_55',\n",
       " 'svd_56',\n",
       " 'svd_57',\n",
       " 'svd_58',\n",
       " 'svd_59',\n",
       " 'pca_0',\n",
       " 'pca_1',\n",
       " 'pca_2',\n",
       " 'pca_3',\n",
       " 'pca_4',\n",
       " 'pca_5',\n",
       " 'tsne30_1',\n",
       " 'tsne30_2',\n",
       " 'tsne60_1',\n",
       " 'tsne60_2',\n",
       " 'tsne90_1',\n",
       " 'tsne90_2',\n",
       " 'tsne120_1',\n",
       " 'tsne120_2']"
      ]
     },
     "execution_count": 125,
     "metadata": {},
     "output_type": "execute_result"
    }
   ],
   "source": [
    "[col for col in investigate.columns]"
   ]
  },
  {
   "cell_type": "code",
   "execution_count": null,
   "metadata": {},
   "outputs": [],
   "source": []
  },
  {
   "cell_type": "code",
   "execution_count": null,
   "metadata": {},
   "outputs": [],
   "source": []
  },
  {
   "cell_type": "code",
   "execution_count": 3,
   "metadata": {},
   "outputs": [
    {
     "data": {
      "text/plain": [
       "((224607, 16), (112392, 16))"
      ]
     },
     "execution_count": 3,
     "metadata": {},
     "output_type": "execute_result"
    }
   ],
   "source": [
    "shap_imp_cols = ['state1_mad','pincode2_mean','emp_code1_get_unique',\n",
    "    'ltv_round_cat','bureau_score','emp_code1_sum','branch2_min', 'asset_cost', 'ltv',\n",
    "    'manufac1_min','state1_mad','diff_of_acc','month_of_disbursal','day_of_disbursal',\n",
    "    'no_of_acc_overdue','pincode2_mean']\n",
    "train_df[shap_imp_cols].shape, test_df[shap_imp_cols].shape"
   ]
  },
  {
   "cell_type": "code",
   "execution_count": 4,
   "metadata": {},
   "outputs": [
    {
     "data": {
      "text/html": [
       "<div>\n",
       "<style scoped>\n",
       "    .dataframe tbody tr th:only-of-type {\n",
       "        vertical-align: middle;\n",
       "    }\n",
       "\n",
       "    .dataframe tbody tr th {\n",
       "        vertical-align: top;\n",
       "    }\n",
       "\n",
       "    .dataframe thead th {\n",
       "        text-align: right;\n",
       "    }\n",
       "</style>\n",
       "<table border=\"1\" class=\"dataframe\">\n",
       "  <thead>\n",
       "    <tr style=\"text-align: right;\">\n",
       "      <th></th>\n",
       "      <th>UniqueID</th>\n",
       "      <th>disbursed_amount</th>\n",
       "      <th>asset_cost</th>\n",
       "      <th>ltv</th>\n",
       "      <th>branch_id</th>\n",
       "      <th>supplier_id</th>\n",
       "      <th>manufacturer_id</th>\n",
       "      <th>Current_pincode_ID</th>\n",
       "      <th>Employment.Type</th>\n",
       "      <th>State_ID</th>\n",
       "      <th>...</th>\n",
       "      <th>pca_4</th>\n",
       "      <th>pca_5</th>\n",
       "      <th>tsne30_1</th>\n",
       "      <th>tsne30_2</th>\n",
       "      <th>tsne60_1</th>\n",
       "      <th>tsne60_2</th>\n",
       "      <th>tsne90_1</th>\n",
       "      <th>tsne90_2</th>\n",
       "      <th>tsne120_1</th>\n",
       "      <th>tsne120_2</th>\n",
       "    </tr>\n",
       "  </thead>\n",
       "  <tbody>\n",
       "    <tr>\n",
       "      <th>0</th>\n",
       "      <td>420825</td>\n",
       "      <td>50578</td>\n",
       "      <td>58400</td>\n",
       "      <td>89.55</td>\n",
       "      <td>67</td>\n",
       "      <td>22807</td>\n",
       "      <td>45</td>\n",
       "      <td>1441</td>\n",
       "      <td>0</td>\n",
       "      <td>6</td>\n",
       "      <td>...</td>\n",
       "      <td>1.215098</td>\n",
       "      <td>0.316675</td>\n",
       "      <td>-13.369084</td>\n",
       "      <td>-13.468479</td>\n",
       "      <td>9.756865</td>\n",
       "      <td>6.885396</td>\n",
       "      <td>-6.599228</td>\n",
       "      <td>-13.856510</td>\n",
       "      <td>12.791006</td>\n",
       "      <td>3.292685</td>\n",
       "    </tr>\n",
       "    <tr>\n",
       "      <th>1</th>\n",
       "      <td>537409</td>\n",
       "      <td>47145</td>\n",
       "      <td>65550</td>\n",
       "      <td>73.23</td>\n",
       "      <td>67</td>\n",
       "      <td>22807</td>\n",
       "      <td>45</td>\n",
       "      <td>1502</td>\n",
       "      <td>1</td>\n",
       "      <td>6</td>\n",
       "      <td>...</td>\n",
       "      <td>1.247593</td>\n",
       "      <td>-0.487597</td>\n",
       "      <td>-11.984010</td>\n",
       "      <td>-14.552938</td>\n",
       "      <td>7.462593</td>\n",
       "      <td>1.675558</td>\n",
       "      <td>-9.546783</td>\n",
       "      <td>-13.299788</td>\n",
       "      <td>9.042516</td>\n",
       "      <td>0.833470</td>\n",
       "    </tr>\n",
       "    <tr>\n",
       "      <th>2</th>\n",
       "      <td>417566</td>\n",
       "      <td>53278</td>\n",
       "      <td>61360</td>\n",
       "      <td>89.63</td>\n",
       "      <td>67</td>\n",
       "      <td>22807</td>\n",
       "      <td>45</td>\n",
       "      <td>1497</td>\n",
       "      <td>1</td>\n",
       "      <td>6</td>\n",
       "      <td>...</td>\n",
       "      <td>-0.485306</td>\n",
       "      <td>0.811246</td>\n",
       "      <td>12.665901</td>\n",
       "      <td>-12.466926</td>\n",
       "      <td>-7.298840</td>\n",
       "      <td>14.410624</td>\n",
       "      <td>12.964710</td>\n",
       "      <td>2.056213</td>\n",
       "      <td>-6.689389</td>\n",
       "      <td>-0.545910</td>\n",
       "    </tr>\n",
       "    <tr>\n",
       "      <th>3</th>\n",
       "      <td>624493</td>\n",
       "      <td>57513</td>\n",
       "      <td>66113</td>\n",
       "      <td>88.48</td>\n",
       "      <td>67</td>\n",
       "      <td>22807</td>\n",
       "      <td>45</td>\n",
       "      <td>1501</td>\n",
       "      <td>1</td>\n",
       "      <td>6</td>\n",
       "      <td>...</td>\n",
       "      <td>0.289948</td>\n",
       "      <td>-0.732252</td>\n",
       "      <td>-1.655971</td>\n",
       "      <td>-1.678139</td>\n",
       "      <td>1.791849</td>\n",
       "      <td>1.949082</td>\n",
       "      <td>-0.193142</td>\n",
       "      <td>-5.974420</td>\n",
       "      <td>2.999097</td>\n",
       "      <td>0.314507</td>\n",
       "    </tr>\n",
       "    <tr>\n",
       "      <th>4</th>\n",
       "      <td>539055</td>\n",
       "      <td>52378</td>\n",
       "      <td>60300</td>\n",
       "      <td>88.39</td>\n",
       "      <td>67</td>\n",
       "      <td>22807</td>\n",
       "      <td>45</td>\n",
       "      <td>1495</td>\n",
       "      <td>1</td>\n",
       "      <td>6</td>\n",
       "      <td>...</td>\n",
       "      <td>-0.846238</td>\n",
       "      <td>-0.384123</td>\n",
       "      <td>-0.511550</td>\n",
       "      <td>-0.447596</td>\n",
       "      <td>-6.301483</td>\n",
       "      <td>6.503486</td>\n",
       "      <td>13.990355</td>\n",
       "      <td>0.489619</td>\n",
       "      <td>-1.465677</td>\n",
       "      <td>4.505989</td>\n",
       "    </tr>\n",
       "  </tbody>\n",
       "</table>\n",
       "<p>5 rows × 216 columns</p>\n",
       "</div>"
      ],
      "text/plain": [
       "   UniqueID  disbursed_amount  asset_cost    ltv  branch_id  supplier_id  \\\n",
       "0    420825             50578       58400  89.55         67        22807   \n",
       "1    537409             47145       65550  73.23         67        22807   \n",
       "2    417566             53278       61360  89.63         67        22807   \n",
       "3    624493             57513       66113  88.48         67        22807   \n",
       "4    539055             52378       60300  88.39         67        22807   \n",
       "\n",
       "   manufacturer_id  Current_pincode_ID  Employment.Type  State_ID    ...      \\\n",
       "0               45                1441                0         6    ...       \n",
       "1               45                1502                1         6    ...       \n",
       "2               45                1497                1         6    ...       \n",
       "3               45                1501                1         6    ...       \n",
       "4               45                1495                1         6    ...       \n",
       "\n",
       "      pca_4     pca_5   tsne30_1   tsne30_2  tsne60_1   tsne60_2   tsne90_1  \\\n",
       "0  1.215098  0.316675 -13.369084 -13.468479  9.756865   6.885396  -6.599228   \n",
       "1  1.247593 -0.487597 -11.984010 -14.552938  7.462593   1.675558  -9.546783   \n",
       "2 -0.485306  0.811246  12.665901 -12.466926 -7.298840  14.410624  12.964710   \n",
       "3  0.289948 -0.732252  -1.655971  -1.678139  1.791849   1.949082  -0.193142   \n",
       "4 -0.846238 -0.384123  -0.511550  -0.447596 -6.301483   6.503486  13.990355   \n",
       "\n",
       "    tsne90_2  tsne120_1  tsne120_2  \n",
       "0 -13.856510  12.791006   3.292685  \n",
       "1 -13.299788   9.042516   0.833470  \n",
       "2   2.056213  -6.689389  -0.545910  \n",
       "3  -5.974420   2.999097   0.314507  \n",
       "4   0.489619  -1.465677   4.505989  \n",
       "\n",
       "[5 rows x 216 columns]"
      ]
     },
     "execution_count": 4,
     "metadata": {},
     "output_type": "execute_result"
    }
   ],
   "source": [
    "train_df.head()"
   ]
  },
  {
   "cell_type": "code",
   "execution_count": 5,
   "metadata": {},
   "outputs": [
    {
     "data": {
      "text/plain": [
       "((233154, 41), (112392, 40))"
      ]
     },
     "execution_count": 5,
     "metadata": {},
     "output_type": "execute_result"
    }
   ],
   "source": [
    "train_df1 = pd.read_csv('train_aox2Jxw/train.csv')\n",
    "test_df1  = pd.read_csv('test_bqCt9Pv.csv')\n",
    "train_df1.shape, test_df1.shape"
   ]
  },
  {
   "cell_type": "code",
   "execution_count": 7,
   "metadata": {},
   "outputs": [
    {
     "data": {
      "text/plain": [
       "((224607, 217), (112392, 216))"
      ]
     },
     "execution_count": 7,
     "metadata": {},
     "output_type": "execute_result"
    }
   ],
   "source": [
    "train_df = pd.merge(train_df, train_df1[['UniqueID','DisbursalDate']], on='UniqueID', how='left')\n",
    "test_df = pd.merge(test_df, test_df1[['UniqueID','DisbursalDate']], on='UniqueID', how='left')\n",
    "\n",
    "del train_df1, test_df1\n",
    "gc.collect()\n",
    "train_df.shape, test_df.shape"
   ]
  },
  {
   "cell_type": "code",
   "execution_count": 8,
   "metadata": {},
   "outputs": [],
   "source": [
    "train_df['cv_month'] = train_df.DisbursalDate.apply(lambda x: str(x).split('-')[1])\n",
    "train_df['cv_date'] = train_df.DisbursalDate.apply(lambda x: str(x).split('-')[0])\n",
    "\n",
    "test_df['cv_month'] = test_df.DisbursalDate.apply(lambda x: str(x).split('-')[1])\n",
    "test_df['cv_date'] = test_df.DisbursalDate.apply(lambda x: str(x).split('-')[0])\n"
   ]
  },
  {
   "cell_type": "code",
   "execution_count": 9,
   "metadata": {},
   "outputs": [],
   "source": [
    "train_df[['cv_month','cv_date']] = train_df[['cv_month','cv_date']].astype('int')\n",
    "test_df[['cv_month','cv_date']] = test_df[['cv_month','cv_date']].astype('int')"
   ]
  },
  {
   "cell_type": "code",
   "execution_count": null,
   "metadata": {},
   "outputs": [],
   "source": []
  },
  {
   "cell_type": "code",
   "execution_count": 69,
   "metadata": {},
   "outputs": [
    {
     "data": {
      "text/plain": [
       "0    224607\n",
       "dtype: int64"
      ]
     },
     "execution_count": 69,
     "metadata": {},
     "output_type": "execute_result"
    }
   ],
   "source": [
    "# train_df[['month_of_disbursal','cv_month']].apply(lambda x: 1 if x[0] == x[1] else 0, axis=1).value_counts()"
   ]
  },
  {
   "cell_type": "code",
   "execution_count": 10,
   "metadata": {},
   "outputs": [],
   "source": [
    "def run_cat_small(file_path, train_df, target, test_df, test_ids, sub, depth):\n",
    "    \n",
    "    splits = 4\n",
    "    from sklearn.model_selection import KFold, StratifiedKFold\n",
    "    from sklearn.metrics import roc_auc_score\n",
    "    from catboost import Pool, CatBoostClassifier\n",
    "\n",
    "    features = train_df.columns\n",
    "    random_seed = 2019\n",
    "    \n",
    "    model = CatBoostClassifier(loss_function         = \"Logloss\", \n",
    "                               eval_metric           = \"AUC\",\n",
    "                               random_strength       = 1.5,\n",
    "                               border_count          = 128,\n",
    "                               scale_pos_weight      = 3.507,\n",
    "                               depth                 = depth, \n",
    "                               early_stopping_rounds = 50,\n",
    "                               random_seed           = 1337,\n",
    "                               task_type             = 'CPU', \n",
    "    #                            subsample           = 0.7, \n",
    "                               iterations            = 10000, \n",
    "                               learning_rate         = 0.09,\n",
    "                               thread_count          = 4\n",
    "                              )\n",
    "\n",
    "\n",
    "    n_split = splits\n",
    "    \n",
    "    valid_splits = int(train_df.shape[0]/splits)\n",
    "    indexes = train_df[['cv_month','cv_date']].sort_values(\n",
    "        by=['cv_month','cv_date'])\n",
    "    \n",
    "    train_index = indexes[:-valid_splits].index\n",
    "    valid_index = indexes[-valid_splits:].index\n",
    "    \n",
    "    train_df.drop(['cv_month','cv_date'], axis=1, inplace=True)\n",
    "    test_df.drop(['cv_month','cv_date'], axis=1, inplace=True)\n",
    "    \n",
    "    y_test_pred = 0\n",
    "\n",
    "    idx = 0\n",
    "    y_train, y_valid = target.iloc[train_index], target.iloc[valid_index]\n",
    "    X_train, X_valid = train_df.iloc[train_index,:], train_df.iloc[valid_index,:]\n",
    "    _train = Pool(X_train, label=y_train)#, cat_features=cate_features_index)\n",
    "    _valid = Pool(X_valid, label=y_valid)#, cat_features=cate_features_index)\n",
    "\n",
    "    fit_model = model.fit(_train, \n",
    "                          eval_set=_valid,\n",
    "                          use_best_model=True,\n",
    "                          verbose=100\n",
    "                         )\n",
    "    pred = fit_model.predict_proba(X_valid)[:,1]\n",
    "    score = roc_auc_score(y_valid, pred)\n",
    "    print( \"  auc = \", score )\n",
    "    print(\"=\"*60)\n",
    "\n",
    "    y_test_pred = fit_model.predict_proba(test_df)[:,1]\n",
    "\n",
    "\n",
    "    sub_df = pd.DataFrame({\"ID_code\":test_ids})\n",
    "    sub_df[\"target\"] = y_test_pred\n",
    "    sub_df.columns = sub.columns\n",
    "\n",
    "\n",
    "    sub_df.to_csv('submission/catboost_{}.csv'.format(file_path), index=None)\n",
    "\n",
    "    cat_imp = pd.DataFrame(data=[fit_model.feature_names_, \n",
    "                                 list(fit_model.feature_importances_)]).T\n",
    "    cat_imp.columns = ['feature','imp']\n",
    "    cat_imp = cat_imp.sort_values(by='imp', ascending=False).head(50)\n",
    "    plt.figure(figsize=(12,15))\n",
    "    plt.barh(cat_imp.feature, cat_imp.imp)\n",
    "    plt.show()\n",
    "    \n",
    "    return score"
   ]
  },
  {
   "cell_type": "code",
   "execution_count": 11,
   "metadata": {},
   "outputs": [],
   "source": [
    "intersting_cols = ['manufacturer_id','Employment.Type','State_ID','Aadhar_flag','PAN_flag','VoterID_flag',\n",
    "'Driving_flag','Passport_flag','SEC.NO.OF.ACCTS','SEC.ACTIVE.ACCTS','SEC.OVERDUE.ACCTS',\n",
    "'SEC.INSTAL.AMT','NEW.ACCTS.IN.LAST.SIX.MONTHS','DELINQUENT.ACCTS.IN.LAST.SIX.MONTHS',\n",
    "'month_of_birth','credit_hist_year','credit_hist_month','loan_tenure_year','loan_tenure_month',\n",
    "'day_of_disbursal','month_of_disbursal','Bureau_desc','no_of_loans','no_of_acc','no_of_acc_overdue',\n",
    "'diff_of_acc','negative_income','income_status','credit_history','loan_tenure','ltv_round_cat',\n",
    "'no_of_inquiry','state1_max','state1_count','manufac1_max','manufac2_count']"
   ]
  },
  {
   "cell_type": "code",
   "execution_count": 12,
   "metadata": {},
   "outputs": [
    {
     "data": {
      "text/plain": [
       "((224607, 56), (112392, 56), (224607,))"
      ]
     },
     "execution_count": 12,
     "metadata": {},
     "output_type": "execute_result"
    }
   ],
   "source": [
    "most_imp = ['UniqueID','ltv', 'disbursed_amount', 'year_of_birth','no_of_acc_overdue','month_of_disbursal',\n",
    " 'Employee_code_ID','Current_pincode_ID','State_ID', 'day_of_disbursal','day_of_birth',\n",
    " 'NEW.ACCTS.IN.LAST.SIX.MONTHS','no_of_inquiry','PRI.SANCTIONED.AMOUNT','credit_hist_year',\n",
    " 'DELINQUENT.ACCTS.IN.LAST.SIX.MONTHS','emp_code1_sum','branch1_max','PRIMARY.INSTAL.AMT',\n",
    " 'manufacturer_id','manufac1_max', 'cv_month','cv_date']\n",
    "target = train_df.loan_default\n",
    "train_df = train_df[list(set(intersting_cols + most_imp + shap_imp_cols))]\n",
    "test_df  = test_df[list(set(intersting_cols + most_imp + shap_imp_cols))]\n",
    "train_df.shape, test_df.shape, target.shape"
   ]
  },
  {
   "cell_type": "code",
   "execution_count": 14,
   "metadata": {},
   "outputs": [],
   "source": [
    "test_ids = test_df.UniqueID"
   ]
  },
  {
   "cell_type": "code",
   "execution_count": 16,
   "metadata": {},
   "outputs": [
    {
     "name": "stdout",
     "output_type": "stream",
     "text": [
      "0:\ttest: 0.5896555\tbest: 0.5896555 (0)\ttotal: 123ms\tremaining: 20m 26s\n",
      "100:\ttest: 0.6430603\tbest: 0.6430603 (100)\ttotal: 5.58s\tremaining: 9m 7s\n",
      "200:\ttest: 0.6499370\tbest: 0.6499720 (199)\ttotal: 10.9s\tremaining: 8m 53s\n",
      "300:\ttest: 0.6532084\tbest: 0.6532084 (300)\ttotal: 16.3s\tremaining: 8m 45s\n",
      "400:\ttest: 0.6545503\tbest: 0.6545503 (400)\ttotal: 21.7s\tremaining: 8m 40s\n",
      "500:\ttest: 0.6556159\tbest: 0.6556159 (500)\ttotal: 27.1s\tremaining: 8m 33s\n",
      "600:\ttest: 0.6563087\tbest: 0.6563087 (600)\ttotal: 32.5s\tremaining: 8m 28s\n",
      "700:\ttest: 0.6564366\tbest: 0.6564426 (664)\ttotal: 38.2s\tremaining: 8m 26s\n",
      "800:\ttest: 0.6569146\tbest: 0.6569146 (800)\ttotal: 43.9s\tremaining: 8m 24s\n",
      "900:\ttest: 0.6573647\tbest: 0.6573647 (900)\ttotal: 50s\tremaining: 8m 25s\n",
      "Stopped by overfitting detector  (50 iterations wait)\n",
      "\n",
      "bestTest = 0.657596409\n",
      "bestIteration = 949\n",
      "\n",
      "Shrink model to first 950 iterations.\n",
      "  auc =  0.6575964089709115\n",
      "============================================================\n"
     ]
    },
    {
     "data": {
      "image/png": "[encoded data removed]",
      "text/plain": [
       "<Figure size 864x1080 with 1 Axes>"
      ]
     },
     "metadata": {
      "needs_background": "light"
     },
     "output_type": "display_data"
    },
    {
     "data": {
      "text/plain": [
       "0.6575964089709115"
      ]
     },
     "execution_count": 16,
     "metadata": {},
     "output_type": "execute_result"
    }
   ],
   "source": [
    "run_cat_small('tuesday_cat1', train_df.drop('UniqueID', axis=1), \n",
    "              target, test_df.drop('UniqueID', axis=1), test_ids, sub, 4)\n"
   ]
  },
  {
   "cell_type": "code",
   "execution_count": 20,
   "metadata": {},
   "outputs": [
    {
     "name": "stdout",
     "output_type": "stream",
     "text": [
      "0:\ttest: 0.5916881\tbest: 0.5916881 (0)\ttotal: 49.1ms\tremaining: 8m 10s\n",
      "100:\ttest: 0.6427668\tbest: 0.6427668 (100)\ttotal: 5.9s\tremaining: 9m 38s\n",
      "200:\ttest: 0.6502411\tbest: 0.6502411 (200)\ttotal: 11.7s\tremaining: 9m 31s\n",
      "300:\ttest: 0.6535282\tbest: 0.6535484 (295)\ttotal: 18.3s\tremaining: 9m 49s\n",
      "400:\ttest: 0.6551117\tbest: 0.6551145 (399)\ttotal: 24.5s\tremaining: 9m 46s\n",
      "500:\ttest: 0.6565435\tbest: 0.6565435 (500)\ttotal: 30.2s\tremaining: 9m 32s\n",
      "600:\ttest: 0.6571935\tbest: 0.6572131 (598)\ttotal: 35.9s\tremaining: 9m 21s\n",
      "700:\ttest: 0.6578163\tbest: 0.6578719 (689)\ttotal: 41.7s\tremaining: 9m 12s\n",
      "Stopped by overfitting detector  (50 iterations wait)\n",
      "\n",
      "bestTest = 0.6580146411\n",
      "bestIteration = 732\n",
      "\n",
      "Shrink model to first 733 iterations.\n",
      "  auc =  0.6580146411105373\n",
      "============================================================\n"
     ]
    },
    {
     "data": {
      "image/png": "[encoded data removed]",
      "text/plain": [
       "<Figure size 864x1080 with 1 Axes>"
      ]
     },
     "metadata": {
      "needs_background": "light"
     },
     "output_type": "display_data"
    },
    {
     "name": "stdout",
     "output_type": "stream",
     "text": [
      "  adding: submission/catboost_tuesday_cat11.csv (deflated 54%)\n"
     ]
    }
   ],
   "source": [
    "run_cat_small('tuesday_cat11', train_df.drop(['UniqueID','ltv'], axis=1), \n",
    "              target, test_df.drop(['UniqueID','ltv'], axis=1), test_ids, sub, 4)\n",
    "!zip submission/catboost_tuesday_cat11.zip submission/catboost_tuesday_cat11.csv"
   ]
  },
  {
   "cell_type": "code",
   "execution_count": null,
   "metadata": {},
   "outputs": [],
   "source": []
  },
  {
   "cell_type": "code",
   "execution_count": 77,
   "metadata": {},
   "outputs": [
    {
     "data": {
      "text/plain": [
       "(35, 595, 4, 17)"
      ]
     },
     "execution_count": 77,
     "metadata": {},
     "output_type": "execute_result"
    }
   ],
   "source": [
    "import glob\n",
    "cat_inter_2way = glob.glob('store_data/new_feat/cat_inter_2way/*')\n",
    "cat_inter_3way = glob.glob('store_data/new_feat/cat_inter_3way/*')\n",
    "int_inter_2way = glob.glob('store_data/new_feat/int_inter_2way/*')\n",
    "int_inter_3way = glob.glob('store_data/new_feat/int_inter_3way/*')\n",
    "\n",
    "len(cat_inter_2way), len(cat_inter_3way), len(int_inter_2way), len(int_inter_3way)"
   ]
  },
  {
   "cell_type": "code",
   "execution_count": 30,
   "metadata": {},
   "outputs": [],
   "source": [
    "cat_2way0 = pd.read_csv(cat_inter_2way[1])"
   ]
  },
  {
   "cell_type": "code",
   "execution_count": null,
   "metadata": {},
   "outputs": [],
   "source": [
    "total_feat = 0\n",
    "for file in cat_inter_2way:\n",
    "    feat = pd.read_csv(file).shape[1]\n",
    "    print(feat)\n",
    "    total_feat += feat\n",
    "print(\"total cat interaction feature 2 way: \", total_feat)"
   ]
  },
  {
   "cell_type": "code",
   "execution_count": null,
   "metadata": {},
   "outputs": [],
   "source": []
  },
  {
   "cell_type": "code",
   "execution_count": 34,
   "metadata": {},
   "outputs": [
    {
     "name": "stdout",
     "output_type": "stream",
     "text": [
      "total int interaction feature 2 way:  320\n"
     ]
    }
   ],
   "source": [
    "total_feat = 0\n",
    "for file in int_inter_2way:\n",
    "    total_feat += pd.read_csv(file).shape[1]\n",
    "print(\"total int interaction feature 2 way: \", total_feat)"
   ]
  },
  {
   "cell_type": "code",
   "execution_count": 35,
   "metadata": {},
   "outputs": [
    {
     "data": {
      "text/plain": [
       "1279"
      ]
     },
     "execution_count": 35,
     "metadata": {},
     "output_type": "execute_result"
    }
   ],
   "source": [
    "gc.collect()"
   ]
  },
  {
   "cell_type": "code",
   "execution_count": 37,
   "metadata": {},
   "outputs": [
    {
     "data": {
      "text/plain": [
       "((336999, 2), (224607, 56), (112392, 56))"
      ]
     },
     "execution_count": 37,
     "metadata": {},
     "output_type": "execute_result"
    }
   ],
   "source": [
    "cat_2way0.shape, train_df.shape, test_df.shape"
   ]
  },
  {
   "cell_type": "code",
   "execution_count": 95,
   "metadata": {},
   "outputs": [],
   "source": [
    "def reduce_mem_usage_wo_print(df):\n",
    "    \"\"\" iterate through all the columns of a dataframe and modify the data type\n",
    "        to reduce memory usage.        \n",
    "    \"\"\"\n",
    "    print(\"=\"*30)\n",
    "    start_mem = df.memory_usage().sum() / 1024**2\n",
    "    print('Memory usage of dataframe is {:.2f} MB'.format(start_mem))\n",
    "    \n",
    "    for col in df.columns:\n",
    "        col_type = df[col].dtypes\n",
    "        \n",
    "        if col_type != object:\n",
    "            c_min = df[col].min()\n",
    "            c_max = df[col].max()\n",
    "            if str(col_type)[:3] == 'int':\n",
    "                if c_min > np.iinfo(np.int8).min and c_max < np.iinfo(np.int8).max:\n",
    "                    df[col] = df[col].astype(np.int8)\n",
    "                    # print(col, \"== int8\")\n",
    "                elif c_min > np.iinfo(np.int16).min and c_max < np.iinfo(np.int16).max:\n",
    "                    df[col] = df[col].astype(np.int16)\n",
    "                    # print(col, \"== int16\")\n",
    "                elif c_min > np.iinfo(np.int32).min and c_max < np.iinfo(np.int32).max:\n",
    "                    df[col] = df[col].astype(np.int32)\n",
    "                    # print(col, \"== int32\")\n",
    "                elif c_min > np.iinfo(np.int64).min and c_max < np.iinfo(np.int64).max:\n",
    "                    df[col] = df[col].astype(np.int64)\n",
    "                    # print(col, \"== int64\")\n",
    "            else:\n",
    "                if c_min > np.finfo(np.float16).min and c_max < np.finfo(np.float16).max:\n",
    "                    df[col] = df[col].astype(np.float16)\n",
    "                    # print(col, \"== float16\")\n",
    "                elif c_min > np.finfo(np.float32).min and c_max < np.finfo(np.float32).max:\n",
    "                    df[col] = df[col].astype(np.float32)\n",
    "                    # print(col, \"== float32\")\n",
    "                else:\n",
    "                    df[col] = df[col].astype(np.float64)\n",
    "                    # print(col, \"== float64\")\n",
    "        #else: df[col] = df[col].astype('category')\n",
    "\n",
    "    end_mem = df.memory_usage().sum() / 1024**2\n",
    "    print('Memory usage after optimization is: {:.2f} MB'.format(end_mem))\n",
    "    print('Decreased by {:.1f}%'.format(100 * (start_mem - end_mem) / start_mem))\n",
    "    print(\"=\"*30)\n",
    "    return"
   ]
  },
  {
   "cell_type": "code",
   "execution_count": null,
   "metadata": {},
   "outputs": [],
   "source": []
  },
  {
   "cell_type": "code",
   "execution_count": null,
   "metadata": {},
   "outputs": [],
   "source": [
    "def run_cat_small(file_path, train_df, target, test_df, test_ids, sub, depth):\n",
    "    \n",
    "    splits = 4\n",
    "    from sklearn.model_selection import KFold, StratifiedKFold\n",
    "    from sklearn.metrics import roc_auc_score\n",
    "    from catboost import Pool, CatBoostClassifier\n",
    "\n",
    "    features = train_df.columns\n",
    "    random_seed = 2019\n",
    "    \n",
    "    model = CatBoostClassifier(loss_function         = \"Logloss\", \n",
    "                               eval_metric           = \"AUC\",\n",
    "                               random_strength       = 1.5,\n",
    "                               border_count          = 128,\n",
    "                               scale_pos_weight      = 3.507,\n",
    "                               depth                 = depth, \n",
    "                               early_stopping_rounds = 50,\n",
    "                               random_seed           = 1337,\n",
    "                               task_type             = 'CPU', \n",
    "    #                            subsample           = 0.7, \n",
    "                               iterations            = 10000, \n",
    "                               learning_rate         = 0.09,\n",
    "                               thread_count          = 4\n",
    "                              )\n",
    "\n",
    "\n",
    "    n_split = splits\n",
    "    \n",
    "    valid_splits = int(train_df.shape[0]/splits)\n",
    "    indexes = train_df[['cv_month','cv_date']].sort_values(\n",
    "        by=['cv_month','cv_date'])\n",
    "    \n",
    "    train_index = indexes[:-valid_splits].index\n",
    "    valid_index = indexes[-valid_splits:].index\n",
    "    \n",
    "    train_df.drop(['cv_month','cv_date'], axis=1, inplace=True)\n",
    "    test_df.drop(['cv_month','cv_date'], axis=1, inplace=True)\n",
    "    \n",
    "    y_test_pred = 0\n",
    "\n",
    "    idx = 0\n",
    "    y_train, y_valid = target.iloc[train_index], target.iloc[valid_index]\n",
    "    X_train, X_valid = train_df.iloc[train_index,:], train_df.iloc[valid_index,:]\n",
    "    _train = Pool(X_train, label=y_train)#, cat_features=cate_features_index)\n",
    "    _valid = Pool(X_valid, label=y_valid)#, cat_features=cate_features_index)\n",
    "\n",
    "    fit_model = model.fit(_train, \n",
    "                          eval_set=_valid,\n",
    "                          use_best_model=True,\n",
    "                          verbose=100\n",
    "                         )\n",
    "    pred = fit_model.predict_proba(X_valid)[:,1]\n",
    "    score = roc_auc_score(y_valid, pred)\n",
    "    print( \"  auc = \", score )\n",
    "    print(\"=\"*60)\n",
    "\n",
    "    y_test_pred = fit_model.predict_proba(test_df)[:,1]\n",
    "\n",
    "\n",
    "    sub_df = pd.DataFrame({\"ID_code\":test_ids})\n",
    "    sub_df[\"target\"] = y_test_pred\n",
    "    sub_df.columns = sub.columns\n",
    "\n",
    "\n",
    "    sub_df.to_csv('submission/catboost_{}.csv'.format(file_path), index=None)\n",
    "\n",
    "    cat_imp = pd.DataFrame(data=[fit_model.feature_names_, \n",
    "                                 list(fit_model.feature_importances_)]).T\n",
    "    cat_imp.columns = ['feature','imp']\n",
    "    cat_imp = cat_imp.sort_values(by='imp', ascending=False).head(50)\n",
    "    plt.figure(figsize=(12,15))\n",
    "    plt.barh(cat_imp.feature, cat_imp.imp)\n",
    "    plt.show()\n",
    "    \n",
    "    return score"
   ]
  },
  {
   "cell_type": "code",
   "execution_count": 110,
   "metadata": {},
   "outputs": [],
   "source": [
    "def run_rf(train_df, target, depth, estimators):\n",
    "# def run_rf(file_path, train_df, target, test_df, test_ids, sub, depth, estimators):\n",
    "    from sklearn.model_selection import StratifiedKFold\n",
    "    from sklearn.metrics import roc_auc_score\n",
    "    from sklearn.ensemble import RandomForestClassifier, RandomForestRegressor\n",
    "\n",
    "\n",
    "    features = train_df.columns\n",
    "\n",
    "    splits = 4\n",
    "    random_seed  = 2019\n",
    "    n_splits     = splits\n",
    "    verbose_eval = 200\n",
    "    early_stop   = 50\n",
    "    num_rounds   = 10000\n",
    "\n",
    "    valid_splits = int(train_df.shape[0]/splits)\n",
    "    indexes = train_df[['cv_month','cv_date']].sort_values(\n",
    "        by=['cv_month','cv_date'])\n",
    "    \n",
    "    train_index = indexes[:-valid_splits].index\n",
    "    valid_index = indexes[-valid_splits:].index\n",
    "    \n",
    "    train_df.drop(['cv_month','cv_date'], axis=1, inplace=True)\n",
    "#     test_df.drop(['cv_month','cv_date'], axis=1, inplace=True)\n",
    "    \n",
    "    y_train, y_valid = target.iloc[train_index], target.iloc[valid_index]\n",
    "    X_train, X_valid = train_df.iloc[train_index,:], train_df.iloc[valid_index,:] \n",
    "\n",
    "    clf = RandomForestClassifier(\n",
    "                            n_estimators = estimators, \n",
    "                            criterion = 'gini', \n",
    "                            max_depth = depth, \n",
    "                            # min_samples_split = 2, \n",
    "                            min_samples_leaf = 3, \n",
    "                            # min_weight_fraction_leaf = 0.0, \n",
    "                            max_features = 0.5, \n",
    "                            # max_leaf_nodes = None, \n",
    "                            # min_impurity_decrease = 0.0, \n",
    "#                                 bootstrap = True, \n",
    "                            oob_score = True, \n",
    "                            n_jobs = 4, \n",
    "                            random_state = 1337, \n",
    "                            verbose = 1, \n",
    "                            class_weight = 'balanced')#3.607)\n",
    "    clf.fit(X_train, y_train)\n",
    "#         valid_pred = clf.predict(X_valid)\n",
    "#         print(\"CV score: {:<8.5f}\".format(roc_auc_score(X_valid, valid_pred)))\n",
    "        \n",
    "    valid_pred = clf.predict_proba(X_valid)[:,1]\n",
    "    score = roc_auc_score(y_valid, valid_pred)\n",
    "    print(\"CV score: {:<8.5f}\".format(score))\n",
    "#         test_pred = clf.predict()\n",
    "#         oof_xgb[val_idx]   = valid_pred\n",
    "    #     predictions   += test_pred\n",
    "\n",
    "\n",
    "#     print(\"CV score: {:<8.5f}\".format(roc_auc_score(target, oof_xgb)))\n",
    "\n",
    "#     sub_df = pd.DataFrame({\"id\":test_ids})\n",
    "#     sub_df[\"target\"] = test_pred.mean(axis=1)\n",
    "#     # sub_df.target = np.where(sub_df.target>0.5,1,0)\n",
    "\n",
    "#     sub_df.columns = sub.columns\n",
    "#     sub_df.to_csv('submission/xgboost_{}.csv'.format(file_path), index=None)\n",
    "\n",
    "#     sub_df.head()\n",
    "\n",
    "    feat_name = train_df.columns\n",
    "    feat_imp  = clf.feature_importances_\n",
    "\n",
    "    rf_imp = pd.DataFrame(data=[list(feat_name), list(feat_imp)]).T\n",
    "    rf_imp.columns=['feature', 'importance']\n",
    "    rf_imp = rf_imp.sort_values(by='importance', ascending=False).head(25)\n",
    "\n",
    "    return score, clf, rf_imp"
   ]
  },
  {
   "cell_type": "code",
   "execution_count": 67,
   "metadata": {},
   "outputs": [
    {
     "name": "stderr",
     "output_type": "stream",
     "text": [
      "[Parallel(n_jobs=4)]: Using backend ThreadingBackend with 4 concurrent workers.\n",
      "[Parallel(n_jobs=4)]: Done  42 tasks      | elapsed:    5.9s\n",
      "[Parallel(n_jobs=4)]: Done 192 tasks      | elapsed:   31.1s\n",
      "[Parallel(n_jobs=4)]: Done 200 out of 200 | elapsed:   32.1s finished\n",
      "[Parallel(n_jobs=4)]: Using backend ThreadingBackend with 4 concurrent workers.\n",
      "[Parallel(n_jobs=4)]: Done  42 tasks      | elapsed:    0.1s\n"
     ]
    },
    {
     "name": "stdout",
     "output_type": "stream",
     "text": [
      "CV score: 0.62183 \n"
     ]
    },
    {
     "name": "stderr",
     "output_type": "stream",
     "text": [
      "[Parallel(n_jobs=4)]: Done 192 tasks      | elapsed:    0.3s\n",
      "[Parallel(n_jobs=4)]: Done 200 out of 200 | elapsed:    0.3s finished\n"
     ]
    }
   ],
   "source": [
    "score_rf1, rf1, rf1_imp = run_rf('tuesday_rf1', \n",
    "                      train_df.drop(['UniqueID','ltv'], axis=1).fillna(0), \n",
    "                      target, test_df.drop(['UniqueID','ltv'], axis=1).fillna(0), \n",
    "                      test_ids, sub, 5, 200)\n",
    "    \n",
    "# !zip submission/catboost_tuesday_rf1.zip submission/catboost_tuesday_rf1.csv"
   ]
  },
  {
   "cell_type": "code",
   "execution_count": 69,
   "metadata": {},
   "outputs": [
    {
     "data": {
      "text/plain": [
       "((224607, 56), (336999, 2))"
      ]
     },
     "execution_count": 69,
     "metadata": {},
     "output_type": "execute_result"
    }
   ],
   "source": [
    "train_df.shape, cat_2way0.shape"
   ]
  },
  {
   "cell_type": "code",
   "execution_count": 128,
   "metadata": {},
   "outputs": [
    {
     "name": "stderr",
     "output_type": "stream",
     "text": [
      "[Parallel(n_jobs=4)]: Using backend ThreadingBackend with 4 concurrent workers.\n",
      "[Parallel(n_jobs=4)]: Done  42 tasks      | elapsed:    7.8s\n",
      "[Parallel(n_jobs=4)]: Done 100 out of 100 | elapsed:   17.7s finished\n",
      "[Parallel(n_jobs=4)]: Using backend ThreadingBackend with 4 concurrent workers.\n",
      "[Parallel(n_jobs=4)]: Done  42 tasks      | elapsed:    0.1s\n",
      "[Parallel(n_jobs=4)]: Done 100 out of 100 | elapsed:    0.1s finished\n"
     ]
    },
    {
     "name": "stdout",
     "output_type": "stream",
     "text": [
      "CV score: 0.62803 \n"
     ]
    }
   ],
   "source": [
    "score_rf1, rf1, rf1_imp = run_rf(train_df.drop(['UniqueID','ltv'], axis=1).fillna(0), \n",
    "                                 target, 6, 100)\n"
   ]
  },
  {
   "cell_type": "code",
   "execution_count": null,
   "metadata": {},
   "outputs": [],
   "source": []
  },
  {
   "cell_type": "code",
   "execution_count": 114,
   "metadata": {},
   "outputs": [
    {
     "name": "stdout",
     "output_type": "stream",
     "text": [
      "no of round on interaction:  9\n",
      "store_data/new_feat/cat_inter_2way/cat_inter_2way_5.csv\n",
      "==============================\n",
      "Memory usage of dataframe is 179.98 MB\n",
      "Memory usage after optimization is: 24.10 MB\n",
      "Decreased by 86.6%\n",
      "==============================\n",
      "(224607, 124)\n"
     ]
    },
    {
     "name": "stderr",
     "output_type": "stream",
     "text": [
      "[Parallel(n_jobs=4)]: Using backend ThreadingBackend with 4 concurrent workers.\n",
      "[Parallel(n_jobs=4)]: Done  42 tasks      | elapsed:   24.1s\n",
      "[Parallel(n_jobs=4)]: Done 100 out of 100 | elapsed:   54.6s finished\n",
      "[Parallel(n_jobs=4)]: Using backend ThreadingBackend with 4 concurrent workers.\n",
      "[Parallel(n_jobs=4)]: Done  42 tasks      | elapsed:    0.1s\n",
      "[Parallel(n_jobs=4)]: Done 100 out of 100 | elapsed:    0.2s finished\n"
     ]
    },
    {
     "name": "stdout",
     "output_type": "stream",
     "text": [
      "CV score: 0.63154 \n",
      "store_data/new_feat/cat_inter_2way/cat_inter_2way_0.csv\n",
      "==============================\n",
      "Memory usage of dataframe is 179.98 MB\n",
      "Memory usage after optimization is: 29.25 MB\n",
      "Decreased by 83.7%\n",
      "==============================\n",
      "(224607, 124)\n"
     ]
    },
    {
     "name": "stderr",
     "output_type": "stream",
     "text": [
      "[Parallel(n_jobs=4)]: Using backend ThreadingBackend with 4 concurrent workers.\n",
      "[Parallel(n_jobs=4)]: Done  42 tasks      | elapsed:   26.4s\n",
      "[Parallel(n_jobs=4)]: Done 100 out of 100 | elapsed:   59.3s finished\n",
      "[Parallel(n_jobs=4)]: Using backend ThreadingBackend with 4 concurrent workers.\n",
      "[Parallel(n_jobs=4)]: Done  42 tasks      | elapsed:    0.1s\n",
      "[Parallel(n_jobs=4)]: Done 100 out of 100 | elapsed:    0.3s finished\n"
     ]
    },
    {
     "name": "stdout",
     "output_type": "stream",
     "text": [
      "CV score: 0.63253 \n",
      "store_data/new_feat/cat_inter_2way/cat_inter_2way_6.csv\n",
      "==============================\n",
      "Memory usage of dataframe is 179.98 MB\n",
      "Memory usage after optimization is: 27.32 MB\n",
      "Decreased by 84.8%\n",
      "==============================\n",
      "(224607, 124)\n"
     ]
    },
    {
     "name": "stderr",
     "output_type": "stream",
     "text": [
      "[Parallel(n_jobs=4)]: Using backend ThreadingBackend with 4 concurrent workers.\n",
      "[Parallel(n_jobs=4)]: Done  42 tasks      | elapsed:   25.8s\n",
      "[Parallel(n_jobs=4)]: Done 100 out of 100 | elapsed:   59.6s finished\n",
      "[Parallel(n_jobs=4)]: Using backend ThreadingBackend with 4 concurrent workers.\n",
      "[Parallel(n_jobs=4)]: Done  42 tasks      | elapsed:    0.1s\n",
      "[Parallel(n_jobs=4)]: Done 100 out of 100 | elapsed:    0.3s finished\n"
     ]
    },
    {
     "name": "stdout",
     "output_type": "stream",
     "text": [
      "CV score: 0.63275 \n",
      "store_data/new_feat/cat_inter_2way/cat_inter_2way_7.csv\n",
      "==============================\n",
      "Memory usage of dataframe is 179.98 MB\n",
      "Memory usage after optimization is: 29.89 MB\n",
      "Decreased by 83.4%\n",
      "==============================\n",
      "(224607, 124)\n"
     ]
    },
    {
     "name": "stderr",
     "output_type": "stream",
     "text": [
      "[Parallel(n_jobs=4)]: Using backend ThreadingBackend with 4 concurrent workers.\n",
      "[Parallel(n_jobs=4)]: Done  42 tasks      | elapsed:   25.9s\n",
      "[Parallel(n_jobs=4)]: Done 100 out of 100 | elapsed:  1.0min finished\n",
      "[Parallel(n_jobs=4)]: Using backend ThreadingBackend with 4 concurrent workers.\n",
      "[Parallel(n_jobs=4)]: Done  42 tasks      | elapsed:    0.1s\n",
      "[Parallel(n_jobs=4)]: Done 100 out of 100 | elapsed:    0.3s finished\n"
     ]
    },
    {
     "name": "stdout",
     "output_type": "stream",
     "text": [
      "CV score: 0.63243 \n",
      "store_data/new_feat/cat_inter_2way/cat_inter_2way_4.csv\n",
      "==============================\n",
      "Memory usage of dataframe is 179.98 MB\n",
      "Memory usage after optimization is: 24.10 MB\n",
      "Decreased by 86.6%\n",
      "==============================\n",
      "(224607, 124)\n"
     ]
    },
    {
     "name": "stderr",
     "output_type": "stream",
     "text": [
      "[Parallel(n_jobs=4)]: Using backend ThreadingBackend with 4 concurrent workers.\n",
      "[Parallel(n_jobs=4)]: Done  42 tasks      | elapsed:   19.3s\n",
      "[Parallel(n_jobs=4)]: Done 100 out of 100 | elapsed:   44.4s finished\n",
      "[Parallel(n_jobs=4)]: Using backend ThreadingBackend with 4 concurrent workers.\n",
      "[Parallel(n_jobs=4)]: Done  42 tasks      | elapsed:    0.1s\n",
      "[Parallel(n_jobs=4)]: Done 100 out of 100 | elapsed:    0.2s finished\n"
     ]
    },
    {
     "name": "stdout",
     "output_type": "stream",
     "text": [
      "CV score: 0.63163 \n",
      "store_data/new_feat/cat_inter_2way/cat_inter_2way_2.csv\n",
      "==============================\n",
      "Memory usage of dataframe is 179.98 MB\n",
      "Memory usage after optimization is: 23.78 MB\n",
      "Decreased by 86.8%\n",
      "==============================\n",
      "(224607, 124)\n"
     ]
    },
    {
     "name": "stderr",
     "output_type": "stream",
     "text": [
      "[Parallel(n_jobs=4)]: Using backend ThreadingBackend with 4 concurrent workers.\n",
      "[Parallel(n_jobs=4)]: Done  42 tasks      | elapsed:   20.2s\n",
      "[Parallel(n_jobs=4)]: Done 100 out of 100 | elapsed:   45.8s finished\n",
      "[Parallel(n_jobs=4)]: Using backend ThreadingBackend with 4 concurrent workers.\n",
      "[Parallel(n_jobs=4)]: Done  42 tasks      | elapsed:    0.1s\n",
      "[Parallel(n_jobs=4)]: Done 100 out of 100 | elapsed:    0.3s finished\n"
     ]
    },
    {
     "name": "stdout",
     "output_type": "stream",
     "text": [
      "CV score: 0.63184 \n",
      "store_data/new_feat/cat_inter_2way/cat_inter_2way_1.csv\n",
      "==============================\n",
      "Memory usage of dataframe is 179.98 MB\n",
      "Memory usage after optimization is: 25.07 MB\n",
      "Decreased by 86.1%\n",
      "==============================\n",
      "(224607, 124)\n"
     ]
    },
    {
     "name": "stderr",
     "output_type": "stream",
     "text": [
      "[Parallel(n_jobs=4)]: Using backend ThreadingBackend with 4 concurrent workers.\n",
      "[Parallel(n_jobs=4)]: Done  42 tasks      | elapsed:   21.9s\n",
      "[Parallel(n_jobs=4)]: Done 100 out of 100 | elapsed:   49.2s finished\n",
      "[Parallel(n_jobs=4)]: Using backend ThreadingBackend with 4 concurrent workers.\n",
      "[Parallel(n_jobs=4)]: Done  42 tasks      | elapsed:    0.1s\n",
      "[Parallel(n_jobs=4)]: Done 100 out of 100 | elapsed:    0.3s finished\n"
     ]
    },
    {
     "name": "stdout",
     "output_type": "stream",
     "text": [
      "CV score: 0.63163 \n",
      "store_data/new_feat/cat_inter_2way/cat_inter_2way_8.csv\n",
      "==============================\n",
      "Memory usage of dataframe is 179.98 MB\n",
      "Memory usage after optimization is: 23.78 MB\n",
      "Decreased by 86.8%\n",
      "==============================\n",
      "(224607, 124)\n"
     ]
    },
    {
     "name": "stderr",
     "output_type": "stream",
     "text": [
      "[Parallel(n_jobs=4)]: Using backend ThreadingBackend with 4 concurrent workers.\n",
      "[Parallel(n_jobs=4)]: Done  42 tasks      | elapsed:   18.4s\n",
      "[Parallel(n_jobs=4)]: Done 100 out of 100 | elapsed:   41.6s finished\n",
      "[Parallel(n_jobs=4)]: Using backend ThreadingBackend with 4 concurrent workers.\n",
      "[Parallel(n_jobs=4)]: Done  42 tasks      | elapsed:    0.1s\n",
      "[Parallel(n_jobs=4)]: Done 100 out of 100 | elapsed:    0.2s finished\n"
     ]
    },
    {
     "name": "stdout",
     "output_type": "stream",
     "text": [
      "CV score: 0.63072 \n",
      "store_data/new_feat/cat_inter_2way/cat_inter_2way_3.csv\n",
      "==============================\n",
      "Memory usage of dataframe is 179.98 MB\n",
      "Memory usage after optimization is: 27.96 MB\n",
      "Decreased by 84.5%\n",
      "==============================\n",
      "(224607, 124)\n"
     ]
    },
    {
     "name": "stderr",
     "output_type": "stream",
     "text": [
      "[Parallel(n_jobs=4)]: Using backend ThreadingBackend with 4 concurrent workers.\n",
      "[Parallel(n_jobs=4)]: Done  42 tasks      | elapsed:   22.9s\n",
      "[Parallel(n_jobs=4)]: Done 100 out of 100 | elapsed:   52.3s finished\n",
      "[Parallel(n_jobs=4)]: Using backend ThreadingBackend with 4 concurrent workers.\n",
      "[Parallel(n_jobs=4)]: Done  42 tasks      | elapsed:    0.1s\n",
      "[Parallel(n_jobs=4)]: Done 100 out of 100 | elapsed:    0.2s finished\n"
     ]
    },
    {
     "name": "stdout",
     "output_type": "stream",
     "text": [
      "CV score: 0.63141 \n"
     ]
    }
   ],
   "source": [
    "rf_scores = []\n",
    "rf_models  = []\n",
    "rf_imps   = []\n",
    "\n",
    "cat_inter_2way = glob.glob('store_data/new_feat/cat_inter_2way/*')\n",
    "print(\"no of round on interaction: \", len(cat_inter_2way))\n",
    "\n",
    "\n",
    "for file in cat_inter_2way:\n",
    "    print(file)\n",
    "    cat_feature = pd.read_csv(file)\n",
    "    cat_feature = cat_feature.astype('int')\n",
    "    reduce_mem_usage_wo_print(cat_feature)\n",
    "    \n",
    "    cat_feature = cat_feature.iloc[:train_df.shape[0],:]\n",
    "    \n",
    "#     cat_feature_tr = cat_feature.iloc[:train_df.shape[0],:]\n",
    "#     cat_feature_ts = cat_feature.iloc[train_df.shape[0]:,:]\n",
    "#     cat_feature_ts.reset_index(drop=True, inplace=True)\n",
    "    \n",
    "#     del cat_feature\n",
    "#     gc.collect()\n",
    "    \n",
    "    tr_data = train_df.drop(['UniqueID','ltv_round_cat'], axis=1).fillna(0)\n",
    "    tr_data = pd.concat([tr_data, cat_feature], axis=1)\n",
    "    print(tr_data.shape)\n",
    "#     ts_data = test_df.drop(['UniqueID','ltv'], axis=1).fillna(0)\n",
    "    \n",
    "    del cat_feature\n",
    "    gc.collect()\n",
    "    \n",
    "    depth = 7\n",
    "    estimators = 100\n",
    "    rf_score_, rf_model_, rf_imp_ = run_rf(tr_data, target, depth, estimators)\n",
    "    \n",
    "    rf_scores.append(rf_score_)\n",
    "    rf_models.append(rf_model_)\n",
    "    rf_imps.append(rf_imp_)\n",
    "    \n",
    "    del tr_data\n",
    "    gc.collect()"
   ]
  },
  {
   "cell_type": "code",
   "execution_count": null,
   "metadata": {},
   "outputs": [],
   "source": []
  },
  {
   "cell_type": "code",
   "execution_count": 115,
   "metadata": {},
   "outputs": [
    {
     "name": "stdout",
     "output_type": "stream",
     "text": [
      "shape of list after cat_inter_2way:  9\n"
     ]
    }
   ],
   "source": [
    "print(\"shape of list after cat_inter_2way: \",len(rf_scores))\n"
   ]
  },
  {
   "cell_type": "code",
   "execution_count": 116,
   "metadata": {
    "scrolled": false
   },
   "outputs": [
    {
     "name": "stdout",
     "output_type": "stream",
     "text": [
      "no of round on interaction:  4\n",
      "store_data/new_feat/int_inter_2way/num_inter_2way_48.csv\n",
      "==============================\n",
      "Memory usage of dataframe is 205.69 MB\n",
      "Memory usage after optimization is: 58.17 MB\n",
      "Decreased by 71.7%\n",
      "==============================\n",
      "(224607, 134)\n"
     ]
    },
    {
     "name": "stderr",
     "output_type": "stream",
     "text": [
      "[Parallel(n_jobs=4)]: Using backend ThreadingBackend with 4 concurrent workers.\n",
      "[Parallel(n_jobs=4)]: Done  42 tasks      | elapsed:   31.6s\n",
      "[Parallel(n_jobs=4)]: Done 100 out of 100 | elapsed:  1.2min finished\n",
      "[Parallel(n_jobs=4)]: Using backend ThreadingBackend with 4 concurrent workers.\n",
      "[Parallel(n_jobs=4)]: Done  42 tasks      | elapsed:    0.1s\n",
      "[Parallel(n_jobs=4)]: Done 100 out of 100 | elapsed:    0.3s finished\n"
     ]
    },
    {
     "name": "stdout",
     "output_type": "stream",
     "text": [
      "CV score: 0.63348 \n"
     ]
    }
   ],
   "source": [
    "# rf_scores = []\n",
    "# rf_models  = []\n",
    "# rf_imps   = []\n",
    "\n",
    "int_inter_2way = glob.glob('store_data/new_feat/int_inter_2way/*')\n",
    "print(\"no of round on interaction: \", len(int_inter_2way))\n",
    "\n",
    "\n",
    "for file in int_inter_2way:\n",
    "    print(file)\n",
    "    cat_feature = pd.read_csv(file)\n",
    "    cat_feature = cat_feature.astype('int')\n",
    "    reduce_mem_usage_wo_print(cat_feature)\n",
    "    \n",
    "    cat_feature = cat_feature.iloc[:train_df.shape[0],:]\n",
    "    \n",
    "#     cat_feature_tr = cat_feature.iloc[:train_df.shape[0],:]\n",
    "#     cat_feature_ts = cat_feature.iloc[train_df.shape[0]:,:]\n",
    "#     cat_feature_ts.reset_index(drop=True, inplace=True)\n",
    "    \n",
    "#     del cat_feature\n",
    "#     gc.collect()\n",
    "    \n",
    "    tr_data = train_df.drop(['UniqueID','ltv_round_cat'], axis=1).fillna(0)\n",
    "    tr_data = pd.concat([tr_data, cat_feature], axis=1)\n",
    "    print(tr_data.shape)\n",
    "#     ts_data = test_df.drop(['UniqueID','ltv'], axis=1).fillna(0)\n",
    "    \n",
    "    del cat_feature\n",
    "    gc.collect()\n",
    "    \n",
    "#     0.63425\n",
    "    depth = 7\n",
    "    estimators = 100\n",
    "    \n",
    "    rf_score_, rf_model_, rf_imp_ = run_rf(tr_data, target, depth, estimators)\n",
    "    \n",
    "    rf_scores.append(rf_score_)\n",
    "    rf_models.append(rf_model_)\n",
    "    rf_imps.append(rf_imp_)\n",
    "    \n",
    "    del tr_data\n",
    "    gc.collect()\n",
    "    break"
   ]
  },
  {
   "cell_type": "code",
   "execution_count": null,
   "metadata": {},
   "outputs": [],
   "source": []
  },
  {
   "cell_type": "code",
   "execution_count": 117,
   "metadata": {},
   "outputs": [
    {
     "name": "stdout",
     "output_type": "stream",
     "text": [
      "shape of list after num_inter_2way:  10\n"
     ]
    }
   ],
   "source": [
    "print(\"shape of list after num_inter_2way: \",len(rf_scores))\n"
   ]
  },
  {
   "cell_type": "code",
   "execution_count": 118,
   "metadata": {
    "scrolled": true
   },
   "outputs": [
    {
     "name": "stdout",
     "output_type": "stream",
     "text": [
      "no of round on interaction:  17\n",
      "store_data/new_feat/int_inter_3way/num_inter_3way_16.csv\n",
      "==============================\n",
      "Memory usage of dataframe is 205.69 MB\n",
      "Memory usage after optimization is: 64.28 MB\n",
      "Decreased by 68.7%\n",
      "==============================\n",
      "(224607, 134)\n"
     ]
    },
    {
     "name": "stderr",
     "output_type": "stream",
     "text": [
      "[Parallel(n_jobs=4)]: Using backend ThreadingBackend with 4 concurrent workers.\n",
      "[Parallel(n_jobs=4)]: Done  42 tasks      | elapsed:   29.9s\n",
      "[Parallel(n_jobs=4)]: Done 100 out of 100 | elapsed:  1.1min finished\n",
      "[Parallel(n_jobs=4)]: Using backend ThreadingBackend with 4 concurrent workers.\n",
      "[Parallel(n_jobs=4)]: Done  42 tasks      | elapsed:    0.1s\n",
      "[Parallel(n_jobs=4)]: Done 100 out of 100 | elapsed:    0.3s finished\n"
     ]
    },
    {
     "name": "stdout",
     "output_type": "stream",
     "text": [
      "CV score: 0.63170 \n",
      "store_data/new_feat/int_inter_3way/num_inter_3way_112.csv\n",
      "==============================\n",
      "Memory usage of dataframe is 205.69 MB\n",
      "Memory usage after optimization is: 66.85 MB\n",
      "Decreased by 67.5%\n",
      "==============================\n",
      "(224607, 134)\n"
     ]
    },
    {
     "name": "stderr",
     "output_type": "stream",
     "text": [
      "[Parallel(n_jobs=4)]: Using backend ThreadingBackend with 4 concurrent workers.\n",
      "[Parallel(n_jobs=4)]: Done  42 tasks      | elapsed:   31.2s\n",
      "[Parallel(n_jobs=4)]: Done 100 out of 100 | elapsed:  1.2min finished\n",
      "[Parallel(n_jobs=4)]: Using backend ThreadingBackend with 4 concurrent workers.\n",
      "[Parallel(n_jobs=4)]: Done  42 tasks      | elapsed:    0.1s\n",
      "[Parallel(n_jobs=4)]: Done 100 out of 100 | elapsed:    0.3s finished\n"
     ]
    },
    {
     "name": "stdout",
     "output_type": "stream",
     "text": [
      "CV score: 0.63379 \n",
      "store_data/new_feat/int_inter_3way/num_inter_3way_64.csv\n",
      "==============================\n",
      "Memory usage of dataframe is 205.69 MB\n",
      "Memory usage after optimization is: 60.10 MB\n",
      "Decreased by 70.8%\n",
      "==============================\n",
      "(224607, 134)\n"
     ]
    },
    {
     "name": "stderr",
     "output_type": "stream",
     "text": [
      "[Parallel(n_jobs=4)]: Using backend ThreadingBackend with 4 concurrent workers.\n",
      "[Parallel(n_jobs=4)]: Done  42 tasks      | elapsed:   26.4s\n",
      "[Parallel(n_jobs=4)]: Done 100 out of 100 | elapsed:  1.0min finished\n",
      "[Parallel(n_jobs=4)]: Using backend ThreadingBackend with 4 concurrent workers.\n",
      "[Parallel(n_jobs=4)]: Done  42 tasks      | elapsed:    0.1s\n",
      "[Parallel(n_jobs=4)]: Done 100 out of 100 | elapsed:    0.3s finished\n"
     ]
    },
    {
     "name": "stdout",
     "output_type": "stream",
     "text": [
      "CV score: 0.63356 \n",
      "store_data/new_feat/int_inter_3way/num_inter_3way_144.csv\n",
      "==============================\n",
      "Memory usage of dataframe is 205.69 MB\n",
      "Memory usage after optimization is: 77.13 MB\n",
      "Decreased by 62.5%\n",
      "==============================\n",
      "(224607, 134)\n"
     ]
    },
    {
     "name": "stderr",
     "output_type": "stream",
     "text": [
      "[Parallel(n_jobs=4)]: Using backend ThreadingBackend with 4 concurrent workers.\n",
      "[Parallel(n_jobs=4)]: Done  42 tasks      | elapsed:   38.8s\n",
      "[Parallel(n_jobs=4)]: Done 100 out of 100 | elapsed:  1.5min finished\n",
      "[Parallel(n_jobs=4)]: Using backend ThreadingBackend with 4 concurrent workers.\n",
      "[Parallel(n_jobs=4)]: Done  42 tasks      | elapsed:    0.1s\n",
      "[Parallel(n_jobs=4)]: Done 100 out of 100 | elapsed:    0.3s finished\n"
     ]
    },
    {
     "name": "stdout",
     "output_type": "stream",
     "text": [
      "CV score: 0.63182 \n",
      "store_data/new_feat/int_inter_3way/num_inter_3way_32.csv\n",
      "==============================\n",
      "Memory usage of dataframe is 205.69 MB\n",
      "Memory usage after optimization is: 68.13 MB\n",
      "Decreased by 66.9%\n",
      "==============================\n",
      "(224607, 134)\n"
     ]
    },
    {
     "name": "stderr",
     "output_type": "stream",
     "text": [
      "[Parallel(n_jobs=4)]: Using backend ThreadingBackend with 4 concurrent workers.\n",
      "[Parallel(n_jobs=4)]: Done  42 tasks      | elapsed:   30.5s\n",
      "[Parallel(n_jobs=4)]: Done 100 out of 100 | elapsed:  1.2min finished\n",
      "[Parallel(n_jobs=4)]: Using backend ThreadingBackend with 4 concurrent workers.\n",
      "[Parallel(n_jobs=4)]: Done  42 tasks      | elapsed:    0.1s\n",
      "[Parallel(n_jobs=4)]: Done 100 out of 100 | elapsed:    0.3s finished\n"
     ]
    },
    {
     "name": "stdout",
     "output_type": "stream",
     "text": [
      "CV score: 0.63305 \n",
      "store_data/new_feat/int_inter_3way/num_inter_3way_208.csv\n",
      "==============================\n",
      "Memory usage of dataframe is 205.69 MB\n",
      "Memory usage after optimization is: 66.21 MB\n",
      "Decreased by 67.8%\n",
      "==============================\n",
      "(224607, 134)\n"
     ]
    },
    {
     "name": "stderr",
     "output_type": "stream",
     "text": [
      "[Parallel(n_jobs=4)]: Using backend ThreadingBackend with 4 concurrent workers.\n",
      "[Parallel(n_jobs=4)]: Done  42 tasks      | elapsed:   31.0s\n",
      "[Parallel(n_jobs=4)]: Done 100 out of 100 | elapsed:  1.2min finished\n",
      "[Parallel(n_jobs=4)]: Using backend ThreadingBackend with 4 concurrent workers.\n",
      "[Parallel(n_jobs=4)]: Done  42 tasks      | elapsed:    0.1s\n",
      "[Parallel(n_jobs=4)]: Done 100 out of 100 | elapsed:    0.3s finished\n"
     ]
    },
    {
     "name": "stdout",
     "output_type": "stream",
     "text": [
      "CV score: 0.63268 \n",
      "store_data/new_feat/int_inter_3way/num_inter_3way_48.csv\n",
      "==============================\n",
      "Memory usage of dataframe is 205.69 MB\n",
      "Memory usage after optimization is: 80.67 MB\n",
      "Decreased by 60.8%\n",
      "==============================\n",
      "(224607, 134)\n"
     ]
    },
    {
     "name": "stderr",
     "output_type": "stream",
     "text": [
      "[Parallel(n_jobs=4)]: Using backend ThreadingBackend with 4 concurrent workers.\n",
      "[Parallel(n_jobs=4)]: Done  42 tasks      | elapsed:   27.7s\n",
      "[Parallel(n_jobs=4)]: Done 100 out of 100 | elapsed:  1.1min finished\n",
      "[Parallel(n_jobs=4)]: Using backend ThreadingBackend with 4 concurrent workers.\n",
      "[Parallel(n_jobs=4)]: Done  42 tasks      | elapsed:    0.1s\n",
      "[Parallel(n_jobs=4)]: Done 100 out of 100 | elapsed:    0.3s finished\n"
     ]
    },
    {
     "name": "stdout",
     "output_type": "stream",
     "text": [
      "CV score: 0.63385 \n",
      "store_data/new_feat/int_inter_3way/num_inter_3way_240.csv\n",
      "==============================\n",
      "Memory usage of dataframe is 205.69 MB\n",
      "Memory usage after optimization is: 75.53 MB\n",
      "Decreased by 63.3%\n",
      "==============================\n",
      "(224607, 134)\n"
     ]
    },
    {
     "name": "stderr",
     "output_type": "stream",
     "text": [
      "[Parallel(n_jobs=4)]: Using backend ThreadingBackend with 4 concurrent workers.\n",
      "[Parallel(n_jobs=4)]: Done  42 tasks      | elapsed:   30.8s\n",
      "[Parallel(n_jobs=4)]: Done 100 out of 100 | elapsed:  1.2min finished\n",
      "[Parallel(n_jobs=4)]: Using backend ThreadingBackend with 4 concurrent workers.\n",
      "[Parallel(n_jobs=4)]: Done  42 tasks      | elapsed:    0.1s\n",
      "[Parallel(n_jobs=4)]: Done 100 out of 100 | elapsed:    0.3s finished\n"
     ]
    },
    {
     "name": "stdout",
     "output_type": "stream",
     "text": [
      "CV score: 0.63340 \n",
      "store_data/new_feat/int_inter_3way/num_inter_3way_128.csv\n",
      "==============================\n",
      "Memory usage of dataframe is 205.69 MB\n",
      "Memory usage after optimization is: 57.21 MB\n",
      "Decreased by 72.2%\n",
      "==============================\n",
      "(224607, 134)\n"
     ]
    },
    {
     "name": "stderr",
     "output_type": "stream",
     "text": [
      "[Parallel(n_jobs=4)]: Using backend ThreadingBackend with 4 concurrent workers.\n",
      "[Parallel(n_jobs=4)]: Done  42 tasks      | elapsed:   32.8s\n",
      "[Parallel(n_jobs=4)]: Done 100 out of 100 | elapsed:  1.3min finished\n",
      "[Parallel(n_jobs=4)]: Using backend ThreadingBackend with 4 concurrent workers.\n",
      "[Parallel(n_jobs=4)]: Done  42 tasks      | elapsed:    0.1s\n",
      "[Parallel(n_jobs=4)]: Done 100 out of 100 | elapsed:    0.2s finished\n"
     ]
    },
    {
     "name": "stdout",
     "output_type": "stream",
     "text": [
      "CV score: 0.63284 \n",
      "store_data/new_feat/int_inter_3way/num_inter_3way_176.csv\n",
      "==============================\n",
      "Memory usage of dataframe is 205.69 MB\n",
      "Memory usage after optimization is: 63.63 MB\n",
      "Decreased by 69.1%\n",
      "==============================\n",
      "(224607, 134)\n"
     ]
    },
    {
     "name": "stderr",
     "output_type": "stream",
     "text": [
      "[Parallel(n_jobs=4)]: Using backend ThreadingBackend with 4 concurrent workers.\n",
      "[Parallel(n_jobs=4)]: Done  42 tasks      | elapsed:   32.9s\n",
      "[Parallel(n_jobs=4)]: Done 100 out of 100 | elapsed:  1.2min finished\n",
      "[Parallel(n_jobs=4)]: Using backend ThreadingBackend with 4 concurrent workers.\n",
      "[Parallel(n_jobs=4)]: Done  42 tasks      | elapsed:    0.1s\n",
      "[Parallel(n_jobs=4)]: Done 100 out of 100 | elapsed:    0.2s finished\n"
     ]
    },
    {
     "name": "stdout",
     "output_type": "stream",
     "text": [
      "CV score: 0.63285 \n",
      "store_data/new_feat/int_inter_3way/num_inter_3way_96.csv\n",
      "==============================\n",
      "Memory usage of dataframe is 205.69 MB\n",
      "Memory usage after optimization is: 58.81 MB\n",
      "Decreased by 71.4%\n",
      "==============================\n",
      "(224607, 134)\n"
     ]
    },
    {
     "name": "stderr",
     "output_type": "stream",
     "text": [
      "[Parallel(n_jobs=4)]: Using backend ThreadingBackend with 4 concurrent workers.\n",
      "[Parallel(n_jobs=4)]: Done  42 tasks      | elapsed:   23.7s\n",
      "[Parallel(n_jobs=4)]: Done 100 out of 100 | elapsed:   54.7s finished\n",
      "[Parallel(n_jobs=4)]: Using backend ThreadingBackend with 4 concurrent workers.\n",
      "[Parallel(n_jobs=4)]: Done  42 tasks      | elapsed:    0.1s\n",
      "[Parallel(n_jobs=4)]: Done 100 out of 100 | elapsed:    0.2s finished\n"
     ]
    },
    {
     "name": "stdout",
     "output_type": "stream",
     "text": [
      "CV score: 0.63346 \n",
      "store_data/new_feat/int_inter_3way/num_inter_3way_192.csv\n",
      "==============================\n",
      "Memory usage of dataframe is 205.69 MB\n",
      "Memory usage after optimization is: 73.28 MB\n",
      "Decreased by 64.4%\n",
      "==============================\n",
      "(224607, 134)\n"
     ]
    },
    {
     "name": "stderr",
     "output_type": "stream",
     "text": [
      "[Parallel(n_jobs=4)]: Using backend ThreadingBackend with 4 concurrent workers.\n",
      "[Parallel(n_jobs=4)]: Done  42 tasks      | elapsed:   24.4s\n",
      "[Parallel(n_jobs=4)]: Done 100 out of 100 | elapsed:   56.4s finished\n",
      "[Parallel(n_jobs=4)]: Using backend ThreadingBackend with 4 concurrent workers.\n",
      "[Parallel(n_jobs=4)]: Done  42 tasks      | elapsed:    0.1s\n",
      "[Parallel(n_jobs=4)]: Done 100 out of 100 | elapsed:    0.2s finished\n"
     ]
    },
    {
     "name": "stdout",
     "output_type": "stream",
     "text": [
      "CV score: 0.63304 \n",
      "store_data/new_feat/int_inter_3way/num_inter_3way_272.csv\n",
      "==============================\n",
      "Memory usage of dataframe is 205.69 MB\n",
      "Memory usage after optimization is: 69.42 MB\n",
      "Decreased by 66.2%\n",
      "==============================\n",
      "(224607, 134)\n"
     ]
    },
    {
     "name": "stderr",
     "output_type": "stream",
     "text": [
      "[Parallel(n_jobs=4)]: Using backend ThreadingBackend with 4 concurrent workers.\n",
      "[Parallel(n_jobs=4)]: Done  42 tasks      | elapsed:   23.8s\n",
      "[Parallel(n_jobs=4)]: Done 100 out of 100 | elapsed:   54.5s finished\n",
      "[Parallel(n_jobs=4)]: Using backend ThreadingBackend with 4 concurrent workers.\n",
      "[Parallel(n_jobs=4)]: Done  42 tasks      | elapsed:    0.1s\n",
      "[Parallel(n_jobs=4)]: Done 100 out of 100 | elapsed:    0.2s finished\n"
     ]
    },
    {
     "name": "stdout",
     "output_type": "stream",
     "text": [
      "CV score: 0.63373 \n",
      "store_data/new_feat/int_inter_3way/num_inter_3way_160.csv\n",
      "==============================\n",
      "Memory usage of dataframe is 205.69 MB\n",
      "Memory usage after optimization is: 75.85 MB\n",
      "Decreased by 63.1%\n",
      "==============================\n",
      "(224607, 134)\n"
     ]
    },
    {
     "name": "stderr",
     "output_type": "stream",
     "text": [
      "[Parallel(n_jobs=4)]: Using backend ThreadingBackend with 4 concurrent workers.\n",
      "[Parallel(n_jobs=4)]: Done  42 tasks      | elapsed:   27.6s\n",
      "[Parallel(n_jobs=4)]: Done 100 out of 100 | elapsed:  1.1min finished\n",
      "[Parallel(n_jobs=4)]: Using backend ThreadingBackend with 4 concurrent workers.\n",
      "[Parallel(n_jobs=4)]: Done  42 tasks      | elapsed:    0.1s\n",
      "[Parallel(n_jobs=4)]: Done 100 out of 100 | elapsed:    0.2s finished\n"
     ]
    },
    {
     "name": "stdout",
     "output_type": "stream",
     "text": [
      "CV score: 0.63241 \n",
      "store_data/new_feat/int_inter_3way/num_inter_3way_80.csv\n",
      "==============================\n",
      "Memory usage of dataframe is 205.69 MB\n",
      "Memory usage after optimization is: 60.42 MB\n",
      "Decreased by 70.6%\n",
      "==============================\n",
      "(224607, 134)\n"
     ]
    },
    {
     "name": "stderr",
     "output_type": "stream",
     "text": [
      "[Parallel(n_jobs=4)]: Using backend ThreadingBackend with 4 concurrent workers.\n",
      "[Parallel(n_jobs=4)]: Done  42 tasks      | elapsed:   26.9s\n",
      "[Parallel(n_jobs=4)]: Done 100 out of 100 | elapsed:  1.0min finished\n",
      "[Parallel(n_jobs=4)]: Using backend ThreadingBackend with 4 concurrent workers.\n",
      "[Parallel(n_jobs=4)]: Done  42 tasks      | elapsed:    0.1s\n",
      "[Parallel(n_jobs=4)]: Done 100 out of 100 | elapsed:    0.2s finished\n"
     ]
    },
    {
     "name": "stdout",
     "output_type": "stream",
     "text": [
      "CV score: 0.63209 \n",
      "store_data/new_feat/int_inter_3way/num_inter_3way_224.csv\n",
      "==============================\n",
      "Memory usage of dataframe is 205.69 MB\n",
      "Memory usage after optimization is: 64.28 MB\n",
      "Decreased by 68.7%\n",
      "==============================\n",
      "(224607, 134)\n"
     ]
    },
    {
     "name": "stderr",
     "output_type": "stream",
     "text": [
      "[Parallel(n_jobs=4)]: Using backend ThreadingBackend with 4 concurrent workers.\n",
      "[Parallel(n_jobs=4)]: Done  42 tasks      | elapsed:   25.2s\n",
      "[Parallel(n_jobs=4)]: Done 100 out of 100 | elapsed:   57.6s finished\n",
      "[Parallel(n_jobs=4)]: Using backend ThreadingBackend with 4 concurrent workers.\n",
      "[Parallel(n_jobs=4)]: Done  42 tasks      | elapsed:    0.1s\n",
      "[Parallel(n_jobs=4)]: Done 100 out of 100 | elapsed:    0.2s finished\n"
     ]
    },
    {
     "name": "stdout",
     "output_type": "stream",
     "text": [
      "CV score: 0.63301 \n",
      "store_data/new_feat/int_inter_3way/num_inter_3way_256.csv\n",
      "==============================\n",
      "Memory usage of dataframe is 205.69 MB\n",
      "Memory usage after optimization is: 93.20 MB\n",
      "Decreased by 54.7%\n",
      "==============================\n",
      "(224607, 134)\n"
     ]
    },
    {
     "name": "stderr",
     "output_type": "stream",
     "text": [
      "[Parallel(n_jobs=4)]: Using backend ThreadingBackend with 4 concurrent workers.\n",
      "[Parallel(n_jobs=4)]: Done  42 tasks      | elapsed:   23.4s\n",
      "[Parallel(n_jobs=4)]: Done 100 out of 100 | elapsed:   55.1s finished\n",
      "[Parallel(n_jobs=4)]: Using backend ThreadingBackend with 4 concurrent workers.\n",
      "[Parallel(n_jobs=4)]: Done  42 tasks      | elapsed:    0.1s\n",
      "[Parallel(n_jobs=4)]: Done 100 out of 100 | elapsed:    0.2s finished\n"
     ]
    },
    {
     "name": "stdout",
     "output_type": "stream",
     "text": [
      "CV score: 0.63340 \n"
     ]
    }
   ],
   "source": [
    "# rf_scores = []\n",
    "# rf_models  = []\n",
    "# rf_imps   = []\n",
    "\n",
    "int_inter_3way = glob.glob('store_data/new_feat/int_inter_3way/*')\n",
    "print(\"no of round on interaction: \", len(int_inter_3way))\n",
    "\n",
    "\n",
    "for file in int_inter_3way:\n",
    "    print(file)\n",
    "    cat_feature = pd.read_csv(file)\n",
    "    cat_feature = cat_feature.astype('int')\n",
    "    reduce_mem_usage_wo_print(cat_feature)\n",
    "    \n",
    "    cat_feature = cat_feature.iloc[:train_df.shape[0],:]\n",
    "    \n",
    "#     cat_feature_tr = cat_feature.iloc[:train_df.shape[0],:]\n",
    "#     cat_feature_ts = cat_feature.iloc[train_df.shape[0]:,:]\n",
    "#     cat_feature_ts.reset_index(drop=True, inplace=True)\n",
    "    \n",
    "#     del cat_feature\n",
    "#     gc.collect()\n",
    "    \n",
    "    tr_data = train_df.drop(['UniqueID','ltv_round_cat'], axis=1).fillna(0)\n",
    "    tr_data = pd.concat([tr_data, cat_feature], axis=1)\n",
    "    print(tr_data.shape)\n",
    "#     ts_data = test_df.drop(['UniqueID','ltv'], axis=1).fillna(0)\n",
    "    \n",
    "    del cat_feature\n",
    "    gc.collect()\n",
    "    \n",
    "    depth = 7\n",
    "    estimators = 100\n",
    "    rf_score_, rf_model_, rf_imp_ = run_rf(tr_data, target, depth, estimators)\n",
    "    \n",
    "    rf_scores.append(rf_score_)\n",
    "    rf_models.append(rf_model_)\n",
    "    rf_imps.append(rf_imp_)\n",
    "    \n",
    "    del tr_data\n",
    "    gc.collect()"
   ]
  },
  {
   "cell_type": "code",
   "execution_count": 119,
   "metadata": {},
   "outputs": [
    {
     "name": "stdout",
     "output_type": "stream",
     "text": [
      "shape of list after num_inter_3way:  27\n"
     ]
    }
   ],
   "source": [
    "print(\"shape of list after num_inter_3way: \",len(rf_scores))\n"
   ]
  },
  {
   "cell_type": "code",
   "execution_count": 129,
   "metadata": {},
   "outputs": [
    {
     "data": {
      "text/plain": [
       "2179"
      ]
     },
     "execution_count": 129,
     "metadata": {},
     "output_type": "execute_result"
    }
   ],
   "source": [
    "gc.collect()"
   ]
  },
  {
   "cell_type": "code",
   "execution_count": 120,
   "metadata": {
    "scrolled": true
   },
   "outputs": [
    {
     "name": "stdout",
     "output_type": "stream",
     "text": [
      "no of round on interaction:  101\n",
      "store_data/new_feat/cat_inter_3way_new/cat_inter_3way_7.csv\n",
      "==============================\n",
      "Memory usage of dataframe is 179.98 MB\n",
      "Memory usage after optimization is: 36.96 MB\n",
      "Decreased by 79.5%\n",
      "==============================\n",
      "(224607, 124)\n"
     ]
    },
    {
     "name": "stderr",
     "output_type": "stream",
     "text": [
      "[Parallel(n_jobs=4)]: Using backend ThreadingBackend with 4 concurrent workers.\n",
      "[Parallel(n_jobs=4)]: Done  42 tasks      | elapsed:   17.1s\n",
      "[Parallel(n_jobs=4)]: Done 100 out of 100 | elapsed:   39.2s finished\n",
      "[Parallel(n_jobs=4)]: Using backend ThreadingBackend with 4 concurrent workers.\n",
      "[Parallel(n_jobs=4)]: Done  42 tasks      | elapsed:    0.1s\n",
      "[Parallel(n_jobs=4)]: Done 100 out of 100 | elapsed:    0.2s finished\n"
     ]
    },
    {
     "name": "stdout",
     "output_type": "stream",
     "text": [
      "CV score: 0.62797 \n",
      "store_data/new_feat/cat_inter_3way_new/cat_inter_3way_38.csv\n",
      "==============================\n",
      "Memory usage of dataframe is 179.98 MB\n",
      "Memory usage after optimization is: 30.53 MB\n",
      "Decreased by 83.0%\n",
      "==============================\n",
      "(224607, 124)\n"
     ]
    },
    {
     "name": "stderr",
     "output_type": "stream",
     "text": [
      "[Parallel(n_jobs=4)]: Using backend ThreadingBackend with 4 concurrent workers.\n",
      "[Parallel(n_jobs=4)]: Done  42 tasks      | elapsed:   16.8s\n",
      "[Parallel(n_jobs=4)]: Done 100 out of 100 | elapsed:   37.8s finished\n",
      "[Parallel(n_jobs=4)]: Using backend ThreadingBackend with 4 concurrent workers.\n",
      "[Parallel(n_jobs=4)]: Done  42 tasks      | elapsed:    0.1s\n",
      "[Parallel(n_jobs=4)]: Done 100 out of 100 | elapsed:    0.1s finished\n"
     ]
    },
    {
     "name": "stdout",
     "output_type": "stream",
     "text": [
      "CV score: 0.62683 \n",
      "store_data/new_feat/cat_inter_3way_new/cat_inter_3way_96.csv\n",
      "==============================\n",
      "Memory usage of dataframe is 179.98 MB\n",
      "Memory usage after optimization is: 38.25 MB\n",
      "Decreased by 78.7%\n",
      "==============================\n",
      "(224607, 124)\n"
     ]
    },
    {
     "name": "stderr",
     "output_type": "stream",
     "text": [
      "[Parallel(n_jobs=4)]: Using backend ThreadingBackend with 4 concurrent workers.\n",
      "[Parallel(n_jobs=4)]: Done  42 tasks      | elapsed:   17.1s\n",
      "[Parallel(n_jobs=4)]: Done 100 out of 100 | elapsed:   38.8s finished\n",
      "[Parallel(n_jobs=4)]: Using backend ThreadingBackend with 4 concurrent workers.\n",
      "[Parallel(n_jobs=4)]: Done  42 tasks      | elapsed:    0.1s\n",
      "[Parallel(n_jobs=4)]: Done 100 out of 100 | elapsed:    0.1s finished\n"
     ]
    },
    {
     "name": "stdout",
     "output_type": "stream",
     "text": [
      "CV score: 0.62809 \n",
      "store_data/new_feat/cat_inter_3way_new/cat_inter_3way_67.csv\n",
      "==============================\n",
      "Memory usage of dataframe is 179.98 MB\n",
      "Memory usage after optimization is: 33.10 MB\n",
      "Decreased by 81.6%\n",
      "==============================\n",
      "(224607, 124)\n"
     ]
    },
    {
     "name": "stderr",
     "output_type": "stream",
     "text": [
      "[Parallel(n_jobs=4)]: Using backend ThreadingBackend with 4 concurrent workers.\n",
      "[Parallel(n_jobs=4)]: Done  42 tasks      | elapsed:   17.0s\n",
      "[Parallel(n_jobs=4)]: Done 100 out of 100 | elapsed:   39.2s finished\n",
      "[Parallel(n_jobs=4)]: Using backend ThreadingBackend with 4 concurrent workers.\n",
      "[Parallel(n_jobs=4)]: Done  42 tasks      | elapsed:    0.1s\n",
      "[Parallel(n_jobs=4)]: Done 100 out of 100 | elapsed:    0.2s finished\n"
     ]
    },
    {
     "name": "stdout",
     "output_type": "stream",
     "text": [
      "CV score: 0.62701 \n",
      "store_data/new_feat/cat_inter_3way_new/cat_inter_3way_42.csv\n",
      "==============================\n",
      "Memory usage of dataframe is 179.98 MB\n",
      "Memory usage after optimization is: 38.89 MB\n",
      "Decreased by 78.4%\n",
      "==============================\n",
      "(224607, 124)\n"
     ]
    },
    {
     "name": "stderr",
     "output_type": "stream",
     "text": [
      "[Parallel(n_jobs=4)]: Using backend ThreadingBackend with 4 concurrent workers.\n",
      "[Parallel(n_jobs=4)]: Done  42 tasks      | elapsed:   17.3s\n",
      "[Parallel(n_jobs=4)]: Done 100 out of 100 | elapsed:   39.5s finished\n",
      "[Parallel(n_jobs=4)]: Using backend ThreadingBackend with 4 concurrent workers.\n",
      "[Parallel(n_jobs=4)]: Done  42 tasks      | elapsed:    0.1s\n",
      "[Parallel(n_jobs=4)]: Done 100 out of 100 | elapsed:    0.2s finished\n"
     ]
    },
    {
     "name": "stdout",
     "output_type": "stream",
     "text": [
      "CV score: 0.62694 \n",
      "store_data/new_feat/cat_inter_3way_new/cat_inter_3way_39.csv\n",
      "==============================\n",
      "Memory usage of dataframe is 179.98 MB\n",
      "Memory usage after optimization is: 37.92 MB\n",
      "Decreased by 78.9%\n",
      "==============================\n",
      "(224607, 124)\n"
     ]
    },
    {
     "name": "stderr",
     "output_type": "stream",
     "text": [
      "[Parallel(n_jobs=4)]: Using backend ThreadingBackend with 4 concurrent workers.\n",
      "[Parallel(n_jobs=4)]: Done  42 tasks      | elapsed:   18.2s\n",
      "[Parallel(n_jobs=4)]: Done 100 out of 100 | elapsed:   41.9s finished\n",
      "[Parallel(n_jobs=4)]: Using backend ThreadingBackend with 4 concurrent workers.\n",
      "[Parallel(n_jobs=4)]: Done  42 tasks      | elapsed:    0.1s\n",
      "[Parallel(n_jobs=4)]: Done 100 out of 100 | elapsed:    0.2s finished\n"
     ]
    },
    {
     "name": "stdout",
     "output_type": "stream",
     "text": [
      "CV score: 0.62759 \n",
      "store_data/new_feat/cat_inter_3way_new/cat_inter_3way_16.csv\n",
      "==============================\n",
      "Memory usage of dataframe is 179.98 MB\n",
      "Memory usage after optimization is: 40.17 MB\n",
      "Decreased by 77.7%\n",
      "==============================\n",
      "(224607, 124)\n"
     ]
    },
    {
     "name": "stderr",
     "output_type": "stream",
     "text": [
      "[Parallel(n_jobs=4)]: Using backend ThreadingBackend with 4 concurrent workers.\n",
      "[Parallel(n_jobs=4)]: Done  42 tasks      | elapsed:   17.6s\n",
      "[Parallel(n_jobs=4)]: Done 100 out of 100 | elapsed:   39.9s finished\n",
      "[Parallel(n_jobs=4)]: Using backend ThreadingBackend with 4 concurrent workers.\n",
      "[Parallel(n_jobs=4)]: Done  42 tasks      | elapsed:    0.1s\n",
      "[Parallel(n_jobs=4)]: Done 100 out of 100 | elapsed:    0.1s finished\n"
     ]
    },
    {
     "name": "stdout",
     "output_type": "stream",
     "text": [
      "CV score: 0.62793 \n",
      "store_data/new_feat/cat_inter_3way_new/cat_inter_3way_46.csv\n",
      "==============================\n",
      "Memory usage of dataframe is 179.98 MB\n",
      "Memory usage after optimization is: 37.60 MB\n",
      "Decreased by 79.1%\n",
      "==============================\n",
      "(224607, 124)\n"
     ]
    },
    {
     "name": "stderr",
     "output_type": "stream",
     "text": [
      "[Parallel(n_jobs=4)]: Using backend ThreadingBackend with 4 concurrent workers.\n",
      "[Parallel(n_jobs=4)]: Done  42 tasks      | elapsed:   17.4s\n",
      "[Parallel(n_jobs=4)]: Done 100 out of 100 | elapsed:   40.1s finished\n",
      "[Parallel(n_jobs=4)]: Using backend ThreadingBackend with 4 concurrent workers.\n",
      "[Parallel(n_jobs=4)]: Done  42 tasks      | elapsed:    0.1s\n",
      "[Parallel(n_jobs=4)]: Done 100 out of 100 | elapsed:    0.1s finished\n"
     ]
    },
    {
     "name": "stdout",
     "output_type": "stream",
     "text": [
      "CV score: 0.62660 \n",
      "store_data/new_feat/cat_inter_3way_new/cat_inter_3way_78.csv\n",
      "==============================\n",
      "Memory usage of dataframe is 179.98 MB\n",
      "Memory usage after optimization is: 30.21 MB\n",
      "Decreased by 83.2%\n",
      "==============================\n",
      "(224607, 124)\n"
     ]
    },
    {
     "name": "stderr",
     "output_type": "stream",
     "text": [
      "[Parallel(n_jobs=4)]: Using backend ThreadingBackend with 4 concurrent workers.\n",
      "[Parallel(n_jobs=4)]: Done  42 tasks      | elapsed:   16.1s\n",
      "[Parallel(n_jobs=4)]: Done 100 out of 100 | elapsed:   37.1s finished\n",
      "[Parallel(n_jobs=4)]: Using backend ThreadingBackend with 4 concurrent workers.\n",
      "[Parallel(n_jobs=4)]: Done  42 tasks      | elapsed:    0.1s\n",
      "[Parallel(n_jobs=4)]: Done 100 out of 100 | elapsed:    0.1s finished\n"
     ]
    },
    {
     "name": "stdout",
     "output_type": "stream",
     "text": [
      "CV score: 0.62714 \n",
      "store_data/new_feat/cat_inter_3way_new/cat_inter_3way_21.csv\n",
      "==============================\n",
      "Memory usage of dataframe is 179.98 MB\n",
      "Memory usage after optimization is: 36.32 MB\n",
      "Decreased by 79.8%\n",
      "==============================\n",
      "(224607, 124)\n"
     ]
    },
    {
     "name": "stderr",
     "output_type": "stream",
     "text": [
      "[Parallel(n_jobs=4)]: Using backend ThreadingBackend with 4 concurrent workers.\n",
      "[Parallel(n_jobs=4)]: Done  42 tasks      | elapsed:   16.6s\n",
      "[Parallel(n_jobs=4)]: Done 100 out of 100 | elapsed:   37.8s finished\n",
      "[Parallel(n_jobs=4)]: Using backend ThreadingBackend with 4 concurrent workers.\n",
      "[Parallel(n_jobs=4)]: Done  42 tasks      | elapsed:    0.1s\n",
      "[Parallel(n_jobs=4)]: Done 100 out of 100 | elapsed:    0.1s finished\n"
     ]
    },
    {
     "name": "stdout",
     "output_type": "stream",
     "text": [
      "CV score: 0.62737 \n",
      "store_data/new_feat/cat_inter_3way_new/cat_inter_3way_9.csv\n",
      "==============================\n",
      "Memory usage of dataframe is 179.98 MB\n",
      "Memory usage after optimization is: 30.21 MB\n",
      "Decreased by 83.2%\n",
      "==============================\n",
      "(224607, 124)\n"
     ]
    },
    {
     "name": "stderr",
     "output_type": "stream",
     "text": [
      "[Parallel(n_jobs=4)]: Using backend ThreadingBackend with 4 concurrent workers.\n",
      "[Parallel(n_jobs=4)]: Done  42 tasks      | elapsed:   15.0s\n",
      "[Parallel(n_jobs=4)]: Done 100 out of 100 | elapsed:   34.5s finished\n",
      "[Parallel(n_jobs=4)]: Using backend ThreadingBackend with 4 concurrent workers.\n",
      "[Parallel(n_jobs=4)]: Done  42 tasks      | elapsed:    0.1s\n",
      "[Parallel(n_jobs=4)]: Done 100 out of 100 | elapsed:    0.2s finished\n"
     ]
    },
    {
     "name": "stdout",
     "output_type": "stream",
     "text": [
      "CV score: 0.62696 \n",
      "store_data/new_feat/cat_inter_3way_new/cat_inter_3way_82.csv\n",
      "==============================\n",
      "Memory usage of dataframe is 179.98 MB\n",
      "Memory usage after optimization is: 32.46 MB\n",
      "Decreased by 82.0%\n",
      "==============================\n",
      "(224607, 124)\n"
     ]
    },
    {
     "name": "stderr",
     "output_type": "stream",
     "text": [
      "[Parallel(n_jobs=4)]: Using backend ThreadingBackend with 4 concurrent workers.\n",
      "[Parallel(n_jobs=4)]: Done  42 tasks      | elapsed:   15.4s\n",
      "[Parallel(n_jobs=4)]: Done 100 out of 100 | elapsed:   35.0s finished\n",
      "[Parallel(n_jobs=4)]: Using backend ThreadingBackend with 4 concurrent workers.\n",
      "[Parallel(n_jobs=4)]: Done  42 tasks      | elapsed:    0.1s\n",
      "[Parallel(n_jobs=4)]: Done 100 out of 100 | elapsed:    0.1s finished\n"
     ]
    },
    {
     "name": "stdout",
     "output_type": "stream",
     "text": [
      "CV score: 0.62722 \n",
      "store_data/new_feat/cat_inter_3way_new/cat_inter_3way_90.csv\n",
      "==============================\n",
      "Memory usage of dataframe is 179.98 MB\n",
      "Memory usage after optimization is: 36.00 MB\n",
      "Decreased by 80.0%\n",
      "==============================\n",
      "(224607, 124)\n"
     ]
    },
    {
     "name": "stderr",
     "output_type": "stream",
     "text": [
      "[Parallel(n_jobs=4)]: Using backend ThreadingBackend with 4 concurrent workers.\n",
      "[Parallel(n_jobs=4)]: Done  42 tasks      | elapsed:   16.4s\n",
      "[Parallel(n_jobs=4)]: Done 100 out of 100 | elapsed:   37.8s finished\n",
      "[Parallel(n_jobs=4)]: Using backend ThreadingBackend with 4 concurrent workers.\n",
      "[Parallel(n_jobs=4)]: Done  42 tasks      | elapsed:    0.1s\n",
      "[Parallel(n_jobs=4)]: Done 100 out of 100 | elapsed:    0.1s finished\n"
     ]
    },
    {
     "name": "stdout",
     "output_type": "stream",
     "text": [
      "CV score: 0.62790 \n",
      "store_data/new_feat/cat_inter_3way_new/cat_inter_3way_18.csv\n",
      "==============================\n",
      "Memory usage of dataframe is 179.98 MB\n",
      "Memory usage after optimization is: 42.42 MB\n",
      "Decreased by 76.4%\n",
      "==============================\n",
      "(224607, 124)\n"
     ]
    },
    {
     "name": "stderr",
     "output_type": "stream",
     "text": [
      "[Parallel(n_jobs=4)]: Using backend ThreadingBackend with 4 concurrent workers.\n",
      "[Parallel(n_jobs=4)]: Done  42 tasks      | elapsed:   17.4s\n",
      "[Parallel(n_jobs=4)]: Done 100 out of 100 | elapsed:   40.2s finished\n",
      "[Parallel(n_jobs=4)]: Using backend ThreadingBackend with 4 concurrent workers.\n",
      "[Parallel(n_jobs=4)]: Done  42 tasks      | elapsed:    0.1s\n",
      "[Parallel(n_jobs=4)]: Done 100 out of 100 | elapsed:    0.2s finished\n"
     ]
    },
    {
     "name": "stdout",
     "output_type": "stream",
     "text": [
      "CV score: 0.62713 \n",
      "store_data/new_feat/cat_inter_3way_new/cat_inter_3way_95.csv\n",
      "==============================\n",
      "Memory usage of dataframe is 179.98 MB\n",
      "Memory usage after optimization is: 31.17 MB\n",
      "Decreased by 82.7%\n",
      "==============================\n",
      "(224607, 124)\n"
     ]
    },
    {
     "name": "stderr",
     "output_type": "stream",
     "text": [
      "[Parallel(n_jobs=4)]: Using backend ThreadingBackend with 4 concurrent workers.\n",
      "[Parallel(n_jobs=4)]: Done  42 tasks      | elapsed:   16.2s\n",
      "[Parallel(n_jobs=4)]: Done 100 out of 100 | elapsed:   36.8s finished\n",
      "[Parallel(n_jobs=4)]: Using backend ThreadingBackend with 4 concurrent workers.\n",
      "[Parallel(n_jobs=4)]: Done  42 tasks      | elapsed:    0.1s\n",
      "[Parallel(n_jobs=4)]: Done 100 out of 100 | elapsed:    0.1s finished\n"
     ]
    },
    {
     "name": "stdout",
     "output_type": "stream",
     "text": [
      "CV score: 0.62715 \n",
      "store_data/new_feat/cat_inter_3way_new/cat_inter_3way_60.csv\n",
      "==============================\n",
      "Memory usage of dataframe is 179.98 MB\n",
      "Memory usage after optimization is: 34.71 MB\n",
      "Decreased by 80.7%\n",
      "==============================\n",
      "(224607, 124)\n"
     ]
    },
    {
     "name": "stderr",
     "output_type": "stream",
     "text": [
      "[Parallel(n_jobs=4)]: Using backend ThreadingBackend with 4 concurrent workers.\n",
      "[Parallel(n_jobs=4)]: Done  42 tasks      | elapsed:   15.5s\n",
      "[Parallel(n_jobs=4)]: Done 100 out of 100 | elapsed:   35.3s finished\n",
      "[Parallel(n_jobs=4)]: Using backend ThreadingBackend with 4 concurrent workers.\n",
      "[Parallel(n_jobs=4)]: Done  42 tasks      | elapsed:    0.1s\n",
      "[Parallel(n_jobs=4)]: Done 100 out of 100 | elapsed:    0.1s finished\n"
     ]
    },
    {
     "name": "stdout",
     "output_type": "stream",
     "text": [
      "CV score: 0.62724 \n",
      "store_data/new_feat/cat_inter_3way_new/cat_inter_3way_92.csv\n",
      "==============================\n",
      "Memory usage of dataframe is 179.98 MB\n",
      "Memory usage after optimization is: 36.96 MB\n",
      "Decreased by 79.5%\n",
      "==============================\n",
      "(224607, 124)\n"
     ]
    },
    {
     "name": "stderr",
     "output_type": "stream",
     "text": [
      "[Parallel(n_jobs=4)]: Using backend ThreadingBackend with 4 concurrent workers.\n",
      "[Parallel(n_jobs=4)]: Done  42 tasks      | elapsed:   17.6s\n",
      "[Parallel(n_jobs=4)]: Done 100 out of 100 | elapsed:   39.8s finished\n",
      "[Parallel(n_jobs=4)]: Using backend ThreadingBackend with 4 concurrent workers.\n",
      "[Parallel(n_jobs=4)]: Done  42 tasks      | elapsed:    0.1s\n",
      "[Parallel(n_jobs=4)]: Done 100 out of 100 | elapsed:    0.2s finished\n"
     ]
    },
    {
     "name": "stdout",
     "output_type": "stream",
     "text": [
      "CV score: 0.62668 \n",
      "store_data/new_feat/cat_inter_3way_new/cat_inter_3way_80.csv\n",
      "==============================\n",
      "Memory usage of dataframe is 179.98 MB\n",
      "Memory usage after optimization is: 38.89 MB\n",
      "Decreased by 78.4%\n",
      "==============================\n",
      "(224607, 124)\n"
     ]
    },
    {
     "name": "stderr",
     "output_type": "stream",
     "text": [
      "[Parallel(n_jobs=4)]: Using backend ThreadingBackend with 4 concurrent workers.\n",
      "[Parallel(n_jobs=4)]: Done  42 tasks      | elapsed:   17.7s\n",
      "[Parallel(n_jobs=4)]: Done 100 out of 100 | elapsed:   40.6s finished\n",
      "[Parallel(n_jobs=4)]: Using backend ThreadingBackend with 4 concurrent workers.\n",
      "[Parallel(n_jobs=4)]: Done  42 tasks      | elapsed:    0.1s\n",
      "[Parallel(n_jobs=4)]: Done 100 out of 100 | elapsed:    0.2s finished\n"
     ]
    },
    {
     "name": "stdout",
     "output_type": "stream",
     "text": [
      "CV score: 0.62851 \n",
      "store_data/new_feat/cat_inter_3way_new/cat_inter_3way_69.csv\n",
      "==============================\n",
      "Memory usage of dataframe is 179.98 MB\n",
      "Memory usage after optimization is: 40.49 MB\n",
      "Decreased by 77.5%\n",
      "==============================\n",
      "(224607, 124)\n"
     ]
    },
    {
     "name": "stderr",
     "output_type": "stream",
     "text": [
      "[Parallel(n_jobs=4)]: Using backend ThreadingBackend with 4 concurrent workers.\n",
      "[Parallel(n_jobs=4)]: Done  42 tasks      | elapsed:   17.1s\n",
      "[Parallel(n_jobs=4)]: Done 100 out of 100 | elapsed:   39.4s finished\n",
      "[Parallel(n_jobs=4)]: Using backend ThreadingBackend with 4 concurrent workers.\n",
      "[Parallel(n_jobs=4)]: Done  42 tasks      | elapsed:    0.1s\n",
      "[Parallel(n_jobs=4)]: Done 100 out of 100 | elapsed:    0.1s finished\n"
     ]
    },
    {
     "name": "stdout",
     "output_type": "stream",
     "text": [
      "CV score: 0.62658 \n",
      "store_data/new_feat/cat_inter_3way_new/cat_inter_3way_66.csv\n",
      "==============================\n",
      "Memory usage of dataframe is 179.98 MB\n",
      "Memory usage after optimization is: 32.14 MB\n",
      "Decreased by 82.1%\n",
      "==============================\n",
      "(224607, 124)\n"
     ]
    },
    {
     "name": "stderr",
     "output_type": "stream",
     "text": [
      "[Parallel(n_jobs=4)]: Using backend ThreadingBackend with 4 concurrent workers.\n",
      "[Parallel(n_jobs=4)]: Done  42 tasks      | elapsed:   16.1s\n",
      "[Parallel(n_jobs=4)]: Done 100 out of 100 | elapsed:   36.5s finished\n",
      "[Parallel(n_jobs=4)]: Using backend ThreadingBackend with 4 concurrent workers.\n",
      "[Parallel(n_jobs=4)]: Done  42 tasks      | elapsed:    0.1s\n",
      "[Parallel(n_jobs=4)]: Done 100 out of 100 | elapsed:    0.2s finished\n"
     ]
    },
    {
     "name": "stdout",
     "output_type": "stream",
     "text": [
      "CV score: 0.62729 \n",
      "store_data/new_feat/cat_inter_3way_new/cat_inter_3way_48.csv\n",
      "==============================\n",
      "Memory usage of dataframe is 179.98 MB\n",
      "Memory usage after optimization is: 36.64 MB\n",
      "Decreased by 79.6%\n",
      "==============================\n",
      "(224607, 124)\n"
     ]
    },
    {
     "name": "stderr",
     "output_type": "stream",
     "text": [
      "[Parallel(n_jobs=4)]: Using backend ThreadingBackend with 4 concurrent workers.\n",
      "[Parallel(n_jobs=4)]: Done  42 tasks      | elapsed:   16.4s\n",
      "[Parallel(n_jobs=4)]: Done 100 out of 100 | elapsed:   37.0s finished\n",
      "[Parallel(n_jobs=4)]: Using backend ThreadingBackend with 4 concurrent workers.\n",
      "[Parallel(n_jobs=4)]: Done  42 tasks      | elapsed:    0.1s\n",
      "[Parallel(n_jobs=4)]: Done 100 out of 100 | elapsed:    0.1s finished\n"
     ]
    },
    {
     "name": "stdout",
     "output_type": "stream",
     "text": [
      "CV score: 0.62709 \n",
      "store_data/new_feat/cat_inter_3way_new/cat_inter_3way_41.csv\n",
      "==============================\n",
      "Memory usage of dataframe is 179.98 MB\n",
      "Memory usage after optimization is: 37.92 MB\n",
      "Decreased by 78.9%\n",
      "==============================\n",
      "(224607, 124)\n"
     ]
    },
    {
     "name": "stderr",
     "output_type": "stream",
     "text": [
      "[Parallel(n_jobs=4)]: Using backend ThreadingBackend with 4 concurrent workers.\n",
      "[Parallel(n_jobs=4)]: Done  42 tasks      | elapsed:   17.1s\n",
      "[Parallel(n_jobs=4)]: Done 100 out of 100 | elapsed:   39.3s finished\n",
      "[Parallel(n_jobs=4)]: Using backend ThreadingBackend with 4 concurrent workers.\n",
      "[Parallel(n_jobs=4)]: Done  42 tasks      | elapsed:    0.1s\n",
      "[Parallel(n_jobs=4)]: Done 100 out of 100 | elapsed:    0.1s finished\n"
     ]
    },
    {
     "name": "stdout",
     "output_type": "stream",
     "text": [
      "CV score: 0.62732 \n",
      "store_data/new_feat/cat_inter_3way_new/cat_inter_3way_54.csv\n",
      "==============================\n",
      "Memory usage of dataframe is 179.98 MB\n",
      "Memory usage after optimization is: 32.46 MB\n",
      "Decreased by 82.0%\n",
      "==============================\n",
      "(224607, 124)\n"
     ]
    },
    {
     "name": "stderr",
     "output_type": "stream",
     "text": [
      "[Parallel(n_jobs=4)]: Using backend ThreadingBackend with 4 concurrent workers.\n",
      "[Parallel(n_jobs=4)]: Done  42 tasks      | elapsed:   15.4s\n",
      "[Parallel(n_jobs=4)]: Done 100 out of 100 | elapsed:   34.9s finished\n",
      "[Parallel(n_jobs=4)]: Using backend ThreadingBackend with 4 concurrent workers.\n",
      "[Parallel(n_jobs=4)]: Done  42 tasks      | elapsed:    0.1s\n",
      "[Parallel(n_jobs=4)]: Done 100 out of 100 | elapsed:    0.1s finished\n"
     ]
    },
    {
     "name": "stdout",
     "output_type": "stream",
     "text": [
      "CV score: 0.62706 \n",
      "store_data/new_feat/cat_inter_3way_new/cat_inter_3way_71.csv\n",
      "==============================\n",
      "Memory usage of dataframe is 179.98 MB\n",
      "Memory usage after optimization is: 28.28 MB\n",
      "Decreased by 84.3%\n",
      "==============================\n",
      "(224607, 124)\n"
     ]
    },
    {
     "name": "stderr",
     "output_type": "stream",
     "text": [
      "[Parallel(n_jobs=4)]: Using backend ThreadingBackend with 4 concurrent workers.\n",
      "[Parallel(n_jobs=4)]: Done  42 tasks      | elapsed:   14.2s\n",
      "[Parallel(n_jobs=4)]: Done 100 out of 100 | elapsed:   32.6s finished\n",
      "[Parallel(n_jobs=4)]: Using backend ThreadingBackend with 4 concurrent workers.\n",
      "[Parallel(n_jobs=4)]: Done  42 tasks      | elapsed:    0.1s\n",
      "[Parallel(n_jobs=4)]: Done 100 out of 100 | elapsed:    0.2s finished\n"
     ]
    },
    {
     "name": "stdout",
     "output_type": "stream",
     "text": [
      "CV score: 0.62638 \n",
      "store_data/new_feat/cat_inter_3way_new/cat_inter_3way_63.csv\n",
      "==============================\n",
      "Memory usage of dataframe is 179.98 MB\n",
      "Memory usage after optimization is: 40.17 MB\n",
      "Decreased by 77.7%\n",
      "==============================\n",
      "(224607, 124)\n"
     ]
    },
    {
     "name": "stderr",
     "output_type": "stream",
     "text": [
      "[Parallel(n_jobs=4)]: Using backend ThreadingBackend with 4 concurrent workers.\n",
      "[Parallel(n_jobs=4)]: Done  42 tasks      | elapsed:   16.6s\n",
      "[Parallel(n_jobs=4)]: Done 100 out of 100 | elapsed:   38.2s finished\n",
      "[Parallel(n_jobs=4)]: Using backend ThreadingBackend with 4 concurrent workers.\n",
      "[Parallel(n_jobs=4)]: Done  42 tasks      | elapsed:    0.1s\n",
      "[Parallel(n_jobs=4)]: Done 100 out of 100 | elapsed:    0.2s finished\n"
     ]
    },
    {
     "name": "stdout",
     "output_type": "stream",
     "text": [
      "CV score: 0.62767 \n",
      "store_data/new_feat/cat_inter_3way_new/cat_inter_3way_51.csv\n",
      "==============================\n",
      "Memory usage of dataframe is 179.98 MB\n",
      "Memory usage after optimization is: 34.39 MB\n",
      "Decreased by 80.9%\n",
      "==============================\n",
      "(224607, 124)\n"
     ]
    },
    {
     "name": "stderr",
     "output_type": "stream",
     "text": [
      "[Parallel(n_jobs=4)]: Using backend ThreadingBackend with 4 concurrent workers.\n",
      "[Parallel(n_jobs=4)]: Done  42 tasks      | elapsed:   16.6s\n",
      "[Parallel(n_jobs=4)]: Done 100 out of 100 | elapsed:   38.1s finished\n",
      "[Parallel(n_jobs=4)]: Using backend ThreadingBackend with 4 concurrent workers.\n",
      "[Parallel(n_jobs=4)]: Done  42 tasks      | elapsed:    0.1s\n",
      "[Parallel(n_jobs=4)]: Done 100 out of 100 | elapsed:    0.1s finished\n"
     ]
    },
    {
     "name": "stdout",
     "output_type": "stream",
     "text": [
      "CV score: 0.62775 \n",
      "store_data/new_feat/cat_inter_3way_new/cat_inter_3way_40.csv\n",
      "==============================\n",
      "Memory usage of dataframe is 179.98 MB\n",
      "Memory usage after optimization is: 32.14 MB\n",
      "Decreased by 82.1%\n",
      "==============================\n",
      "(224607, 124)\n"
     ]
    },
    {
     "name": "stderr",
     "output_type": "stream",
     "text": [
      "[Parallel(n_jobs=4)]: Using backend ThreadingBackend with 4 concurrent workers.\n",
      "[Parallel(n_jobs=4)]: Done  42 tasks      | elapsed:   17.2s\n",
      "[Parallel(n_jobs=4)]: Done 100 out of 100 | elapsed:   39.5s finished\n",
      "[Parallel(n_jobs=4)]: Using backend ThreadingBackend with 4 concurrent workers.\n",
      "[Parallel(n_jobs=4)]: Done  42 tasks      | elapsed:    0.1s\n",
      "[Parallel(n_jobs=4)]: Done 100 out of 100 | elapsed:    0.1s finished\n"
     ]
    },
    {
     "name": "stdout",
     "output_type": "stream",
     "text": [
      "CV score: 0.62749 \n",
      "store_data/new_feat/cat_inter_3way_new/cat_inter_3way_26.csv\n",
      "==============================\n",
      "Memory usage of dataframe is 179.98 MB\n",
      "Memory usage after optimization is: 30.85 MB\n",
      "Decreased by 82.9%\n",
      "==============================\n",
      "(224607, 124)\n"
     ]
    },
    {
     "name": "stderr",
     "output_type": "stream",
     "text": [
      "[Parallel(n_jobs=4)]: Using backend ThreadingBackend with 4 concurrent workers.\n",
      "[Parallel(n_jobs=4)]: Done  42 tasks      | elapsed:   14.4s\n",
      "[Parallel(n_jobs=4)]: Done 100 out of 100 | elapsed:   33.0s finished\n",
      "[Parallel(n_jobs=4)]: Using backend ThreadingBackend with 4 concurrent workers.\n",
      "[Parallel(n_jobs=4)]: Done  42 tasks      | elapsed:    0.1s\n",
      "[Parallel(n_jobs=4)]: Done 100 out of 100 | elapsed:    0.2s finished\n"
     ]
    },
    {
     "name": "stdout",
     "output_type": "stream",
     "text": [
      "CV score: 0.62770 \n",
      "store_data/new_feat/cat_inter_3way_new/cat_inter_3way_14.csv\n",
      "==============================\n",
      "Memory usage of dataframe is 179.98 MB\n",
      "Memory usage after optimization is: 35.03 MB\n",
      "Decreased by 80.5%\n",
      "==============================\n",
      "(224607, 124)\n"
     ]
    },
    {
     "name": "stderr",
     "output_type": "stream",
     "text": [
      "[Parallel(n_jobs=4)]: Using backend ThreadingBackend with 4 concurrent workers.\n",
      "[Parallel(n_jobs=4)]: Done  42 tasks      | elapsed:   17.3s\n",
      "[Parallel(n_jobs=4)]: Done 100 out of 100 | elapsed:   40.1s finished\n",
      "[Parallel(n_jobs=4)]: Using backend ThreadingBackend with 4 concurrent workers.\n",
      "[Parallel(n_jobs=4)]: Done  42 tasks      | elapsed:    0.1s\n",
      "[Parallel(n_jobs=4)]: Done 100 out of 100 | elapsed:    0.1s finished\n"
     ]
    },
    {
     "name": "stdout",
     "output_type": "stream",
     "text": [
      "CV score: 0.62665 \n",
      "store_data/new_feat/cat_inter_3way_new/cat_inter_3way_75.csv\n",
      "==============================\n",
      "Memory usage of dataframe is 179.98 MB\n",
      "Memory usage after optimization is: 39.21 MB\n",
      "Decreased by 78.2%\n",
      "==============================\n",
      "(224607, 124)\n"
     ]
    },
    {
     "name": "stderr",
     "output_type": "stream",
     "text": [
      "[Parallel(n_jobs=4)]: Using backend ThreadingBackend with 4 concurrent workers.\n",
      "[Parallel(n_jobs=4)]: Done  42 tasks      | elapsed:   18.9s\n",
      "[Parallel(n_jobs=4)]: Done 100 out of 100 | elapsed:   42.9s finished\n",
      "[Parallel(n_jobs=4)]: Using backend ThreadingBackend with 4 concurrent workers.\n",
      "[Parallel(n_jobs=4)]: Done  42 tasks      | elapsed:    0.1s\n",
      "[Parallel(n_jobs=4)]: Done 100 out of 100 | elapsed:    0.2s finished\n"
     ]
    },
    {
     "name": "stdout",
     "output_type": "stream",
     "text": [
      "CV score: 0.62826 \n",
      "store_data/new_feat/cat_inter_3way_new/cat_inter_3way_43.csv\n",
      "==============================\n",
      "Memory usage of dataframe is 179.98 MB\n",
      "Memory usage after optimization is: 40.17 MB\n",
      "Decreased by 77.7%\n",
      "==============================\n",
      "(224607, 124)\n"
     ]
    },
    {
     "name": "stderr",
     "output_type": "stream",
     "text": [
      "[Parallel(n_jobs=4)]: Using backend ThreadingBackend with 4 concurrent workers.\n",
      "[Parallel(n_jobs=4)]: Done  42 tasks      | elapsed:   17.2s\n",
      "[Parallel(n_jobs=4)]: Done 100 out of 100 | elapsed:   38.9s finished\n",
      "[Parallel(n_jobs=4)]: Using backend ThreadingBackend with 4 concurrent workers.\n",
      "[Parallel(n_jobs=4)]: Done  42 tasks      | elapsed:    0.1s\n",
      "[Parallel(n_jobs=4)]: Done 100 out of 100 | elapsed:    0.1s finished\n"
     ]
    },
    {
     "name": "stdout",
     "output_type": "stream",
     "text": [
      "CV score: 0.62606 \n",
      "store_data/new_feat/cat_inter_3way_new/cat_inter_3way_15.csv\n",
      "==============================\n",
      "Memory usage of dataframe is 179.98 MB\n",
      "Memory usage after optimization is: 42.42 MB\n",
      "Decreased by 76.4%\n",
      "==============================\n",
      "(224607, 124)\n"
     ]
    },
    {
     "name": "stderr",
     "output_type": "stream",
     "text": [
      "[Parallel(n_jobs=4)]: Using backend ThreadingBackend with 4 concurrent workers.\n",
      "[Parallel(n_jobs=4)]: Done  42 tasks      | elapsed:   17.8s\n",
      "[Parallel(n_jobs=4)]: Done 100 out of 100 | elapsed:   41.1s finished\n",
      "[Parallel(n_jobs=4)]: Using backend ThreadingBackend with 4 concurrent workers.\n",
      "[Parallel(n_jobs=4)]: Done  42 tasks      | elapsed:    0.1s\n",
      "[Parallel(n_jobs=4)]: Done 100 out of 100 | elapsed:    0.1s finished\n"
     ]
    },
    {
     "name": "stdout",
     "output_type": "stream",
     "text": [
      "CV score: 0.62714 \n",
      "store_data/new_feat/cat_inter_3way_new/cat_inter_3way_88.csv\n",
      "==============================\n",
      "Memory usage of dataframe is 179.98 MB\n",
      "Memory usage after optimization is: 41.46 MB\n",
      "Decreased by 77.0%\n",
      "==============================\n",
      "(224607, 124)\n"
     ]
    },
    {
     "name": "stderr",
     "output_type": "stream",
     "text": [
      "[Parallel(n_jobs=4)]: Using backend ThreadingBackend with 4 concurrent workers.\n",
      "[Parallel(n_jobs=4)]: Done  42 tasks      | elapsed:   14.3s\n",
      "[Parallel(n_jobs=4)]: Done 100 out of 100 | elapsed:   33.5s finished\n",
      "[Parallel(n_jobs=4)]: Using backend ThreadingBackend with 4 concurrent workers.\n",
      "[Parallel(n_jobs=4)]: Done  42 tasks      | elapsed:    0.1s\n",
      "[Parallel(n_jobs=4)]: Done 100 out of 100 | elapsed:    0.1s finished\n"
     ]
    },
    {
     "name": "stdout",
     "output_type": "stream",
     "text": [
      "CV score: 0.62789 \n",
      "store_data/new_feat/cat_inter_3way_new/cat_inter_3way_98.csv\n",
      "==============================\n",
      "Memory usage of dataframe is 179.98 MB\n",
      "Memory usage after optimization is: 35.03 MB\n",
      "Decreased by 80.5%\n",
      "==============================\n",
      "(224607, 124)\n"
     ]
    },
    {
     "name": "stderr",
     "output_type": "stream",
     "text": [
      "[Parallel(n_jobs=4)]: Using backend ThreadingBackend with 4 concurrent workers.\n",
      "[Parallel(n_jobs=4)]: Done  42 tasks      | elapsed:   16.4s\n",
      "[Parallel(n_jobs=4)]: Done 100 out of 100 | elapsed:   37.3s finished\n",
      "[Parallel(n_jobs=4)]: Using backend ThreadingBackend with 4 concurrent workers.\n",
      "[Parallel(n_jobs=4)]: Done  42 tasks      | elapsed:    0.1s\n",
      "[Parallel(n_jobs=4)]: Done 100 out of 100 | elapsed:    0.2s finished\n"
     ]
    },
    {
     "name": "stdout",
     "output_type": "stream",
     "text": [
      "CV score: 0.62764 \n",
      "store_data/new_feat/cat_inter_3way_new/cat_inter_3way_49.csv\n",
      "==============================\n",
      "Memory usage of dataframe is 179.98 MB\n",
      "Memory usage after optimization is: 37.92 MB\n",
      "Decreased by 78.9%\n",
      "==============================\n",
      "(224607, 124)\n"
     ]
    },
    {
     "name": "stderr",
     "output_type": "stream",
     "text": [
      "[Parallel(n_jobs=4)]: Using backend ThreadingBackend with 4 concurrent workers.\n",
      "[Parallel(n_jobs=4)]: Done  42 tasks      | elapsed:   18.1s\n",
      "[Parallel(n_jobs=4)]: Done 100 out of 100 | elapsed:   41.0s finished\n",
      "[Parallel(n_jobs=4)]: Using backend ThreadingBackend with 4 concurrent workers.\n",
      "[Parallel(n_jobs=4)]: Done  42 tasks      | elapsed:    0.1s\n",
      "[Parallel(n_jobs=4)]: Done 100 out of 100 | elapsed:    0.2s finished\n"
     ]
    },
    {
     "name": "stdout",
     "output_type": "stream",
     "text": [
      "CV score: 0.62703 \n",
      "store_data/new_feat/cat_inter_3way_new/cat_inter_3way_6.csv\n",
      "==============================\n",
      "Memory usage of dataframe is 179.98 MB\n",
      "Memory usage after optimization is: 34.39 MB\n",
      "Decreased by 80.9%\n",
      "==============================\n",
      "(224607, 124)\n"
     ]
    },
    {
     "name": "stderr",
     "output_type": "stream",
     "text": [
      "[Parallel(n_jobs=4)]: Using backend ThreadingBackend with 4 concurrent workers.\n",
      "[Parallel(n_jobs=4)]: Done  42 tasks      | elapsed:   16.0s\n",
      "[Parallel(n_jobs=4)]: Done 100 out of 100 | elapsed:   37.1s finished\n",
      "[Parallel(n_jobs=4)]: Using backend ThreadingBackend with 4 concurrent workers.\n",
      "[Parallel(n_jobs=4)]: Done  42 tasks      | elapsed:    0.1s\n",
      "[Parallel(n_jobs=4)]: Done 100 out of 100 | elapsed:    0.2s finished\n"
     ]
    },
    {
     "name": "stdout",
     "output_type": "stream",
     "text": [
      "CV score: 0.62713 \n",
      "store_data/new_feat/cat_inter_3way_new/cat_inter_3way_94.csv\n",
      "==============================\n",
      "Memory usage of dataframe is 179.98 MB\n",
      "Memory usage after optimization is: 37.28 MB\n",
      "Decreased by 79.3%\n",
      "==============================\n",
      "(224607, 124)\n"
     ]
    },
    {
     "name": "stderr",
     "output_type": "stream",
     "text": [
      "[Parallel(n_jobs=4)]: Using backend ThreadingBackend with 4 concurrent workers.\n",
      "[Parallel(n_jobs=4)]: Done  42 tasks      | elapsed:   18.2s\n",
      "[Parallel(n_jobs=4)]: Done 100 out of 100 | elapsed:   41.6s finished\n",
      "[Parallel(n_jobs=4)]: Using backend ThreadingBackend with 4 concurrent workers.\n",
      "[Parallel(n_jobs=4)]: Done  42 tasks      | elapsed:    0.1s\n",
      "[Parallel(n_jobs=4)]: Done 100 out of 100 | elapsed:    0.1s finished\n"
     ]
    },
    {
     "name": "stdout",
     "output_type": "stream",
     "text": [
      "CV score: 0.62761 \n",
      "store_data/new_feat/cat_inter_3way_new/cat_inter_3way_100.csv\n",
      "==============================\n",
      "Memory usage of dataframe is 179.98 MB\n",
      "Memory usage after optimization is: 31.50 MB\n",
      "Decreased by 82.5%\n",
      "==============================\n",
      "(224607, 124)\n"
     ]
    },
    {
     "name": "stderr",
     "output_type": "stream",
     "text": [
      "[Parallel(n_jobs=4)]: Using backend ThreadingBackend with 4 concurrent workers.\n",
      "[Parallel(n_jobs=4)]: Done  42 tasks      | elapsed:   16.3s\n",
      "[Parallel(n_jobs=4)]: Done 100 out of 100 | elapsed:   37.1s finished\n",
      "[Parallel(n_jobs=4)]: Using backend ThreadingBackend with 4 concurrent workers.\n",
      "[Parallel(n_jobs=4)]: Done  42 tasks      | elapsed:    0.1s\n",
      "[Parallel(n_jobs=4)]: Done 100 out of 100 | elapsed:    0.1s finished\n"
     ]
    },
    {
     "name": "stdout",
     "output_type": "stream",
     "text": [
      "CV score: 0.62686 \n",
      "store_data/new_feat/cat_inter_3way_new/cat_inter_3way_87.csv\n",
      "==============================\n",
      "Memory usage of dataframe is 179.98 MB\n",
      "Memory usage after optimization is: 40.17 MB\n",
      "Decreased by 77.7%\n",
      "==============================\n",
      "(224607, 124)\n"
     ]
    },
    {
     "name": "stderr",
     "output_type": "stream",
     "text": [
      "[Parallel(n_jobs=4)]: Using backend ThreadingBackend with 4 concurrent workers.\n",
      "[Parallel(n_jobs=4)]: Done  42 tasks      | elapsed:   17.3s\n",
      "[Parallel(n_jobs=4)]: Done 100 out of 100 | elapsed:   39.7s finished\n",
      "[Parallel(n_jobs=4)]: Using backend ThreadingBackend with 4 concurrent workers.\n",
      "[Parallel(n_jobs=4)]: Done  42 tasks      | elapsed:    0.1s\n",
      "[Parallel(n_jobs=4)]: Done 100 out of 100 | elapsed:    0.1s finished\n"
     ]
    },
    {
     "name": "stdout",
     "output_type": "stream",
     "text": [
      "CV score: 0.62724 \n",
      "store_data/new_feat/cat_inter_3way_new/cat_inter_3way_27.csv\n",
      "==============================\n",
      "Memory usage of dataframe is 179.98 MB\n",
      "Memory usage after optimization is: 32.14 MB\n",
      "Decreased by 82.1%\n",
      "==============================\n",
      "(224607, 124)\n"
     ]
    },
    {
     "name": "stderr",
     "output_type": "stream",
     "text": [
      "[Parallel(n_jobs=4)]: Using backend ThreadingBackend with 4 concurrent workers.\n",
      "[Parallel(n_jobs=4)]: Done  42 tasks      | elapsed:   16.2s\n",
      "[Parallel(n_jobs=4)]: Done 100 out of 100 | elapsed:   36.8s finished\n",
      "[Parallel(n_jobs=4)]: Using backend ThreadingBackend with 4 concurrent workers.\n",
      "[Parallel(n_jobs=4)]: Done  42 tasks      | elapsed:    0.1s\n",
      "[Parallel(n_jobs=4)]: Done 100 out of 100 | elapsed:    0.1s finished\n"
     ]
    },
    {
     "name": "stdout",
     "output_type": "stream",
     "text": [
      "CV score: 0.62797 \n",
      "store_data/new_feat/cat_inter_3way_new/cat_inter_3way_55.csv\n",
      "==============================\n",
      "Memory usage of dataframe is 179.98 MB\n",
      "Memory usage after optimization is: 33.42 MB\n",
      "Decreased by 81.4%\n",
      "==============================\n",
      "(224607, 124)\n"
     ]
    },
    {
     "name": "stderr",
     "output_type": "stream",
     "text": [
      "[Parallel(n_jobs=4)]: Using backend ThreadingBackend with 4 concurrent workers.\n",
      "[Parallel(n_jobs=4)]: Done  42 tasks      | elapsed:   16.1s\n",
      "[Parallel(n_jobs=4)]: Done 100 out of 100 | elapsed:   36.5s finished\n",
      "[Parallel(n_jobs=4)]: Using backend ThreadingBackend with 4 concurrent workers.\n",
      "[Parallel(n_jobs=4)]: Done  42 tasks      | elapsed:    0.1s\n",
      "[Parallel(n_jobs=4)]: Done 100 out of 100 | elapsed:    0.2s finished\n"
     ]
    },
    {
     "name": "stdout",
     "output_type": "stream",
     "text": [
      "CV score: 0.62777 \n",
      "store_data/new_feat/cat_inter_3way_new/cat_inter_3way_28.csv\n",
      "==============================\n",
      "Memory usage of dataframe is 179.98 MB\n",
      "Memory usage after optimization is: 28.60 MB\n",
      "Decreased by 84.1%\n",
      "==============================\n",
      "(224607, 124)\n"
     ]
    },
    {
     "name": "stderr",
     "output_type": "stream",
     "text": [
      "[Parallel(n_jobs=4)]: Using backend ThreadingBackend with 4 concurrent workers.\n",
      "[Parallel(n_jobs=4)]: Done  42 tasks      | elapsed:   15.6s\n",
      "[Parallel(n_jobs=4)]: Done 100 out of 100 | elapsed:   35.8s finished\n",
      "[Parallel(n_jobs=4)]: Using backend ThreadingBackend with 4 concurrent workers.\n",
      "[Parallel(n_jobs=4)]: Done  42 tasks      | elapsed:    0.1s\n",
      "[Parallel(n_jobs=4)]: Done 100 out of 100 | elapsed:    0.1s finished\n"
     ]
    },
    {
     "name": "stdout",
     "output_type": "stream",
     "text": [
      "CV score: 0.62674 \n",
      "store_data/new_feat/cat_inter_3way_new/cat_inter_3way_5.csv\n",
      "==============================\n",
      "Memory usage of dataframe is 179.98 MB\n",
      "Memory usage after optimization is: 33.10 MB\n",
      "Decreased by 81.6%\n",
      "==============================\n",
      "(224607, 124)\n"
     ]
    },
    {
     "name": "stderr",
     "output_type": "stream",
     "text": [
      "[Parallel(n_jobs=4)]: Using backend ThreadingBackend with 4 concurrent workers.\n",
      "[Parallel(n_jobs=4)]: Done  42 tasks      | elapsed:   15.9s\n",
      "[Parallel(n_jobs=4)]: Done 100 out of 100 | elapsed:   36.5s finished\n",
      "[Parallel(n_jobs=4)]: Using backend ThreadingBackend with 4 concurrent workers.\n",
      "[Parallel(n_jobs=4)]: Done  42 tasks      | elapsed:    0.1s\n",
      "[Parallel(n_jobs=4)]: Done 100 out of 100 | elapsed:    0.2s finished\n"
     ]
    },
    {
     "name": "stdout",
     "output_type": "stream",
     "text": [
      "CV score: 0.62647 \n",
      "store_data/new_feat/cat_inter_3way_new/cat_inter_3way_2.csv\n",
      "==============================\n",
      "Memory usage of dataframe is 179.98 MB\n",
      "Memory usage after optimization is: 38.25 MB\n",
      "Decreased by 78.7%\n",
      "==============================\n",
      "(224607, 124)\n"
     ]
    },
    {
     "name": "stderr",
     "output_type": "stream",
     "text": [
      "[Parallel(n_jobs=4)]: Using backend ThreadingBackend with 4 concurrent workers.\n",
      "[Parallel(n_jobs=4)]: Done  42 tasks      | elapsed:   17.0s\n",
      "[Parallel(n_jobs=4)]: Done 100 out of 100 | elapsed:   38.9s finished\n",
      "[Parallel(n_jobs=4)]: Using backend ThreadingBackend with 4 concurrent workers.\n",
      "[Parallel(n_jobs=4)]: Done  42 tasks      | elapsed:    0.1s\n",
      "[Parallel(n_jobs=4)]: Done 100 out of 100 | elapsed:    0.1s finished\n"
     ]
    },
    {
     "name": "stdout",
     "output_type": "stream",
     "text": [
      "CV score: 0.62764 \n",
      "store_data/new_feat/cat_inter_3way_new/cat_inter_3way_77.csv\n",
      "==============================\n",
      "Memory usage of dataframe is 179.98 MB\n",
      "Memory usage after optimization is: 39.85 MB\n",
      "Decreased by 77.9%\n",
      "==============================\n",
      "(224607, 124)\n"
     ]
    },
    {
     "name": "stderr",
     "output_type": "stream",
     "text": [
      "[Parallel(n_jobs=4)]: Using backend ThreadingBackend with 4 concurrent workers.\n",
      "[Parallel(n_jobs=4)]: Done  42 tasks      | elapsed:   17.8s\n",
      "[Parallel(n_jobs=4)]: Done 100 out of 100 | elapsed:   40.5s finished\n",
      "[Parallel(n_jobs=4)]: Using backend ThreadingBackend with 4 concurrent workers.\n",
      "[Parallel(n_jobs=4)]: Done  42 tasks      | elapsed:    0.1s\n",
      "[Parallel(n_jobs=4)]: Done 100 out of 100 | elapsed:    0.1s finished\n"
     ]
    },
    {
     "name": "stdout",
     "output_type": "stream",
     "text": [
      "CV score: 0.62819 \n",
      "store_data/new_feat/cat_inter_3way_new/cat_inter_3way_0.csv\n",
      "==============================\n",
      "Memory usage of dataframe is 179.98 MB\n",
      "Memory usage after optimization is: 33.10 MB\n",
      "Decreased by 81.6%\n",
      "==============================\n",
      "(224607, 124)\n"
     ]
    },
    {
     "name": "stderr",
     "output_type": "stream",
     "text": [
      "[Parallel(n_jobs=4)]: Using backend ThreadingBackend with 4 concurrent workers.\n",
      "[Parallel(n_jobs=4)]: Done  42 tasks      | elapsed:   15.5s\n",
      "[Parallel(n_jobs=4)]: Done 100 out of 100 | elapsed:   36.2s finished\n",
      "[Parallel(n_jobs=4)]: Using backend ThreadingBackend with 4 concurrent workers.\n",
      "[Parallel(n_jobs=4)]: Done  42 tasks      | elapsed:    0.1s\n",
      "[Parallel(n_jobs=4)]: Done 100 out of 100 | elapsed:    0.2s finished\n"
     ]
    },
    {
     "name": "stdout",
     "output_type": "stream",
     "text": [
      "CV score: 0.62728 \n",
      "store_data/new_feat/cat_inter_3way_new/cat_inter_3way_57.csv\n",
      "==============================\n",
      "Memory usage of dataframe is 179.98 MB\n",
      "Memory usage after optimization is: 35.67 MB\n",
      "Decreased by 80.2%\n",
      "==============================\n",
      "(224607, 124)\n"
     ]
    },
    {
     "name": "stderr",
     "output_type": "stream",
     "text": [
      "[Parallel(n_jobs=4)]: Using backend ThreadingBackend with 4 concurrent workers.\n",
      "[Parallel(n_jobs=4)]: Done  42 tasks      | elapsed:   16.1s\n",
      "[Parallel(n_jobs=4)]: Done 100 out of 100 | elapsed:   36.8s finished\n",
      "[Parallel(n_jobs=4)]: Using backend ThreadingBackend with 4 concurrent workers.\n",
      "[Parallel(n_jobs=4)]: Done  42 tasks      | elapsed:    0.1s\n",
      "[Parallel(n_jobs=4)]: Done 100 out of 100 | elapsed:    0.1s finished\n"
     ]
    },
    {
     "name": "stdout",
     "output_type": "stream",
     "text": [
      "CV score: 0.62707 \n",
      "store_data/new_feat/cat_inter_3way_new/cat_inter_3way_3.csv\n",
      "==============================\n",
      "Memory usage of dataframe is 179.98 MB\n",
      "Memory usage after optimization is: 38.57 MB\n",
      "Decreased by 78.6%\n",
      "==============================\n",
      "(224607, 124)\n"
     ]
    },
    {
     "name": "stderr",
     "output_type": "stream",
     "text": [
      "[Parallel(n_jobs=4)]: Using backend ThreadingBackend with 4 concurrent workers.\n",
      "[Parallel(n_jobs=4)]: Done  42 tasks      | elapsed:   15.9s\n",
      "[Parallel(n_jobs=4)]: Done 100 out of 100 | elapsed:   36.8s finished\n",
      "[Parallel(n_jobs=4)]: Using backend ThreadingBackend with 4 concurrent workers.\n",
      "[Parallel(n_jobs=4)]: Done  42 tasks      | elapsed:    0.1s\n",
      "[Parallel(n_jobs=4)]: Done 100 out of 100 | elapsed:    0.1s finished\n"
     ]
    },
    {
     "name": "stdout",
     "output_type": "stream",
     "text": [
      "CV score: 0.62823 \n",
      "store_data/new_feat/cat_inter_3way_new/cat_inter_3way_99.csv\n",
      "==============================\n",
      "Memory usage of dataframe is 179.98 MB\n",
      "Memory usage after optimization is: 37.92 MB\n",
      "Decreased by 78.9%\n",
      "==============================\n",
      "(224607, 124)\n"
     ]
    },
    {
     "name": "stderr",
     "output_type": "stream",
     "text": [
      "[Parallel(n_jobs=4)]: Using backend ThreadingBackend with 4 concurrent workers.\n",
      "[Parallel(n_jobs=4)]: Done  42 tasks      | elapsed:   16.8s\n",
      "[Parallel(n_jobs=4)]: Done 100 out of 100 | elapsed:   38.2s finished\n",
      "[Parallel(n_jobs=4)]: Using backend ThreadingBackend with 4 concurrent workers.\n",
      "[Parallel(n_jobs=4)]: Done  42 tasks      | elapsed:    0.1s\n",
      "[Parallel(n_jobs=4)]: Done 100 out of 100 | elapsed:    0.2s finished\n"
     ]
    },
    {
     "name": "stdout",
     "output_type": "stream",
     "text": [
      "CV score: 0.62625 \n",
      "store_data/new_feat/cat_inter_3way_new/cat_inter_3way_97.csv\n",
      "==============================\n",
      "Memory usage of dataframe is 179.98 MB\n",
      "Memory usage after optimization is: 33.75 MB\n",
      "Decreased by 81.2%\n",
      "==============================\n",
      "(224607, 124)\n"
     ]
    },
    {
     "name": "stderr",
     "output_type": "stream",
     "text": [
      "[Parallel(n_jobs=4)]: Using backend ThreadingBackend with 4 concurrent workers.\n",
      "[Parallel(n_jobs=4)]: Done  42 tasks      | elapsed:   15.6s\n",
      "[Parallel(n_jobs=4)]: Done 100 out of 100 | elapsed:   35.6s finished\n",
      "[Parallel(n_jobs=4)]: Using backend ThreadingBackend with 4 concurrent workers.\n",
      "[Parallel(n_jobs=4)]: Done  42 tasks      | elapsed:    0.1s\n",
      "[Parallel(n_jobs=4)]: Done 100 out of 100 | elapsed:    0.1s finished\n"
     ]
    },
    {
     "name": "stdout",
     "output_type": "stream",
     "text": [
      "CV score: 0.62762 \n",
      "store_data/new_feat/cat_inter_3way_new/cat_inter_3way_85.csv\n",
      "==============================\n",
      "Memory usage of dataframe is 179.98 MB\n",
      "Memory usage after optimization is: 35.03 MB\n",
      "Decreased by 80.5%\n",
      "==============================\n",
      "(224607, 124)\n"
     ]
    },
    {
     "name": "stderr",
     "output_type": "stream",
     "text": [
      "[Parallel(n_jobs=4)]: Using backend ThreadingBackend with 4 concurrent workers.\n",
      "[Parallel(n_jobs=4)]: Done  42 tasks      | elapsed:   16.6s\n",
      "[Parallel(n_jobs=4)]: Done 100 out of 100 | elapsed:   37.8s finished\n",
      "[Parallel(n_jobs=4)]: Using backend ThreadingBackend with 4 concurrent workers.\n",
      "[Parallel(n_jobs=4)]: Done  42 tasks      | elapsed:    0.1s\n",
      "[Parallel(n_jobs=4)]: Done 100 out of 100 | elapsed:    0.2s finished\n"
     ]
    },
    {
     "name": "stdout",
     "output_type": "stream",
     "text": [
      "CV score: 0.62757 \n",
      "store_data/new_feat/cat_inter_3way_new/cat_inter_3way_22.csv\n",
      "==============================\n",
      "Memory usage of dataframe is 179.98 MB\n",
      "Memory usage after optimization is: 35.03 MB\n",
      "Decreased by 80.5%\n",
      "==============================\n",
      "(224607, 124)\n"
     ]
    },
    {
     "name": "stderr",
     "output_type": "stream",
     "text": [
      "[Parallel(n_jobs=4)]: Using backend ThreadingBackend with 4 concurrent workers.\n",
      "[Parallel(n_jobs=4)]: Done  42 tasks      | elapsed:   16.1s\n",
      "[Parallel(n_jobs=4)]: Done 100 out of 100 | elapsed:   37.0s finished\n",
      "[Parallel(n_jobs=4)]: Using backend ThreadingBackend with 4 concurrent workers.\n",
      "[Parallel(n_jobs=4)]: Done  42 tasks      | elapsed:    0.1s\n",
      "[Parallel(n_jobs=4)]: Done 100 out of 100 | elapsed:    0.1s finished\n"
     ]
    },
    {
     "name": "stdout",
     "output_type": "stream",
     "text": [
      "CV score: 0.62683 \n",
      "store_data/new_feat/cat_inter_3way_new/cat_inter_3way_45.csv\n",
      "==============================\n",
      "Memory usage of dataframe is 179.98 MB\n",
      "Memory usage after optimization is: 36.00 MB\n",
      "Decreased by 80.0%\n",
      "==============================\n",
      "(224607, 124)\n"
     ]
    },
    {
     "name": "stderr",
     "output_type": "stream",
     "text": [
      "[Parallel(n_jobs=4)]: Using backend ThreadingBackend with 4 concurrent workers.\n",
      "[Parallel(n_jobs=4)]: Done  42 tasks      | elapsed:   16.2s\n",
      "[Parallel(n_jobs=4)]: Done 100 out of 100 | elapsed:   37.3s finished\n",
      "[Parallel(n_jobs=4)]: Using backend ThreadingBackend with 4 concurrent workers.\n",
      "[Parallel(n_jobs=4)]: Done  42 tasks      | elapsed:    0.1s\n",
      "[Parallel(n_jobs=4)]: Done 100 out of 100 | elapsed:    0.1s finished\n"
     ]
    },
    {
     "name": "stdout",
     "output_type": "stream",
     "text": [
      "CV score: 0.62777 \n",
      "store_data/new_feat/cat_inter_3way_new/cat_inter_3way_34.csv\n",
      "==============================\n",
      "Memory usage of dataframe is 179.98 MB\n",
      "Memory usage after optimization is: 33.42 MB\n",
      "Decreased by 81.4%\n",
      "==============================\n",
      "(224607, 124)\n"
     ]
    },
    {
     "name": "stderr",
     "output_type": "stream",
     "text": [
      "[Parallel(n_jobs=4)]: Using backend ThreadingBackend with 4 concurrent workers.\n",
      "[Parallel(n_jobs=4)]: Done  42 tasks      | elapsed:   16.8s\n",
      "[Parallel(n_jobs=4)]: Done 100 out of 100 | elapsed:   38.2s finished\n",
      "[Parallel(n_jobs=4)]: Using backend ThreadingBackend with 4 concurrent workers.\n",
      "[Parallel(n_jobs=4)]: Done  42 tasks      | elapsed:    0.1s\n",
      "[Parallel(n_jobs=4)]: Done 100 out of 100 | elapsed:    0.1s finished\n"
     ]
    },
    {
     "name": "stdout",
     "output_type": "stream",
     "text": [
      "CV score: 0.62712 \n",
      "store_data/new_feat/cat_inter_3way_new/cat_inter_3way_1.csv\n",
      "==============================\n",
      "Memory usage of dataframe is 179.98 MB\n",
      "Memory usage after optimization is: 37.28 MB\n",
      "Decreased by 79.3%\n",
      "==============================\n",
      "(224607, 124)\n"
     ]
    },
    {
     "name": "stderr",
     "output_type": "stream",
     "text": [
      "[Parallel(n_jobs=4)]: Using backend ThreadingBackend with 4 concurrent workers.\n",
      "[Parallel(n_jobs=4)]: Done  42 tasks      | elapsed:   16.7s\n",
      "[Parallel(n_jobs=4)]: Done 100 out of 100 | elapsed:   38.5s finished\n",
      "[Parallel(n_jobs=4)]: Using backend ThreadingBackend with 4 concurrent workers.\n",
      "[Parallel(n_jobs=4)]: Done  42 tasks      | elapsed:    0.1s\n",
      "[Parallel(n_jobs=4)]: Done 100 out of 100 | elapsed:    0.1s finished\n"
     ]
    },
    {
     "name": "stdout",
     "output_type": "stream",
     "text": [
      "CV score: 0.62665 \n",
      "store_data/new_feat/cat_inter_3way_new/cat_inter_3way_86.csv\n",
      "==============================\n",
      "Memory usage of dataframe is 179.98 MB\n",
      "Memory usage after optimization is: 32.78 MB\n",
      "Decreased by 81.8%\n",
      "==============================\n",
      "(224607, 124)\n"
     ]
    },
    {
     "name": "stderr",
     "output_type": "stream",
     "text": [
      "[Parallel(n_jobs=4)]: Using backend ThreadingBackend with 4 concurrent workers.\n",
      "[Parallel(n_jobs=4)]: Done  42 tasks      | elapsed:   15.9s\n",
      "[Parallel(n_jobs=4)]: Done 100 out of 100 | elapsed:   36.5s finished\n",
      "[Parallel(n_jobs=4)]: Using backend ThreadingBackend with 4 concurrent workers.\n",
      "[Parallel(n_jobs=4)]: Done  42 tasks      | elapsed:    0.1s\n",
      "[Parallel(n_jobs=4)]: Done 100 out of 100 | elapsed:    0.2s finished\n"
     ]
    },
    {
     "name": "stdout",
     "output_type": "stream",
     "text": [
      "CV score: 0.62798 \n",
      "store_data/new_feat/cat_inter_3way_new/cat_inter_3way_33.csv\n",
      "==============================\n",
      "Memory usage of dataframe is 179.98 MB\n",
      "Memory usage after optimization is: 40.17 MB\n",
      "Decreased by 77.7%\n",
      "==============================\n",
      "(224607, 124)\n"
     ]
    },
    {
     "name": "stderr",
     "output_type": "stream",
     "text": [
      "[Parallel(n_jobs=4)]: Using backend ThreadingBackend with 4 concurrent workers.\n",
      "[Parallel(n_jobs=4)]: Done  42 tasks      | elapsed:   17.6s\n",
      "[Parallel(n_jobs=4)]: Done 100 out of 100 | elapsed:   40.5s finished\n",
      "[Parallel(n_jobs=4)]: Using backend ThreadingBackend with 4 concurrent workers.\n",
      "[Parallel(n_jobs=4)]: Done  42 tasks      | elapsed:    0.1s\n",
      "[Parallel(n_jobs=4)]: Done 100 out of 100 | elapsed:    0.2s finished\n"
     ]
    },
    {
     "name": "stdout",
     "output_type": "stream",
     "text": [
      "CV score: 0.62690 \n",
      "store_data/new_feat/cat_inter_3way_new/cat_inter_3way_91.csv\n",
      "==============================\n",
      "Memory usage of dataframe is 179.98 MB\n",
      "Memory usage after optimization is: 34.39 MB\n",
      "Decreased by 80.9%\n",
      "==============================\n",
      "(224607, 124)\n"
     ]
    },
    {
     "name": "stderr",
     "output_type": "stream",
     "text": [
      "[Parallel(n_jobs=4)]: Using backend ThreadingBackend with 4 concurrent workers.\n",
      "[Parallel(n_jobs=4)]: Done  42 tasks      | elapsed:   15.6s\n",
      "[Parallel(n_jobs=4)]: Done 100 out of 100 | elapsed:   35.5s finished\n",
      "[Parallel(n_jobs=4)]: Using backend ThreadingBackend with 4 concurrent workers.\n",
      "[Parallel(n_jobs=4)]: Done  42 tasks      | elapsed:    0.1s\n",
      "[Parallel(n_jobs=4)]: Done 100 out of 100 | elapsed:    0.2s finished\n"
     ]
    },
    {
     "name": "stdout",
     "output_type": "stream",
     "text": [
      "CV score: 0.62708 \n",
      "store_data/new_feat/cat_inter_3way_new/cat_inter_3way_25.csv\n",
      "==============================\n",
      "Memory usage of dataframe is 179.98 MB\n",
      "Memory usage after optimization is: 34.39 MB\n",
      "Decreased by 80.9%\n",
      "==============================\n",
      "(224607, 124)\n"
     ]
    },
    {
     "name": "stderr",
     "output_type": "stream",
     "text": [
      "[Parallel(n_jobs=4)]: Using backend ThreadingBackend with 4 concurrent workers.\n",
      "[Parallel(n_jobs=4)]: Done  42 tasks      | elapsed:   16.0s\n",
      "[Parallel(n_jobs=4)]: Done 100 out of 100 | elapsed:   36.8s finished\n",
      "[Parallel(n_jobs=4)]: Using backend ThreadingBackend with 4 concurrent workers.\n",
      "[Parallel(n_jobs=4)]: Done  42 tasks      | elapsed:    0.1s\n",
      "[Parallel(n_jobs=4)]: Done 100 out of 100 | elapsed:    0.2s finished\n"
     ]
    },
    {
     "name": "stdout",
     "output_type": "stream",
     "text": [
      "CV score: 0.62649 \n",
      "store_data/new_feat/cat_inter_3way_new/cat_inter_3way_65.csv\n",
      "==============================\n",
      "Memory usage of dataframe is 179.98 MB\n",
      "Memory usage after optimization is: 34.07 MB\n",
      "Decreased by 81.1%\n",
      "==============================\n",
      "(224607, 124)\n"
     ]
    },
    {
     "name": "stderr",
     "output_type": "stream",
     "text": [
      "[Parallel(n_jobs=4)]: Using backend ThreadingBackend with 4 concurrent workers.\n",
      "[Parallel(n_jobs=4)]: Done  42 tasks      | elapsed:   16.5s\n",
      "[Parallel(n_jobs=4)]: Done 100 out of 100 | elapsed:   39.6s finished\n",
      "[Parallel(n_jobs=4)]: Using backend ThreadingBackend with 4 concurrent workers.\n",
      "[Parallel(n_jobs=4)]: Done  42 tasks      | elapsed:    0.1s\n",
      "[Parallel(n_jobs=4)]: Done 100 out of 100 | elapsed:    0.2s finished\n"
     ]
    },
    {
     "name": "stdout",
     "output_type": "stream",
     "text": [
      "CV score: 0.62651 \n",
      "store_data/new_feat/cat_inter_3way_new/cat_inter_3way_17.csv\n",
      "==============================\n",
      "Memory usage of dataframe is 179.98 MB\n",
      "Memory usage after optimization is: 36.00 MB\n",
      "Decreased by 80.0%\n",
      "==============================\n",
      "(224607, 124)\n"
     ]
    },
    {
     "name": "stderr",
     "output_type": "stream",
     "text": [
      "[Parallel(n_jobs=4)]: Using backend ThreadingBackend with 4 concurrent workers.\n",
      "[Parallel(n_jobs=4)]: Done  42 tasks      | elapsed:   15.5s\n",
      "[Parallel(n_jobs=4)]: Done 100 out of 100 | elapsed:   35.5s finished\n",
      "[Parallel(n_jobs=4)]: Using backend ThreadingBackend with 4 concurrent workers.\n",
      "[Parallel(n_jobs=4)]: Done  42 tasks      | elapsed:    0.1s\n",
      "[Parallel(n_jobs=4)]: Done 100 out of 100 | elapsed:    0.2s finished\n"
     ]
    },
    {
     "name": "stdout",
     "output_type": "stream",
     "text": [
      "CV score: 0.62691 \n",
      "store_data/new_feat/cat_inter_3way_new/cat_inter_3way_64.csv\n",
      "==============================\n",
      "Memory usage of dataframe is 179.98 MB\n",
      "Memory usage after optimization is: 33.75 MB\n",
      "Decreased by 81.2%\n",
      "==============================\n",
      "(224607, 124)\n"
     ]
    },
    {
     "name": "stderr",
     "output_type": "stream",
     "text": [
      "[Parallel(n_jobs=4)]: Using backend ThreadingBackend with 4 concurrent workers.\n",
      "[Parallel(n_jobs=4)]: Done  42 tasks      | elapsed:   16.6s\n",
      "[Parallel(n_jobs=4)]: Done 100 out of 100 | elapsed:   37.7s finished\n",
      "[Parallel(n_jobs=4)]: Using backend ThreadingBackend with 4 concurrent workers.\n",
      "[Parallel(n_jobs=4)]: Done  42 tasks      | elapsed:    0.1s\n",
      "[Parallel(n_jobs=4)]: Done 100 out of 100 | elapsed:    0.2s finished\n"
     ]
    },
    {
     "name": "stdout",
     "output_type": "stream",
     "text": [
      "CV score: 0.62726 \n",
      "store_data/new_feat/cat_inter_3way_new/cat_inter_3way_93.csv\n",
      "==============================\n",
      "Memory usage of dataframe is 179.98 MB\n",
      "Memory usage after optimization is: 37.28 MB\n",
      "Decreased by 79.3%\n",
      "==============================\n",
      "(224607, 124)\n"
     ]
    },
    {
     "name": "stderr",
     "output_type": "stream",
     "text": [
      "[Parallel(n_jobs=4)]: Using backend ThreadingBackend with 4 concurrent workers.\n",
      "[Parallel(n_jobs=4)]: Done  42 tasks      | elapsed:   17.1s\n",
      "[Parallel(n_jobs=4)]: Done 100 out of 100 | elapsed:   39.3s finished\n",
      "[Parallel(n_jobs=4)]: Using backend ThreadingBackend with 4 concurrent workers.\n",
      "[Parallel(n_jobs=4)]: Done  42 tasks      | elapsed:    0.1s\n",
      "[Parallel(n_jobs=4)]: Done 100 out of 100 | elapsed:    0.2s finished\n"
     ]
    },
    {
     "name": "stdout",
     "output_type": "stream",
     "text": [
      "CV score: 0.62766 \n",
      "store_data/new_feat/cat_inter_3way_new/cat_inter_3way_4.csv\n",
      "==============================\n",
      "Memory usage of dataframe is 179.98 MB\n",
      "Memory usage after optimization is: 35.67 MB\n",
      "Decreased by 80.2%\n",
      "==============================\n",
      "(224607, 124)\n"
     ]
    },
    {
     "name": "stderr",
     "output_type": "stream",
     "text": [
      "[Parallel(n_jobs=4)]: Using backend ThreadingBackend with 4 concurrent workers.\n",
      "[Parallel(n_jobs=4)]: Done  42 tasks      | elapsed:   16.5s\n",
      "[Parallel(n_jobs=4)]: Done 100 out of 100 | elapsed:   37.9s finished\n",
      "[Parallel(n_jobs=4)]: Using backend ThreadingBackend with 4 concurrent workers.\n",
      "[Parallel(n_jobs=4)]: Done  42 tasks      | elapsed:    0.1s\n",
      "[Parallel(n_jobs=4)]: Done 100 out of 100 | elapsed:    0.2s finished\n"
     ]
    },
    {
     "name": "stdout",
     "output_type": "stream",
     "text": [
      "CV score: 0.62683 \n",
      "store_data/new_feat/cat_inter_3way_new/cat_inter_3way_83.csv\n",
      "==============================\n",
      "Memory usage of dataframe is 179.98 MB\n",
      "Memory usage after optimization is: 34.07 MB\n",
      "Decreased by 81.1%\n",
      "==============================\n",
      "(224607, 124)\n"
     ]
    },
    {
     "name": "stderr",
     "output_type": "stream",
     "text": [
      "[Parallel(n_jobs=4)]: Using backend ThreadingBackend with 4 concurrent workers.\n",
      "[Parallel(n_jobs=4)]: Done  42 tasks      | elapsed:   16.4s\n",
      "[Parallel(n_jobs=4)]: Done 100 out of 100 | elapsed:   38.0s finished\n",
      "[Parallel(n_jobs=4)]: Using backend ThreadingBackend with 4 concurrent workers.\n",
      "[Parallel(n_jobs=4)]: Done  42 tasks      | elapsed:    0.1s\n",
      "[Parallel(n_jobs=4)]: Done 100 out of 100 | elapsed:    0.1s finished\n"
     ]
    },
    {
     "name": "stdout",
     "output_type": "stream",
     "text": [
      "CV score: 0.62572 \n",
      "store_data/new_feat/cat_inter_3way_new/cat_inter_3way_47.csv\n",
      "==============================\n",
      "Memory usage of dataframe is 179.98 MB\n",
      "Memory usage after optimization is: 32.14 MB\n",
      "Decreased by 82.1%\n",
      "==============================\n",
      "(224607, 124)\n"
     ]
    },
    {
     "name": "stderr",
     "output_type": "stream",
     "text": [
      "[Parallel(n_jobs=4)]: Using backend ThreadingBackend with 4 concurrent workers.\n",
      "[Parallel(n_jobs=4)]: Done  42 tasks      | elapsed:   16.4s\n",
      "[Parallel(n_jobs=4)]: Done 100 out of 100 | elapsed:   37.7s finished\n",
      "[Parallel(n_jobs=4)]: Using backend ThreadingBackend with 4 concurrent workers.\n",
      "[Parallel(n_jobs=4)]: Done  42 tasks      | elapsed:    0.1s\n",
      "[Parallel(n_jobs=4)]: Done 100 out of 100 | elapsed:    0.2s finished\n"
     ]
    },
    {
     "name": "stdout",
     "output_type": "stream",
     "text": [
      "CV score: 0.62606 \n",
      "store_data/new_feat/cat_inter_3way_new/cat_inter_3way_36.csv\n",
      "==============================\n",
      "Memory usage of dataframe is 179.98 MB\n",
      "Memory usage after optimization is: 35.67 MB\n",
      "Decreased by 80.2%\n",
      "==============================\n",
      "(224607, 124)\n"
     ]
    },
    {
     "name": "stderr",
     "output_type": "stream",
     "text": [
      "[Parallel(n_jobs=4)]: Using backend ThreadingBackend with 4 concurrent workers.\n",
      "[Parallel(n_jobs=4)]: Done  42 tasks      | elapsed:   15.7s\n",
      "[Parallel(n_jobs=4)]: Done 100 out of 100 | elapsed:   35.9s finished\n",
      "[Parallel(n_jobs=4)]: Using backend ThreadingBackend with 4 concurrent workers.\n",
      "[Parallel(n_jobs=4)]: Done  42 tasks      | elapsed:    0.1s\n",
      "[Parallel(n_jobs=4)]: Done 100 out of 100 | elapsed:    0.2s finished\n"
     ]
    },
    {
     "name": "stdout",
     "output_type": "stream",
     "text": [
      "CV score: 0.62755 \n",
      "store_data/new_feat/cat_inter_3way_new/cat_inter_3way_10.csv\n",
      "==============================\n",
      "Memory usage of dataframe is 179.98 MB\n",
      "Memory usage after optimization is: 36.96 MB\n",
      "Decreased by 79.5%\n",
      "==============================\n",
      "(224607, 124)\n"
     ]
    },
    {
     "name": "stderr",
     "output_type": "stream",
     "text": [
      "[Parallel(n_jobs=4)]: Using backend ThreadingBackend with 4 concurrent workers.\n",
      "[Parallel(n_jobs=4)]: Done  42 tasks      | elapsed:   16.0s\n",
      "[Parallel(n_jobs=4)]: Done 100 out of 100 | elapsed:   36.5s finished\n",
      "[Parallel(n_jobs=4)]: Using backend ThreadingBackend with 4 concurrent workers.\n",
      "[Parallel(n_jobs=4)]: Done  42 tasks      | elapsed:    0.1s\n",
      "[Parallel(n_jobs=4)]: Done 100 out of 100 | elapsed:    0.2s finished\n"
     ]
    },
    {
     "name": "stdout",
     "output_type": "stream",
     "text": [
      "CV score: 0.62776 \n",
      "store_data/new_feat/cat_inter_3way_new/cat_inter_3way_44.csv\n",
      "==============================\n",
      "Memory usage of dataframe is 179.98 MB\n",
      "Memory usage after optimization is: 39.21 MB\n",
      "Decreased by 78.2%\n",
      "==============================\n",
      "(224607, 124)\n"
     ]
    },
    {
     "name": "stderr",
     "output_type": "stream",
     "text": [
      "[Parallel(n_jobs=4)]: Using backend ThreadingBackend with 4 concurrent workers.\n",
      "[Parallel(n_jobs=4)]: Done  42 tasks      | elapsed:   16.2s\n",
      "[Parallel(n_jobs=4)]: Done 100 out of 100 | elapsed:   37.0s finished\n",
      "[Parallel(n_jobs=4)]: Using backend ThreadingBackend with 4 concurrent workers.\n",
      "[Parallel(n_jobs=4)]: Done  42 tasks      | elapsed:    0.1s\n",
      "[Parallel(n_jobs=4)]: Done 100 out of 100 | elapsed:    0.1s finished\n"
     ]
    },
    {
     "name": "stdout",
     "output_type": "stream",
     "text": [
      "CV score: 0.62728 \n",
      "store_data/new_feat/cat_inter_3way_new/cat_inter_3way_37.csv\n",
      "==============================\n",
      "Memory usage of dataframe is 179.98 MB\n",
      "Memory usage after optimization is: 41.46 MB\n",
      "Decreased by 77.0%\n",
      "==============================\n",
      "(224607, 124)\n"
     ]
    },
    {
     "name": "stderr",
     "output_type": "stream",
     "text": [
      "[Parallel(n_jobs=4)]: Using backend ThreadingBackend with 4 concurrent workers.\n",
      "[Parallel(n_jobs=4)]: Done  42 tasks      | elapsed:   17.8s\n",
      "[Parallel(n_jobs=4)]: Done 100 out of 100 | elapsed:   41.4s finished\n",
      "[Parallel(n_jobs=4)]: Using backend ThreadingBackend with 4 concurrent workers.\n",
      "[Parallel(n_jobs=4)]: Done  42 tasks      | elapsed:    0.1s\n",
      "[Parallel(n_jobs=4)]: Done 100 out of 100 | elapsed:    0.1s finished\n"
     ]
    },
    {
     "name": "stdout",
     "output_type": "stream",
     "text": [
      "CV score: 0.62669 \n",
      "store_data/new_feat/cat_inter_3way_new/cat_inter_3way_19.csv\n",
      "==============================\n",
      "Memory usage of dataframe is 179.98 MB\n",
      "Memory usage after optimization is: 37.60 MB\n",
      "Decreased by 79.1%\n",
      "==============================\n",
      "(224607, 124)\n"
     ]
    },
    {
     "name": "stderr",
     "output_type": "stream",
     "text": [
      "[Parallel(n_jobs=4)]: Using backend ThreadingBackend with 4 concurrent workers.\n",
      "[Parallel(n_jobs=4)]: Done  42 tasks      | elapsed:   16.3s\n",
      "[Parallel(n_jobs=4)]: Done 100 out of 100 | elapsed:   37.8s finished\n",
      "[Parallel(n_jobs=4)]: Using backend ThreadingBackend with 4 concurrent workers.\n",
      "[Parallel(n_jobs=4)]: Done  42 tasks      | elapsed:    0.1s\n",
      "[Parallel(n_jobs=4)]: Done 100 out of 100 | elapsed:    0.1s finished\n"
     ]
    },
    {
     "name": "stdout",
     "output_type": "stream",
     "text": [
      "CV score: 0.62750 \n",
      "store_data/new_feat/cat_inter_3way_new/cat_inter_3way_12.csv\n",
      "==============================\n",
      "Memory usage of dataframe is 179.98 MB\n",
      "Memory usage after optimization is: 35.03 MB\n",
      "Decreased by 80.5%\n",
      "==============================\n",
      "(224607, 124)\n"
     ]
    },
    {
     "name": "stderr",
     "output_type": "stream",
     "text": [
      "[Parallel(n_jobs=4)]: Using backend ThreadingBackend with 4 concurrent workers.\n",
      "[Parallel(n_jobs=4)]: Done  42 tasks      | elapsed:   15.4s\n",
      "[Parallel(n_jobs=4)]: Done 100 out of 100 | elapsed:   35.5s finished\n",
      "[Parallel(n_jobs=4)]: Using backend ThreadingBackend with 4 concurrent workers.\n",
      "[Parallel(n_jobs=4)]: Done  42 tasks      | elapsed:    0.1s\n",
      "[Parallel(n_jobs=4)]: Done 100 out of 100 | elapsed:    0.2s finished\n"
     ]
    },
    {
     "name": "stdout",
     "output_type": "stream",
     "text": [
      "CV score: 0.62706 \n",
      "store_data/new_feat/cat_inter_3way_new/cat_inter_3way_13.csv\n",
      "==============================\n",
      "Memory usage of dataframe is 179.98 MB\n",
      "Memory usage after optimization is: 33.42 MB\n",
      "Decreased by 81.4%\n",
      "==============================\n",
      "(224607, 124)\n"
     ]
    },
    {
     "name": "stderr",
     "output_type": "stream",
     "text": [
      "[Parallel(n_jobs=4)]: Using backend ThreadingBackend with 4 concurrent workers.\n",
      "[Parallel(n_jobs=4)]: Done  42 tasks      | elapsed:   15.3s\n",
      "[Parallel(n_jobs=4)]: Done 100 out of 100 | elapsed:   35.2s finished\n",
      "[Parallel(n_jobs=4)]: Using backend ThreadingBackend with 4 concurrent workers.\n",
      "[Parallel(n_jobs=4)]: Done  42 tasks      | elapsed:    0.1s\n",
      "[Parallel(n_jobs=4)]: Done 100 out of 100 | elapsed:    0.2s finished\n"
     ]
    },
    {
     "name": "stdout",
     "output_type": "stream",
     "text": [
      "CV score: 0.62856 \n",
      "store_data/new_feat/cat_inter_3way_new/cat_inter_3way_58.csv\n",
      "==============================\n",
      "Memory usage of dataframe is 179.98 MB\n",
      "Memory usage after optimization is: 28.28 MB\n",
      "Decreased by 84.3%\n",
      "==============================\n",
      "(224607, 124)\n"
     ]
    },
    {
     "name": "stderr",
     "output_type": "stream",
     "text": [
      "[Parallel(n_jobs=4)]: Using backend ThreadingBackend with 4 concurrent workers.\n",
      "[Parallel(n_jobs=4)]: Done  42 tasks      | elapsed:   14.4s\n",
      "[Parallel(n_jobs=4)]: Done 100 out of 100 | elapsed:   33.2s finished\n",
      "[Parallel(n_jobs=4)]: Using backend ThreadingBackend with 4 concurrent workers.\n",
      "[Parallel(n_jobs=4)]: Done  42 tasks      | elapsed:    0.1s\n",
      "[Parallel(n_jobs=4)]: Done 100 out of 100 | elapsed:    0.2s finished\n"
     ]
    },
    {
     "name": "stdout",
     "output_type": "stream",
     "text": [
      "CV score: 0.62653 \n",
      "store_data/new_feat/cat_inter_3way_new/cat_inter_3way_35.csv\n",
      "==============================\n",
      "Memory usage of dataframe is 179.98 MB\n",
      "Memory usage after optimization is: 39.85 MB\n",
      "Decreased by 77.9%\n",
      "==============================\n",
      "(224607, 124)\n"
     ]
    },
    {
     "name": "stderr",
     "output_type": "stream",
     "text": [
      "[Parallel(n_jobs=4)]: Using backend ThreadingBackend with 4 concurrent workers.\n",
      "[Parallel(n_jobs=4)]: Done  42 tasks      | elapsed:   17.0s\n",
      "[Parallel(n_jobs=4)]: Done 100 out of 100 | elapsed:   38.7s finished\n",
      "[Parallel(n_jobs=4)]: Using backend ThreadingBackend with 4 concurrent workers.\n",
      "[Parallel(n_jobs=4)]: Done  42 tasks      | elapsed:    0.1s\n",
      "[Parallel(n_jobs=4)]: Done 100 out of 100 | elapsed:    0.1s finished\n"
     ]
    },
    {
     "name": "stdout",
     "output_type": "stream",
     "text": [
      "CV score: 0.62736 \n",
      "store_data/new_feat/cat_inter_3way_new/cat_inter_3way_24.csv\n",
      "==============================\n",
      "Memory usage of dataframe is 179.98 MB\n",
      "Memory usage after optimization is: 33.75 MB\n",
      "Decreased by 81.2%\n",
      "==============================\n",
      "(224607, 124)\n"
     ]
    },
    {
     "name": "stderr",
     "output_type": "stream",
     "text": [
      "[Parallel(n_jobs=4)]: Using backend ThreadingBackend with 4 concurrent workers.\n",
      "[Parallel(n_jobs=4)]: Done  42 tasks      | elapsed:   15.9s\n",
      "[Parallel(n_jobs=4)]: Done 100 out of 100 | elapsed:   36.1s finished\n",
      "[Parallel(n_jobs=4)]: Using backend ThreadingBackend with 4 concurrent workers.\n",
      "[Parallel(n_jobs=4)]: Done  42 tasks      | elapsed:    0.1s\n",
      "[Parallel(n_jobs=4)]: Done 100 out of 100 | elapsed:    0.2s finished\n"
     ]
    },
    {
     "name": "stdout",
     "output_type": "stream",
     "text": [
      "CV score: 0.62667 \n",
      "store_data/new_feat/cat_inter_3way_new/cat_inter_3way_81.csv\n",
      "==============================\n",
      "Memory usage of dataframe is 179.98 MB\n",
      "Memory usage after optimization is: 34.71 MB\n",
      "Decreased by 80.7%\n",
      "==============================\n",
      "(224607, 124)\n"
     ]
    },
    {
     "name": "stderr",
     "output_type": "stream",
     "text": [
      "[Parallel(n_jobs=4)]: Using backend ThreadingBackend with 4 concurrent workers.\n",
      "[Parallel(n_jobs=4)]: Done  42 tasks      | elapsed:   17.0s\n",
      "[Parallel(n_jobs=4)]: Done 100 out of 100 | elapsed:   39.7s finished\n",
      "[Parallel(n_jobs=4)]: Using backend ThreadingBackend with 4 concurrent workers.\n",
      "[Parallel(n_jobs=4)]: Done  42 tasks      | elapsed:    0.1s\n",
      "[Parallel(n_jobs=4)]: Done 100 out of 100 | elapsed:    0.1s finished\n"
     ]
    },
    {
     "name": "stdout",
     "output_type": "stream",
     "text": [
      "CV score: 0.62624 \n",
      "store_data/new_feat/cat_inter_3way_new/cat_inter_3way_76.csv\n",
      "==============================\n",
      "Memory usage of dataframe is 179.98 MB\n",
      "Memory usage after optimization is: 36.96 MB\n",
      "Decreased by 79.5%\n",
      "==============================\n",
      "(224607, 124)\n"
     ]
    },
    {
     "name": "stderr",
     "output_type": "stream",
     "text": [
      "[Parallel(n_jobs=4)]: Using backend ThreadingBackend with 4 concurrent workers.\n",
      "[Parallel(n_jobs=4)]: Done  42 tasks      | elapsed:   16.5s\n",
      "[Parallel(n_jobs=4)]: Done 100 out of 100 | elapsed:   38.3s finished\n",
      "[Parallel(n_jobs=4)]: Using backend ThreadingBackend with 4 concurrent workers.\n",
      "[Parallel(n_jobs=4)]: Done  42 tasks      | elapsed:    0.1s\n",
      "[Parallel(n_jobs=4)]: Done 100 out of 100 | elapsed:    0.1s finished\n"
     ]
    },
    {
     "name": "stdout",
     "output_type": "stream",
     "text": [
      "CV score: 0.62733 \n",
      "store_data/new_feat/cat_inter_3way_new/cat_inter_3way_23.csv\n",
      "==============================\n",
      "Memory usage of dataframe is 179.98 MB\n",
      "Memory usage after optimization is: 32.46 MB\n",
      "Decreased by 82.0%\n",
      "==============================\n",
      "(224607, 124)\n"
     ]
    },
    {
     "name": "stderr",
     "output_type": "stream",
     "text": [
      "[Parallel(n_jobs=4)]: Using backend ThreadingBackend with 4 concurrent workers.\n",
      "[Parallel(n_jobs=4)]: Done  42 tasks      | elapsed:   16.2s\n",
      "[Parallel(n_jobs=4)]: Done 100 out of 100 | elapsed:   37.2s finished\n",
      "[Parallel(n_jobs=4)]: Using backend ThreadingBackend with 4 concurrent workers.\n",
      "[Parallel(n_jobs=4)]: Done  42 tasks      | elapsed:    0.1s\n",
      "[Parallel(n_jobs=4)]: Done 100 out of 100 | elapsed:    0.2s finished\n"
     ]
    },
    {
     "name": "stdout",
     "output_type": "stream",
     "text": [
      "CV score: 0.62704 \n",
      "store_data/new_feat/cat_inter_3way_new/cat_inter_3way_62.csv\n",
      "==============================\n",
      "Memory usage of dataframe is 179.98 MB\n",
      "Memory usage after optimization is: 37.92 MB\n",
      "Decreased by 78.9%\n",
      "==============================\n",
      "(224607, 124)\n"
     ]
    },
    {
     "name": "stderr",
     "output_type": "stream",
     "text": [
      "[Parallel(n_jobs=4)]: Using backend ThreadingBackend with 4 concurrent workers.\n",
      "[Parallel(n_jobs=4)]: Done  42 tasks      | elapsed:   16.4s\n",
      "[Parallel(n_jobs=4)]: Done 100 out of 100 | elapsed:   37.7s finished\n",
      "[Parallel(n_jobs=4)]: Using backend ThreadingBackend with 4 concurrent workers.\n",
      "[Parallel(n_jobs=4)]: Done  42 tasks      | elapsed:    0.1s\n",
      "[Parallel(n_jobs=4)]: Done 100 out of 100 | elapsed:    0.2s finished\n"
     ]
    },
    {
     "name": "stdout",
     "output_type": "stream",
     "text": [
      "CV score: 0.62759 \n",
      "store_data/new_feat/cat_inter_3way_new/cat_inter_3way_56.csv\n",
      "==============================\n",
      "Memory usage of dataframe is 179.98 MB\n",
      "Memory usage after optimization is: 37.92 MB\n",
      "Decreased by 78.9%\n",
      "==============================\n",
      "(224607, 124)\n"
     ]
    },
    {
     "name": "stderr",
     "output_type": "stream",
     "text": [
      "[Parallel(n_jobs=4)]: Using backend ThreadingBackend with 4 concurrent workers.\n",
      "[Parallel(n_jobs=4)]: Done  42 tasks      | elapsed:   16.5s\n",
      "[Parallel(n_jobs=4)]: Done 100 out of 100 | elapsed:   37.7s finished\n",
      "[Parallel(n_jobs=4)]: Using backend ThreadingBackend with 4 concurrent workers.\n",
      "[Parallel(n_jobs=4)]: Done  42 tasks      | elapsed:    0.1s\n",
      "[Parallel(n_jobs=4)]: Done 100 out of 100 | elapsed:    0.1s finished\n"
     ]
    },
    {
     "name": "stdout",
     "output_type": "stream",
     "text": [
      "CV score: 0.62782 \n",
      "store_data/new_feat/cat_inter_3way_new/cat_inter_3way_89.csv\n",
      "==============================\n",
      "Memory usage of dataframe is 179.98 MB\n",
      "Memory usage after optimization is: 38.89 MB\n",
      "Decreased by 78.4%\n",
      "==============================\n",
      "(224607, 124)\n"
     ]
    },
    {
     "name": "stderr",
     "output_type": "stream",
     "text": [
      "[Parallel(n_jobs=4)]: Using backend ThreadingBackend with 4 concurrent workers.\n",
      "[Parallel(n_jobs=4)]: Done  42 tasks      | elapsed:   17.2s\n",
      "[Parallel(n_jobs=4)]: Done 100 out of 100 | elapsed:   38.9s finished\n",
      "[Parallel(n_jobs=4)]: Using backend ThreadingBackend with 4 concurrent workers.\n",
      "[Parallel(n_jobs=4)]: Done  42 tasks      | elapsed:    0.1s\n",
      "[Parallel(n_jobs=4)]: Done 100 out of 100 | elapsed:    0.1s finished\n"
     ]
    },
    {
     "name": "stdout",
     "output_type": "stream",
     "text": [
      "CV score: 0.62703 \n",
      "store_data/new_feat/cat_inter_3way_new/cat_inter_3way_79.csv\n",
      "==============================\n",
      "Memory usage of dataframe is 179.98 MB\n",
      "Memory usage after optimization is: 41.46 MB\n",
      "Decreased by 77.0%\n",
      "==============================\n",
      "(224607, 124)\n"
     ]
    },
    {
     "name": "stderr",
     "output_type": "stream",
     "text": [
      "[Parallel(n_jobs=4)]: Using backend ThreadingBackend with 4 concurrent workers.\n",
      "[Parallel(n_jobs=4)]: Done  42 tasks      | elapsed:   18.9s\n",
      "[Parallel(n_jobs=4)]: Done 100 out of 100 | elapsed:   43.9s finished\n",
      "[Parallel(n_jobs=4)]: Using backend ThreadingBackend with 4 concurrent workers.\n",
      "[Parallel(n_jobs=4)]: Done  42 tasks      | elapsed:    0.1s\n",
      "[Parallel(n_jobs=4)]: Done 100 out of 100 | elapsed:    0.2s finished\n"
     ]
    },
    {
     "name": "stdout",
     "output_type": "stream",
     "text": [
      "CV score: 0.62779 \n",
      "store_data/new_feat/cat_inter_3way_new/cat_inter_3way_84.csv\n",
      "==============================\n",
      "Memory usage of dataframe is 179.98 MB\n",
      "Memory usage after optimization is: 34.07 MB\n",
      "Decreased by 81.1%\n",
      "==============================\n",
      "(224607, 124)\n"
     ]
    },
    {
     "name": "stderr",
     "output_type": "stream",
     "text": [
      "[Parallel(n_jobs=4)]: Using backend ThreadingBackend with 4 concurrent workers.\n",
      "[Parallel(n_jobs=4)]: Done  42 tasks      | elapsed:   16.2s\n",
      "[Parallel(n_jobs=4)]: Done 100 out of 100 | elapsed:   37.1s finished\n",
      "[Parallel(n_jobs=4)]: Using backend ThreadingBackend with 4 concurrent workers.\n",
      "[Parallel(n_jobs=4)]: Done  42 tasks      | elapsed:    0.1s\n",
      "[Parallel(n_jobs=4)]: Done 100 out of 100 | elapsed:    0.1s finished\n"
     ]
    },
    {
     "name": "stdout",
     "output_type": "stream",
     "text": [
      "CV score: 0.62787 \n",
      "store_data/new_feat/cat_inter_3way_new/cat_inter_3way_31.csv\n",
      "==============================\n",
      "Memory usage of dataframe is 179.98 MB\n",
      "Memory usage after optimization is: 30.21 MB\n",
      "Decreased by 83.2%\n",
      "==============================\n",
      "(224607, 124)\n"
     ]
    },
    {
     "name": "stderr",
     "output_type": "stream",
     "text": [
      "[Parallel(n_jobs=4)]: Using backend ThreadingBackend with 4 concurrent workers.\n",
      "[Parallel(n_jobs=4)]: Done  42 tasks      | elapsed:   15.6s\n",
      "[Parallel(n_jobs=4)]: Done 100 out of 100 | elapsed:   35.4s finished\n",
      "[Parallel(n_jobs=4)]: Using backend ThreadingBackend with 4 concurrent workers.\n",
      "[Parallel(n_jobs=4)]: Done  42 tasks      | elapsed:    0.1s\n",
      "[Parallel(n_jobs=4)]: Done 100 out of 100 | elapsed:    0.2s finished\n"
     ]
    },
    {
     "name": "stdout",
     "output_type": "stream",
     "text": [
      "CV score: 0.62633 \n",
      "store_data/new_feat/cat_inter_3way_new/cat_inter_3way_72.csv\n",
      "==============================\n",
      "Memory usage of dataframe is 179.98 MB\n",
      "Memory usage after optimization is: 34.71 MB\n",
      "Decreased by 80.7%\n",
      "==============================\n",
      "(224607, 124)\n"
     ]
    },
    {
     "name": "stderr",
     "output_type": "stream",
     "text": [
      "[Parallel(n_jobs=4)]: Using backend ThreadingBackend with 4 concurrent workers.\n",
      "[Parallel(n_jobs=4)]: Done  42 tasks      | elapsed:   16.3s\n",
      "[Parallel(n_jobs=4)]: Done 100 out of 100 | elapsed:   36.9s finished\n",
      "[Parallel(n_jobs=4)]: Using backend ThreadingBackend with 4 concurrent workers.\n",
      "[Parallel(n_jobs=4)]: Done  42 tasks      | elapsed:    0.1s\n",
      "[Parallel(n_jobs=4)]: Done 100 out of 100 | elapsed:    0.2s finished\n"
     ]
    },
    {
     "name": "stdout",
     "output_type": "stream",
     "text": [
      "CV score: 0.62693 \n",
      "store_data/new_feat/cat_inter_3way_new/cat_inter_3way_50.csv\n",
      "==============================\n",
      "Memory usage of dataframe is 179.98 MB\n",
      "Memory usage after optimization is: 31.50 MB\n",
      "Decreased by 82.5%\n",
      "==============================\n",
      "(224607, 124)\n"
     ]
    },
    {
     "name": "stderr",
     "output_type": "stream",
     "text": [
      "[Parallel(n_jobs=4)]: Using backend ThreadingBackend with 4 concurrent workers.\n",
      "[Parallel(n_jobs=4)]: Done  42 tasks      | elapsed:   15.8s\n",
      "[Parallel(n_jobs=4)]: Done 100 out of 100 | elapsed:   36.1s finished\n",
      "[Parallel(n_jobs=4)]: Using backend ThreadingBackend with 4 concurrent workers.\n",
      "[Parallel(n_jobs=4)]: Done  42 tasks      | elapsed:    0.1s\n",
      "[Parallel(n_jobs=4)]: Done 100 out of 100 | elapsed:    0.1s finished\n"
     ]
    },
    {
     "name": "stdout",
     "output_type": "stream",
     "text": [
      "CV score: 0.62747 \n",
      "store_data/new_feat/cat_inter_3way_new/cat_inter_3way_70.csv\n",
      "==============================\n",
      "Memory usage of dataframe is 179.98 MB\n",
      "Memory usage after optimization is: 35.03 MB\n",
      "Decreased by 80.5%\n",
      "==============================\n",
      "(224607, 124)\n"
     ]
    },
    {
     "name": "stderr",
     "output_type": "stream",
     "text": [
      "[Parallel(n_jobs=4)]: Using backend ThreadingBackend with 4 concurrent workers.\n",
      "[Parallel(n_jobs=4)]: Done  42 tasks      | elapsed:   17.1s\n",
      "[Parallel(n_jobs=4)]: Done 100 out of 100 | elapsed:   38.9s finished\n",
      "[Parallel(n_jobs=4)]: Using backend ThreadingBackend with 4 concurrent workers.\n",
      "[Parallel(n_jobs=4)]: Done  42 tasks      | elapsed:    0.1s\n",
      "[Parallel(n_jobs=4)]: Done 100 out of 100 | elapsed:    0.2s finished\n"
     ]
    },
    {
     "name": "stdout",
     "output_type": "stream",
     "text": [
      "CV score: 0.62605 \n",
      "store_data/new_feat/cat_inter_3way_new/cat_inter_3way_73.csv\n",
      "==============================\n",
      "Memory usage of dataframe is 179.98 MB\n",
      "Memory usage after optimization is: 34.39 MB\n",
      "Decreased by 80.9%\n",
      "==============================\n",
      "(224607, 124)\n"
     ]
    },
    {
     "name": "stderr",
     "output_type": "stream",
     "text": [
      "[Parallel(n_jobs=4)]: Using backend ThreadingBackend with 4 concurrent workers.\n",
      "[Parallel(n_jobs=4)]: Done  42 tasks      | elapsed:   15.3s\n",
      "[Parallel(n_jobs=4)]: Done 100 out of 100 | elapsed:   34.8s finished\n",
      "[Parallel(n_jobs=4)]: Using backend ThreadingBackend with 4 concurrent workers.\n",
      "[Parallel(n_jobs=4)]: Done  42 tasks      | elapsed:    0.1s\n",
      "[Parallel(n_jobs=4)]: Done 100 out of 100 | elapsed:    0.2s finished\n"
     ]
    },
    {
     "name": "stdout",
     "output_type": "stream",
     "text": [
      "CV score: 0.62684 \n",
      "store_data/new_feat/cat_inter_3way_new/cat_inter_3way_11.csv\n",
      "==============================\n",
      "Memory usage of dataframe is 179.98 MB\n",
      "Memory usage after optimization is: 36.00 MB\n",
      "Decreased by 80.0%\n",
      "==============================\n",
      "(224607, 124)\n"
     ]
    },
    {
     "name": "stderr",
     "output_type": "stream",
     "text": [
      "[Parallel(n_jobs=4)]: Using backend ThreadingBackend with 4 concurrent workers.\n",
      "[Parallel(n_jobs=4)]: Done  42 tasks      | elapsed:   16.2s\n",
      "[Parallel(n_jobs=4)]: Done 100 out of 100 | elapsed:   36.9s finished\n",
      "[Parallel(n_jobs=4)]: Using backend ThreadingBackend with 4 concurrent workers.\n",
      "[Parallel(n_jobs=4)]: Done  42 tasks      | elapsed:    0.1s\n",
      "[Parallel(n_jobs=4)]: Done 100 out of 100 | elapsed:    0.2s finished\n"
     ]
    },
    {
     "name": "stdout",
     "output_type": "stream",
     "text": [
      "CV score: 0.62766 \n",
      "store_data/new_feat/cat_inter_3way_new/cat_inter_3way_29.csv\n",
      "==============================\n",
      "Memory usage of dataframe is 179.98 MB\n",
      "Memory usage after optimization is: 40.17 MB\n",
      "Decreased by 77.7%\n",
      "==============================\n",
      "(224607, 124)\n"
     ]
    },
    {
     "name": "stderr",
     "output_type": "stream",
     "text": [
      "[Parallel(n_jobs=4)]: Using backend ThreadingBackend with 4 concurrent workers.\n",
      "[Parallel(n_jobs=4)]: Done  42 tasks      | elapsed:   17.1s\n",
      "[Parallel(n_jobs=4)]: Done 100 out of 100 | elapsed:   39.0s finished\n",
      "[Parallel(n_jobs=4)]: Using backend ThreadingBackend with 4 concurrent workers.\n",
      "[Parallel(n_jobs=4)]: Done  42 tasks      | elapsed:    0.1s\n",
      "[Parallel(n_jobs=4)]: Done 100 out of 100 | elapsed:    0.1s finished\n"
     ]
    },
    {
     "name": "stdout",
     "output_type": "stream",
     "text": [
      "CV score: 0.62739 \n",
      "store_data/new_feat/cat_inter_3way_new/cat_inter_3way_74.csv\n",
      "==============================\n",
      "Memory usage of dataframe is 179.98 MB\n",
      "Memory usage after optimization is: 36.32 MB\n",
      "Decreased by 79.8%\n",
      "==============================\n",
      "(224607, 124)\n"
     ]
    },
    {
     "name": "stderr",
     "output_type": "stream",
     "text": [
      "[Parallel(n_jobs=4)]: Using backend ThreadingBackend with 4 concurrent workers.\n",
      "[Parallel(n_jobs=4)]: Done  42 tasks      | elapsed:   16.6s\n",
      "[Parallel(n_jobs=4)]: Done 100 out of 100 | elapsed:   38.1s finished\n",
      "[Parallel(n_jobs=4)]: Using backend ThreadingBackend with 4 concurrent workers.\n",
      "[Parallel(n_jobs=4)]: Done  42 tasks      | elapsed:    0.1s\n",
      "[Parallel(n_jobs=4)]: Done 100 out of 100 | elapsed:    0.2s finished\n"
     ]
    },
    {
     "name": "stdout",
     "output_type": "stream",
     "text": [
      "CV score: 0.62782 \n",
      "store_data/new_feat/cat_inter_3way_new/cat_inter_3way_20.csv\n",
      "==============================\n",
      "Memory usage of dataframe is 179.98 MB\n",
      "Memory usage after optimization is: 34.07 MB\n",
      "Decreased by 81.1%\n",
      "==============================\n",
      "(224607, 124)\n"
     ]
    },
    {
     "name": "stderr",
     "output_type": "stream",
     "text": [
      "[Parallel(n_jobs=4)]: Using backend ThreadingBackend with 4 concurrent workers.\n",
      "[Parallel(n_jobs=4)]: Done  42 tasks      | elapsed:   16.6s\n",
      "[Parallel(n_jobs=4)]: Done 100 out of 100 | elapsed:   38.0s finished\n",
      "[Parallel(n_jobs=4)]: Using backend ThreadingBackend with 4 concurrent workers.\n",
      "[Parallel(n_jobs=4)]: Done  42 tasks      | elapsed:    0.1s\n",
      "[Parallel(n_jobs=4)]: Done 100 out of 100 | elapsed:    0.1s finished\n"
     ]
    },
    {
     "name": "stdout",
     "output_type": "stream",
     "text": [
      "CV score: 0.62650 \n",
      "store_data/new_feat/cat_inter_3way_new/cat_inter_3way_30.csv\n",
      "==============================\n",
      "Memory usage of dataframe is 179.98 MB\n",
      "Memory usage after optimization is: 32.46 MB\n",
      "Decreased by 82.0%\n",
      "==============================\n",
      "(224607, 124)\n"
     ]
    },
    {
     "name": "stderr",
     "output_type": "stream",
     "text": [
      "[Parallel(n_jobs=4)]: Using backend ThreadingBackend with 4 concurrent workers.\n",
      "[Parallel(n_jobs=4)]: Done  42 tasks      | elapsed:   15.0s\n",
      "[Parallel(n_jobs=4)]: Done 100 out of 100 | elapsed:   34.3s finished\n",
      "[Parallel(n_jobs=4)]: Using backend ThreadingBackend with 4 concurrent workers.\n",
      "[Parallel(n_jobs=4)]: Done  42 tasks      | elapsed:    0.1s\n",
      "[Parallel(n_jobs=4)]: Done 100 out of 100 | elapsed:    0.1s finished\n"
     ]
    },
    {
     "name": "stdout",
     "output_type": "stream",
     "text": [
      "CV score: 0.62767 \n",
      "store_data/new_feat/cat_inter_3way_new/cat_inter_3way_8.csv\n",
      "==============================\n",
      "Memory usage of dataframe is 179.98 MB\n",
      "Memory usage after optimization is: 28.28 MB\n",
      "Decreased by 84.3%\n",
      "==============================\n",
      "(224607, 124)\n"
     ]
    },
    {
     "name": "stderr",
     "output_type": "stream",
     "text": [
      "[Parallel(n_jobs=4)]: Using backend ThreadingBackend with 4 concurrent workers.\n",
      "[Parallel(n_jobs=4)]: Done  42 tasks      | elapsed:   14.6s\n",
      "[Parallel(n_jobs=4)]: Done 100 out of 100 | elapsed:   34.1s finished\n",
      "[Parallel(n_jobs=4)]: Using backend ThreadingBackend with 4 concurrent workers.\n",
      "[Parallel(n_jobs=4)]: Done  42 tasks      | elapsed:    0.1s\n",
      "[Parallel(n_jobs=4)]: Done 100 out of 100 | elapsed:    0.2s finished\n"
     ]
    },
    {
     "name": "stdout",
     "output_type": "stream",
     "text": [
      "CV score: 0.62731 \n",
      "store_data/new_feat/cat_inter_3way_new/cat_inter_3way_59.csv\n",
      "==============================\n",
      "Memory usage of dataframe is 179.98 MB\n",
      "Memory usage after optimization is: 36.64 MB\n",
      "Decreased by 79.6%\n",
      "==============================\n",
      "(224607, 124)\n"
     ]
    },
    {
     "name": "stderr",
     "output_type": "stream",
     "text": [
      "[Parallel(n_jobs=4)]: Using backend ThreadingBackend with 4 concurrent workers.\n",
      "[Parallel(n_jobs=4)]: Done  42 tasks      | elapsed:   17.1s\n",
      "[Parallel(n_jobs=4)]: Done 100 out of 100 | elapsed:   39.2s finished\n",
      "[Parallel(n_jobs=4)]: Using backend ThreadingBackend with 4 concurrent workers.\n",
      "[Parallel(n_jobs=4)]: Done  42 tasks      | elapsed:    0.1s\n",
      "[Parallel(n_jobs=4)]: Done 100 out of 100 | elapsed:    0.1s finished\n"
     ]
    },
    {
     "name": "stdout",
     "output_type": "stream",
     "text": [
      "CV score: 0.62733 \n",
      "store_data/new_feat/cat_inter_3way_new/cat_inter_3way_61.csv\n",
      "==============================\n",
      "Memory usage of dataframe is 179.98 MB\n",
      "Memory usage after optimization is: 34.07 MB\n",
      "Decreased by 81.1%\n",
      "==============================\n",
      "(224607, 124)\n"
     ]
    },
    {
     "name": "stderr",
     "output_type": "stream",
     "text": [
      "[Parallel(n_jobs=4)]: Using backend ThreadingBackend with 4 concurrent workers.\n",
      "[Parallel(n_jobs=4)]: Done  42 tasks      | elapsed:   15.9s\n",
      "[Parallel(n_jobs=4)]: Done 100 out of 100 | elapsed:   36.3s finished\n",
      "[Parallel(n_jobs=4)]: Using backend ThreadingBackend with 4 concurrent workers.\n",
      "[Parallel(n_jobs=4)]: Done  42 tasks      | elapsed:    0.1s\n",
      "[Parallel(n_jobs=4)]: Done 100 out of 100 | elapsed:    0.2s finished\n"
     ]
    },
    {
     "name": "stdout",
     "output_type": "stream",
     "text": [
      "CV score: 0.62800 \n",
      "store_data/new_feat/cat_inter_3way_new/cat_inter_3way_32.csv\n",
      "==============================\n",
      "Memory usage of dataframe is 179.98 MB\n",
      "Memory usage after optimization is: 38.57 MB\n",
      "Decreased by 78.6%\n",
      "==============================\n",
      "(224607, 124)\n"
     ]
    },
    {
     "name": "stderr",
     "output_type": "stream",
     "text": [
      "[Parallel(n_jobs=4)]: Using backend ThreadingBackend with 4 concurrent workers.\n",
      "[Parallel(n_jobs=4)]: Done  42 tasks      | elapsed:   17.5s\n",
      "[Parallel(n_jobs=4)]: Done 100 out of 100 | elapsed:   40.2s finished\n",
      "[Parallel(n_jobs=4)]: Using backend ThreadingBackend with 4 concurrent workers.\n",
      "[Parallel(n_jobs=4)]: Done  42 tasks      | elapsed:    0.1s\n",
      "[Parallel(n_jobs=4)]: Done 100 out of 100 | elapsed:    0.1s finished\n"
     ]
    },
    {
     "name": "stdout",
     "output_type": "stream",
     "text": [
      "CV score: 0.62707 \n",
      "store_data/new_feat/cat_inter_3way_new/cat_inter_3way_68.csv\n",
      "==============================\n",
      "Memory usage of dataframe is 179.98 MB\n",
      "Memory usage after optimization is: 33.42 MB\n",
      "Decreased by 81.4%\n",
      "==============================\n",
      "(224607, 124)\n"
     ]
    },
    {
     "name": "stderr",
     "output_type": "stream",
     "text": [
      "[Parallel(n_jobs=4)]: Using backend ThreadingBackend with 4 concurrent workers.\n",
      "[Parallel(n_jobs=4)]: Done  42 tasks      | elapsed:   18.1s\n",
      "[Parallel(n_jobs=4)]: Done 100 out of 100 | elapsed:   41.3s finished\n",
      "[Parallel(n_jobs=4)]: Using backend ThreadingBackend with 4 concurrent workers.\n",
      "[Parallel(n_jobs=4)]: Done  42 tasks      | elapsed:    0.1s\n",
      "[Parallel(n_jobs=4)]: Done 100 out of 100 | elapsed:    0.2s finished\n"
     ]
    },
    {
     "name": "stdout",
     "output_type": "stream",
     "text": [
      "CV score: 0.62811 \n",
      "store_data/new_feat/cat_inter_3way_new/cat_inter_3way_52.csv\n",
      "==============================\n",
      "Memory usage of dataframe is 179.98 MB\n",
      "Memory usage after optimization is: 37.92 MB\n",
      "Decreased by 78.9%\n",
      "==============================\n",
      "(224607, 124)\n"
     ]
    },
    {
     "name": "stderr",
     "output_type": "stream",
     "text": [
      "[Parallel(n_jobs=4)]: Using backend ThreadingBackend with 4 concurrent workers.\n",
      "[Parallel(n_jobs=4)]: Done  42 tasks      | elapsed:   16.8s\n",
      "[Parallel(n_jobs=4)]: Done 100 out of 100 | elapsed:   39.1s finished\n",
      "[Parallel(n_jobs=4)]: Using backend ThreadingBackend with 4 concurrent workers.\n",
      "[Parallel(n_jobs=4)]: Done  42 tasks      | elapsed:    0.1s\n",
      "[Parallel(n_jobs=4)]: Done 100 out of 100 | elapsed:    0.2s finished\n"
     ]
    },
    {
     "name": "stdout",
     "output_type": "stream",
     "text": [
      "CV score: 0.62677 \n",
      "store_data/new_feat/cat_inter_3way_new/cat_inter_3way_53.csv\n",
      "==============================\n",
      "Memory usage of dataframe is 179.98 MB\n",
      "Memory usage after optimization is: 34.39 MB\n",
      "Decreased by 80.9%\n",
      "==============================\n",
      "(224607, 124)\n"
     ]
    },
    {
     "name": "stderr",
     "output_type": "stream",
     "text": [
      "[Parallel(n_jobs=4)]: Using backend ThreadingBackend with 4 concurrent workers.\n",
      "[Parallel(n_jobs=4)]: Done  42 tasks      | elapsed:   15.3s\n",
      "[Parallel(n_jobs=4)]: Done 100 out of 100 | elapsed:   35.0s finished\n",
      "[Parallel(n_jobs=4)]: Using backend ThreadingBackend with 4 concurrent workers.\n",
      "[Parallel(n_jobs=4)]: Done  42 tasks      | elapsed:    0.1s\n",
      "[Parallel(n_jobs=4)]: Done 100 out of 100 | elapsed:    0.1s finished\n"
     ]
    },
    {
     "name": "stdout",
     "output_type": "stream",
     "text": [
      "CV score: 0.62778 \n"
     ]
    }
   ],
   "source": [
    "# rf_scores = []\n",
    "# rf_models  = []\n",
    "# rf_imps   = []\n",
    "\n",
    "cat_inter_3way = glob.glob('store_data/new_feat/cat_inter_3way_new/*')\n",
    "print(\"no of round on interaction: \", len(cat_inter_3way))\n",
    "\n",
    "\n",
    "for file in cat_inter_3way:\n",
    "    print(file)\n",
    "    cat_feature = pd.read_csv(file)\n",
    "    cat_feature = cat_feature.astype('int')\n",
    "    reduce_mem_usage_wo_print(cat_feature)\n",
    "    \n",
    "    cat_feature = cat_feature.iloc[:train_df.shape[0],:]\n",
    "    \n",
    "#     cat_feature_tr = cat_feature.iloc[:train_df.shape[0],:]\n",
    "#     cat_feature_ts = cat_feature.iloc[train_df.shape[0]:,:]\n",
    "#     cat_feature_ts.reset_index(drop=True, inplace=True)\n",
    "    \n",
    "#     del cat_feature\n",
    "#     gc.collect()\n",
    "    \n",
    "    tr_data = train_df.drop(['UniqueID','ltv_round_cat'], axis=1).fillna(0)\n",
    "    tr_data = pd.concat([tr_data, cat_feature], axis=1)\n",
    "    print(tr_data.shape)\n",
    "#     ts_data = test_df.drop(['UniqueID','ltv'], axis=1).fillna(0)\n",
    "    \n",
    "    del cat_feature\n",
    "    gc.collect()\n",
    "    \n",
    "    depth = 6\n",
    "    estimators = 100\n",
    "    rf_score_, rf_model_, rf_imp_ = run_rf(tr_data, target, depth, estimators)\n",
    "    \n",
    "    rf_scores.append(rf_score_)\n",
    "    rf_models.append(rf_model_)\n",
    "    rf_imps.append(rf_imp_)\n",
    "    \n",
    "    del tr_data\n",
    "    gc.collect()"
   ]
  },
  {
   "cell_type": "code",
   "execution_count": 121,
   "metadata": {},
   "outputs": [
    {
     "name": "stdout",
     "output_type": "stream",
     "text": [
      "shape of list after cat_inter_3way:  128\n"
     ]
    }
   ],
   "source": [
    "print(\"shape of list after cat_inter_3way: \",len(rf_scores))\n"
   ]
  },
  {
   "cell_type": "code",
   "execution_count": 123,
   "metadata": {},
   "outputs": [
    {
     "data": {
      "text/plain": [
       "[<matplotlib.lines.Line2D at 0x7f4f7a101eb8>]"
      ]
     },
     "execution_count": 123,
     "metadata": {},
     "output_type": "execute_result"
    },
    {
     "data": {
      "image/png": "[encoded data removed]",
      "text/plain": [
       "<Figure size 1296x432 with 1 Axes>"
      ]
     },
     "metadata": {
      "needs_background": "light"
     },
     "output_type": "display_data"
    }
   ],
   "source": [
    "plt.figure(figsize=(18,6))\n",
    "plt.plot(rf_scores,'-o')"
   ]
  },
  {
   "cell_type": "code",
   "execution_count": 182,
   "metadata": {},
   "outputs": [],
   "source": [
    "# import re\n",
    "\n",
    "# def split_it(x):\n",
    "#     return re.findall('[:\\+\\-\\*\\/]', x)# \n",
    "\n",
    "# imp['position'] = np.arange(imp.shape[0])+1\n",
    "# imp['position'] = imp.apply(lambda x: x[2] if split_it(x[0]) else 0, axis=1)\n",
    "# imp['which_file'] = 1\n",
    "# imp[imp.position != 0]"
   ]
  },
  {
   "cell_type": "code",
   "execution_count": 191,
   "metadata": {
    "scrolled": false
   },
   "outputs": [
    {
     "name": "stdout",
     "output_type": "stream",
     "text": [
      "reach here at  0\n"
     ]
    },
    {
     "name": "stderr",
     "output_type": "stream",
     "text": [
      "/home/ankish/anaconda3/lib/python3.6/site-packages/ipykernel_launcher.py:6: FutureWarning: Sorting because non-concatenation axis is not aligned. A future version\n",
      "of pandas will change to not sort by default.\n",
      "\n",
      "To accept the future behavior, pass 'sort=False'.\n",
      "\n",
      "To retain the current behavior and silence the warning, pass 'sort=True'.\n",
      "\n",
      "  \n"
     ]
    },
    {
     "name": "stdout",
     "output_type": "stream",
     "text": [
      "reach here at  10\n",
      "reach here at  20\n",
      "reach here at  30\n",
      "reach here at  40\n",
      "reach here at  50\n",
      "reach here at  60\n",
      "reach here at  70\n",
      "reach here at  80\n",
      "reach here at  90\n",
      "reach here at  100\n",
      "reach here at  110\n",
      "reach here at  120\n"
     ]
    }
   ],
   "source": [
    "import re\n",
    "\n",
    "def split_it(x):\n",
    "    return re.findall('[:\\+\\-\\*\\/]', x)# \n",
    "\n",
    "\n",
    "save_feat = pd.DataFrame()\n",
    "for ii,imp in enumerate(rf_imps):\n",
    "    imp['position'] = np.arange(imp.shape[0])+1\n",
    "    imp['position'] = imp.apply(lambda x: x[2] if split_it(x[0]) else 0, axis=1)\n",
    "    imp['which_file'] = ii\n",
    "    save_feat = pd.concat([save_feat, imp[imp.position != 0]], axis=0)\n",
    "    \n",
    "    if ii%10 == 0:\n",
    "        print(\"reach here at \",ii)"
   ]
  },
  {
   "cell_type": "code",
   "execution_count": 197,
   "metadata": {
    "scrolled": false
   },
   "outputs": [
    {
     "data": {
      "text/plain": [
       "1479"
      ]
     },
     "execution_count": 197,
     "metadata": {},
     "output_type": "execute_result"
    }
   ],
   "source": [
    "del rf_models\n",
    "gc.collect()"
   ]
  },
  {
   "cell_type": "code",
   "execution_count": 199,
   "metadata": {
    "scrolled": false
   },
   "outputs": [],
   "source": [
    "save_feat.to_csv('store_data/interaction_feature_importance.csv', index=None)\n",
    "np.save('store_data/intraction_feature_rf_scores.npy', rf_scores)"
   ]
  },
  {
   "cell_type": "code",
   "execution_count": null,
   "metadata": {},
   "outputs": [],
   "source": []
  },
  {
   "cell_type": "code",
   "execution_count": null,
   "metadata": {},
   "outputs": [],
   "source": []
  },
  {
   "cell_type": "code",
   "execution_count": null,
   "metadata": {},
   "outputs": [],
   "source": []
  },
  {
   "cell_type": "code",
   "execution_count": null,
   "metadata": {},
   "outputs": [],
   "source": []
  }
 ],
 "metadata": {
  "kernelspec": {
   "display_name": "Python 3",
   "language": "python",
   "name": "python3"
  },
  "language_info": {
   "codemirror_mode": {
    "name": "ipython",
    "version": 3
   },
   "file_extension": ".py",
   "mimetype": "text/x-python",
   "name": "python",
   "nbconvert_exporter": "python",
   "pygments_lexer": "ipython3",
   "version": "3.6.8"
  }
 },
 "nbformat": 4,
 "nbformat_minor": 2
}
