{
 "cells": [
  {
   "cell_type": "code",
   "execution_count": 1,
   "metadata": {},
   "outputs": [
    {
     "data": {
      "text/html": [
       "<style>.container { width:100% !important; }</style>"
      ],
      "text/plain": [
       "<IPython.core.display.HTML object>"
      ]
     },
     "metadata": {},
     "output_type": "display_data"
    }
   ],
   "source": [
    "import numpy as np\n",
    "import pandas as pd\n",
    "import matplotlib.pyplot as plt\n",
    "%matplotlib inline\n",
    "import seaborn as sns\n",
    "\n",
    "import os, gc\n",
    "import warnings\n",
    "warnings.filterwarnings(\"ignore\")\n",
    "\n",
    "pd.set_option('display.max_rows', 200)\n",
    "pd.set_option('display.max.columns', 200)\n",
    "\n",
    "\n",
    "from IPython.core.display import display, HTML\n",
    "display(HTML(\"<style>.container { width:100% !important; }</style>\"))\n",
    "\n",
    "sns.set(context='notebook', style='whitegrid', palette='deep', font='sans-serif', \n",
    "        font_scale=2, color_codes=True, rc=None)"
   ]
  },
  {
   "cell_type": "code",
   "execution_count": 2,
   "metadata": {},
   "outputs": [
    {
     "data": {
      "text/plain": [
       "['__MACOSX', 'sample_submission.csv', 'data.csv']"
      ]
     },
     "execution_count": 2,
     "metadata": {},
     "output_type": "execute_result"
    }
   ],
   "source": [
    "os.listdir('data/')"
   ]
  },
  {
   "cell_type": "code",
   "execution_count": 3,
   "metadata": {},
   "outputs": [
    {
     "data": {
      "text/html": [
       "<div>\n",
       "<style scoped>\n",
       "    .dataframe tbody tr th:only-of-type {\n",
       "        vertical-align: middle;\n",
       "    }\n",
       "\n",
       "    .dataframe tbody tr th {\n",
       "        vertical-align: top;\n",
       "    }\n",
       "\n",
       "    .dataframe thead th {\n",
       "        text-align: right;\n",
       "    }\n",
       "</style>\n",
       "<table border=\"1\" class=\"dataframe\">\n",
       "  <thead>\n",
       "    <tr style=\"text-align: right;\">\n",
       "      <th></th>\n",
       "      <th>Unnamed: 0</th>\n",
       "      <th>match_event_id</th>\n",
       "      <th>location_x</th>\n",
       "      <th>location_y</th>\n",
       "      <th>remaining_min</th>\n",
       "      <th>power_of_shot</th>\n",
       "      <th>knockout_match</th>\n",
       "      <th>game_season</th>\n",
       "      <th>remaining_sec</th>\n",
       "      <th>distance_of_shot</th>\n",
       "      <th>is_goal</th>\n",
       "      <th>area_of_shot</th>\n",
       "      <th>shot_basics</th>\n",
       "      <th>range_of_shot</th>\n",
       "      <th>team_name</th>\n",
       "      <th>date_of_game</th>\n",
       "      <th>home/away</th>\n",
       "      <th>shot_id_number</th>\n",
       "      <th>lat/lng</th>\n",
       "      <th>type_of_shot</th>\n",
       "      <th>type_of_combined_shot</th>\n",
       "      <th>match_id</th>\n",
       "      <th>team_id</th>\n",
       "      <th>remaining_min.1</th>\n",
       "      <th>power_of_shot.1</th>\n",
       "      <th>knockout_match.1</th>\n",
       "      <th>remaining_sec.1</th>\n",
       "      <th>distance_of_shot.1</th>\n",
       "    </tr>\n",
       "  </thead>\n",
       "  <tbody>\n",
       "    <tr>\n",
       "      <th>0</th>\n",
       "      <td>0</td>\n",
       "      <td>10.0</td>\n",
       "      <td>167.0</td>\n",
       "      <td>72.0</td>\n",
       "      <td>10.0</td>\n",
       "      <td>1.0</td>\n",
       "      <td>0.0</td>\n",
       "      <td>2000-01</td>\n",
       "      <td>27.0</td>\n",
       "      <td>38.0</td>\n",
       "      <td>NaN</td>\n",
       "      <td>Right Side(R)</td>\n",
       "      <td>Mid Range</td>\n",
       "      <td>16-24 ft.</td>\n",
       "      <td>Manchester United</td>\n",
       "      <td>2000-10-31</td>\n",
       "      <td>MANU @ POR</td>\n",
       "      <td>1.0</td>\n",
       "      <td>45.539131, -122.651648</td>\n",
       "      <td>shot - 30</td>\n",
       "      <td>NaN</td>\n",
       "      <td>20000012</td>\n",
       "      <td>1610612747</td>\n",
       "      <td>10.00</td>\n",
       "      <td>1.0</td>\n",
       "      <td>50.608</td>\n",
       "      <td>54.2000</td>\n",
       "      <td>38.0</td>\n",
       "    </tr>\n",
       "    <tr>\n",
       "      <th>1</th>\n",
       "      <td>1</td>\n",
       "      <td>12.0</td>\n",
       "      <td>-157.0</td>\n",
       "      <td>0.0</td>\n",
       "      <td>10.0</td>\n",
       "      <td>1.0</td>\n",
       "      <td>0.0</td>\n",
       "      <td>2000-01</td>\n",
       "      <td>22.0</td>\n",
       "      <td>35.0</td>\n",
       "      <td>0.0</td>\n",
       "      <td>Left Side(L)</td>\n",
       "      <td>Mid Range</td>\n",
       "      <td>8-16 ft.</td>\n",
       "      <td>Manchester United</td>\n",
       "      <td>2000-10-31</td>\n",
       "      <td>MANU @ POR</td>\n",
       "      <td>2.0</td>\n",
       "      <td>45.539131, -122.651648</td>\n",
       "      <td>shot - 45</td>\n",
       "      <td>NaN</td>\n",
       "      <td>20000012</td>\n",
       "      <td>1610612747</td>\n",
       "      <td>10.00</td>\n",
       "      <td>1.0</td>\n",
       "      <td>28.800</td>\n",
       "      <td>22.0000</td>\n",
       "      <td>35.0</td>\n",
       "    </tr>\n",
       "    <tr>\n",
       "      <th>2</th>\n",
       "      <td>2</td>\n",
       "      <td>35.0</td>\n",
       "      <td>-101.0</td>\n",
       "      <td>135.0</td>\n",
       "      <td>7.0</td>\n",
       "      <td>1.0</td>\n",
       "      <td>0.0</td>\n",
       "      <td>2000-01</td>\n",
       "      <td>45.0</td>\n",
       "      <td>36.0</td>\n",
       "      <td>1.0</td>\n",
       "      <td>Left Side Center(LC)</td>\n",
       "      <td>Mid Range</td>\n",
       "      <td>16-24 ft.</td>\n",
       "      <td>Manchester United</td>\n",
       "      <td>2000-10-31</td>\n",
       "      <td>NaN</td>\n",
       "      <td>3.0</td>\n",
       "      <td>45.539131, -122.651648</td>\n",
       "      <td>shot - 25</td>\n",
       "      <td>NaN</td>\n",
       "      <td>20000012</td>\n",
       "      <td>1610612747</td>\n",
       "      <td>92.64</td>\n",
       "      <td>1.0</td>\n",
       "      <td>0.000</td>\n",
       "      <td>63.7216</td>\n",
       "      <td>54.4</td>\n",
       "    </tr>\n",
       "    <tr>\n",
       "      <th>3</th>\n",
       "      <td>3</td>\n",
       "      <td>43.0</td>\n",
       "      <td>138.0</td>\n",
       "      <td>175.0</td>\n",
       "      <td>6.0</td>\n",
       "      <td>1.0</td>\n",
       "      <td>0.0</td>\n",
       "      <td>2000-01</td>\n",
       "      <td>52.0</td>\n",
       "      <td>42.0</td>\n",
       "      <td>0.0</td>\n",
       "      <td>Right Side Center(RC)</td>\n",
       "      <td>Mid Range</td>\n",
       "      <td>16-24 ft.</td>\n",
       "      <td>Manchester United</td>\n",
       "      <td>2000-10-31</td>\n",
       "      <td>MANU @ POR</td>\n",
       "      <td>4.0</td>\n",
       "      <td>45.539131, -122.651648</td>\n",
       "      <td>NaN</td>\n",
       "      <td>shot - 3</td>\n",
       "      <td>20000012</td>\n",
       "      <td>1610612747</td>\n",
       "      <td>NaN</td>\n",
       "      <td>1.0</td>\n",
       "      <td>122.608</td>\n",
       "      <td>52.0000</td>\n",
       "      <td>42.0</td>\n",
       "    </tr>\n",
       "    <tr>\n",
       "      <th>4</th>\n",
       "      <td>4</td>\n",
       "      <td>155.0</td>\n",
       "      <td>0.0</td>\n",
       "      <td>0.0</td>\n",
       "      <td>NaN</td>\n",
       "      <td>2.0</td>\n",
       "      <td>0.0</td>\n",
       "      <td>2000-01</td>\n",
       "      <td>19.0</td>\n",
       "      <td>20.0</td>\n",
       "      <td>1.0</td>\n",
       "      <td>Center(C)</td>\n",
       "      <td>Goal Area</td>\n",
       "      <td>Less Than 8 ft.</td>\n",
       "      <td>NaN</td>\n",
       "      <td>2000-10-31</td>\n",
       "      <td>MANU @ POR</td>\n",
       "      <td>5.0</td>\n",
       "      <td>45.539131, -122.651648</td>\n",
       "      <td>NaN</td>\n",
       "      <td>shot - 1</td>\n",
       "      <td>20000012</td>\n",
       "      <td>1610612747</td>\n",
       "      <td>42.64</td>\n",
       "      <td>2.0</td>\n",
       "      <td>0.000</td>\n",
       "      <td>19.0000</td>\n",
       "      <td>20.0</td>\n",
       "    </tr>\n",
       "  </tbody>\n",
       "</table>\n",
       "</div>"
      ],
      "text/plain": [
       "   Unnamed: 0  match_event_id  location_x  location_y  remaining_min  \\\n",
       "0           0            10.0       167.0        72.0           10.0   \n",
       "1           1            12.0      -157.0         0.0           10.0   \n",
       "2           2            35.0      -101.0       135.0            7.0   \n",
       "3           3            43.0       138.0       175.0            6.0   \n",
       "4           4           155.0         0.0         0.0            NaN   \n",
       "\n",
       "   power_of_shot  knockout_match game_season  remaining_sec  distance_of_shot  \\\n",
       "0            1.0             0.0     2000-01           27.0              38.0   \n",
       "1            1.0             0.0     2000-01           22.0              35.0   \n",
       "2            1.0             0.0     2000-01           45.0              36.0   \n",
       "3            1.0             0.0     2000-01           52.0              42.0   \n",
       "4            2.0             0.0     2000-01           19.0              20.0   \n",
       "\n",
       "   is_goal           area_of_shot shot_basics    range_of_shot  \\\n",
       "0      NaN          Right Side(R)   Mid Range        16-24 ft.   \n",
       "1      0.0           Left Side(L)   Mid Range         8-16 ft.   \n",
       "2      1.0   Left Side Center(LC)   Mid Range        16-24 ft.   \n",
       "3      0.0  Right Side Center(RC)   Mid Range        16-24 ft.   \n",
       "4      1.0              Center(C)   Goal Area  Less Than 8 ft.   \n",
       "\n",
       "           team_name date_of_game   home/away  shot_id_number  \\\n",
       "0  Manchester United   2000-10-31  MANU @ POR             1.0   \n",
       "1  Manchester United   2000-10-31  MANU @ POR             2.0   \n",
       "2  Manchester United   2000-10-31         NaN             3.0   \n",
       "3  Manchester United   2000-10-31  MANU @ POR             4.0   \n",
       "4                NaN   2000-10-31  MANU @ POR             5.0   \n",
       "\n",
       "                  lat/lng type_of_shot type_of_combined_shot  match_id  \\\n",
       "0  45.539131, -122.651648    shot - 30                   NaN  20000012   \n",
       "1  45.539131, -122.651648    shot - 45                   NaN  20000012   \n",
       "2  45.539131, -122.651648    shot - 25                   NaN  20000012   \n",
       "3  45.539131, -122.651648          NaN              shot - 3  20000012   \n",
       "4  45.539131, -122.651648          NaN              shot - 1  20000012   \n",
       "\n",
       "      team_id  remaining_min.1  power_of_shot.1  knockout_match.1  \\\n",
       "0  1610612747            10.00              1.0            50.608   \n",
       "1  1610612747            10.00              1.0            28.800   \n",
       "2  1610612747            92.64              1.0             0.000   \n",
       "3  1610612747              NaN              1.0           122.608   \n",
       "4  1610612747            42.64              2.0             0.000   \n",
       "\n",
       "   remaining_sec.1  distance_of_shot.1  \n",
       "0          54.2000                38.0  \n",
       "1          22.0000                35.0  \n",
       "2          63.7216                54.4  \n",
       "3          52.0000                42.0  \n",
       "4          19.0000                20.0  "
      ]
     },
     "execution_count": 3,
     "metadata": {},
     "output_type": "execute_result"
    }
   ],
   "source": [
    "df = pd.read_csv('data/data.csv')\n",
    "df.head()"
   ]
  },
  {
   "cell_type": "code",
   "execution_count": 4,
   "metadata": {},
   "outputs": [
    {
     "name": "stdout",
     "output_type": "stream",
     "text": [
      "<class 'pandas.core.frame.DataFrame'>\n",
      "RangeIndex: 30697 entries, 0 to 30696\n",
      "Data columns (total 28 columns):\n",
      "Unnamed: 0               30697 non-null int64\n",
      "match_event_id           29134 non-null float64\n",
      "location_x               29236 non-null float64\n",
      "location_y               29157 non-null float64\n",
      "remaining_min            29135 non-null float64\n",
      "power_of_shot            29211 non-null float64\n",
      "knockout_match           29180 non-null float64\n",
      "game_season              24835 non-null object\n",
      "remaining_sec            29103 non-null float64\n",
      "distance_of_shot         29130 non-null float64\n",
      "is_goal                  24429 non-null float64\n",
      "area_of_shot             29195 non-null object\n",
      "shot_basics              29122 non-null object\n",
      "range_of_shot            29133 non-null object\n",
      "team_name                29162 non-null object\n",
      "date_of_game             29147 non-null object\n",
      "home/away                29200 non-null object\n",
      "shot_id_number           29134 non-null float64\n",
      "lat/lng                  29132 non-null object\n",
      "type_of_shot             15417 non-null object\n",
      "type_of_combined_shot    15280 non-null object\n",
      "match_id                 30697 non-null int64\n",
      "team_id                  30697 non-null int64\n",
      "remaining_min.1          29162 non-null float64\n",
      "power_of_shot.1          29158 non-null float64\n",
      "knockout_match.1         29204 non-null float64\n",
      "remaining_sec.1          29158 non-null float64\n",
      "distance_of_shot.1       29129 non-null float64\n",
      "dtypes: float64(15), int64(3), object(10)\n",
      "memory usage: 6.6+ MB\n"
     ]
    }
   ],
   "source": [
    "df.info()"
   ]
  },
  {
   "cell_type": "code",
   "execution_count": 5,
   "metadata": {},
   "outputs": [
    {
     "data": {
      "text/plain": [
       "Index(['Unnamed: 0', 'match_event_id', 'location_x', 'location_y',\n",
       "       'remaining_min', 'power_of_shot', 'knockout_match', 'game_season',\n",
       "       'remaining_sec', 'distance_of_shot', 'is_goal', 'area_of_shot',\n",
       "       'shot_basics', 'range_of_shot', 'team_name', 'date_of_game',\n",
       "       'home/away', 'shot_id_number', 'lat/lng', 'type_of_shot',\n",
       "       'type_of_combined_shot', 'match_id', 'team_id', 'remaining_min.1',\n",
       "       'power_of_shot.1', 'knockout_match.1', 'remaining_sec.1',\n",
       "       'distance_of_shot.1'],\n",
       "      dtype='object')"
      ]
     },
     "execution_count": 5,
     "metadata": {},
     "output_type": "execute_result"
    }
   ],
   "source": [
    "df.columns"
   ]
  },
  {
   "cell_type": "code",
   "execution_count": 8,
   "metadata": {},
   "outputs": [
    {
     "data": {
      "text/plain": [
       "(30697, 27)"
      ]
     },
     "execution_count": 8,
     "metadata": {},
     "output_type": "execute_result"
    }
   ],
   "source": [
    "df.drop(['Unnamed: 0'], axis=1, inplace=True)\n",
    "df.shape"
   ]
  },
  {
   "cell_type": "code",
   "execution_count": 14,
   "metadata": {},
   "outputs": [
    {
     "data": {
      "text/plain": [
       "((24429, 27), (6268, 27))"
      ]
     },
     "execution_count": 14,
     "metadata": {},
     "output_type": "execute_result"
    }
   ],
   "source": [
    "train_df = df[~df.is_goal.isnull()]\n",
    "test_df  = df[df.is_goal.isnull()]\n",
    "train_df.shape, test_df.shape"
   ]
  },
  {
   "cell_type": "markdown",
   "metadata": {},
   "source": [
    "# SCORE: 1 / (1 + MAE)     .......  ##MAE: mean absolute error"
   ]
  },
  {
   "cell_type": "code",
   "execution_count": null,
   "metadata": {},
   "outputs": [],
   "source": []
  },
  {
   "cell_type": "markdown",
   "metadata": {},
   "source": [
    "## There seem to be duplicate columns, but turns out that these are uncorrelated component, which i guess, represent the first and second lap data, which make sense."
   ]
  },
  {
   "cell_type": "code",
   "execution_count": 19,
   "metadata": {},
   "outputs": [
    {
     "data": {
      "text/html": [
       "<div>\n",
       "<style scoped>\n",
       "    .dataframe tbody tr th:only-of-type {\n",
       "        vertical-align: middle;\n",
       "    }\n",
       "\n",
       "    .dataframe tbody tr th {\n",
       "        vertical-align: top;\n",
       "    }\n",
       "\n",
       "    .dataframe thead th {\n",
       "        text-align: right;\n",
       "    }\n",
       "</style>\n",
       "<table border=\"1\" class=\"dataframe\">\n",
       "  <thead>\n",
       "    <tr style=\"text-align: right;\">\n",
       "      <th></th>\n",
       "      <th>remaining_min.1</th>\n",
       "      <th>power_of_shot.1</th>\n",
       "      <th>knockout_match.1</th>\n",
       "      <th>remaining_sec.1</th>\n",
       "      <th>distance_of_shot.1</th>\n",
       "      <th>remaining_min</th>\n",
       "      <th>power_of_shot</th>\n",
       "      <th>knockout_match</th>\n",
       "      <th>remaining_sec</th>\n",
       "      <th>distance_of_shot</th>\n",
       "    </tr>\n",
       "  </thead>\n",
       "  <tbody>\n",
       "    <tr>\n",
       "      <th>0</th>\n",
       "      <td>10.00</td>\n",
       "      <td>1.0</td>\n",
       "      <td>50.608</td>\n",
       "      <td>54.2000</td>\n",
       "      <td>38.0</td>\n",
       "      <td>10.0</td>\n",
       "      <td>1.0</td>\n",
       "      <td>0.0</td>\n",
       "      <td>27.0</td>\n",
       "      <td>38.0</td>\n",
       "    </tr>\n",
       "    <tr>\n",
       "      <th>1</th>\n",
       "      <td>10.00</td>\n",
       "      <td>1.0</td>\n",
       "      <td>28.800</td>\n",
       "      <td>22.0000</td>\n",
       "      <td>35.0</td>\n",
       "      <td>10.0</td>\n",
       "      <td>1.0</td>\n",
       "      <td>0.0</td>\n",
       "      <td>22.0</td>\n",
       "      <td>35.0</td>\n",
       "    </tr>\n",
       "    <tr>\n",
       "      <th>2</th>\n",
       "      <td>92.64</td>\n",
       "      <td>1.0</td>\n",
       "      <td>0.000</td>\n",
       "      <td>63.7216</td>\n",
       "      <td>54.4</td>\n",
       "      <td>7.0</td>\n",
       "      <td>1.0</td>\n",
       "      <td>0.0</td>\n",
       "      <td>45.0</td>\n",
       "      <td>36.0</td>\n",
       "    </tr>\n",
       "    <tr>\n",
       "      <th>3</th>\n",
       "      <td>NaN</td>\n",
       "      <td>1.0</td>\n",
       "      <td>122.608</td>\n",
       "      <td>52.0000</td>\n",
       "      <td>42.0</td>\n",
       "      <td>6.0</td>\n",
       "      <td>1.0</td>\n",
       "      <td>0.0</td>\n",
       "      <td>52.0</td>\n",
       "      <td>42.0</td>\n",
       "    </tr>\n",
       "    <tr>\n",
       "      <th>4</th>\n",
       "      <td>42.64</td>\n",
       "      <td>2.0</td>\n",
       "      <td>0.000</td>\n",
       "      <td>19.0000</td>\n",
       "      <td>20.0</td>\n",
       "      <td>NaN</td>\n",
       "      <td>2.0</td>\n",
       "      <td>0.0</td>\n",
       "      <td>19.0</td>\n",
       "      <td>20.0</td>\n",
       "    </tr>\n",
       "  </tbody>\n",
       "</table>\n",
       "</div>"
      ],
      "text/plain": [
       "   remaining_min.1  power_of_shot.1  knockout_match.1  remaining_sec.1  \\\n",
       "0            10.00              1.0            50.608          54.2000   \n",
       "1            10.00              1.0            28.800          22.0000   \n",
       "2            92.64              1.0             0.000          63.7216   \n",
       "3              NaN              1.0           122.608          52.0000   \n",
       "4            42.64              2.0             0.000          19.0000   \n",
       "\n",
       "   distance_of_shot.1  remaining_min  power_of_shot  knockout_match  \\\n",
       "0                38.0           10.0            1.0             0.0   \n",
       "1                35.0           10.0            1.0             0.0   \n",
       "2                54.4            7.0            1.0             0.0   \n",
       "3                42.0            6.0            1.0             0.0   \n",
       "4                20.0            NaN            2.0             0.0   \n",
       "\n",
       "   remaining_sec  distance_of_shot  \n",
       "0           27.0              38.0  \n",
       "1           22.0              35.0  \n",
       "2           45.0              36.0  \n",
       "3           52.0              42.0  \n",
       "4           19.0              20.0  "
      ]
     },
     "execution_count": 19,
     "metadata": {},
     "output_type": "execute_result"
    }
   ],
   "source": [
    "df[[ 'remaining_min.1',\n",
    "     'power_of_shot.1',\n",
    "     'knockout_match.1',\n",
    "     'remaining_sec.1',\n",
    "     'distance_of_shot.1',\n",
    "     'remaining_min',\n",
    "     'power_of_shot',\n",
    "     'knockout_match',\n",
    "     'remaining_sec',\n",
    "     'distance_of_shot',]].head()"
   ]
  },
  {
   "cell_type": "code",
   "execution_count": 18,
   "metadata": {},
   "outputs": [
    {
     "data": {
      "text/plain": [
       "<matplotlib.axes._subplots.AxesSubplot at 0x7f6f59e76c50>"
      ]
     },
     "execution_count": 18,
     "metadata": {},
     "output_type": "execute_result"
    },
    {
     "data": {
      "image/png": "[encoded data removed]",
      "text/plain": [
       "<Figure size 432x288 with 2 Axes>"
      ]
     },
     "metadata": {
      "needs_background": "light"
     },
     "output_type": "display_data"
    }
   ],
   "source": [
    "# calculate the correlation matrix\n",
    "corr = df[[ 'remaining_min.1',\n",
    "     'power_of_shot.1',\n",
    "     'knockout_match.1',\n",
    "     'remaining_sec.1',\n",
    "     'distance_of_shot.1',\n",
    "     'remaining_min',\n",
    "     'power_of_shot',\n",
    "     'knockout_match',\n",
    "     'remaining_sec',\n",
    "     'distance_of_shot',]].corr()\n",
    "\n",
    "# plot the heatmap\n",
    "sns.heatmap(corr, \n",
    "        xticklabels=corr.columns,\n",
    "        yticklabels=corr.columns)"
   ]
  },
  {
   "cell_type": "code",
   "execution_count": 20,
   "metadata": {},
   "outputs": [
    {
     "data": {
      "text/plain": [
       "['match_event_id',\n",
       " 'location_x',\n",
       " 'location_y',\n",
       " 'remaining_min',\n",
       " 'power_of_shot',\n",
       " 'knockout_match',\n",
       " 'game_season',\n",
       " 'remaining_sec',\n",
       " 'distance_of_shot',\n",
       " 'is_goal',\n",
       " 'area_of_shot',\n",
       " 'shot_basics',\n",
       " 'range_of_shot',\n",
       " 'team_name',\n",
       " 'date_of_game',\n",
       " 'home/away',\n",
       " 'shot_id_number',\n",
       " 'lat/lng',\n",
       " 'type_of_shot',\n",
       " 'type_of_combined_shot',\n",
       " 'match_id',\n",
       " 'team_id',\n",
       " 'remaining_min.1',\n",
       " 'power_of_shot.1',\n",
       " 'knockout_match.1',\n",
       " 'remaining_sec.1',\n",
       " 'distance_of_shot.1']"
      ]
     },
     "execution_count": 20,
     "metadata": {},
     "output_type": "execute_result"
    }
   ],
   "source": [
    "[col for col in df.columns]"
   ]
  },
  {
   "cell_type": "code",
   "execution_count": 21,
   "metadata": {},
   "outputs": [
    {
     "data": {
      "text/html": [
       "<div>\n",
       "<style scoped>\n",
       "    .dataframe tbody tr th:only-of-type {\n",
       "        vertical-align: middle;\n",
       "    }\n",
       "\n",
       "    .dataframe tbody tr th {\n",
       "        vertical-align: top;\n",
       "    }\n",
       "\n",
       "    .dataframe thead th {\n",
       "        text-align: right;\n",
       "    }\n",
       "</style>\n",
       "<table border=\"1\" class=\"dataframe\">\n",
       "  <thead>\n",
       "    <tr style=\"text-align: right;\">\n",
       "      <th></th>\n",
       "      <th>match_event_id</th>\n",
       "      <th>location_x</th>\n",
       "      <th>location_y</th>\n",
       "      <th>remaining_min</th>\n",
       "      <th>power_of_shot</th>\n",
       "      <th>knockout_match</th>\n",
       "      <th>game_season</th>\n",
       "      <th>remaining_sec</th>\n",
       "      <th>distance_of_shot</th>\n",
       "      <th>is_goal</th>\n",
       "      <th>area_of_shot</th>\n",
       "      <th>shot_basics</th>\n",
       "      <th>range_of_shot</th>\n",
       "      <th>team_name</th>\n",
       "      <th>date_of_game</th>\n",
       "      <th>home/away</th>\n",
       "      <th>shot_id_number</th>\n",
       "      <th>lat/lng</th>\n",
       "      <th>type_of_shot</th>\n",
       "      <th>type_of_combined_shot</th>\n",
       "      <th>match_id</th>\n",
       "      <th>team_id</th>\n",
       "      <th>remaining_min.1</th>\n",
       "      <th>power_of_shot.1</th>\n",
       "      <th>knockout_match.1</th>\n",
       "      <th>remaining_sec.1</th>\n",
       "      <th>distance_of_shot.1</th>\n",
       "    </tr>\n",
       "  </thead>\n",
       "  <tbody>\n",
       "    <tr>\n",
       "      <th>0</th>\n",
       "      <td>10.0</td>\n",
       "      <td>167.0</td>\n",
       "      <td>72.0</td>\n",
       "      <td>10.0</td>\n",
       "      <td>1.0</td>\n",
       "      <td>0.0</td>\n",
       "      <td>2000-01</td>\n",
       "      <td>27.0</td>\n",
       "      <td>38.0</td>\n",
       "      <td>NaN</td>\n",
       "      <td>Right Side(R)</td>\n",
       "      <td>Mid Range</td>\n",
       "      <td>16-24 ft.</td>\n",
       "      <td>Manchester United</td>\n",
       "      <td>2000-10-31</td>\n",
       "      <td>MANU @ POR</td>\n",
       "      <td>1.0</td>\n",
       "      <td>45.539131, -122.651648</td>\n",
       "      <td>shot - 30</td>\n",
       "      <td>NaN</td>\n",
       "      <td>20000012</td>\n",
       "      <td>1610612747</td>\n",
       "      <td>10.00</td>\n",
       "      <td>1.0</td>\n",
       "      <td>50.608</td>\n",
       "      <td>54.2000</td>\n",
       "      <td>38.0</td>\n",
       "    </tr>\n",
       "    <tr>\n",
       "      <th>1</th>\n",
       "      <td>12.0</td>\n",
       "      <td>-157.0</td>\n",
       "      <td>0.0</td>\n",
       "      <td>10.0</td>\n",
       "      <td>1.0</td>\n",
       "      <td>0.0</td>\n",
       "      <td>2000-01</td>\n",
       "      <td>22.0</td>\n",
       "      <td>35.0</td>\n",
       "      <td>0.0</td>\n",
       "      <td>Left Side(L)</td>\n",
       "      <td>Mid Range</td>\n",
       "      <td>8-16 ft.</td>\n",
       "      <td>Manchester United</td>\n",
       "      <td>2000-10-31</td>\n",
       "      <td>MANU @ POR</td>\n",
       "      <td>2.0</td>\n",
       "      <td>45.539131, -122.651648</td>\n",
       "      <td>shot - 45</td>\n",
       "      <td>NaN</td>\n",
       "      <td>20000012</td>\n",
       "      <td>1610612747</td>\n",
       "      <td>10.00</td>\n",
       "      <td>1.0</td>\n",
       "      <td>28.800</td>\n",
       "      <td>22.0000</td>\n",
       "      <td>35.0</td>\n",
       "    </tr>\n",
       "    <tr>\n",
       "      <th>2</th>\n",
       "      <td>35.0</td>\n",
       "      <td>-101.0</td>\n",
       "      <td>135.0</td>\n",
       "      <td>7.0</td>\n",
       "      <td>1.0</td>\n",
       "      <td>0.0</td>\n",
       "      <td>2000-01</td>\n",
       "      <td>45.0</td>\n",
       "      <td>36.0</td>\n",
       "      <td>1.0</td>\n",
       "      <td>Left Side Center(LC)</td>\n",
       "      <td>Mid Range</td>\n",
       "      <td>16-24 ft.</td>\n",
       "      <td>Manchester United</td>\n",
       "      <td>2000-10-31</td>\n",
       "      <td>NaN</td>\n",
       "      <td>3.0</td>\n",
       "      <td>45.539131, -122.651648</td>\n",
       "      <td>shot - 25</td>\n",
       "      <td>NaN</td>\n",
       "      <td>20000012</td>\n",
       "      <td>1610612747</td>\n",
       "      <td>92.64</td>\n",
       "      <td>1.0</td>\n",
       "      <td>0.000</td>\n",
       "      <td>63.7216</td>\n",
       "      <td>54.4</td>\n",
       "    </tr>\n",
       "    <tr>\n",
       "      <th>3</th>\n",
       "      <td>43.0</td>\n",
       "      <td>138.0</td>\n",
       "      <td>175.0</td>\n",
       "      <td>6.0</td>\n",
       "      <td>1.0</td>\n",
       "      <td>0.0</td>\n",
       "      <td>2000-01</td>\n",
       "      <td>52.0</td>\n",
       "      <td>42.0</td>\n",
       "      <td>0.0</td>\n",
       "      <td>Right Side Center(RC)</td>\n",
       "      <td>Mid Range</td>\n",
       "      <td>16-24 ft.</td>\n",
       "      <td>Manchester United</td>\n",
       "      <td>2000-10-31</td>\n",
       "      <td>MANU @ POR</td>\n",
       "      <td>4.0</td>\n",
       "      <td>45.539131, -122.651648</td>\n",
       "      <td>NaN</td>\n",
       "      <td>shot - 3</td>\n",
       "      <td>20000012</td>\n",
       "      <td>1610612747</td>\n",
       "      <td>NaN</td>\n",
       "      <td>1.0</td>\n",
       "      <td>122.608</td>\n",
       "      <td>52.0000</td>\n",
       "      <td>42.0</td>\n",
       "    </tr>\n",
       "    <tr>\n",
       "      <th>4</th>\n",
       "      <td>155.0</td>\n",
       "      <td>0.0</td>\n",
       "      <td>0.0</td>\n",
       "      <td>NaN</td>\n",
       "      <td>2.0</td>\n",
       "      <td>0.0</td>\n",
       "      <td>2000-01</td>\n",
       "      <td>19.0</td>\n",
       "      <td>20.0</td>\n",
       "      <td>1.0</td>\n",
       "      <td>Center(C)</td>\n",
       "      <td>Goal Area</td>\n",
       "      <td>Less Than 8 ft.</td>\n",
       "      <td>NaN</td>\n",
       "      <td>2000-10-31</td>\n",
       "      <td>MANU @ POR</td>\n",
       "      <td>5.0</td>\n",
       "      <td>45.539131, -122.651648</td>\n",
       "      <td>NaN</td>\n",
       "      <td>shot - 1</td>\n",
       "      <td>20000012</td>\n",
       "      <td>1610612747</td>\n",
       "      <td>42.64</td>\n",
       "      <td>2.0</td>\n",
       "      <td>0.000</td>\n",
       "      <td>19.0000</td>\n",
       "      <td>20.0</td>\n",
       "    </tr>\n",
       "  </tbody>\n",
       "</table>\n",
       "</div>"
      ],
      "text/plain": [
       "   match_event_id  location_x  location_y  remaining_min  power_of_shot  \\\n",
       "0            10.0       167.0        72.0           10.0            1.0   \n",
       "1            12.0      -157.0         0.0           10.0            1.0   \n",
       "2            35.0      -101.0       135.0            7.0            1.0   \n",
       "3            43.0       138.0       175.0            6.0            1.0   \n",
       "4           155.0         0.0         0.0            NaN            2.0   \n",
       "\n",
       "   knockout_match game_season  remaining_sec  distance_of_shot  is_goal  \\\n",
       "0             0.0     2000-01           27.0              38.0      NaN   \n",
       "1             0.0     2000-01           22.0              35.0      0.0   \n",
       "2             0.0     2000-01           45.0              36.0      1.0   \n",
       "3             0.0     2000-01           52.0              42.0      0.0   \n",
       "4             0.0     2000-01           19.0              20.0      1.0   \n",
       "\n",
       "            area_of_shot shot_basics    range_of_shot          team_name  \\\n",
       "0          Right Side(R)   Mid Range        16-24 ft.  Manchester United   \n",
       "1           Left Side(L)   Mid Range         8-16 ft.  Manchester United   \n",
       "2   Left Side Center(LC)   Mid Range        16-24 ft.  Manchester United   \n",
       "3  Right Side Center(RC)   Mid Range        16-24 ft.  Manchester United   \n",
       "4              Center(C)   Goal Area  Less Than 8 ft.                NaN   \n",
       "\n",
       "  date_of_game   home/away  shot_id_number                 lat/lng  \\\n",
       "0   2000-10-31  MANU @ POR             1.0  45.539131, -122.651648   \n",
       "1   2000-10-31  MANU @ POR             2.0  45.539131, -122.651648   \n",
       "2   2000-10-31         NaN             3.0  45.539131, -122.651648   \n",
       "3   2000-10-31  MANU @ POR             4.0  45.539131, -122.651648   \n",
       "4   2000-10-31  MANU @ POR             5.0  45.539131, -122.651648   \n",
       "\n",
       "  type_of_shot type_of_combined_shot  match_id     team_id  remaining_min.1  \\\n",
       "0    shot - 30                   NaN  20000012  1610612747            10.00   \n",
       "1    shot - 45                   NaN  20000012  1610612747            10.00   \n",
       "2    shot - 25                   NaN  20000012  1610612747            92.64   \n",
       "3          NaN              shot - 3  20000012  1610612747              NaN   \n",
       "4          NaN              shot - 1  20000012  1610612747            42.64   \n",
       "\n",
       "   power_of_shot.1  knockout_match.1  remaining_sec.1  distance_of_shot.1  \n",
       "0              1.0            50.608          54.2000                38.0  \n",
       "1              1.0            28.800          22.0000                35.0  \n",
       "2              1.0             0.000          63.7216                54.4  \n",
       "3              1.0           122.608          52.0000                42.0  \n",
       "4              2.0             0.000          19.0000                20.0  "
      ]
     },
     "execution_count": 21,
     "metadata": {},
     "output_type": "execute_result"
    }
   ],
   "source": [
    "df.head()"
   ]
  },
  {
   "cell_type": "code",
   "execution_count": 28,
   "metadata": {},
   "outputs": [
    {
     "data": {
      "text/plain": [
       "<matplotlib.axes._subplots.AxesSubplot at 0x7f6f59b82eb8>"
      ]
     },
     "execution_count": 28,
     "metadata": {},
     "output_type": "execute_result"
    },
    {
     "data": {
      "image/png": "[encoded data removed]",
      "text/plain": [
       "<Figure size 1296x1080 with 2 Axes>"
      ]
     },
     "metadata": {
      "needs_background": "light"
     },
     "output_type": "display_data"
    }
   ],
   "source": [
    "# calculate the correlation matrix\n",
    "corr = df.corr()\n",
    "fig, ax = plt.subplots(figsize=(18,15))\n",
    "sns.heatmap(corr, xticklabels=corr.columns, yticklabels=corr.columns, ax=ax)"
   ]
  },
  {
   "cell_type": "code",
   "execution_count": 35,
   "metadata": {},
   "outputs": [
    {
     "name": "stdout",
     "output_type": "stream",
     "text": [
      "match_event_id         619\n",
      "location_x             489\n",
      "location_y             451\n",
      "remaining_min          13\n",
      "power_of_shot          8\n",
      "knockout_match         3\n",
      "game_season            21\n",
      "remaining_sec          61\n",
      "distance_of_shot       74\n",
      "is_goal                3\n",
      "area_of_shot           7\n",
      "shot_basics            8\n",
      "range_of_shot          6\n",
      "team_name              2\n",
      "date_of_game           1559\n",
      "home/away              75\n",
      "shot_id_number         29135\n",
      "lat/lng                39\n",
      "type_of_shot           58\n",
      "type_of_combined_shot  7\n",
      "match_id               1559\n",
      "team_id                1\n",
      "remaining_min.1        292\n",
      "power_of_shot.1        207\n",
      "knockout_match.1       383\n",
      "remaining_sec.1        355\n",
      "distance_of_shot.1     272\n"
     ]
    }
   ],
   "source": [
    "for col in df.columns:\n",
    "    print(col.ljust(22), df[col].unique().shape[0])"
   ]
  },
  {
   "cell_type": "code",
   "execution_count": 39,
   "metadata": {},
   "outputs": [
    {
     "data": {
      "text/plain": [
       "match_event_id             618\n",
       "location_x                 488\n",
       "location_y                 450\n",
       "remaining_min               12\n",
       "power_of_shot                7\n",
       "knockout_match               2\n",
       "game_season                 20\n",
       "remaining_sec               60\n",
       "distance_of_shot            73\n",
       "is_goal                      2\n",
       "area_of_shot                 6\n",
       "shot_basics                  7\n",
       "range_of_shot                5\n",
       "team_name                    1\n",
       "date_of_game              1558\n",
       "home/away                   74\n",
       "shot_id_number           29134\n",
       "lat/lng                     38\n",
       "type_of_shot                57\n",
       "type_of_combined_shot        6\n",
       "match_id                  1559\n",
       "team_id                      1\n",
       "remaining_min.1            291\n",
       "power_of_shot.1            206\n",
       "knockout_match.1           382\n",
       "remaining_sec.1            354\n",
       "distance_of_shot.1         271\n",
       "dtype: int64"
      ]
     },
     "execution_count": 39,
     "metadata": {},
     "output_type": "execute_result"
    }
   ],
   "source": [
    "df.apply(lambda x: x.value_counts().shape[0])"
   ]
  },
  {
   "cell_type": "code",
   "execution_count": 42,
   "metadata": {},
   "outputs": [
    {
     "data": {
      "text/plain": [
       "(30697, 24)"
      ]
     },
     "execution_count": 42,
     "metadata": {},
     "output_type": "execute_result"
    }
   ],
   "source": [
    "df.drop(['team_name','team_id', 'shot_id_number'], axis=1, inplace=True)\n",
    "df.shape"
   ]
  },
  {
   "cell_type": "code",
   "execution_count": 43,
   "metadata": {},
   "outputs": [
    {
     "name": "stdout",
     "output_type": "stream",
     "text": [
      "Checking whether there is an H2O instance running at http://localhost:54321..... not found.\n",
      "Attempting to start a local H2O server...\n",
      "  Java Version: openjdk version \"1.8.0_121\"; OpenJDK Runtime Environment (Zulu 8.20.0.5-linux64) (build 1.8.0_121-b15); OpenJDK 64-Bit Server VM (Zulu 8.20.0.5-linux64) (build 25.121-b15, mixed mode)\n",
      "  Starting server from /home/ankish/anaconda3/h2o_jar/h2o.jar\n",
      "  Ice root: /tmp/tmpfz4medlz\n",
      "  JVM stdout: /tmp/tmpfz4medlz/h2o_ankish_started_from_python.out\n",
      "  JVM stderr: /tmp/tmpfz4medlz/h2o_ankish_started_from_python.err\n",
      "  Server is running at http://127.0.0.1:54321\n",
      "Connecting to H2O server at http://127.0.0.1:54321... successful.\n",
      "Warning: Your H2O cluster version is too old (1 year, 4 months and 13 days)! Please download and install the latest version from http://h2o.ai/download/\n"
     ]
    },
    {
     "data": {
      "text/html": [
       "<div style=\"overflow:auto\"><table style=\"width:50%\"><tr><td>H2O cluster uptime:</td>\n",
       "<td>02 secs</td></tr>\n",
       "<tr><td>H2O cluster timezone:</td>\n",
       "<td>Asia/Kolkata</td></tr>\n",
       "<tr><td>H2O data parsing timezone:</td>\n",
       "<td>UTC</td></tr>\n",
       "<tr><td>H2O cluster version:</td>\n",
       "<td>3.18.0.2</td></tr>\n",
       "<tr><td>H2O cluster version age:</td>\n",
       "<td>1 year, 4 months and 13 days !!!</td></tr>\n",
       "<tr><td>H2O cluster name:</td>\n",
       "<td>H2O_from_python_ankish_267tg8</td></tr>\n",
       "<tr><td>H2O cluster total nodes:</td>\n",
       "<td>1</td></tr>\n",
       "<tr><td>H2O cluster free memory:</td>\n",
       "<td>2.590 Gb</td></tr>\n",
       "<tr><td>H2O cluster total cores:</td>\n",
       "<td>4</td></tr>\n",
       "<tr><td>H2O cluster allowed cores:</td>\n",
       "<td>4</td></tr>\n",
       "<tr><td>H2O cluster status:</td>\n",
       "<td>accepting new members, healthy</td></tr>\n",
       "<tr><td>H2O connection url:</td>\n",
       "<td>http://127.0.0.1:54321</td></tr>\n",
       "<tr><td>H2O connection proxy:</td>\n",
       "<td>None</td></tr>\n",
       "<tr><td>H2O internal security:</td>\n",
       "<td>False</td></tr>\n",
       "<tr><td>H2O API Extensions:</td>\n",
       "<td>XGBoost, Algos, AutoML, Core V3, Core V4</td></tr>\n",
       "<tr><td>Python version:</td>\n",
       "<td>3.6.8 final</td></tr></table></div>"
      ],
      "text/plain": [
       "--------------------------  ----------------------------------------\n",
       "H2O cluster uptime:         02 secs\n",
       "H2O cluster timezone:       Asia/Kolkata\n",
       "H2O data parsing timezone:  UTC\n",
       "H2O cluster version:        3.18.0.2\n",
       "H2O cluster version age:    1 year, 4 months and 13 days !!!\n",
       "H2O cluster name:           H2O_from_python_ankish_267tg8\n",
       "H2O cluster total nodes:    1\n",
       "H2O cluster free memory:    2.590 Gb\n",
       "H2O cluster total cores:    4\n",
       "H2O cluster allowed cores:  4\n",
       "H2O cluster status:         accepting new members, healthy\n",
       "H2O connection url:         http://127.0.0.1:54321\n",
       "H2O connection proxy:\n",
       "H2O internal security:      False\n",
       "H2O API Extensions:         XGBoost, Algos, AutoML, Core V3, Core V4\n",
       "Python version:             3.6.8 final\n",
       "--------------------------  ----------------------------------------"
      ]
     },
     "metadata": {},
     "output_type": "display_data"
    }
   ],
   "source": [
    "import h2o\n",
    "from h2o.automl import H2OAutoML\n",
    "\n",
    "h2o.init()"
   ]
  },
  {
   "cell_type": "code",
   "execution_count": 45,
   "metadata": {},
   "outputs": [
    {
     "data": {
      "text/plain": [
       "2746"
      ]
     },
     "execution_count": 45,
     "metadata": {},
     "output_type": "execute_result"
    }
   ],
   "source": [
    "del train_df, test_df\n",
    "gc.collect()"
   ]
  },
  {
   "cell_type": "code",
   "execution_count": 46,
   "metadata": {},
   "outputs": [
    {
     "data": {
      "text/plain": [
       "((24429, 24), (6268, 24))"
      ]
     },
     "execution_count": 46,
     "metadata": {},
     "output_type": "execute_result"
    }
   ],
   "source": [
    "train_df = df[~df.is_goal.isnull()]\n",
    "test_df  = df[df.is_goal.isnull()]\n",
    "train_df.shape, test_df.shape"
   ]
  },
  {
   "cell_type": "code",
   "execution_count": 47,
   "metadata": {},
   "outputs": [
    {
     "name": "stdout",
     "output_type": "stream",
     "text": [
      "Parse progress: |█████████████████████████████████████████████████████████| 100%\n",
      "Parse progress: |█████████████████████████████████████████████████████████| 100%\n"
     ]
    },
    {
     "data": {
      "text/plain": [
       "((24429, 24), (6268, 24))"
      ]
     },
     "execution_count": 47,
     "metadata": {},
     "output_type": "execute_result"
    }
   ],
   "source": [
    "train = h2o.H2OFrame(train_df)\n",
    "test  = h2o.H2OFrame(test_df)\n",
    "train.shape, test.shape"
   ]
  },
  {
   "cell_type": "code",
   "execution_count": 48,
   "metadata": {},
   "outputs": [],
   "source": [
    "# Identify predictors and response\n",
    "x = train.columns\n",
    "y = \"is_goal\"\n",
    "x.remove(y)\n",
    "\n",
    "# For binary classification, response should be a factor\n",
    "train[y] = train[y].asfactor()\n",
    "test[y]  = test[y].asfactor()"
   ]
  },
  {
   "cell_type": "code",
   "execution_count": 56,
   "metadata": {},
   "outputs": [
    {
     "name": "stdout",
     "output_type": "stream",
     "text": [
      "AutoML progress: |████████████████████████████████████████████████████████| 100%\n",
      "Parse progress: |█████████████████████████████████████████████████████████| 100%\n"
     ]
    }
   ],
   "source": [
    "\n",
    "# Run AutoML for 30 seconds\n",
    "aml = H2OAutoML(max_models=25, seed=1337, max_runtime_secs=9500, nfolds=4)\n",
    "aml.train(x = x, y = y,\n",
    "          training_frame = train,\n",
    "          leaderboard_frame = train)"
   ]
  },
  {
   "cell_type": "code",
   "execution_count": 57,
   "metadata": {},
   "outputs": [
    {
     "data": {
      "text/html": [
       "<table>\n",
       "<thead>\n",
       "<tr><th>model_id                                             </th><th style=\"text-align: right;\">     auc</th><th style=\"text-align: right;\">  logloss</th></tr>\n",
       "</thead>\n",
       "<tbody>\n",
       "<tr><td>GBM_grid_0_AutoML_20190719_192410_model_9            </td><td style=\"text-align: right;\">0.974594</td><td style=\"text-align: right;\"> 0.233703</td></tr>\n",
       "<tr><td>GBM_grid_0_AutoML_20190719_192410_model_16           </td><td style=\"text-align: right;\">0.967886</td><td style=\"text-align: right;\"> 0.671416</td></tr>\n",
       "<tr><td>DRF_0_AutoML_20190719_192130                         </td><td style=\"text-align: right;\">0.967523</td><td style=\"text-align: right;\"> 0.339231</td></tr>\n",
       "<tr><td>DRF_0_AutoML_20190719_192410                         </td><td style=\"text-align: right;\">0.966501</td><td style=\"text-align: right;\"> 0.340454</td></tr>\n",
       "<tr><td>GBM_grid_0_AutoML_20190719_192130_model_11           </td><td style=\"text-align: right;\">0.961908</td><td style=\"text-align: right;\"> 0.679283</td></tr>\n",
       "<tr><td>GBM_grid_0_AutoML_20190719_192130_model_9            </td><td style=\"text-align: right;\">0.959949</td><td style=\"text-align: right;\"> 0.676184</td></tr>\n",
       "<tr><td>GBM_grid_0_AutoML_20190719_192410_model_14           </td><td style=\"text-align: right;\">0.959949</td><td style=\"text-align: right;\"> 0.676184</td></tr>\n",
       "<tr><td>GBM_grid_0_AutoML_20190719_192410_model_19           </td><td style=\"text-align: right;\">0.948774</td><td style=\"text-align: right;\"> 0.296676</td></tr>\n",
       "<tr><td>GBM_grid_0_AutoML_20190719_192410_model_18           </td><td style=\"text-align: right;\">0.943755</td><td style=\"text-align: right;\"> 0.296538</td></tr>\n",
       "<tr><td>GBM_grid_0_AutoML_20190719_192130_model_10           </td><td style=\"text-align: right;\">0.917779</td><td style=\"text-align: right;\"> 0.382282</td></tr>\n",
       "<tr><td>GBM_grid_0_AutoML_20190719_192410_model_15           </td><td style=\"text-align: right;\">0.917779</td><td style=\"text-align: right;\"> 0.382282</td></tr>\n",
       "<tr><td>XRT_0_AutoML_20190719_192130                         </td><td style=\"text-align: right;\">0.915627</td><td style=\"text-align: right;\"> 0.467867</td></tr>\n",
       "<tr><td>XRT_0_AutoML_20190719_192410                         </td><td style=\"text-align: right;\">0.913938</td><td style=\"text-align: right;\"> 0.468308</td></tr>\n",
       "<tr><td>StackedEnsemble_BestOfFamily_0_AutoML_20190719_192130</td><td style=\"text-align: right;\">0.898532</td><td style=\"text-align: right;\"> 0.5262  </td></tr>\n",
       "<tr><td>GBM_grid_0_AutoML_20190719_192410_model_3            </td><td style=\"text-align: right;\">0.897058</td><td style=\"text-align: right;\"> 0.483937</td></tr>\n",
       "<tr><td>GBM_grid_0_AutoML_20190719_192130_model_3            </td><td style=\"text-align: right;\">0.897058</td><td style=\"text-align: right;\"> 0.483937</td></tr>\n",
       "<tr><td>GBM_grid_0_AutoML_20190719_192410_model_2            </td><td style=\"text-align: right;\">0.840317</td><td style=\"text-align: right;\"> 0.536551</td></tr>\n",
       "<tr><td>GBM_grid_0_AutoML_20190719_192130_model_2            </td><td style=\"text-align: right;\">0.836616</td><td style=\"text-align: right;\"> 0.539839</td></tr>\n",
       "<tr><td>GBM_grid_0_AutoML_20190719_192410_model_12           </td><td style=\"text-align: right;\">0.832726</td><td style=\"text-align: right;\"> 0.645242</td></tr>\n",
       "<tr><td>GBM_grid_0_AutoML_20190719_192130_model_7            </td><td style=\"text-align: right;\">0.832498</td><td style=\"text-align: right;\"> 0.645912</td></tr>\n",
       "<tr><td>GBM_grid_0_AutoML_20190719_192410_model_17           </td><td style=\"text-align: right;\">0.829264</td><td style=\"text-align: right;\"> 0.507352</td></tr>\n",
       "<tr><td>StackedEnsemble_AllModels_0_AutoML_20190719_192130   </td><td style=\"text-align: right;\">0.824344</td><td style=\"text-align: right;\"> 0.569739</td></tr>\n",
       "<tr><td>GBM_grid_0_AutoML_20190719_192410_model_20           </td><td style=\"text-align: right;\">0.821176</td><td style=\"text-align: right;\"> 0.54825 </td></tr>\n",
       "<tr><td>GBM_grid_0_AutoML_20190719_192410_model_7            </td><td style=\"text-align: right;\">0.81368 </td><td style=\"text-align: right;\"> 0.634597</td></tr>\n",
       "<tr><td>GBM_grid_0_AutoML_20190719_192410_model_1            </td><td style=\"text-align: right;\">0.804576</td><td style=\"text-align: right;\"> 0.561384</td></tr>\n",
       "<tr><td>GBM_grid_0_AutoML_20190719_192410_model_4            </td><td style=\"text-align: right;\">0.80169 </td><td style=\"text-align: right;\"> 0.563807</td></tr>\n",
       "<tr><td>GBM_grid_0_AutoML_20190719_192130_model_4            </td><td style=\"text-align: right;\">0.80169 </td><td style=\"text-align: right;\"> 0.563807</td></tr>\n",
       "<tr><td>GBM_grid_0_AutoML_20190719_192130_model_1            </td><td style=\"text-align: right;\">0.800057</td><td style=\"text-align: right;\"> 0.564462</td></tr>\n",
       "<tr><td>GBM_grid_0_AutoML_20190719_192410_model_8            </td><td style=\"text-align: right;\">0.784732</td><td style=\"text-align: right;\"> 0.550953</td></tr>\n",
       "<tr><td>GBM_grid_0_AutoML_20190719_192130_model_5            </td><td style=\"text-align: right;\">0.784107</td><td style=\"text-align: right;\"> 0.582048</td></tr>\n",
       "<tr><td>GBM_grid_0_AutoML_20190719_192410_model_10           </td><td style=\"text-align: right;\">0.784107</td><td style=\"text-align: right;\"> 0.582048</td></tr>\n",
       "<tr><td>GBM_grid_0_AutoML_20190719_192130_model_0            </td><td style=\"text-align: right;\">0.770886</td><td style=\"text-align: right;\"> 0.581386</td></tr>\n",
       "<tr><td>GBM_grid_0_AutoML_20190719_192410_model_0            </td><td style=\"text-align: right;\">0.770886</td><td style=\"text-align: right;\"> 0.581386</td></tr>\n",
       "<tr><td>GBM_grid_0_AutoML_20190719_192130_model_8            </td><td style=\"text-align: right;\">0.721296</td><td style=\"text-align: right;\"> 0.683184</td></tr>\n",
       "<tr><td>GBM_grid_0_AutoML_20190719_192410_model_13           </td><td style=\"text-align: right;\">0.721296</td><td style=\"text-align: right;\"> 0.683184</td></tr>\n",
       "<tr><td>GBM_grid_0_AutoML_20190719_192410_model_6            </td><td style=\"text-align: right;\">0.720693</td><td style=\"text-align: right;\"> 0.652671</td></tr>\n",
       "<tr><td>GBM_grid_0_AutoML_20190719_192410_model_5            </td><td style=\"text-align: right;\">0.714648</td><td style=\"text-align: right;\"> 0.614305</td></tr>\n",
       "<tr><td>DeepLearning_0_AutoML_20190719_192130                </td><td style=\"text-align: right;\">0.666337</td><td style=\"text-align: right;\"> 0.634286</td></tr>\n",
       "<tr><td>DeepLearning_0_AutoML_20190719_192410                </td><td style=\"text-align: right;\">0.662936</td><td style=\"text-align: right;\"> 0.639808</td></tr>\n",
       "<tr><td>GLM_grid_0_AutoML_20190719_192410_model_0            </td><td style=\"text-align: right;\">0.655312</td><td style=\"text-align: right;\"> 0.641068</td></tr>\n",
       "<tr><td>GBM_grid_0_AutoML_20190719_192410_model_11           </td><td style=\"text-align: right;\">0.654422</td><td style=\"text-align: right;\"> 0.669277</td></tr>\n",
       "<tr><td>GBM_grid_0_AutoML_20190719_192130_model_6            </td><td style=\"text-align: right;\">0.654422</td><td style=\"text-align: right;\"> 0.669277</td></tr>\n",
       "<tr><td>GLM_grid_0_AutoML_20190719_192130_model_0            </td><td style=\"text-align: right;\">0.654207</td><td style=\"text-align: right;\"> 0.641709</td></tr>\n",
       "</tbody>\n",
       "</table>"
      ]
     },
     "metadata": {},
     "output_type": "display_data"
    },
    {
     "data": {
      "text/plain": []
     },
     "execution_count": 57,
     "metadata": {},
     "output_type": "execute_result"
    }
   ],
   "source": [
    "lb = aml.leaderboard\n",
    "lb.head(rows=lb.nrows)"
   ]
  },
  {
   "cell_type": "code",
   "execution_count": 54,
   "metadata": {},
   "outputs": [
    {
     "data": {
      "text/html": [
       "<table>\n",
       "<thead>\n",
       "<tr><th>model_id                                             </th><th style=\"text-align: right;\">     auc</th><th style=\"text-align: right;\">  logloss</th></tr>\n",
       "</thead>\n",
       "<tbody>\n",
       "<tr><td>DRF_0_AutoML_20190719_192130                         </td><td style=\"text-align: right;\">0.967523</td><td style=\"text-align: right;\"> 0.339231</td></tr>\n",
       "<tr><td>GBM_grid_0_AutoML_20190719_192130_model_11           </td><td style=\"text-align: right;\">0.961908</td><td style=\"text-align: right;\"> 0.679283</td></tr>\n",
       "<tr><td>GBM_grid_0_AutoML_20190719_192130_model_9            </td><td style=\"text-align: right;\">0.959949</td><td style=\"text-align: right;\"> 0.676184</td></tr>\n",
       "<tr><td>GBM_grid_0_AutoML_20190719_192130_model_10           </td><td style=\"text-align: right;\">0.917779</td><td style=\"text-align: right;\"> 0.382282</td></tr>\n",
       "<tr><td>XRT_0_AutoML_20190719_192130                         </td><td style=\"text-align: right;\">0.915627</td><td style=\"text-align: right;\"> 0.467867</td></tr>\n",
       "<tr><td>StackedEnsemble_BestOfFamily_0_AutoML_20190719_192130</td><td style=\"text-align: right;\">0.898532</td><td style=\"text-align: right;\"> 0.5262  </td></tr>\n",
       "<tr><td>GBM_grid_0_AutoML_20190719_192130_model_3            </td><td style=\"text-align: right;\">0.897058</td><td style=\"text-align: right;\"> 0.483937</td></tr>\n",
       "<tr><td>GBM_grid_0_AutoML_20190719_192130_model_2            </td><td style=\"text-align: right;\">0.836616</td><td style=\"text-align: right;\"> 0.539839</td></tr>\n",
       "<tr><td>GBM_grid_0_AutoML_20190719_192130_model_7            </td><td style=\"text-align: right;\">0.832498</td><td style=\"text-align: right;\"> 0.645912</td></tr>\n",
       "<tr><td>StackedEnsemble_AllModels_0_AutoML_20190719_192130   </td><td style=\"text-align: right;\">0.824344</td><td style=\"text-align: right;\"> 0.569739</td></tr>\n",
       "<tr><td>GBM_grid_0_AutoML_20190719_192130_model_4            </td><td style=\"text-align: right;\">0.80169 </td><td style=\"text-align: right;\"> 0.563807</td></tr>\n",
       "<tr><td>GBM_grid_0_AutoML_20190719_192130_model_1            </td><td style=\"text-align: right;\">0.800057</td><td style=\"text-align: right;\"> 0.564462</td></tr>\n",
       "<tr><td>GBM_grid_0_AutoML_20190719_192130_model_5            </td><td style=\"text-align: right;\">0.784107</td><td style=\"text-align: right;\"> 0.582048</td></tr>\n",
       "<tr><td>GBM_grid_0_AutoML_20190719_192130_model_0            </td><td style=\"text-align: right;\">0.770886</td><td style=\"text-align: right;\"> 0.581386</td></tr>\n",
       "<tr><td>GBM_grid_0_AutoML_20190719_192130_model_8            </td><td style=\"text-align: right;\">0.721296</td><td style=\"text-align: right;\"> 0.683184</td></tr>\n",
       "<tr><td>DeepLearning_0_AutoML_20190719_192130                </td><td style=\"text-align: right;\">0.666337</td><td style=\"text-align: right;\"> 0.634286</td></tr>\n",
       "<tr><td>GBM_grid_0_AutoML_20190719_192130_model_6            </td><td style=\"text-align: right;\">0.654422</td><td style=\"text-align: right;\"> 0.669277</td></tr>\n",
       "<tr><td>GLM_grid_0_AutoML_20190719_192130_model_0            </td><td style=\"text-align: right;\">0.654207</td><td style=\"text-align: right;\"> 0.641709</td></tr>\n",
       "</tbody>\n",
       "</table>"
      ]
     },
     "metadata": {},
     "output_type": "display_data"
    },
    {
     "data": {
      "text/plain": []
     },
     "execution_count": 54,
     "metadata": {},
     "output_type": "execute_result"
    }
   ],
   "source": [
    "lb = aml.leaderboard\n",
    "lb.head(rows=lb.nrows)"
   ]
  },
  {
   "cell_type": "code",
   "execution_count": 55,
   "metadata": {},
   "outputs": [
    {
     "data": {
      "text/plain": [
       "9000.0"
      ]
     },
     "execution_count": 55,
     "metadata": {},
     "output_type": "execute_result"
    }
   ],
   "source": [
    "3600*2.5"
   ]
  },
  {
   "cell_type": "code",
   "execution_count": 58,
   "metadata": {},
   "outputs": [
    {
     "name": "stdout",
     "output_type": "stream",
     "text": [
      "AutoML progress: |████████████████████████████████████████████████████████| 100%\n",
      "Parse progress: |█████████████████████████████████████████████████████████| 100%\n"
     ]
    }
   ],
   "source": [
    "# Run AutoML for 30 seconds\n",
    "aml = H2OAutoML(max_models=50, seed=1337, max_runtime_secs=9500, nfolds=5)\n",
    "aml.train(x = x, y = y,\n",
    "          training_frame = train,\n",
    "          leaderboard_frame = train)"
   ]
  },
  {
   "cell_type": "code",
   "execution_count": 59,
   "metadata": {
    "scrolled": false
   },
   "outputs": [
    {
     "data": {
      "text/html": [
       "<table>\n",
       "<thead>\n",
       "<tr><th>model_id                                             </th><th style=\"text-align: right;\">     auc</th><th style=\"text-align: right;\">  logloss</th></tr>\n",
       "</thead>\n",
       "<tbody>\n",
       "<tr><td>GBM_grid_0_AutoML_20190719_192410_model_9            </td><td style=\"text-align: right;\">0.974594</td><td style=\"text-align: right;\"> 0.233703</td></tr>\n",
       "<tr><td>GBM_grid_0_AutoML_20190719_192410_model_16           </td><td style=\"text-align: right;\">0.967886</td><td style=\"text-align: right;\"> 0.671416</td></tr>\n",
       "<tr><td>DRF_0_AutoML_20190719_192130                         </td><td style=\"text-align: right;\">0.967523</td><td style=\"text-align: right;\"> 0.339231</td></tr>\n",
       "<tr><td>DRF_0_AutoML_20190719_192410                         </td><td style=\"text-align: right;\">0.966501</td><td style=\"text-align: right;\"> 0.340454</td></tr>\n",
       "<tr><td>DRF_0_AutoML_20190719_192718                         </td><td style=\"text-align: right;\">0.964921</td><td style=\"text-align: right;\"> 0.34095 </td></tr>\n",
       "<tr><td>GBM_grid_0_AutoML_20190719_192130_model_11           </td><td style=\"text-align: right;\">0.961908</td><td style=\"text-align: right;\"> 0.679283</td></tr>\n",
       "<tr><td>GBM_grid_0_AutoML_20190719_192130_model_9            </td><td style=\"text-align: right;\">0.959949</td><td style=\"text-align: right;\"> 0.676184</td></tr>\n",
       "<tr><td>GBM_grid_0_AutoML_20190719_192410_model_14           </td><td style=\"text-align: right;\">0.959949</td><td style=\"text-align: right;\"> 0.676184</td></tr>\n",
       "<tr><td>GBM_grid_0_AutoML_20190719_192410_model_19           </td><td style=\"text-align: right;\">0.948774</td><td style=\"text-align: right;\"> 0.296676</td></tr>\n",
       "<tr><td>GBM_grid_0_AutoML_20190719_192410_model_18           </td><td style=\"text-align: right;\">0.943755</td><td style=\"text-align: right;\"> 0.296538</td></tr>\n",
       "<tr><td>GBM_grid_0_AutoML_20190719_192718_model_6            </td><td style=\"text-align: right;\">0.939217</td><td style=\"text-align: right;\"> 0.449615</td></tr>\n",
       "<tr><td>GBM_grid_0_AutoML_20190719_192130_model_10           </td><td style=\"text-align: right;\">0.917779</td><td style=\"text-align: right;\"> 0.382282</td></tr>\n",
       "<tr><td>GBM_grid_0_AutoML_20190719_192410_model_15           </td><td style=\"text-align: right;\">0.917779</td><td style=\"text-align: right;\"> 0.382282</td></tr>\n",
       "<tr><td>XRT_0_AutoML_20190719_192130                         </td><td style=\"text-align: right;\">0.915627</td><td style=\"text-align: right;\"> 0.467867</td></tr>\n",
       "<tr><td>XRT_0_AutoML_20190719_192718                         </td><td style=\"text-align: right;\">0.915627</td><td style=\"text-align: right;\"> 0.467867</td></tr>\n",
       "<tr><td>XRT_0_AutoML_20190719_192410                         </td><td style=\"text-align: right;\">0.913938</td><td style=\"text-align: right;\"> 0.468308</td></tr>\n",
       "<tr><td>DeepLearning_grid_0_AutoML_20190719_192718_model_5   </td><td style=\"text-align: right;\">0.913038</td><td style=\"text-align: right;\"> 0.544474</td></tr>\n",
       "<tr><td>DeepLearning_grid_0_AutoML_20190719_192718_model_3   </td><td style=\"text-align: right;\">0.906246</td><td style=\"text-align: right;\"> 0.474241</td></tr>\n",
       "<tr><td>DeepLearning_grid_0_AutoML_20190719_192718_model_7   </td><td style=\"text-align: right;\">0.899986</td><td style=\"text-align: right;\"> 0.448914</td></tr>\n",
       "<tr><td>GBM_grid_0_AutoML_20190719_192718_model_3            </td><td style=\"text-align: right;\">0.899129</td><td style=\"text-align: right;\"> 0.480321</td></tr>\n",
       "<tr><td>StackedEnsemble_BestOfFamily_0_AutoML_20190719_192130</td><td style=\"text-align: right;\">0.898532</td><td style=\"text-align: right;\"> 0.5262  </td></tr>\n",
       "<tr><td>DeepLearning_grid_0_AutoML_20190719_192718_model_18  </td><td style=\"text-align: right;\">0.897591</td><td style=\"text-align: right;\"> 0.445395</td></tr>\n",
       "<tr><td>GBM_grid_0_AutoML_20190719_192410_model_3            </td><td style=\"text-align: right;\">0.897058</td><td style=\"text-align: right;\"> 0.483937</td></tr>\n",
       "<tr><td>GBM_grid_0_AutoML_20190719_192130_model_3            </td><td style=\"text-align: right;\">0.897058</td><td style=\"text-align: right;\"> 0.483937</td></tr>\n",
       "<tr><td>DeepLearning_grid_0_AutoML_20190719_192718_model_16  </td><td style=\"text-align: right;\">0.886929</td><td style=\"text-align: right;\"> 0.457408</td></tr>\n",
       "<tr><td>DeepLearning_grid_0_AutoML_20190719_192718_model_20  </td><td style=\"text-align: right;\">0.878527</td><td style=\"text-align: right;\"> 0.516961</td></tr>\n",
       "<tr><td>DeepLearning_grid_0_AutoML_20190719_192718_model_9   </td><td style=\"text-align: right;\">0.877509</td><td style=\"text-align: right;\"> 0.485738</td></tr>\n",
       "<tr><td>DeepLearning_grid_0_AutoML_20190719_192718_model_0   </td><td style=\"text-align: right;\">0.874214</td><td style=\"text-align: right;\"> 0.457046</td></tr>\n",
       "<tr><td>DeepLearning_grid_0_AutoML_20190719_192718_model_15  </td><td style=\"text-align: right;\">0.865331</td><td style=\"text-align: right;\"> 0.47333 </td></tr>\n",
       "<tr><td>DeepLearning_grid_0_AutoML_20190719_192718_model_23  </td><td style=\"text-align: right;\">0.860835</td><td style=\"text-align: right;\"> 0.536544</td></tr>\n",
       "<tr><td>GBM_grid_0_AutoML_20190719_192718_model_2            </td><td style=\"text-align: right;\">0.842179</td><td style=\"text-align: right;\"> 0.534907</td></tr>\n",
       "<tr><td>GBM_grid_0_AutoML_20190719_192410_model_2            </td><td style=\"text-align: right;\">0.840317</td><td style=\"text-align: right;\"> 0.536551</td></tr>\n",
       "<tr><td>DeepLearning_grid_0_AutoML_20190719_192718_model_14  </td><td style=\"text-align: right;\">0.837621</td><td style=\"text-align: right;\"> 0.50313 </td></tr>\n",
       "<tr><td>GBM_grid_0_AutoML_20190719_192130_model_2            </td><td style=\"text-align: right;\">0.836616</td><td style=\"text-align: right;\"> 0.539839</td></tr>\n",
       "<tr><td>DeepLearning_grid_0_AutoML_20190719_192718_model_6   </td><td style=\"text-align: right;\">0.83318 </td><td style=\"text-align: right;\"> 0.511891</td></tr>\n",
       "<tr><td>GBM_grid_0_AutoML_20190719_192410_model_12           </td><td style=\"text-align: right;\">0.832726</td><td style=\"text-align: right;\"> 0.645242</td></tr>\n",
       "<tr><td>GBM_grid_0_AutoML_20190719_192130_model_7            </td><td style=\"text-align: right;\">0.832498</td><td style=\"text-align: right;\"> 0.645912</td></tr>\n",
       "<tr><td>GBM_grid_0_AutoML_20190719_192410_model_17           </td><td style=\"text-align: right;\">0.829264</td><td style=\"text-align: right;\"> 0.507352</td></tr>\n",
       "<tr><td>DeepLearning_grid_0_AutoML_20190719_192718_model_12  </td><td style=\"text-align: right;\">0.827188</td><td style=\"text-align: right;\"> 0.533155</td></tr>\n",
       "<tr><td>StackedEnsemble_AllModels_0_AutoML_20190719_192130   </td><td style=\"text-align: right;\">0.824344</td><td style=\"text-align: right;\"> 0.569739</td></tr>\n",
       "<tr><td>GBM_grid_0_AutoML_20190719_192410_model_20           </td><td style=\"text-align: right;\">0.821176</td><td style=\"text-align: right;\"> 0.54825 </td></tr>\n",
       "<tr><td>DeepLearning_grid_0_AutoML_20190719_192718_model_27  </td><td style=\"text-align: right;\">0.818813</td><td style=\"text-align: right;\"> 0.524196</td></tr>\n",
       "<tr><td>DeepLearning_grid_0_AutoML_20190719_192718_model_10  </td><td style=\"text-align: right;\">0.813859</td><td style=\"text-align: right;\"> 0.524651</td></tr>\n",
       "<tr><td>GBM_grid_0_AutoML_20190719_192410_model_7            </td><td style=\"text-align: right;\">0.81368 </td><td style=\"text-align: right;\"> 0.634597</td></tr>\n",
       "<tr><td>DeepLearning_grid_0_AutoML_20190719_192718_model_17  </td><td style=\"text-align: right;\">0.808576</td><td style=\"text-align: right;\"> 0.533416</td></tr>\n",
       "<tr><td>DeepLearning_grid_0_AutoML_20190719_192718_model_1   </td><td style=\"text-align: right;\">0.806066</td><td style=\"text-align: right;\"> 0.530595</td></tr>\n",
       "<tr><td>GBM_grid_0_AutoML_20190719_192410_model_1            </td><td style=\"text-align: right;\">0.804576</td><td style=\"text-align: right;\"> 0.561384</td></tr>\n",
       "<tr><td>DeepLearning_grid_0_AutoML_20190719_192718_model_13  </td><td style=\"text-align: right;\">0.803429</td><td style=\"text-align: right;\"> 0.545421</td></tr>\n",
       "<tr><td>GBM_grid_0_AutoML_20190719_192718_model_1            </td><td style=\"text-align: right;\">0.802155</td><td style=\"text-align: right;\"> 0.563005</td></tr>\n",
       "<tr><td>DeepLearning_grid_0_AutoML_20190719_192718_model_11  </td><td style=\"text-align: right;\">0.80206 </td><td style=\"text-align: right;\"> 0.537692</td></tr>\n",
       "<tr><td>GBM_grid_0_AutoML_20190719_192718_model_4            </td><td style=\"text-align: right;\">0.80169 </td><td style=\"text-align: right;\"> 0.563807</td></tr>\n",
       "<tr><td>GBM_grid_0_AutoML_20190719_192410_model_4            </td><td style=\"text-align: right;\">0.80169 </td><td style=\"text-align: right;\"> 0.563807</td></tr>\n",
       "<tr><td>GBM_grid_0_AutoML_20190719_192130_model_4            </td><td style=\"text-align: right;\">0.80169 </td><td style=\"text-align: right;\"> 0.563807</td></tr>\n",
       "<tr><td>GBM_grid_0_AutoML_20190719_192130_model_1            </td><td style=\"text-align: right;\">0.800057</td><td style=\"text-align: right;\"> 0.564462</td></tr>\n",
       "<tr><td>DeepLearning_grid_0_AutoML_20190719_192718_model_4   </td><td style=\"text-align: right;\">0.795324</td><td style=\"text-align: right;\"> 0.547531</td></tr>\n",
       "<tr><td>GBM_grid_0_AutoML_20190719_192718_model_5            </td><td style=\"text-align: right;\">0.790305</td><td style=\"text-align: right;\"> 0.618866</td></tr>\n",
       "<tr><td>DeepLearning_grid_0_AutoML_20190719_192718_model_26  </td><td style=\"text-align: right;\">0.785835</td><td style=\"text-align: right;\"> 0.588766</td></tr>\n",
       "<tr><td>GBM_grid_0_AutoML_20190719_192410_model_8            </td><td style=\"text-align: right;\">0.784732</td><td style=\"text-align: right;\"> 0.550953</td></tr>\n",
       "<tr><td>GBM_grid_0_AutoML_20190719_192130_model_5            </td><td style=\"text-align: right;\">0.784107</td><td style=\"text-align: right;\"> 0.582048</td></tr>\n",
       "<tr><td>GBM_grid_0_AutoML_20190719_192410_model_10           </td><td style=\"text-align: right;\">0.784107</td><td style=\"text-align: right;\"> 0.582048</td></tr>\n",
       "<tr><td>GBM_grid_0_AutoML_20190719_192718_model_0            </td><td style=\"text-align: right;\">0.777596</td><td style=\"text-align: right;\"> 0.577355</td></tr>\n",
       "<tr><td>DeepLearning_grid_0_AutoML_20190719_192718_model_8   </td><td style=\"text-align: right;\">0.77261 </td><td style=\"text-align: right;\"> 0.564361</td></tr>\n",
       "<tr><td>GBM_grid_0_AutoML_20190719_192130_model_0            </td><td style=\"text-align: right;\">0.770886</td><td style=\"text-align: right;\"> 0.581386</td></tr>\n",
       "<tr><td>GBM_grid_0_AutoML_20190719_192410_model_0            </td><td style=\"text-align: right;\">0.770886</td><td style=\"text-align: right;\"> 0.581386</td></tr>\n",
       "<tr><td>DeepLearning_grid_0_AutoML_20190719_192718_model_19  </td><td style=\"text-align: right;\">0.749262</td><td style=\"text-align: right;\"> 0.581805</td></tr>\n",
       "<tr><td>DeepLearning_grid_0_AutoML_20190719_192718_model_28  </td><td style=\"text-align: right;\">0.748565</td><td style=\"text-align: right;\"> 0.583337</td></tr>\n",
       "<tr><td>DeepLearning_grid_0_AutoML_20190719_192718_model_2   </td><td style=\"text-align: right;\">0.738947</td><td style=\"text-align: right;\"> 0.590916</td></tr>\n",
       "<tr><td>GBM_grid_0_AutoML_20190719_192130_model_8            </td><td style=\"text-align: right;\">0.721296</td><td style=\"text-align: right;\"> 0.683184</td></tr>\n",
       "<tr><td>GBM_grid_0_AutoML_20190719_192410_model_13           </td><td style=\"text-align: right;\">0.721296</td><td style=\"text-align: right;\"> 0.683184</td></tr>\n",
       "<tr><td>GBM_grid_0_AutoML_20190719_192410_model_6            </td><td style=\"text-align: right;\">0.720693</td><td style=\"text-align: right;\"> 0.652671</td></tr>\n",
       "<tr><td>GBM_grid_0_AutoML_20190719_192410_model_5            </td><td style=\"text-align: right;\">0.714648</td><td style=\"text-align: right;\"> 0.614305</td></tr>\n",
       "<tr><td>DeepLearning_grid_0_AutoML_20190719_192718_model_24  </td><td style=\"text-align: right;\">0.688015</td><td style=\"text-align: right;\"> 0.616605</td></tr>\n",
       "<tr><td>DeepLearning_grid_0_AutoML_20190719_192718_model_22  </td><td style=\"text-align: right;\">0.686019</td><td style=\"text-align: right;\"> 0.616927</td></tr>\n",
       "<tr><td>DeepLearning_grid_0_AutoML_20190719_192718_model_25  </td><td style=\"text-align: right;\">0.67907 </td><td style=\"text-align: right;\"> 0.62433 </td></tr>\n",
       "<tr><td>DeepLearning_0_AutoML_20190719_192130                </td><td style=\"text-align: right;\">0.666337</td><td style=\"text-align: right;\"> 0.634286</td></tr>\n",
       "<tr><td>DeepLearning_0_AutoML_20190719_192410                </td><td style=\"text-align: right;\">0.662936</td><td style=\"text-align: right;\"> 0.639808</td></tr>\n",
       "<tr><td>DeepLearning_0_AutoML_20190719_192718                </td><td style=\"text-align: right;\">0.658077</td><td style=\"text-align: right;\"> 0.664274</td></tr>\n",
       "<tr><td>GLM_grid_0_AutoML_20190719_192410_model_0            </td><td style=\"text-align: right;\">0.655312</td><td style=\"text-align: right;\"> 0.641068</td></tr>\n",
       "<tr><td>GLM_grid_0_AutoML_20190719_192718_model_0            </td><td style=\"text-align: right;\">0.655312</td><td style=\"text-align: right;\"> 0.641068</td></tr>\n",
       "<tr><td>GBM_grid_0_AutoML_20190719_192410_model_11           </td><td style=\"text-align: right;\">0.654422</td><td style=\"text-align: right;\"> 0.669277</td></tr>\n",
       "<tr><td>GBM_grid_0_AutoML_20190719_192130_model_6            </td><td style=\"text-align: right;\">0.654422</td><td style=\"text-align: right;\"> 0.669277</td></tr>\n",
       "<tr><td>GLM_grid_0_AutoML_20190719_192130_model_0            </td><td style=\"text-align: right;\">0.654207</td><td style=\"text-align: right;\"> 0.641709</td></tr>\n",
       "<tr><td>DeepLearning_grid_0_AutoML_20190719_192718_model_21  </td><td style=\"text-align: right;\">0.648781</td><td style=\"text-align: right;\"> 0.642492</td></tr>\n",
       "</tbody>\n",
       "</table>"
      ]
     },
     "metadata": {},
     "output_type": "display_data"
    },
    {
     "data": {
      "text/plain": []
     },
     "execution_count": 59,
     "metadata": {},
     "output_type": "execute_result"
    }
   ],
   "source": [
    "lb = aml.leaderboard\n",
    "lb.head(rows=lb.nrows)"
   ]
  },
  {
   "cell_type": "code",
   "execution_count": 67,
   "metadata": {
    "scrolled": false
   },
   "outputs": [
    {
     "name": "stdout",
     "output_type": "stream",
     "text": [
      "Parse progress: |█████████████████████████████████████████████████████████| 100%\n",
      "gbm prediction progress: | (failed)\n"
     ]
    },
    {
     "ename": "OSError",
     "evalue": "Job with key $03017f00000132d4ffffffff$_b21fd5f3ffab160c70129034173e4fc8 failed with an exception: java.lang.IllegalArgumentException: Test/Validation dataset has a categorical response column 'is_goal' with no levels in common with the model\nstacktrace: \njava.lang.IllegalArgumentException: Test/Validation dataset has a categorical response column 'is_goal' with no levels in common with the model\n\tat hex.Model.adaptTestForTrain(Model.java:1088)\n\tat hex.Model.adaptTestForTrain(Model.java:963)\n\tat hex.Model.score(Model.java:1205)\n\tat water.api.ModelMetricsHandler$1.compute2(ModelMetricsHandler.java:362)\n\tat water.H2O$H2OCountedCompleter.compute(H2O.java:1263)\n\tat jsr166y.CountedCompleter.exec(CountedCompleter.java:468)\n\tat jsr166y.ForkJoinTask.doExec(ForkJoinTask.java:263)\n\tat jsr166y.ForkJoinPool$WorkQueue.runTask(ForkJoinPool.java:974)\n\tat jsr166y.ForkJoinPool.runWorker(ForkJoinPool.java:1477)\n\tat jsr166y.ForkJoinWorkerThread.run(ForkJoinWorkerThread.java:104)\n",
     "output_type": "error",
     "traceback": [
      "\u001b[0;31m------------------------------------------------------------------\u001b[0m",
      "\u001b[0;31mOSError\u001b[0m                          Traceback (most recent call last)",
      "\u001b[0;32m<ipython-input-67-029c3a9f4cce>\u001b[0m in \u001b[0;36m<module>\u001b[0;34m\u001b[0m\n\u001b[0;32m----> 1\u001b[0;31m \u001b[0maml\u001b[0m\u001b[0;34m.\u001b[0m\u001b[0mpredict\u001b[0m\u001b[0;34m(\u001b[0m\u001b[0mtest\u001b[0m\u001b[0;34m)\u001b[0m\u001b[0;34m\u001b[0m\u001b[0;34m\u001b[0m\u001b[0m\n\u001b[0m",
      "\u001b[0;32m~/anaconda3/lib/python3.6/site-packages/h2o/automl/autoh2o.py\u001b[0m in \u001b[0;36mpredict\u001b[0;34m(self, test_data)\u001b[0m\n\u001b[1;32m    330\u001b[0m         \u001b[0;32mif\u001b[0m \u001b[0mself\u001b[0m\u001b[0;34m.\u001b[0m\u001b[0m_fetch\u001b[0m\u001b[0;34m(\u001b[0m\u001b[0;34m)\u001b[0m\u001b[0;34m:\u001b[0m\u001b[0;34m\u001b[0m\u001b[0;34m\u001b[0m\u001b[0m\n\u001b[1;32m    331\u001b[0m             \u001b[0mself\u001b[0m\u001b[0;34m.\u001b[0m\u001b[0m_model\u001b[0m \u001b[0;34m=\u001b[0m \u001b[0mh2o\u001b[0m\u001b[0;34m.\u001b[0m\u001b[0mget_model\u001b[0m\u001b[0;34m(\u001b[0m\u001b[0mself\u001b[0m\u001b[0;34m.\u001b[0m\u001b[0m_leader_id\u001b[0m\u001b[0;34m)\u001b[0m\u001b[0;34m\u001b[0m\u001b[0;34m\u001b[0m\u001b[0m\n\u001b[0;32m--> 332\u001b[0;31m             \u001b[0;32mreturn\u001b[0m \u001b[0mself\u001b[0m\u001b[0;34m.\u001b[0m\u001b[0m_model\u001b[0m\u001b[0;34m.\u001b[0m\u001b[0mpredict\u001b[0m\u001b[0;34m(\u001b[0m\u001b[0mtest_data\u001b[0m\u001b[0;34m)\u001b[0m\u001b[0;34m\u001b[0m\u001b[0;34m\u001b[0m\u001b[0m\n\u001b[0m\u001b[1;32m    333\u001b[0m         \u001b[0mprint\u001b[0m\u001b[0;34m(\u001b[0m\u001b[0;34m\"No model built yet...\"\u001b[0m\u001b[0;34m)\u001b[0m\u001b[0;34m\u001b[0m\u001b[0;34m\u001b[0m\u001b[0m\n\u001b[1;32m    334\u001b[0m \u001b[0;34m\u001b[0m\u001b[0m\n",
      "\u001b[0;32m~/anaconda3/lib/python3.6/site-packages/h2o/model/model_base.py\u001b[0m in \u001b[0;36mpredict\u001b[0;34m(self, test_data, custom_metric, custom_metric_func)\u001b[0m\n\u001b[1;32m    150\u001b[0m         j = H2OJob(h2o.api(\"POST /4/Predictions/models/%s/frames/%s\" % (self.model_id, test_data.frame_id), data = {'custom_metric_func': custom_metric_func}),\n\u001b[1;32m    151\u001b[0m                    self._model_json[\"algo\"] + \" prediction\")\n\u001b[0;32m--> 152\u001b[0;31m         \u001b[0mj\u001b[0m\u001b[0;34m.\u001b[0m\u001b[0mpoll\u001b[0m\u001b[0;34m(\u001b[0m\u001b[0;34m)\u001b[0m\u001b[0;34m\u001b[0m\u001b[0;34m\u001b[0m\u001b[0m\n\u001b[0m\u001b[1;32m    153\u001b[0m         \u001b[0;32mreturn\u001b[0m \u001b[0mh2o\u001b[0m\u001b[0;34m.\u001b[0m\u001b[0mget_frame\u001b[0m\u001b[0;34m(\u001b[0m\u001b[0mj\u001b[0m\u001b[0;34m.\u001b[0m\u001b[0mdest_key\u001b[0m\u001b[0;34m)\u001b[0m\u001b[0;34m\u001b[0m\u001b[0;34m\u001b[0m\u001b[0m\n\u001b[1;32m    154\u001b[0m \u001b[0;34m\u001b[0m\u001b[0m\n",
      "\u001b[0;32m~/anaconda3/lib/python3.6/site-packages/h2o/job.py\u001b[0m in \u001b[0;36mpoll\u001b[0;34m(self, verbose_model_scoring_history)\u001b[0m\n\u001b[1;32m     75\u001b[0m             \u001b[0;32mif\u001b[0m \u001b[0;34m(\u001b[0m\u001b[0misinstance\u001b[0m\u001b[0;34m(\u001b[0m\u001b[0mself\u001b[0m\u001b[0;34m.\u001b[0m\u001b[0mjob\u001b[0m\u001b[0;34m,\u001b[0m \u001b[0mdict\u001b[0m\u001b[0;34m)\u001b[0m\u001b[0;34m)\u001b[0m \u001b[0;32mand\u001b[0m \u001b[0;34m(\u001b[0m\u001b[0;34m\"stacktrace\"\u001b[0m \u001b[0;32min\u001b[0m \u001b[0mlist\u001b[0m\u001b[0;34m(\u001b[0m\u001b[0mself\u001b[0m\u001b[0;34m.\u001b[0m\u001b[0mjob\u001b[0m\u001b[0;34m)\u001b[0m\u001b[0;34m)\u001b[0m\u001b[0;34m:\u001b[0m\u001b[0;34m\u001b[0m\u001b[0;34m\u001b[0m\u001b[0m\n\u001b[1;32m     76\u001b[0m                 raise EnvironmentError(\"Job with key {} failed with an exception: {}\\nstacktrace: \"\n\u001b[0;32m---> 77\u001b[0;31m                                        \"\\n{}\".format(self.job_key, self.exception, self.job[\"stacktrace\"]))\n\u001b[0m\u001b[1;32m     78\u001b[0m             \u001b[0;32melse\u001b[0m\u001b[0;34m:\u001b[0m\u001b[0;34m\u001b[0m\u001b[0;34m\u001b[0m\u001b[0m\n\u001b[1;32m     79\u001b[0m                 \u001b[0;32mraise\u001b[0m \u001b[0mEnvironmentError\u001b[0m\u001b[0;34m(\u001b[0m\u001b[0;34m\"Job with key %s failed with an exception: %s\"\u001b[0m \u001b[0;34m%\u001b[0m \u001b[0;34m(\u001b[0m\u001b[0mself\u001b[0m\u001b[0;34m.\u001b[0m\u001b[0mjob_key\u001b[0m\u001b[0;34m,\u001b[0m \u001b[0mself\u001b[0m\u001b[0;34m.\u001b[0m\u001b[0mexception\u001b[0m\u001b[0;34m)\u001b[0m\u001b[0;34m)\u001b[0m\u001b[0;34m\u001b[0m\u001b[0;34m\u001b[0m\u001b[0m\n",
      "\u001b[0;31mOSError\u001b[0m: Job with key $03017f00000132d4ffffffff$_b21fd5f3ffab160c70129034173e4fc8 failed with an exception: java.lang.IllegalArgumentException: Test/Validation dataset has a categorical response column 'is_goal' with no levels in common with the model\nstacktrace: \njava.lang.IllegalArgumentException: Test/Validation dataset has a categorical response column 'is_goal' with no levels in common with the model\n\tat hex.Model.adaptTestForTrain(Model.java:1088)\n\tat hex.Model.adaptTestForTrain(Model.java:963)\n\tat hex.Model.score(Model.java:1205)\n\tat water.api.ModelMetricsHandler$1.compute2(ModelMetricsHandler.java:362)\n\tat water.H2O$H2OCountedCompleter.compute(H2O.java:1263)\n\tat jsr166y.CountedCompleter.exec(CountedCompleter.java:468)\n\tat jsr166y.ForkJoinTask.doExec(ForkJoinTask.java:263)\n\tat jsr166y.ForkJoinPool$WorkQueue.runTask(ForkJoinPool.java:974)\n\tat jsr166y.ForkJoinPool.runWorker(ForkJoinPool.java:1477)\n\tat jsr166y.ForkJoinWorkerThread.run(ForkJoinWorkerThread.java:104)\n"
     ]
    }
   ],
   "source": [
    "aml.predict(test)"
   ]
  },
  {
   "cell_type": "code",
   "execution_count": 68,
   "metadata": {},
   "outputs": [
    {
     "name": "stdout",
     "output_type": "stream",
     "text": [
      "[WARNING] in <ipython-input-68-1edf85295eae> line 1:\n",
      "    >>> h2o.shutdown()\n",
      "        ^^^^ Deprecated, use ``h2o.cluster().shutdown()``.\n",
      "H2O session _sid_896a closed.\n"
     ]
    }
   ],
   "source": [
    "h2o.shutdown()"
   ]
  },
  {
   "cell_type": "code",
   "execution_count": null,
   "metadata": {},
   "outputs": [],
   "source": []
  }
 ],
 "metadata": {
  "kernelspec": {
   "display_name": "Python 3",
   "language": "python",
   "name": "python3"
  },
  "language_info": {
   "codemirror_mode": {
    "name": "ipython",
    "version": 3
   },
   "file_extension": ".py",
   "mimetype": "text/x-python",
   "name": "python",
   "nbconvert_exporter": "python",
   "pygments_lexer": "ipython3",
   "version": "3.6.8"
  }
 },
 "nbformat": 4,
 "nbformat_minor": 2
}
