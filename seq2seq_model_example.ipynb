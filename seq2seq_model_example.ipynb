{
  "nbformat": 4,
  "nbformat_minor": 0,
  "metadata": {
    "colab": {
      "name": "seq2seq model example.ipynb",
      "provenance": []
    },
    "kernelspec": {
      "name": "python3",
      "display_name": "Python 3"
    }
  },
  "cells": [
    {
      "cell_type": "code",
      "metadata": {
        "id": "fOhHfMNARjft",
        "colab_type": "code",
        "colab": {
          "base_uri": "https://localhost:8080/",
          "height": 331
        },
        "outputId": "84a19263-4b91-4a77-8900-3b038379185e"
      },
      "source": [
        "!wget http://www.manythings.org/anki/hin-eng.zip\n",
        "!unzip hin-eng.zip"
      ],
      "execution_count": 18,
      "outputs": [
        {
          "output_type": "stream",
          "text": [
            "--2019-12-17 13:19:50--  http://www.manythings.org/anki/hin-eng.zip\n",
            "Resolving www.manythings.org (www.manythings.org)... 104.24.108.196, 104.24.109.196, 2606:4700:30::6818:6dc4, ...\n",
            "Connecting to www.manythings.org (www.manythings.org)|104.24.108.196|:80... connected.\n",
            "HTTP request sent, awaiting response... 200 OK\n",
            "Length: 126760 (124K) [application/zip]\n",
            "Saving to: ‘hin-eng.zip.2’\n",
            "\n",
            "\rhin-eng.zip.2         0%[                    ]       0  --.-KB/s               \rhin-eng.zip.2        40%[=======>            ]  50.41K   194KB/s               \rhin-eng.zip.2        77%[==============>     ]  96.04K   183KB/s               \rhin-eng.zip.2       100%[===================>] 123.79K   178KB/s    in 0.7s    \n",
            "\n",
            "2019-12-17 13:19:51 (178 KB/s) - ‘hin-eng.zip.2’ saved [126760/126760]\n",
            "\n",
            "Archive:  hin-eng.zip\n",
            "replace hin.txt? [y]es, [n]o, [A]ll, [N]one, [r]ename: y\n",
            "  inflating: hin.txt                 \n",
            "replace _about.txt? [y]es, [n]o, [A]ll, [N]one, [r]ename: y\n",
            "  inflating: _about.txt              \n"
          ],
          "name": "stdout"
        }
      ]
    },
    {
      "cell_type": "code",
      "metadata": {
        "id": "zjU7Ia1oVDZZ",
        "colab_type": "code",
        "colab": {
          "base_uri": "https://localhost:8080/",
          "height": 35
        },
        "outputId": "ce518de5-e5d3-4126-dd62-d9e592d99443"
      },
      "source": [
        "import os\n",
        "os.listdir()"
      ],
      "execution_count": 1,
      "outputs": [
        {
          "output_type": "execute_result",
          "data": {
            "text/plain": [
              "['.config', 'hin-eng.zip', '_about.txt', 'hin.txt', 'sample_data']"
            ]
          },
          "metadata": {
            "tags": []
          },
          "execution_count": 1
        }
      ]
    },
    {
      "cell_type": "code",
      "metadata": {
        "id": "DOy4xApSV4Wk",
        "colab_type": "code",
        "colab": {
          "base_uri": "https://localhost:8080/",
          "height": 119
        },
        "outputId": "1897ec80-e9c9-4e54-bc2a-62a286c0cabc"
      },
      "source": [
        "from __future__ import print_function\n",
        "\n",
        "import keras\n",
        "from keras.models import Model\n",
        "from keras.layers import Input, LSTM, Dense\n",
        "import numpy as np\n",
        "\n",
        "print(f\"keras version: {keras.__version__}\")"
      ],
      "execution_count": 2,
      "outputs": [
        {
          "output_type": "stream",
          "text": [
            "Using TensorFlow backend.\n"
          ],
          "name": "stderr"
        },
        {
          "output_type": "display_data",
          "data": {
            "text/html": [
              "<p style=\"color: red;\">\n",
              "The default version of TensorFlow in Colab will soon switch to TensorFlow 2.x.<br>\n",
              "We recommend you <a href=\"https://www.tensorflow.org/guide/migrate\" target=\"_blank\">upgrade</a> now \n",
              "or ensure your notebook will continue to use TensorFlow 1.x via the <code>%tensorflow_version 1.x</code> magic:\n",
              "<a href=\"https://colab.research.google.com/notebooks/tensorflow_version.ipynb\" target=\"_blank\">more info</a>.</p>\n"
            ],
            "text/plain": [
              "<IPython.core.display.HTML object>"
            ]
          },
          "metadata": {
            "tags": []
          }
        },
        {
          "output_type": "stream",
          "text": [
            "keras version: 2.2.5\n"
          ],
          "name": "stdout"
        }
      ]
    },
    {
      "cell_type": "code",
      "metadata": {
        "id": "DBMxKI5kWHSP",
        "colab_type": "code",
        "colab": {}
      },
      "source": [
        "batch_size = 500  # Batch size for training.\n",
        "epochs = 25  # Number of epochs to train for.\n",
        "latent_dim = 256  # Latent dimensionality of the encoding space.\n",
        "num_samples = 10000  # Number of samples to train on.\n",
        "# Path to the data txt file on disk.\n",
        "data_path = 'hin.txt'\n"
      ],
      "execution_count": 0,
      "outputs": []
    },
    {
      "cell_type": "code",
      "metadata": {
        "id": "LAY8WAzIWJX5",
        "colab_type": "code",
        "colab": {}
      },
      "source": [
        "with open(data_path, 'r', encoding='utf-8') as f:\n",
        "    lines = f.read().split('\\n')\n"
      ],
      "execution_count": 0,
      "outputs": []
    },
    {
      "cell_type": "code",
      "metadata": {
        "id": "UYHsLaFbYQn0",
        "colab_type": "code",
        "colab": {
          "base_uri": "https://localhost:8080/",
          "height": 129
        },
        "outputId": "93183284-16aa-4faf-992b-1281534129e8"
      },
      "source": [
        "lines[100:105]"
      ],
      "execution_count": 5,
      "outputs": [
        {
          "output_type": "execute_result",
          "data": {
            "text/plain": [
              "[\"I don't know.\\tमुझे नहीं पता।\\tCC-BY 2.0 (France) Attribution: tatoeba.org #349064 (fatih) & #609376 (minshirui)\",\n",
              " \"I don't know.\\tमुझे नहीं मालूम।\\tCC-BY 2.0 (France) Attribution: tatoeba.org #349064 (fatih) & #609377 (minshirui)\",\n",
              " 'I have a car.\\tमेरे पास एक गाड़ी है।\\tCC-BY 2.0 (France) Attribution: tatoeba.org #252272 (CK) & #477720 (minshirui)',\n",
              " 'I have a dog.\\tमेरे पास एक कुत्ता है।\\tCC-BY 2.0 (France) Attribution: tatoeba.org #378502 (CK) & #443037 (minshirui)',\n",
              " 'I understand.\\tमैं समझता हूँ।\\tCC-BY 2.0 (France) Attribution: tatoeba.org #433468 (CK) & #588495 (minshirui)']"
            ]
          },
          "metadata": {
            "tags": []
          },
          "execution_count": 5
        }
      ]
    },
    {
      "cell_type": "code",
      "metadata": {
        "id": "eI_pQSgoYQyT",
        "colab_type": "code",
        "colab": {}
      },
      "source": [
        "# Vectorize the data.\n",
        "input_texts = []\n",
        "target_texts = []\n",
        "input_chars = set()\n",
        "target_chars = set()\n",
        "\n",
        "for line in lines[: min(num_samples, len(lines) - 1)]:\n",
        "    input_text, target_text, _ = line.split('\\t')\n",
        "    # We use \"tab\" as the \"start sequence\" character\n",
        "    # for the targets, and \"\\n\" as \"end sequence\" character.\n",
        "    target_text = '\\t' + target_text + '\\n'\n",
        "    input_texts.append(input_text)\n",
        "    target_texts.append(target_text)\n",
        "\n",
        "    # add all characters in the buckets, named input_chars, target_chars\n",
        "    for char in input_text:\n",
        "        if char not in input_chars:\n",
        "            input_chars.add(char)\n",
        "    for char in target_text:\n",
        "        if char not in target_chars:\n",
        "            target_chars.add(char)"
      ],
      "execution_count": 0,
      "outputs": []
    },
    {
      "cell_type": "code",
      "metadata": {
        "id": "4xuLvk5lYReO",
        "colab_type": "code",
        "colab": {
          "base_uri": "https://localhost:8080/",
          "height": 109
        },
        "outputId": "64344b8d-187e-4e2a-f43f-7f4094eca9fe"
      },
      "source": [
        "input_chars = sorted(list(input_chars))\n",
        "target_chars = sorted(list(target_chars))\n",
        "n_enc_tokens = len(input_chars)\n",
        "n_dec_tokens = len(target_chars)\n",
        "enc_seq_len = max([len(txt) for txt in input_texts])\n",
        "dec_seq_len = max([len(txt) for txt in target_texts])\n",
        "\n",
        "print('Number of samples:', len(input_texts))\n",
        "print('Number of unique input tokens:', n_enc_tokens)\n",
        "print('Number of unique output tokens:', n_dec_tokens)\n",
        "print('Max sequence length for inputs:', enc_seq_len)\n",
        "print('Max sequence length for outputs:', dec_seq_len)"
      ],
      "execution_count": 7,
      "outputs": [
        {
          "output_type": "stream",
          "text": [
            "Number of samples: 2785\n",
            "Number of unique input tokens: 70\n",
            "Number of unique output tokens: 92\n",
            "Max sequence length for inputs: 107\n",
            "Max sequence length for outputs: 123\n"
          ],
          "name": "stdout"
        }
      ]
    },
    {
      "cell_type": "code",
      "metadata": {
        "id": "mKn0kLZDaPu0",
        "colab_type": "code",
        "colab": {}
      },
      "source": [
        "input_token_dict = dict([(char, i) for i, char in enumerate(input_chars)])\n",
        "target_token_dict = dict([(char, i) for i, char in enumerate(target_chars)])"
      ],
      "execution_count": 0,
      "outputs": []
    },
    {
      "cell_type": "code",
      "metadata": {
        "id": "8T8M1EQMaQI6",
        "colab_type": "code",
        "colab": {}
      },
      "source": [
        "enc_input_data  = np.zeros((len(input_texts), enc_seq_len, n_enc_tokens), dtype='float32')\n",
        "dec_input_data  = np.zeros((len(input_texts), dec_seq_len, n_dec_tokens), dtype='float32')\n",
        "dec_target_data = np.zeros((len(input_texts), dec_seq_len, n_dec_tokens), dtype='float32')\n",
        "\n",
        "for i, (input_text, target_text) in enumerate(zip(input_texts, target_texts)):\n",
        "    for t, char in enumerate(input_text):\n",
        "        enc_input_data[i, t, input_token_dict[char]] = 1.\n",
        "    # fill the rest of sequence with spaces\n",
        "    enc_input_data[i, t + 1:, input_token_dict[' ']] = 1.\n",
        "\n",
        "    for t, char in enumerate(target_text):\n",
        "        # decoder_target_data is ahead of decoder_input_data by one timestep\n",
        "        dec_input_data[i, t, target_token_dict[char]] = 1.\n",
        "\n",
        "        if t > 0:\n",
        "            # decoder_target_data will be ahead by one timestep\n",
        "            # and will not include the start character.\n",
        "            dec_target_data[i, t - 1, target_token_dict[char]] = 1.\n",
        "    # fill the rest of sequence with spaces\n",
        "    dec_input_data[i, t + 1:, target_token_dict[' ']] = 1.\n",
        "    dec_target_data[i, t:, target_token_dict[' ']] = 1.\n"
      ],
      "execution_count": 0,
      "outputs": []
    },
    {
      "cell_type": "code",
      "metadata": {
        "id": "y5O7A2zVaQUV",
        "colab_type": "code",
        "colab": {
          "base_uri": "https://localhost:8080/",
          "height": 146
        },
        "outputId": "6557247c-a74d-4d24-be9a-15bfa2634eee"
      },
      "source": [
        "np.argmax(enc_input_data[0], axis=1).ravel()"
      ],
      "execution_count": 10,
      "outputs": [
        {
          "output_type": "execute_result",
          "data": {
            "text/plain": [
              "array([42, 58, 66,  1,  0,  0,  0,  0,  0,  0,  0,  0,  0,  0,  0,  0,  0,\n",
              "        0,  0,  0,  0,  0,  0,  0,  0,  0,  0,  0,  0,  0,  0,  0,  0,  0,\n",
              "        0,  0,  0,  0,  0,  0,  0,  0,  0,  0,  0,  0,  0,  0,  0,  0,  0,\n",
              "        0,  0,  0,  0,  0,  0,  0,  0,  0,  0,  0,  0,  0,  0,  0,  0,  0,\n",
              "        0,  0,  0,  0,  0,  0,  0,  0,  0,  0,  0,  0,  0,  0,  0,  0,  0,\n",
              "        0,  0,  0,  0,  0,  0,  0,  0,  0,  0,  0,  0,  0,  0,  0,  0,  0,\n",
              "        0,  0,  0,  0,  0])"
            ]
          },
          "metadata": {
            "tags": []
          },
          "execution_count": 10
        }
      ]
    },
    {
      "cell_type": "code",
      "metadata": {
        "id": "18GK6_WLVdJl",
        "colab_type": "code",
        "colab": {}
      },
      "source": [
        "# from keras.layers import Dense, Flatten, LSTM, Activation\n",
        "# from keras.layers import Dropout, RepeatVector, TimeDistributed\n",
        "# from keras import Input, Model\n",
        "\n",
        "# seq_length = 15\n",
        "# input_dims = 10\n",
        "# output_dims = 8 # number of classes\n",
        "# n_hidden = 10\n",
        "# model1_inputs = Input(shape=(seq_length,input_dims,))\n",
        "# model1_outputs = Input(shape=(output_dims,))\n",
        "\n",
        "# net1 = LSTM(n_hidden, return_sequences=True)(model1_inputs)\n",
        "# net1 = LSTM(n_hidden, return_sequences=False)(net1)\n",
        "# net1 = Dense(output_dims, activation='relu')(net1)\n",
        "# model1_outputs = net1\n",
        "\n",
        "# model1 = Model(inputs=model1_inputs, outputs = model1_outputs, name='model1')\n",
        "\n",
        "# ## Fit the model\n",
        "# model1.summary()\n",
        "\n",
        "\n",
        "# _________________________________________________________________\n",
        "# Layer (type)                 Output Shape              Param #   \n",
        "# =================================================================\n",
        "# input_1 (InputLayer)        (None, 15, 10)            0         \n",
        "# _________________________________________________________________\n",
        "# lstm_1 (LSTM)                (None, 15, 10)            840       \n",
        "# _________________________________________________________________\n",
        "# lstm_2 (LSTM)                (None, 10)                840       \n",
        "# _________________________________________________________________\n",
        "# dense_3 (Dense)              (None, 8)                 88        \n",
        "# _________________________________________________________________"
      ],
      "execution_count": 0,
      "outputs": []
    },
    {
      "cell_type": "code",
      "metadata": {
        "id": "5RxloAiUVff-",
        "colab_type": "code",
        "colab": {
          "base_uri": "https://localhost:8080/",
          "height": 129
        },
        "outputId": "0bd585a0-cafd-45cc-82e7-27a494cf262b"
      },
      "source": [
        "# Define an input sequence and process it.\n",
        "encoder_inputs = Input(shape=(None, n_enc_tokens))\n",
        "encoder = LSTM(latent_dim, return_state=True)\n",
        "encoder_outputs, state_h, state_c = encoder(encoder_inputs)\n",
        "# We discard `encoder_outputs` and only keep the states.\n",
        "encoder_states = [state_h, state_c]\n",
        "\n",
        "\n",
        "# Set up the decoder, using `encoder_states` as initial state.\n",
        "decoder_inputs = Input(shape=(None, n_dec_tokens))\n",
        "# We set up our decoder to return full output sequences,\n",
        "# and to return internal states as well. We don't use the\n",
        "# return states in the training model, but we will use them in inference.\n",
        "decoder_lstm = LSTM(latent_dim, return_sequences=True, return_state=True)\n",
        "decoder_outputs, _, _ = decoder_lstm(decoder_inputs, initial_state=encoder_states)\n",
        "decoder_dense = Dense(n_dec_tokens, activation='softmax')\n",
        "decoder_outputs = decoder_dense(decoder_outputs)\n",
        "\n",
        "# Define the model that will turn\n",
        "# `encoder_input_data` & `decoder_input_data` into `decoder_target_data`\n",
        "model = Model([encoder_inputs, decoder_inputs], decoder_outputs)\n",
        "\n",
        "# Run training\n",
        "model.compile(optimizer='rmsprop', loss='categorical_crossentropy', metrics=['accuracy'])\n",
        "\n",
        "epochs = 2\n",
        "model.fit(\n",
        "    [enc_input_data, dec_input_data], \n",
        "    dec_target_data,\n",
        "    batch_size=batch_size,\n",
        "    epochs=epochs,\n",
        "    validation_split=0.2\n",
        ")\n",
        "# Save model\n",
        "model.save('eng2hin.h5')\n",
        "\n"
      ],
      "execution_count": 13,
      "outputs": [
        {
          "output_type": "stream",
          "text": [
            "Train on 2228 samples, validate on 557 samples\n",
            "Epoch 1/2\n",
            "2228/2228 [==============================] - 33s 15ms/step - loss: 2.6686 - acc: 0.6259 - val_loss: 1.7741 - val_acc: 0.6863\n",
            "Epoch 2/2\n",
            "2228/2228 [==============================] - 31s 14ms/step - loss: 1.0392 - acc: 0.8070 - val_loss: 1.5440 - val_acc: 0.6883\n"
          ],
          "name": "stdout"
        }
      ]
    },
    {
      "cell_type": "code",
      "metadata": {
        "id": "sQeqxZKnmOYY",
        "colab_type": "code",
        "colab": {
          "base_uri": "https://localhost:8080/",
          "height": 1000
        },
        "outputId": "a61a6989-77a1-408b-b4e3-992dcd7d9a4c"
      },
      "source": [
        "for i in range(5):\n",
        "    print(\"=\"*50)\n",
        "    model.fit(\n",
        "        [enc_input_data, dec_input_data], \n",
        "        dec_target_data,\n",
        "        batch_size=batch_size,\n",
        "        epochs=1,\n",
        "        validation_split=0.2\n",
        "    )\n",
        "\n",
        "    for seq_index in range(5):\n",
        "        # Take one sequence (part of the training set)\n",
        "        # for trying out decoding.\n",
        "        input_seq = enc_input_data[seq_index: seq_index + 1]\n",
        "        decoded_sentence = decode_sequence(input_seq)\n",
        "        print('-'*50)\n",
        "        print('Input sentence:', input_texts[seq_index])\n",
        "        print('Decoded sentence:', decoded_sentence)\n",
        "        \n",
        "    print()"
      ],
      "execution_count": 16,
      "outputs": [
        {
          "output_type": "stream",
          "text": [
            "==================================================\n",
            "Train on 2228 samples, validate on 557 samples\n",
            "Epoch 1/1\n",
            "2228/2228 [==============================] - 31s 14ms/step - loss: 0.9196 - acc: 0.8083 - val_loss: 1.6485 - val_acc: 0.6883\n",
            "--------------------------------------------------\n",
            "Input sentence: Wow!\n",
            "Decoded sentence: म                                                                                                                           \n",
            "--------------------------------------------------\n",
            "Input sentence: Help!\n",
            "Decoded sentence: म                                                                                                                           \n",
            "--------------------------------------------------\n",
            "Input sentence: Jump.\n",
            "Decoded sentence: म                                                                                                                           \n",
            "--------------------------------------------------\n",
            "Input sentence: Jump.\n",
            "Decoded sentence: म                                                                                                                           \n",
            "--------------------------------------------------\n",
            "Input sentence: Jump.\n",
            "Decoded sentence: म                                                                                                                           \n",
            "\n",
            "==================================================\n",
            "Train on 2228 samples, validate on 557 samples\n",
            "Epoch 1/1\n",
            "2228/2228 [==============================] - 31s 14ms/step - loss: 0.9013 - acc: 0.8084 - val_loss: 1.4966 - val_acc: 0.6888\n",
            "--------------------------------------------------\n",
            "Input sentence: Wow!\n",
            "Decoded sentence: म                                                                                                                           \n",
            "--------------------------------------------------\n",
            "Input sentence: Help!\n",
            "Decoded sentence: म                                                                                                                           \n",
            "--------------------------------------------------\n",
            "Input sentence: Jump.\n",
            "Decoded sentence: म                                                                                                                           \n",
            "--------------------------------------------------\n",
            "Input sentence: Jump.\n",
            "Decoded sentence: म                                                                                                                           \n",
            "--------------------------------------------------\n",
            "Input sentence: Jump.\n",
            "Decoded sentence: म                                                                                                                           \n",
            "\n",
            "==================================================\n",
            "Train on 2228 samples, validate on 557 samples\n",
            "Epoch 1/1\n",
            "2228/2228 [==============================] - 31s 14ms/step - loss: 0.8809 - acc: 0.8085 - val_loss: 1.7114 - val_acc: 0.6883\n",
            "--------------------------------------------------\n",
            "Input sentence: Wow!\n",
            "Decoded sentence: म                                                                                                                           \n",
            "--------------------------------------------------\n",
            "Input sentence: Help!\n",
            "Decoded sentence: म                                                                                                                           \n",
            "--------------------------------------------------\n",
            "Input sentence: Jump.\n",
            "Decoded sentence: म                                                                                                                           \n",
            "--------------------------------------------------\n",
            "Input sentence: Jump.\n",
            "Decoded sentence: म                                                                                                                           \n",
            "--------------------------------------------------\n",
            "Input sentence: Jump.\n",
            "Decoded sentence: म                                                                                                                           \n",
            "\n",
            "==================================================\n",
            "Train on 2228 samples, validate on 557 samples\n",
            "Epoch 1/1\n",
            "2228/2228 [==============================] - 31s 14ms/step - loss: 0.8796 - acc: 0.8085 - val_loss: 1.4634 - val_acc: 0.6888\n",
            "--------------------------------------------------\n",
            "Input sentence: Wow!\n",
            "Decoded sentence: मम                                                                                                                          \n",
            "--------------------------------------------------\n",
            "Input sentence: Help!\n",
            "Decoded sentence: मम                                                                                                                          \n",
            "--------------------------------------------------\n",
            "Input sentence: Jump.\n",
            "Decoded sentence: मम                                                                                                                          \n",
            "--------------------------------------------------\n",
            "Input sentence: Jump.\n",
            "Decoded sentence: मम                                                                                                                          \n",
            "--------------------------------------------------\n",
            "Input sentence: Jump.\n",
            "Decoded sentence: मम                                                                                                                          \n",
            "\n",
            "==================================================\n",
            "Train on 2228 samples, validate on 557 samples\n",
            "Epoch 1/1\n",
            "2228/2228 [==============================] - 31s 14ms/step - loss: 0.8723 - acc: 0.8086 - val_loss: 1.7223 - val_acc: 0.6883\n",
            "--------------------------------------------------\n",
            "Input sentence: Wow!\n",
            "Decoded sentence: म                                                                                                                           \n",
            "--------------------------------------------------\n",
            "Input sentence: Help!\n",
            "Decoded sentence: म                                                                                                                           \n",
            "--------------------------------------------------\n",
            "Input sentence: Jump.\n",
            "Decoded sentence: म                                                                                                                           \n",
            "--------------------------------------------------\n",
            "Input sentence: Jump.\n",
            "Decoded sentence: म                                                                                                                           \n",
            "--------------------------------------------------\n",
            "Input sentence: Jump.\n",
            "Decoded sentence: म                                                                                                                           \n",
            "\n"
          ],
          "name": "stdout"
        }
      ]
    },
    {
      "cell_type": "code",
      "metadata": {
        "id": "kUwNtLtyl4Gi",
        "colab_type": "code",
        "colab": {
          "base_uri": "https://localhost:8080/",
          "height": 1000
        },
        "outputId": "9e8a3b08-aa8b-4d3e-b565-9c70f452b671"
      },
      "source": [
        "# Next: inference mode (sampling).\n",
        "# Here's the drill:\n",
        "# 1) encode input and retrieve initial decoder state\n",
        "# 2) run one step of decoder with this initial state\n",
        "# and a \"start of sequence\" token as target.\n",
        "# Output will be the next target token\n",
        "# 3) Repeat with the current target token and current states\n",
        "\n",
        "# Define sampling models\n",
        "encoder_model = Model(encoder_inputs, encoder_states)\n",
        "\n",
        "decoder_state_input_h = Input(shape=(latent_dim,))\n",
        "decoder_state_input_c = Input(shape=(latent_dim,))\n",
        "decoder_states_inputs = [decoder_state_input_h, decoder_state_input_c]\n",
        "\n",
        "decoder_outputs, state_h, state_c = decoder_lstm(decoder_inputs, initial_state=decoder_states_inputs)\n",
        "decoder_states = [state_h, state_c]\n",
        "decoder_outputs = decoder_dense(decoder_outputs)\n",
        "decoder_model = Model( [decoder_inputs] + decoder_states_inputs, [decoder_outputs] + decoder_states)\n",
        "\n",
        "# Reverse-lookup token index to decode sequences back to something readable.\n",
        "reverse_input_char_dict = dict((i, char) for char, i in input_token_dict.items())\n",
        "reverse_target_char_dict = dict((i, char) for char, i in target_token_dict.items())\n",
        "\n",
        "\n",
        "def decode_sequence(input_seq):\n",
        "    # Encode the input as state vectors.\n",
        "    states_value = encoder_model.predict(input_seq)\n",
        "\n",
        "    # Generate empty target sequence of length 1.\n",
        "    target_seq = np.zeros((1, 1, n_dec_tokens))\n",
        "    # Populate the first character of target sequence with the start character.\n",
        "    target_seq[0, 0, target_token_dict['\\t']] = 1.\n",
        "\n",
        "    # Sampling loop for a batch of sequences\n",
        "    # (to simplify, here we assume a batch of size 1).\n",
        "    stop_condition = False\n",
        "    decoded_sentence = ''\n",
        "    while not stop_condition:\n",
        "        output_tokens, h, c = decoder_model.predict([target_seq] + states_value)\n",
        "\n",
        "        # Sample a token\n",
        "        sampled_token_index = np.argmax(output_tokens[0, -1, :])\n",
        "        sampled_char = reverse_target_char_dict[sampled_token_index]\n",
        "        decoded_sentence += sampled_char\n",
        "\n",
        "        # Exit condition: either hit max length\n",
        "        # or find stop character.\n",
        "        if (sampled_char == '\\n' or len(decoded_sentence) > dec_seq_len):\n",
        "            stop_condition = True\n",
        "\n",
        "        # Update the target sequence (of length 1).\n",
        "        target_seq = np.zeros((1, 1, n_dec_tokens))\n",
        "        target_seq[0, 0, sampled_token_index] = 1.\n",
        "\n",
        "        # Update states\n",
        "        states_value = [h, c]\n",
        "\n",
        "    return decoded_sentence\n",
        "\n",
        "\n",
        "for seq_index in range(25):\n",
        "    # Take one sequence (part of the training set)\n",
        "    # for trying out decoding.\n",
        "    input_seq = enc_input_data[seq_index: seq_index + 1]\n",
        "    decoded_sentence = decode_sequence(input_seq)\n",
        "    print('-'*50)\n",
        "    print('Input sentence:', input_texts[seq_index])\n",
        "    print('Decoded sentence:', decoded_sentence)"
      ],
      "execution_count": 14,
      "outputs": [
        {
          "output_type": "stream",
          "text": [
            "--------------------------------------------------\n",
            "Input sentence: Wow!\n",
            "Decoded sentence: म                                                                                                                           \n",
            "--------------------------------------------------\n",
            "Input sentence: Help!\n",
            "Decoded sentence: म                                                                                                                           \n",
            "--------------------------------------------------\n",
            "Input sentence: Jump.\n",
            "Decoded sentence: म                                                                                                                           \n",
            "--------------------------------------------------\n",
            "Input sentence: Jump.\n",
            "Decoded sentence: म                                                                                                                           \n",
            "--------------------------------------------------\n",
            "Input sentence: Jump.\n",
            "Decoded sentence: म                                                                                                                           \n",
            "--------------------------------------------------\n",
            "Input sentence: Hello!\n",
            "Decoded sentence: म                                                                                                                           \n",
            "--------------------------------------------------\n",
            "Input sentence: Hello!\n",
            "Decoded sentence: म                                                                                                                           \n",
            "--------------------------------------------------\n",
            "Input sentence: Cheers!\n",
            "Decoded sentence: म                                                                                                                           \n",
            "--------------------------------------------------\n",
            "Input sentence: Cheers!\n",
            "Decoded sentence: म                                                                                                                           \n",
            "--------------------------------------------------\n",
            "Input sentence: Got it?\n",
            "Decoded sentence: म                                                                                                                           \n",
            "--------------------------------------------------\n",
            "Input sentence: I'm OK.\n",
            "Decoded sentence: म                                                                                                                           \n",
            "--------------------------------------------------\n",
            "Input sentence: Awesome!\n",
            "Decoded sentence: म                                                                                                                           \n",
            "--------------------------------------------------\n",
            "Input sentence: Come in.\n",
            "Decoded sentence: म                                                                                                                           \n",
            "--------------------------------------------------\n",
            "Input sentence: Get out!\n",
            "Decoded sentence: म                                                                                                                           \n",
            "--------------------------------------------------\n",
            "Input sentence: Go away!\n",
            "Decoded sentence: म                                                                                                                           \n",
            "--------------------------------------------------\n",
            "Input sentence: Goodbye!\n",
            "Decoded sentence: म                                                                                                                           \n",
            "--------------------------------------------------\n",
            "Input sentence: Perfect!\n",
            "Decoded sentence: म                                                                                                                           \n",
            "--------------------------------------------------\n",
            "Input sentence: Perfect!\n",
            "Decoded sentence: म                                                                                                                           \n",
            "--------------------------------------------------\n",
            "Input sentence: Welcome.\n",
            "Decoded sentence: म                                                                                                                           \n",
            "--------------------------------------------------\n",
            "Input sentence: Welcome.\n",
            "Decoded sentence: म                                                                                                                           \n",
            "--------------------------------------------------\n",
            "Input sentence: Have fun.\n",
            "Decoded sentence: म                                                                                                                           \n",
            "--------------------------------------------------\n",
            "Input sentence: Have fun.\n",
            "Decoded sentence: म                                                                                                                           \n",
            "--------------------------------------------------\n",
            "Input sentence: Have fun.\n",
            "Decoded sentence: म                                                                                                                           \n",
            "--------------------------------------------------\n",
            "Input sentence: I forgot.\n",
            "Decoded sentence: म                                                                                                                           \n",
            "--------------------------------------------------\n",
            "Input sentence: I forgot.\n",
            "Decoded sentence: म                                                                                                                           \n"
          ],
          "name": "stdout"
        }
      ]
    },
    {
      "cell_type": "code",
      "metadata": {
        "id": "QpRTQqgol4Of",
        "colab_type": "code",
        "colab": {}
      },
      "source": [
        ""
      ],
      "execution_count": 0,
      "outputs": []
    },
    {
      "cell_type": "code",
      "metadata": {
        "id": "UsteJV1Ql4Ln",
        "colab_type": "code",
        "colab": {}
      },
      "source": [
        ""
      ],
      "execution_count": 0,
      "outputs": []
    },
    {
      "cell_type": "code",
      "metadata": {
        "id": "5qn4ubdFl4Cg",
        "colab_type": "code",
        "colab": {}
      },
      "source": [
        ""
      ],
      "execution_count": 0,
      "outputs": []
    }
  ]
}