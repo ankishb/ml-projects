{
 "cells": [
  {
   "cell_type": "code",
   "execution_count": 1,
   "metadata": {},
   "outputs": [],
   "source": [
    "from tqdm import tqdm\n",
    "import pandas as pd\n",
    "import numpy as np\n",
    "tqdm.pandas()\n",
    "import matplotlib.pyplot as plt\n",
    "%matplotlib inline\n",
    "\n",
    "import os, gc\n",
    "import seaborn as sns\n",
    "\n",
    "import warnings\n",
    "warnings.filterwarnings(\"ignore\")"
   ]
  },
  {
   "cell_type": "code",
   "execution_count": 2,
   "metadata": {},
   "outputs": [],
   "source": [
    "glove_file = '../../ml-toolbox-testing/dataset/glove.6B/glove.6B.300d.txt'\n",
    "def get_coefs(word, *arr):\n",
    "    return word, np.asarray(arr, dtype='float16')[:1]\n",
    "\n",
    "embeddings_index = dict(get_coefs(*o.split(\" \")) for o in open(glove_file, encoding='latin'))\n"
   ]
  },
  {
   "cell_type": "code",
   "execution_count": 3,
   "metadata": {},
   "outputs": [],
   "source": [
    "def build_vocab(texts):\n",
    "    sentences = texts.progress_apply(lambda x: x.split()).values\n",
    "    vocab = {}\n",
    "    for sentence in sentences:\n",
    "        for word in sentence:\n",
    "            try:\n",
    "                vocab[word] += 1\n",
    "            except KeyError:\n",
    "                vocab[word] = 1\n",
    "    return vocab\n",
    "\n",
    "def check_coverage(vocab, embeddings_index):\n",
    "    known_words = {}\n",
    "    unknown_words = {}\n",
    "    nb_known_words = 0\n",
    "    nb_unknown_words = 0\n",
    "    for word in vocab.keys():\n",
    "        if word in embeddings_index:\n",
    "            known_words[word] = embeddings_index[word]\n",
    "            nb_known_words += vocab[word]\n",
    "        elif word.capitalize() in embeddings_index:\n",
    "            known_words[word] = embeddings_index[word.capitalize()]\n",
    "            nb_known_words += vocab[word]\n",
    "        elif word.lower() in embeddings_index:\n",
    "            known_words[word] = embeddings_index[word.lower()]\n",
    "            nb_known_words += vocab[word]\n",
    "        elif word.upper() in embeddings_index:\n",
    "            known_words[word] = embeddings_index[word.upper()]\n",
    "            nb_known_words += vocab[word]\n",
    "        else:\n",
    "            unknown_words[word] = vocab[word]\n",
    "            nb_unknown_words += vocab[word]\n",
    "\n",
    "    print('Found embeddings for {:.2%} of vocab'.format(len(known_words) / len(vocab)))\n",
    "    print('Found embeddings for  {:.2%} of all text'.format(nb_known_words / (nb_known_words + nb_unknown_words)))\n",
    "    unknown_words = sorted(unknown_words.items(), key=operator.itemgetter(1))[::-1]\n",
    "\n",
    "    return unknown_words\n",
    "\n",
    "def vocab_check_coverage(df, col_name):\n",
    "#     df = pd.concat([train, test]).reset_index(drop=True)\n",
    "    \n",
    "    vocab = build_vocab(df[col_name])\n",
    "    print(\"Glove : \")\n",
    "    oov_glove = check_coverage(vocab, embeddings_index)\n",
    "    oov_glove = {\"oov_rate\": len(oov_glove) / len(vocab), 'oov_words': oov_glove}\n",
    "#     print(\"Paragram : \")\n",
    "#     oov_paragram = check_coverage(vocab, embed_paragram)\n",
    "#     oov_paragram = {\"oov_rate\": len(oov_paragram) / len(vocab), 'oov_words': oov_paragram}\n",
    "#     print(\"FastText : \")\n",
    "#     oov_fasttext = check_coverage(vocab, embed_fasttext)\n",
    "#     oov_fasttext = {\"oov_rate\": len(oov_fasttext) / len(vocab), 'oov_words': oov_fasttext}\n",
    "#     print(\"Google : \")\n",
    "#     oov_google = check_coverage(vocab, embed_google)\n",
    "#     oov_google = {\"oov_rate\": len(oov_google) / len(vocab), 'oov_words': oov_google}\n",
    "    \n",
    "    return oov_glove#, oov_paragram, oov_fasttext\n"
   ]
  },
  {
   "cell_type": "code",
   "execution_count": 4,
   "metadata": {},
   "outputs": [],
   "source": [
    "# print(\"Extracting GloVe embedding\")\n",
    "# for word in list(embeddings_index.keys()):\n",
    "#     if word is \"don't\":\n",
    "#         print(\"found\")\n"
   ]
  },
  {
   "cell_type": "code",
   "execution_count": 5,
   "metadata": {},
   "outputs": [
    {
     "data": {
      "text/plain": [
       "((5959, 3), (2553, 2), (5, 3))"
      ]
     },
     "execution_count": 5,
     "metadata": {},
     "output_type": "execute_result"
    }
   ],
   "source": [
    "train = pd.read_csv('Dataset/train.csv')\n",
    "test  = pd.read_csv('Dataset/test.csv')\n",
    "sub   = pd.read_csv('Dataset/Sample_Submission.csv')\n",
    "\n",
    "train.shape, test.shape, sub.shape"
   ]
  },
  {
   "cell_type": "code",
   "execution_count": 6,
   "metadata": {},
   "outputs": [
    {
     "data": {
      "text/plain": [
       "(Index(['text', 'title'], dtype='object'),\n",
       " Index(['text', 'title', 'topic'], dtype='object'))"
      ]
     },
     "execution_count": 6,
     "metadata": {},
     "output_type": "execute_result"
    }
   ],
   "source": [
    "train.rename(columns={'Review Text':'text', 'Review Title':'title'}, inplace=True)\n",
    "test.rename(columns={'Review Text':'text', 'Review Title':'title'}, inplace=True)\n",
    "test.columns, train.columns"
   ]
  },
  {
   "cell_type": "code",
   "execution_count": null,
   "metadata": {},
   "outputs": [],
   "source": []
  },
  {
   "cell_type": "code",
   "execution_count": 7,
   "metadata": {},
   "outputs": [],
   "source": [
    "df = train.append(test, ignore_index=True)\n",
    "df['text']  = df['text'].str.lower()\n",
    "df['title'] = df['title'].str.lower()"
   ]
  },
  {
   "cell_type": "code",
   "execution_count": 8,
   "metadata": {},
   "outputs": [
    {
     "name": "stderr",
     "output_type": "stream",
     "text": [
      "100%|██████████| 8512/8512 [00:00<00:00, 11677.38it/s]\n",
      "100%|██████████| 8512/8512 [00:00<00:00, 44913.83it/s]\n"
     ]
    }
   ],
   "source": [
    "contraction_mapping = {\n",
    "    \"Trump's\" : 'trump is',\"'cause\": 'because','â€™': \"'\",',cause': 'because',';cause': 'because',\"ain't\": 'am not','ain,t': 'am not',\n",
    "    'ain;t': 'am not','ain´t': 'am not','ain’t': 'am not',\"aren't\": 'are not','â€“': '-','â€œ':'\"',\n",
    "    'aren,t': 'are not','aren;t': 'are not','aren´t': 'are not','aren’t': 'are not',\"can't\": 'cannot',\"can't've\": 'cannot have','can,t': 'cannot','can,t,ve': 'cannot have',\n",
    "    'can;t': 'cannot','can;t;ve': 'cannot have',\n",
    "    'can´t': 'cannot','can´t´ve': 'cannot have','can’t': 'cannot','can’t’ve': 'cannot have',\n",
    "    \"could've\": 'could have','could,ve': 'could have','could;ve': 'could have',\"couldn't\": 'could not',\"couldn't've\": 'could not have','couldn,t': 'could not','couldn,t,ve': 'could not have','couldn;t': 'could not',\n",
    "    'couldn;t;ve': 'could not have','couldn´t': 'could not',\n",
    "    'couldn´t´ve': 'could not have','couldn’t': 'could not','couldn’t’ve': 'could not have','could´ve': 'could have',\n",
    "    'could’ve': 'could have',\"didn't\": 'did not','didn,t': 'did not','didn;t': 'did not','didn´t': 'did not',\n",
    "    'didn’t': 'did not',\"doesn't\": 'does not','doesn,t': 'does not','doesn;t': 'does not','doesn´t': 'does not',\n",
    "    'doesn’t': 'does not',\"don't\": 'do not','don,t': 'do not','don;t': 'do not','don´t': 'do not','don’t': 'do not',\n",
    "    \"hadn't\": 'had not',\"hadn't've\": 'had not have','hadn,t': 'had not','hadn,t,ve': 'had not have','hadn;t': 'had not',\n",
    "    'hadn;t;ve': 'had not have','hadn´t': 'had not','hadn´t´ve': 'had not have','hadn’t': 'had not','hadn’t’ve': 'had not have',\"hasn't\": 'has not','hasn,t': 'has not','hasn;t': 'has not','hasn´t': 'has not','hasn’t': 'has not',\n",
    "    \"haven't\": 'have not','haven,t': 'have not','haven;t': 'have not','haven´t': 'have not','haven’t': 'have not',\"he'd\": 'he would',\n",
    "    \"he'd've\": 'he would have',\"he'll\": 'he will',\n",
    "    \"he's\": 'he is','he,d': 'he would','he,d,ve': 'he would have','he,ll': 'he will','he,s': 'he is','he;d': 'he would',\n",
    "    'he;d;ve': 'he would have','he;ll': 'he will','he;s': 'he is','he´d': 'he would','he´d´ve': 'he would have','he´ll': 'he will',\n",
    "    'he´s': 'he is','he’d': 'he would','he’d’ve': 'he would have','he’ll': 'he will','he’s': 'he is',\"how'd\": 'how did',\"how'll\": 'how will',\n",
    "    \"how's\": 'how is','how,d': 'how did','how,ll': 'how will','how,s': 'how is','how;d': 'how did','how;ll': 'how will',\n",
    "    'how;s': 'how is','how´d': 'how did','how´ll': 'how will','how´s': 'how is','how’d': 'how did','how’ll': 'how will',\n",
    "    'how’s': 'how is',\"i'd\": 'i would',\"i'll\": 'i will',\"i'm\": 'i am',\"i've\": 'i have','i,d': 'i would','i,ll': 'i will',\n",
    "    'i,m': 'i am','i,ve': 'i have','i;d': 'i would','i;ll': 'i will','i;m': 'i am','i;ve': 'i have',\"isn't\": 'is not',\n",
    "    'isn,t': 'is not','isn;t': 'is not','isn´t': 'is not','isn’t': 'is not',\"it'd\": 'it would',\"it'll\": 'it will',\"It's\":'it is',\n",
    "    \"it's\": 'it is','it,d': 'it would','it,ll': 'it will','it,s': 'it is','it;d': 'it would','it;ll': 'it will','it;s': 'it is','it´d': 'it would','it´ll': 'it will','it´s': 'it is',\n",
    "    'it’d': 'it would','it’ll': 'it will','it’s': 'it is',\n",
    "    'i´d': 'i would','i´ll': 'i will','i´m': 'i am','i´ve': 'i have','i’d': 'i would','i’ll': 'i will','i’m': 'i am',\n",
    "    'i’ve': 'i have',\"let's\": 'let us','let,s': 'let us','let;s': 'let us','let´s': 'let us',\n",
    "    'let’s': 'let us',\"ma'am\": 'madam','ma,am': 'madam','ma;am': 'madam',\"mayn't\": 'may not','mayn,t': 'may not','mayn;t': 'may not',\n",
    "    'mayn´t': 'may not','mayn’t': 'may not','ma´am': 'madam','ma’am': 'madam',\"might've\": 'might have','might,ve': 'might have','might;ve': 'might have',\"mightn't\": 'might not','mightn,t': 'might not','mightn;t': 'might not','mightn´t': 'might not',\n",
    "    'mightn’t': 'might not','might´ve': 'might have','might’ve': 'might have',\"must've\": 'must have','must,ve': 'must have','must;ve': 'must have',\n",
    "    \"mustn't\": 'must not','mustn,t': 'must not','mustn;t': 'must not','mustn´t': 'must not','mustn’t': 'must not','must´ve': 'must have',\n",
    "    'must’ve': 'must have',\"needn't\": 'need not','needn,t': 'need not','needn;t': 'need not','needn´t': 'need not','needn’t': 'need not',\"oughtn't\": 'ought not','oughtn,t': 'ought not','oughtn;t': 'ought not',\n",
    "    'oughtn´t': 'ought not','oughtn’t': 'ought not',\"sha'n't\": 'shall not','sha,n,t': 'shall not','sha;n;t': 'shall not',\"shan't\": 'shall not',\n",
    "    'shan,t': 'shall not','shan;t': 'shall not','shan´t': 'shall not','shan’t': 'shall not','sha´n´t': 'shall not','sha’n’t': 'shall not',\n",
    "    \"she'd\": 'she would',\"she'll\": 'she will',\"she's\": 'she is','she,d': 'she would','she,ll': 'she will',\n",
    "    'she,s': 'she is','she;d': 'she would','she;ll': 'she will','she;s': 'she is','she´d': 'she would','she´ll': 'she will',\n",
    "    'she´s': 'she is','she’d': 'she would','she’ll': 'she will','she’s': 'she is',\"should've\": 'should have','should,ve': 'should have','should;ve': 'should have',\n",
    "    \"shouldn't\": 'should not','shouldn,t': 'should not','shouldn;t': 'should not','shouldn´t': 'should not','shouldn’t': 'should not','should´ve': 'should have',\n",
    "    'should’ve': 'should have',\"that'd\": 'that would',\"that's\": 'that is','that,d': 'that would','that,s': 'that is','that;d': 'that would',\n",
    "    'that;s': 'that is','that´d': 'that would','that´s': 'that is','that’d': 'that would','that’s': 'that is',\"there'd\": 'there had',\n",
    "    \"there's\": 'there is','there,d': 'there had','there,s': 'there is','there;d': 'there had','there;s': 'there is',\n",
    "    'there´d': 'there had','there´s': 'there is','there’d': 'there had','there’s': 'there is',\n",
    "    \"they'd\": 'they would',\"they'll\": 'they will',\"they're\": 'they are',\"they've\": 'they have',\n",
    "    'they,d': 'they would','they,ll': 'they will','they,re': 'they are','they,ve': 'they have','they;d': 'they would','they;ll': 'they will','they;re': 'they are',\n",
    "    'they;ve': 'they have','they´d': 'they would','they´ll': 'they will','they´re': 'they are','they´ve': 'they have','they’d': 'they would','they’ll': 'they will',\n",
    "    'they’re': 'they are','they’ve': 'they have',\"wasn't\": 'was not','wasn,t': 'was not','wasn;t': 'was not','wasn´t': 'was not',\n",
    "    'wasn’t': 'was not',\"we'd\": 'we would',\"we'll\": 'we will',\"we're\": 'we are',\"we've\": 'we have','we,d': 'we would','we,ll': 'we will',\n",
    "    'we,re': 'we are','we,ve': 'we have','we;d': 'we would','we;ll': 'we will','we;re': 'we are','we;ve': 'we have',\n",
    "    \"weren't\": 'were not','weren,t': 'were not','weren;t': 'were not','weren´t': 'were not','weren’t': 'were not','we´d': 'we would','we´ll': 'we will',\n",
    "    'we´re': 'we are','we´ve': 'we have','we’d': 'we would','we’ll': 'we will','we’re': 'we are','we’ve': 'we have',\"what'll\": 'what will',\"what're\": 'what are',\"what's\": 'what is',\n",
    "    \"what've\": 'what have','what,ll': 'what will','what,re': 'what are','what,s': 'what is','what,ve': 'what have','what;ll': 'what will','what;re': 'what are',\n",
    "    'what;s': 'what is','what;ve': 'what have','what´ll': 'what will',\n",
    "    'what´re': 'what are','what´s': 'what is','what´ve': 'what have','what’ll': 'what will','what’re': 'what are','what’s': 'what is',\n",
    "    'what’ve': 'what have',\"where'd\": 'where did',\"where's\": 'where is','where,d': 'where did','where,s': 'where is','where;d': 'where did',\n",
    "    'where;s': 'where is','where´d': 'where did','where´s': 'where is','where’d': 'where did','where’s': 'where is',\n",
    "    \"who'll\": 'who will',\"who's\": 'who is','who,ll': 'who will','who,s': 'who is','who;ll': 'who will','who;s': 'who is',\n",
    "    'who´ll': 'who will','who´s': 'who is','who’ll': 'who will','who’s': 'who is',\"won't\": 'will not','won,t': 'will not','won;t': 'will not',\n",
    "    'won´t': 'will not','won’t': 'will not',\"wouldn't\": 'would not','wouldn,t': 'would not','wouldn;t': 'would not','wouldn´t': 'would not',\n",
    "    'wouldn’t': 'would not',\"you'd\": 'you would',\"you'll\": 'you will',\"you're\": 'you are','you,d': 'you would','you,ll': 'you will',\n",
    "    'you,re': 'you are','you;d': 'you would','you;ll': 'you will',\n",
    "    'you;re': 'you are','you´d': 'you would','you´ll': 'you will','you´re': 'you are','you’d': 'you would','you’ll': 'you will','you’re': 'you are',\n",
    "    '´cause': 'because','’cause': 'because',\"you've\": \"you have\",\"could'nt\": 'could not',\n",
    "    \"havn't\": 'have not',\"here’s\": \"here is\",'i\"\"m': 'i am',\"i'am\": 'i am',\"i'l\": \"i will\",\"i'v\": 'i have',\"wan't\": 'want',\"was'nt\": \"was not\",\"who'd\": \"who would\",\n",
    "    \"who're\": \"who are\",\"who've\": \"who have\",\"why'd\": \"why would\",\"would've\": \"would have\",\"y'all\": \"you all\",\"y'know\": \"you know\",\"you.i\": \"you i\",\n",
    "    \"your'e\": \"you are\",\"arn't\": \"are not\",\"agains't\": \"against\",\"c'mon\": \"common\",\"doens't\": \"does not\",'don\"\"t': \"do not\",\"dosen't\": \"does not\",\n",
    "    \"dosn't\": \"does not\",\"shoudn't\": \"should not\",\"that'll\": \"that will\",\"there'll\": \"there will\",\"there're\": \"there are\",\n",
    "    \"this'll\": \"this all\",\"u're\": \"you are\", \"ya'll\": \"you all\",\"you'r\": \"you are\",\"you’ve\": \"you have\",\"d'int\": \"did not\",\"did'nt\": \"did not\",\"din't\": \"did not\",\"dont't\": \"do not\",\"gov't\": \"government\",\n",
    "    \"i'ma\": \"i am\",\"is'nt\": \"is not\",\"‘I\":'I',\n",
    "    'ᴀɴᴅ':'and','ᴛʜᴇ':'the','ʜᴏᴍᴇ':'home','ᴜᴘ':'up','ʙʏ':'by','ᴀᴛ':'at','…and':'and','civilbeat':'civil beat',\\\n",
    "    'TrumpCare':'Trump care','Trumpcare':'Trump care', 'OBAMAcare':'Obama care','ᴄʜᴇᴄᴋ':'check','ғᴏʀ':'for','ᴛʜɪs':'this','ᴄᴏᴍᴘᴜᴛᴇʀ':'computer',\\\n",
    "    'ᴍᴏɴᴛʜ':'month','ᴡᴏʀᴋɪɴɢ':'working','ᴊᴏʙ':'job','ғʀᴏᴍ':'from','Sᴛᴀʀᴛ':'start','gubmit':'submit','CO₂':'carbon dioxide','ғɪʀsᴛ':'first',\\\n",
    "    'ᴇɴᴅ':'end','ᴄᴀɴ':'can','ʜᴀᴠᴇ':'have','ᴛᴏ':'to','ʟɪɴᴋ':'link','ᴏғ':'of','ʜᴏᴜʀʟʏ':'hourly','ᴡᴇᴇᴋ':'week','ᴇɴᴅ':'end','ᴇxᴛʀᴀ':'extra',\\\n",
    "    'Gʀᴇᴀᴛ':'great','sᴛᴜᴅᴇɴᴛs':'student','sᴛᴀʏ':'stay','ᴍᴏᴍs':'mother','ᴏʀ':'or','ᴀɴʏᴏɴᴇ':'anyone','ɴᴇᴇᴅɪɴɢ':'needing','ᴀɴ':'an','ɪɴᴄᴏᴍᴇ':'income',\\\n",
    "    'ʀᴇʟɪᴀʙʟᴇ':'reliable','ғɪʀsᴛ':'first','ʏᴏᴜʀ':'your','sɪɢɴɪɴɢ':'signing','ʙᴏᴛᴛᴏᴍ':'bottom','ғᴏʟʟᴏᴡɪɴɢ':'following','Mᴀᴋᴇ':'make',\\\n",
    "    'ᴄᴏɴɴᴇᴄᴛɪᴏɴ':'connection','ɪɴᴛᴇʀɴᴇᴛ':'internet','financialpost':'financial post', 'ʜaᴠᴇ':' have ', 'ᴄaɴ':' can ', 'Maᴋᴇ':' make ', 'ʀᴇʟɪaʙʟᴇ':' reliable ', 'ɴᴇᴇᴅ':' need ',\n",
    "    'ᴏɴʟʏ':' only ', 'ᴇxᴛʀa':' extra ', 'aɴ':' an ', 'aɴʏᴏɴᴇ':' anyone ', 'sᴛaʏ':' stay ', 'Sᴛaʀᴛ':' start', 'SHOPO':'shop',\n",
    "    }\n",
    "\n",
    "\n",
    "def correct_contraction(x, dic):\n",
    "    for word in dic.keys():\n",
    "        if word in x:\n",
    "            x = x.replace(word, dic[word])\n",
    "    return x\n",
    "\n",
    "df['text']  = df['text'].progress_apply(lambda x: correct_contraction(x, contraction_mapping))\n",
    "df['title'] = df['title'].progress_apply(lambda x: correct_contraction(x, contraction_mapping))\n"
   ]
  },
  {
   "cell_type": "code",
   "execution_count": 9,
   "metadata": {},
   "outputs": [
    {
     "name": "stderr",
     "output_type": "stream",
     "text": [
      "100%|██████████| 8512/8512 [00:00<00:00, 105318.18it/s]\n",
      "100%|██████████| 8512/8512 [00:00<00:00, 174170.98it/s]\n"
     ]
    }
   ],
   "source": [
    "import os,operator\n",
    "\n",
    "extra_punct = [\n",
    "    ',', '.', '\"', ':', ')', '(', '!', '?', '|', ';', \"'\", '$', '&',\n",
    "    '/', '[', ']', '>', '%', '=', '#', '*', '+', '\\\\', '•',  '~', '@', '£',\n",
    "    '·', '_', '{', '}', '©', '^', '®', '`',  '<', '→', '°', '€', '™', '›',\n",
    "    '♥', '←', '×', '§', '″', '′', 'Â', '█', '½', 'à', '…', '“', '★', '”',\n",
    "    '–', '●', 'â', '►', '−', '¢', '²', '¬', '░', '¶', '↑', '±', '¿', '▾',\n",
    "    '═', '¦', '║', '―', '¥', '▓', '—', '‹', '─', '▒', '：', '¼', '⊕', '▼',\n",
    "    '▪', '†', '■', '’', '▀', '¨', '▄', '♫', '☆', 'é', '¯', '♦', '¤', '▲',\n",
    "    'è', '¸', '¾', 'Ã', '⋅', '‘', '∞', '∙', '）', '↓', '、', '│', '（', '»',\n",
    "    '，', '♪', '╩', '╚', '³', '・', '╦', '╣', '╔', '╗', '▬', '❤', 'ï', 'Ø',\n",
    "    '¹', '≤', '‡', '√', '«', '»', '´', 'º', '¾', '¡', '§', '£', '₤']\n",
    "\n",
    "\n",
    "import string\n",
    "my_punct = list(string.punctuation)\n",
    "all_punct = list(set(my_punct + extra_punct))\n",
    "\n",
    "special_punc_mappings = {\"—\": \"-\", \"–\": \"-\", \"_\": \"-\", '”': '\"', \"″\": '\"', '“': '\"', '•': '.', '−': '-',\n",
    "                         \"’\": \"'\", \"‘\": \"'\", \"´\": \"'\", \"`\": \"'\", '\\u200b': ' ', '\\xa0': ' ','،':'','„':'',\n",
    "                         '…': ' ... ', '\\ufeff': ''}\n",
    "\n",
    "def spacing_punctuation(text):\n",
    "    \"\"\"\n",
    "    add space before and after punctuation and symbols\n",
    "    \"\"\"\n",
    "    for punc in all_punct:\n",
    "        if punc in text:\n",
    "            text = text.replace(punc, f' {punc} ')\n",
    "    return text\n",
    "\n",
    "def clean_special_punctuations(text):\n",
    "    for punc in special_punc_mappings:\n",
    "        if punc in text:\n",
    "            text = text.replace(punc, special_punc_mappings[punc])\n",
    "    # remove_diacritics don´t' ->  'don t'\n",
    "    #text = remove_diacritics(text)\n",
    "    return text\n",
    "\n",
    "\n",
    "\n",
    "def preprocess(text):\n",
    "    text = spacing_punctuation(text)\n",
    "    text = clean_special_punctuations(text)\n",
    "    return text\n",
    "\n",
    "\n",
    "df[\"text\"] = df[\"text\"].progress_apply(preprocess)\n",
    "df['text'] = df['text'].str.replace(r'\\b\\w\\b','').str.replace(r'\\s+', ' ')\n",
    "df['text'].replace({r'[^\\x00-\\x7F]+':''}, regex=True, inplace=True)\n",
    "df['text'].replace({'  ':' '}, regex=True, inplace=True)\n",
    "\n",
    "df[\"title\"] = df[\"title\"].progress_apply(preprocess)\n",
    "df['title'] = df['title'].str.replace(r'\\b\\w\\b','').str.replace(r'\\s+', ' ')\n",
    "df['title'].replace({r'[^\\x00-\\x7F]+':''}, regex=True, inplace=True)\n",
    "df['title'].replace({'  ':' '}, regex=True, inplace=True)\n"
   ]
  },
  {
   "cell_type": "code",
   "execution_count": 10,
   "metadata": {},
   "outputs": [
    {
     "name": "stderr",
     "output_type": "stream",
     "text": [
      "100%|██████████| 8512/8512 [00:00<00:00, 25389.09it/s]\n",
      "100%|██████████| 8512/8512 [00:00<00:00, 111728.40it/s]\n"
     ]
    }
   ],
   "source": [
    "import re\n",
    "def clean_text(text):\n",
    "    text = text.lower()\n",
    "    text = re.sub(r'@[a-zA-Z0-9_]+', '', text)   \n",
    "    text = re.sub(r'https?://[A-Za-z0-9./]+', '', text)   \n",
    "    text = re.sub(r'www.[^ ]+', '', text)  \n",
    "    text = re.sub(r'[a-zA-Z0-9]*www[a-zA-Z0-9]*com[a-zA-Z0-9]*', '', text)  \n",
    "    text = re.sub(r'[^a-zA-Z]', ' ', text)   \n",
    "    text = [token for token in text.split() if len(token) > 2]\n",
    "    text = ' '.join(text)\n",
    "    return text\n",
    "\n",
    "df['text']   = df['text'].progress_apply(clean_text)\n",
    "df['title']  = df['title'].progress_apply(clean_text)"
   ]
  },
  {
   "cell_type": "code",
   "execution_count": 11,
   "metadata": {},
   "outputs": [
    {
     "name": "stderr",
     "output_type": "stream",
     "text": [
      "100%|██████████| 8512/8512 [00:00<00:00, 104619.16it/s]\n",
      "100%|██████████| 8512/8512 [00:00<00:00, 145592.56it/s]\n"
     ]
    }
   ],
   "source": [
    "def clean_text(x):\n",
    "    x = str(x)\n",
    "    for punct in \"/-'\":\n",
    "        x = x.replace(punct, ' ')\n",
    "    for punct in '&':\n",
    "        x = x.replace(punct, f' {punct} ')\n",
    "    for punct in '?!.,\"#$%\\'()*+-/:;<=>@[\\\\]^_`{|}~' + '“”’':\n",
    "        x = x.replace(punct, '')\n",
    "    return x\n",
    "\n",
    "df['text'] = df['text'].progress_apply(clean_text)\n",
    "df['title'] = df['title'].progress_apply(clean_text)\n"
   ]
  },
  {
   "cell_type": "code",
   "execution_count": null,
   "metadata": {},
   "outputs": [],
   "source": []
  },
  {
   "cell_type": "code",
   "execution_count": 12,
   "metadata": {},
   "outputs": [
    {
     "name": "stderr",
     "output_type": "stream",
     "text": [
      "100%|██████████| 8512/8512 [00:00<00:00, 174444.16it/s]\n",
      "100%|██████████| 8512/8512 [00:00<00:00, 589617.28it/s]"
     ]
    },
    {
     "name": "stdout",
     "output_type": "stream",
     "text": [
      "Glove : \n",
      "Found embeddings for 92.28% of vocab\n",
      "Found embeddings for  99.45% of all text\n",
      "Glove : \n",
      "Found embeddings for 94.63% of vocab\n",
      "Found embeddings for  99.18% of all text\n"
     ]
    },
    {
     "name": "stderr",
     "output_type": "stream",
     "text": [
      "\n"
     ]
    }
   ],
   "source": [
    "oov_glove1 = vocab_check_coverage(df, 'text')\n",
    "oov_glove2 = vocab_check_coverage(df, 'title')\n"
   ]
  },
  {
   "cell_type": "code",
   "execution_count": 13,
   "metadata": {},
   "outputs": [
    {
     "data": {
      "text/plain": [
       "array([-0.4915], dtype=float16)"
      ]
     },
     "execution_count": 13,
     "metadata": {},
     "output_type": "execute_result"
    }
   ],
   "source": [
    "embeddings_index['vanilla']"
   ]
  },
  {
   "cell_type": "code",
   "execution_count": null,
   "metadata": {},
   "outputs": [],
   "source": [
    "# oov_glove2['oov_words'][:50]\n"
   ]
  },
  {
   "cell_type": "code",
   "execution_count": null,
   "metadata": {},
   "outputs": [],
   "source": []
  },
  {
   "cell_type": "code",
   "execution_count": null,
   "metadata": {},
   "outputs": [],
   "source": [
    "# def splitting(data):\n",
    "#     new=[]\n",
    "#     for sentences in data:\n",
    "#         yes = sentences.split(\". \")\n",
    "#         new.append(yes) \n",
    "#     return new\n",
    "    \n",
    "# train['new_text'] = splitting(train['text'])\n",
    "# test['new_text'] = splitting(test['text'])\n",
    "\n",
    "\n",
    "# def cleaning1(data):\n",
    "#     new_text=[]\n",
    "#     for sentences in data:\n",
    "#         matching = [s for s in sentences if 'reply posted' not in s]\n",
    "#         new_text.append(matching)\n",
    "        \n",
    "#     return new_text\n",
    "\n",
    "# train['new_text'] = cleaning1(train['new_text'])\n",
    "# test['new_text'] = cleaning1(test['new_text'])\n",
    "\n",
    "\n",
    "# def cleaning2(data):\n",
    "#     new_text=[]\n",
    "#     for sentences in data:\n",
    "#         matching = [s for s in sentences if 'help center' not in s]\n",
    "#         new_text.append(matching)\n",
    "        \n",
    "#     return new_text\n",
    "\n",
    "# train['new_text'] = cleaning2(train['new_text'])\n",
    "# test['new_text'] = cleaning2(test['new_text'])\n",
    "\n",
    "\n",
    "# def cleaning3(data):\n",
    "#     new_text=[]\n",
    "    \n",
    "#     for sentences in data:\n",
    "#         if(len(sentences)>1):\n",
    "#             matching = [s for s in sentences if len(s) >= 15]\n",
    "#             new_text.append(matching)\n",
    "            \n",
    "#         else:\n",
    "#             matching = [s for s in sentences if len(s) >= 2]\n",
    "#             new_text.append(matching)\n",
    "        \n",
    "#     return new_text\n",
    "\n",
    "# train['new_text'] = cleaning3(train['new_text'])\n",
    "# test['new_text'] = cleaning3(test['new_text'])\n",
    "\n",
    "# def don(d):\n",
    "#     n=[]\n",
    "#     for s in d:\n",
    "#         res = \".\".join(s)\n",
    "#         n.append(res)\n",
    "#     return n\n",
    "\n",
    "# train['text'] = don(train['new_text'])\n",
    "# test['text']  = don(test['new_text'])\n"
   ]
  },
  {
   "cell_type": "code",
   "execution_count": null,
   "metadata": {},
   "outputs": [],
   "source": []
  },
  {
   "cell_type": "code",
   "execution_count": 14,
   "metadata": {},
   "outputs": [
    {
     "data": {
      "text/plain": [
       "<matplotlib.collections.PathCollection at 0x7f69ebb84c88>"
      ]
     },
     "execution_count": 14,
     "metadata": {},
     "output_type": "execute_result"
    },
    {
     "data": {
      "image/png": "[encoded data removed]",
      "text/plain": [
       "<Figure size 1440x288 with 2 Axes>"
      ]
     },
     "metadata": {
      "needs_background": "light"
     },
     "output_type": "display_data"
    }
   ],
   "source": [
    "df['wc_text']  = df['text'].apply(lambda x: len(str(x).split(\" \")))\n",
    "df['wc_title'] = df['title'].apply(lambda x: len(str(x).split(\" \")))\n",
    "\n",
    "fig, ax = plt.subplots(1,2,figsize=(20, 4))\n",
    "ax[0].scatter(range(df.shape[0]), df['wc_text'])\n",
    "ax[1].scatter(range(df.shape[0]), df['wc_title'])"
   ]
  },
  {
   "cell_type": "code",
   "execution_count": null,
   "metadata": {},
   "outputs": [],
   "source": [
    "# os.makedirs('new_dataset')\n",
    "# train.to_csv('new_dataset/train1.csv', index=None)\n",
    "# test.to_csv('new_dataset/test1.csv', index=None)\n",
    "train.shape, test.shape"
   ]
  },
  {
   "cell_type": "code",
   "execution_count": null,
   "metadata": {},
   "outputs": [],
   "source": []
  },
  {
   "cell_type": "code",
   "execution_count": 15,
   "metadata": {},
   "outputs": [
    {
     "name": "stdout",
     "output_type": "stream",
     "text": [
      "Col: wc_text    min: 1          max: 403        low: 2.0        high: 119.0     \n",
      "Col: wc_title   min: 1          max: 17         low: 1.0        high: 8.0       \n",
      "Col: wc_text    min: 1          max: 403        low: 2.0        high: 144.0     \n",
      "Col: wc_title   min: 1          max: 17         low: 1.0        high: 10.0      \n",
      "Col: wc_text    min: 1          max: 403        low: 2.0        high: 196.0     \n",
      "Col: wc_title   min: 1          max: 17         low: 1.0        high: 12.0      \n"
     ]
    }
   ],
   "source": [
    "def get_quantile(df, col, q1, q2):\n",
    "    \"\"\"compute quantile range\n",
    "    args:\n",
    "        col: col name\n",
    "        q1: lower quantile percentile\n",
    "        q2: upper quantile percentile\n",
    "    \"\"\"\n",
    "    df1 = df[[col]].dropna()\n",
    "    lower_bound = np.percentile(df1, q=q1)\n",
    "    upper_bound = np.percentile(df1, q=q2)\n",
    "    lower_bound = np.round(lower_bound,3)\n",
    "    upper_bound = np.round(upper_bound, 3)\n",
    "    min_ = np.round(np.min(df1[col]), 3)\n",
    "    max_ = np.round(np.max(df1[col]), 3)\n",
    "    print(\"Col: {4:<10} min: {0:<10} max: {1:<10} low: {2:<10} high: {3:<10}\".format(min_, max_, lower_bound, upper_bound, col))\n",
    "\n",
    "get_quantile(df, 'wc_text', 1, 95)\n",
    "get_quantile(df, 'wc_title', 1, 95)\n",
    "\n",
    "get_quantile(df, 'wc_text', 1, 97)\n",
    "get_quantile(df, 'wc_title', 1, 97)\n",
    "\n",
    "get_quantile(df, 'wc_text', 1, 99)\n",
    "get_quantile(df, 'wc_title', 1, 99)\n"
   ]
  },
  {
   "cell_type": "code",
   "execution_count": null,
   "metadata": {},
   "outputs": [],
   "source": []
  },
  {
   "cell_type": "code",
   "execution_count": null,
   "metadata": {},
   "outputs": [],
   "source": []
  },
  {
   "cell_type": "code",
   "execution_count": null,
   "metadata": {},
   "outputs": [],
   "source": []
  },
  {
   "cell_type": "code",
   "execution_count": 16,
   "metadata": {},
   "outputs": [
    {
     "name": "stderr",
     "output_type": "stream",
     "text": [
      "Using TensorFlow backend.\n"
     ]
    }
   ],
   "source": [
    "from keras.engine.topology import Layer\n",
    "from keras import backend as K\n",
    "from keras import initializers, regularizers, constraints, optimizers, layers\n",
    "class Attention(Layer):\n",
    "    def __init__(self, step_dim, W_regularizer=None, b_regularizer=None, W_constraint=None, b_constraint=None, bias=True, **kwargs):\n",
    "        self.supports_masking = True\n",
    "        self.init = initializers.get('glorot_uniform')\n",
    "\n",
    "        self.W_regularizer = regularizers.get(W_regularizer)\n",
    "        self.b_regularizer = regularizers.get(b_regularizer)\n",
    "\n",
    "        self.W_constraint = constraints.get(W_constraint)\n",
    "        self.b_constraint = constraints.get(b_constraint)\n",
    "\n",
    "        self.bias = bias\n",
    "        self.step_dim = step_dim\n",
    "        self.features_dim = 0\n",
    "        super(Attention, self).__init__(**kwargs)\n",
    "\n",
    "    def build(self, input_shape):\n",
    "        assert len(input_shape) == 3\n",
    "\n",
    "        self.W = self.add_weight((input_shape[-1],),\n",
    "                                 initializer=self.init,\n",
    "                                 name='{}_W'.format(self.name),\n",
    "                                 regularizer=self.W_regularizer,\n",
    "                                 constraint=self.W_constraint)\n",
    "        self.features_dim = input_shape[-1]\n",
    "\n",
    "        if self.bias:\n",
    "            self.b = self.add_weight((input_shape[1],),\n",
    "                                     initializer='zero',\n",
    "                                     name='{}_b'.format(self.name),\n",
    "                                     regularizer=self.b_regularizer,\n",
    "                                     constraint=self.b_constraint)\n",
    "        else:\n",
    "            self.b = None\n",
    "\n",
    "        self.built = True\n",
    "\n",
    "    def compute_mask(self, input, input_mask=None):\n",
    "        return None\n",
    "\n",
    "    def call(self, x, mask=None):\n",
    "        features_dim = self.features_dim\n",
    "        step_dim = self.step_dim\n",
    "\n",
    "        eij = K.reshape(K.dot(K.reshape(x, (-1, features_dim)),\n",
    "                        K.reshape(self.W, (features_dim, 1))), (-1, step_dim))\n",
    "\n",
    "        if self.bias: eij += self.b\n",
    "        eij = K.tanh(eij)\n",
    "        a = K.exp(eij)\n",
    "\n",
    "        if mask is not None:\n",
    "            a *= K.cast(mask, K.floatx())\n",
    "\n",
    "        a /= K.cast(K.sum(a, axis=1, keepdims=True)+K.epsilon(), K.floatx())\n",
    "        a = K.expand_dims(a)\n",
    "        weighted_input = x * a\n",
    "        return K.sum(weighted_input, axis=1)\n",
    "\n",
    "    def compute_output_shape(self, input_shape):\n",
    "        return input_shape[0],  self.features_dim\n"
   ]
  },
  {
   "cell_type": "code",
   "execution_count": null,
   "metadata": {},
   "outputs": [],
   "source": [
    "# from keras.models import Model\n",
    "# from keras.layers import Input, Embedding, Dense, Conv2D, MaxPool2D\n",
    "# from keras.layers import Reshape, Flatten, Concatenate, Dropout, SpatialDropout1D\n",
    "\n",
    "# max_features = 50000\n",
    "# num_classes  = 21\n",
    "# max_words    = 200\n",
    "# filter_sizes = [1,2,3,5]\n",
    "# num_filters  = 36\n",
    "# inp = Input(shape=(max_words,))\n",
    "# x = Embedding(max_features, 300, trainable=False)(inp)\n",
    "# x = Reshape((max_words, 300, 1))(x)\n",
    "# maxpool_pool = []\n",
    "# for i in range(len(filter_sizes)):\n",
    "#     conv = Conv2D(num_filters, kernel_size=(filter_sizes[i], 300),\n",
    "#                                  kernel_initializer='he_normal', activation='relu')(x)\n",
    "#     maxpool_pool.append(MaxPool2D(pool_size=(max_words - filter_sizes[i] + 1, 1))(conv))\n",
    "# z = Concatenate(axis=1)(maxpool_pool)   \n",
    "# z = Flatten()(z)\n",
    "# z = Dropout(0.1)(z)\n",
    "# outp = Dense(num_classes, activation=\"softmax\")(z)\n",
    "# model = Model(inputs=inp, outputs=outp)\n",
    "# model.compile(loss='categorical_crossentropy', optimizer='adam', metrics=['accuracy'])\n",
    "# model.summary()"
   ]
  },
  {
   "cell_type": "code",
   "execution_count": 17,
   "metadata": {},
   "outputs": [],
   "source": [
    "from keras.models import Sequential\n",
    "from keras.optimizers import Adam\n",
    "from keras import Model\n",
    "\n",
    "from keras.layers import Bidirectional, CuDNNLSTM, LSTM, CuDNNGRU, GRU, Embedding\n",
    "from keras.layers import Dense, Input, Dropout, Activation, Conv1D, Flatten, Concatenate\n",
    "from keras.layers import SpatialDropout1D, Dropout, GlobalMaxPooling1D, MaxPooling1D\n",
    "\n",
    "from keras.preprocessing.text import Tokenizer\n",
    "from keras.preprocessing.sequence import pad_sequences\n",
    "from keras.callbacks import ModelCheckpoint, Callback, EarlyStopping,ReduceLROnPlateau\n"
   ]
  },
  {
   "cell_type": "code",
   "execution_count": 18,
   "metadata": {},
   "outputs": [
    {
     "data": {
      "text/plain": [
       "400000"
      ]
     },
     "execution_count": 18,
     "metadata": {},
     "output_type": "execute_result"
    }
   ],
   "source": [
    "len(embeddings_index)"
   ]
  },
  {
   "cell_type": "code",
   "execution_count": 19,
   "metadata": {},
   "outputs": [
    {
     "data": {
      "text/plain": [
       "(9387, 2830)"
      ]
     },
     "execution_count": 19,
     "metadata": {},
     "output_type": "execute_result"
    }
   ],
   "source": [
    "tokenizer1 = Tokenizer()\n",
    "tokenizer1.fit_on_texts(list(df['text']))\n",
    "word_index1 = tokenizer1.word_index\n",
    "\n",
    "tokenizer2 = Tokenizer()\n",
    "tokenizer2.fit_on_texts(list(df['title']))\n",
    "word_index2 = tokenizer2.word_index\n",
    "\n",
    "len(word_index1), len(word_index2)"
   ]
  },
  {
   "cell_type": "code",
   "execution_count": null,
   "metadata": {},
   "outputs": [],
   "source": []
  },
  {
   "cell_type": "code",
   "execution_count": 20,
   "metadata": {},
   "outputs": [
    {
     "data": {
      "text/plain": [
       "((8512, 200), (8512, 17))"
      ]
     },
     "execution_count": 20,
     "metadata": {},
     "output_type": "execute_result"
    }
   ],
   "source": [
    "max_features1 = len(word_index1) + 1\n",
    "max_features2 = len(word_index2) + 1\n",
    "\n",
    "max_words1 = 200\n",
    "max_words2 = 17\n",
    "\n",
    "text = tokenizer1.texts_to_sequences(df['text'])\n",
    "text = pad_sequences(text, maxlen = max_words1)\n",
    "\n",
    "title = tokenizer2.texts_to_sequences(df['title'])\n",
    "title = pad_sequences(title, maxlen = max_words2)\n",
    "\n",
    "text.shape, title.shape"
   ]
  },
  {
   "cell_type": "code",
   "execution_count": 21,
   "metadata": {},
   "outputs": [],
   "source": [
    "batch_size   = 32\n",
    "epochs       = 40\n",
    "num_classes  = 21\n"
   ]
  },
  {
   "cell_type": "code",
   "execution_count": null,
   "metadata": {},
   "outputs": [],
   "source": []
  },
  {
   "cell_type": "code",
   "execution_count": 23,
   "metadata": {},
   "outputs": [
    {
     "data": {
      "text/plain": [
       "(<tf.Tensor 'attention_3/Sum_1:0' shape=(?, 128) dtype=float32>,\n",
       " <tf.Tensor 'attention_4/Sum_1:0' shape=(?, 64) dtype=float32>)"
      ]
     },
     "execution_count": 23,
     "metadata": {},
     "output_type": "execute_result"
    }
   ],
   "source": [
    "inp1 = Input(shape=(max_words1,))\n",
    "inp2 = Input(shape=(max_words2,))\n",
    "\n",
    "x1 = Embedding(max_features1, 300, trainable=True)(inp1)\n",
    "x2 = Embedding(max_features2, 300, trainable=True)(inp2)\n",
    "\n",
    "x1 = Bidirectional(LSTM(128, return_sequences=True))(x1)\n",
    "x1 = Bidirectional(LSTM(64, return_sequences=True))(x1)\n",
    "x1 = Attention(max_words1)(x1)\n",
    "\n",
    "x2 = Bidirectional(LSTM(64, return_sequences=True))(x2)\n",
    "x2 = Bidirectional(LSTM(32, return_sequences=True))(x2)\n",
    "x2 = Attention(max_words2)(x2)\n",
    "\n",
    "x1, x2"
   ]
  },
  {
   "cell_type": "code",
   "execution_count": 24,
   "metadata": {},
   "outputs": [
    {
     "name": "stdout",
     "output_type": "stream",
     "text": [
      "__________________________________________________________________________________________________\n",
      "Layer (type)                    Output Shape         Param #     Connected to                     \n",
      "==================================================================================================\n",
      "input_3 (InputLayer)            (None, 200)          0                                            \n",
      "__________________________________________________________________________________________________\n",
      "input_4 (InputLayer)            (None, 17)           0                                            \n",
      "__________________________________________________________________________________________________\n",
      "embedding_3 (Embedding)         (None, 200, 300)     2816400     input_3[0][0]                    \n",
      "__________________________________________________________________________________________________\n",
      "embedding_4 (Embedding)         (None, 17, 300)      849300      input_4[0][0]                    \n",
      "__________________________________________________________________________________________________\n",
      "bidirectional_5 (Bidirectional) (None, 200, 256)     439296      embedding_3[0][0]                \n",
      "__________________________________________________________________________________________________\n",
      "bidirectional_7 (Bidirectional) (None, 17, 128)      186880      embedding_4[0][0]                \n",
      "__________________________________________________________________________________________________\n",
      "bidirectional_6 (Bidirectional) (None, 200, 128)     164352      bidirectional_5[0][0]            \n",
      "__________________________________________________________________________________________________\n",
      "bidirectional_8 (Bidirectional) (None, 17, 64)       41216       bidirectional_7[0][0]            \n",
      "__________________________________________________________________________________________________\n",
      "attention_3 (Attention)         (None, 128)          328         bidirectional_6[0][0]            \n",
      "__________________________________________________________________________________________________\n",
      "attention_4 (Attention)         (None, 64)           81          bidirectional_8[0][0]            \n",
      "__________________________________________________________________________________________________\n",
      "concatenate_1 (Concatenate)     (None, 192)          0           attention_3[0][0]                \n",
      "                                                                 attention_4[0][0]                \n",
      "__________________________________________________________________________________________________\n",
      "dense_1 (Dense)                 (None, 128)          24704       concatenate_1[0][0]              \n",
      "__________________________________________________________________________________________________\n",
      "dropout_1 (Dropout)             (None, 128)          0           dense_1[0][0]                    \n",
      "__________________________________________________________________________________________________\n",
      "dense_2 (Dense)                 (None, 64)           8256        dropout_1[0][0]                  \n",
      "__________________________________________________________________________________________________\n",
      "dense_3 (Dense)                 (None, 21)           1365        dense_2[0][0]                    \n",
      "==================================================================================================\n",
      "Total params: 4,532,178\n",
      "Trainable params: 4,532,178\n",
      "Non-trainable params: 0\n",
      "__________________________________________________________________________________________________\n"
     ]
    }
   ],
   "source": [
    "x = Concatenate(axis=-1)([x1, x2])\n",
    "x = Dense(128, activation=\"relu\")(x)\n",
    "x = Dropout(0.3)(x)\n",
    "x = Dense(64, activation=\"relu\")(x)\n",
    "x = Dense(num_classes, activation=\"softmax\")(x)\n",
    "modelATT = Model(inputs=[inp1, inp2], outputs=x)\n",
    "modelATT.compile(loss='categorical_crossentropy', \n",
    "                 optimizer=Adam(lr=1e-2), metrics=['accuracy'])\n",
    "modelATT.summary()"
   ]
  },
  {
   "cell_type": "code",
   "execution_count": null,
   "metadata": {},
   "outputs": [],
   "source": []
  },
  {
   "cell_type": "code",
   "execution_count": 25,
   "metadata": {},
   "outputs": [
    {
     "data": {
      "text/plain": [
       "((5959, 5), (2553, 2))"
      ]
     },
     "execution_count": 25,
     "metadata": {},
     "output_type": "execute_result"
    }
   ],
   "source": [
    "tr_len = train.shape[0]\n",
    "ts_len = test.shape[0]\n",
    "# train.shape[0] + test.shape[0], df.shape[0]\n",
    "train1 = df.iloc[:tr_len]\n",
    "test1  = df.iloc[tr_len:]\n",
    "train1.shape, test.shape"
   ]
  },
  {
   "cell_type": "code",
   "execution_count": 26,
   "metadata": {},
   "outputs": [],
   "source": [
    "def get_mapping(df, col_name):\n",
    "    cat_codes = df[col_name].astype('category')\n",
    "    \n",
    "    class_mapping = {}\n",
    "    i = 0\n",
    "    for col in cat_codes.cat.categories:\n",
    "        class_mapping[col] = i\n",
    "        i += 1\n",
    "    \n",
    "    class_mapping_reverse = {}\n",
    "    for key, value in class_mapping.items():\n",
    "        class_mapping_reverse[value] = key\n",
    "\n",
    "    return class_mapping, class_mapping_reverse\n",
    "\n",
    "cl_map, cl_map_inv = get_mapping(train1, 'topic')"
   ]
  },
  {
   "cell_type": "code",
   "execution_count": 27,
   "metadata": {},
   "outputs": [
    {
     "name": "stdout",
     "output_type": "stream",
     "text": [
      "(5959, 217) (2553, 217)\n"
     ]
    },
    {
     "data": {
      "text/plain": [
       "((4171, 217), (4171,))"
      ]
     },
     "execution_count": 27,
     "metadata": {},
     "output_type": "execute_result"
    }
   ],
   "source": [
    "train1['target'] = train1['topic'].astype('category').cat.codes\n",
    "train1['target'] = train1['target'].astype('int')\n",
    "\n",
    "text_title = np.concatenate([text, title], axis=1)\n",
    "tr_text_title = text_title[:tr_len]\n",
    "ts_text_title = text_title[tr_len:]\n",
    "print(tr_text_title.shape, ts_text_title.shape)\n",
    "\n",
    "from sklearn.model_selection import train_test_split\n",
    "X_train, X_test, Y_train, Y_test = train_test_split(\n",
    "    tr_text_title, train1['target'], shuffle=True,\n",
    "    stratify=train1['target'], test_size=0.3, random_state=1337\n",
    ")\n",
    "X_train.shape, Y_train.shape"
   ]
  },
  {
   "cell_type": "code",
   "execution_count": 28,
   "metadata": {},
   "outputs": [
    {
     "data": {
      "text/plain": [
       "((4171, 200), (4171, 17), (1788, 200), (1788, 17))"
      ]
     },
     "execution_count": 28,
     "metadata": {},
     "output_type": "execute_result"
    }
   ],
   "source": [
    "X_tr_text  = X_train[:,:200]\n",
    "X_tr_title = X_train[:,200:]\n",
    "\n",
    "X_ts_text  = X_test[:,:200]\n",
    "X_ts_title = X_test[:,200:]\n",
    "\n",
    "X_tr_text.shape, X_tr_title.shape, X_ts_text.shape, X_ts_title.shape "
   ]
  },
  {
   "cell_type": "code",
   "execution_count": null,
   "metadata": {},
   "outputs": [],
   "source": []
  },
  {
   "cell_type": "code",
   "execution_count": 29,
   "metadata": {},
   "outputs": [
    {
     "data": {
      "text/plain": [
       "((4171, 21), (1788, 21))"
      ]
     },
     "execution_count": 29,
     "metadata": {},
     "output_type": "execute_result"
    }
   ],
   "source": [
    "from keras.utils import to_categorical\n",
    "Y_train = to_categorical(Y_train, num_classes=num_classes)\n",
    "Y_test  = to_categorical(Y_test, num_classes=num_classes)\n",
    "Y_train.shape, Y_test.shape"
   ]
  },
  {
   "cell_type": "code",
   "execution_count": 30,
   "metadata": {},
   "outputs": [
    {
     "data": {
      "text/plain": [
       "array([1.60750658e-05, 1.85060810e-05, 1.85060810e-05, ...,\n",
       "       1.95252374e-05, 1.60750658e-05, 5.45514998e-06])"
      ]
     },
     "execution_count": 30,
     "metadata": {},
     "output_type": "execute_result"
    }
   ],
   "source": [
    "from sklearn.utils import class_weight\n",
    "def get_class_weights(y):\n",
    "    \"\"\" \n",
    "    Example:\n",
    "        model.fit(X_t, y, batch_size=10, epochs=2,validation_split=0.1,sample_weight=sample_wts)\n",
    "    \n",
    "    \"\"\"\n",
    "    return class_weight.compute_sample_weight('balanced', y)\n",
    "\n",
    "cls_wts = get_class_weights(Y_train)\n",
    "cls_wts"
   ]
  },
  {
   "cell_type": "code",
   "execution_count": 31,
   "metadata": {},
   "outputs": [
    {
     "data": {
      "text/plain": [
       "(4171,)"
      ]
     },
     "execution_count": 31,
     "metadata": {},
     "output_type": "execute_result"
    }
   ],
   "source": [
    "cls_wts.shape"
   ]
  },
  {
   "cell_type": "code",
   "execution_count": 34,
   "metadata": {},
   "outputs": [],
   "source": [
    "modelATT.compile(loss='categorical_crossentropy', \n",
    "                 optimizer=Adam(lr=1e-2), metrics=['accuracy'])"
   ]
  },
  {
   "cell_type": "code",
   "execution_count": 35,
   "metadata": {},
   "outputs": [
    {
     "name": "stdout",
     "output_type": "stream",
     "text": [
      "Train on 4171 samples, validate on 1788 samples\n",
      "Epoch 1/40\n",
      "4171/4171 [==============================] - 113s 27ms/step - loss: 8.4009e-05 - acc: 0.0173 - val_loss: 3.0743 - val_acc: 0.0358\n",
      "Epoch 2/40\n",
      "4171/4171 [==============================] - 103s 25ms/step - loss: 8.3744e-05 - acc: 0.0254 - val_loss: 3.0808 - val_acc: 0.0229\n",
      "Epoch 00002: early stopping\n",
      "CPU times: user 11min 22s, sys: 58.9 s, total: 12min 21s\n",
      "Wall time: 3min 42s\n"
     ]
    }
   ],
   "source": [
    "%%time\n",
    "early_stop = EarlyStopping(monitor=\"val_acc\", patience=1, verbose=1)\n",
    "history    = modelATT.fit(\n",
    "    [X_tr_text, X_tr_title], Y_train,\n",
    "    validation_data = ([X_ts_text, X_ts_title], Y_test),\n",
    "    epochs          = epochs,\n",
    "    batch_size      = batch_size,\n",
    "    verbose         = 1,\n",
    "    sample_weight   = cls_wts,\n",
    "    callbacks       = [early_stop]\n",
    ")"
   ]
  },
  {
   "cell_type": "code",
   "execution_count": null,
   "metadata": {},
   "outputs": [],
   "source": []
  },
  {
   "cell_type": "code",
   "execution_count": null,
   "metadata": {},
   "outputs": [],
   "source": []
  },
  {
   "cell_type": "code",
   "execution_count": null,
   "metadata": {},
   "outputs": [],
   "source": []
  },
  {
   "cell_type": "code",
   "execution_count": null,
   "metadata": {},
   "outputs": [],
   "source": []
  },
  {
   "cell_type": "code",
   "execution_count": null,
   "metadata": {},
   "outputs": [],
   "source": []
  },
  {
   "cell_type": "code",
   "execution_count": null,
   "metadata": {},
   "outputs": [],
   "source": []
  },
  {
   "cell_type": "code",
   "execution_count": null,
   "metadata": {},
   "outputs": [],
   "source": []
  },
  {
   "cell_type": "code",
   "execution_count": null,
   "metadata": {},
   "outputs": [],
   "source": []
  },
  {
   "cell_type": "code",
   "execution_count": null,
   "metadata": {},
   "outputs": [],
   "source": []
  },
  {
   "cell_type": "code",
   "execution_count": null,
   "metadata": {},
   "outputs": [],
   "source": []
  },
  {
   "cell_type": "code",
   "execution_count": null,
   "metadata": {},
   "outputs": [],
   "source": []
  },
  {
   "cell_type": "code",
   "execution_count": null,
   "metadata": {},
   "outputs": [],
   "source": []
  },
  {
   "cell_type": "code",
   "execution_count": null,
   "metadata": {},
   "outputs": [],
   "source": []
  },
  {
   "cell_type": "code",
   "execution_count": null,
   "metadata": {},
   "outputs": [],
   "source": []
  },
  {
   "cell_type": "code",
   "execution_count": null,
   "metadata": {},
   "outputs": [],
   "source": []
  },
  {
   "cell_type": "code",
   "execution_count": null,
   "metadata": {},
   "outputs": [],
   "source": []
  },
  {
   "cell_type": "code",
   "execution_count": null,
   "metadata": {},
   "outputs": [],
   "source": []
  },
  {
   "cell_type": "code",
   "execution_count": null,
   "metadata": {},
   "outputs": [],
   "source": []
  },
  {
   "cell_type": "code",
   "execution_count": null,
   "metadata": {},
   "outputs": [],
   "source": []
  },
  {
   "cell_type": "code",
   "execution_count": null,
   "metadata": {},
   "outputs": [],
   "source": []
  },
  {
   "cell_type": "code",
   "execution_count": null,
   "metadata": {},
   "outputs": [],
   "source": []
  },
  {
   "cell_type": "code",
   "execution_count": null,
   "metadata": {},
   "outputs": [],
   "source": []
  },
  {
   "cell_type": "code",
   "execution_count": null,
   "metadata": {},
   "outputs": [],
   "source": [
    "import gc\n",
    "from sklearn.feature_extraction.text import CountVectorizer\n",
    "from sklearn.feature_extraction.text import TfidfVectorizer\n",
    "from sklearn.decomposition import TruncatedSVD, NMF\n",
    "\n",
    "def tfidf_feature(train, test, col_name, min_df=3, analyzer='word', \n",
    "                  token_pattern=r'\\w{1,}', ngram=3, stopwords='english', \n",
    "                  n_component=120, decom_flag=False, which_method='svd', \n",
    "                  max_features=None):\n",
    "    \"\"\"return tfidf feature\n",
    "    Args:\n",
    "        train, test: dataframe\n",
    "        col_name: column name of text feature\n",
    "        min_df: if Int, then it represent count of the minimum words in corpus (remove very rare word)\n",
    "        analyzer: [‘word’, ‘char’]\n",
    "        ngram: max range of ngram\n",
    "        token_pattern: [using: r'\\w{1,}'] [by default: '(?u)\\b\\w\\w+\\b']\n",
    "        stopwords: ['english' or customized by remove specific words]\n",
    "        n_component: n_component of svd feature transform\n",
    "        decom_flag: Wheteher to run svd/nmf on top of that or not (by default: False)\n",
    "        which_method: which to run [svd or nmf] on top of tfidf (by default: False)\n",
    "        max_features: max no of features to keep, based on frequency. It will keep words with higher freq\n",
    "    return:\n",
    "        Transformed feature space of the text data, as well as tfidf function instance\n",
    "        if svd_flag== True : train_tf, test_tf, tfv, svd\n",
    "        else : train_tf, test_tf, tfv\n",
    "    example:\n",
    "        train_tfv, test_tfv, tfv = tfidf_feature(X_train, X_test, ['text'], min_df=3)\n",
    "        train_svd, test_svd, complete_tfv, tfv, svd = tfidf_feature(X_train, X_test, ['text'], \n",
    "            min_df=3, svd_component=3, svd_flag=True)\n",
    "\n",
    "    \"\"\"\n",
    "    tfv = TfidfVectorizer(min_df=min_df,  max_features=max_features, \n",
    "                strip_accents='unicode', analyzer=analyzer, max_df=1.0, \n",
    "                token_pattern=token_pattern, ngram_range=(1, ngram), \n",
    "                use_idf=1, smooth_idf=1, sublinear_tf=1,\n",
    "                stop_words = stopwords)\n",
    "\n",
    "    complete_df = pd.concat([train[col_name], test[col_name]], axis=0)\n",
    "#         return complete_df\n",
    "#         print(complete_df.shape, complete_df.columns)\n",
    "\n",
    "    tfv.fit(list(complete_df[:].values))\n",
    "\n",
    "    if decom_flag is False:\n",
    "        train_tfv =  tfv.transform(train[col_name].values.ravel()) \n",
    "        test_tfv  = tfv.transform(test[col_name].values.ravel())\n",
    "\n",
    "        del complete_df\n",
    "        gc.collect()\n",
    "        return train_tfv, test_tfv, tfv\n",
    "    else:\n",
    "        complete_tfv = tfv.transform(complete_df[:].values.ravel())\n",
    "        \n",
    "        if which_method is 'svd':\n",
    "            svd = TruncatedSVD(n_components=n_component)\n",
    "            svd.fit(complete_tfv)\n",
    "            complete_dec = svd.transform(complete_tfv)\n",
    "        else:\n",
    "            nmf = NMF(n_components=n_component, random_state=1234, alpha=0, l1_ratio=0)\n",
    "            nmf.fit(complete_tfv)            \n",
    "            complete_dec = nmf.fit_transform(complete_tfv)            \n",
    "        \n",
    "        \n",
    "        complete_dec = pd.DataFrame(data=complete_dec)\n",
    "        complete_dec.columns = [which_method+'_'+str(i) for i in range(n_component)]\n",
    "\n",
    "        train_dec = complete_dec.iloc[:train.shape[0]]\n",
    "        test_dec = complete_dec.iloc[train.shape[0]:].reset_index(drop=True)\n",
    "\n",
    "        del complete_dec, complete_df\n",
    "        gc.collect()\n",
    "        return train_dec, test_dec, complete_tfv, tfv\n",
    "\n",
    "def countvect_feature(train, test, col_name, min_df=3, analyzer='word', token_pattern=r'\\w{1,}', ngram=3, stopwords='english', max_features=None):\n",
    "    \"\"\"return CountVectorizer feature\n",
    "    Args:\n",
    "        train, test: dataset\n",
    "        col_name: columns name of the text feature\n",
    "        min_df: if Int, then it represent count of the minimum words in corpus (remove very rare word)\n",
    "        analyzer: [‘word’, ‘char’]\n",
    "        ngram: max range of ngram\n",
    "        token_pattern: [using: r'\\w{1,}'] [by default: '(?u)\\b\\w\\w+\\b']\n",
    "        stopwords: ['english' or customized by remove specific words]\n",
    "        max_features: max no of features to keep, based on frequency. It will keep words with higher freq\n",
    "    return:\n",
    "        Count feature space of the text data, as well as its function instance\n",
    "    \"\"\"\n",
    "    ctv = CountVectorizer(min_df=min_df,  max_features=max_features, \n",
    "                strip_accents='unicode', analyzer=analyzer, \n",
    "                token_pattern=token_pattern, ngram_range=(1, ngram), \n",
    "                stop_words = stopwords)\n",
    "\n",
    "    complete_df = pd.concat([train[col_name], test[col_name]], axis=0)\n",
    "    ctv.fit(list(complete_df[:].values))\n",
    "\n",
    "    train_tf =  ctv.transform(train[col_name].values.ravel()) \n",
    "    test_tf  = ctv.transform(test[col_name].values.ravel())\n",
    "\n",
    "    del complete_df\n",
    "    gc.collect()\n",
    "    return train_tf, test_tf, ctv\n"
   ]
  },
  {
   "cell_type": "code",
   "execution_count": null,
   "metadata": {},
   "outputs": [],
   "source": []
  },
  {
   "cell_type": "code",
   "execution_count": null,
   "metadata": {},
   "outputs": [],
   "source": [
    "out_tfidfs = []\n",
    "for ngram in [1,2,3,4,5]:\n",
    "    out_tfidfs.append(tfidf_feature(train, test, ''))"
   ]
  },
  {
   "cell_type": "code",
   "execution_count": null,
   "metadata": {},
   "outputs": [],
   "source": [
    "out_tfidf1 = tfidf_feature(train, test, 'text', ngram=1)\n",
    "out_tfidf2 = tfidf_feature(train, test, 'text', ngram=2)\n",
    "out_tfidf3 = tfidf_feature(train, test, 'text', ngram=3)\n",
    "out_tfidf4 = tfidf_feature(train, test, 'text', ngram=5)\n",
    "\n",
    "out_vect1 = countvect_feature(train, test, 'text', ngram=1)\n",
    "out_vect2 = countvect_feature(train, test, 'text', ngram=2)\n",
    "out_vect3 = countvect_feature(train, test, 'text', ngram=3)\n",
    "out_vect4 = countvect_feature(train, test, 'text', ngram=5)\n",
    "\n",
    "print('tf-idf features: ', out_tfidf1[0].shape, \n",
    "     out_tfidf2[0].shape, out_tfidf3[0].shape, out_tfidf4[0].shape)\n",
    "print('count-vect features: ', out_vect1[0].shape, \n",
    "     out_vect2[0].shape, out_vect3[0].shape, out_vect4[0].shape)\n"
   ]
  },
  {
   "cell_type": "code",
   "execution_count": null,
   "metadata": {},
   "outputs": [],
   "source": []
  },
  {
   "cell_type": "markdown",
   "metadata": {},
   "source": [
    "## Multinomial bayes classifier"
   ]
  },
  {
   "cell_type": "code",
   "execution_count": null,
   "metadata": {},
   "outputs": [],
   "source": [
    "train['target'] = train['topic'].astype('category').cat.codes\n",
    "train['target'] = train['target'].astype('int')\n",
    "all_class = list(train['target'].unique())\n",
    "print(len(all_class))"
   ]
  },
  {
   "cell_type": "code",
   "execution_count": null,
   "metadata": {},
   "outputs": [],
   "source": [
    "train[train['target'] == 1].shape, out_tfidf1.shape"
   ]
  },
  {
   "cell_type": "code",
   "execution_count": null,
   "metadata": {},
   "outputs": [],
   "source": [
    "from sklearn.model_selection import train_test_split\n",
    "X_train, X_test, Y_train, Y_test = train_test_split(\n",
    "    out_tfidf1[0], train['target'], stratify=train['target'], test_size=0.3\n",
    ")\n",
    "\n",
    "X_train.shape, X_test.shape, Y_train.shape, Y_test.shape"
   ]
  },
  {
   "cell_type": "code",
   "execution_count": null,
   "metadata": {},
   "outputs": [],
   "source": [
    "from sklearn.naive_bayes import MultinomialNB\n",
    "clf = MultinomialNB().fit(X_train, Y_train)\n",
    "# pred = clf.predict(X_test)\n"
   ]
  },
  {
   "cell_type": "code",
   "execution_count": null,
   "metadata": {},
   "outputs": [],
   "source": []
  },
  {
   "cell_type": "code",
   "execution_count": null,
   "metadata": {},
   "outputs": [],
   "source": [
    "from sklearn.naive_bayes import MultinomialNB\n",
    "X_train, X_test, Y_train, Y_test = train_test_split(\n",
    "    out_tfidf1[0], train['target'], stratify=train['target'], test_size=0.3\n",
    ")\n",
    "clf = MultinomialNB().fit(X_train, Y_train)\n",
    "print(\"tfidf1 : \", clf.score(X_test, Y_test))\n",
    "\n",
    "X_train, X_test, Y_train, Y_test = train_test_split(\n",
    "    out_tfidf2[0], train['target'], stratify=train['target'], test_size=0.3\n",
    ")\n",
    "clf = MultinomialNB().fit(X_train, Y_train)\n",
    "print(\"tfidf2 : \", clf.score(X_test, Y_test))\n",
    "\n",
    "X_train, X_test, Y_train, Y_test = train_test_split(\n",
    "    out_tfidf3[0], train['target'], stratify=train['target'], test_size=0.3\n",
    ")\n",
    "clf = MultinomialNB().fit(X_train, Y_train)\n",
    "print(\"tfidf3 : \", clf.score(X_test, Y_test))\n",
    "\n",
    "X_train, X_test, Y_train, Y_test = train_test_split(\n",
    "    out_tfidf4[0], train['target'], stratify=train['target'], test_size=0.3\n",
    ")\n",
    "clf = MultinomialNB().fit(X_train, Y_train)\n",
    "print(\"tfidf4 : \", clf.score(X_test, Y_test))\n",
    "\n",
    "print(\"==\"*25)\n",
    "\n",
    "from sklearn.naive_bayes import MultinomialNB\n",
    "X_train, X_test, Y_train, Y_test = train_test_split(\n",
    "    out_vect1[0], train['target'], stratify=train['target'], test_size=0.3\n",
    ")\n",
    "clf = MultinomialNB().fit(X_train, Y_train)\n",
    "print(\"count-vect1 : \", clf.score(X_test, Y_test))\n",
    "\n",
    "X_train, X_test, Y_train, Y_test = train_test_split(\n",
    "    out_vect2[0], train['target'], stratify=train['target'], test_size=0.3\n",
    ")\n",
    "clf = MultinomialNB().fit(X_train, Y_train)\n",
    "print(\"count-vect2 : \", clf.score(X_test, Y_test))\n",
    "\n",
    "X_train, X_test, Y_train, Y_test = train_test_split(\n",
    "    out_vect3[0], train['target'], stratify=train['target'], test_size=0.3\n",
    ")\n",
    "clf = MultinomialNB().fit(X_train, Y_train)\n",
    "print(\"count-vect3 : \", clf.score(X_test, Y_test))\n",
    "\n",
    "X_train, X_test, Y_train, Y_test = train_test_split(\n",
    "    out_vect4[0], train['target'], stratify=train['target'], test_size=0.3\n",
    ")\n",
    "clf = MultinomialNB().fit(X_train, Y_train)\n",
    "print(\"count-vect4 : \", clf.score(X_test, Y_test))\n"
   ]
  },
  {
   "cell_type": "code",
   "execution_count": null,
   "metadata": {},
   "outputs": [],
   "source": [
    "logistic_reg = LogisticRegression(penalty='l2', dual=False, \n",
    "    C=0.01, fit_intercept=True, intercept_scaling=1, class_weight='balanced', \n",
    "    random_state=1234, max_iter=100, multi_class='warn', verbose=0, n_jobs=-1)\n",
    "logistic_reg.fit(X_train, Y_train)\n",
    "print(logistic_reg.score(X_test, Y_test))"
   ]
  },
  {
   "cell_type": "code",
   "execution_count": null,
   "metadata": {
    "scrolled": true
   },
   "outputs": [],
   "source": [
    "import warnings\n",
    "warnings.filterwarnings(\"ignore\")\n",
    "\n",
    "from sklearn.naive_bayes import MultinomialNB\n",
    "X_train, X_test, Y_train, Y_test = train_test_split(\n",
    "    out_tfidf1[0], train['target'], stratify=train['target'], test_size=0.3\n",
    ")\n",
    "logistic_reg.fit(X_train, Y_train)\n",
    "print(\"tfidf1 : \", logistic_reg.score(X_test, Y_test))\n",
    "\n",
    "X_train, X_test, Y_train, Y_test = train_test_split(\n",
    "    out_tfidf2[0], train['target'], stratify=train['target'], test_size=0.3\n",
    ")\n",
    "logistic_reg.fit(X_train, Y_train)\n",
    "print(\"tfidf2 : \", logistic_reg.score(X_test, Y_test))\n",
    "\n",
    "X_train, X_test, Y_train, Y_test = train_test_split(\n",
    "    out_tfidf3[0], train['target'], stratify=train['target'], test_size=0.3\n",
    ")\n",
    "logistic_reg.fit(X_train, Y_train)\n",
    "print(\"tfidf3 : \", logistic_reg.score(X_test, Y_test))\n",
    "\n",
    "X_train, X_test, Y_train, Y_test = train_test_split(\n",
    "    out_tfidf4[0], train['target'], stratify=train['target'], test_size=0.3\n",
    ")\n",
    "logistic_reg.fit(X_train, Y_train)\n",
    "print(\"tfidf4 : \", logistic_reg.score(X_test, Y_test))\n",
    "\n",
    "print(\"==\"*25)\n",
    "\n",
    "from sklearn.naive_bayes import MultinomialNB\n",
    "X_train, X_test, Y_train, Y_test = train_test_split(\n",
    "    out_vect1[0], train['target'], stratify=train['target'], test_size=0.3\n",
    ")\n",
    "logistic_reg.fit(X_train, Y_train)\n",
    "print(\"count-vect1 : \", logistic_reg.score(X_test, Y_test))\n",
    "\n",
    "X_train, X_test, Y_train, Y_test = train_test_split(\n",
    "    out_vect2[0], train['target'], stratify=train['target'], test_size=0.3\n",
    ")\n",
    "logistic_reg.fit(X_train, Y_train)\n",
    "print(\"count-vect2 : \", logistic_reg.score(X_test, Y_test))\n",
    "\n",
    "X_train, X_test, Y_train, Y_test = train_test_split(\n",
    "    out_vect3[0], train['target'], stratify=train['target'], test_size=0.3\n",
    ")\n",
    "logistic_reg.fit(X_train, Y_train)\n",
    "print(\"count-vect3 : \", logistic_reg.score(X_test, Y_test))\n",
    "\n",
    "X_train, X_test, Y_train, Y_test = train_test_split(\n",
    "    out_vect4[0], train['target'], stratify=train['target'], test_size=0.3\n",
    ")\n",
    "logistic_reg.fit(X_train, Y_train)\n",
    "print(\"count-vect4 : \", logistic_reg.score(X_test, Y_test))\n"
   ]
  },
  {
   "cell_type": "code",
   "execution_count": null,
   "metadata": {},
   "outputs": [],
   "source": [
    "sub_df = pd.read_csv('Dataset/Sample_Submission.csv')\n",
    "sub_df"
   ]
  },
  {
   "cell_type": "code",
   "execution_count": null,
   "metadata": {},
   "outputs": [],
   "source": [
    "logistic_reg.fit(out_vect3[0], train['target'])\n",
    "pred = logistic_reg.predict(out_vect3[1])\n",
    "pred.shape"
   ]
  },
  {
   "cell_type": "code",
   "execution_count": null,
   "metadata": {},
   "outputs": [],
   "source": [
    "# def category_encoder(df)\n",
    "test.drop('topic', axis=1, inplace=True)\n",
    "test['target'] = pred\n",
    "test.head()"
   ]
  },
  {
   "cell_type": "code",
   "execution_count": null,
   "metadata": {},
   "outputs": [],
   "source": [
    "test['topic'] = test['target'].apply(lambda x: class_mapping_reverse[str(x)])"
   ]
  },
  {
   "cell_type": "code",
   "execution_count": null,
   "metadata": {},
   "outputs": [],
   "source": [
    "test.drop('target', axis=1, inplace=True)\n",
    "# os.makedirs('submission')\n",
    "test.to_csv('submission/linear_model1.csv', index=None)"
   ]
  },
  {
   "cell_type": "code",
   "execution_count": null,
   "metadata": {},
   "outputs": [],
   "source": []
  },
  {
   "cell_type": "code",
   "execution_count": null,
   "metadata": {},
   "outputs": [],
   "source": [
    "def get_mapping(df, col_name):\n",
    "    cat_codes = df[col_name].astype('category')\n",
    "    \n",
    "    class_mapping = {}\n",
    "    i = 0\n",
    "    for col in cat_codes.cat.categories:\n",
    "        class_mapping[col] = i\n",
    "        i += 1\n",
    "    \n",
    "    class_mapping_reverse = {}\n",
    "    for key, value in class_mapping.items():\n",
    "        class_mapping_reverse[value] = key\n",
    "\n",
    "    return class_mapping, class_mapping_reverse"
   ]
  },
  {
   "cell_type": "code",
   "execution_count": null,
   "metadata": {},
   "outputs": [],
   "source": [
    "class_mapping, class_mapping_reverse = get_mapping(train, 'topic')"
   ]
  },
  {
   "cell_type": "code",
   "execution_count": null,
   "metadata": {},
   "outputs": [],
   "source": []
  },
  {
   "cell_type": "code",
   "execution_count": null,
   "metadata": {},
   "outputs": [],
   "source": []
  },
  {
   "cell_type": "code",
   "execution_count": null,
   "metadata": {},
   "outputs": [],
   "source": []
  },
  {
   "cell_type": "code",
   "execution_count": null,
   "metadata": {},
   "outputs": [],
   "source": []
  },
  {
   "cell_type": "code",
   "execution_count": null,
   "metadata": {},
   "outputs": [],
   "source": []
  },
  {
   "cell_type": "code",
   "execution_count": null,
   "metadata": {},
   "outputs": [],
   "source": [
    "from sklearn.linear_model import RidgeClassifier\n",
    "from sklearn.linear_model import LogisticRegression\n",
    "from sklearn.linear_model import PassiveAggressiveClassifier\n",
    "\n",
    "params = {}\n",
    "params['alpha'] = 1\n",
    "passive_agg = PassiveAggressiveClassifier(C=params['alpha'], early_stopping=False, validation_fraction=0.3, n_iter_no_change=5, shuffle=True, verbose=0, n_jobs=-1, random_state=1234, loss='hinge', class_weight='balanced', average=False, n_iter=None)\n",
    "ridge_clf = RidgeClassifier(alpha=params['alpha'], fit_intercept=True, normalize=True, class_weight='balanced', random_state=1234)\n",
    "logistic_reg = LogisticRegression(penalty='l2', dual=False, C=params['alpha'], fit_intercept=True, intercept_scaling=1, class_weight='balanced', random_state=1234, max_iter=100, multi_class='warn', verbose=0, n_jobs=-1)"
   ]
  },
  {
   "cell_type": "code",
   "execution_count": null,
   "metadata": {},
   "outputs": [],
   "source": [
    "ridge_clf.fit(X_train, Y_train)\n",
    "print(ridge_clf.score(X_test, Y_test))\n",
    "print(\"==============\")\n",
    "\n",
    "passive_agg.fit(X_train, Y_train)\n",
    "print(passive_agg.score(X_test, Y_test))\n",
    "print(\"==============\")\n",
    "\n",
    "logistic_reg.fit(X_train, Y_train)\n",
    "print(logistic_reg.score(X_test, Y_test))\n",
    "print(\"==============\")\n"
   ]
  },
  {
   "cell_type": "code",
   "execution_count": null,
   "metadata": {},
   "outputs": [],
   "source": [
    "from sklearn.metrics import f1_score\n",
    "\n",
    "for alpha in [0.01, 0.1, 0.5, 1, 5, 10]:\n",
    "    logistic_reg = LogisticRegression(penalty='l2', dual=False, \n",
    "        C=alpha, fit_intercept=True, intercept_scaling=1, class_weight='balanced', \n",
    "        random_state=1234, max_iter=100, multi_class='warn', verbose=0, n_jobs=-1)\n",
    "    logistic_reg.fit(X_train, Y_train)\n",
    "    pred = logistic_reg.score(X_test, Y_test)\n",
    "    print(pred)\n",
    "#     print(f1_score(ts_y, pred, average='micro', sample_weight=None))\n",
    "#     print(logistic_reg.score(ts_x, ts_y))\n",
    "print(\"==============\")"
   ]
  },
  {
   "cell_type": "code",
   "execution_count": null,
   "metadata": {},
   "outputs": [],
   "source": []
  },
  {
   "cell_type": "code",
   "execution_count": null,
   "metadata": {
    "scrolled": true
   },
   "outputs": [],
   "source": [
    "for alpha in np.linspace(0.0001,0.1,10):\n",
    "    logistic_reg = LogisticRegression(penalty='l2', dual=False, \n",
    "        C=alpha, fit_intercept=True, intercept_scaling=1, class_weight='balanced', \n",
    "        random_state=1234, max_iter=100, multi_class='warn', verbose=0, n_jobs=-1)\n",
    "    logistic_reg.fit(X_train, Y_train)\n",
    "    pred = logistic_reg.score(X_test, Y_test)\n",
    "    print(alpha, \" : \", pred)"
   ]
  },
  {
   "cell_type": "code",
   "execution_count": null,
   "metadata": {},
   "outputs": [],
   "source": []
  },
  {
   "cell_type": "code",
   "execution_count": null,
   "metadata": {},
   "outputs": [],
   "source": []
  },
  {
   "cell_type": "code",
   "execution_count": null,
   "metadata": {},
   "outputs": [],
   "source": []
  },
  {
   "cell_type": "code",
   "execution_count": null,
   "metadata": {},
   "outputs": [],
   "source": [
    "Usage: plot_document_classification_20newsgroups.py [options]\n",
    "\n",
    "Options:\n",
    "  -h, --help            show this help message and exit\n",
    "  --report              Print a detailed classification report.\n",
    "  --chi2_select=SELECT_CHI2\n",
    "                        Select some number of features using a chi-squared\n",
    "                        test\n",
    "  --confusion_matrix    Print the confusion matrix.\n",
    "  --top10               Print ten most discriminative terms per class for\n",
    "                        every classifier.\n",
    "  --all_categories      Whether to use all categories or not.\n",
    "  --use_hashing         Use a hashing vectorizer.\n",
    "  --n_features=N_FEATURES\n",
    "                        n_features when using the hashing vectorizer.\n",
    "  --filtered            Remove newsgroup information that is easily overfit:\n",
    "                        headers, signatures, and quoting.\n",
    "\n",
    "Loading 20 newsgroups dataset for categories:\n",
    "['alt.atheism', 'talk.religion.misc', 'comp.graphics', 'sci.space']\n",
    "data loaded\n",
    "2034 documents - 3.980MB (training set)\n",
    "1353 documents - 2.867MB (test set)\n",
    "4 categories\n",
    "\n",
    "Extracting features from the training data using a sparse vectorizer\n",
    "done in 0.412178s at 9.655MB/s\n",
    "n_samples: 2034, n_features: 33809\n",
    "\n",
    "Extracting features from the test data using the same vectorizer\n",
    "done in 0.351330s at 8.162MB/s\n",
    "n_samples: 1353, n_features: 33809\n",
    "\n",
    "================================================================================\n",
    "Ridge Classifier\n",
    "________________________________________________________________________________\n",
    "Training:\n",
    "RidgeClassifier(solver='sag', tol=0.01)\n",
    "train time: 0.132s\n",
    "test time:  0.001s\n",
    "accuracy:   0.896\n",
    "dimensionality: 33809\n",
    "density: 1.000000\n",
    "\n",
    "\n",
    "================================================================================\n",
    "Perceptron\n",
    "________________________________________________________________________________\n",
    "Training:\n",
    "Perceptron(max_iter=50)\n",
    "train time: 0.017s\n",
    "test time:  0.002s\n",
    "accuracy:   0.888\n",
    "dimensionality: 33809\n",
    "density: 0.255302\n",
    "\n",
    "\n",
    "================================================================================\n",
    "Passive-Aggressive\n",
    "________________________________________________________________________________\n",
    "Training:\n",
    "PassiveAggressiveClassifier(max_iter=50)\n",
    "train time: 0.031s\n",
    "test time:  0.002s\n",
    "accuracy:   0.904\n",
    "dimensionality: 33809\n",
    "density: 0.694674\n",
    "\n",
    "\n",
    "================================================================================\n",
    "kNN\n",
    "________________________________________________________________________________\n",
    "Training:\n",
    "KNeighborsClassifier(n_neighbors=10)\n",
    "train time: 0.002s\n",
    "test time:  0.317s\n",
    "accuracy:   0.858\n",
    "\n",
    "================================================================================\n",
    "Random forest\n",
    "________________________________________________________________________________\n",
    "Training:\n",
    "RandomForestClassifier(n_estimators=100)\n",
    "train time: 1.671s\n",
    "test time:  0.071s\n",
    "accuracy:   0.840\n",
    "\n",
    "================================================================================\n",
    "L2 penalty\n",
    "________________________________________________________________________________\n",
    "Training:\n",
    "LinearSVC(dual=False, tol=0.001)\n",
    "train time: 0.145s\n",
    "test time:  0.002s\n",
    "accuracy:   0.900\n",
    "dimensionality: 33809\n",
    "density: 1.000000\n",
    "\n",
    "\n",
    "________________________________________________________________________________\n",
    "Training:\n",
    "SGDClassifier(max_iter=50)\n",
    "train time: 0.030s\n",
    "test time:  0.002s\n",
    "accuracy:   0.902\n",
    "dimensionality: 33809\n",
    "density: 0.579380\n",
    "\n",
    "\n",
    "================================================================================\n",
    "L1 penalty\n",
    "________________________________________________________________________________\n",
    "Training:\n",
    "LinearSVC(dual=False, penalty='l1', tol=0.001)\n",
    "train time: 0.301s\n",
    "test time:  0.002s\n",
    "accuracy:   0.873\n",
    "dimensionality: 33809\n",
    "density: 0.005553\n",
    "\n",
    "\n",
    "________________________________________________________________________________\n",
    "Training:\n",
    "SGDClassifier(max_iter=50, penalty='l1')\n",
    "train time: 0.093s\n",
    "test time:  0.002s\n",
    "accuracy:   0.887\n",
    "dimensionality: 33809\n",
    "density: 0.022901\n",
    "\n",
    "\n",
    "================================================================================\n",
    "Elastic-Net penalty\n",
    "________________________________________________________________________________\n",
    "Training:\n",
    "SGDClassifier(max_iter=50, penalty='elasticnet')\n",
    "train time: 0.252s\n",
    "test time:  0.002s\n",
    "accuracy:   0.899\n",
    "dimensionality: 33809\n",
    "density: 0.187472\n",
    "\n",
    "\n",
    "================================================================================\n",
    "NearestCentroid (aka Rocchio classifier)\n",
    "________________________________________________________________________________\n",
    "Training:\n",
    "NearestCentroid()\n",
    "train time: 0.004s\n",
    "test time:  0.002s\n",
    "accuracy:   0.855\n",
    "\n",
    "================================================================================\n",
    "Naive Bayes\n",
    "________________________________________________________________________________\n",
    "Training:\n",
    "MultinomialNB(alpha=0.01)\n",
    "train time: 0.003s\n",
    "test time:  0.001s\n",
    "accuracy:   0.899\n",
    "dimensionality: 33809\n",
    "density: 1.000000\n",
    "\n",
    "\n",
    "________________________________________________________________________________\n",
    "Training:\n",
    "BernoulliNB(alpha=0.01)\n",
    "train time: 0.004s\n",
    "test time:  0.003s\n",
    "accuracy:   0.884\n",
    "dimensionality: 33809\n",
    "density: 1.000000\n",
    "\n",
    "\n",
    "________________________________________________________________________________\n",
    "Training:\n",
    "ComplementNB(alpha=0.1)\n",
    "train time: 0.004s\n",
    "test time:  0.001s\n",
    "accuracy:   0.911\n",
    "dimensionality: 33809\n",
    "density: 1.000000\n",
    "\n",
    "\n",
    "================================================================================\n",
    "LinearSVC with L1-based feature selection\n",
    "________________________________________________________________________________\n",
    "Training:\n",
    "Pipeline(steps=[('feature_selection',\n",
    "                 SelectFromModel(estimator=LinearSVC(dual=False, penalty='l1',\n",
    "                                                     tol=0.001))),\n",
    "                ('classification', LinearSVC())])\n",
    "train time: 0.252s\n",
    "test time:  0.002s\n",
    "accuracy:   0.880"
   ]
  },
  {
   "cell_type": "code",
   "execution_count": null,
   "metadata": {},
   "outputs": [],
   "source": [
    "# tf_train[i] # feature count vector for training case i\n",
    "# y_train[i] # label for training case i\n",
    "\n",
    "# The count vectors are defined as:\n",
    "\n",
    "# p = sum of all feature count vectors with label 1\n",
    "\n",
    "# p = tf_train[y_train==1].sum(0) + 1\n",
    "\n",
    "# q = sum of all feature count vectors with label 0\n",
    "\n",
    "# q = tf_train[y_train==0].sum(0) + 1\n",
    "\n",
    "# Notice that we add 1 to both count vectors to ensure that every token appear at least one time in each class.\n",
    "\n",
    "# The log-count ratio r is:\n",
    "\n",
    "# r = np.log((p/p.sum()) / (q/q.sum()))\n",
    "\n",
    "# And b:\n",
    "\n",
    "# b = np.log(len(p) / len(q))\n",
    "\n",
    "# Just the ratio of number of positive and negative training cases."
   ]
  },
  {
   "cell_type": "code",
   "execution_count": null,
   "metadata": {},
   "outputs": [],
   "source": [
    "pre_preds = tf_test @ r.T + b\n",
    "preds = pre_preds.T > 0\n",
    "accuracy = (preds == y_test).mean()"
   ]
  },
  {
   "cell_type": "code",
   "execution_count": null,
   "metadata": {},
   "outputs": [],
   "source": [
    "out_tfidf1[0][train['target'] == 5].sum(0)"
   ]
  },
  {
   "cell_type": "code",
   "execution_count": null,
   "metadata": {},
   "outputs": [],
   "source": [
    "out_tfidf1[0][train['target'] == 4].sum(0)"
   ]
  },
  {
   "cell_type": "code",
   "execution_count": null,
   "metadata": {},
   "outputs": [],
   "source": [
    "np.sum(np.equal(out_tfidf1[0][train['target'] == 5].sum(0), \n",
    "                out_tfidf1[0][train['target'] == 3].sum(0)))"
   ]
  },
  {
   "cell_type": "code",
   "execution_count": null,
   "metadata": {},
   "outputs": [],
   "source": [
    "out_tfidf1[0][train['target'] == 5].shape"
   ]
  },
  {
   "cell_type": "code",
   "execution_count": null,
   "metadata": {},
   "outputs": [],
   "source": [
    "out_tfidf1[0][train['target'] == 2].shape"
   ]
  },
  {
   "cell_type": "code",
   "execution_count": null,
   "metadata": {},
   "outputs": [],
   "source": [
    "idx = train[train['target'] == 2].index"
   ]
  },
  {
   "cell_type": "code",
   "execution_count": null,
   "metadata": {},
   "outputs": [],
   "source": [
    "out_tfidf1[0][idx].sum(0)"
   ]
  },
  {
   "cell_type": "code",
   "execution_count": null,
   "metadata": {},
   "outputs": [],
   "source": []
  },
  {
   "cell_type": "code",
   "execution_count": null,
   "metadata": {},
   "outputs": [],
   "source": [
    "import spacy\n",
    "nlp = spacy.load('en', disable=['parser', 'ner'])\n",
    "\n",
    "def lemmatization(texts):\n",
    "    output = []\n",
    "    for i in texts:\n",
    "        s = [token.lemma_ for token in nlp(i)]\n",
    "        output.append(' '.join(s))\n",
    "    return output\n",
    "\n",
    "# train['text1'] = train['text'].progress_apply(lemmatization)\n",
    "# test['text1']  = test['text'].progress_apply(lemmatization)\n"
   ]
  },
  {
   "cell_type": "code",
   "execution_count": null,
   "metadata": {},
   "outputs": [],
   "source": [
    "df = train.append(test, ignore_index=True)\n",
    "df['text1'] = df['text'].apply(lemmatization)"
   ]
  },
  {
   "cell_type": "code",
   "execution_count": null,
   "metadata": {},
   "outputs": [],
   "source": [
    "df[:5]['text'].apply(lemmatization)"
   ]
  },
  {
   "cell_type": "code",
   "execution_count": null,
   "metadata": {},
   "outputs": [],
   "source": [
    "df1"
   ]
  },
  {
   "cell_type": "code",
   "execution_count": null,
   "metadata": {},
   "outputs": [],
   "source": [
    "import nltk\n",
    "\n",
    "w_tokenizer = nltk.tokenize.WhitespaceTokenizer()\n",
    "lemmatizer = nltk.stem.WordNetLemmatizer()\n",
    "\n",
    "def lemmatize_text(text):\n",
    "    return [lemmatizer.lemmatize(w) for w in w_tokenizer.tokenize(text)]\n",
    "\n"
   ]
  },
  {
   "cell_type": "code",
   "execution_count": null,
   "metadata": {},
   "outputs": [],
   "source": []
  },
  {
   "cell_type": "code",
   "execution_count": null,
   "metadata": {},
   "outputs": [],
   "source": [
    "df1['text'].apply(lemmatize_text)"
   ]
  },
  {
   "cell_type": "code",
   "execution_count": null,
   "metadata": {},
   "outputs": [],
   "source": [
    "import spacy\n",
    "nlp = spacy.load('en', disable=['parser', 'ner'])\n",
    "\n",
    "def lemmatization(text):\n",
    "    return []\n",
    "    for i in texts:\n",
    "        s = [token.lemma_ for token in nlp(i)]\n",
    "        output.append(' '.join(s))\n",
    "    return output\n"
   ]
  },
  {
   "cell_type": "code",
   "execution_count": null,
   "metadata": {},
   "outputs": [],
   "source": [
    "w_tokenizer = nltk.tokenize.WhitespaceTokenizer()\n",
    "lemmatizer = nltk.stem.WordNetLemmatizer()\n",
    "\n",
    "def lemmatize_text(text):\n",
    "    return [lemmatizer.lemmatize(w) for w in w_tokenizer.tokenize(text)]\n"
   ]
  },
  {
   "cell_type": "code",
   "execution_count": null,
   "metadata": {},
   "outputs": [],
   "source": [
    "# word_tokenize(df1['text'][4])"
   ]
  },
  {
   "cell_type": "code",
   "execution_count": null,
   "metadata": {},
   "outputs": [],
   "source": []
  },
  {
   "cell_type": "code",
   "execution_count": null,
   "metadata": {},
   "outputs": [],
   "source": [
    "from nltk.tokenize import sent_tokenize, word_tokenize\n",
    "from nltk.stem import PorterStemmer\n",
    "\n",
    "porter=PorterStemmer()\n",
    "\n",
    "def stemSentence(sentence):\n",
    "    token_words=word_tokenize(sentence)\n",
    "    token_words\n",
    "    stem_sentence=[]\n",
    "    for word in token_words:\n",
    "        stem_sentence.append(porter.stem(word))\n",
    "        stem_sentence.append(\" \")\n",
    "    return \"\".join(stem_sentence)"
   ]
  },
  {
   "cell_type": "code",
   "execution_count": null,
   "metadata": {},
   "outputs": [],
   "source": [
    "from nltk.tokenize import sent_tokenize, word_tokenize\n",
    "from nltk.stem import PorterStemmer\n",
    "\n",
    "porter=PorterStemmer()\n",
    "porter.stem('helping')"
   ]
  },
  {
   "cell_type": "code",
   "execution_count": null,
   "metadata": {},
   "outputs": [],
   "source": [
    "for word in df1['text'][1].split(\" \"):\n",
    "    print(porter.stem(word))"
   ]
  },
  {
   "cell_type": "code",
   "execution_count": null,
   "metadata": {},
   "outputs": [],
   "source": [
    "import gc\n",
    "del df1, df\n",
    "gc.collect()"
   ]
  },
  {
   "cell_type": "code",
   "execution_count": null,
   "metadata": {},
   "outputs": [],
   "source": [
    "df = train.append(test, ignore_index=True)\n",
    "df.shape"
   ]
  },
  {
   "cell_type": "code",
   "execution_count": null,
   "metadata": {},
   "outputs": [],
   "source": [
    "from sklearn.feature_extraction.text import CountVectorizer\n",
    "from sklearn.decomposition import LatentDirichletAllocation\n",
    "\n",
    "cv = CountVectorizer(max_df=0.95,min_df=2,stop_words='english')\n",
    "term_matrix = cv.fit_transform(df['text'])\n",
    "# print(term_matrix)"
   ]
  },
  {
   "cell_type": "code",
   "execution_count": null,
   "metadata": {},
   "outputs": [],
   "source": [
    "lda = LatentDirichletAllocation(n_components=5, n_jobs=4)\n",
    "lda.fit(term_matrix)\n"
   ]
  },
  {
   "cell_type": "code",
   "execution_count": null,
   "metadata": {},
   "outputs": [],
   "source": [
    "gc.collect()"
   ]
  },
  {
   "cell_type": "code",
   "execution_count": null,
   "metadata": {},
   "outputs": [],
   "source": [
    "lda.components_[0]"
   ]
  },
  {
   "cell_type": "code",
   "execution_count": null,
   "metadata": {},
   "outputs": [],
   "source": [
    "topic = lda.components_[0]\n",
    "top_words_indices = topic.argsort()[-10:]\n",
    "for index in top_words_indices:\n",
    "    print(cv.get_feature_names()[index])"
   ]
  },
  {
   "cell_type": "code",
   "execution_count": null,
   "metadata": {},
   "outputs": [],
   "source": [
    "topic_word_dict = {}\n",
    "for index,topic in enumerate(lda.components_):\n",
    "    words = [cv.get_feature_names()[i] for i in topic.argsort()[-10:]]\n",
    "    topic_word_dict[index] = words\n",
    "    print('Top words for topic {}'.format(index))\n",
    "    print(words)\n",
    "    print('-'*120)\n"
   ]
  },
  {
   "cell_type": "code",
   "execution_count": null,
   "metadata": {},
   "outputs": [],
   "source": []
  },
  {
   "cell_type": "code",
   "execution_count": null,
   "metadata": {},
   "outputs": [],
   "source": []
  },
  {
   "cell_type": "code",
   "execution_count": null,
   "metadata": {},
   "outputs": [],
   "source": [
    "\n",
    "topics = lda.transform(term_matrix)\n",
    "data['topic'] = topics.argmax(axis=1)\n",
    "\n",
    "\n",
    "def assign_topics(row):\n",
    "    topic = row['topic']\n",
    "    words = topic_word_dict[topic]\n",
    "\n",
    "    return words\n",
    "\n",
    "\n",
    "data['topic words'] = data.apply(assign_topics,axis=1)\n",
    "print(data.head())\n",
    "\n"
   ]
  }
 ],
 "metadata": {
  "kernelspec": {
   "display_name": "Python 3",
   "language": "python",
   "name": "python3"
  },
  "language_info": {
   "codemirror_mode": {
    "name": "ipython",
    "version": 3
   },
   "file_extension": ".py",
   "mimetype": "text/x-python",
   "name": "python",
   "nbconvert_exporter": "python",
   "pygments_lexer": "ipython3",
   "version": "3.6.8"
  }
 },
 "nbformat": 4,
 "nbformat_minor": 2
}
