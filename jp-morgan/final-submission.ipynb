{
 "cells": [
  {
   "cell_type": "code",
   "execution_count": 1,
   "metadata": {},
   "outputs": [
    {
     "data": {
      "text/html": [
       "<style>.container { width:100% !important; }</style>"
      ],
      "text/plain": [
       "<IPython.core.display.HTML object>"
      ]
     },
     "metadata": {},
     "output_type": "display_data"
    },
    {
     "data": {
      "text/plain": [
       "['housing_train.csv', 'housing_test.csv']"
      ]
     },
     "execution_count": 1,
     "metadata": {},
     "output_type": "execute_result"
    }
   ],
   "source": [
    "import numpy as np\n",
    "import pandas as pd\n",
    "import matplotlib.pyplot as plt\n",
    "%matplotlib inline\n",
    "\n",
    "import warnings\n",
    "warnings.filterwarnings(\"ignore\")\n",
    "\n",
    "import random\n",
    "import os, gc\n",
    "import seaborn as sns\n",
    "\n",
    "pd.set_option('display.max_rows', 200)\n",
    "pd.set_option('display.max_columns', 200)\n",
    "\n",
    "from IPython.core.display import display, HTML\n",
    "display(HTML(\"<style>.container { width:100% !important; }</style>\"))\n",
    "\n",
    "sns.set(context='notebook', style='whitegrid', palette='deep', \n",
    "        font='sans-serif', font_scale=2, color_codes=True, rc=None)\n",
    "\n",
    "os.listdir('DataSet/')"
   ]
  },
  {
   "cell_type": "code",
   "execution_count": 2,
   "metadata": {},
   "outputs": [
    {
     "data": {
      "text/plain": [
       "((1219110, 15), (2066, 14))"
      ]
     },
     "execution_count": 2,
     "metadata": {},
     "output_type": "execute_result"
    }
   ],
   "source": [
    "train = pd.read_csv('DataSet/housing_train.csv')\n",
    "test  = pd.read_csv('DataSet/housing_test.csv')\n",
    "train.shape, test.shape"
   ]
  },
  {
   "cell_type": "code",
   "execution_count": 27,
   "metadata": {},
   "outputs": [
    {
     "name": "stdout",
     "output_type": "stream",
     "text": [
      "<class 'pandas.core.frame.DataFrame'>\n",
      "RangeIndex: 1219110 entries, 0 to 1219109\n",
      "Data columns (total 14 columns):\n",
      "TID               1219110 non-null int64\n",
      "Date              1219110 non-null object\n",
      "Property Type     1219110 non-null object\n",
      "OldvNew           1219110 non-null object\n",
      "Duration          1219110 non-null object\n",
      "AddressLine1      1219110 non-null object\n",
      "AddressLine2      164610 non-null object\n",
      "Street            1196498 non-null object\n",
      "Locality          458215 non-null object\n",
      "Town              1219110 non-null object\n",
      "District          1219110 non-null object\n",
      "Postcode          1213332 non-null object\n",
      "Price             1219110 non-null float64\n",
      "Price Category    1219110 non-null object\n",
      "dtypes: float64(1), int64(1), object(12)\n",
      "memory usage: 130.2+ MB\n"
     ]
    }
   ],
   "source": [
    "train.info()"
   ]
  },
  {
   "cell_type": "code",
   "execution_count": 3,
   "metadata": {},
   "outputs": [
    {
     "data": {
      "text/html": [
       "<div>\n",
       "<style scoped>\n",
       "    .dataframe tbody tr th:only-of-type {\n",
       "        vertical-align: middle;\n",
       "    }\n",
       "\n",
       "    .dataframe tbody tr th {\n",
       "        vertical-align: top;\n",
       "    }\n",
       "\n",
       "    .dataframe thead th {\n",
       "        text-align: right;\n",
       "    }\n",
       "</style>\n",
       "<table border=\"1\" class=\"dataframe\">\n",
       "  <thead>\n",
       "    <tr style=\"text-align: right;\">\n",
       "      <th></th>\n",
       "      <th>TID</th>\n",
       "      <th>Date</th>\n",
       "      <th>Property Type</th>\n",
       "      <th>OldvNew</th>\n",
       "      <th>Duration</th>\n",
       "      <th>AddressLine1</th>\n",
       "      <th>AddressLine2</th>\n",
       "      <th>Street</th>\n",
       "      <th>Locality</th>\n",
       "      <th>Town</th>\n",
       "      <th>Taluka</th>\n",
       "      <th>District</th>\n",
       "      <th>Postcode</th>\n",
       "      <th>Price</th>\n",
       "      <th>Price Category</th>\n",
       "    </tr>\n",
       "  </thead>\n",
       "  <tbody>\n",
       "    <tr>\n",
       "      <th>0</th>\n",
       "      <td>1000</td>\n",
       "      <td>2018-01-01</td>\n",
       "      <td>F</td>\n",
       "      <td>N</td>\n",
       "      <td>L</td>\n",
       "      <td>9</td>\n",
       "      <td>NaN</td>\n",
       "      <td>XOUGBXCBUKB NBZX</td>\n",
       "      <td>NaN</td>\n",
       "      <td>ERLSYEL</td>\n",
       "      <td>ERLSYEL</td>\n",
       "      <td>ERLSYELXORKB</td>\n",
       "      <td>EL4 2BO</td>\n",
       "      <td>80.0</td>\n",
       "      <td>B</td>\n",
       "    </tr>\n",
       "    <tr>\n",
       "      <th>1</th>\n",
       "      <td>1001</td>\n",
       "      <td>2018-01-01</td>\n",
       "      <td>T</td>\n",
       "      <td>Y</td>\n",
       "      <td>F</td>\n",
       "      <td>02</td>\n",
       "      <td>NaN</td>\n",
       "      <td>OYYG ZUQ</td>\n",
       "      <td>NaN</td>\n",
       "      <td>NURFXMYLB</td>\n",
       "      <td>NURFXMYLB</td>\n",
       "      <td>GBLM</td>\n",
       "      <td>NB09 6VZ</td>\n",
       "      <td>218.5</td>\n",
       "      <td>A</td>\n",
       "    </tr>\n",
       "    <tr>\n",
       "      <th>2</th>\n",
       "      <td>1002</td>\n",
       "      <td>2018-01-01</td>\n",
       "      <td>D</td>\n",
       "      <td>N</td>\n",
       "      <td>F</td>\n",
       "      <td>32</td>\n",
       "      <td>NaN</td>\n",
       "      <td>XYNBKX CUKG UPBLWB</td>\n",
       "      <td>NaN</td>\n",
       "      <td>NUEPBKL</td>\n",
       "      <td>NUEPBKL OREEX</td>\n",
       "      <td>ZYKSBXMBKXORKB</td>\n",
       "      <td>ZK01 0XF</td>\n",
       "      <td>250.0</td>\n",
       "      <td>A</td>\n",
       "    </tr>\n",
       "    <tr>\n",
       "      <th>3</th>\n",
       "      <td>1003</td>\n",
       "      <td>2018-01-01</td>\n",
       "      <td>O</td>\n",
       "      <td>N</td>\n",
       "      <td>F</td>\n",
       "      <td>0</td>\n",
       "      <td>NaN</td>\n",
       "      <td>OUMOUZUQ SEYXB</td>\n",
       "      <td>NaN</td>\n",
       "      <td>EBRSBXMBK</td>\n",
       "      <td>EBRSBXMBK</td>\n",
       "      <td>EBRSBXMBK</td>\n",
       "      <td>EB1 3HI</td>\n",
       "      <td>6050.0</td>\n",
       "      <td>B</td>\n",
       "    </tr>\n",
       "    <tr>\n",
       "      <th>4</th>\n",
       "      <td>1004</td>\n",
       "      <td>2018-01-01</td>\n",
       "      <td>T</td>\n",
       "      <td>N</td>\n",
       "      <td>F</td>\n",
       "      <td>14</td>\n",
       "      <td>NaN</td>\n",
       "      <td>MBNBKURKB KYUF</td>\n",
       "      <td>NaN</td>\n",
       "      <td>CEQNYWMO</td>\n",
       "      <td>SRMQ YV CEQNYWMO</td>\n",
       "      <td>SRMQ YV CEQNYWMO</td>\n",
       "      <td>CE4 6WU</td>\n",
       "      <td>182.0</td>\n",
       "      <td>A</td>\n",
       "    </tr>\n",
       "  </tbody>\n",
       "</table>\n",
       "</div>"
      ],
      "text/plain": [
       "    TID        Date Property Type OldvNew Duration AddressLine1 AddressLine2  \\\n",
       "0  1000  2018-01-01             F       N        L            9          NaN   \n",
       "1  1001  2018-01-01             T       Y        F           02          NaN   \n",
       "2  1002  2018-01-01             D       N        F           32          NaN   \n",
       "3  1003  2018-01-01             O       N        F            0          NaN   \n",
       "4  1004  2018-01-01             T       N        F           14          NaN   \n",
       "\n",
       "               Street Locality       Town            Taluka          District  \\\n",
       "0    XOUGBXCBUKB NBZX      NaN    ERLSYEL           ERLSYEL      ERLSYELXORKB   \n",
       "1            OYYG ZUQ      NaN  NURFXMYLB         NURFXMYLB              GBLM   \n",
       "2  XYNBKX CUKG UPBLWB      NaN    NUEPBKL     NUEPBKL OREEX    ZYKSBXMBKXORKB   \n",
       "3      OUMOUZUQ SEYXB      NaN  EBRSBXMBK         EBRSBXMBK         EBRSBXMBK   \n",
       "4      MBNBKURKB KYUF      NaN   CEQNYWMO  SRMQ YV CEQNYWMO  SRMQ YV CEQNYWMO   \n",
       "\n",
       "   Postcode   Price Price Category  \n",
       "0   EL4 2BO    80.0              B  \n",
       "1  NB09 6VZ   218.5              A  \n",
       "2  ZK01 0XF   250.0              A  \n",
       "3   EB1 3HI  6050.0              B  \n",
       "4   CE4 6WU   182.0              A  "
      ]
     },
     "execution_count": 3,
     "metadata": {},
     "output_type": "execute_result"
    }
   ],
   "source": [
    "train.head()"
   ]
  },
  {
   "cell_type": "code",
   "execution_count": null,
   "metadata": {},
   "outputs": [],
   "source": []
  },
  {
   "cell_type": "code",
   "execution_count": 17,
   "metadata": {},
   "outputs": [],
   "source": [
    "train.drop('Taluka', axis=1, inplace=True)\n",
    "test.drop('Taluka', axis=1, inplace=True)\n",
    "\n",
    "train.fillna(\"unknown\", inplace=True)\n",
    "test.fillna(\"unknown\", inplace=True)\n"
   ]
  },
  {
   "cell_type": "code",
   "execution_count": null,
   "metadata": {},
   "outputs": [],
   "source": []
  },
  {
   "cell_type": "code",
   "execution_count": 35,
   "metadata": {},
   "outputs": [],
   "source": [
    "train['Street1'] = train['Street'].apply(lambda x: \"unknown\" if len(x.split(\" \")) < 1 else x.split(\" \")[0])\n",
    "train['Street2'] = train['Street'].apply(lambda x: \"unknown\" if len(x.split(\" \")) < 2 else x.split(\" \")[1])\n",
    "train['Street3'] = train['Street'].apply(lambda x: \"unknown\" if len(x.split(\" \")) < 3 else x.split(\" \")[2])\n",
    "\n",
    "test['Street1'] = test['Street'].apply(lambda x: \"unknown\" if len(x.split(\" \")) < 1 else x.split(\" \")[0])\n",
    "test['Street2'] = test['Street'].apply(lambda x: \"unknown\" if len(x.split(\" \")) < 2 else x.split(\" \")[1])\n",
    "test['Street3'] = test['Street'].apply(lambda x: \"unknown\" if len(x.split(\" \")) < 3 else x.split(\" \")[2])\n",
    "\n"
   ]
  },
  {
   "cell_type": "code",
   "execution_count": 52,
   "metadata": {},
   "outputs": [],
   "source": [
    "# test1['date']   = test1.Date.dt.date\n",
    "# test['date']   = test.Date.dt.date\n"
   ]
  },
  {
   "cell_type": "code",
   "execution_count": 32,
   "metadata": {},
   "outputs": [
    {
     "data": {
      "text/plain": [
       "((1219110, 22), (2066, 20))"
      ]
     },
     "execution_count": 32,
     "metadata": {},
     "output_type": "execute_result"
    }
   ],
   "source": [
    "train['Date'] = pd.to_datetime(train.Date)\n",
    "test['Date']  = pd.to_datetime(test.Date)\n",
    "\n",
    "train['date']   = train.Date.dt.date\n",
    "train['month']   = train.Date.dt.month\n",
    "train['week']    = train.Date.dt.week\n",
    "train['day']     = train.Date.dt.day\n",
    "train['weekday'] = train.Date.dt.weekday\n",
    "train['quarter'] = train.Date.dt.quarter\n",
    "\n",
    "test['date']   = test.Date.dt.date\n",
    "test['month']   = test.Date.dt.month\n",
    "test['week']    = test.Date.dt.week\n",
    "test['day']     = test.Date.dt.day\n",
    "test['weekday'] = test.Date.dt.weekday\n",
    "test['quarter'] = test.Date.dt.quarter\n",
    "\n",
    "train.drop('Date', axis=1, inplace=True)\n",
    "test.drop('Date', axis=1, inplace=True)\n",
    "\n",
    "train.shape, test.shape"
   ]
  },
  {
   "cell_type": "code",
   "execution_count": 36,
   "metadata": {},
   "outputs": [
    {
     "data": {
      "text/plain": [
       "TID               1219110\n",
       "Property Type           5\n",
       "OldvNew                 2\n",
       "Duration                2\n",
       "AddressLine1        96121\n",
       "AddressLine2        12667\n",
       "Street             192844\n",
       "Locality            17226\n",
       "Town                 1147\n",
       "District              113\n",
       "Postcode           598400\n",
       "Price               35511\n",
       "Price Category          2\n",
       "Street1             62104\n",
       "Street2              8140\n",
       "Street3              1266\n",
       "date                  455\n",
       "month                  12\n",
       "week                   52\n",
       "day                    31\n",
       "weekday                 7\n",
       "quarter                 4\n",
       "dtype: int64"
      ]
     },
     "execution_count": 36,
     "metadata": {},
     "output_type": "execute_result"
    }
   ],
   "source": [
    "train.apply(lambda x: pd.Series.value_counts(x).shape[0])"
   ]
  },
  {
   "cell_type": "code",
   "execution_count": 43,
   "metadata": {},
   "outputs": [
    {
     "data": {
      "text/plain": [
       "TID               2066\n",
       "Property Type        5\n",
       "OldvNew              2\n",
       "Duration             2\n",
       "AddressLine1      1520\n",
       "AddressLine2       447\n",
       "Street            1257\n",
       "Locality          1066\n",
       "Town               420\n",
       "District           104\n",
       "Postcode          1680\n",
       "Price Category       2\n",
       "Street1           1023\n",
       "Street2            178\n",
       "Street3             39\n",
       "month                3\n",
       "week                13\n",
       "day                 30\n",
       "weekday              7\n",
       "quarter              1\n",
       "dtype: int64"
      ]
     },
     "execution_count": 43,
     "metadata": {},
     "output_type": "execute_result"
    }
   ],
   "source": [
    "test.apply(lambda x: pd.Series.value_counts(x).shape[0])"
   ]
  },
  {
   "cell_type": "code",
   "execution_count": 47,
   "metadata": {},
   "outputs": [
    {
     "name": "stdout",
     "output_type": "stream",
     "text": [
      "(1219110, 35) (2066, 32)\n"
     ]
    }
   ],
   "source": [
    "train['LogPrice'] = np.log(train['Price'])\n",
    "\n",
    "train['feat1'] = train['District']+train['Postcode']\n",
    "train['feat2'] = train['District']+train['Town']\n",
    "train['feat3'] = train['Town']+train['Locality']\n",
    "train['feat4'] = train['Street1']+train['Locality']\n",
    "train['feat5'] = train['Street2']+train['Locality']\n",
    "train['feat6'] = train['AddressLine1']+train['Street1']+train['Street2']+train['Locality']\n",
    "train['feat7'] = train['Street1']+train['Locality']+train['Town']\n",
    "train['feat8'] = train['Street2']+train['Locality']+train['Town']\n",
    "train['feat9'] = train['Street1']+train['Street2']+train['Locality']+train['Town']\n",
    "train['feat10'] = train['District']+train['Town']+train['Locality']\n",
    "train['feat11'] = train['Street1']+train['Street2']+train['Locality']+train['Town']+train['District']+train['Postcode']\n",
    "train['feat12'] = train['AddressLine1']+train['Street2']+train['Locality']+train['Town']\n",
    "\n",
    "\n",
    "test['feat1'] = test['District']+test['Postcode']\n",
    "test['feat2'] = test['District']+test['Town']\n",
    "test['feat3'] = test['Town']+test['Locality']\n",
    "test['feat4'] = test['Street1']+test['Locality']\n",
    "test['feat5'] = test['Street2']+test['Locality']\n",
    "test['feat5'] = test['Street2']+test['Locality']\n",
    "test['feat6'] = test['AddressLine1']+test['Street1']+test['Street2']+test['Locality']\n",
    "test['feat7'] = test['Street1']+test['Locality']+test['Town']\n",
    "test['feat8'] = test['Street2']+test['Locality']+test['Town']\n",
    "test['feat9'] = test['Street1']+test['Street2']+test['Locality']+test['Town']\n",
    "test['feat10'] = test['District']+test['Town']+test['Locality']\n",
    "test['feat11'] = test['Street1']+test['Street2']+test['Locality']+test['Town']+test['District']+test['Postcode']\n",
    "test['feat12'] = test['AddressLine1']+test['Street2']+test['Locality']+test['Town']\n",
    "\n",
    "\n",
    "print(train.shape, test.shape)"
   ]
  },
  {
   "cell_type": "code",
   "execution_count": 48,
   "metadata": {},
   "outputs": [
    {
     "name": "stdout",
     "output_type": "stream",
     "text": [
      "(1219110, 39) (2066, 36)\n"
     ]
    }
   ],
   "source": [
    "train1 = train.copy()\n",
    "train1 = pd.get_dummies(train1, columns=['OldvNew', 'Duration', 'Price Category'], drop_first=True)\n",
    "train1 = pd.get_dummies(train1, columns=['Property Type'])\n",
    "\n",
    "test1 = test.copy()\n",
    "test1 = pd.get_dummies(test1, columns=['OldvNew', 'Duration', 'Price Category'], drop_first=True)\n",
    "test1 = pd.get_dummies(test1, columns=['Property Type'])\n",
    "print(train1.shape, test1.shape)\n"
   ]
  },
  {
   "cell_type": "code",
   "execution_count": 50,
   "metadata": {},
   "outputs": [
    {
     "data": {
      "text/plain": [
       "{'LogPrice', 'Price', 'date'}"
      ]
     },
     "execution_count": 50,
     "metadata": {},
     "output_type": "execute_result"
    }
   ],
   "source": [
    "set(train1.columns) - set(train1.columns).intersection(test1.columns)"
   ]
  },
  {
   "cell_type": "code",
   "execution_count": 53,
   "metadata": {},
   "outputs": [],
   "source": [
    "train1.drop('date', axis=1, inplace=True)\n",
    "train.drop('date', axis=1, inplace=True)"
   ]
  },
  {
   "cell_type": "code",
   "execution_count": null,
   "metadata": {},
   "outputs": [],
   "source": []
  },
  {
   "cell_type": "code",
   "execution_count": null,
   "metadata": {},
   "outputs": [],
   "source": []
  },
  {
   "cell_type": "code",
   "execution_count": 22,
   "metadata": {},
   "outputs": [
    {
     "data": {
      "text/plain": [
       "<matplotlib.axes._subplots.AxesSubplot at 0x7ff327e656d8>"
      ]
     },
     "execution_count": 22,
     "metadata": {},
     "output_type": "execute_result"
    },
    {
     "data": {
      "image/png": "[encoded data removed]",
      "text/plain": [
       "<Figure size 1440x432 with 3 Axes>"
      ]
     },
     "metadata": {
      "needs_background": "light"
     },
     "output_type": "display_data"
    }
   ],
   "source": [
    "fig, ax = plt.subplots(1,3,figsize=(20,6))\n",
    "ax[0].plot(range(train.shape[0]), train.Price, 'o')\n",
    "sns.distplot(train['Price'], ax=ax[1])\n",
    "sns.distplot(np.log(train['Price']), ax=ax[2])"
   ]
  },
  {
   "cell_type": "code",
   "execution_count": null,
   "metadata": {},
   "outputs": [],
   "source": [
    "def plot_distribution(df, cols=None, plot_type='count'):\n",
    "    \"\"\"\n",
    "    plot_type : ['dist','kde', 'count']\n",
    "    Note: kdeplots are heavy, as comparison to distplot\n",
    "    example:\n",
    "        plot_distribution(cols)\n",
    "    \"\"\"\n",
    "    i = 0\n",
    "\n",
    "    sns.set_style('whitegrid')\n",
    "    plt.figure()\n",
    "    fig, ax = plt.subplots(2,5,figsize=(22,8))\n",
    "\n",
    "    if cols is None:\n",
    "        feature = df.columns[:10]\n",
    "    for feature in cols:\n",
    "        i += 1\n",
    "        plt.subplot(2,5,i)\n",
    "        if plot_type == 'dist':\n",
    "            sns.distplot(df[feature].dropna())\n",
    "            plt.ylabel('Density plot', fontsize=12)\n",
    "        elif plot_type == 'kde':\n",
    "            sns.kdeplot(df[feature], bw=0.5)\n",
    "            plt.ylabel('Density plot', fontsize=12)\n",
    "        elif plot_type == 'count':\n",
    "            sns.countplot(df[feature])\n",
    "            plt.ylabel('Count plot', fontsize=12)\n",
    "        else:\n",
    "            print(\"plot_type should be from ['dist','kde', 'count']\")\n",
    "            break\n",
    "        plt.xlabel(feature, fontsize=12)\n",
    "        locs, labels = plt.xticks()\n",
    "        plt.tick_params(axis='both', which='major', labelsize=12)\n",
    "    plt.show()"
   ]
  },
  {
   "cell_type": "code",
   "execution_count": 23,
   "metadata": {},
   "outputs": [],
   "source": [
    "   \n",
    "try:\n",
    "    plt.figure(figsize=(10, 6))\n",
    "    sns.countplot(train['OldvNew'])\n",
    "\n",
    "    fig, ax = plt.subplots(1,4,figsize=(20,6))\n",
    "    sns.countplot(train['OldvNew'], ax=ax[0])\n",
    "    sns.countplot(train['Property Type'], ax=ax[1])\n",
    "    sns.countplot(train['Duration'], ax=ax[2])\n",
    "    sns.countplot(train['month'], ax=ax[3])\n",
    "except:\n",
    "    pass"
   ]
  },
  {
   "cell_type": "code",
   "execution_count": 54,
   "metadata": {},
   "outputs": [],
   "source": [
    "from sklearn.model_selection import KFold, StratifiedKFold\n",
    "from sklearn.metrics import roc_auc_score, f1_score, r2_score\n",
    "from sklearn.metrics import classification_report as cr\n",
    "from catboost import Pool, CatBoostClassifier, CatBoostRegressor\n",
    "import lightgbm as lgb\n",
    "import xgboost as xgb\n"
   ]
  },
  {
   "cell_type": "code",
   "execution_count": null,
   "metadata": {},
   "outputs": [],
   "source": []
  },
  {
   "cell_type": "code",
   "execution_count": 67,
   "metadata": {},
   "outputs": [],
   "source": [
    "def train_xgb_model(X_train, y_train, X_valid, y_valid, features, param, X_test, \n",
    "                    num_round):\n",
    "    \"\"\"\n",
    "    Args:\n",
    "        X_train, X_valid: training and valid data\n",
    "        y_train, y_valid: training and valid target\n",
    "        X_test: test-data\n",
    "        features: training features\n",
    "    Return:\n",
    "        oof-pred, test_preds, model, model_imp\n",
    "    \"\"\"\n",
    "    _train = xgb.DMatrix(X_train[features], label=y_train, feature_names=list(features))\n",
    "    _valid = xgb.DMatrix(X_valid[features], label=y_valid,feature_names=list(features))\n",
    "    \n",
    "    watchlist = [(_valid, 'valid')]\n",
    "    clf = xgb.train(dtrain=_train, \n",
    "                    num_boost_round=num_round, \n",
    "                    evals=watchlist,\n",
    "                    early_stopping_rounds=25, \n",
    "                    verbose_eval=200, \n",
    "                    params=param)\n",
    "    \n",
    "    valid_frame = xgb.DMatrix(X_valid[features],feature_names=list(features))\n",
    "    oof  = clf.predict(valid_frame, ntree_limit=clf.best_ntree_limit)\n",
    "\n",
    "\n",
    "    test_frame = xgb.DMatrix(X_test[features],feature_names=list(features))\n",
    "    test_pred = clf.predict(test_frame, ntree_limit=clf.best_ntree_limit)\n",
    "\n",
    "    \n",
    "    xgb_imp = pd.DataFrame(data=[list(clf.get_fscore().keys()), \n",
    "                                 list(clf.get_fscore().values())]).T\n",
    "    xgb_imp.columns = ['feature','imp']\n",
    "    xgb_imp.imp = xgb_imp.imp.astype('float')\n",
    "    \n",
    "    return oof, test_pred, clf, xgb_imp\n",
    "\n",
    "\n",
    "def run_cv_xgb(train_df, target, test_df, depth=4, num_rounds=1000):\n",
    "\n",
    "    features = train_df.columns\n",
    "    params = {\n",
    "        'eval_metric'     : 'mae',\n",
    "        'seed'            : 1337,\n",
    "        'eta'             : 0.05,\n",
    "        'subsample'       : 0.7,\n",
    "        'colsample_bytree': 0.5,\n",
    "        'silent'          : 1,\n",
    "        'nthread'         : 4,\n",
    "        'objective'       : 'reg:linear',\n",
    "        'max_depth'       : depth,\n",
    "        'alpha'           : 0.005\n",
    "    }\n",
    "    \n",
    "    n_splits = 2\n",
    "    random_seed = 1234\n",
    "    feature_imp = pd.DataFrame()\n",
    "    \n",
    "    folds = KFold(n_splits=n_splits, shuffle=True, random_state=random_seed)\n",
    "    oof_xgb = np.zeros(len(train_df))\n",
    "    predictions = np.zeros((len(test_df),n_splits))\n",
    "    clfs = []\n",
    "##########################\n",
    "    for fold_, (train_index, valid_index) in enumerate(folds.split(train_df)):\n",
    "        print(\"Fold {}\".format(fold_), end=\" \")\n",
    "    \n",
    "        y_train, y_valid = target.iloc[train_index], target.iloc[valid_index]\n",
    "        X_train, X_valid = train_df.iloc[train_index,:], train_df.iloc[valid_index,:]\n",
    "        features = X_train.columns\n",
    "        print(X_train.shape, X_valid.shape)\n",
    "        \n",
    "\n",
    "        num_rounds = num_rounds\n",
    "        oof, test_pred, clf, xgb_imp = train_xgb_model(X_train, y_train, \n",
    "                                                       X_valid, y_valid, \n",
    "                                                       features, params, \n",
    "                                                       test_df, num_rounds)\n",
    "        \n",
    "        xgb_imp['fold'] = fold_\n",
    "        feature_imp = pd.concat([feature_imp, xgb_imp], axis=0)\n",
    "    \n",
    "        oof_xgb[valid_index] = oof\n",
    "        predictions[:,fold_] = test_pred\n",
    "        clfs.append(clf)\n",
    "        \n",
    "        score = r2_score(y_valid, oof)\n",
    "        print( \"  R2 = \", score )\n",
    "        print(\"=\"*60)\n",
    "    \n",
    "    feature_imp.imp = feature_imp.imp.astype('float')\n",
    "    feature_imp = feature_imp.groupby(['feature'])['imp'].mean()\n",
    "    feature_imp = pd.DataFrame(data=[feature_imp.index, feature_imp.values]).T\n",
    "    feature_imp.columns=['feature','imp']\n",
    "    feature_imp = feature_imp.sort_values(by='imp')\n",
    "\n",
    "\n",
    "    return clfs, feature_imp, oof_xgb, predictions"
   ]
  },
  {
   "cell_type": "code",
   "execution_count": null,
   "metadata": {},
   "outputs": [],
   "source": []
  },
  {
   "cell_type": "code",
   "execution_count": null,
   "metadata": {},
   "outputs": [],
   "source": [
    "try:\n",
    "    train1.drop('TID', axis=1, inplace=True)\n",
    "    test1.drop('TID', axis=1, inplace=True)\n",
    "except:\n",
    "    pass"
   ]
  },
  {
   "cell_type": "code",
   "execution_count": 58,
   "metadata": {},
   "outputs": [
    {
     "name": "stdout",
     "output_type": "stream",
     "text": [
      "(1219110, 38) (2066, 36) (1221176, 38)\n"
     ]
    }
   ],
   "source": [
    "df = train1.append(test1)\n",
    "print(train1.shape, test1.shape, df.shape)\n",
    "\n",
    "cat_cols = test1.select_dtypes(\"object\").columns\n",
    "for col in cat_cols:\n",
    "    df[col] = pd.factorize(df[col])[0]\n",
    "    \n",
    "    \n",
    "del df\n",
    "gc.collect()"
   ]
  },
  {
   "cell_type": "code",
   "execution_count": 63,
   "metadata": {},
   "outputs": [
    {
     "name": "stdout",
     "output_type": "stream",
     "text": [
      "(1219110, 38) (2066, 38)\n"
     ]
    }
   ],
   "source": [
    "train1 = df.iloc[:train1.shape[0]]\n",
    "test1  = df.iloc[train1.shape[0]:]\n",
    "print(train1.shape, test1.shape)"
   ]
  },
  {
   "cell_type": "code",
   "execution_count": 68,
   "metadata": {},
   "outputs": [
    {
     "name": "stdout",
     "output_type": "stream",
     "text": [
      "Fold 0 (609555, 36) (609555, 36)\n",
      "[0]\tvalid-rmse:4.75351\n",
      "Will train until valid-rmse hasn't improved in 25 rounds.\n",
      "[99]\tvalid-rmse:0.580609\n",
      "  R2 =  0.39345480074048966\n",
      "============================================================\n",
      "Fold 1 (609555, 36) (609555, 36)\n",
      "[0]\tvalid-rmse:4.75315\n",
      "Will train until valid-rmse hasn't improved in 25 rounds.\n",
      "[99]\tvalid-rmse:0.583261\n",
      "  R2 =  0.3891523743111034\n",
      "============================================================\n"
     ]
    }
   ],
   "source": [
    "xgb1 = run_cv_xgb(train1.drop(['LogPrice', 'Price'], axis=1), train1['LogPrice'], test1, depth=3, num_rounds=100)"
   ]
  },
  {
   "cell_type": "code",
   "execution_count": 69,
   "metadata": {},
   "outputs": [
    {
     "name": "stdout",
     "output_type": "stream",
     "text": [
      "Fold 0 (609555, 36) (609555, 36)\n",
      "[0]\tvalid-rmse:4.75338\n",
      "Will train until valid-rmse hasn't improved in 25 rounds.\n",
      "[200]\tvalid-rmse:0.52962\n",
      "[400]\tvalid-rmse:0.502817\n",
      "[600]\tvalid-rmse:0.491999\n",
      "[800]\tvalid-rmse:0.48486\n",
      "[999]\tvalid-rmse:0.480561\n",
      "  R2 =  0.5844789367177252\n",
      "============================================================\n",
      "Fold 1 (609555, 36) (609555, 36)\n",
      "[0]\tvalid-rmse:4.75296\n",
      "Will train until valid-rmse hasn't improved in 25 rounds.\n",
      "[200]\tvalid-rmse:0.528929\n",
      "[400]\tvalid-rmse:0.504733\n",
      "[600]\tvalid-rmse:0.492245\n",
      "[800]\tvalid-rmse:0.48622\n",
      "[999]\tvalid-rmse:0.481512\n",
      "  R2 =  0.5836856330811937\n",
      "============================================================\n"
     ]
    }
   ],
   "source": [
    "xgb2 = run_cv_xgb(train1.drop(['LogPrice', 'Price'], axis=1), train1['LogPrice'], test1, depth=4, num_rounds=1000)"
   ]
  },
  {
   "cell_type": "code",
   "execution_count": 74,
   "metadata": {},
   "outputs": [
    {
     "data": {
      "text/plain": [
       "<BarContainer object of 36 artists>"
      ]
     },
     "execution_count": 74,
     "metadata": {},
     "output_type": "execute_result"
    },
    {
     "data": {
      "image/png": "[encoded data removed]",
      "text/plain": [
       "<Figure size 864x1080 with 1 Axes>"
      ]
     },
     "metadata": {
      "needs_background": "light"
     },
     "output_type": "display_data"
    }
   ],
   "source": [
    "imp_lgb2 = xgb2[1]\n",
    "imp_lgb2.imp = imp_lgb2.imp.astype('float')\n",
    "imp_lgb2 = imp_lgb2.groupby(['feature'])['imp'].mean()\n",
    "imp_lgb2 = pd.DataFrame(data=[imp_lgb2.index, imp_lgb2.values]).T\n",
    "imp_lgb2.columns=['feature','imp']\n",
    "imp_lgb2 = imp_lgb2.sort_values(by='imp')\n",
    "plt.figure(figsize=(12,15))\n",
    "plt.barh(imp_lgb2.feature, imp_lgb2.imp)"
   ]
  },
  {
   "cell_type": "code",
   "execution_count": 78,
   "metadata": {},
   "outputs": [],
   "source": [
    "# np.save('xgb_pred.npy', xgb2[3])\n",
    "# np.save('xgb_oof.npy', xgb2[2])\n"
   ]
  },
  {
   "cell_type": "code",
   "execution_count": 79,
   "metadata": {},
   "outputs": [],
   "source": [
    "for i in range(10):\n",
    "    gc.collect()"
   ]
  },
  {
   "cell_type": "code",
   "execution_count": 82,
   "metadata": {},
   "outputs": [],
   "source": [
    "def train_lgb_model(X_train, y_train, X_valid, y_valid, features, param, X_test, num_round):\n",
    "    \"\"\"\n",
    "    Args:\n",
    "        X_train, X_valid: training and valid data\n",
    "        y_train, y_valid: training and valid target\n",
    "        X_test: test-data\n",
    "        features: training features\n",
    "    Return:\n",
    "        oof-pred, test_preds model, model_imp\n",
    "    \"\"\"\n",
    "    _train = lgb.Dataset(X_train[features], label=y_train, feature_name=list(features))\n",
    "    _valid = lgb.Dataset(X_valid[features], label=y_valid,feature_name=list(features))\n",
    "    \n",
    "    clf = lgb.train(param, _train, num_round, \n",
    "                    valid_sets = [_train, _valid], \n",
    "                    verbose_eval=200, \n",
    "                    early_stopping_rounds = 25)                  \n",
    "    \n",
    "    oof = clf.predict(X_valid[features], num_iteration=clf.best_iteration)\n",
    "    test_pred = clf.predict(X_test[features], num_iteration=clf.best_iteration)\n",
    "    \n",
    "    lgb_imp = pd.DataFrame(data=[clf.feature_name(), list(clf.feature_importance())]).T\n",
    "    lgb_imp.columns = ['feature','imp']\n",
    "    \n",
    "    return oof, test_pred, clf, lgb_imp\n",
    "    \n",
    "\n",
    "\n",
    "\n",
    "def run_cv_lgb(train_df, target, test_df, leaves=None, num_round=1000):\n",
    "\n",
    "    param = {\n",
    "        'bagging_freq'           : 5,\n",
    "        'bagging_fraction'       : 0.5,\n",
    "        'boost_from_average'     : 'false',\n",
    "        'boost'                  : 'gbdt',\n",
    "        'feature_fraction'       : 0.6,\n",
    "        'learning_rate'          : 0.01,\n",
    "        'max_depth'              : -1,\n",
    "        'metric'                 : 'mean_absolute_error',\n",
    "        'min_data_in_leaf'       : 100,\n",
    "#         'min_sum_hessian_in_leaf': 10.0,\n",
    "        'num_leaves'             : 30,\n",
    "        'num_threads'            : 4,\n",
    "        'tree_learner'           : 'serial',\n",
    "        'objective'              : 'regression',\n",
    "        'verbosity'              : 1,\n",
    "    #     'lambda_l1'              : 0.001,\n",
    "        'lambda_l2'              : 0.1\n",
    "    }   \n",
    "    if leaves is not None:\n",
    "        param['num_leaves'] = leaves\n",
    "        print(\"using leaves: \", param['num_leaves'])\n",
    "\n",
    "    random_seed = 1234\n",
    "    n_splits = 2\n",
    "#     num_round = 10000\n",
    "    feature_imp = pd.DataFrame()\n",
    "    \n",
    "    folds = KFold(n_splits=n_splits, shuffle=True, random_state=random_seed)\n",
    "    oof_lgb = np.zeros(len(train_df))\n",
    "    predictions = np.zeros((len(test_df),n_splits))\n",
    "\n",
    "    clfs = []\n",
    "    \n",
    "    for fold_, (train_index, valid_index) in enumerate(folds.split(train_df)):\n",
    "        print(\"Fold {}\".format(fold_), end=\" \")\n",
    "    \n",
    "        y_train, y_valid = target.iloc[train_index], target.iloc[valid_index]\n",
    "        X_train, X_valid = train_df.iloc[train_index,:], train_df.iloc[valid_index,:]\n",
    "        features = X_train.columns\n",
    "        print(X_train.shape, X_valid.shape)\n",
    "        \n",
    "\n",
    "        oof, test_pred, clf, lgb_imp = train_lgb_model(X_train, y_train, \n",
    "                                                       X_valid, y_valid, \n",
    "                                                       features, param, \n",
    "                                                       test_df, num_round)\n",
    "        lgb_imp['fold'] = fold_\n",
    "        feature_imp = pd.concat([feature_imp, lgb_imp], axis=0)\n",
    "    \n",
    "        oof_lgb[valid_index] = oof\n",
    "        predictions[:,fold_] = test_pred\n",
    "        clfs.append(clf)\n",
    "        \n",
    "        score = r2_score(y_valid, oof)\n",
    "        print( \"  R2 = \", score )\n",
    "        print(\"=\"*60)\n",
    "    \n",
    "    feature_imp.imp = feature_imp.imp.astype('float')\n",
    "    feature_imp = feature_imp.groupby(['feature'])['imp'].mean()\n",
    "    feature_imp = pd.DataFrame(data=[feature_imp.index, feature_imp.values]).T\n",
    "    feature_imp.columns=['feature','imp']\n",
    "    feature_imp = feature_imp.sort_values(by='imp')\n",
    "\n",
    "    return clfs, feature_imp, oof_lgb, predictions\n"
   ]
  },
  {
   "cell_type": "code",
   "execution_count": null,
   "metadata": {},
   "outputs": [],
   "source": []
  },
  {
   "cell_type": "code",
   "execution_count": 105,
   "metadata": {},
   "outputs": [
    {
     "data": {
      "text/plain": [
       "2461"
      ]
     },
     "execution_count": 105,
     "metadata": {},
     "output_type": "execute_result"
    }
   ],
   "source": [
    "gc.collect()"
   ]
  },
  {
   "cell_type": "code",
   "execution_count": 84,
   "metadata": {},
   "outputs": [
    {
     "name": "stdout",
     "output_type": "stream",
     "text": [
      "using leaves:  50\n",
      "Fold 0 (609555, 36) (609555, 36)\n",
      "Training until validation scores don't improve for 25 rounds.\n",
      "[200]\ttraining's l1: 0.774743\tvalid_1's l1: 0.77527\n",
      "[400]\ttraining's l1: 0.353252\tvalid_1's l1: 0.354224\n",
      "Did not meet early stopping. Best iteration is:\n",
      "[500]\ttraining's l1: 0.336591\tvalid_1's l1: 0.337771\n",
      "  R2 =  0.5428048484946025\n",
      "============================================================\n",
      "Fold 1 (609555, 36) (609555, 36)\n",
      "Training until validation scores don't improve for 25 rounds.\n",
      "[200]\ttraining's l1: 0.774702\tvalid_1's l1: 0.774556\n",
      "[400]\ttraining's l1: 0.352815\tvalid_1's l1: 0.353147\n",
      "Did not meet early stopping. Best iteration is:\n",
      "[500]\ttraining's l1: 0.337022\tvalid_1's l1: 0.337623\n",
      "  R2 =  0.5427814156301554\n",
      "============================================================\n"
     ]
    }
   ],
   "source": [
    "lgb1 = run_cv_lgb(train1.drop(['LogPrice', 'Price'], axis=1), train1['LogPrice'], test1, leaves=50, num_round=500)\n"
   ]
  },
  {
   "cell_type": "code",
   "execution_count": null,
   "metadata": {},
   "outputs": [],
   "source": []
  },
  {
   "cell_type": "code",
   "execution_count": 85,
   "metadata": {},
   "outputs": [
    {
     "name": "stdout",
     "output_type": "stream",
     "text": [
      "using leaves:  70\n",
      "Fold 0 (609555, 36) (609555, 36)\n",
      "Training until validation scores don't improve for 25 rounds.\n",
      "[200]\ttraining's l1: 0.772322\tvalid_1's l1: 0.773006\n",
      "[400]\ttraining's l1: 0.344911\tvalid_1's l1: 0.346209\n",
      "[600]\ttraining's l1: 0.321975\tvalid_1's l1: 0.323913\n",
      "[800]\ttraining's l1: 0.315248\tvalid_1's l1: 0.31787\n",
      "[1000]\ttraining's l1: 0.310398\tvalid_1's l1: 0.313616\n",
      "[1200]\ttraining's l1: 0.306328\tvalid_1's l1: 0.310106\n",
      "[1400]\ttraining's l1: 0.303211\tvalid_1's l1: 0.307571\n",
      "[1600]\ttraining's l1: 0.300499\tvalid_1's l1: 0.305401\n",
      "[1800]\ttraining's l1: 0.298319\tvalid_1's l1: 0.303807\n",
      "[2000]\ttraining's l1: 0.29641\tvalid_1's l1: 0.302488\n",
      "[2200]\ttraining's l1: 0.294591\tvalid_1's l1: 0.301226\n",
      "[2400]\ttraining's l1: 0.293119\tvalid_1's l1: 0.300311\n",
      "[2600]\ttraining's l1: 0.291674\tvalid_1's l1: 0.29945\n",
      "[2800]\ttraining's l1: 0.290317\tvalid_1's l1: 0.298654\n",
      "[3000]\ttraining's l1: 0.288989\tvalid_1's l1: 0.297834\n",
      "[3200]\ttraining's l1: 0.287843\tvalid_1's l1: 0.297242\n",
      "[3400]\ttraining's l1: 0.286717\tvalid_1's l1: 0.296655\n",
      "[3600]\ttraining's l1: 0.285665\tvalid_1's l1: 0.296109\n",
      "[3800]\ttraining's l1: 0.284717\tvalid_1's l1: 0.295695\n",
      "[4000]\ttraining's l1: 0.283755\tvalid_1's l1: 0.295238\n",
      "[4200]\ttraining's l1: 0.282763\tvalid_1's l1: 0.29476\n",
      "[4400]\ttraining's l1: 0.281816\tvalid_1's l1: 0.294311\n",
      "[4600]\ttraining's l1: 0.280938\tvalid_1's l1: 0.293945\n",
      "[4800]\ttraining's l1: 0.280091\tvalid_1's l1: 0.293584\n",
      "[5000]\ttraining's l1: 0.279287\tvalid_1's l1: 0.293269\n",
      "Did not meet early stopping. Best iteration is:\n",
      "[5000]\ttraining's l1: 0.279287\tvalid_1's l1: 0.293269\n",
      "  R2 =  0.6309007539417804\n",
      "============================================================\n",
      "Fold 1 (609555, 36) (609555, 36)\n",
      "Training until validation scores don't improve for 25 rounds.\n",
      "[200]\ttraining's l1: 0.772207\tvalid_1's l1: 0.772088\n",
      "[400]\ttraining's l1: 0.344541\tvalid_1's l1: 0.345122\n",
      "[600]\ttraining's l1: 0.322376\tvalid_1's l1: 0.323526\n",
      "[800]\ttraining's l1: 0.31551\tvalid_1's l1: 0.317159\n",
      "[1000]\ttraining's l1: 0.310363\tvalid_1's l1: 0.312488\n",
      "[1200]\ttraining's l1: 0.306681\tvalid_1's l1: 0.30931\n",
      "[1400]\ttraining's l1: 0.303675\tvalid_1's l1: 0.306812\n",
      "[1600]\ttraining's l1: 0.301001\tvalid_1's l1: 0.304637\n",
      "[1800]\ttraining's l1: 0.298663\tvalid_1's l1: 0.302819\n",
      "[2000]\ttraining's l1: 0.29681\tvalid_1's l1: 0.301508\n",
      "[2200]\ttraining's l1: 0.295169\tvalid_1's l1: 0.30044\n",
      "[2400]\ttraining's l1: 0.293748\tvalid_1's l1: 0.299572\n",
      "[2600]\ttraining's l1: 0.292142\tvalid_1's l1: 0.298473\n",
      "[2800]\ttraining's l1: 0.290791\tvalid_1's l1: 0.297648\n",
      "[3000]\ttraining's l1: 0.289557\tvalid_1's l1: 0.296933\n",
      "[3200]\ttraining's l1: 0.288458\tvalid_1's l1: 0.296383\n",
      "[3400]\ttraining's l1: 0.287316\tvalid_1's l1: 0.29572\n",
      "[3600]\ttraining's l1: 0.286286\tvalid_1's l1: 0.295185\n",
      "[3800]\ttraining's l1: 0.285287\tvalid_1's l1: 0.294688\n",
      "[4000]\ttraining's l1: 0.284287\tvalid_1's l1: 0.294185\n",
      "[4200]\ttraining's l1: 0.283343\tvalid_1's l1: 0.293775\n",
      "[4400]\ttraining's l1: 0.282406\tvalid_1's l1: 0.293314\n",
      "[4600]\ttraining's l1: 0.28153\tvalid_1's l1: 0.29294\n",
      "[4800]\ttraining's l1: 0.280677\tvalid_1's l1: 0.292564\n",
      "[5000]\ttraining's l1: 0.279814\tvalid_1's l1: 0.292178\n",
      "Did not meet early stopping. Best iteration is:\n",
      "[5000]\ttraining's l1: 0.279814\tvalid_1's l1: 0.292178\n",
      "  R2 =  0.632740108475685\n",
      "============================================================\n"
     ]
    }
   ],
   "source": [
    "lgb2 = run_cv_lgb(train1.drop(['LogPrice', 'Price'], axis=1), train1['LogPrice'], test1, leaves=70, num_round=5000)\n"
   ]
  },
  {
   "cell_type": "code",
   "execution_count": 86,
   "metadata": {},
   "outputs": [],
   "source": [
    "# np.save('lgb_pred.npy', lgb2[3])\n",
    "# np.save('lgb_oof.npy', lgb2[2])"
   ]
  },
  {
   "cell_type": "code",
   "execution_count": 87,
   "metadata": {},
   "outputs": [
    {
     "data": {
      "text/plain": [
       "<BarContainer object of 36 artists>"
      ]
     },
     "execution_count": 87,
     "metadata": {},
     "output_type": "execute_result"
    },
    {
     "data": {
      "image/png": "[encoded data removed]",
      "text/plain": [
       "<Figure size 864x1080 with 1 Axes>"
      ]
     },
     "metadata": {
      "needs_background": "light"
     },
     "output_type": "display_data"
    }
   ],
   "source": [
    "imp_lgb2 = lgb2[1]\n",
    "imp_lgb2.imp = imp_lgb2.imp.astype('float')\n",
    "imp_lgb2 = imp_lgb2.groupby(['feature'])['imp'].mean()\n",
    "imp_lgb2 = pd.DataFrame(data=[imp_lgb2.index, imp_lgb2.values]).T\n",
    "imp_lgb2.columns=['feature','imp']\n",
    "imp_lgb2 = imp_lgb2.sort_values(by='imp')\n",
    "plt.figure(figsize=(12,15))\n",
    "plt.barh(imp_lgb2.feature, imp_lgb2.imp)"
   ]
  },
  {
   "cell_type": "code",
   "execution_count": null,
   "metadata": {},
   "outputs": [],
   "source": []
  },
  {
   "cell_type": "code",
   "execution_count": 91,
   "metadata": {},
   "outputs": [
    {
     "name": "stdout",
     "output_type": "stream",
     "text": [
      "using leaves:  100\n",
      "Fold 0 (609555, 35) (609555, 35)\n",
      "Training until validation scores don't improve for 25 rounds.\n",
      "[200]\ttraining's l1: 0.770123\tvalid_1's l1: 0.771002\n",
      "[400]\ttraining's l1: 0.336315\tvalid_1's l1: 0.338075\n",
      "[600]\ttraining's l1: 0.314222\tvalid_1's l1: 0.316857\n",
      "[800]\ttraining's l1: 0.307882\tvalid_1's l1: 0.311479\n",
      "[1000]\ttraining's l1: 0.303077\tvalid_1's l1: 0.307496\n",
      "Did not meet early stopping. Best iteration is:\n",
      "[1000]\ttraining's l1: 0.303077\tvalid_1's l1: 0.307496\n",
      "  R2 =  0.6026058794701125\n",
      "============================================================\n",
      "Fold 1 (609555, 35) (609555, 35)\n",
      "Training until validation scores don't improve for 25 rounds.\n",
      "[200]\ttraining's l1: 0.770261\tvalid_1's l1: 0.770191\n",
      "[400]\ttraining's l1: 0.336344\tvalid_1's l1: 0.337315\n",
      "[600]\ttraining's l1: 0.31434\tvalid_1's l1: 0.316106\n",
      "[800]\ttraining's l1: 0.308179\tvalid_1's l1: 0.31072\n",
      "[1000]\ttraining's l1: 0.303535\tvalid_1's l1: 0.306819\n",
      "Did not meet early stopping. Best iteration is:\n",
      "[1000]\ttraining's l1: 0.303535\tvalid_1's l1: 0.306819\n",
      "  R2 =  0.6037430377835493\n",
      "============================================================\n"
     ]
    }
   ],
   "source": [
    "lgb3 = run_cv_lgb(train1.drop(['LogPrice', 'Price'], axis=1), train1['LogPrice'], test1, leaves=100, num_round=1000)\n"
   ]
  },
  {
   "cell_type": "code",
   "execution_count": null,
   "metadata": {},
   "outputs": [],
   "source": [
    "imp_lgb2 = lgb3[1]\n",
    "imp_lgb2.imp = imp_lgb2.imp.astype('float')\n",
    "imp_lgb2 = imp_lgb2.groupby(['feature'])['imp'].mean()\n",
    "imp_lgb2 = pd.DataFrame(data=[imp_lgb2.index, imp_lgb2.values]).T\n",
    "imp_lgb2.columns=['feature','imp']\n",
    "imp_lgb2 = imp_lgb2.sort_values(by='imp')\n",
    "plt.figure(figsize=(12,15))\n",
    "plt.barh(imp_lgb2.feature, imp_lgb2.imp)"
   ]
  },
  {
   "cell_type": "code",
   "execution_count": 93,
   "metadata": {},
   "outputs": [],
   "source": [
    "# np.save('lgb_pred2.npy', lgb3[3])\n",
    "# np.save('lgb_oof2.npy', lgb3[2])"
   ]
  },
  {
   "cell_type": "code",
   "execution_count": null,
   "metadata": {},
   "outputs": [],
   "source": []
  },
  {
   "cell_type": "code",
   "execution_count": null,
   "metadata": {},
   "outputs": [],
   "source": []
  },
  {
   "cell_type": "markdown",
   "metadata": {},
   "source": [
    "## meta feature preparetion for stacking"
   ]
  },
  {
   "cell_type": "code",
   "execution_count": 98,
   "metadata": {},
   "outputs": [
    {
     "data": {
      "text/plain": [
       "(2066, 5)"
      ]
     },
     "execution_count": 98,
     "metadata": {},
     "output_type": "execute_result"
    }
   ],
   "source": [
    "oofs = np.vstack([lgb1[2], lgb2[2], lgb3[2], xgb1[2], xgb2[2]]).T\n",
    "preds = np.vstack([lgb1[3].mean(1), lgb2[3].mean(1), lgb3[3].mean(1), xgb1[3].mean(1), xgb2[3].mean(1)]).T\n",
    "preds.shape"
   ]
  },
  {
   "cell_type": "code",
   "execution_count": 100,
   "metadata": {},
   "outputs": [
    {
     "name": "stdout",
     "output_type": "stream",
     "text": [
      "using leaves:  100\n",
      "Fold 0 (609555, 5) (609555, 5)\n",
      "Training until validation scores don't improve for 25 rounds.\n",
      "[200]\ttraining's l1: 0.758627\tvalid_1's l1: 0.760253\n",
      "[400]\ttraining's l1: 0.297786\tvalid_1's l1: 0.300657\n",
      "[600]\ttraining's l1: 0.286077\tvalid_1's l1: 0.289577\n",
      "Early stopping, best iteration is:\n",
      "[673]\ttraining's l1: 0.285806\tvalid_1's l1: 0.289503\n",
      "  R2 =  0.6356562504283303\n",
      "============================================================\n",
      "Fold 1 (609555, 5) (609555, 5)\n",
      "Training until validation scores don't improve for 25 rounds.\n",
      "[200]\ttraining's l1: 0.758769\tvalid_1's l1: 0.757516\n",
      "[400]\ttraining's l1: 0.298646\tvalid_1's l1: 0.299166\n",
      "[600]\ttraining's l1: 0.287164\tvalid_1's l1: 0.288531\n",
      "Early stopping, best iteration is:\n",
      "[635]\ttraining's l1: 0.287029\tvalid_1's l1: 0.288511\n",
      "  R2 =  0.6378939632366771\n",
      "============================================================\n"
     ]
    }
   ],
   "source": [
    "oofs = pd.DataFrame(data=oofs, columns=[\"col_\"+str(i) for i in range(oofs.shape[1])])\n",
    "preds = pd.DataFrame(data=preds, columns=[\"col_\"+str(i) for i in range(preds.shape[1])])\n",
    "\n",
    "lgb_m = run_cv_lgb(oofs, train1['LogPrice'], preds, leaves=100, num_round=1000)\n"
   ]
  },
  {
   "cell_type": "code",
   "execution_count": 103,
   "metadata": {},
   "outputs": [
    {
     "name": "stdout",
     "output_type": "stream",
     "text": [
      "Fold 0 (609555, 5) (609555, 5)\n",
      "[0]\tvalid-rmse:4.75169\n",
      "Will train until valid-rmse hasn't improved in 25 rounds.\n",
      "[200]\tvalid-rmse:0.456802\n",
      "[400]\tvalid-rmse:0.453637\n",
      "[600]\tvalid-rmse:0.4524\n",
      "[800]\tvalid-rmse:0.451689\n",
      "[999]\tvalid-rmse:0.451321\n",
      "  R2 =  0.6335060354326798\n",
      "============================================================\n",
      "Fold 1 (609555, 5) (609555, 5)\n",
      "[0]\tvalid-rmse:4.75125\n",
      "Will train until valid-rmse hasn't improved in 25 rounds.\n",
      "[200]\tvalid-rmse:0.45626\n",
      "[400]\tvalid-rmse:0.452979\n",
      "[600]\tvalid-rmse:0.451799\n",
      "[800]\tvalid-rmse:0.451003\n",
      "Stopping. Best iteration:\n",
      "[965]\tvalid-rmse:0.45058\n",
      "\n",
      "  R2 =  0.6354548746021504\n",
      "============================================================\n"
     ]
    }
   ],
   "source": [
    "xgb_m = run_cv_xgb(oofs, train1['LogPrice'], preds, depth=3, num_rounds=1000)"
   ]
  },
  {
   "cell_type": "code",
   "execution_count": 104,
   "metadata": {},
   "outputs": [],
   "source": [
    "# np.save('xgb_predm.npy', lgb_m[3])\n",
    "# np.save('xgb_oofm.npy', lgb_m[2])"
   ]
  },
  {
   "cell_type": "code",
   "execution_count": null,
   "metadata": {},
   "outputs": [],
   "source": []
  },
  {
   "cell_type": "code",
   "execution_count": null,
   "metadata": {},
   "outputs": [],
   "source": [
    "preds = lgb_m[3]"
   ]
  },
  {
   "cell_type": "code",
   "execution_count": 160,
   "metadata": {},
   "outputs": [],
   "source": [
    "import csv\n",
    "with open(\"meta.csv\", 'w', newline='') as myfile:\n",
    "    wr = csv.writer(myfile, quoting=csv.QUOTE_ALL)\n",
    "    wr.writerow(preds.mean(1))"
   ]
  },
  {
   "cell_type": "code",
   "execution_count": null,
   "metadata": {},
   "outputs": [],
   "source": []
  },
  {
   "cell_type": "code",
   "execution_count": null,
   "metadata": {},
   "outputs": [],
   "source": []
  },
  {
   "cell_type": "code",
   "execution_count": 111,
   "metadata": {},
   "outputs": [],
   "source": [
    "from sklearn.linear_model import LinearRegression\n",
    "from sklearn.linear_model import Ridge\n",
    "from sklearn.kernel_ridge import KernelRidge\n",
    "from sklearn.linear_model import Lasso\n",
    "from sklearn.linear_model import ElasticNet\n",
    "from sklearn.linear_model import BayesianRidge\n",
    "from sklearn.svm import SVR\n",
    "\n",
    "def regression_model(reg_name, alpha=0.1, alpha2=0.1, lambda1=0.1, lambda2=0.1, kernel='linear', degree=2):\n",
    "\n",
    "    if reg_name == 'bayesian_ridge':\n",
    "        params = {'alpha1' : alpha, \n",
    "                  'alpha2' : alpha2,\n",
    "                  'lambda1': lambda1,\n",
    "                  'lambda2': lambda2}   \n",
    "    else:\n",
    "        params = {'alpha': alpha}   \n",
    "\n",
    "\n",
    "    if reg_name == 'bayesian_ridge':\n",
    "        reg = BayesianRidge(\n",
    "            n_iter=300, tol=0.001, compute_score=False,\n",
    "            alpha_1=params['alpha1'], alpha_2=params['alpha2'], \n",
    "            lambda_1=params['lambda1'], lambda_2=params['lambda2'],  \n",
    "            fit_intercept=True, normalize=True, verbose=False)\n",
    "\n",
    "    elif reg_name is 'linear':\n",
    "        reg = LinearRegression(fit_intercept=True, normalize=True, n_jobs=-1)\n",
    "\n",
    "    elif reg_name is 'lasso':\n",
    "        reg = Lasso(\n",
    "            alpha=alpha, fit_intercept=True, normalize=True, \n",
    "            positive=False, random_state=1234, selection='cyclic')\n",
    "\n",
    "    \n",
    "    elif reg_name is 'elastic_net':\n",
    "        reg = ElasticNet(\n",
    "            alpha=alpha, l1_ratio=0.5, fit_intercept=True, \n",
    "            normalize=True, random_state=1234, selection='cyclic')\n",
    "    \n",
    "    elif reg_name is 'ridge':\n",
    "        reg = Ridge(\n",
    "            alpha=alpha, fit_intercept=True, normalize=True, \n",
    "            max_iter=500, random_state=1234)\n",
    "\n",
    "    elif reg_name is 'kernel_ridge':\n",
    "        reg = KernelRidge(\n",
    "            alpha=alpha, kernel=kernel, gamma=None, \n",
    "            degree=degree, coef0=1, kernel_params=None)\n",
    "    \n",
    "    elif reg_name is 'svm':\n",
    "        reg = SVR(\n",
    "            kernel=kernel, degree=degree, coef0=0.0, tol=0.001, \n",
    "            C=alpha, epsilon=0.1, shrinking=True, cache_size=200, \n",
    "            verbose=0, max_iter=500)\n",
    "    \n",
    "    else:\n",
    "        raise Exception('only [bayesian_ridge, lasso, elastic_net, ridge, kernel_ridge, svm] are supported')\n",
    "    \n",
    "    return reg\n",
    "\n"
   ]
  },
  {
   "cell_type": "code",
   "execution_count": 116,
   "metadata": {},
   "outputs": [],
   "source": [
    "# bayesian_ridge, lasso, elastic_net, ridge, kernel_ridge, svm\n",
    "def run_regressors(X_train, y_train, X_valid, y_valid):\n",
    "    for alpha in [0.01, 0.1, 1, 5, 10]:#, 20, 50, 100, 500, 1000]:\n",
    "        \n",
    "        las = regression_model('lasso', alpha=alpha)\n",
    "        las.fit(X_train, y_train)\n",
    "        \n",
    "        eln = regression_model('elastic_net', alpha=alpha)\n",
    "        eln.fit(X_train, y_train)\n",
    "        \n",
    "#         krid = regression_model('kernel_ridge', alpha=alpha, degree=1)\n",
    "#         krid.fit(X_train, y_train)\n",
    "        \n",
    "        rid = regression_model('ridge', alpha=alpha)\n",
    "        rid.fit(X_train, y_train)\n",
    "        \n",
    "        brid = regression_model('bayesian_ridge', alpha=alpha)\n",
    "        brid.fit(X_train, y_train)\n",
    "        \n",
    "        svc = regression_model('svm', kernel='linear', degree=1, alpha=alpha)\n",
    "        svc.fit(X_train, y_train)\n",
    "        print(\"lasso: {:.3f} :: elastic_net: {:.3f} :: kernel_ridge: {:.3f}  :: ridge: {:.3f} :: bay_ridge: {:.3f}  :: SVM: {:.3f}\".format(\n",
    "            las.score(X_valid, y_valid), eln.score(X_valid, y_valid), #krid.score(X_valid, y_valid), \n",
    "            rid.score(X_valid, y_valid), brid.score(X_valid, y_valid), svc.score(X_valid, y_valid)))\n",
    "\n"
   ]
  },
  {
   "cell_type": "code",
   "execution_count": null,
   "metadata": {},
   "outputs": [],
   "source": []
  },
  {
   "cell_type": "code",
   "execution_count": null,
   "metadata": {},
   "outputs": [],
   "source": []
  },
  {
   "cell_type": "code",
   "execution_count": 118,
   "metadata": {},
   "outputs": [
    {
     "name": "stdout",
     "output_type": "stream",
     "text": [
      "-1.5459236302195478e-06\n",
      "-1.5459236302195478e-06\n",
      "0.061707968978012784\n",
      "0.09127768030227057\n"
     ]
    },
    {
     "name": "stderr",
     "output_type": "stream",
     "text": [
      "/home/ankish/anaconda3/lib/python3.6/site-packages/sklearn/svm/base.py:244: ConvergenceWarning: Solver terminated early (max_iter=500).  Consider pre-processing your data with StandardScaler or MinMaxScaler.\n",
      "  % self.max_iter, ConvergenceWarning)\n"
     ]
    },
    {
     "name": "stdout",
     "output_type": "stream",
     "text": [
      "-2551554655666.9717\n"
     ]
    }
   ],
   "source": [
    "# alpha = 1\n",
    "\n",
    "# las = regression_model('lasso', alpha=alpha)\n",
    "# las.fit(X_train, y_train)\n",
    "# print(las.score(X_valid, y_valid))\n",
    "\n",
    "# eln = regression_model('elastic_net', alpha=alpha)\n",
    "# eln.fit(X_train, y_train)\n",
    "# print(eln.score(X_valid, y_valid))\n",
    "# #         krid = regression_model('kernel_ridge', alpha=alpha, degree=1)\n",
    "# #         krid.fit(X_train, y_train)\n",
    "\n",
    "# rid = regression_model('ridge', alpha=alpha)\n",
    "# rid.fit(X_train, y_train)\n",
    "# print(rid.score(X_valid, y_valid))\n",
    "\n",
    "# brid = regression_model('bayesian_ridge', alpha=alpha)\n",
    "# brid.fit(X_train, y_train)\n",
    "# print(brid.score(X_valid, y_valid))\n",
    "\n",
    "# svc = regression_model('svm', kernel='linear', degree=1, alpha=alpha)\n",
    "# svc.fit(X_train, y_train)\n",
    "# print(svc.score(X_valid, y_valid))\n"
   ]
  },
  {
   "cell_type": "code",
   "execution_count": null,
   "metadata": {},
   "outputs": [],
   "source": []
  },
  {
   "cell_type": "code",
   "execution_count": null,
   "metadata": {},
   "outputs": [],
   "source": []
  },
  {
   "cell_type": "code",
   "execution_count": null,
   "metadata": {},
   "outputs": [],
   "source": []
  }
 ],
 "metadata": {
  "kernelspec": {
   "display_name": "Python 3",
   "language": "python",
   "name": "python3"
  },
  "language_info": {
   "codemirror_mode": {
    "name": "ipython",
    "version": 3
   },
   "file_extension": ".py",
   "mimetype": "text/x-python",
   "name": "python",
   "nbconvert_exporter": "python",
   "pygments_lexer": "ipython3",
   "version": "3.6.8"
  }
 },
 "nbformat": 4,
 "nbformat_minor": 2
}
