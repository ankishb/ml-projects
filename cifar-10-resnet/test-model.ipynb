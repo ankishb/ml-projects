{
 "cells": [
  {
   "cell_type": "code",
   "execution_count": 1,
   "metadata": {},
   "outputs": [
    {
     "name": "stderr",
     "output_type": "stream",
     "text": [
      "Using TensorFlow backend.\n"
     ]
    }
   ],
   "source": [
    "'''\n",
    "#Train a simple deep CNN on the CIFAR10 small images dataset.\n",
    "It gets to 75% validation accuracy in 25 epochs, and 79% after 50 epochs.\n",
    "(it's still underfitting at that point, though).\n",
    "'''\n",
    "\n",
    "from __future__ import print_function\n",
    "import keras\n",
    "from keras.datasets import cifar10\n",
    "from keras.preprocessing.image import ImageDataGenerator\n",
    "from keras.models import Sequential\n",
    "from keras.layers import Dense, Dropout, Activation, Flatten\n",
    "from keras.layers import Conv2D, MaxPooling2D\n",
    "import os\n",
    "\n"
   ]
  },
  {
   "cell_type": "code",
   "execution_count": null,
   "metadata": {},
   "outputs": [],
   "source": [
    "_________________________________________________________________\n",
    "Layer (type)                 Output Shape              Param #   \n",
    "=================================================================\n",
    "conv2d_1 (Conv2D)            (None, 32, 32, 32)        896       \n",
    "_________________________________________________________________\n",
    "activation_1 (Activation)    (None, 32, 32, 32)        0         \n",
    "_________________________________________________________________\n",
    "conv2d_2 (Conv2D)            (None, 30, 30, 32)        9248      \n",
    "_________________________________________________________________\n",
    "activation_2 (Activation)    (None, 30, 30, 32)        0         \n",
    "_________________________________________________________________\n",
    "max_pooling2d_1 (MaxPooling2 (None, 15, 15, 32)        0         \n",
    "_________________________________________________________________\n",
    "dropout_1 (Dropout)          (None, 15, 15, 32)        0         \n",
    "_________________________________________________________________\n",
    "conv2d_3 (Conv2D)            (None, 15, 15, 64)        18496     \n",
    "_________________________________________________________________\n",
    "activation_3 (Activation)    (None, 15, 15, 64)        0         \n",
    "_________________________________________________________________\n",
    "conv2d_4 (Conv2D)            (None, 13, 13, 64)        36928     \n",
    "_________________________________________________________________\n",
    "activation_4 (Activation)    (None, 13, 13, 64)        0         \n",
    "_________________________________________________________________\n",
    "max_pooling2d_2 (MaxPooling2 (None, 6, 6, 64)          0         \n",
    "_________________________________________________________________\n",
    "dropout_2 (Dropout)          (None, 6, 6, 64)          0         \n",
    "\n",
    "                 \n",
    "                 \n",
    "_________________________________________________________________\n",
    "conv2d_5 (Conv2D)            (None, 6, 6, 128)         73856     \n",
    "_________________________________________________________________\n",
    "activation_5 (Activation)    (None, 6, 6, 128)         0         \n",
    "_________________________________________________________________\n",
    "conv2d_6 (Conv2D)            (None, 4, 4, 128)         147584    \n",
    "_________________________________________________________________\n",
    "activation_6 (Activation)    (None, 4, 4, 128)         0         \n",
    "_________________________________________________________________\n",
    "max_pooling2d_3 (MaxPooling2 (None, 2, 2, 128)         0         \n",
    "_________________________________________________________________\n",
    "dropout_3 (Dropout)          (None, 2, 2, 128)         0         \n",
    "_________________________________________________________________\n",
    "flatten_1 (Flatten)          (None, 512)               0         \n",
    "_________________________________________________________________\n",
    "dense_1 (Dense)              (None, 256)               131328    \n",
    "_________________________________________________________________\n",
    "activation_7 (Activation)    (None, 256)               0         \n",
    "_________________________________________________________________\n",
    "dropout_4 (Dropout)          (None, 256)               0         \n",
    "_________________________________________________________________\n",
    "dense_2 (Dense)              (None, 10)                2570      \n",
    "_________________________________________________________________\n",
    "activation_8 (Activation)    (None, 10)                0         \n",
    "=================================================================\n",
    "Total params: 420,906\n",
    "Trainable params: 420,906\n",
    "Non-trainable params: 0\n",
    "_________________________________________________________________\n"
   ]
  },
  {
   "cell_type": "code",
   "execution_count": 18,
   "metadata": {},
   "outputs": [
    {
     "name": "stdout",
     "output_type": "stream",
     "text": [
      "__________________________________________________________________________________________________\n",
      "Layer (type)                    Output Shape         Param #     Connected to                     \n",
      "==================================================================================================\n",
      "input_6 (InputLayer)            (None, 32, 32, 3)    0                                            \n",
      "__________________________________________________________________________________________________\n",
      "conv2d_33 (Conv2D)              (None, 32, 32, 32)   896         input_6[0][0]                    \n",
      "__________________________________________________________________________________________________\n",
      "conv2d_34 (Conv2D)              (None, 32, 32, 32)   9248        conv2d_33[0][0]                  \n",
      "__________________________________________________________________________________________________\n",
      "max_pooling2d_16 (MaxPooling2D) (None, 16, 16, 32)   0           conv2d_34[0][0]                  \n",
      "__________________________________________________________________________________________________\n",
      "dropout_21 (Dropout)            (None, 16, 16, 32)   0           max_pooling2d_16[0][0]           \n",
      "__________________________________________________________________________________________________\n",
      "conv2d_35 (Conv2D)              (None, 16, 16, 64)   18496       dropout_21[0][0]                 \n",
      "__________________________________________________________________________________________________\n",
      "conv2d_36 (Conv2D)              (None, 16, 16, 64)   36928       conv2d_35[0][0]                  \n",
      "__________________________________________________________________________________________________\n",
      "max_pooling2d_17 (MaxPooling2D) (None, 8, 8, 64)     0           conv2d_36[0][0]                  \n",
      "__________________________________________________________________________________________________\n",
      "dropout_22 (Dropout)            (None, 8, 8, 64)     0           max_pooling2d_17[0][0]           \n",
      "__________________________________________________________________________________________________\n",
      "conv2d_37 (Conv2D)              (None, 1, 1, 64)     262208      dropout_22[0][0]                 \n",
      "__________________________________________________________________________________________________\n",
      "conv2d_38 (Conv2D)              (None, 8, 8, 1)      65          dropout_22[0][0]                 \n",
      "__________________________________________________________________________________________________\n",
      "lambda_4 (Lambda)               (None, 8, 8, 64)     0           dropout_22[0][0]                 \n",
      "                                                                 conv2d_37[0][0]                  \n",
      "__________________________________________________________________________________________________\n",
      "lambda_5 (Lambda)               (None, 8, 8, 64)     0           dropout_22[0][0]                 \n",
      "                                                                 conv2d_38[0][0]                  \n",
      "__________________________________________________________________________________________________\n",
      "concatenate_2 (Concatenate)     (None, 8, 8, 192)    0           dropout_22[0][0]                 \n",
      "                                                                 lambda_4[0][0]                   \n",
      "                                                                 lambda_5[0][0]                   \n",
      "__________________________________________________________________________________________________\n",
      "conv2d_39 (Conv2D)              (None, 8, 8, 128)    221312      concatenate_2[0][0]              \n",
      "__________________________________________________________________________________________________\n",
      "conv2d_40 (Conv2D)              (None, 8, 8, 128)    147584      conv2d_39[0][0]                  \n",
      "__________________________________________________________________________________________________\n",
      "max_pooling2d_18 (MaxPooling2D) (None, 4, 4, 128)    0           conv2d_40[0][0]                  \n",
      "__________________________________________________________________________________________________\n",
      "dropout_23 (Dropout)            (None, 4, 4, 128)    0           max_pooling2d_18[0][0]           \n",
      "__________________________________________________________________________________________________\n",
      "flatten_6 (Flatten)             (None, 2048)         0           dropout_23[0][0]                 \n",
      "__________________________________________________________________________________________________\n",
      "dense_10 (Dense)                (None, 256)          524544      flatten_6[0][0]                  \n",
      "__________________________________________________________________________________________________\n",
      "dropout_24 (Dropout)            (None, 256)          0           dense_10[0][0]                   \n",
      "__________________________________________________________________________________________________\n",
      "dense_11 (Dense)                (None, 10)           2570        dropout_24[0][0]                 \n",
      "__________________________________________________________________________________________________\n",
      "activation_3 (Activation)       (None, 10)           0           dense_11[0][0]                   \n",
      "==================================================================================================\n",
      "Total params: 1,223,851\n",
      "Trainable params: 1,223,851\n",
      "Non-trainable params: 0\n",
      "__________________________________________________________________________________________________\n"
     ]
    }
   ],
   "source": [
    "# model = Sequential()\n",
    "inp = keras.models.Input(shape=(32,32,3))\n",
    "x = Conv2D(32, (3, 3), padding='same', activation='relu')(inp)\n",
    "x = Conv2D(32, (3, 3), padding='same', activation='relu')(x)\n",
    "x = MaxPooling2D((2,2))(x)\n",
    "x = Dropout(0.25)(x)\n",
    "\n",
    "x = Conv2D(64, (3, 3), padding='same', activation='relu')(x)\n",
    "x = Conv2D(64, (3, 3), padding='same', activation='relu')(x)\n",
    "x = MaxPooling2D((2,2))(x)\n",
    "x = Dropout(0.25)(x)\n",
    "\n",
    "skip = x\n",
    "#(None, 8, 8, 64) ==> (1, 1, 64)\n",
    "channel = Conv2D(64, (8,8), padding='valid', activation='sigmoid')(x)\n",
    "spatial = Conv2D(1, (1,1), padding='same', activation='sigmoid')(x)\n",
    "\n",
    "channel_att = keras.layers.Lambda(lambda x: x[0]*x[1])([skip,channel])\n",
    "spatial_att = keras.layers.Lambda(lambda x: x[0]*x[1])([skip,spatial])\n",
    "\n",
    "x = keras.layers.concatenate([skip,channel_att, spatial_att])\n",
    "##############################################################\n",
    "# import keras.backend as K\n",
    "\n",
    "# def myFunc(x):\n",
    "#     return x[0] * x[1]\n",
    "\n",
    "# x1 = keras.layers.GlobalAveragePooling2D()(x)\n",
    "# x1 = model.add(Lambda(lambda x: x ** 2)) \n",
    "# cross1 = Lambda(myFunc, output_shape=....)([d1,d4])\n",
    "##############################################################\n",
    "\n",
    "x = Conv2D(128, (3, 3), padding='same', activation='relu')(x)\n",
    "x = Conv2D(128, (3, 3), padding='same', activation='relu')(x)\n",
    "x = MaxPooling2D((2,2))(x)\n",
    "x = Dropout(0.25)(x)\n",
    "\n",
    "# x = Conv2D(32, (3, 3), padding='same', activation='relu')(inp)\n",
    "# x = Conv2D(32, (3, 3), padding='same', activation='relu')(x)\n",
    "# x = MaxPooling2D((2,2))(x)\n",
    "# x = Dropout(0.25)(x)\n",
    "\n",
    "x = Flatten()(x)\n",
    "x = Dense(256, activation='relu')(x)\n",
    "x = Dropout(0.25)(x)\n",
    "\n",
    "x = Dense(10, activation='linear')(x)\n",
    "\n",
    "x = keras.layers.Activation('softmax')(x)\n",
    "model = keras.Model(inputs=inp, outputs=x)\n",
    "\n",
    "\n",
    "model.summary()"
   ]
  },
  {
   "cell_type": "code",
   "execution_count": 7,
   "metadata": {},
   "outputs": [
    {
     "data": {
      "text/plain": [
       "<tf.Tensor 'conv2d_29/Sigmoid:0' shape=(?, 1, 1, 64) dtype=float32>"
      ]
     },
     "execution_count": 7,
     "metadata": {},
     "output_type": "execute_result"
    }
   ],
   "source": [
    "channel"
   ]
  },
  {
   "cell_type": "code",
   "execution_count": 8,
   "metadata": {},
   "outputs": [],
   "source": [
    "import keras.backend as k"
   ]
  },
  {
   "cell_type": "code",
   "execution_count": 11,
   "metadata": {},
   "outputs": [
    {
     "data": {
      "text/plain": [
       "<tf.Tensor 'concat_2:0' shape=(?, 8, 8, 64) dtype=float32>"
      ]
     },
     "execution_count": 11,
     "metadata": {},
     "output_type": "execute_result"
    }
   ],
   "source": [
    "\n",
    "k.repeat_elements(k.repeat_elements(channel,8,axis=1),8,axis=2)\n"
   ]
  },
  {
   "cell_type": "code",
   "execution_count": 13,
   "metadata": {},
   "outputs": [
    {
     "data": {
      "text/plain": [
       "<tf.Tensor 'lambda_2/mul:0' shape=(?, 8, 8, 64) dtype=float32>"
      ]
     },
     "execution_count": 13,
     "metadata": {},
     "output_type": "execute_result"
    }
   ],
   "source": [
    "keras.layers.Lambda(lambda x: x[0]*x[1])([skip,channel])"
   ]
  },
  {
   "cell_type": "code",
   "execution_count": 15,
   "metadata": {},
   "outputs": [
    {
     "data": {
      "text/plain": [
       "(<tf.Tensor 'dropout_18/cond/Merge:0' shape=(?, 8, 8, 64) dtype=float32>,\n",
       " <tf.Tensor 'conv2d_30/Sigmoid:0' shape=(?, 8, 8, 1) dtype=float32>)"
      ]
     },
     "execution_count": 15,
     "metadata": {},
     "output_type": "execute_result"
    }
   ],
   "source": [
    "skip, spatial"
   ]
  },
  {
   "cell_type": "code",
   "execution_count": 16,
   "metadata": {},
   "outputs": [
    {
     "data": {
      "text/plain": [
       "<tf.Tensor 'lambda_3/mul:0' shape=(?, 8, 8, 64) dtype=float32>"
      ]
     },
     "execution_count": 16,
     "metadata": {},
     "output_type": "execute_result"
    }
   ],
   "source": [
    "keras.layers.Lambda(lambda x: x[0]*x[1])([skip,spatial])"
   ]
  },
  {
   "cell_type": "code",
   "execution_count": 17,
   "metadata": {},
   "outputs": [
    {
     "data": {
      "text/plain": [
       "<tf.Tensor 'concatenate_1/concat:0' shape=(?, 8, 8, 128) dtype=float32>"
      ]
     },
     "execution_count": 17,
     "metadata": {},
     "output_type": "execute_result"
    }
   ],
   "source": [
    "keras.layers.concatenate([skip,skip])"
   ]
  },
  {
   "cell_type": "code",
   "execution_count": null,
   "metadata": {},
   "outputs": [],
   "source": []
  }
 ],
 "metadata": {
  "kernelspec": {
   "display_name": "Python 3",
   "language": "python",
   "name": "python3"
  },
  "language_info": {
   "codemirror_mode": {
    "name": "ipython",
    "version": 2
   },
   "file_extension": ".py",
   "mimetype": "text/x-python",
   "name": "python",
   "nbconvert_exporter": "python",
   "pygments_lexer": "ipython2",
   "version": "2.7.15"
  }
 },
 "nbformat": 4,
 "nbformat_minor": 2
}
